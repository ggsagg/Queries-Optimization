{
 "cells": [
  {
   "cell_type": "markdown",
   "metadata": {},
   "source": [
    "# Optimización de Consultas"
   ]
  },
  {
   "cell_type": "markdown",
   "metadata": {},
   "source": [
    "creamos la sesión de Spark"
   ]
  },
  {
   "cell_type": "code",
   "execution_count": 1,
   "metadata": {},
   "outputs": [
    {
     "name": "stdout",
     "output_type": "stream",
     "text": [
      "Loading spark-stubs\n",
      "Getting spark JARs\n"
     ]
    },
    {
     "name": "stderr",
     "output_type": "stream",
     "text": [
      "log4j:WARN No appenders could be found for logger (org.eclipse.jetty.util.log).\n",
      "log4j:WARN Please initialize the log4j system properly.\n",
      "log4j:WARN See http://logging.apache.org/log4j/1.2/faq.html#noconfig for more info.\n"
     ]
    },
    {
     "name": "stdout",
     "output_type": "stream",
     "text": [
      "Creating SparkSession\n"
     ]
    },
    {
     "name": "stderr",
     "output_type": "stream",
     "text": [
      "Using Spark's default log4j profile: org/apache/spark/log4j-defaults.properties\n",
      "21/06/11 14:53:20 INFO SparkContext: Running Spark version 2.4.5\n",
      "21/06/11 14:53:21 WARN NativeCodeLoader: Unable to load native-hadoop library for your platform... using builtin-java classes where applicable\n",
      "21/06/11 14:53:21 INFO SparkContext: Submitted application: Queries Optimization\n",
      "21/06/11 14:53:21 INFO SecurityManager: Changing view acls to: jovyan\n",
      "21/06/11 14:53:21 INFO SecurityManager: Changing modify acls to: jovyan\n",
      "21/06/11 14:53:21 INFO SecurityManager: Changing view acls groups to: \n",
      "21/06/11 14:53:21 INFO SecurityManager: Changing modify acls groups to: \n",
      "21/06/11 14:53:21 INFO SecurityManager: SecurityManager: authentication disabled; ui acls disabled; users  with view permissions: Set(jovyan); groups with view permissions: Set(); users  with modify permissions: Set(jovyan); groups with modify permissions: Set()\n",
      "21/06/11 14:53:22 INFO Utils: Successfully started service 'sparkDriver' on port 39307.\n",
      "21/06/11 14:53:22 INFO SparkEnv: Registering MapOutputTracker\n",
      "21/06/11 14:53:22 INFO SparkEnv: Registering BlockManagerMaster\n",
      "21/06/11 14:53:22 INFO BlockManagerMasterEndpoint: Using org.apache.spark.storage.DefaultTopologyMapper for getting topology information\n",
      "21/06/11 14:53:22 INFO BlockManagerMasterEndpoint: BlockManagerMasterEndpoint up\n",
      "21/06/11 14:53:22 INFO DiskBlockManager: Created local directory at /tmp/blockmgr-7716724f-ae3e-46b5-b7f0-3ae7d2a7723e\n",
      "21/06/11 14:53:22 INFO MemoryStore: MemoryStore started with capacity 366.3 MB\n",
      "21/06/11 14:53:22 INFO SparkEnv: Registering OutputCommitCoordinator\n",
      "21/06/11 14:53:23 INFO Utils: Successfully started service 'SparkUI' on port 4040.\n",
      "21/06/11 14:53:23 INFO SparkUI: Bound SparkUI to 0.0.0.0, and started at http://0a2bcb32361b:4040\n",
      "21/06/11 14:53:23 INFO SparkContext: Added JAR file:/home/jovyan/.cache/coursier/v1/https/jitpack.io/com/github/jupyter/jvm-repr/0.4.0/jvm-repr-0.4.0-sources.jar at spark://0a2bcb32361b:39307/jars/jvm-repr-0.4.0-sources.jar with timestamp 1623423203256\n",
      "21/06/11 14:53:23 INFO SparkContext: Added JAR file:/home/jovyan/.cache/coursier/v1/https/jitpack.io/com/github/jupyter/jvm-repr/0.4.0/jvm-repr-0.4.0.jar at spark://0a2bcb32361b:39307/jars/jvm-repr-0.4.0.jar with timestamp 1623423203258\n",
      "21/06/11 14:53:23 INFO SparkContext: Added JAR file:/home/jovyan/.cache/coursier/v1/https/repo1.maven.org/maven2/com/github/scopt/scopt_2.12/3.7.1/scopt_2.12-3.7.1-sources.jar at spark://0a2bcb32361b:39307/jars/scopt_2.12-3.7.1-sources.jar with timestamp 1623423203258\n",
      "21/06/11 14:53:23 INFO SparkContext: Added JAR file:/home/jovyan/.cache/coursier/v1/https/repo1.maven.org/maven2/com/github/scopt/scopt_2.12/3.7.1/scopt_2.12-3.7.1.jar at spark://0a2bcb32361b:39307/jars/scopt_2.12-3.7.1.jar with timestamp 1623423203259\n",
      "21/06/11 14:53:23 INFO SparkContext: Added JAR file:/home/jovyan/.cache/coursier/v1/https/repo1.maven.org/maven2/com/lihaoyi/ammonite-interp-api_2.12.10/1.7.4/ammonite-interp-api_2.12.10-1.7.4-sources.jar at spark://0a2bcb32361b:39307/jars/ammonite-interp-api_2.12.10-1.7.4-sources.jar with timestamp 1623423203259\n",
      "21/06/11 14:53:23 INFO SparkContext: Added JAR file:/home/jovyan/.cache/coursier/v1/https/repo1.maven.org/maven2/com/lihaoyi/ammonite-interp-api_2.12.10/1.7.4/ammonite-interp-api_2.12.10-1.7.4.jar at spark://0a2bcb32361b:39307/jars/ammonite-interp-api_2.12.10-1.7.4.jar with timestamp 1623423203259\n",
      "21/06/11 14:53:23 INFO SparkContext: Added JAR file:/home/jovyan/.cache/coursier/v1/https/repo1.maven.org/maven2/com/lihaoyi/ammonite-ops_2.12/1.7.4/ammonite-ops_2.12-1.7.4-sources.jar at spark://0a2bcb32361b:39307/jars/ammonite-ops_2.12-1.7.4-sources.jar with timestamp 1623423203260\n",
      "21/06/11 14:53:23 INFO SparkContext: Added JAR file:/home/jovyan/.cache/coursier/v1/https/repo1.maven.org/maven2/com/lihaoyi/ammonite-ops_2.12/1.7.4/ammonite-ops_2.12-1.7.4.jar at spark://0a2bcb32361b:39307/jars/ammonite-ops_2.12-1.7.4.jar with timestamp 1623423203260\n",
      "21/06/11 14:53:23 INFO SparkContext: Added JAR file:/home/jovyan/.cache/coursier/v1/https/repo1.maven.org/maven2/com/lihaoyi/ammonite-repl-api_2.12.10/1.7.4/ammonite-repl-api_2.12.10-1.7.4-sources.jar at spark://0a2bcb32361b:39307/jars/ammonite-repl-api_2.12.10-1.7.4-sources.jar with timestamp 1623423203260\n",
      "21/06/11 14:53:23 INFO SparkContext: Added JAR file:/home/jovyan/.cache/coursier/v1/https/repo1.maven.org/maven2/com/lihaoyi/ammonite-repl-api_2.12.10/1.7.4/ammonite-repl-api_2.12.10-1.7.4.jar at spark://0a2bcb32361b:39307/jars/ammonite-repl-api_2.12.10-1.7.4.jar with timestamp 1623423203260\n",
      "21/06/11 14:53:23 INFO SparkContext: Added JAR file:/home/jovyan/.cache/coursier/v1/https/repo1.maven.org/maven2/com/lihaoyi/ammonite-util_2.12/1.7.4/ammonite-util_2.12-1.7.4-sources.jar at spark://0a2bcb32361b:39307/jars/ammonite-util_2.12-1.7.4-sources.jar with timestamp 1623423203261\n",
      "21/06/11 14:53:23 INFO SparkContext: Added JAR file:/home/jovyan/.cache/coursier/v1/https/repo1.maven.org/maven2/com/lihaoyi/ammonite-util_2.12/1.7.4/ammonite-util_2.12-1.7.4.jar at spark://0a2bcb32361b:39307/jars/ammonite-util_2.12-1.7.4.jar with timestamp 1623423203261\n",
      "21/06/11 14:53:23 INFO SparkContext: Added JAR file:/home/jovyan/.cache/coursier/v1/https/repo1.maven.org/maven2/com/lihaoyi/fansi_2.12/0.2.7/fansi_2.12-0.2.7-sources.jar at spark://0a2bcb32361b:39307/jars/fansi_2.12-0.2.7-sources.jar with timestamp 1623423203261\n",
      "21/06/11 14:53:23 INFO SparkContext: Added JAR file:/home/jovyan/.cache/coursier/v1/https/repo1.maven.org/maven2/com/lihaoyi/fansi_2.12/0.2.7/fansi_2.12-0.2.7.jar at spark://0a2bcb32361b:39307/jars/fansi_2.12-0.2.7.jar with timestamp 1623423203261\n",
      "21/06/11 14:53:23 INFO SparkContext: Added JAR file:/home/jovyan/.cache/coursier/v1/https/repo1.maven.org/maven2/com/lihaoyi/geny_2.12/0.1.8/geny_2.12-0.1.8-sources.jar at spark://0a2bcb32361b:39307/jars/geny_2.12-0.1.8-sources.jar with timestamp 1623423203262\n",
      "21/06/11 14:53:23 INFO SparkContext: Added JAR file:/home/jovyan/.cache/coursier/v1/https/repo1.maven.org/maven2/com/lihaoyi/geny_2.12/0.1.8/geny_2.12-0.1.8.jar at spark://0a2bcb32361b:39307/jars/geny_2.12-0.1.8.jar with timestamp 1623423203262\n",
      "21/06/11 14:53:23 INFO SparkContext: Added JAR file:/home/jovyan/.cache/coursier/v1/https/repo1.maven.org/maven2/com/lihaoyi/os-lib_2.12/0.3.0/os-lib_2.12-0.3.0-sources.jar at spark://0a2bcb32361b:39307/jars/os-lib_2.12-0.3.0-sources.jar with timestamp 1623423203262\n",
      "21/06/11 14:53:23 INFO SparkContext: Added JAR file:/home/jovyan/.cache/coursier/v1/https/repo1.maven.org/maven2/com/lihaoyi/os-lib_2.12/0.3.0/os-lib_2.12-0.3.0.jar at spark://0a2bcb32361b:39307/jars/os-lib_2.12-0.3.0.jar with timestamp 1623423203262\n",
      "21/06/11 14:53:23 INFO SparkContext: Added JAR file:/home/jovyan/.cache/coursier/v1/https/repo1.maven.org/maven2/com/lihaoyi/pprint_2.12/0.5.5/pprint_2.12-0.5.5-sources.jar at spark://0a2bcb32361b:39307/jars/pprint_2.12-0.5.5-sources.jar with timestamp 1623423203263\n",
      "21/06/11 14:53:23 INFO SparkContext: Added JAR file:/home/jovyan/.cache/coursier/v1/https/repo1.maven.org/maven2/com/lihaoyi/pprint_2.12/0.5.5/pprint_2.12-0.5.5.jar at spark://0a2bcb32361b:39307/jars/pprint_2.12-0.5.5.jar with timestamp 1623423203263\n",
      "21/06/11 14:53:23 INFO SparkContext: Added JAR file:/home/jovyan/.cache/coursier/v1/https/repo1.maven.org/maven2/com/lihaoyi/sourcecode_2.12/0.1.7/sourcecode_2.12-0.1.7-sources.jar at spark://0a2bcb32361b:39307/jars/sourcecode_2.12-0.1.7-sources.jar with timestamp 1623423203263\n",
      "21/06/11 14:53:23 INFO SparkContext: Added JAR file:/home/jovyan/.cache/coursier/v1/https/repo1.maven.org/maven2/com/lihaoyi/sourcecode_2.12/0.1.7/sourcecode_2.12-0.1.7.jar at spark://0a2bcb32361b:39307/jars/sourcecode_2.12-0.1.7.jar with timestamp 1623423203264\n",
      "21/06/11 14:53:23 INFO SparkContext: Added JAR file:/home/jovyan/.cache/coursier/v1/https/repo1.maven.org/maven2/io/get-coursier/interface/0.0.12/interface-0.0.12-sources.jar at spark://0a2bcb32361b:39307/jars/interface-0.0.12-sources.jar with timestamp 1623423203264\n",
      "21/06/11 14:53:23 INFO SparkContext: Added JAR file:/home/jovyan/.cache/coursier/v1/https/repo1.maven.org/maven2/io/get-coursier/interface/0.0.12/interface-0.0.12.jar at spark://0a2bcb32361b:39307/jars/interface-0.0.12.jar with timestamp 1623423203264\n"
     ]
    },
    {
     "name": "stderr",
     "output_type": "stream",
     "text": [
      "21/06/11 14:53:23 INFO SparkContext: Added JAR file:/home/jovyan/.cache/coursier/v1/https/repo1.maven.org/maven2/org/scala-lang/modules/scala-collection-compat_2.12/2.0.0/scala-collection-compat_2.12-2.0.0-sources.jar at spark://0a2bcb32361b:39307/jars/scala-collection-compat_2.12-2.0.0-sources.jar with timestamp 1623423203264\n",
      "21/06/11 14:53:23 INFO SparkContext: Added JAR file:/home/jovyan/.cache/coursier/v1/https/repo1.maven.org/maven2/org/scala-lang/modules/scala-collection-compat_2.12/2.0.0/scala-collection-compat_2.12-2.0.0.jar at spark://0a2bcb32361b:39307/jars/scala-collection-compat_2.12-2.0.0.jar with timestamp 1623423203264\n",
      "21/06/11 14:53:23 INFO SparkContext: Added JAR file:/home/jovyan/.cache/coursier/v1/https/repo1.maven.org/maven2/org/scala-lang/modules/scala-xml_2.12/1.2.0/scala-xml_2.12-1.2.0-sources.jar at spark://0a2bcb32361b:39307/jars/scala-xml_2.12-1.2.0-sources.jar with timestamp 1623423203264\n",
      "21/06/11 14:53:23 INFO SparkContext: Added JAR file:/home/jovyan/.cache/coursier/v1/https/repo1.maven.org/maven2/org/scala-lang/modules/scala-xml_2.12/1.2.0/scala-xml_2.12-1.2.0.jar at spark://0a2bcb32361b:39307/jars/scala-xml_2.12-1.2.0.jar with timestamp 1623423203265\n",
      "21/06/11 14:53:23 INFO SparkContext: Added JAR file:/home/jovyan/.cache/coursier/v1/https/repo1.maven.org/maven2/org/scala-lang/scala-compiler/2.12.10/scala-compiler-2.12.10-sources.jar at spark://0a2bcb32361b:39307/jars/scala-compiler-2.12.10-sources.jar with timestamp 1623423203265\n",
      "21/06/11 14:53:23 INFO SparkContext: Added JAR file:/home/jovyan/.cache/coursier/v1/https/repo1.maven.org/maven2/org/scala-lang/scala-library/2.12.10/scala-library-2.12.10-sources.jar at spark://0a2bcb32361b:39307/jars/scala-library-2.12.10-sources.jar with timestamp 1623423203265\n",
      "21/06/11 14:53:23 INFO SparkContext: Added JAR file:/home/jovyan/.cache/coursier/v1/https/repo1.maven.org/maven2/org/scala-lang/scala-reflect/2.12.10/scala-reflect-2.12.10-sources.jar at spark://0a2bcb32361b:39307/jars/scala-reflect-2.12.10-sources.jar with timestamp 1623423203265\n",
      "21/06/11 14:53:23 INFO SparkContext: Added JAR file:/home/jovyan/.cache/coursier/v1/https/repo1.maven.org/maven2/sh/almond/interpreter-api_2.12/0.9.1/interpreter-api_2.12-0.9.1-sources.jar at spark://0a2bcb32361b:39307/jars/interpreter-api_2.12-0.9.1-sources.jar with timestamp 1623423203266\n",
      "21/06/11 14:53:23 INFO SparkContext: Added JAR file:/home/jovyan/.cache/coursier/v1/https/repo1.maven.org/maven2/sh/almond/interpreter-api_2.12/0.9.1/interpreter-api_2.12-0.9.1.jar at spark://0a2bcb32361b:39307/jars/interpreter-api_2.12-0.9.1.jar with timestamp 1623423203266\n",
      "21/06/11 14:53:23 INFO SparkContext: Added JAR file:/home/jovyan/.cache/coursier/v1/https/repo1.maven.org/maven2/sh/almond/jupyter-api_2.12/0.9.1/jupyter-api_2.12-0.9.1-sources.jar at spark://0a2bcb32361b:39307/jars/jupyter-api_2.12-0.9.1-sources.jar with timestamp 1623423203266\n",
      "21/06/11 14:53:23 INFO SparkContext: Added JAR file:/home/jovyan/.cache/coursier/v1/https/repo1.maven.org/maven2/sh/almond/jupyter-api_2.12/0.9.1/jupyter-api_2.12-0.9.1.jar at spark://0a2bcb32361b:39307/jars/jupyter-api_2.12-0.9.1.jar with timestamp 1623423203266\n",
      "21/06/11 14:53:23 INFO SparkContext: Added JAR file:/home/jovyan/.cache/coursier/v1/https/repo1.maven.org/maven2/sh/almond/scala-kernel-api_2.12.10/0.9.1/scala-kernel-api_2.12.10-0.9.1-sources.jar at spark://0a2bcb32361b:39307/jars/scala-kernel-api_2.12.10-0.9.1-sources.jar with timestamp 1623423203266\n",
      "21/06/11 14:53:23 INFO SparkContext: Added JAR file:/home/jovyan/.cache/coursier/v1/https/repo1.maven.org/maven2/sh/almond/scala-kernel-api_2.12.10/0.9.1/scala-kernel-api_2.12.10-0.9.1.jar at spark://0a2bcb32361b:39307/jars/scala-kernel-api_2.12.10-0.9.1.jar with timestamp 1623423203267\n",
      "21/06/11 14:53:23 INFO SparkContext: Added JAR file:/home/jovyan/.local/share/jupyter/kernels/scala212/launcher.jar at spark://0a2bcb32361b:39307/jars/launcher.jar with timestamp 1623423203267\n",
      "21/06/11 14:53:23 INFO SparkContext: Added JAR file:/home/jovyan/.cache/coursier/v1/https/repo1.maven.org/maven2/org/scala-lang/scala-reflect/2.12.1/scala-reflect-2.12.1.jar at spark://0a2bcb32361b:39307/jars/scala-reflect-2.12.1.jar with timestamp 1623423203267\n",
      "21/06/11 14:53:23 INFO Executor: Starting executor ID driver on host localhost\n",
      "21/06/11 14:53:23 INFO Executor: Using REPL class URI: http://172.17.0.2:40753\n",
      "21/06/11 14:53:23 INFO Utils: Successfully started service 'org.apache.spark.network.netty.NettyBlockTransferService' on port 42343.\n",
      "21/06/11 14:53:23 INFO NettyBlockTransferService: Server created on 0a2bcb32361b:42343\n",
      "21/06/11 14:53:23 INFO BlockManager: Using org.apache.spark.storage.RandomBlockReplicationPolicy for block replication policy\n",
      "21/06/11 14:53:23 INFO BlockManagerMaster: Registering BlockManager BlockManagerId(driver, 0a2bcb32361b, 42343, None)\n",
      "21/06/11 14:53:23 INFO BlockManagerMasterEndpoint: Registering block manager 0a2bcb32361b:42343 with 366.3 MB RAM, BlockManagerId(driver, 0a2bcb32361b, 42343, None)\n",
      "21/06/11 14:53:23 INFO BlockManagerMaster: Registered BlockManager BlockManagerId(driver, 0a2bcb32361b, 42343, None)\n",
      "21/06/11 14:53:23 INFO BlockManager: Initialized BlockManager: BlockManagerId(driver, 0a2bcb32361b, 42343, None)\n"
     ]
    },
    {
     "data": {
      "text/html": [
       "<a target=\"_blank\" href=\"http://0a2bcb32361b:4040\">Spark UI</a>"
      ]
     },
     "metadata": {},
     "output_type": "display_data"
    },
    {
     "data": {
      "text/plain": [
       "\u001b[32mimport \u001b[39m\u001b[36m$ivy.$                                   \n",
       "\n",
       "\u001b[39m\n",
       "\u001b[32mimport \u001b[39m\u001b[36morg.apache.spark.sql.{NotebookSparkSession, SparkSession}\n",
       "\n",
       "\u001b[39m\n",
       "\u001b[36mspark\u001b[39m: \u001b[32mSparkSession\u001b[39m = org.apache.spark.sql.SparkSession@c11ade2"
      ]
     },
     "execution_count": 1,
     "metadata": {},
     "output_type": "execute_result"
    }
   ],
   "source": [
    "import $ivy.`org.apache.spark::spark-sql:2.4.5` \n",
    "\n",
    "import org.apache.spark.sql.{NotebookSparkSession, SparkSession}\n",
    "\n",
    "val spark: SparkSession = \n",
    "    NotebookSparkSession\n",
    "      .builder()\n",
    "      .appName(\"Queries Optimization\")\n",
    "      .master(\"local[*]\")\n",
    "      .getOrCreate()\n"
   ]
  },
  {
   "cell_type": "code",
   "execution_count": 2,
   "metadata": {
    "scrolled": true
   },
   "outputs": [
    {
     "data": {
      "text/plain": [
       "\u001b[32mimport \u001b[39m\u001b[36m$ivy.$                                      \n",
       "\n",
       "\u001b[39m\n",
       "\u001b[32mimport \u001b[39m\u001b[36mplotly._\n",
       "\u001b[39m\n",
       "\u001b[32mimport \u001b[39m\u001b[36mplotly.element._\n",
       "\u001b[39m\n",
       "\u001b[32mimport \u001b[39m\u001b[36mplotly.layout._\n",
       "\u001b[39m\n",
       "\u001b[32mimport \u001b[39m\u001b[36mplotly.Almond._\u001b[39m"
      ]
     },
     "execution_count": 2,
     "metadata": {},
     "output_type": "execute_result"
    }
   ],
   "source": [
    "import $ivy.`org.plotly-scala::plotly-almond:0.8.1`\n",
    "\n",
    "import plotly._\n",
    "import plotly.element._\n",
    "import plotly.layout._\n",
    "import plotly.Almond._"
   ]
  },
  {
   "cell_type": "code",
   "execution_count": 3,
   "metadata": {},
   "outputs": [
    {
     "data": {
      "text/plain": [
       "\u001b[32mimport \u001b[39m\u001b[36m$ivy.$                                             \u001b[39m"
      ]
     },
     "execution_count": 3,
     "metadata": {},
     "output_type": "execute_result"
    }
   ],
   "source": [
    "import $ivy.`ch.cern.sparkmeasure:spark-measure_2.12:0.17`"
   ]
  },
  {
   "cell_type": "markdown",
   "metadata": {},
   "source": [
    "Logging"
   ]
  },
  {
   "cell_type": "code",
   "execution_count": 4,
   "metadata": {},
   "outputs": [
    {
     "data": {
      "text/plain": [
       "\u001b[32mimport \u001b[39m\u001b[36morg.slf4j.LoggerFactory\n",
       "\u001b[39m\n",
       "\u001b[32mimport \u001b[39m\u001b[36morg.apache.log4j.{Level, Logger}\n",
       "\u001b[39m"
      ]
     },
     "execution_count": 4,
     "metadata": {},
     "output_type": "execute_result"
    }
   ],
   "source": [
    "import org.slf4j.LoggerFactory\n",
    "import org.apache.log4j.{Level, Logger}\n",
    "Logger.getRootLogger().setLevel(Level.ERROR)"
   ]
  },
  {
   "cell_type": "markdown",
   "metadata": {},
   "source": [
    "imports"
   ]
  },
  {
   "cell_type": "code",
   "execution_count": 5,
   "metadata": {},
   "outputs": [
    {
     "data": {
      "text/plain": [
       "\u001b[32mimport \u001b[39m\u001b[36mspark.implicits._\n",
       "\u001b[39m\n",
       "\u001b[32mimport \u001b[39m\u001b[36mspark.sqlContext.implicits._\n",
       "\u001b[39m\n",
       "\u001b[32mimport \u001b[39m\u001b[36morg.apache.spark.sql._\n",
       "\u001b[39m\n",
       "\u001b[32mimport \u001b[39m\u001b[36morg.apache.spark.sql.{functions => func, _}\n",
       "\u001b[39m\n",
       "\u001b[32mimport \u001b[39m\u001b[36morg.apache.spark.sql.types._\n",
       "\u001b[39m\n",
       "\u001b[32mimport \u001b[39m\u001b[36morg.apache.spark.rdd.RDD\n",
       "\u001b[39m\n",
       "\u001b[32mimport \u001b[39m\u001b[36morg.apache.spark.sql.SparkSession\n",
       "\u001b[39m\n",
       "\u001b[32mimport \u001b[39m\u001b[36morg.apache.spark.sql.types.{IntegerType, StringType, StructType}\n",
       "\u001b[39m\n",
       "\u001b[32mimport \u001b[39m\u001b[36morg.apache.spark.{SparkConf, SparkContext}\n",
       "\u001b[39m\n",
       "\u001b[32mimport \u001b[39m\u001b[36morg.apache.spark._\n",
       "\u001b[39m\n",
       "\u001b[32mimport \u001b[39m\u001b[36morg.apache.spark.sql.types._, func._\n",
       "\u001b[39m\n",
       "\u001b[32mimport \u001b[39m\u001b[36morg.apache.spark.sql.functions.{col, to_date}\u001b[39m"
      ]
     },
     "execution_count": 5,
     "metadata": {},
     "output_type": "execute_result"
    }
   ],
   "source": [
    "import spark.implicits._\n",
    "import spark.sqlContext.implicits._\n",
    "import org.apache.spark.sql._\n",
    "import org.apache.spark.sql.{functions => func, _}\n",
    "import org.apache.spark.sql.types._\n",
    "import org.apache.spark.rdd.RDD\n",
    "import org.apache.spark.sql.SparkSession\n",
    "import org.apache.spark.sql.types.{IntegerType, StringType, StructType}\n",
    "import org.apache.spark.{SparkConf, SparkContext}\n",
    "import org.apache.spark._\n",
    "import org.apache.spark.sql.types._, func._\n",
    "import org.apache.spark.sql.functions.{col, to_date}"
   ]
  },
  {
   "cell_type": "markdown",
   "metadata": {},
   "source": [
    "# Los Datos"
   ]
  },
  {
   "cell_type": "markdown",
   "metadata": {},
   "source": [
    "El dataset ha sido obtenido de:\n",
    "https://www.ecdc.europa.eu/en/publications-data/download-todays-data-geographic-distribution-covid-19-cases-worldwide\n",
    "\n",
    "En el se observan los casos diarios de Covid-19 por país hasta el 14-12-20\n",
    "\n",
    "En la segunda parte se utilizan los datos de las medidas aplicadas a cada país por fecha de inicio y fin:\n",
    "\n",
    "https://www.ecdc.europa.eu/en/publications-data/download-data-response-measures-covid-19\n",
    "\n",
    "La consulta para calcular las infecciones por km2:\n",
    "\n",
    "https://www.kaggle.com/tanuprabhu/population-by-country-2020\n",
    "\n",
    "Y por último trabajaremos también con vacunaciones:\n",
    "\n",
    "https://www.kaggle.com/gpreda/covid-world-vaccination-progress\n",
    "\n",
    "tendremos que utilizar otro dataset con datos de covid ya que en el original no vienen todas las fechas:\n",
    "\n",
    "https://www.kaggle.com/sudalairajkumar/novel-corona-virus-2019-dataset"
   ]
  },
  {
   "cell_type": "markdown",
   "metadata": {},
   "source": [
    "## Creo una clase para trabajar con infecciones "
   ]
  },
  {
   "cell_type": "code",
   "execution_count": 6,
   "metadata": {},
   "outputs": [
    {
     "data": {
      "text/plain": [
       "defined \u001b[32mclass\u001b[39m \u001b[36mInfection\u001b[39m"
      ]
     },
     "execution_count": 6,
     "metadata": {},
     "output_type": "execute_result"
    }
   ],
   "source": [
    "org.apache.spark.sql.catalyst.encoders.OuterScopes.addOuterScope(this)\n",
    "case class Infection(day : Int, \n",
    "                     month : Int, \n",
    "                     year : Int, \n",
    "                     nCases: Int, \n",
    "                     nDeaths : Int, \n",
    "                     country : String,  \n",
    "                     continent : String) \n",
    "extends Serializable"
   ]
  },
  {
   "cell_type": "markdown",
   "metadata": {},
   "source": [
    "Y un método para medir tiempos de ejecución"
   ]
  },
  {
   "cell_type": "code",
   "execution_count": 7,
   "metadata": {},
   "outputs": [
    {
     "data": {
      "text/plain": [
       "defined \u001b[32mfunction\u001b[39m \u001b[36mrun\u001b[39m"
      ]
     },
     "execution_count": 7,
     "metadata": {},
     "output_type": "execute_result"
    }
   ],
   "source": [
    "def run[A](code: => A): A = {\n",
    "    val start = System.currentTimeMillis()\n",
    "    val res = code\n",
    "    println(s\"Took ${System.currentTimeMillis() - start}\")\n",
    "    res\n",
    "}"
   ]
  },
  {
   "cell_type": "code",
   "execution_count": 8,
   "metadata": {},
   "outputs": [
    {
     "data": {
      "text/plain": [
       "defined \u001b[32mfunction\u001b[39m \u001b[36mrunWithOutput\u001b[39m"
      ]
     },
     "execution_count": 8,
     "metadata": {},
     "output_type": "execute_result"
    }
   ],
   "source": [
    "def runWithOutput[A](code: => A): Int = {\n",
    "    val start = System.currentTimeMillis()\n",
    "    val res = code\n",
    "    val out = System.currentTimeMillis() - start\n",
    "    println(s\"Took ${System.currentTimeMillis() - start}\")\n",
    "    out.toInt\n",
    "}"
   ]
  },
  {
   "cell_type": "markdown",
   "metadata": {},
   "source": [
    "### Para utilizar showHTML()"
   ]
  },
  {
   "cell_type": "code",
   "execution_count": 9,
   "metadata": {},
   "outputs": [
    {
     "data": {
      "text/plain": [
       "defined \u001b[32mclass\u001b[39m \u001b[36mRichDF\u001b[39m"
      ]
     },
     "execution_count": 9,
     "metadata": {},
     "output_type": "execute_result"
    }
   ],
   "source": [
    "// Credit to Aivean\n",
    "implicit class RichDF(val ds:DataFrame) {\n",
    "    def showHTML(limit:Int = 20, truncate: Int = 20) = {\n",
    "        import xml.Utility.escape\n",
    "        val data = ds.take(limit)\n",
    "        val header = ds.schema.fieldNames.toSeq        \n",
    "        val rows: Seq[Seq[String]] = data.map { row =>\n",
    "          row.toSeq.map { cell =>\n",
    "            val str = cell match {\n",
    "              case null => \"null\"\n",
    "              case binary: Array[Byte] => binary.map(\"%02X\".format(_)).mkString(\"[\", \" \", \"]\")\n",
    "              case array: Array[_] => array.mkString(\"[\", \", \", \"]\")\n",
    "              case seq: Seq[_] => seq.mkString(\"[\", \", \", \"]\")\n",
    "              case _ => cell.toString\n",
    "            }\n",
    "            if (truncate > 0 && str.length > truncate) {\n",
    "              // do not show ellipses for strings shorter than 4 characters.\n",
    "              if (truncate < 4) str.substring(0, truncate)\n",
    "              else str.substring(0, truncate - 3) + \"...\"\n",
    "            } else {\n",
    "              str\n",
    "            }\n",
    "          }: Seq[String]\n",
    "        }\n",
    "publish.html(s\"\"\" <table>\n",
    "                <tr>\n",
    "                 ${header.map(h => s\"<th>${escape(h)}</th>\").mkString}\n",
    "                </tr>\n",
    "                ${rows.map { row =>\n",
    "                  s\"<tr>${row.map{c => s\"<td>${escape(c)}</td>\" }.mkString}</tr>\"\n",
    "                }.mkString}\n",
    "            </table>\n",
    "        \"\"\")        \n",
    "    }\n",
    "}"
   ]
  },
  {
   "cell_type": "markdown",
   "metadata": {},
   "source": [
    "# Empiezo trabajando con RDDs"
   ]
  },
  {
   "cell_type": "code",
   "execution_count": 10,
   "metadata": {},
   "outputs": [
    {
     "data": {
      "text/plain": [
       "\u001b[36minfectionData\u001b[39m: \u001b[32mRDD\u001b[39m[\u001b[32mString\u001b[39m] = data.csv MapPartitionsRDD[1] at textFile at cmd9.sc:1"
      ]
     },
     "execution_count": 10,
     "metadata": {},
     "output_type": "execute_result"
    }
   ],
   "source": [
    "val infectionData = spark.sparkContext.textFile(\"data.csv\")"
   ]
  },
  {
   "cell_type": "markdown",
   "metadata": {},
   "source": [
    "Creo una funcion para trabajar con un RDD de infecciones"
   ]
  },
  {
   "cell_type": "code",
   "execution_count": 11,
   "metadata": {},
   "outputs": [
    {
     "data": {
      "text/plain": [
       "defined \u001b[32mfunction\u001b[39m \u001b[36minfections\u001b[39m"
      ]
     },
     "execution_count": 11,
     "metadata": {},
     "output_type": "execute_result"
    }
   ],
   "source": [
    "def infections(lines : RDD[String]) : RDD[Infection] =\n",
    "    lines.map(line => {\n",
    "      val arr = line.split(\",\")\n",
    "      Infection(\n",
    "        day = arr(1).toInt,\n",
    "        month = arr(2).toInt,\n",
    "        year = arr(3).toInt,\n",
    "        nCases = arr(4).toInt,\n",
    "        nDeaths = arr(5).toInt,\n",
    "        country = arr(6),\n",
    "        continent = arr(10)\n",
    "      )\n",
    "    })"
   ]
  },
  {
   "cell_type": "markdown",
   "metadata": {},
   "source": [
    "Calculo la media de infecciones diarias por país trabajando con pair RDD"
   ]
  },
  {
   "cell_type": "code",
   "execution_count": 12,
   "metadata": {},
   "outputs": [
    {
     "data": {
      "text/plain": [
       "defined \u001b[32mfunction\u001b[39m \u001b[36minfectionGrowthAverage\u001b[39m"
      ]
     },
     "execution_count": 12,
     "metadata": {},
     "output_type": "execute_result"
    }
   ],
   "source": [
    "  def infectionGrowthAverage(infections : RDD[Infection]) : RDD[(String, Int)]= {\n",
    "\n",
    "    val countriesAndCases : RDD[(String, Iterable[Int])] = \n",
    "      infections.map(x => (x.country,x.nCases))\n",
    "      .groupByKey()\n",
    "      \n",
    "    countriesAndCases.mapValues(x => (x.sum / x.size)).sortBy(_._2)\n",
    "  }"
   ]
  },
  {
   "cell_type": "markdown",
   "metadata": {},
   "source": [
    "Muestro el resultado y el tiempo de ejecución"
   ]
  },
  {
   "cell_type": "code",
   "execution_count": 13,
   "metadata": {},
   "outputs": [
    {
     "data": {
      "text/html": [
       "<script>\n",
       "var comm = Jupyter.notebook.kernel.comm_manager.new_comm('cancel-stage-b3bab0f3-4ba3-4db7-9d00-68ece14609e3', {});\n",
       "\n",
       "function cancelStage(stageId) {\n",
       "  console.log('Cancelling stage ' + stageId);\n",
       "  comm.send({ 'stageId': stageId });\n",
       "}\n",
       "</script>\n",
       "          "
      ]
     },
     "metadata": {},
     "output_type": "display_data"
    },
    {
     "data": {
      "text/html": [
       "<div>\n",
       "  <span style=\"float: left;\">map at cmd11.sc:4</span>\n",
       "</div>\n"
      ]
     },
     "metadata": {},
     "output_type": "display_data"
    },
    {
     "data": {
      "text/html": [
       "<div class=\"progress\">\n",
       "  <div class=\"progress-bar\" role=\"progressbar\" style=\"background-color: blue; width: 100%; word-wrap: normal; white-space: nowrap; text-align: center; color: white\" aria-valuenow=\"100\" aria-valuemin=\"0\" aria-valuemax=\"100\">\n",
       "    2 / 2\n",
       "  </div>\n",
       "  <div class=\"progress-bar\" role=\"progressbar\" style=\"background-color: red; width: 0%\" aria-valuenow=\"0\" aria-valuemin=\"0\" aria-valuemax=\"100\"></div>\n",
       "</div>\n"
      ]
     },
     "metadata": {},
     "output_type": "display_data"
    },
    {
     "data": {
      "text/html": [
       "<div>\n",
       "  <span style=\"float: left;\">sortBy at cmd11.sc:7</span>\n",
       "</div>\n"
      ]
     },
     "metadata": {},
     "output_type": "display_data"
    },
    {
     "data": {
      "text/html": [
       "<div class=\"progress\">\n",
       "  <div class=\"progress-bar\" role=\"progressbar\" style=\"background-color: blue; width: 100%; word-wrap: normal; white-space: nowrap; text-align: center; color: white\" aria-valuenow=\"100\" aria-valuemin=\"0\" aria-valuemax=\"100\">\n",
       "    2 / 2\n",
       "  </div>\n",
       "  <div class=\"progress-bar\" role=\"progressbar\" style=\"background-color: red; width: 0%\" aria-valuenow=\"0\" aria-valuemin=\"0\" aria-valuemax=\"100\"></div>\n",
       "</div>\n"
      ]
     },
     "metadata": {},
     "output_type": "display_data"
    },
    {
     "data": {
      "text/plain": [
       "\u001b[36minfectionRDD\u001b[39m: \u001b[32mRDD\u001b[39m[\u001b[32mInfection\u001b[39m] = MapPartitionsRDD[2] at map at cmd10.sc:2\n",
       "\u001b[36minfectionAvgRDD\u001b[39m: \u001b[32mRDD\u001b[39m[(\u001b[32mString\u001b[39m, \u001b[32mInt\u001b[39m)] = MapPartitionsRDD[10] at sortBy at cmd11.sc:7"
      ]
     },
     "execution_count": 13,
     "metadata": {},
     "output_type": "execute_result"
    }
   ],
   "source": [
    "val infectionRDD = infections(infectionData)\n",
    "val infectionAvgRDD = infectionGrowthAverage(infectionRDD)"
   ]
  },
  {
   "cell_type": "markdown",
   "metadata": {},
   "source": [
    "# Hago los mismos calculos con un DataFrame"
   ]
  },
  {
   "cell_type": "markdown",
   "metadata": {},
   "source": [
    "Convierto el RDD obtenido previamente en un DataFrame para inferir la clase infección"
   ]
  },
  {
   "cell_type": "code",
   "execution_count": 14,
   "metadata": {},
   "outputs": [
    {
     "data": {
      "text/plain": [
       "\u001b[36minfectionDF\u001b[39m: \u001b[32mDataFrame\u001b[39m = [day: int, month: int ... 5 more fields]"
      ]
     },
     "execution_count": 14,
     "metadata": {},
     "output_type": "execute_result"
    }
   ],
   "source": [
    "val infectionDF = spark.createDataFrame(infectionRDD)"
   ]
  },
  {
   "cell_type": "markdown",
   "metadata": {},
   "source": [
    "Utilizo los métodos de la clase DF que incluye uno optimizado para calcular la media.\n",
    "\n",
    "Ejecuto y comprabamos como el tiempo de ejecución es significativamente menor que en RDD"
   ]
  },
  {
   "cell_type": "code",
   "execution_count": 15,
   "metadata": {},
   "outputs": [
    {
     "data": {
      "text/plain": [
       "\u001b[36minfAvgOrDf\u001b[39m: \u001b[32mDataset\u001b[39m[\u001b[32mRow\u001b[39m] = [country: string, avg(nCases): double]"
      ]
     },
     "execution_count": 15,
     "metadata": {},
     "output_type": "execute_result"
    }
   ],
   "source": [
    "val infAvgOrDf = infectionDF.\n",
    "    groupBy(\"country\")\n",
    "    .avg(\"nCases\")\n",
    "    .orderBy(desc(\"avg(nCases)\"))"
   ]
  },
  {
   "cell_type": "markdown",
   "metadata": {},
   "source": [
    "Otra opción es crear el DataFrame directamente importando los datos pero deja de ser un DF de infecciones"
   ]
  },
  {
   "cell_type": "code",
   "execution_count": 16,
   "metadata": {
    "scrolled": true
   },
   "outputs": [
    {
     "data": {
      "text/html": [
       "<div>\n",
       "  <span style=\"float: left;\">csv at cmd15.sc:6</span>\n",
       "</div>\n"
      ]
     },
     "metadata": {},
     "output_type": "display_data"
    },
    {
     "data": {
      "text/html": [
       "<div class=\"progress\">\n",
       "  <div class=\"progress-bar\" role=\"progressbar\" style=\"background-color: blue; width: 100%; word-wrap: normal; white-space: nowrap; text-align: center; color: white\" aria-valuenow=\"100\" aria-valuemin=\"0\" aria-valuemax=\"100\">\n",
       "    1 / 1\n",
       "  </div>\n",
       "  <div class=\"progress-bar\" role=\"progressbar\" style=\"background-color: red; width: 0%\" aria-valuenow=\"0\" aria-valuemin=\"0\" aria-valuemax=\"100\"></div>\n",
       "</div>\n"
      ]
     },
     "metadata": {},
     "output_type": "display_data"
    },
    {
     "data": {
      "text/html": [
       "<div>\n",
       "  <span style=\"float: left;\">csv at cmd15.sc:6</span>\n",
       "</div>\n"
      ]
     },
     "metadata": {},
     "output_type": "display_data"
    },
    {
     "data": {
      "text/html": [
       "<div class=\"progress\">\n",
       "  <div class=\"progress-bar\" role=\"progressbar\" style=\"background-color: blue; width: 100%; word-wrap: normal; white-space: nowrap; text-align: center; color: white\" aria-valuenow=\"100\" aria-valuemin=\"0\" aria-valuemax=\"100\">\n",
       "    2 / 2\n",
       "  </div>\n",
       "  <div class=\"progress-bar\" role=\"progressbar\" style=\"background-color: red; width: 0%\" aria-valuenow=\"0\" aria-valuemin=\"0\" aria-valuemax=\"100\"></div>\n",
       "</div>\n"
      ]
     },
     "metadata": {},
     "output_type": "display_data"
    },
    {
     "data": {
      "text/plain": [
       "\u001b[36mdfCovid\u001b[39m: \u001b[32mDataFrame\u001b[39m = [dateRep: string, day: int ... 10 more fields]"
      ]
     },
     "execution_count": 16,
     "metadata": {},
     "output_type": "execute_result"
    }
   ],
   "source": [
    "val dfCovid = spark.read\n",
    ".option(\"header\", \"true\")\n",
    ".option(\"charset\", \"UTF8\")\n",
    ".option(\"delimiter\",\",\")\n",
    ".option(\"inferSchema\", \"true\")\n",
    ".csv(\"covidworldwide.csv\")"
   ]
  },
  {
   "cell_type": "code",
   "execution_count": 17,
   "metadata": {},
   "outputs": [
    {
     "data": {
      "text/plain": [
       "\u001b[36mres16\u001b[39m: \u001b[32mStructType\u001b[39m = \u001b[33mStructType\u001b[39m(\n",
       "  \u001b[33mStructField\u001b[39m(\u001b[32m\"dateRep\"\u001b[39m, StringType, true, {}),\n",
       "  \u001b[33mStructField\u001b[39m(\u001b[32m\"day\"\u001b[39m, IntegerType, true, {}),\n",
       "  \u001b[33mStructField\u001b[39m(\u001b[32m\"month\"\u001b[39m, IntegerType, true, {}),\n",
       "  \u001b[33mStructField\u001b[39m(\u001b[32m\"year\"\u001b[39m, IntegerType, true, {}),\n",
       "  \u001b[33mStructField\u001b[39m(\u001b[32m\"cases\"\u001b[39m, IntegerType, true, {}),\n",
       "  \u001b[33mStructField\u001b[39m(\u001b[32m\"deaths\"\u001b[39m, IntegerType, true, {}),\n",
       "  \u001b[33mStructField\u001b[39m(\u001b[32m\"countriesAndTerritories\"\u001b[39m, StringType, true, {}),\n",
       "  \u001b[33mStructField\u001b[39m(\u001b[32m\"geoId\"\u001b[39m, StringType, true, {}),\n",
       "  \u001b[33mStructField\u001b[39m(\u001b[32m\"countryterritoryCode\"\u001b[39m, StringType, true, {}),\n",
       "  \u001b[33mStructField\u001b[39m(\u001b[32m\"popData2019\"\u001b[39m, IntegerType, true, {}),\n",
       "  \u001b[33mStructField\u001b[39m(\u001b[32m\"continentExp\"\u001b[39m, StringType, true, {}),\n",
       "  \u001b[33mStructField\u001b[39m(\n",
       "    \u001b[32m\"Cumulative_number_for_14_days_of_COVID-19_cases_per_100000\"\u001b[39m,\n",
       "    DoubleType,\n",
       "    true,\n",
       "    {}\n",
       "  )\n",
       ")"
      ]
     },
     "execution_count": 17,
     "metadata": {},
     "output_type": "execute_result"
    }
   ],
   "source": [
    "dfCovid.schema"
   ]
  },
  {
   "cell_type": "code",
   "execution_count": 18,
   "metadata": {},
   "outputs": [
    {
     "name": "stdout",
     "output_type": "stream",
     "text": [
      "== Physical Plan ==\n",
      "*(1) FileScan csv [dateRep#43,day#44,month#45,year#46,cases#47,deaths#48,countriesAndTerritories#49,geoId#50,countryterritoryCode#51,popData2019#52,continentExp#53,Cumulative_number_for_14_days_of_COVID-19_cases_per_100000#54] Batched: false, Format: CSV, Location: InMemoryFileIndex[file:/home/jovyan/work/covidworldwide.csv], PartitionFilters: [], PushedFilters: [], ReadSchema: struct<dateRep:string,day:int,month:int,year:int,cases:int,deaths:int,countriesAndTerritories:str...\n"
     ]
    }
   ],
   "source": [
    "dfCovid.explain"
   ]
  },
  {
   "cell_type": "markdown",
   "metadata": {},
   "source": [
    "puedo definir el esquema manualmente para crear el DataFrame"
   ]
  },
  {
   "cell_type": "code",
   "execution_count": 19,
   "metadata": {},
   "outputs": [
    {
     "data": {
      "text/plain": [
       "\u001b[36mschema\u001b[39m: \u001b[32mStructType\u001b[39m = \u001b[33mStructType\u001b[39m(\n",
       "  \u001b[33mStructField\u001b[39m(\u001b[32m\"dateRep\"\u001b[39m, StringType, true, {}),\n",
       "  \u001b[33mStructField\u001b[39m(\u001b[32m\"day\"\u001b[39m, IntegerType, true, {}),\n",
       "  \u001b[33mStructField\u001b[39m(\u001b[32m\"month\"\u001b[39m, IntegerType, true, {}),\n",
       "  \u001b[33mStructField\u001b[39m(\u001b[32m\"year\"\u001b[39m, IntegerType, true, {}),\n",
       "  \u001b[33mStructField\u001b[39m(\u001b[32m\"cases\"\u001b[39m, IntegerType, true, {}),\n",
       "  \u001b[33mStructField\u001b[39m(\u001b[32m\"deaths\"\u001b[39m, IntegerType, true, {}),\n",
       "  \u001b[33mStructField\u001b[39m(\u001b[32m\"countriesAndTerritories\"\u001b[39m, StringType, true, {}),\n",
       "  \u001b[33mStructField\u001b[39m(\u001b[32m\"geoId\"\u001b[39m, StringType, true, {}),\n",
       "  \u001b[33mStructField\u001b[39m(\u001b[32m\"countryterritoryCode\"\u001b[39m, StringType, true, {}),\n",
       "  \u001b[33mStructField\u001b[39m(\u001b[32m\"popData2018\"\u001b[39m, IntegerType, true, {}),\n",
       "  \u001b[33mStructField\u001b[39m(\u001b[32m\"continentExp\"\u001b[39m, StringType, true, {})\n",
       ")"
      ]
     },
     "execution_count": 19,
     "metadata": {},
     "output_type": "execute_result"
    }
   ],
   "source": [
    "//Defino el esquema manualmente pero podría verlo importando el csv y viendo como lo hace de base spark\n",
    "\n",
    "val schema = new StructType()\n",
    "    .add(\"dateRep\",StringType,true)\n",
    "    .add(\"day\",IntegerType,true)\n",
    "    .add(\"month\",IntegerType,true)\n",
    "    .add(\"year\",IntegerType,true)\n",
    "    .add(\"cases\",IntegerType,true)\n",
    "    .add(\"deaths\",IntegerType,true)\n",
    "    .add(\"countriesAndTerritories\",StringType,true)\n",
    "    .add(\"geoId\",StringType,true)\n",
    "    .add(\"countryterritoryCode\",StringType,true)\n",
    "    .add(\"popData2018\",IntegerType,true)\n",
    "    .add(\"continentExp\",StringType,true)"
   ]
  },
  {
   "cell_type": "code",
   "execution_count": 20,
   "metadata": {},
   "outputs": [
    {
     "data": {
      "text/plain": [
       "\u001b[36mdf\u001b[39m: \u001b[32mDataFrame\u001b[39m = [dateRep: string, day: int ... 9 more fields]"
      ]
     },
     "execution_count": 20,
     "metadata": {},
     "output_type": "execute_result"
    }
   ],
   "source": [
    "val df = spark.read\n",
    ".format(\"csv\")\n",
    ".option(\"header\",\"true\")\n",
    ".schema(schema)\n",
    ".load(\"data.csv\")"
   ]
  },
  {
   "cell_type": "code",
   "execution_count": 21,
   "metadata": {},
   "outputs": [
    {
     "name": "stdout",
     "output_type": "stream",
     "text": [
      "root\n",
      " |-- dateRep: string (nullable = true)\n",
      " |-- day: integer (nullable = true)\n",
      " |-- month: integer (nullable = true)\n",
      " |-- year: integer (nullable = true)\n",
      " |-- cases: integer (nullable = true)\n",
      " |-- deaths: integer (nullable = true)\n",
      " |-- countriesAndTerritories: string (nullable = true)\n",
      " |-- geoId: string (nullable = true)\n",
      " |-- countryterritoryCode: string (nullable = true)\n",
      " |-- popData2018: integer (nullable = true)\n",
      " |-- continentExp: string (nullable = true)\n",
      "\n"
     ]
    }
   ],
   "source": [
    "df.printSchema()"
   ]
  },
  {
   "cell_type": "markdown",
   "metadata": {},
   "source": [
    "# Y con un DataSet"
   ]
  },
  {
   "cell_type": "code",
   "execution_count": 22,
   "metadata": {},
   "outputs": [
    {
     "data": {
      "text/html": [
       "<div>\n",
       "  <span style=\"float: left;\">csv at cmd21.sc:5</span>\n",
       "</div>\n"
      ]
     },
     "metadata": {},
     "output_type": "display_data"
    },
    {
     "data": {
      "text/html": [
       "<div class=\"progress\">\n",
       "  <div class=\"progress-bar\" role=\"progressbar\" style=\"background-color: blue; width: 100%; word-wrap: normal; white-space: nowrap; text-align: center; color: white\" aria-valuenow=\"100\" aria-valuemin=\"0\" aria-valuemax=\"100\">\n",
       "    1 / 1\n",
       "  </div>\n",
       "  <div class=\"progress-bar\" role=\"progressbar\" style=\"background-color: red; width: 0%\" aria-valuenow=\"0\" aria-valuemin=\"0\" aria-valuemax=\"100\"></div>\n",
       "</div>\n"
      ]
     },
     "metadata": {},
     "output_type": "display_data"
    },
    {
     "data": {
      "text/plain": [
       "\u001b[36minfectionDS\u001b[39m: \u001b[32mDataset\u001b[39m[(\u001b[32mString\u001b[39m, \u001b[32mString\u001b[39m, \u001b[32mString\u001b[39m, \u001b[32mString\u001b[39m, \u001b[32mString\u001b[39m, \u001b[32mString\u001b[39m, \u001b[32mString\u001b[39m, \u001b[32mString\u001b[39m, \u001b[32mString\u001b[39m, \u001b[32mString\u001b[39m, \u001b[32mString\u001b[39m, \u001b[32mString\u001b[39m)] = [dateRep: string, day: string ... 10 more fields]"
      ]
     },
     "execution_count": 22,
     "metadata": {},
     "output_type": "execute_result"
    }
   ],
   "source": [
    "val infectionDS = spark.read\n",
    ".option(\"header\", \"true\")\n",
    ".option(\"charset\", \"UTF8\")\n",
    ".option(\"delimiter\",\",\")\n",
    ".csv(\"covidworldwide.csv\")\n",
    ".as[(String,String,String,String,String,String,String,String,String,String,String,String)]"
   ]
  },
  {
   "cell_type": "code",
   "execution_count": 23,
   "metadata": {},
   "outputs": [
    {
     "data": {
      "text/plain": [
       "\u001b[36mavgDS\u001b[39m: \u001b[32mDataset\u001b[39m[(\u001b[32mString\u001b[39m, \u001b[32mDouble\u001b[39m)] = [countriesAndTerritories: string, avg(cases): double]"
      ]
     },
     "execution_count": 23,
     "metadata": {},
     "output_type": "execute_result"
    }
   ],
   "source": [
    "val avgDS = \n",
    "    infectionDS.groupBy($\"countriesAndTerritories\")\n",
    "    .agg(avg($\"cases\"))\n",
    "    .orderBy(\"avg(cases)\")\n",
    "    .as[(String,Double)]"
   ]
  },
  {
   "cell_type": "markdown",
   "metadata": {},
   "source": [
    "### Trabajamos con Dataset[Infection]"
   ]
  },
  {
   "cell_type": "code",
   "execution_count": 24,
   "metadata": {},
   "outputs": [
    {
     "data": {
      "text/plain": [
       "\u001b[36minfectionDataset\u001b[39m: \u001b[32mDataset\u001b[39m[\u001b[32mInfection\u001b[39m] = [day: int, month: int ... 5 more fields]"
      ]
     },
     "execution_count": 24,
     "metadata": {},
     "output_type": "execute_result"
    }
   ],
   "source": [
    "val infectionDataset = spark.createDataset(infectionRDD)"
   ]
  },
  {
   "cell_type": "code",
   "execution_count": 25,
   "metadata": {},
   "outputs": [
    {
     "data": {
      "text/plain": [
       "\u001b[36mres24\u001b[39m: \u001b[32mDataset\u001b[39m[(\u001b[32mString\u001b[39m, \u001b[32mDouble\u001b[39m)] = [country: string, avg(nCases): double]"
      ]
     },
     "execution_count": 25,
     "metadata": {},
     "output_type": "execute_result"
    }
   ],
   "source": [
    "infectionDataset\n",
    "    .groupBy($\"country\")\n",
    "    .agg(avg($\"nCases\").as[Double])\n",
    "    .orderBy(\"avg(nCases)\")\n",
    "    .as[(String,Double)]"
   ]
  },
  {
   "cell_type": "markdown",
   "metadata": {},
   "source": [
    "# Utilizo una segunda tabla y cruzo datos con RDD, DS y DF"
   ]
  },
  {
   "cell_type": "markdown",
   "metadata": {},
   "source": [
    "## Creo una consulta para calcular la media de infecciones por Km2"
   ]
  },
  {
   "cell_type": "markdown",
   "metadata": {},
   "source": [
    "### Utilizando RDDs"
   ]
  },
  {
   "cell_type": "code",
   "execution_count": 26,
   "metadata": {},
   "outputs": [
    {
     "data": {
      "text/plain": [
       "\u001b[36mpopulationData\u001b[39m: \u001b[32mRDD\u001b[39m[\u001b[32mString\u001b[39m] = population_by_country_2020.csv MapPartitionsRDD[32] at textFile at cmd25.sc:1"
      ]
     },
     "execution_count": 26,
     "metadata": {},
     "output_type": "execute_result"
    }
   ],
   "source": [
    "val populationData = spark.sparkContext.textFile(\"population_by_country_2020.csv\")"
   ]
  },
  {
   "cell_type": "code",
   "execution_count": 27,
   "metadata": {},
   "outputs": [
    {
     "data": {
      "text/plain": [
       "defined \u001b[32mclass\u001b[39m \u001b[36mPopulation\u001b[39m"
      ]
     },
     "execution_count": 27,
     "metadata": {},
     "output_type": "execute_result"
    }
   ],
   "source": [
    "org.apache.spark.sql.catalyst.encoders.OuterScopes.addOuterScope(this)\n",
    "case class Population(\n",
    "    country : String, \n",
    "    population : Int, \n",
    "    density : Int, \n",
    "    land_area: Int, \n",
    "    ) \n",
    "extends Serializable"
   ]
  },
  {
   "cell_type": "markdown",
   "metadata": {},
   "source": [
    "Limpio la primera linea del CSV y creo un RDD de población"
   ]
  },
  {
   "cell_type": "code",
   "execution_count": 28,
   "metadata": {},
   "outputs": [
    {
     "data": {
      "text/html": [
       "<div>\n",
       "  <span style=\"float: left;\">first at cmd27.sc:1</span>\n",
       "</div>\n"
      ]
     },
     "metadata": {},
     "output_type": "display_data"
    },
    {
     "data": {
      "text/html": [
       "<div class=\"progress\">\n",
       "  <div class=\"progress-bar\" role=\"progressbar\" style=\"background-color: blue; width: 100%; word-wrap: normal; white-space: nowrap; text-align: center; color: white\" aria-valuenow=\"100\" aria-valuemin=\"0\" aria-valuemax=\"100\">\n",
       "    1 / 1\n",
       "  </div>\n",
       "  <div class=\"progress-bar\" role=\"progressbar\" style=\"background-color: red; width: 0%\" aria-valuenow=\"0\" aria-valuemin=\"0\" aria-valuemax=\"100\"></div>\n",
       "</div>\n"
      ]
     },
     "metadata": {},
     "output_type": "display_data"
    },
    {
     "data": {
      "text/plain": [
       "\u001b[36mheader\u001b[39m: \u001b[32mString\u001b[39m = \u001b[32m\"Country (or dependency),Population (2020),Yearly Change,Net Change,Density (P/Km\\u00b2),Land Area (Km\\u00b2),Migrants (net),Fert. Rate,Med. Age,Urban Pop %,World Share\"\u001b[39m\n",
       "defined \u001b[32mfunction\u001b[39m \u001b[36mpopulation\u001b[39m"
      ]
     },
     "execution_count": 28,
     "metadata": {},
     "output_type": "execute_result"
    }
   ],
   "source": [
    "val header = populationData.first() \n",
    "\n",
    "def population(lines : RDD[String]) : RDD[Population] =\n",
    "    lines.filter(x => x != header)\n",
    "    .map(line => {\n",
    "      val arr = line.split(\",\")\n",
    "      Population(\n",
    "        country = arr(0),\n",
    "        population = arr(1).toInt,\n",
    "        density = arr(4).toInt,\n",
    "        land_area = arr(5).toInt,\n",
    "      )\n",
    "    })"
   ]
  },
  {
   "cell_type": "markdown",
   "metadata": {},
   "source": [
    "Compruebo que se visualizan correctamente los datos"
   ]
  },
  {
   "cell_type": "code",
   "execution_count": 29,
   "metadata": {},
   "outputs": [
    {
     "data": {
      "text/plain": [
       "\u001b[36mpopulationRDD\u001b[39m: \u001b[32mRDD\u001b[39m[\u001b[32mPopulation\u001b[39m] = MapPartitionsRDD[34] at map at cmd27.sc:5"
      ]
     },
     "execution_count": 29,
     "metadata": {},
     "output_type": "execute_result"
    }
   ],
   "source": [
    "val populationRDD = population(populationData)"
   ]
  },
  {
   "cell_type": "code",
   "execution_count": 30,
   "metadata": {},
   "outputs": [
    {
     "data": {
      "text/html": [
       "<div>\n",
       "  <span style=\"float: left;\">take at cmd8.sc:4</span>\n",
       "</div>\n"
      ]
     },
     "metadata": {},
     "output_type": "display_data"
    },
    {
     "data": {
      "text/html": [
       "<div class=\"progress\">\n",
       "  <div class=\"progress-bar\" role=\"progressbar\" style=\"background-color: blue; width: 100%; word-wrap: normal; white-space: nowrap; text-align: center; color: white\" aria-valuenow=\"100\" aria-valuemin=\"0\" aria-valuemax=\"100\">\n",
       "    1 / 1\n",
       "  </div>\n",
       "  <div class=\"progress-bar\" role=\"progressbar\" style=\"background-color: red; width: 0%\" aria-valuenow=\"0\" aria-valuemin=\"0\" aria-valuemax=\"100\"></div>\n",
       "</div>\n"
      ]
     },
     "metadata": {},
     "output_type": "display_data"
    },
    {
     "data": {
      "text/html": [
       " <table>\n",
       "                <tr>\n",
       "                 <th>country</th><th>population</th><th>density</th><th>land_area</th>\n",
       "                </tr>\n",
       "                <tr><td>China</td><td>1440297825</td><td>153</td><td>9388211</td></tr><tr><td>India</td><td>1382345085</td><td>464</td><td>2973190</td></tr><tr><td>United States</td><td>331341050</td><td>36</td><td>9147420</td></tr><tr><td>Indonesia</td><td>274021604</td><td>151</td><td>1811570</td></tr><tr><td>Pakistan</td><td>221612785</td><td>287</td><td>770880</td></tr><tr><td>Brazil</td><td>212821986</td><td>25</td><td>8358140</td></tr><tr><td>Nigeria</td><td>206984347</td><td>226</td><td>910770</td></tr><tr><td>Bangladesh</td><td>164972348</td><td>1265</td><td>130170</td></tr><tr><td>Russia</td><td>145945524</td><td>9</td><td>16376870</td></tr><tr><td>Mexico</td><td>129166028</td><td>66</td><td>1943950</td></tr><tr><td>Japan</td><td>126407422</td><td>347</td><td>364555</td></tr><tr><td>Ethiopia</td><td>115434444</td><td>115</td><td>1000000</td></tr><tr><td>Philippines</td><td>109830324</td><td>368</td><td>298170</td></tr><tr><td>Egypt</td><td>102659126</td><td>103</td><td>995450</td></tr><tr><td>Vietnam</td><td>97490013</td><td>314</td><td>310070</td></tr><tr><td>DR Congo</td><td>90003954</td><td>40</td><td>2267050</td></tr><tr><td>Turkey</td><td>84495243</td><td>110</td><td>769630</td></tr><tr><td>Iran</td><td>84176929</td><td>52</td><td>1628550</td></tr><tr><td>Germany</td><td>83830972</td><td>240</td><td>348560</td></tr><tr><td>Thailand</td><td>69830779</td><td>137</td><td>510890</td></tr>\n",
       "            </table>\n",
       "        "
      ]
     },
     "metadata": {},
     "output_type": "display_data"
    }
   ],
   "source": [
    "populationRDD.toDF.showHTML()"
   ]
  },
  {
   "cell_type": "markdown",
   "metadata": {},
   "source": [
    "### Un join computacionalmente pesado desde el principio ya que cruza todos los datos sin quedarnos con los que nos interesen"
   ]
  },
  {
   "cell_type": "markdown",
   "metadata": {},
   "source": [
    "Spark no me deja hacer un Join de RDD que no sean pair RDD así que tenemos que construirlo"
   ]
  },
  {
   "cell_type": "code",
   "execution_count": 30,
   "metadata": {},
   "outputs": [],
   "source": [
    "// populationRDD.join(infectionRDD)"
   ]
  },
  {
   "cell_type": "markdown",
   "metadata": {},
   "source": [
    "Construyo Pair RDDs conservando todos los datos"
   ]
  },
  {
   "cell_type": "code",
   "execution_count": 31,
   "metadata": {},
   "outputs": [
    {
     "data": {
      "text/plain": [
       "\u001b[36mpopulationByCountry\u001b[39m: \u001b[32mRDD\u001b[39m[(\u001b[32mString\u001b[39m, \u001b[32mPopulation\u001b[39m)] = MapPartitionsRDD[39] at map at cmd30.sc:1\n",
       "\u001b[36minfectionByCountry\u001b[39m: \u001b[32mRDD\u001b[39m[(\u001b[32mString\u001b[39m, \u001b[32mInfection\u001b[39m)] = MapPartitionsRDD[40] at map at cmd30.sc:5"
      ]
     },
     "execution_count": 31,
     "metadata": {},
     "output_type": "execute_result"
    }
   ],
   "source": [
    "val populationByCountry = populationRDD.map(\n",
    "    x => (x.country,x))\n",
    "\n",
    "val infectionByCountry = \n",
    "      infectionRDD.map(x => (x.country,x))"
   ]
  },
  {
   "cell_type": "markdown",
   "metadata": {},
   "source": [
    "Hago el Join y agrupo por paises"
   ]
  },
  {
   "cell_type": "code",
   "execution_count": 32,
   "metadata": {},
   "outputs": [
    {
     "data": {
      "text/plain": [
       "\u001b[36mmegaRDD\u001b[39m: \u001b[32mRDD\u001b[39m[(\u001b[32mString\u001b[39m, \u001b[32mIterable\u001b[39m[(\u001b[32mInfection\u001b[39m, \u001b[32mPopulation\u001b[39m)])] = MapPartitionsRDD[44] at groupByKey at cmd31.sc:1"
      ]
     },
     "execution_count": 32,
     "metadata": {},
     "output_type": "execute_result"
    }
   ],
   "source": [
    "val megaRDD = infectionByCountry.join(populationByCountry).groupByKey()"
   ]
  },
  {
   "cell_type": "markdown",
   "metadata": {},
   "source": [
    "Finalmente calculo la media"
   ]
  },
  {
   "cell_type": "code",
   "execution_count": 33,
   "metadata": {},
   "outputs": [
    {
     "data": {
      "text/plain": [
       "\u001b[36mres32\u001b[39m: \u001b[32mRDD\u001b[39m[(\u001b[32mString\u001b[39m, \u001b[32mFloat\u001b[39m)] = MapPartitionsRDD[46] at mapValues at cmd32.sc:5"
      ]
     },
     "execution_count": 33,
     "metadata": {},
     "output_type": "execute_result"
    }
   ],
   "source": [
    "megaRDD.mapValues(\n",
    "    x => x.map( \n",
    "        line => line._1.nCases.toFloat / line._2.land_area.toFloat\n",
    "    )).mapValues(\n",
    "    x => x.sum / x.size\n",
    ")"
   ]
  },
  {
   "cell_type": "markdown",
   "metadata": {},
   "source": [
    "Lo hago todo en una única operación para calcular el tiempo de ejecución"
   ]
  },
  {
   "cell_type": "code",
   "execution_count": 34,
   "metadata": {},
   "outputs": [
    {
     "data": {
      "text/plain": [
       "\u001b[36mnotOptimizedRDD\u001b[39m: \u001b[32mRDD\u001b[39m[(\u001b[32mString\u001b[39m, \u001b[32mFloat\u001b[39m)] = MapPartitionsRDD[52] at mapValues at cmd33.sc:8"
      ]
     },
     "execution_count": 34,
     "metadata": {},
     "output_type": "execute_result"
    }
   ],
   "source": [
    "val notOptimizedRDD =\n",
    "    infectionByCountry.join(populationByCountry)\n",
    "    .groupByKey()\n",
    "    .mapValues(\n",
    "    x => x.map( \n",
    "        line => line._1.nCases.toFloat / line._2.land_area.toFloat)\n",
    "    ).mapValues(\n",
    "        x => x.sum / x.size\n",
    "    )"
   ]
  },
  {
   "cell_type": "markdown",
   "metadata": {},
   "source": [
    "¿Hay alguna diferencia cruzando los datos en orden inverso? Parece que no"
   ]
  },
  {
   "cell_type": "markdown",
   "metadata": {},
   "source": [
    "#### Para optimizar un poco esta consulta:"
   ]
  },
  {
   "cell_type": "markdown",
   "metadata": {},
   "source": [
    "Despejo solo los datos que me interesan para trabajar con Pair RDDs y optimizar la consulta"
   ]
  },
  {
   "cell_type": "code",
   "execution_count": 35,
   "metadata": {},
   "outputs": [
    {
     "data": {
      "text/plain": [
       "\u001b[36mcountriesAndLandArea\u001b[39m: \u001b[32mRDD\u001b[39m[(\u001b[32mString\u001b[39m, \u001b[32mInt\u001b[39m)] = MapPartitionsRDD[53] at map at cmd34.sc:1"
      ]
     },
     "execution_count": 35,
     "metadata": {},
     "output_type": "execute_result"
    }
   ],
   "source": [
    "val countriesAndLandArea = populationRDD.map(\n",
    "    x => (x.country,x.land_area))"
   ]
  },
  {
   "cell_type": "code",
   "execution_count": 36,
   "metadata": {},
   "outputs": [
    {
     "data": {
      "text/plain": [
       "\u001b[36mcountriesAndCases\u001b[39m: \u001b[32mRDD\u001b[39m[(\u001b[32mString\u001b[39m, \u001b[32mIterable\u001b[39m[\u001b[32mInt\u001b[39m])] = ShuffledRDD[55] at groupByKey at cmd35.sc:2"
      ]
     },
     "execution_count": 36,
     "metadata": {},
     "output_type": "execute_result"
    }
   ],
   "source": [
    "val countriesAndCases = \n",
    "      infectionRDD.map(x => (x.country,x.nCases))\n",
    "      .groupByKey()"
   ]
  },
  {
   "cell_type": "markdown",
   "metadata": {},
   "source": [
    "Ejecuto un join y trabajo para calcular primero la media de infecciones por Km2 diaria, \n",
    "para luego calcular la media total"
   ]
  },
  {
   "cell_type": "code",
   "execution_count": 37,
   "metadata": {},
   "outputs": [
    {
     "data": {
      "text/plain": [
       "\u001b[36maverage\u001b[39m: \u001b[32mRDD\u001b[39m[(\u001b[32mString\u001b[39m, (\u001b[32mIterable\u001b[39m[\u001b[32mInt\u001b[39m], \u001b[32mInt\u001b[39m))] = MapPartitionsRDD[58] at join at cmd36.sc:1"
      ]
     },
     "execution_count": 37,
     "metadata": {},
     "output_type": "execute_result"
    }
   ],
   "source": [
    "val average = countriesAndCases.join(countriesAndLandArea)"
   ]
  },
  {
   "cell_type": "code",
   "execution_count": 38,
   "metadata": {},
   "outputs": [
    {
     "data": {
      "text/plain": [
       "\u001b[36mres37\u001b[39m: \u001b[32mRDD\u001b[39m[(\u001b[32mString\u001b[39m, \u001b[32mFloat\u001b[39m)] = MapPartitionsRDD[60] at mapValues at cmd37.sc:5"
      ]
     },
     "execution_count": 38,
     "metadata": {},
     "output_type": "execute_result"
    }
   ],
   "source": [
    "average.mapValues(\n",
    "    x => x._1.map(\n",
    "        y => (y.toFloat / x._2.toFloat)\n",
    "    )).mapValues(\n",
    "    x => x.sum/x.size\n",
    ")"
   ]
  },
  {
   "cell_type": "markdown",
   "metadata": {},
   "source": [
    "Lo hago todo en una única operación para calcular el tiempo de ejecución"
   ]
  },
  {
   "cell_type": "code",
   "execution_count": 39,
   "metadata": {},
   "outputs": [
    {
     "data": {
      "text/plain": [
       "\u001b[36mquerie1\u001b[39m: \u001b[32mRDD\u001b[39m[(\u001b[32mString\u001b[39m, \u001b[32mDouble\u001b[39m)] = MapPartitionsRDD[65] at mapValues at cmd38.sc:7"
      ]
     },
     "execution_count": 39,
     "metadata": {},
     "output_type": "execute_result"
    }
   ],
   "source": [
    "val querie1 =\n",
    "countriesAndCases.join(countriesAndLandArea)   \n",
    ".mapValues(\n",
    "    x => x._1.map(\n",
    "        y => (y.toDouble / x._2.toDouble)\n",
    "    )).mapValues(\n",
    "    x => x.sum / x.size\n",
    ")"
   ]
  },
  {
   "cell_type": "markdown",
   "metadata": {},
   "source": [
    "## Consulta con DataSet"
   ]
  },
  {
   "cell_type": "code",
   "execution_count": 40,
   "metadata": {},
   "outputs": [
    {
     "data": {
      "text/html": [
       "<div>\n",
       "  <span style=\"float: left;\">csv at cmd39.sc:6</span>\n",
       "</div>\n"
      ]
     },
     "metadata": {},
     "output_type": "display_data"
    },
    {
     "data": {
      "text/html": [
       "<div class=\"progress\">\n",
       "  <div class=\"progress-bar\" role=\"progressbar\" style=\"background-color: blue; width: 100%; word-wrap: normal; white-space: nowrap; text-align: center; color: white\" aria-valuenow=\"100\" aria-valuemin=\"0\" aria-valuemax=\"100\">\n",
       "    1 / 1\n",
       "  </div>\n",
       "  <div class=\"progress-bar\" role=\"progressbar\" style=\"background-color: red; width: 0%\" aria-valuenow=\"0\" aria-valuemin=\"0\" aria-valuemax=\"100\"></div>\n",
       "</div>\n"
      ]
     },
     "metadata": {},
     "output_type": "display_data"
    },
    {
     "data": {
      "text/html": [
       "<div>\n",
       "  <span style=\"float: left;\">csv at cmd39.sc:6</span>\n",
       "</div>\n"
      ]
     },
     "metadata": {},
     "output_type": "display_data"
    },
    {
     "data": {
      "text/html": [
       "<div class=\"progress\">\n",
       "  <div class=\"progress-bar\" role=\"progressbar\" style=\"background-color: blue; width: 100%; word-wrap: normal; white-space: nowrap; text-align: center; color: white\" aria-valuenow=\"100\" aria-valuemin=\"0\" aria-valuemax=\"100\">\n",
       "    2 / 2\n",
       "  </div>\n",
       "  <div class=\"progress-bar\" role=\"progressbar\" style=\"background-color: red; width: 0%\" aria-valuenow=\"0\" aria-valuemin=\"0\" aria-valuemax=\"100\"></div>\n",
       "</div>\n"
      ]
     },
     "metadata": {},
     "output_type": "display_data"
    },
    {
     "data": {
      "text/plain": [
       "\u001b[36minfectionDS\u001b[39m: \u001b[32mDataset\u001b[39m[(\u001b[32mString\u001b[39m, \u001b[32mString\u001b[39m, \u001b[32mString\u001b[39m, \u001b[32mString\u001b[39m, \u001b[32mDouble\u001b[39m, \u001b[32mDouble\u001b[39m, \u001b[32mString\u001b[39m, \u001b[32mString\u001b[39m, \u001b[32mString\u001b[39m, \u001b[32mString\u001b[39m, \u001b[32mString\u001b[39m, \u001b[32mString\u001b[39m)] = [dateRep: string, day: int ... 10 more fields]"
      ]
     },
     "execution_count": 40,
     "metadata": {},
     "output_type": "execute_result"
    }
   ],
   "source": [
    "val infectionDS = spark.read\n",
    ".option(\"header\", \"true\")\n",
    ".option(\"charset\", \"UTF8\")\n",
    ".option(\"delimiter\",\",\")\n",
    ".option(\"inferSchema\", \"true\")\n",
    ".csv(\"covidworldwide.csv\")\n",
    ".withColumnRenamed(\"countriesAndTerritories\",\"Country\")\n",
    ".as[(String,String,String,String,Double,Double,String,String,String,String,String,String)]"
   ]
  },
  {
   "cell_type": "code",
   "execution_count": 41,
   "metadata": {},
   "outputs": [
    {
     "data": {
      "text/html": [
       "<div>\n",
       "  <span style=\"float: left;\">csv at cmd40.sc:6</span>\n",
       "</div>\n"
      ]
     },
     "metadata": {},
     "output_type": "display_data"
    },
    {
     "data": {
      "text/html": [
       "<div class=\"progress\">\n",
       "  <div class=\"progress-bar\" role=\"progressbar\" style=\"background-color: blue; width: 100%; word-wrap: normal; white-space: nowrap; text-align: center; color: white\" aria-valuenow=\"100\" aria-valuemin=\"0\" aria-valuemax=\"100\">\n",
       "    1 / 1\n",
       "  </div>\n",
       "  <div class=\"progress-bar\" role=\"progressbar\" style=\"background-color: red; width: 0%\" aria-valuenow=\"0\" aria-valuemin=\"0\" aria-valuemax=\"100\"></div>\n",
       "</div>\n"
      ]
     },
     "metadata": {},
     "output_type": "display_data"
    },
    {
     "data": {
      "text/html": [
       "<div>\n",
       "  <span style=\"float: left;\">csv at cmd40.sc:6</span>\n",
       "</div>\n"
      ]
     },
     "metadata": {},
     "output_type": "display_data"
    },
    {
     "data": {
      "text/html": [
       "<div class=\"progress\">\n",
       "  <div class=\"progress-bar\" role=\"progressbar\" style=\"background-color: blue; width: 100%; word-wrap: normal; white-space: nowrap; text-align: center; color: white\" aria-valuenow=\"100\" aria-valuemin=\"0\" aria-valuemax=\"100\">\n",
       "    1 / 1\n",
       "  </div>\n",
       "  <div class=\"progress-bar\" role=\"progressbar\" style=\"background-color: red; width: 0%\" aria-valuenow=\"0\" aria-valuemin=\"0\" aria-valuemax=\"100\"></div>\n",
       "</div>\n"
      ]
     },
     "metadata": {},
     "output_type": "display_data"
    },
    {
     "data": {
      "text/plain": [
       "\u001b[36mdsPopulation\u001b[39m: \u001b[32mDataset\u001b[39m[(\u001b[32mString\u001b[39m, \u001b[32mFloat\u001b[39m, \u001b[32mString\u001b[39m, \u001b[32mFloat\u001b[39m, \u001b[32mFloat\u001b[39m, \u001b[32mFloat\u001b[39m, \u001b[32mDouble\u001b[39m, \u001b[32mString\u001b[39m, \u001b[32mString\u001b[39m, \u001b[32mString\u001b[39m, \u001b[32mString\u001b[39m)] = [Country: string, Population: int ... 9 more fields]"
      ]
     },
     "execution_count": 41,
     "metadata": {},
     "output_type": "execute_result"
    }
   ],
   "source": [
    "val dsPopulation = spark.read\n",
    ".option(\"header\", \"true\")\n",
    ".option(\"charset\", \"UTF8\")\n",
    ".option(\"delimiter\",\",\")\n",
    ".option(\"inferSchema\", \"true\")\n",
    ".csv(\"population_by_country_2020.csv\")\n",
    ".withColumnRenamed(\"Country (or dependency)\",\"Country\")\n",
    ".withColumnRenamed(\"Population (2020)\",\"Population\")\n",
    ".as[(String,Float,String,Float,Float,Float,Double,String,String,String,String)]"
   ]
  },
  {
   "cell_type": "markdown",
   "metadata": {},
   "source": [
    "### infecciones por Km2"
   ]
  },
  {
   "cell_type": "code",
   "execution_count": 42,
   "metadata": {},
   "outputs": [
    {
     "data": {
      "text/plain": [
       "\u001b[36mquerie2_1\u001b[39m: \u001b[32mDataset\u001b[39m[(\u001b[32mString\u001b[39m, \u001b[32mDouble\u001b[39m)] = [Country: string, round(avg(infection Per Km²), 10): double]"
      ]
     },
     "execution_count": 42,
     "metadata": {},
     "output_type": "execute_result"
    }
   ],
   "source": [
    "val querie2_1 = \n",
    "infectionDS.join(dsPopulation, \"Country\")\n",
    "        .select($\"Country\",\n",
    "                $\"dateRep\" as \"date\",\n",
    "                $\"cases\",\n",
    "                $\"Land Area (Km\\u00b2)\",\n",
    "                $\"cases\" / $\"Land Area (Km\\u00b2)\" as \"infection Per Km\\u00b2\")\n",
    "        .groupBy(\"Country\")\n",
    "        .agg(round(avg(\"infection Per Km\\u00b2\"),10).as[Float])\n",
    "        .orderBy(desc(\"round(avg(infection Per Km²), 10)\"))\n",
    "        .as[(String,Double)]"
   ]
  },
  {
   "cell_type": "markdown",
   "metadata": {},
   "source": [
    "### infecciones por número de habitantes"
   ]
  },
  {
   "cell_type": "code",
   "execution_count": 43,
   "metadata": {},
   "outputs": [
    {
     "data": {
      "text/plain": [
       "\u001b[36mquerie2\u001b[39m: \u001b[32mDataset\u001b[39m[(\u001b[32mString\u001b[39m, \u001b[32mDouble\u001b[39m)] = [country: string, avg(infection Per Population): double]"
      ]
     },
     "execution_count": 43,
     "metadata": {},
     "output_type": "execute_result"
    }
   ],
   "source": [
    "val querie2 = \n",
    "infectionDS.join(dsPopulation, \"Country\")\n",
    "        .select($\"Country\",\n",
    "                $\"dateRep\" as \"date\",\n",
    "                $\"cases\",\n",
    "                $\"Land Area (Km\\u00b2)\",\n",
    "               $\"cases\" / $\"Population\" as \"infection Per Population\")\n",
    "        .groupBy(\"country\")\n",
    "        .avg(\"infection Per Population\")\n",
    "        .orderBy(desc(\"avg(infection Per Population)\"))\n",
    "        .as[(String,Double)]"
   ]
  },
  {
   "cell_type": "markdown",
   "metadata": {},
   "source": [
    "## Consulta con DataFrame"
   ]
  },
  {
   "cell_type": "code",
   "execution_count": 44,
   "metadata": {},
   "outputs": [
    {
     "data": {
      "text/html": [
       "<div>\n",
       "  <span style=\"float: left;\">csv at cmd43.sc:6</span>\n",
       "</div>\n"
      ]
     },
     "metadata": {},
     "output_type": "display_data"
    },
    {
     "data": {
      "text/html": [
       "<div class=\"progress\">\n",
       "  <div class=\"progress-bar\" role=\"progressbar\" style=\"background-color: blue; width: 100%; word-wrap: normal; white-space: nowrap; text-align: center; color: white\" aria-valuenow=\"100\" aria-valuemin=\"0\" aria-valuemax=\"100\">\n",
       "    1 / 1\n",
       "  </div>\n",
       "  <div class=\"progress-bar\" role=\"progressbar\" style=\"background-color: red; width: 0%\" aria-valuenow=\"0\" aria-valuemin=\"0\" aria-valuemax=\"100\"></div>\n",
       "</div>\n"
      ]
     },
     "metadata": {},
     "output_type": "display_data"
    },
    {
     "data": {
      "text/html": [
       "<div>\n",
       "  <span style=\"float: left;\">csv at cmd43.sc:6</span>\n",
       "</div>\n"
      ]
     },
     "metadata": {},
     "output_type": "display_data"
    },
    {
     "data": {
      "text/html": [
       "<div class=\"progress\">\n",
       "  <div class=\"progress-bar\" role=\"progressbar\" style=\"background-color: blue; width: 100%; word-wrap: normal; white-space: nowrap; text-align: center; color: white\" aria-valuenow=\"100\" aria-valuemin=\"0\" aria-valuemax=\"100\">\n",
       "    2 / 2\n",
       "  </div>\n",
       "  <div class=\"progress-bar\" role=\"progressbar\" style=\"background-color: red; width: 0%\" aria-valuenow=\"0\" aria-valuemin=\"0\" aria-valuemax=\"100\"></div>\n",
       "</div>\n"
      ]
     },
     "metadata": {},
     "output_type": "display_data"
    },
    {
     "data": {
      "text/plain": [
       "\u001b[36mdfCovid\u001b[39m: \u001b[32mDataFrame\u001b[39m = [dateRep: string, day: int ... 10 more fields]"
      ]
     },
     "execution_count": 44,
     "metadata": {},
     "output_type": "execute_result"
    }
   ],
   "source": [
    "val dfCovid = spark.read\n",
    ".option(\"header\", \"true\")\n",
    ".option(\"charset\", \"UTF8\")\n",
    ".option(\"delimiter\",\",\")\n",
    ".option(\"inferSchema\", \"true\")\n",
    ".csv(\"covidworldwide.csv\")"
   ]
  },
  {
   "cell_type": "code",
   "execution_count": 45,
   "metadata": {},
   "outputs": [
    {
     "data": {
      "text/html": [
       "<div>\n",
       "  <span style=\"float: left;\">csv at cmd44.sc:6</span>\n",
       "</div>\n"
      ]
     },
     "metadata": {},
     "output_type": "display_data"
    },
    {
     "data": {
      "text/html": [
       "<div class=\"progress\">\n",
       "  <div class=\"progress-bar\" role=\"progressbar\" style=\"background-color: blue; width: 100%; word-wrap: normal; white-space: nowrap; text-align: center; color: white\" aria-valuenow=\"100\" aria-valuemin=\"0\" aria-valuemax=\"100\">\n",
       "    1 / 1\n",
       "  </div>\n",
       "  <div class=\"progress-bar\" role=\"progressbar\" style=\"background-color: red; width: 0%\" aria-valuenow=\"0\" aria-valuemin=\"0\" aria-valuemax=\"100\"></div>\n",
       "</div>\n"
      ]
     },
     "metadata": {},
     "output_type": "display_data"
    },
    {
     "data": {
      "text/html": [
       "<div>\n",
       "  <span style=\"float: left;\">csv at cmd44.sc:6</span>\n",
       "</div>\n"
      ]
     },
     "metadata": {},
     "output_type": "display_data"
    },
    {
     "data": {
      "text/html": [
       "<div class=\"progress\">\n",
       "  <div class=\"progress-bar\" role=\"progressbar\" style=\"background-color: blue; width: 100%; word-wrap: normal; white-space: nowrap; text-align: center; color: white\" aria-valuenow=\"100\" aria-valuemin=\"0\" aria-valuemax=\"100\">\n",
       "    1 / 1\n",
       "  </div>\n",
       "  <div class=\"progress-bar\" role=\"progressbar\" style=\"background-color: red; width: 0%\" aria-valuenow=\"0\" aria-valuemin=\"0\" aria-valuemax=\"100\"></div>\n",
       "</div>\n"
      ]
     },
     "metadata": {},
     "output_type": "display_data"
    },
    {
     "data": {
      "text/html": [
       "<div>\n",
       "  <span style=\"float: left;\">show at cmd44.sc:7</span>\n",
       "</div>\n"
      ]
     },
     "metadata": {},
     "output_type": "display_data"
    },
    {
     "data": {
      "text/html": [
       "<div class=\"progress\">\n",
       "  <div class=\"progress-bar\" role=\"progressbar\" style=\"background-color: blue; width: 100%; word-wrap: normal; white-space: nowrap; text-align: center; color: white\" aria-valuenow=\"100\" aria-valuemin=\"0\" aria-valuemax=\"100\">\n",
       "    1 / 1\n",
       "  </div>\n",
       "  <div class=\"progress-bar\" role=\"progressbar\" style=\"background-color: red; width: 0%\" aria-valuenow=\"0\" aria-valuemin=\"0\" aria-valuemax=\"100\"></div>\n",
       "</div>\n"
      ]
     },
     "metadata": {},
     "output_type": "display_data"
    },
    {
     "name": "stdout",
     "output_type": "stream",
     "text": [
      "+-------+--------------------+-------------------+----------+\n",
      "|Country|    Response_measure|         date_start|  date_end|\n",
      "+-------+--------------------+-------------------+----------+\n",
      "|Austria|AdaptationOfWorkp...|2020-03-16 00:00:00|2020-04-13|\n",
      "|Austria|AdaptationOfWorkp...|2021-04-01 00:00:00|        NA|\n",
      "|Austria|      BanOnAllEvents|2020-11-03 00:00:00|        NA|\n",
      "|Austria|         ClosDaycare|2020-03-16 00:00:00|2020-05-04|\n",
      "|Austria|  ClosDaycarePartial|2020-11-17 00:00:00|2020-12-07|\n",
      "|Austria|            ClosHigh|2020-03-16 00:00:00|2020-09-30|\n",
      "|Austria|     ClosHighPartial|2020-11-03 00:00:00|        NA|\n",
      "|Austria|            ClosPrim|2020-03-16 00:00:00|2020-05-18|\n",
      "|Austria|            ClosPrim|2020-12-26 00:00:00|2021-02-07|\n",
      "|Austria|     ClosPrimPartial|2020-11-17 00:00:00|2020-12-07|\n",
      "|Austria|          ClosPubAny|2020-03-16 00:00:00|2020-04-13|\n",
      "|Austria|          ClosPubAny|2020-05-02 00:00:00|2020-05-14|\n",
      "|Austria|          ClosPubAny|2020-11-16 00:00:00|2020-12-06|\n",
      "|Austria|          ClosPubAny|2020-12-28 00:00:00|2021-02-06|\n",
      "|Austria|   ClosPubAnyPartial|2020-04-14 00:00:00|2020-05-01|\n",
      "|Austria|   ClosPubAnyPartial|2020-05-15 00:00:00|2020-11-15|\n",
      "|Austria|   ClosPubAnyPartial|2020-12-07 00:00:00|2020-12-27|\n",
      "|Austria|   ClosPubAnyPartial|2021-02-07 00:00:00|        NA|\n",
      "|Austria|             ClosSec|2020-03-16 00:00:00|2020-05-03|\n",
      "|Austria|             ClosSec|2020-11-03 00:00:00|2021-02-07|\n",
      "+-------+--------------------+-------------------+----------+\n",
      "only showing top 20 rows\n",
      "\n"
     ]
    },
    {
     "data": {
      "text/plain": [
       "\u001b[36mdfMeasures\u001b[39m: \u001b[32mDataFrame\u001b[39m = [Country: string, Response_measure: string ... 2 more fields]\n",
       "\u001b[36mres44_2\u001b[39m: \u001b[32mStructType\u001b[39m = \u001b[33mStructType\u001b[39m(\n",
       "  \u001b[33mStructField\u001b[39m(\u001b[32m\"Country\"\u001b[39m, StringType, true, {}),\n",
       "  \u001b[33mStructField\u001b[39m(\u001b[32m\"Response_measure\"\u001b[39m, StringType, true, {}),\n",
       "  \u001b[33mStructField\u001b[39m(\u001b[32m\"date_start\"\u001b[39m, TimestampType, true, {}),\n",
       "  \u001b[33mStructField\u001b[39m(\u001b[32m\"date_end\"\u001b[39m, StringType, true, {})\n",
       ")"
      ]
     },
     "execution_count": 45,
     "metadata": {},
     "output_type": "execute_result"
    }
   ],
   "source": [
    "val dfMeasures = spark.read\n",
    ".option(\"header\", \"true\")\n",
    ".option(\"charset\", \"UTF8\")\n",
    ".option(\"delimiter\",\",\")\n",
    ".option(\"inferSchema\", \"true\")\n",
    ".csv(\"response_graphs_data_2021-04-15.csv\")\n",
    "dfMeasures.show\n",
    "dfMeasures.schema"
   ]
  },
  {
   "cell_type": "code",
   "execution_count": 46,
   "metadata": {},
   "outputs": [
    {
     "data": {
      "text/html": [
       "<div>\n",
       "  <span style=\"float: left;\">csv at cmd45.sc:6</span>\n",
       "</div>\n"
      ]
     },
     "metadata": {},
     "output_type": "display_data"
    },
    {
     "data": {
      "text/html": [
       "<div class=\"progress\">\n",
       "  <div class=\"progress-bar\" role=\"progressbar\" style=\"background-color: blue; width: 100%; word-wrap: normal; white-space: nowrap; text-align: center; color: white\" aria-valuenow=\"100\" aria-valuemin=\"0\" aria-valuemax=\"100\">\n",
       "    1 / 1\n",
       "  </div>\n",
       "  <div class=\"progress-bar\" role=\"progressbar\" style=\"background-color: red; width: 0%\" aria-valuenow=\"0\" aria-valuemin=\"0\" aria-valuemax=\"100\"></div>\n",
       "</div>\n"
      ]
     },
     "metadata": {},
     "output_type": "display_data"
    },
    {
     "data": {
      "text/html": [
       "<div>\n",
       "  <span style=\"float: left;\">csv at cmd45.sc:6</span>\n",
       "</div>\n"
      ]
     },
     "metadata": {},
     "output_type": "display_data"
    },
    {
     "data": {
      "text/html": [
       "<div class=\"progress\">\n",
       "  <div class=\"progress-bar\" role=\"progressbar\" style=\"background-color: blue; width: 100%; word-wrap: normal; white-space: nowrap; text-align: center; color: white\" aria-valuenow=\"100\" aria-valuemin=\"0\" aria-valuemax=\"100\">\n",
       "    1 / 1\n",
       "  </div>\n",
       "  <div class=\"progress-bar\" role=\"progressbar\" style=\"background-color: red; width: 0%\" aria-valuenow=\"0\" aria-valuemin=\"0\" aria-valuemax=\"100\"></div>\n",
       "</div>\n"
      ]
     },
     "metadata": {},
     "output_type": "display_data"
    },
    {
     "data": {
      "text/html": [
       "<div>\n",
       "  <span style=\"float: left;\">take at cmd8.sc:4</span>\n",
       "</div>\n"
      ]
     },
     "metadata": {},
     "output_type": "display_data"
    },
    {
     "data": {
      "text/html": [
       "<div class=\"progress\">\n",
       "  <div class=\"progress-bar\" role=\"progressbar\" style=\"background-color: blue; width: 100%; word-wrap: normal; white-space: nowrap; text-align: center; color: white\" aria-valuenow=\"100\" aria-valuemin=\"0\" aria-valuemax=\"100\">\n",
       "    1 / 1\n",
       "  </div>\n",
       "  <div class=\"progress-bar\" role=\"progressbar\" style=\"background-color: red; width: 0%\" aria-valuenow=\"0\" aria-valuemin=\"0\" aria-valuemax=\"100\"></div>\n",
       "</div>\n"
      ]
     },
     "metadata": {},
     "output_type": "display_data"
    },
    {
     "data": {
      "text/html": [
       " <table>\n",
       "                <tr>\n",
       "                 <th>Country</th><th>Population</th><th>Yearly Change</th><th>Net Change</th><th>Density (P/Km²)</th><th>Land Area (Km²)</th><th>Migrants (net)</th><th>Fert. Rate</th><th>Med. Age</th><th>Urban Pop %</th><th>World Share</th>\n",
       "                </tr>\n",
       "                <tr><td>China</td><td>1440297825</td><td>0.39 %</td><td>5540090</td><td>153</td><td>9388211</td><td>-348399.0</td><td>1.7</td><td>38</td><td>61 %</td><td>18.47 %</td></tr><tr><td>India</td><td>1382345085</td><td>0.99 %</td><td>13586631</td><td>464</td><td>2973190</td><td>-532687.0</td><td>2.2</td><td>28</td><td>35 %</td><td>17.70 %</td></tr><tr><td>United States</td><td>331341050</td><td>0.59 %</td><td>1937734</td><td>36</td><td>9147420</td><td>954806.0</td><td>1.8</td><td>38</td><td>83 %</td><td>4.25 %</td></tr><tr><td>Indonesia</td><td>274021604</td><td>1.07 %</td><td>2898047</td><td>151</td><td>1811570</td><td>-98955.0</td><td>2.3</td><td>30</td><td>56 %</td><td>3.51 %</td></tr><tr><td>Pakistan</td><td>221612785</td><td>2.00 %</td><td>4327022</td><td>287</td><td>770880</td><td>-233379.0</td><td>3.6</td><td>23</td><td>35 %</td><td>2.83 %</td></tr><tr><td>Brazil</td><td>212821986</td><td>0.72 %</td><td>1509890</td><td>25</td><td>8358140</td><td>21200.0</td><td>1.7</td><td>33</td><td>88 %</td><td>2.73 %</td></tr><tr><td>Nigeria</td><td>206984347</td><td>2.58 %</td><td>5175990</td><td>226</td><td>910770</td><td>-60000.0</td><td>5.4</td><td>18</td><td>52 %</td><td>2.64 %</td></tr><tr><td>Bangladesh</td><td>164972348</td><td>1.01 %</td><td>1643222</td><td>1265</td><td>130170</td><td>-369501.0</td><td>2.1</td><td>28</td><td>39 %</td><td>2.11 %</td></tr><tr><td>Russia</td><td>145945524</td><td>0.04 %</td><td>62206</td><td>9</td><td>16376870</td><td>182456.0</td><td>1.8</td><td>40</td><td>74 %</td><td>1.87 %</td></tr><tr><td>Mexico</td><td>129166028</td><td>1.06 %</td><td>1357224</td><td>66</td><td>1943950</td><td>-60000.0</td><td>2.1</td><td>29</td><td>84 %</td><td>1.65 %</td></tr><tr><td>Japan</td><td>126407422</td><td>-0.30 %</td><td>-383840</td><td>347</td><td>364555</td><td>71560.0</td><td>1.4</td><td>48</td><td>92 %</td><td>1.62 %</td></tr><tr><td>Ethiopia</td><td>115434444</td><td>2.57 %</td><td>2884858</td><td>115</td><td>1000000</td><td>30000.0</td><td>4.3</td><td>19</td><td>21 %</td><td>1.47 %</td></tr><tr><td>Philippines</td><td>109830324</td><td>1.35 %</td><td>1464463</td><td>368</td><td>298170</td><td>-67152.0</td><td>2.6</td><td>26</td><td>47 %</td><td>1.41 %</td></tr><tr><td>Egypt</td><td>102659126</td><td>1.94 %</td><td>1946331</td><td>103</td><td>995450</td><td>-38033.0</td><td>3.3</td><td>25</td><td>43 %</td><td>1.31 %</td></tr><tr><td>Vietnam</td><td>97490013</td><td>0.91 %</td><td>876473</td><td>314</td><td>310070</td><td>-80000.0</td><td>2.1</td><td>32</td><td>38 %</td><td>1.25 %</td></tr><tr><td>DR Congo</td><td>90003954</td><td>3.19 %</td><td>2770836</td><td>40</td><td>2267050</td><td>23861.0</td><td>6.0</td><td>17</td><td>46 %</td><td>1.15 %</td></tr><tr><td>Turkey</td><td>84495243</td><td>1.09 %</td><td>909452</td><td>110</td><td>769630</td><td>283922.0</td><td>2.1</td><td>32</td><td>76 %</td><td>1.08 %</td></tr><tr><td>Iran</td><td>84176929</td><td>1.30 %</td><td>1079043</td><td>52</td><td>1628550</td><td>-55000.0</td><td>2.2</td><td>32</td><td>76 %</td><td>1.08 %</td></tr><tr><td>Germany</td><td>83830972</td><td>0.32 %</td><td>266897</td><td>240</td><td>348560</td><td>543822.0</td><td>1.6</td><td>46</td><td>76 %</td><td>1.07 %</td></tr><tr><td>Thailand</td><td>69830779</td><td>0.25 %</td><td>174396</td><td>137</td><td>510890</td><td>19444.0</td><td>1.5</td><td>40</td><td>51 %</td><td>0.90 %</td></tr>\n",
       "            </table>\n",
       "        "
      ]
     },
     "metadata": {},
     "output_type": "display_data"
    },
    {
     "data": {
      "text/plain": [
       "\u001b[36mdfPopulation\u001b[39m: \u001b[32mDataFrame\u001b[39m = [Country: string, Population: int ... 9 more fields]\n",
       "\u001b[36mres45_2\u001b[39m: \u001b[32mStructType\u001b[39m = \u001b[33mStructType\u001b[39m(\n",
       "  \u001b[33mStructField\u001b[39m(\u001b[32m\"Country\"\u001b[39m, StringType, true, {}),\n",
       "  \u001b[33mStructField\u001b[39m(\u001b[32m\"Population\"\u001b[39m, IntegerType, true, {}),\n",
       "  \u001b[33mStructField\u001b[39m(\u001b[32m\"Yearly Change\"\u001b[39m, StringType, true, {}),\n",
       "  \u001b[33mStructField\u001b[39m(\u001b[32m\"Net Change\"\u001b[39m, IntegerType, true, {}),\n",
       "  \u001b[33mStructField\u001b[39m(\u001b[32m\"Density (P/Km\\u00b2)\"\u001b[39m, IntegerType, true, {}),\n",
       "  \u001b[33mStructField\u001b[39m(\u001b[32m\"Land Area (Km\\u00b2)\"\u001b[39m, IntegerType, true, {}),\n",
       "  \u001b[33mStructField\u001b[39m(\u001b[32m\"Migrants (net)\"\u001b[39m, DoubleType, true, {}),\n",
       "  \u001b[33mStructField\u001b[39m(\u001b[32m\"Fert. Rate\"\u001b[39m, StringType, true, {}),\n",
       "  \u001b[33mStructField\u001b[39m(\u001b[32m\"Med. Age\"\u001b[39m, StringType, true, {}),\n",
       "  \u001b[33mStructField\u001b[39m(\u001b[32m\"Urban Pop %\"\u001b[39m, StringType, true, {}),\n",
       "  \u001b[33mStructField\u001b[39m(\u001b[32m\"World Share\"\u001b[39m, StringType, true, {})\n",
       ")"
      ]
     },
     "execution_count": 46,
     "metadata": {},
     "output_type": "execute_result"
    }
   ],
   "source": [
    "val dfPopulation = spark.read\n",
    ".option(\"header\", \"true\")\n",
    ".option(\"charset\", \"UTF8\")\n",
    ".option(\"delimiter\",\",\")\n",
    ".option(\"inferSchema\", \"true\")\n",
    ".csv(\"population_by_country_2020.csv\")\n",
    ".withColumnRenamed(\"Country (or dependency)\",\"Country\")\n",
    ".withColumnRenamed(\"Population (2020)\",\"Population\")\n",
    "dfPopulation.showHTML()\n",
    "dfPopulation.schema"
   ]
  },
  {
   "cell_type": "markdown",
   "metadata": {},
   "source": [
    "Modifico los datos de entrada para que el formato fecha se adecue al TimeStamp de Spark"
   ]
  },
  {
   "cell_type": "code",
   "execution_count": 47,
   "metadata": {},
   "outputs": [
    {
     "data": {
      "text/plain": [
       "\u001b[36mdfCovidClean\u001b[39m: \u001b[32mDataFrame\u001b[39m = [day: int, month: int ... 10 more fields]"
      ]
     },
     "execution_count": 47,
     "metadata": {},
     "output_type": "execute_result"
    }
   ],
   "source": [
    "val dfCovidClean = dfCovid\n",
    "    .select($\"*\",$\"dateRep\",translate($\"dateRep\",\"/\",\"-\").as(\"date\"))\n",
    "    .drop(\"dateRep\")"
   ]
  },
  {
   "cell_type": "code",
   "execution_count": 48,
   "metadata": {},
   "outputs": [
    {
     "data": {
      "text/plain": [
       "\u001b[36mdfCovidDate\u001b[39m: \u001b[32mDataFrame\u001b[39m = [day: int, month: int ... 12 more fields]"
      ]
     },
     "execution_count": 48,
     "metadata": {},
     "output_type": "execute_result"
    }
   ],
   "source": [
    "val dfCovidDate = dfCovidClean\n",
    "    .select($\"*\",col(\"date\"),to_date(col(\"date\"),\"dd-MM-yyyy\").as(\"to_date\"))"
   ]
  },
  {
   "cell_type": "markdown",
   "metadata": {},
   "source": [
    "Hago una consulta de prueba para obtener la media solo de los casos en España"
   ]
  },
  {
   "cell_type": "code",
   "execution_count": 49,
   "metadata": {},
   "outputs": [
    {
     "data": {
      "text/plain": [
       "\u001b[36mspainCovid\u001b[39m: \u001b[32mDataFrame\u001b[39m = [dateRep: string, cases: int]"
      ]
     },
     "execution_count": 49,
     "metadata": {},
     "output_type": "execute_result"
    }
   ],
   "source": [
    "val spainCovid = dfCovid.select(\"dateRep\",\"cases\").where(\"countriesAndTerritories == 'Spain'\").toDF"
   ]
  },
  {
   "cell_type": "code",
   "execution_count": 50,
   "metadata": {},
   "outputs": [
    {
     "name": "stdout",
     "output_type": "stream",
     "text": [
      "Took 34\n"
     ]
    },
    {
     "data": {
      "text/html": [
       "<div>\n",
       "  <span style=\"float: left;\">show at cmd49.sc:1</span>\n",
       "</div>\n"
      ]
     },
     "metadata": {},
     "output_type": "display_data"
    },
    {
     "data": {
      "text/html": [
       "<div class=\"progress\">\n",
       "  <div class=\"progress-bar\" role=\"progressbar\" style=\"background-color: blue; width: 100%; word-wrap: normal; white-space: nowrap; text-align: center; color: white\" aria-valuenow=\"100\" aria-valuemin=\"0\" aria-valuemax=\"100\">\n",
       "    2 / 2\n",
       "  </div>\n",
       "  <div class=\"progress-bar\" role=\"progressbar\" style=\"background-color: red; width: 0%\" aria-valuenow=\"0\" aria-valuemin=\"0\" aria-valuemax=\"100\"></div>\n",
       "</div>\n"
      ]
     },
     "metadata": {},
     "output_type": "display_data"
    },
    {
     "data": {
      "text/html": [
       "<div>\n",
       "  <span style=\"float: left;\">show at cmd49.sc:1</span>\n",
       "</div>\n"
      ]
     },
     "metadata": {},
     "output_type": "display_data"
    },
    {
     "data": {
      "text/html": [
       "<div class=\"progress\">\n",
       "  <div class=\"progress-bar\" role=\"progressbar\" style=\"background-color: blue; width: 100%; word-wrap: normal; white-space: nowrap; text-align: center; color: white\" aria-valuenow=\"100\" aria-valuemin=\"0\" aria-valuemax=\"100\">\n",
       "    1 / 1\n",
       "  </div>\n",
       "  <div class=\"progress-bar\" role=\"progressbar\" style=\"background-color: red; width: 0%\" aria-valuenow=\"0\" aria-valuemin=\"0\" aria-valuemax=\"100\"></div>\n",
       "</div>\n"
      ]
     },
     "metadata": {},
     "output_type": "display_data"
    },
    {
     "name": "stdout",
     "output_type": "stream",
     "text": [
      "+-----------------+\n",
      "|       avg(cases)|\n",
      "+-----------------+\n",
      "|4958.667621776504|\n",
      "+-----------------+\n",
      "\n"
     ]
    }
   ],
   "source": [
    "run(spainCovid.agg(avg(\"cases\"))).show"
   ]
  },
  {
   "cell_type": "markdown",
   "metadata": {},
   "source": [
    "Cruzo los datos con un Join y hago algunas consultas sencillas"
   ]
  },
  {
   "cell_type": "code",
   "execution_count": 51,
   "metadata": {
    "scrolled": true
   },
   "outputs": [
    {
     "data": {
      "text/plain": [
       "\u001b[36mmegaDF\u001b[39m: \u001b[32mDataFrame\u001b[39m = [dateRep: string, day: int ... 14 more fields]"
      ]
     },
     "execution_count": 51,
     "metadata": {},
     "output_type": "execute_result"
    }
   ],
   "source": [
    "val megaDF = dfCovid.join(dfMeasures, $\"Country\" === $\"countriesAndTerritories\")"
   ]
  },
  {
   "cell_type": "code",
   "execution_count": 52,
   "metadata": {},
   "outputs": [
    {
     "data": {
      "text/html": [
       "<div>\n",
       "  <span style=\"float: left;\">run at ThreadPoolExecutor.java:1149</span>\n",
       "</div>\n"
      ]
     },
     "metadata": {},
     "output_type": "display_data"
    },
    {
     "data": {
      "text/html": [
       "<div class=\"progress\">\n",
       "  <div class=\"progress-bar\" role=\"progressbar\" style=\"background-color: blue; width: 100%; word-wrap: normal; white-space: nowrap; text-align: center; color: white\" aria-valuenow=\"100\" aria-valuemin=\"0\" aria-valuemax=\"100\">\n",
       "    1 / 1\n",
       "  </div>\n",
       "  <div class=\"progress-bar\" role=\"progressbar\" style=\"background-color: red; width: 0%\" aria-valuenow=\"0\" aria-valuemin=\"0\" aria-valuemax=\"100\"></div>\n",
       "</div>\n"
      ]
     },
     "metadata": {},
     "output_type": "display_data"
    },
    {
     "data": {
      "text/html": [
       "<div>\n",
       "  <span style=\"float: left;\">show at cmd51.sc:2</span>\n",
       "</div>\n"
      ]
     },
     "metadata": {},
     "output_type": "display_data"
    },
    {
     "data": {
      "text/html": [
       "<div class=\"progress\">\n",
       "  <div class=\"progress-bar\" role=\"progressbar\" style=\"background-color: blue; width: 100%; word-wrap: normal; white-space: nowrap; text-align: center; color: white\" aria-valuenow=\"100\" aria-valuemin=\"0\" aria-valuemax=\"100\">\n",
       "    1 / 1\n",
       "  </div>\n",
       "  <div class=\"progress-bar\" role=\"progressbar\" style=\"background-color: red; width: 0%\" aria-valuenow=\"0\" aria-valuemin=\"0\" aria-valuemax=\"100\"></div>\n",
       "</div>\n"
      ]
     },
     "metadata": {},
     "output_type": "display_data"
    },
    {
     "name": "stdout",
     "output_type": "stream",
     "text": [
      "+-----+------+----------+--------------------+\n",
      "|cases|deaths|   dateRep|    Response_measure|\n",
      "+-----+------+----------+--------------------+\n",
      "|    0|     0|13/12/2020|  TeleworkingPartial|\n",
      "|    0|     0|13/12/2020|         Teleworking|\n",
      "|    0|     0|13/12/2020|       StayHomeRiskG|\n",
      "|    0|     0|13/12/2020|StayHomeOrderPartial|\n",
      "|    0|     0|13/12/2020|StayHomeOrderPartial|\n",
      "|    0|     0|13/12/2020|       StayHomeOrder|\n",
      "|    0|     0|13/12/2020|         StayHomeGen|\n",
      "|    0|     0|13/12/2020|        SocialCircle|\n",
      "|    0|     0|13/12/2020|RestaurantsCafesP...|\n",
      "|    0|     0|13/12/2020|    RestaurantsCafes|\n",
      "|    0|     0|13/12/2020|PrivateGatheringR...|\n",
      "|    0|     0|13/12/2020|PlaceOfWorshipPar...|\n",
      "|    0|     0|13/12/2020|     OutdoorOver1000|\n",
      "|    0|     0|13/12/2020|MassGatherAllPartial|\n",
      "|    0|     0|13/12/2020|       MassGatherAll|\n",
      "|    0|     0|13/12/2020|       MassGatherAll|\n",
      "|    0|     0|13/12/2020| MassGather50Partial|\n",
      "|    0|     0|13/12/2020|        MassGather50|\n",
      "|    0|     0|13/12/2020|        MassGather50|\n",
      "|    0|     0|13/12/2020|MasksVoluntaryClo...|\n",
      "+-----+------+----------+--------------------+\n",
      "only showing top 20 rows\n",
      "\n"
     ]
    }
   ],
   "source": [
    "megaDF.select(\"cases\",\"deaths\",\"dateRep\",\"Response_measure\")\n",
    "    .where(\"countriesAndTerritories == 'Spain'\").show"
   ]
  },
  {
   "cell_type": "code",
   "execution_count": 53,
   "metadata": {},
   "outputs": [
    {
     "data": {
      "text/html": [
       "<div>\n",
       "  <span style=\"float: left;\">run at ThreadPoolExecutor.java:1149</span>\n",
       "</div>\n"
      ]
     },
     "metadata": {},
     "output_type": "display_data"
    },
    {
     "data": {
      "text/html": [
       "<div class=\"progress\">\n",
       "  <div class=\"progress-bar\" role=\"progressbar\" style=\"background-color: blue; width: 100%; word-wrap: normal; white-space: nowrap; text-align: center; color: white\" aria-valuenow=\"100\" aria-valuemin=\"0\" aria-valuemax=\"100\">\n",
       "    1 / 1\n",
       "  </div>\n",
       "  <div class=\"progress-bar\" role=\"progressbar\" style=\"background-color: red; width: 0%\" aria-valuenow=\"0\" aria-valuemin=\"0\" aria-valuemax=\"100\"></div>\n",
       "</div>\n"
      ]
     },
     "metadata": {},
     "output_type": "display_data"
    },
    {
     "data": {
      "text/html": [
       "<div>\n",
       "  <span style=\"float: left;\">collect at cmd52.sc:3</span>\n",
       "</div>\n"
      ]
     },
     "metadata": {},
     "output_type": "display_data"
    },
    {
     "data": {
      "text/html": [
       "<div class=\"progress\">\n",
       "  <div class=\"progress-bar\" role=\"progressbar\" style=\"background-color: blue; width: 100%; word-wrap: normal; white-space: nowrap; text-align: center; color: white\" aria-valuenow=\"100\" aria-valuemin=\"0\" aria-valuemax=\"100\">\n",
       "    2 / 2\n",
       "  </div>\n",
       "  <div class=\"progress-bar\" role=\"progressbar\" style=\"background-color: red; width: 0%\" aria-valuenow=\"0\" aria-valuemin=\"0\" aria-valuemax=\"100\"></div>\n",
       "</div>\n"
      ]
     },
     "metadata": {},
     "output_type": "display_data"
    },
    {
     "name": "stdout",
     "output_type": "stream",
     "text": [
      "Took 444\n"
     ]
    },
    {
     "data": {
      "text/plain": [
       "\u001b[36mres52\u001b[39m: \u001b[32mArray\u001b[39m[\u001b[32mRow\u001b[39m] = \u001b[33mArray\u001b[39m(\n",
       "  [0,0,13/12/2020,TeleworkingPartial],\n",
       "  [0,0,13/12/2020,Teleworking],\n",
       "  [0,0,13/12/2020,StayHomeRiskG],\n",
       "  [0,0,13/12/2020,StayHomeOrderPartial],\n",
       "  [0,0,13/12/2020,StayHomeOrderPartial],\n",
       "  [0,0,13/12/2020,StayHomeOrder],\n",
       "  [0,0,13/12/2020,StayHomeGen],\n",
       "  [0,0,13/12/2020,SocialCircle],\n",
       "  [0,0,13/12/2020,RestaurantsCafesPartial],\n",
       "  [0,0,13/12/2020,RestaurantsCafes],\n",
       "  [0,0,13/12/2020,PrivateGatheringRestrictions],\n",
       "  [0,0,13/12/2020,PlaceOfWorshipPartial],\n",
       "  [0,0,13/12/2020,OutdoorOver1000],\n",
       "  [0,0,13/12/2020,MassGatherAllPartial],\n",
       "  [0,0,13/12/2020,MassGatherAll],\n",
       "  [0,0,13/12/2020,MassGatherAll],\n",
       "  [0,0,13/12/2020,MassGather50Partial],\n",
       "  [0,0,13/12/2020,MassGather50],\n",
       "  [0,0,13/12/2020,MassGather50],\n",
       "  [0,0,13/12/2020,MasksVoluntaryClosedSpaces],\n",
       "  [0,0,13/12/2020,MasksMandatoryClosedSpaces],\n",
       "  [0,0,13/12/2020,MasksMandatoryClosedSpaces],\n",
       "  [0,0,13/12/2020,MasksMandatoryAllSpacesPartial],\n",
       "  [0,0,13/12/2020,MasksMandatoryAllSpaces],\n",
       "  [0,0,13/12/2020,IndoorOver100],\n",
       "  [0,0,13/12/2020,HotelsOtherAccommodationPartial],\n",
       "  [0,0,13/12/2020,HotelsOtherAccommodation],\n",
       "  [0,0,13/12/2020,GymsSportsCentres],\n",
       "  [0,0,13/12/2020,EntertainmentVenuesPartial],\n",
       "  [0,0,13/12/2020,EntertainmentVenues],\n",
       "  [0,0,13/12/2020,EntertainmentVenues],\n",
       "  [0,0,13/12/2020,ClosSec],\n",
       "  [0,0,13/12/2020,ClosPubAnyPartial],\n",
       "  [0,0,13/12/2020,ClosPubAnyPartial],\n",
       "  [0,0,13/12/2020,ClosPubAny],\n",
       "  [0,0,13/12/2020,ClosPubAny],\n",
       "  [0,0,13/12/2020,ClosPrim],\n",
       "  [0,0,13/12/2020,ClosHigh],\n",
       "..."
      ]
     },
     "execution_count": 53,
     "metadata": {},
     "output_type": "execute_result"
    }
   ],
   "source": [
    "run(dfCovid.join(dfMeasures, $\"Country\" === $\"countriesAndTerritories\")\n",
    "        .select(\"cases\",\"deaths\",\"dateRep\",\"Response_measure\")\n",
    "        .where(\"countriesAndTerritories == 'Spain'\").collect())"
   ]
  },
  {
   "cell_type": "markdown",
   "metadata": {},
   "source": [
    "### Finalmente ejecuto la consulta de nuestro caso de uso, infecciones por Km2"
   ]
  },
  {
   "cell_type": "code",
   "execution_count": 54,
   "metadata": {},
   "outputs": [
    {
     "data": {
      "text/plain": [
       "\u001b[36mquerie3\u001b[39m: \u001b[32mDataset\u001b[39m[\u001b[32mRow\u001b[39m] = [country: string, avg(infection Per Km²): double]"
      ]
     },
     "execution_count": 54,
     "metadata": {},
     "output_type": "execute_result"
    }
   ],
   "source": [
    "val querie3 = \n",
    "dfCovid.join(dfPopulation, $\"country\" === $\"countriesAndTerritories\")\n",
    "        .select($\"country\",\n",
    "                $\"dateRep\" as \"date\",\n",
    "                $\"cases\",\n",
    "                $\"Land Area (Km\\u00b2)\",\n",
    "                $\"cases\" / $\"Land Area (Km\\u00b2)\" as \"infection Per Km\\u00b2\")\n",
    "        .groupBy(\"country\")\n",
    "        .avg(\"infection Per Km\\u00b2\")\n",
    "        .orderBy(desc(\"avg(infection Per Km²)\"))"
   ]
  },
  {
   "cell_type": "markdown",
   "metadata": {},
   "source": [
    "### Media de casos por número de habitante"
   ]
  },
  {
   "cell_type": "code",
   "execution_count": 55,
   "metadata": {},
   "outputs": [
    {
     "data": {
      "text/plain": [
       "\u001b[36minfectionsPerPopulation\u001b[39m: \u001b[32mDataset\u001b[39m[\u001b[32mRow\u001b[39m] = [country: string, avg(infection Per Population): double]"
      ]
     },
     "execution_count": 55,
     "metadata": {},
     "output_type": "execute_result"
    }
   ],
   "source": [
    "val infectionsPerPopulation = dfCovid.join(dfPopulation, $\"country\" === $\"countriesAndTerritories\")\n",
    "        .select($\"country\",\n",
    "                $\"dateRep\" as \"date\",\n",
    "                $\"cases\",\n",
    "                $\"Population\",\n",
    "                $\"cases\" / $\"Population\" as \"infection Per Population\")\n",
    "        .groupBy(\"country\")\n",
    "        .avg(\"infection Per Population\")\n",
    "        .orderBy(desc(\"avg(infection Per Population)\"))"
   ]
  },
  {
   "cell_type": "markdown",
   "metadata": {},
   "source": [
    "### Porcentaje diario de infectados"
   ]
  },
  {
   "cell_type": "code",
   "execution_count": 56,
   "metadata": {},
   "outputs": [
    {
     "data": {
      "text/plain": [
       "\u001b[36mquerie4\u001b[39m: \u001b[32mDataset\u001b[39m[\u001b[32mRow\u001b[39m] = [country: string, to_date: date ... 5 more fields]"
      ]
     },
     "execution_count": 56,
     "metadata": {},
     "output_type": "execute_result"
    }
   ],
   "source": [
    "val querie4 =\n",
    "dfCovidDate.join(dfPopulation, $\"country\" === $\"countriesAndTerritories\")\n",
    "        .select($\"country\",\n",
    "                $\"to_date\",\n",
    "                $\"day\",\n",
    "                $\"month\",\n",
    "                $\"cases\",\n",
    "                $\"Population\",\n",
    "                $\"cases\" / $\"Population\" as \"infection Per Population\")\n",
    "        .orderBy($\"to_date\".asc)"
   ]
  },
  {
   "cell_type": "markdown",
   "metadata": {},
   "source": [
    "# Consulta con vacunaciones"
   ]
  },
  {
   "cell_type": "markdown",
   "metadata": {},
   "source": [
    "## Comparativa de infecciones frente a vacunaciones"
   ]
  },
  {
   "cell_type": "code",
   "execution_count": 57,
   "metadata": {},
   "outputs": [
    {
     "data": {
      "text/html": [
       "<div>\n",
       "  <span style=\"float: left;\">csv at cmd56.sc:6</span>\n",
       "</div>\n"
      ]
     },
     "metadata": {},
     "output_type": "display_data"
    },
    {
     "data": {
      "text/html": [
       "<div class=\"progress\">\n",
       "  <div class=\"progress-bar\" role=\"progressbar\" style=\"background-color: blue; width: 100%; word-wrap: normal; white-space: nowrap; text-align: center; color: white\" aria-valuenow=\"100\" aria-valuemin=\"0\" aria-valuemax=\"100\">\n",
       "    1 / 1\n",
       "  </div>\n",
       "  <div class=\"progress-bar\" role=\"progressbar\" style=\"background-color: red; width: 0%\" aria-valuenow=\"0\" aria-valuemin=\"0\" aria-valuemax=\"100\"></div>\n",
       "</div>\n"
      ]
     },
     "metadata": {},
     "output_type": "display_data"
    },
    {
     "data": {
      "text/html": [
       "<div>\n",
       "  <span style=\"float: left;\">csv at cmd56.sc:6</span>\n",
       "</div>\n"
      ]
     },
     "metadata": {},
     "output_type": "display_data"
    },
    {
     "data": {
      "text/html": [
       "<div class=\"progress\">\n",
       "  <div class=\"progress-bar\" role=\"progressbar\" style=\"background-color: blue; width: 100%; word-wrap: normal; white-space: nowrap; text-align: center; color: white\" aria-valuenow=\"100\" aria-valuemin=\"0\" aria-valuemax=\"100\">\n",
       "    5 / 5\n",
       "  </div>\n",
       "  <div class=\"progress-bar\" role=\"progressbar\" style=\"background-color: red; width: 0%\" aria-valuenow=\"0\" aria-valuemin=\"0\" aria-valuemax=\"100\"></div>\n",
       "</div>\n"
      ]
     },
     "metadata": {},
     "output_type": "display_data"
    },
    {
     "data": {
      "text/plain": [
       "\u001b[36mdfCovid2\u001b[39m: \u001b[32mDataFrame\u001b[39m = [SNo: int, ObservationDate: string ... 6 more fields]\n",
       "\u001b[36mres56_1\u001b[39m: \u001b[32mStructType\u001b[39m = \u001b[33mStructType\u001b[39m(\n",
       "  \u001b[33mStructField\u001b[39m(\u001b[32m\"SNo\"\u001b[39m, IntegerType, true, {}),\n",
       "  \u001b[33mStructField\u001b[39m(\u001b[32m\"ObservationDate\"\u001b[39m, StringType, true, {}),\n",
       "  \u001b[33mStructField\u001b[39m(\u001b[32m\"Province/State\"\u001b[39m, StringType, true, {}),\n",
       "  \u001b[33mStructField\u001b[39m(\u001b[32m\"Country/Region\"\u001b[39m, StringType, true, {}),\n",
       "  \u001b[33mStructField\u001b[39m(\u001b[32m\"Last Update\"\u001b[39m, StringType, true, {}),\n",
       "  \u001b[33mStructField\u001b[39m(\u001b[32m\"Confirmed\"\u001b[39m, DoubleType, true, {}),\n",
       "  \u001b[33mStructField\u001b[39m(\u001b[32m\"Deaths\"\u001b[39m, DoubleType, true, {}),\n",
       "  \u001b[33mStructField\u001b[39m(\u001b[32m\"Recovered\"\u001b[39m, DoubleType, true, {})\n",
       ")"
      ]
     },
     "execution_count": 57,
     "metadata": {},
     "output_type": "execute_result"
    }
   ],
   "source": [
    "val dfCovid2 = spark.read\n",
    ".option(\"header\", \"true\")\n",
    ".option(\"charset\", \"UTF8\")\n",
    ".option(\"delimiter\",\",\")\n",
    ".option(\"inferSchema\", \"true\")\n",
    ".csv(\"covid_19_data.csv\")\n",
    "dfCovid2.schema"
   ]
  },
  {
   "cell_type": "code",
   "execution_count": 58,
   "metadata": {
    "scrolled": true
   },
   "outputs": [
    {
     "data": {
      "text/html": [
       "<div>\n",
       "  <span style=\"float: left;\">csv at cmd57.sc:6</span>\n",
       "</div>\n"
      ]
     },
     "metadata": {},
     "output_type": "display_data"
    },
    {
     "data": {
      "text/html": [
       "<div class=\"progress\">\n",
       "  <div class=\"progress-bar\" role=\"progressbar\" style=\"background-color: blue; width: 100%; word-wrap: normal; white-space: nowrap; text-align: center; color: white\" aria-valuenow=\"100\" aria-valuemin=\"0\" aria-valuemax=\"100\">\n",
       "    1 / 1\n",
       "  </div>\n",
       "  <div class=\"progress-bar\" role=\"progressbar\" style=\"background-color: red; width: 0%\" aria-valuenow=\"0\" aria-valuemin=\"0\" aria-valuemax=\"100\"></div>\n",
       "</div>\n"
      ]
     },
     "metadata": {},
     "output_type": "display_data"
    },
    {
     "data": {
      "text/html": [
       "<div>\n",
       "  <span style=\"float: left;\">csv at cmd57.sc:6</span>\n",
       "</div>\n"
      ]
     },
     "metadata": {},
     "output_type": "display_data"
    },
    {
     "data": {
      "text/html": [
       "<div class=\"progress\">\n",
       "  <div class=\"progress-bar\" role=\"progressbar\" style=\"background-color: blue; width: 100%; word-wrap: normal; white-space: nowrap; text-align: center; color: white\" aria-valuenow=\"100\" aria-valuemin=\"0\" aria-valuemax=\"100\">\n",
       "    1 / 1\n",
       "  </div>\n",
       "  <div class=\"progress-bar\" role=\"progressbar\" style=\"background-color: red; width: 0%\" aria-valuenow=\"0\" aria-valuemin=\"0\" aria-valuemax=\"100\"></div>\n",
       "</div>\n"
      ]
     },
     "metadata": {},
     "output_type": "display_data"
    },
    {
     "data": {
      "text/plain": [
       "\u001b[36mvaccinations\u001b[39m: \u001b[32mDataFrame\u001b[39m = [country: string, iso_code: string ... 13 more fields]\n",
       "\u001b[36mres57_1\u001b[39m: \u001b[32mStructType\u001b[39m = \u001b[33mStructType\u001b[39m(\n",
       "  \u001b[33mStructField\u001b[39m(\u001b[32m\"country\"\u001b[39m, StringType, true, {}),\n",
       "  \u001b[33mStructField\u001b[39m(\u001b[32m\"iso_code\"\u001b[39m, StringType, true, {}),\n",
       "  \u001b[33mStructField\u001b[39m(\u001b[32m\"date\"\u001b[39m, TimestampType, true, {}),\n",
       "  \u001b[33mStructField\u001b[39m(\u001b[32m\"total_vaccinations\"\u001b[39m, DoubleType, true, {}),\n",
       "  \u001b[33mStructField\u001b[39m(\u001b[32m\"people_vaccinated\"\u001b[39m, DoubleType, true, {}),\n",
       "  \u001b[33mStructField\u001b[39m(\u001b[32m\"people_fully_vaccinated\"\u001b[39m, DoubleType, true, {}),\n",
       "  \u001b[33mStructField\u001b[39m(\u001b[32m\"daily_vaccinations_raw\"\u001b[39m, DoubleType, true, {}),\n",
       "  \u001b[33mStructField\u001b[39m(\u001b[32m\"daily_vaccinations\"\u001b[39m, DoubleType, true, {}),\n",
       "  \u001b[33mStructField\u001b[39m(\u001b[32m\"total_vaccinations_per_hundred\"\u001b[39m, DoubleType, true, {}),\n",
       "  \u001b[33mStructField\u001b[39m(\u001b[32m\"people_vaccinated_per_hundred\"\u001b[39m, DoubleType, true, {}),\n",
       "  \u001b[33mStructField\u001b[39m(\u001b[32m\"people_fully_vaccinated_per_hundred\"\u001b[39m, DoubleType, true, {}),\n",
       "  \u001b[33mStructField\u001b[39m(\u001b[32m\"daily_vaccinations_per_million\"\u001b[39m, DoubleType, true, {}),\n",
       "  \u001b[33mStructField\u001b[39m(\u001b[32m\"vaccines\"\u001b[39m, StringType, true, {}),\n",
       "  \u001b[33mStructField\u001b[39m(\u001b[32m\"source_name\"\u001b[39m, StringType, true, {}),\n",
       "  \u001b[33mStructField\u001b[39m(\u001b[32m\"source_website\"\u001b[39m, StringType, true, {})\n",
       ")"
      ]
     },
     "execution_count": 58,
     "metadata": {},
     "output_type": "execute_result"
    }
   ],
   "source": [
    "val vaccinations = spark.read\n",
    ".option(\"header\", \"true\")\n",
    ".option(\"charset\", \"UTF8\")\n",
    ".option(\"delimiter\",\",\")\n",
    ".option(\"inferSchema\", \"true\")\n",
    ".csv(\"country_vaccinations.csv\")\n",
    "vaccinations.schema"
   ]
  },
  {
   "cell_type": "markdown",
   "metadata": {},
   "source": [
    "modifico los datos de entrada para que se ajuste la fecha"
   ]
  },
  {
   "cell_type": "code",
   "execution_count": 59,
   "metadata": {},
   "outputs": [
    {
     "data": {
      "text/plain": [
       "\u001b[36mvaccinationsClean\u001b[39m: \u001b[32mDataFrame\u001b[39m = [country: string, iso_code: string ... 13 more fields]"
      ]
     },
     "execution_count": 59,
     "metadata": {},
     "output_type": "execute_result"
    }
   ],
   "source": [
    "val vaccinationsClean = vaccinations\n",
    "    .select($\"*\",col(\"date\"),to_date(col(\"date\"),\"MM-dd-yyyy\")\n",
    "            .as(\"dateVaccinated\"))\n",
    "    .drop(\"date\")"
   ]
  },
  {
   "cell_type": "code",
   "execution_count": 60,
   "metadata": {},
   "outputs": [
    {
     "data": {
      "text/plain": [
       "\u001b[36mdfCovidClean2\u001b[39m: \u001b[32mDataFrame\u001b[39m = [SNo: int, Province/State: string ... 6 more fields]"
      ]
     },
     "execution_count": 60,
     "metadata": {},
     "output_type": "execute_result"
    }
   ],
   "source": [
    "val dfCovidClean2 = dfCovid2\n",
    "    .select($\"*\",$\"ObservationDate\",translate($\"ObservationDate\",\"/\",\"-\")\n",
    "            .as(\"date1\"))\n",
    "    .drop(\"ObservationDate\")\n",
    "    .select($\"*\",col(\"date1\"),to_date(col(\"date1\"),\"MM-dd-yyyy\")\n",
    "            .as(\"date\"))\n",
    "    .drop(\"date1\")"
   ]
  },
  {
   "cell_type": "markdown",
   "metadata": {},
   "source": [
    "triple join"
   ]
  },
  {
   "cell_type": "code",
   "execution_count": 61,
   "metadata": {},
   "outputs": [
    {
     "data": {
      "text/html": [
       "<div>\n",
       "  <span style=\"float: left;\">run at ThreadPoolExecutor.java:1149</span>\n",
       "</div>\n"
      ]
     },
     "metadata": {},
     "output_type": "display_data"
    },
    {
     "data": {
      "text/html": [
       "<div class=\"progress\">\n",
       "  <div class=\"progress-bar\" role=\"progressbar\" style=\"background-color: blue; width: 100%; word-wrap: normal; white-space: nowrap; text-align: center; color: white\" aria-valuenow=\"100\" aria-valuemin=\"0\" aria-valuemax=\"100\">\n",
       "    1 / 1\n",
       "  </div>\n",
       "  <div class=\"progress-bar\" role=\"progressbar\" style=\"background-color: red; width: 0%\" aria-valuenow=\"0\" aria-valuemin=\"0\" aria-valuemax=\"100\"></div>\n",
       "</div>\n"
      ]
     },
     "metadata": {},
     "output_type": "display_data"
    },
    {
     "data": {
      "text/html": [
       "<div>\n",
       "  <span style=\"float: left;\">run at ThreadPoolExecutor.java:1149</span>\n",
       "</div>\n"
      ]
     },
     "metadata": {},
     "output_type": "display_data"
    },
    {
     "data": {
      "text/html": [
       "<div class=\"progress\">\n",
       "  <div class=\"progress-bar\" role=\"progressbar\" style=\"background-color: blue; width: 100%; word-wrap: normal; white-space: nowrap; text-align: center; color: white\" aria-valuenow=\"100\" aria-valuemin=\"0\" aria-valuemax=\"100\">\n",
       "    1 / 1\n",
       "  </div>\n",
       "  <div class=\"progress-bar\" role=\"progressbar\" style=\"background-color: red; width: 0%\" aria-valuenow=\"0\" aria-valuemin=\"0\" aria-valuemax=\"100\"></div>\n",
       "</div>\n"
      ]
     },
     "metadata": {},
     "output_type": "display_data"
    },
    {
     "data": {
      "text/html": [
       "<div>\n",
       "  <span style=\"float: left;\">take at cmd8.sc:4</span>\n",
       "</div>\n"
      ]
     },
     "metadata": {},
     "output_type": "display_data"
    },
    {
     "data": {
      "text/html": [
       "<div class=\"progress\">\n",
       "  <div class=\"progress-bar\" role=\"progressbar\" style=\"background-color: blue; width: 100%; word-wrap: normal; white-space: nowrap; text-align: center; color: white\" aria-valuenow=\"100\" aria-valuemin=\"0\" aria-valuemax=\"100\">\n",
       "    1 / 1\n",
       "  </div>\n",
       "  <div class=\"progress-bar\" role=\"progressbar\" style=\"background-color: red; width: 0%\" aria-valuenow=\"0\" aria-valuemin=\"0\" aria-valuemax=\"100\"></div>\n",
       "</div>\n"
      ]
     },
     "metadata": {},
     "output_type": "display_data"
    },
    {
     "data": {
      "text/html": [
       "<div>\n",
       "  <span style=\"float: left;\">take at cmd8.sc:4</span>\n",
       "</div>\n"
      ]
     },
     "metadata": {},
     "output_type": "display_data"
    },
    {
     "data": {
      "text/html": [
       "<div class=\"progress\">\n",
       "  <div class=\"progress-bar\" role=\"progressbar\" style=\"background-color: blue; width: 100%; word-wrap: normal; white-space: nowrap; text-align: center; color: white\" aria-valuenow=\"100\" aria-valuemin=\"0\" aria-valuemax=\"100\">\n",
       "    4 / 4\n",
       "  </div>\n",
       "  <div class=\"progress-bar\" role=\"progressbar\" style=\"background-color: red; width: 0%\" aria-valuenow=\"0\" aria-valuemin=\"0\" aria-valuemax=\"100\"></div>\n",
       "</div>\n"
      ]
     },
     "metadata": {},
     "output_type": "display_data"
    },
    {
     "data": {
      "text/html": [
       " <table>\n",
       "                <tr>\n",
       "                 <th>country</th><th>SNo</th><th>Province/State</th><th>Country/Region</th><th>Last Update</th><th>Confirmed</th><th>Deaths</th><th>Recovered</th><th>date</th><th>iso_code</th><th>total_vaccinations</th><th>people_vaccinated</th><th>people_fully_vaccinated</th><th>daily_vaccinations_raw</th><th>daily_vaccinations</th><th>total_vaccinations_per_hundred</th><th>people_vaccinated_per_hundred</th><th>people_fully_vaccinated_per_hundred</th><th>daily_vaccinations_per_million</th><th>vaccines</th><th>source_name</th><th>source_website</th><th>dateVaccinated</th><th>Population</th><th>Yearly Change</th><th>Net Change</th><th>Density (P/Km²)</th><th>Land Area (Km²)</th><th>Migrants (net)</th><th>Fert. Rate</th><th>Med. Age</th><th>Urban Pop %</th><th>World Share</th>\n",
       "                </tr>\n",
       "                <tr><td>Norway</td><td>169377</td><td>null</td><td>Norway</td><td>2021-04-02 15:13:53</td><td>36969.0</td><td>351.0</td><td>17998.0</td><td>2020-12-02</td><td>NOR</td><td>1.0</td><td>1.0</td><td>null</td><td>null</td><td>null</td><td>0.0</td><td>0.0</td><td>null</td><td>null</td><td>Moderna, Pfizer/B...</td><td>Norwegian Institu...</td><td>https://www.fhi.n...</td><td>2020-12-02</td><td>5428594</td><td>0.79 %</td><td>42384</td><td>15</td><td>365268</td><td>28000.0</td><td>1.7</td><td>40</td><td>83 %</td><td>0.07 %</td></tr><tr><td>Norway</td><td>170139</td><td>null</td><td>Norway</td><td>2021-04-02 15:13:53</td><td>37371.0</td><td>353.0</td><td>17998.0</td><td>2020-12-03</td><td>NOR</td><td>1.0</td><td>1.0</td><td>null</td><td>0.0</td><td>0.0</td><td>0.0</td><td>0.0</td><td>null</td><td>0.0</td><td>Moderna, Pfizer/B...</td><td>Norwegian Institu...</td><td>https://www.fhi.n...</td><td>2020-12-03</td><td>5428594</td><td>0.79 %</td><td>42384</td><td>15</td><td>365268</td><td>28000.0</td><td>1.7</td><td>40</td><td>83 %</td><td>0.07 %</td></tr><tr><td>Norway</td><td>170901</td><td>null</td><td>Norway</td><td>2021-04-02 15:13:53</td><td>37801.0</td><td>354.0</td><td>17998.0</td><td>2020-12-04</td><td>NOR</td><td>2.0</td><td>2.0</td><td>null</td><td>1.0</td><td>0.0</td><td>0.0</td><td>0.0</td><td>null</td><td>0.0</td><td>Moderna, Pfizer/B...</td><td>Norwegian Institu...</td><td>https://www.fhi.n...</td><td>2020-12-04</td><td>5428594</td><td>0.79 %</td><td>42384</td><td>15</td><td>365268</td><td>28000.0</td><td>1.7</td><td>40</td><td>83 %</td><td>0.07 %</td></tr><tr><td>Norway</td><td>171663</td><td>null</td><td>Norway</td><td>2021-04-02 15:13:53</td><td>38073.0</td><td>354.0</td><td>17998.0</td><td>2020-12-05</td><td>NOR</td><td>2.0</td><td>2.0</td><td>null</td><td>0.0</td><td>0.0</td><td>0.0</td><td>0.0</td><td>null</td><td>0.0</td><td>Moderna, Pfizer/B...</td><td>Norwegian Institu...</td><td>https://www.fhi.n...</td><td>2020-12-05</td><td>5428594</td><td>0.79 %</td><td>42384</td><td>15</td><td>365268</td><td>28000.0</td><td>1.7</td><td>40</td><td>83 %</td><td>0.07 %</td></tr><tr><td>Norway</td><td>172425</td><td>null</td><td>Norway</td><td>2021-04-02 15:13:53</td><td>38323.0</td><td>354.0</td><td>17998.0</td><td>2020-12-06</td><td>NOR</td><td>2.0</td><td>2.0</td><td>null</td><td>0.0</td><td>0.0</td><td>0.0</td><td>0.0</td><td>null</td><td>0.0</td><td>Moderna, Pfizer/B...</td><td>Norwegian Institu...</td><td>https://www.fhi.n...</td><td>2020-12-06</td><td>5428594</td><td>0.79 %</td><td>42384</td><td>15</td><td>365268</td><td>28000.0</td><td>1.7</td><td>40</td><td>83 %</td><td>0.07 %</td></tr><tr><td>Norway</td><td>173187</td><td>null</td><td>Norway</td><td>2021-04-02 15:13:53</td><td>38703.0</td><td>359.0</td><td>17998.0</td><td>2020-12-07</td><td>NOR</td><td>4.0</td><td>4.0</td><td>null</td><td>2.0</td><td>1.0</td><td>0.0</td><td>0.0</td><td>null</td><td>0.0</td><td>Moderna, Pfizer/B...</td><td>Norwegian Institu...</td><td>https://www.fhi.n...</td><td>2020-12-07</td><td>5428594</td><td>0.79 %</td><td>42384</td><td>15</td><td>365268</td><td>28000.0</td><td>1.7</td><td>40</td><td>83 %</td><td>0.07 %</td></tr><tr><td>Norway</td><td>173949</td><td>null</td><td>Norway</td><td>2021-04-02 15:13:53</td><td>39163.0</td><td>361.0</td><td>17998.0</td><td>2020-12-08</td><td>NOR</td><td>4.0</td><td>4.0</td><td>null</td><td>0.0</td><td>0.0</td><td>0.0</td><td>0.0</td><td>null</td><td>0.0</td><td>Moderna, Pfizer/B...</td><td>Norwegian Institu...</td><td>https://www.fhi.n...</td><td>2020-12-08</td><td>5428594</td><td>0.79 %</td><td>42384</td><td>15</td><td>365268</td><td>28000.0</td><td>1.7</td><td>40</td><td>83 %</td><td>0.07 %</td></tr><tr><td>Norway</td><td>174711</td><td>null</td><td>Norway</td><td>2021-04-02 15:13:53</td><td>39525.0</td><td>361.0</td><td>17998.0</td><td>2020-12-09</td><td>NOR</td><td>5.0</td><td>5.0</td><td>null</td><td>1.0</td><td>1.0</td><td>0.0</td><td>0.0</td><td>null</td><td>0.0</td><td>Moderna, Pfizer/B...</td><td>Norwegian Institu...</td><td>https://www.fhi.n...</td><td>2020-12-09</td><td>5428594</td><td>0.79 %</td><td>42384</td><td>15</td><td>365268</td><td>28000.0</td><td>1.7</td><td>40</td><td>83 %</td><td>0.07 %</td></tr><tr><td>Norway</td><td>175473</td><td>null</td><td>Norway</td><td>2021-04-02 15:13:53</td><td>40023.0</td><td>382.0</td><td>17998.0</td><td>2020-12-10</td><td>NOR</td><td>6.0</td><td>6.0</td><td>null</td><td>1.0</td><td>1.0</td><td>0.0</td><td>0.0</td><td>null</td><td>0.0</td><td>Moderna, Pfizer/B...</td><td>Norwegian Institu...</td><td>https://www.fhi.n...</td><td>2020-12-10</td><td>5428594</td><td>0.79 %</td><td>42384</td><td>15</td><td>365268</td><td>28000.0</td><td>1.7</td><td>40</td><td>83 %</td><td>0.07 %</td></tr><tr><td>Norway</td><td>176235</td><td>null</td><td>Norway</td><td>2021-04-02 15:13:53</td><td>40439.0</td><td>387.0</td><td>17998.0</td><td>2020-12-11</td><td>NOR</td><td>7.0</td><td>7.0</td><td>null</td><td>1.0</td><td>1.0</td><td>0.0</td><td>0.0</td><td>null</td><td>0.0</td><td>Moderna, Pfizer/B...</td><td>Norwegian Institu...</td><td>https://www.fhi.n...</td><td>2020-12-11</td><td>5428594</td><td>0.79 %</td><td>42384</td><td>15</td><td>365268</td><td>28000.0</td><td>1.7</td><td>40</td><td>83 %</td><td>0.07 %</td></tr><tr><td>Norway</td><td>176997</td><td>null</td><td>Norway</td><td>2021-04-02 15:13:53</td><td>40803.0</td><td>387.0</td><td>17998.0</td><td>2020-12-12</td><td>NOR</td><td>7.0</td><td>7.0</td><td>null</td><td>0.0</td><td>1.0</td><td>0.0</td><td>0.0</td><td>null</td><td>0.0</td><td>Moderna, Pfizer/B...</td><td>Norwegian Institu...</td><td>https://www.fhi.n...</td><td>2020-12-12</td><td>5428594</td><td>0.79 %</td><td>42384</td><td>15</td><td>365268</td><td>28000.0</td><td>1.7</td><td>40</td><td>83 %</td><td>0.07 %</td></tr><tr><td>Norway</td><td>177759</td><td>null</td><td>Norway</td><td>2021-04-02 15:13:53</td><td>41003.0</td><td>387.0</td><td>17998.0</td><td>2020-12-13</td><td>NOR</td><td>7.0</td><td>7.0</td><td>null</td><td>0.0</td><td>1.0</td><td>0.0</td><td>0.0</td><td>null</td><td>0.0</td><td>Moderna, Pfizer/B...</td><td>Norwegian Institu...</td><td>https://www.fhi.n...</td><td>2020-12-13</td><td>5428594</td><td>0.79 %</td><td>42384</td><td>15</td><td>365268</td><td>28000.0</td><td>1.7</td><td>40</td><td>83 %</td><td>0.07 %</td></tr><tr><td>Norway</td><td>178521</td><td>null</td><td>Norway</td><td>2021-04-02 15:13:53</td><td>41334.0</td><td>393.0</td><td>17998.0</td><td>2020-12-14</td><td>NOR</td><td>7.0</td><td>7.0</td><td>null</td><td>0.0</td><td>0.0</td><td>0.0</td><td>0.0</td><td>null</td><td>0.0</td><td>Moderna, Pfizer/B...</td><td>Norwegian Institu...</td><td>https://www.fhi.n...</td><td>2020-12-14</td><td>5428594</td><td>0.79 %</td><td>42384</td><td>15</td><td>365268</td><td>28000.0</td><td>1.7</td><td>40</td><td>83 %</td><td>0.07 %</td></tr><tr><td>Canada</td><td>178585</td><td>Alberta</td><td>Canada</td><td>2021-04-02 15:13:53</td><td>81986.0</td><td>733.0</td><td>60130.0</td><td>2020-12-14</td><td>CAN</td><td>5.0</td><td>null</td><td>null</td><td>null</td><td>null</td><td>0.0</td><td>null</td><td>null</td><td>null</td><td>Moderna, Oxford/A...</td><td>Official data fro...</td><td>https://covid19tr...</td><td>2020-12-14</td><td>37799407</td><td>0.89 %</td><td>331107</td><td>4</td><td>9093510</td><td>242032.0</td><td>1.5</td><td>41</td><td>81 %</td><td>0.48 %</td></tr><tr><td>Canada</td><td>178644</td><td>British Columbia</td><td>Canada</td><td>2021-04-02 15:13:53</td><td>42943.0</td><td>647.0</td><td>31207.0</td><td>2020-12-14</td><td>CAN</td><td>5.0</td><td>null</td><td>null</td><td>null</td><td>null</td><td>0.0</td><td>null</td><td>null</td><td>null</td><td>Moderna, Oxford/A...</td><td>Official data fro...</td><td>https://covid19tr...</td><td>2020-12-14</td><td>37799407</td><td>0.89 %</td><td>331107</td><td>4</td><td>9093510</td><td>242032.0</td><td>1.5</td><td>41</td><td>81 %</td><td>0.48 %</td></tr><tr><td>Canada</td><td>178701</td><td>Diamond Princess ...</td><td>Canada</td><td>2021-04-02 15:13:53</td><td>0.0</td><td>1.0</td><td>0.0</td><td>2020-12-14</td><td>CAN</td><td>5.0</td><td>null</td><td>null</td><td>null</td><td>null</td><td>0.0</td><td>null</td><td>null</td><td>null</td><td>Moderna, Oxford/A...</td><td>Official data fro...</td><td>https://covid19tr...</td><td>2020-12-14</td><td>37799407</td><td>0.89 %</td><td>331107</td><td>4</td><td>9093510</td><td>242032.0</td><td>1.5</td><td>41</td><td>81 %</td><td>0.48 %</td></tr><tr><td>Canada</td><td>178739</td><td>Grand Princess</td><td>Canada</td><td>2021-04-02 15:13:53</td><td>13.0</td><td>0.0</td><td>13.0</td><td>2020-12-14</td><td>CAN</td><td>5.0</td><td>null</td><td>null</td><td>null</td><td>null</td><td>0.0</td><td>null</td><td>null</td><td>null</td><td>Moderna, Oxford/A...</td><td>Official data fro...</td><td>https://covid19tr...</td><td>2020-12-14</td><td>37799407</td><td>0.89 %</td><td>331107</td><td>4</td><td>9093510</td><td>242032.0</td><td>1.5</td><td>41</td><td>81 %</td><td>0.48 %</td></tr><tr><td>Canada</td><td>178870</td><td>Manitoba</td><td>Canada</td><td>2021-04-02 15:13:53</td><td>21264.0</td><td>499.0</td><td>14974.0</td><td>2020-12-14</td><td>CAN</td><td>5.0</td><td>null</td><td>null</td><td>null</td><td>null</td><td>0.0</td><td>null</td><td>null</td><td>null</td><td>Moderna, Oxford/A...</td><td>Official data fro...</td><td>https://covid19tr...</td><td>2020-12-14</td><td>37799407</td><td>0.89 %</td><td>331107</td><td>4</td><td>9093510</td><td>242032.0</td><td>1.5</td><td>41</td><td>81 %</td><td>0.48 %</td></tr><tr><td>Canada</td><td>178919</td><td>New Brunswick</td><td>Canada</td><td>2021-04-02 15:13:53</td><td>558.0</td><td>8.0</td><td>490.0</td><td>2020-12-14</td><td>CAN</td><td>5.0</td><td>null</td><td>null</td><td>null</td><td>null</td><td>0.0</td><td>null</td><td>null</td><td>null</td><td>Moderna, Oxford/A...</td><td>Official data fro...</td><td>https://covid19tr...</td><td>2020-12-14</td><td>37799407</td><td>0.89 %</td><td>331107</td><td>4</td><td>9093510</td><td>242032.0</td><td>1.5</td><td>41</td><td>81 %</td><td>0.48 %</td></tr><tr><td>Canada</td><td>178926</td><td>Newfoundland and ...</td><td>Canada</td><td>2021-04-02 15:13:53</td><td>358.0</td><td>4.0</td><td>332.0</td><td>2020-12-14</td><td>CAN</td><td>5.0</td><td>null</td><td>null</td><td>null</td><td>null</td><td>0.0</td><td>null</td><td>null</td><td>null</td><td>Moderna, Oxford/A...</td><td>Official data fro...</td><td>https://covid19tr...</td><td>2020-12-14</td><td>37799407</td><td>0.89 %</td><td>331107</td><td>4</td><td>9093510</td><td>242032.0</td><td>1.5</td><td>41</td><td>81 %</td><td>0.48 %</td></tr>\n",
       "            </table>\n",
       "        "
      ]
     },
     "metadata": {},
     "output_type": "display_data"
    }
   ],
   "source": [
    "dfCovidClean2.join(\n",
    "    vaccinationsClean,$\"date\" === $\"dateVaccinated\"\n",
    "    && dfCovidClean2(\"Country/Region\") <=> vaccinationsClean(\"country\")\n",
    ").join(dfPopulation, \"country\").showHTML()"
   ]
  },
  {
   "cell_type": "code",
   "execution_count": 62,
   "metadata": {},
   "outputs": [
    {
     "data": {
      "text/plain": [
       "\u001b[36mmegaQuerie\u001b[39m: \u001b[32mDataFrame\u001b[39m = [country: string, date: date ... 6 more fields]"
      ]
     },
     "execution_count": 62,
     "metadata": {},
     "output_type": "execute_result"
    }
   ],
   "source": [
    "val megaQuerie = dfCovidClean2.join(\n",
    "    vaccinationsClean,$\"date\" === $\"dateVaccinated\"\n",
    "    && dfCovidClean2(\"Country/Region\") <=> vaccinationsClean(\"country\")\n",
    ").join(dfPopulation,\"country\")\n",
    "        .select($\"country\",\n",
    "                $\"date\",\n",
    "                $\"confirmed\",\n",
    "                $\"people_vaccinated\",\n",
    "                $\"Population\",\n",
    "                $\"confirmed\" / $\"Population\" as \"infection Per Population\",\n",
    "                $\"people_vaccinated\"/ $\"Population\" as \"vaccination Per Population\",\n",
    "                $\"people_vaccinated\" / $\"confirmed\" as \"infection-vaccination rate\")\n",
    "        .orderBy($\"date\".asc)\n",
    "        .na.fill(\"\")\n",
    "        .withColumn(\"infection-vaccination rate\", round($\"infection-vaccination rate\",8))\n",
    "        .withColumn(\"vaccination Per Population\", round($\"vaccination Per Population\",8))"
   ]
  },
  {
   "cell_type": "markdown",
   "metadata": {},
   "source": [
    "# Visualización de datos con plotly"
   ]
  },
  {
   "cell_type": "code",
   "execution_count": null,
   "metadata": {},
   "outputs": [],
   "source": [
    "val (x, y) = Seq(\n",
    "  \"Banana\" -> 10,\n",
    "  \"Apple\" -> 8,\n",
    "  \"Grapefruit\" -> 5\n",
    ").unzip\n",
    "\n",
    "Bar(x, y).plot()"
   ]
  },
  {
   "cell_type": "markdown",
   "metadata": {},
   "source": [
    "## media de infecciones diarias"
   ]
  },
  {
   "cell_type": "code",
   "execution_count": 63,
   "metadata": {
    "scrolled": true
   },
   "outputs": [
    {
     "data": {
      "text/html": [
       "<div>\n",
       "  <span style=\"float: left;\">collect at cmd62.sc:1</span>\n",
       "</div>\n"
      ]
     },
     "metadata": {},
     "output_type": "display_data"
    },
    {
     "data": {
      "text/html": [
       "<div class=\"progress\">\n",
       "  <div class=\"progress-bar\" role=\"progressbar\" style=\"background-color: blue; width: 100%; word-wrap: normal; white-space: nowrap; text-align: center; color: white\" aria-valuenow=\"100\" aria-valuemin=\"0\" aria-valuemax=\"100\">\n",
       "    2 / 2\n",
       "  </div>\n",
       "  <div class=\"progress-bar\" role=\"progressbar\" style=\"background-color: red; width: 0%\" aria-valuenow=\"0\" aria-valuemin=\"0\" aria-valuemax=\"100\"></div>\n",
       "</div>\n"
      ]
     },
     "metadata": {},
     "output_type": "display_data"
    },
    {
     "data": {
      "text/html": [
       "<div>\n",
       "  <span style=\"float: left;\">collect at cmd62.sc:1</span>\n",
       "</div>\n"
      ]
     },
     "metadata": {},
     "output_type": "display_data"
    },
    {
     "data": {
      "text/html": [
       "<div class=\"progress\">\n",
       "  <div class=\"progress-bar\" role=\"progressbar\" style=\"background-color: blue; width: 100%; word-wrap: normal; white-space: nowrap; text-align: center; color: white\" aria-valuenow=\"100\" aria-valuemin=\"0\" aria-valuemax=\"100\">\n",
       "    200 / 200\n",
       "  </div>\n",
       "  <div class=\"progress-bar\" role=\"progressbar\" style=\"background-color: red; width: 0%\" aria-valuenow=\"0\" aria-valuemin=\"0\" aria-valuemax=\"100\"></div>\n",
       "</div>\n"
      ]
     },
     "metadata": {},
     "output_type": "display_data"
    },
    {
     "data": {
      "text/html": [
       "<div>\n",
       "  <span style=\"float: left;\">collect at cmd62.sc:1</span>\n",
       "</div>\n"
      ]
     },
     "metadata": {},
     "output_type": "display_data"
    },
    {
     "data": {
      "text/html": [
       "<div class=\"progress\">\n",
       "  <div class=\"progress-bar\" role=\"progressbar\" style=\"background-color: blue; width: 100%; word-wrap: normal; white-space: nowrap; text-align: center; color: white\" aria-valuenow=\"100\" aria-valuemin=\"0\" aria-valuemax=\"100\">\n",
       "    200 / 200\n",
       "  </div>\n",
       "  <div class=\"progress-bar\" role=\"progressbar\" style=\"background-color: red; width: 0%\" aria-valuenow=\"0\" aria-valuemin=\"0\" aria-valuemax=\"100\"></div>\n",
       "</div>\n"
      ]
     },
     "metadata": {},
     "output_type": "display_data"
    },
    {
     "data": {
      "text/html": [
       "<div>\n",
       "  <span style=\"float: left;\">collect at cmd62.sc:1</span>\n",
       "</div>\n"
      ]
     },
     "metadata": {},
     "output_type": "display_data"
    },
    {
     "data": {
      "text/html": [
       "<div class=\"progress\">\n",
       "  <div class=\"progress-bar\" role=\"progressbar\" style=\"background-color: blue; width: 100%; word-wrap: normal; white-space: nowrap; text-align: center; color: white\" aria-valuenow=\"100\" aria-valuemin=\"0\" aria-valuemax=\"100\">\n",
       "    200 / 200\n",
       "  </div>\n",
       "  <div class=\"progress-bar\" role=\"progressbar\" style=\"background-color: red; width: 0%\" aria-valuenow=\"0\" aria-valuemin=\"0\" aria-valuemax=\"100\"></div>\n",
       "</div>\n"
      ]
     },
     "metadata": {},
     "output_type": "display_data"
    },
    {
     "data": {
      "text/html": [
       "\n",
       "      <script type=\"text/javascript\">\n",
       "        require.config({\n",
       "  paths: {\n",
       "    d3: 'https://cdnjs.cloudflare.com/ajax/libs/d3/3.5.17/d3.min',\n",
       "    plotly: 'https://cdn.plot.ly/plotly-1.52.2.min',\n",
       "    jquery: 'https://code.jquery.com/jquery-3.3.1.min'\n",
       "  },\n",
       "\n",
       "  shim: {\n",
       "    plotly: {\n",
       "      deps: ['d3', 'jquery'],\n",
       "      exports: 'plotly'\n",
       "    }\n",
       "  }\n",
       "});\n",
       "        \n",
       "\n",
       "        require(['plotly'], function(Plotly) {\n",
       "          window.Plotly = Plotly;\n",
       "        });\n",
       "      </script>\n",
       "    "
      ]
     },
     "metadata": {},
     "output_type": "display_data"
    },
    {
     "data": {
      "application/vnd.plotly.v1+json": {
       "config": {},
       "data": [
        {
         "type": "bar",
         "x": [
          "United_States_of_America",
          "India",
          "Brazil",
          "Russia",
          "France",
          "Argentina",
          "United_Kingdom",
          "Italy",
          "Colombia",
          "Spain",
          "Poland",
          "Germany",
          "Turkey",
          "Mexico",
          "Peru",
          "Ukraine",
          "Iran",
          "South_Africa",
          "Chile",
          "Indonesia",
          "Bangladesh",
          "Netherlands",
          "Belgium",
          "Czechia",
          "Iraq",
          "Romania",
          "Morocco",
          "Canada",
          "Philippines",
          "Pakistan",
          "Saudi_Arabia",
          "Portugal",
          "Switzerland",
          "Israel",
          "Hungary",
          "Serbia",
          "Jordan",
          "Sweden",
          "Austria",
          "Nepal",
          "Panama",
          "Kazakhstan",
          "Bulgaria",
          "Ecuador",
          "Georgia",
          "United_Arab_Emirates",
          "Costa_Rica",
          "Bolivia",
          "Japan",
          "Azerbaijan",
          "Croatia",
          "Slovakia",
          "Guatemala",
          "Belarus",
          "Dominican_Republic",
          "Moldova",
          "Palestine",
          "Armenia",
          "Lebanon",
          "Ethiopia",
          "Kuwait",
          "Honduras",
          "Puerto_Rico",
          "Qatar",
          "Myanmar",
          "Tunisia",
          "Venezuela",
          "Oman",
          "Bosnia_and_Herzegovina",
          "Greece",
          "Egypt",
          "Libya",
          "Slovenia",
          "Paraguay",
          "Kenya",
          "Denmark",
          "Kyrgyzstan",
          "Lithuania",
          "Uzbekistan",
          "Algeria",
          "China",
          "Bahrain",
          "Malaysia",
          "Ireland",
          "North_Macedonia",
          "Nigeria",
          "Ghana",
          "Albania",
          "Kosovo",
          "Singapore",
          "El_Salvador",
          "Montenegro",
          "Afghanistan",
          "South_Korea",
          "Luxembourg",
          "Norway",
          "Uganda",
          "Sri_Lanka",
          "Cameroon",
          "Latvia",
          "Finland",
          "Australia",
          "Cote_dIvoire",
          "Sudan",
          "Zambia",
          "Madagascar",
          "Mozambique",
          "Senegal",
          "Angola",
          "Namibia",
          "French_Polynesia",
          "Tajikistan",
          "Cyprus",
          "Democratic_Republic_of_the_Congo",
          "Estonia",
          "Guinea",
          "Botswana",
          "Maldives",
          "Jamaica",
          "Cape_Verde",
          "Zimbabwe",
          "Malta",
          "Mauritania",
          "Haiti",
          "Uruguay",
          "Belize",
          "Syria",
          "Cuba",
          "Gabon",
          "Bahamas",
          "Andorra",
          "Guam",
          "Trinidad_and_Tobago",
          "Eswatini",
          "Rwanda",
          "Malawi",
          "Congo",
          "Mali",
          "Nicaragua",
          "Guyana",
          "Djibouti",
          "Suriname",
          "Aruba",
          "Equatorial_Guinea",
          "Central_African_Republic",
          "Somalia",
          "Iceland",
          "Burkina_Faso",
          "Gambia",
          "Curaçao",
          "South_Sudan",
          "Thailand",
          "Togo",
          "Benin",
          "Cases_on_an_international_conveyance_Japan",
          "Lesotho",
          "Sierra_Leone",
          "Guinea_Bissau",
          "Niger",
          "Yemen",
          "United_States_Virgin_Islands",
          "Jersey",
          "Chad",
          "Liberia",
          "San_Marino",
          "Liechtenstein",
          "New_Zealand",
          "Sint_Maarten",
          "Vietnam",
          "Sao_Tome_and_Principe",
          "Gibraltar",
          "Mongolia",
          "Western_Sahara",
          "Turks_and_Caicos_islands",
          "Burundi",
          "Comoros",
          "Papua_New_Guinea",
          "Eritrea",
          "Taiwan",
          "Monaco",
          "Mauritius",
          "United_Republic_of_Tanzania",
          "Faroe_Islands",
          "Bermuda",
          "Bhutan",
          "Isle_of_Man",
          "Cayman_Islands",
          "Barbados",
          "Guernsey",
          "Cambodia",
          "Saint_Lucia",
          "Seychelles",
          "\"Bonaire",
          "Antigua_and_Barbuda",
          "Brunei_Darussalam",
          "Northern_Mariana_Islands",
          "Saint_Vincent_and_the_Grenadines",
          "Dominica",
          "British_Virgin_Islands",
          "Solomon_Islands",
          "Grenada",
          "Fiji",
          "Laos",
          "New_Caledonia",
          "Timor_Leste",
          "Saint_Kitts_and_Nevis",
          "Holy_See",
          "Marshall_Islands",
          "Falkland_Islands_(Malvinas)",
          "Greenland",
          "Wallis_and_Futuna",
          "Montserrat",
          "Anguilla",
          "Vanuatu"
         ],
         "y": [
          46447.868571428575,
          28321.203438395416,
          19719.862857142856,
          7582.651428571428,
          6791.005714285714,
          5293.851590106007,
          5284.0085714285715,
          5267.748571428571,
          5110.301075268817,
          4958.667621776504,
          3998.8591549295775,
          3820.2228571428573,
          3606.7789855072465,
          3571.554285714286,
          3492.8120567375886,
          3263.282608695652,
          3166.482857142857,
          3053.063829787234,
          2006.7333333333333,
          1801.2244897959183,
          1783.7563636363636,
          1750.702857142857,
          1737.1457142857143,
          1660.2257142857143,
          1651.2471264367816,
          1598.6637931034484,
          1427.175,
          1316.4085714285713,
          1298.8439306358382,
          1277.6434782608696,
          1267.2112676056338,
          1215.135888501742,
          1063.797142857143,
          1031.293948126801,
          999.5422535211268,
          951.5428571428571,
          937.2346570397112,
          914.5657142857143,
          914.3885714285715,
          737.160237388724,
          689.3107142857143,
          677.3709090909091,
          640.8892857142857,
          585.8260869565217,
          550.6138328530259,
          537.6424418604652,
          535.2730496453901,
          531.2274368231047,
          513.2942857142857,
          512.7521865889213,
          506.87608069164264,
          471.5744680851064,
          470.11636363636364,
          468.69883040935673,
          453.6422287390029,
          451.85,
          443.61921708185054,
          436.0175953079179,
          423.46820809248555,
          423.07608695652175,
          421.37752161383287,
          414.34420289855075,
          409,
          407.4017341040462,
          405.7752808988764,
          396.30249110320284,
          391.1569343065693,
          366.9767441860465,
          365.043321299639,
          357.85632183908046,
          351.3728323699422,
          342.5622641509434,
          339.13380281690144,
          336.62589928057554,
          332.94202898550725,
          313.5942857142857,
          286.619926199262,
          278.6539589442815,
          274.06569343065695,
          266.9623188405797,
          262.91714285714284,
          255.4240687679083,
          239.18338108882523,
          218.92241379310346,
          215.94721407624633,
          215.85545722713863,
          192.07971014492753,
          172.70462633451956,
          168.768115942029,
          166.62857142857143,
          154.53874538745387,
          152.3014705882353,
          144.9205882352941,
          124.24,
          120.3265306122449,
          114.34857142857143,
          102.73134328358209,
          96.158357771261,
          90.76895306859205,
          90.7243816254417,
          89.04624277456648,
          80.08857142857143,
          78.55072463768116,
          77.48550724637681,
          67.43173431734317,
          65.56877323420075,
          63.49812734082397,
          60.982142857142854,
          60.40298507462686,
          60.13090909090909,
          57.6309963099631,
          55.719298245614034,
          54.32014388489208,
          52.3898916967509,
          52.333333333333336,
          48.8,
          48.45348837209303,
          47.74285714285714,
          42.27436823104693,
          42.21933085501859,
          41.806691449814124,
          39.226148409893995,
          39.2,
          35.425925925925924,
          35.301818181818184,
          34.943609022556394,
          34.329588014981276,
          34.265454545454546,
          33.80434782608695,
          28.21323529411765,
          26.58695652173913,
          26.22140221402214,
          24.833935018050543,
          24.61090909090909,
          24.214545454545455,
          23.6953125,
          22.076642335766422,
          22.022727272727273,
          21.723247232472325,
          21.527272727272727,
          21.136531365313655,
          19.825925925925926,
          18.910112359550563,
          18.854545454545455,
          18.014598540145986,
          16.772893772893774,
          15.877142857142857,
          14.548736462093864,
          13.904411764705882,
          13.62406015037594,
          12.671936758893281,
          12.352769679300291,
          11.778985507246377,
          11.31868131868132,
          10.875,
          10.514018691588785,
          9.457364341085272,
          9.29277566539924,
          8.394052044609666,
          8.365461847389557,
          6.818867924528302,
          6.588888888888889,
          6.555555555555555,
          6.13919413919414,
          5.578796561604585,
          5.426523297491039,
          5.102639296187683,
          4.666666666666667,
          4.03757225433526,
          4.036,
          3.9814814814814814,
          3.3284671532846715,
          3.2875536480686693,
          2.90188679245283,
          2.8255813953488373,
          2.7665198237885464,
          2.6951672862453533,
          2.6529850746268657,
          2.1142857142857143,
          1.9763313609467457,
          1.9074074074074074,
          1.8644688644688645,
          1.8591549295774648,
          1.5962962962962963,
          1.5869565217391304,
          1.3754646840148699,
          1.1037037037037036,
          1.0735294117647058,
          1.0703703703703704,
          1.0527859237536656,
          1,
          0.68,
          0.6731517509727627,
          0.5481481481481482,
          0.5448028673835126,
          0.4362934362934363,
          0.3684210526315789,
          0.3258426966292135,
          0.2889733840304182,
          0.2833333333333333,
          0.25842696629213485,
          0.17037037037037037,
          0.15471698113207547,
          0.13382899628252787,
          0.11567164179104478,
          0.10227272727272728,
          0.09454545454545454,
          0.0851063829787234,
          0.07450980392156863,
          0.07037037037037037,
          0.05084745762711865,
          0.048507462686567165,
          0.03802281368821293,
          0.029411764705882353
         ]
        }
       ],
       "layout": {}
      },
      "text/html": [
       "<div class=\"chart\" id=\"plot-e21ab27a-8b5f-4fcc-b10d-a50b223b3432\"></div>\n",
       "<script>require(['plotly'], function(Plotly) {\n",
       "  (function () {\n",
       "  var data0 = {\"x\":[\"United_States_of_America\",\"India\",\"Brazil\",\"Russia\",\"France\",\"Argentina\",\"United_Kingdom\",\"Italy\",\"Colombia\",\"Spain\",\"Poland\",\"Germany\",\"Turkey\",\"Mexico\",\"Peru\",\"Ukraine\",\"Iran\",\"South_Africa\",\"Chile\",\"Indonesia\",\"Bangladesh\",\"Netherlands\",\"Belgium\",\"Czechia\",\"Iraq\",\"Romania\",\"Morocco\",\"Canada\",\"Philippines\",\"Pakistan\",\"Saudi_Arabia\",\"Portugal\",\"Switzerland\",\"Israel\",\"Hungary\",\"Serbia\",\"Jordan\",\"Sweden\",\"Austria\",\"Nepal\",\"Panama\",\"Kazakhstan\",\"Bulgaria\",\"Ecuador\",\"Georgia\",\"United_Arab_Emirates\",\"Costa_Rica\",\"Bolivia\",\"Japan\",\"Azerbaijan\",\"Croatia\",\"Slovakia\",\"Guatemala\",\"Belarus\",\"Dominican_Republic\",\"Moldova\",\"Palestine\",\"Armenia\",\"Lebanon\",\"Ethiopia\",\"Kuwait\",\"Honduras\",\"Puerto_Rico\",\"Qatar\",\"Myanmar\",\"Tunisia\",\"Venezuela\",\"Oman\",\"Bosnia_and_Herzegovina\",\"Greece\",\"Egypt\",\"Libya\",\"Slovenia\",\"Paraguay\",\"Kenya\",\"Denmark\",\"Kyrgyzstan\",\"Lithuania\",\"Uzbekistan\",\"Algeria\",\"China\",\"Bahrain\",\"Malaysia\",\"Ireland\",\"North_Macedonia\",\"Nigeria\",\"Ghana\",\"Albania\",\"Kosovo\",\"Singapore\",\"El_Salvador\",\"Montenegro\",\"Afghanistan\",\"South_Korea\",\"Luxembourg\",\"Norway\",\"Uganda\",\"Sri_Lanka\",\"Cameroon\",\"Latvia\",\"Finland\",\"Australia\",\"Cote_dIvoire\",\"Sudan\",\"Zambia\",\"Madagascar\",\"Mozambique\",\"Senegal\",\"Angola\",\"Namibia\",\"French_Polynesia\",\"Tajikistan\",\"Cyprus\",\"Democratic_Republic_of_the_Congo\",\"Estonia\",\"Guinea\",\"Botswana\",\"Maldives\",\"Jamaica\",\"Cape_Verde\",\"Zimbabwe\",\"Malta\",\"Mauritania\",\"Haiti\",\"Uruguay\",\"Belize\",\"Syria\",\"Cuba\",\"Gabon\",\"Bahamas\",\"Andorra\",\"Guam\",\"Trinidad_and_Tobago\",\"Eswatini\",\"Rwanda\",\"Malawi\",\"Congo\",\"Mali\",\"Nicaragua\",\"Guyana\",\"Djibouti\",\"Suriname\",\"Aruba\",\"Equatorial_Guinea\",\"Central_African_Republic\",\"Somalia\",\"Iceland\",\"Burkina_Faso\",\"Gambia\",\"Curaçao\",\"South_Sudan\",\"Thailand\",\"Togo\",\"Benin\",\"Cases_on_an_international_conveyance_Japan\",\"Lesotho\",\"Sierra_Leone\",\"Guinea_Bissau\",\"Niger\",\"Yemen\",\"United_States_Virgin_Islands\",\"Jersey\",\"Chad\",\"Liberia\",\"San_Marino\",\"Liechtenstein\",\"New_Zealand\",\"Sint_Maarten\",\"Vietnam\",\"Sao_Tome_and_Principe\",\"Gibraltar\",\"Mongolia\",\"Western_Sahara\",\"Turks_and_Caicos_islands\",\"Burundi\",\"Comoros\",\"Papua_New_Guinea\",\"Eritrea\",\"Taiwan\",\"Monaco\",\"Mauritius\",\"United_Republic_of_Tanzania\",\"Faroe_Islands\",\"Bermuda\",\"Bhutan\",\"Isle_of_Man\",\"Cayman_Islands\",\"Barbados\",\"Guernsey\",\"Cambodia\",\"Saint_Lucia\",\"Seychelles\",\"\\\"Bonaire\",\"Antigua_and_Barbuda\",\"Brunei_Darussalam\",\"Northern_Mariana_Islands\",\"Saint_Vincent_and_the_Grenadines\",\"Dominica\",\"British_Virgin_Islands\",\"Solomon_Islands\",\"Grenada\",\"Fiji\",\"Laos\",\"New_Caledonia\",\"Timor_Leste\",\"Saint_Kitts_and_Nevis\",\"Holy_See\",\"Marshall_Islands\",\"Falkland_Islands_(Malvinas)\",\"Greenland\",\"Wallis_and_Futuna\",\"Montserrat\",\"Anguilla\",\"Vanuatu\"],\"y\":[46447.868571428575,28321.203438395416,19719.862857142856,7582.651428571428,6791.005714285714,5293.851590106007,5284.0085714285715,5267.748571428571,5110.301075268817,4958.667621776504,3998.8591549295775,3820.2228571428573,3606.7789855072465,3571.554285714286,3492.8120567375886,3263.282608695652,3166.482857142857,3053.063829787234,2006.7333333333333,1801.2244897959183,1783.7563636363636,1750.702857142857,1737.1457142857143,1660.2257142857143,1651.2471264367816,1598.6637931034484,1427.175,1316.4085714285713,1298.8439306358382,1277.6434782608696,1267.2112676056338,1215.135888501742,1063.797142857143,1031.293948126801,999.5422535211268,951.5428571428571,937.2346570397112,914.5657142857143,914.3885714285715,737.160237388724,689.3107142857143,677.3709090909091,640.8892857142857,585.8260869565217,550.6138328530259,537.6424418604652,535.2730496453901,531.2274368231047,513.2942857142857,512.7521865889213,506.87608069164264,471.5744680851064,470.11636363636364,468.69883040935673,453.6422287390029,451.85,443.61921708185054,436.0175953079179,423.46820809248555,423.07608695652175,421.37752161383287,414.34420289855075,409.0,407.4017341040462,405.7752808988764,396.30249110320284,391.1569343065693,366.9767441860465,365.043321299639,357.85632183908046,351.3728323699422,342.5622641509434,339.13380281690144,336.62589928057554,332.94202898550725,313.5942857142857,286.619926199262,278.6539589442815,274.06569343065695,266.9623188405797,262.91714285714284,255.4240687679083,239.18338108882523,218.92241379310346,215.94721407624633,215.85545722713863,192.07971014492753,172.70462633451956,168.768115942029,166.62857142857143,154.53874538745387,152.3014705882353,144.9205882352941,124.24,120.3265306122449,114.34857142857143,102.73134328358209,96.158357771261,90.76895306859205,90.7243816254417,89.04624277456648,80.08857142857143,78.55072463768116,77.48550724637681,67.43173431734317,65.56877323420075,63.49812734082397,60.982142857142854,60.40298507462686,60.13090909090909,57.6309963099631,55.719298245614034,54.32014388489208,52.3898916967509,52.333333333333336,48.8,48.45348837209303,47.74285714285714,42.27436823104693,42.21933085501859,41.806691449814124,39.226148409893995,39.2,35.425925925925924,35.301818181818184,34.943609022556394,34.329588014981276,34.265454545454546,33.80434782608695,28.21323529411765,26.58695652173913,26.22140221402214,24.833935018050543,24.61090909090909,24.214545454545455,23.6953125,22.076642335766422,22.022727272727273,21.723247232472325,21.527272727272727,21.136531365313655,19.825925925925926,18.910112359550563,18.854545454545455,18.014598540145986,16.772893772893774,15.877142857142857,14.548736462093864,13.904411764705882,13.62406015037594,12.671936758893281,12.352769679300291,11.778985507246377,11.31868131868132,10.875,10.514018691588785,9.457364341085272,9.29277566539924,8.394052044609666,8.365461847389557,6.818867924528302,6.588888888888889,6.555555555555555,6.13919413919414,5.578796561604585,5.426523297491039,5.102639296187683,4.666666666666667,4.03757225433526,4.036,3.9814814814814814,3.3284671532846715,3.2875536480686693,2.90188679245283,2.8255813953488373,2.7665198237885464,2.6951672862453533,2.6529850746268657,2.1142857142857143,1.9763313609467457,1.9074074074074074,1.8644688644688645,1.8591549295774648,1.5962962962962963,1.5869565217391304,1.3754646840148699,1.1037037037037036,1.0735294117647058,1.0703703703703704,1.0527859237536656,1.0,0.68,0.6731517509727627,0.5481481481481482,0.5448028673835126,0.4362934362934363,0.3684210526315789,0.3258426966292135,0.2889733840304182,0.2833333333333333,0.25842696629213485,0.17037037037037037,0.15471698113207547,0.13382899628252787,0.11567164179104478,0.10227272727272728,0.09454545454545454,0.0851063829787234,0.07450980392156863,0.07037037037037037,0.05084745762711865,0.048507462686567165,0.03802281368821293,0.029411764705882353],\"type\":\"bar\"};\n",
       "\n",
       "  var data = [data0];\n",
       "  var layout = {};\n",
       " var config = {};\n",
       "\n",
       "  Plotly.plot('plot-e21ab27a-8b5f-4fcc-b10d-a50b223b3432', data, layout, config);\n",
       "})();\n",
       "});\n",
       "      </script>\n",
       "           "
      ]
     },
     "metadata": {},
     "output_type": "display_data"
    },
    {
     "data": {
      "text/plain": [
       "\u001b[36mx\u001b[39m: \u001b[32mList\u001b[39m[\u001b[32mString\u001b[39m] = \u001b[33mList\u001b[39m(\n",
       "  \u001b[32m\"United_States_of_America\"\u001b[39m,\n",
       "  \u001b[32m\"India\"\u001b[39m,\n",
       "  \u001b[32m\"Brazil\"\u001b[39m,\n",
       "  \u001b[32m\"Russia\"\u001b[39m,\n",
       "  \u001b[32m\"France\"\u001b[39m,\n",
       "  \u001b[32m\"Argentina\"\u001b[39m,\n",
       "  \u001b[32m\"United_Kingdom\"\u001b[39m,\n",
       "  \u001b[32m\"Italy\"\u001b[39m,\n",
       "  \u001b[32m\"Colombia\"\u001b[39m,\n",
       "  \u001b[32m\"Spain\"\u001b[39m,\n",
       "  \u001b[32m\"Poland\"\u001b[39m,\n",
       "  \u001b[32m\"Germany\"\u001b[39m,\n",
       "  \u001b[32m\"Turkey\"\u001b[39m,\n",
       "  \u001b[32m\"Mexico\"\u001b[39m,\n",
       "  \u001b[32m\"Peru\"\u001b[39m,\n",
       "  \u001b[32m\"Ukraine\"\u001b[39m,\n",
       "  \u001b[32m\"Iran\"\u001b[39m,\n",
       "  \u001b[32m\"South_Africa\"\u001b[39m,\n",
       "  \u001b[32m\"Chile\"\u001b[39m,\n",
       "  \u001b[32m\"Indonesia\"\u001b[39m,\n",
       "  \u001b[32m\"Bangladesh\"\u001b[39m,\n",
       "  \u001b[32m\"Netherlands\"\u001b[39m,\n",
       "  \u001b[32m\"Belgium\"\u001b[39m,\n",
       "  \u001b[32m\"Czechia\"\u001b[39m,\n",
       "  \u001b[32m\"Iraq\"\u001b[39m,\n",
       "  \u001b[32m\"Romania\"\u001b[39m,\n",
       "  \u001b[32m\"Morocco\"\u001b[39m,\n",
       "  \u001b[32m\"Canada\"\u001b[39m,\n",
       "  \u001b[32m\"Philippines\"\u001b[39m,\n",
       "  \u001b[32m\"Pakistan\"\u001b[39m,\n",
       "  \u001b[32m\"Saudi_Arabia\"\u001b[39m,\n",
       "  \u001b[32m\"Portugal\"\u001b[39m,\n",
       "  \u001b[32m\"Switzerland\"\u001b[39m,\n",
       "  \u001b[32m\"Israel\"\u001b[39m,\n",
       "  \u001b[32m\"Hungary\"\u001b[39m,\n",
       "  \u001b[32m\"Serbia\"\u001b[39m,\n",
       "  \u001b[32m\"Jordan\"\u001b[39m,\n",
       "  \u001b[32m\"Sweden\"\u001b[39m,\n",
       "...\n",
       "\u001b[36my\u001b[39m: \u001b[32mList\u001b[39m[\u001b[32mDouble\u001b[39m] = \u001b[33mList\u001b[39m(\n",
       "  \u001b[32m46447.868571428575\u001b[39m,\n",
       "  \u001b[32m28321.203438395416\u001b[39m,\n",
       "  \u001b[32m19719.862857142856\u001b[39m,\n",
       "  \u001b[32m7582.651428571428\u001b[39m,\n",
       "  \u001b[32m6791.005714285714\u001b[39m,\n",
       "  \u001b[32m5293.851590106007\u001b[39m,\n",
       "  \u001b[32m5284.0085714285715\u001b[39m,\n",
       "  \u001b[32m5267.748571428571\u001b[39m,\n",
       "  \u001b[32m5110.301075268817\u001b[39m,\n",
       "  \u001b[32m4958.667621776504\u001b[39m,\n",
       "  \u001b[32m3998.8591549295775\u001b[39m,\n",
       "  \u001b[32m3820.2228571428573\u001b[39m,\n",
       "  \u001b[32m3606.7789855072465\u001b[39m,\n",
       "  \u001b[32m3571.554285714286\u001b[39m,\n",
       "  \u001b[32m3492.8120567375886\u001b[39m,\n",
       "  \u001b[32m3263.282608695652\u001b[39m,\n",
       "  \u001b[32m3166.482857142857\u001b[39m,\n",
       "  \u001b[32m3053.063829787234\u001b[39m,\n",
       "  \u001b[32m2006.7333333333333\u001b[39m,\n",
       "  \u001b[32m1801.2244897959183\u001b[39m,\n",
       "  \u001b[32m1783.7563636363636\u001b[39m,\n",
       "  \u001b[32m1750.702857142857\u001b[39m,\n",
       "  \u001b[32m1737.1457142857143\u001b[39m,\n",
       "  \u001b[32m1660.2257142857143\u001b[39m,\n",
       "  \u001b[32m1651.2471264367816\u001b[39m,\n",
       "  \u001b[32m1598.6637931034484\u001b[39m,\n",
       "  \u001b[32m1427.175\u001b[39m,\n",
       "  \u001b[32m1316.4085714285713\u001b[39m,\n",
       "  \u001b[32m1298.8439306358382\u001b[39m,\n",
       "  \u001b[32m1277.6434782608696\u001b[39m,\n",
       "  \u001b[32m1267.2112676056338\u001b[39m,\n",
       "  \u001b[32m1215.135888501742\u001b[39m,\n",
       "  \u001b[32m1063.797142857143\u001b[39m,\n",
       "  \u001b[32m1031.293948126801\u001b[39m,\n",
       "  \u001b[32m999.5422535211268\u001b[39m,\n",
       "  \u001b[32m951.5428571428571\u001b[39m,\n",
       "  \u001b[32m937.2346570397112\u001b[39m,\n",
       "  \u001b[32m914.5657142857143\u001b[39m,\n",
       "...\n",
       "\u001b[36mres62_1\u001b[39m: \u001b[32mString\u001b[39m = \u001b[32m\"plot-e21ab27a-8b5f-4fcc-b10d-a50b223b3432\"\u001b[39m"
      ]
     },
     "execution_count": 63,
     "metadata": {},
     "output_type": "execute_result"
    }
   ],
   "source": [
    "val (x,y) = infAvgOrDf.collect.map(r=>(r(0).toString, r(1).toString.toDouble)).toList.unzip\n",
    "Bar(x, y).plot()"
   ]
  },
  {
   "cell_type": "markdown",
   "metadata": {},
   "source": [
    "## media de infecciones por km2"
   ]
  },
  {
   "cell_type": "code",
   "execution_count": 64,
   "metadata": {
    "scrolled": true
   },
   "outputs": [
    {
     "data": {
      "text/html": [
       "<div>\n",
       "  <span style=\"float: left;\">run at ThreadPoolExecutor.java:1149</span>\n",
       "</div>\n"
      ]
     },
     "metadata": {},
     "output_type": "display_data"
    },
    {
     "data": {
      "text/html": [
       "<div class=\"progress\">\n",
       "  <div class=\"progress-bar\" role=\"progressbar\" style=\"background-color: blue; width: 100%; word-wrap: normal; white-space: nowrap; text-align: center; color: white\" aria-valuenow=\"100\" aria-valuemin=\"0\" aria-valuemax=\"100\">\n",
       "    1 / 1\n",
       "  </div>\n",
       "  <div class=\"progress-bar\" role=\"progressbar\" style=\"background-color: red; width: 0%\" aria-valuenow=\"0\" aria-valuemin=\"0\" aria-valuemax=\"100\"></div>\n",
       "</div>\n"
      ]
     },
     "metadata": {},
     "output_type": "display_data"
    },
    {
     "data": {
      "text/html": [
       "<div>\n",
       "  <span style=\"float: left;\">collect at cmd63.sc:1</span>\n",
       "</div>\n"
      ]
     },
     "metadata": {},
     "output_type": "display_data"
    },
    {
     "data": {
      "text/html": [
       "<div class=\"progress\">\n",
       "  <div class=\"progress-bar\" role=\"progressbar\" style=\"background-color: blue; width: 100%; word-wrap: normal; white-space: nowrap; text-align: center; color: white\" aria-valuenow=\"100\" aria-valuemin=\"0\" aria-valuemax=\"100\">\n",
       "    2 / 2\n",
       "  </div>\n",
       "  <div class=\"progress-bar\" role=\"progressbar\" style=\"background-color: red; width: 0%\" aria-valuenow=\"0\" aria-valuemin=\"0\" aria-valuemax=\"100\"></div>\n",
       "</div>\n"
      ]
     },
     "metadata": {},
     "output_type": "display_data"
    },
    {
     "data": {
      "text/html": [
       "<div>\n",
       "  <span style=\"float: left;\">collect at cmd63.sc:1</span>\n",
       "</div>\n"
      ]
     },
     "metadata": {},
     "output_type": "display_data"
    },
    {
     "data": {
      "text/html": [
       "<div class=\"progress\">\n",
       "  <div class=\"progress-bar\" role=\"progressbar\" style=\"background-color: blue; width: 100%; word-wrap: normal; white-space: nowrap; text-align: center; color: white\" aria-valuenow=\"100\" aria-valuemin=\"0\" aria-valuemax=\"100\">\n",
       "    200 / 200\n",
       "  </div>\n",
       "  <div class=\"progress-bar\" role=\"progressbar\" style=\"background-color: red; width: 0%\" aria-valuenow=\"0\" aria-valuemin=\"0\" aria-valuemax=\"100\"></div>\n",
       "</div>\n"
      ]
     },
     "metadata": {},
     "output_type": "display_data"
    },
    {
     "data": {
      "text/html": [
       "<div>\n",
       "  <span style=\"float: left;\">collect at cmd63.sc:1</span>\n",
       "</div>\n"
      ]
     },
     "metadata": {},
     "output_type": "display_data"
    },
    {
     "data": {
      "text/html": [
       "<div class=\"progress\">\n",
       "  <div class=\"progress-bar\" role=\"progressbar\" style=\"background-color: blue; width: 100%; word-wrap: normal; white-space: nowrap; text-align: center; color: white\" aria-valuenow=\"100\" aria-valuemin=\"0\" aria-valuemax=\"100\">\n",
       "    200 / 200\n",
       "  </div>\n",
       "  <div class=\"progress-bar\" role=\"progressbar\" style=\"background-color: red; width: 0%\" aria-valuenow=\"0\" aria-valuemin=\"0\" aria-valuemax=\"100\"></div>\n",
       "</div>\n"
      ]
     },
     "metadata": {},
     "output_type": "display_data"
    },
    {
     "data": {
      "text/html": [
       "<div>\n",
       "  <span style=\"float: left;\">collect at cmd63.sc:1</span>\n",
       "</div>\n"
      ]
     },
     "metadata": {},
     "output_type": "display_data"
    },
    {
     "data": {
      "text/html": [
       "<div class=\"progress\">\n",
       "  <div class=\"progress-bar\" role=\"progressbar\" style=\"background-color: blue; width: 100%; word-wrap: normal; white-space: nowrap; text-align: center; color: white\" aria-valuenow=\"100\" aria-valuemin=\"0\" aria-valuemax=\"100\">\n",
       "    157 / 157\n",
       "  </div>\n",
       "  <div class=\"progress-bar\" role=\"progressbar\" style=\"background-color: red; width: 0%\" aria-valuenow=\"0\" aria-valuemin=\"0\" aria-valuemax=\"100\"></div>\n",
       "</div>\n"
      ]
     },
     "metadata": {},
     "output_type": "display_data"
    },
    {
     "data": {
      "application/vnd.plotly.v1+json": {
       "config": {},
       "data": [
        {
         "type": "bar",
         "x": [
          "Monaco",
          "Gibraltar",
          "Bahrain",
          "Singapore",
          "Maldives",
          "Malta",
          "Aruba",
          "Belgium",
          "Andorra",
          "Netherlands",
          "Guam",
          "Israel",
          "Luxembourg",
          "Lebanon",
          "Qatar",
          "Liechtenstein",
          "Bermuda",
          "Curaçao",
          "Switzerland",
          "Kuwait",
          "Italy",
          "Slovenia",
          "Armenia",
          "Moldova",
          "Bangladesh",
          "Portugal",
          "Poland",
          "France",
          "Montenegro",
          "Austria",
          "Hungary",
          "Germany",
          "Serbia",
          "Jordan",
          "Spain",
          "Slovakia",
          "India",
          "Panama",
          "Croatia",
          "Georgia",
          "Denmark",
          "Romania",
          "Albania",
          "Azerbaijan",
          "Bulgaria",
          "Cyprus",
          "Ukraine",
          "Nepal",
          "Turkey",
          "Colombia",
          "Lithuania",
          "Guatemala",
          "Philippines",
          "Jamaica",
          "Iraq",
          "Honduras",
          "Morocco",
          "Ireland",
          "Bahamas",
          "Greece",
          "Peru",
          "Chile",
          "Tunisia",
          "Barbados",
          "Brazil",
          "Ecuador",
          "Belarus",
          "Sweden",
          "Iran",
          "Argentina",
          "Mexico",
          "Pakistan",
          "Belize",
          "Kyrgyzstan",
          "Comoros",
          "Seychelles",
          "Latvia",
          "Eswatini",
          "Japan",
          "Gambia",
          "Haiti",
          "Estonia",
          "Oman",
          "Indonesia",
          "Rwanda",
          "Mauritius",
          "Djibouti",
          "Paraguay",
          "Ghana",
          "Grenada",
          "Malaysia",
          "Uzbekistan",
          "Myanmar",
          "Kenya",
          "Uganda",
          "Bolivia",
          "Montserrat",
          "Russia",
          "Venezuela",
          "Dominica",
          "Ethiopia",
          "Anguilla",
          "Tajikistan",
          "Egypt",
          "Lesotho",
          "Cuba",
          "Senegal",
          "Norway",
          "Finland",
          "Malawi",
          "Kazakhstan",
          "Nigeria",
          "Afghanistan",
          "Togo",
          "Uruguay",
          "Guinea",
          "Libya",
          "Cameroon",
          "Syria",
          "Nicaragua",
          "Iceland",
          "Canada",
          "Gabon",
          "Suriname",
          "Madagascar",
          "Algeria",
          "Burundi",
          "Guyana",
          "Zimbabwe",
          "Benin",
          "Zambia",
          "Botswana",
          "Mozambique",
          "Namibia",
          "Congo",
          "Liberia",
          "Taiwan",
          "Angola",
          "Sudan",
          "Bhutan",
          "Mauritania",
          "China",
          "Somalia",
          "Eritrea",
          "Thailand",
          "Mali",
          "Yemen",
          "Vietnam",
          "Australia",
          "Fiji",
          "Niger",
          "Cambodia",
          "Chad",
          "Vanuatu",
          "Mongolia",
          "Laos",
          "Greenland"
         ],
         "y": [
          1.976331353187561,
          0.39814814925193787,
          0.3360843062400818,
          0.23804081976413727,
          0.1591428518295288,
          0.12258171290159225,
          0.10505618155002594,
          0.0573694109916687,
          0.05656799301505089,
          0.05191882699728012,
          0.048558153212070465,
          0.0476568378508091,
          0.04645812138915062,
          0.04139474034309387,
          0.03509058803319931,
          0.033915769308805466,
          0.03192592412233353,
          0.030684819445014,
          0.02692066878080368,
          0.02364632487297058,
          0.017908984795212746,
          0.016838818788528442,
          0.015314984135329723,
          0.013754947111010551,
          0.013703282922506332,
          0.013267124071717262,
          0.013058352284133434,
          0.012402372434735298,
          0.011323529295623302,
          0.011095737107098103,
          0.011041006073355675,
          0.010960015468299389,
          0.010879749432206154,
          0.010556821711361408,
          0.009941194206476212,
          0.009806489571928978,
          0.009525527246296406,
          0.009272406809031963,
          0.009057828225195408,
          0.007923641242086887,
          0.007390862330794334,
          0.006945578381419182,
          0.006303088739514351,
          0.00620329799130559,
          0.005903549026697874,
          0.0058788033202290535,
          0.005632953252643347,
          0.005142380483448505,
          0.00468638027086854,
          0.004605949390679598,
          0.004446085542440414,
          0.0043870508670806885,
          0.004356051795184612,
          0.003903450444340706,
          0.0038019136991351843,
          0.003703138791024685,
          0.0031977929174900055,
          0.00317785469815135,
          0.002818505046889186,
          0.0027762320823967457,
          0.0027287593111395836,
          0.0026989199686795473,
          0.0025508657563477755,
          0.0024965801276266575,
          0.002359360223636031,
          0.002358777914196253,
          0.0023098853416740894,
          0.002228799741715193,
          0.0019443571800366044,
          0.0019343994790688157,
          0.0018372664926573634,
          0.0016573830507695675,
          0.0015319425147026777,
          0.0014943687710911036,
          0.001486576977185905,
          0.0014782608486711979,
          0.001458591315895319,
          0.0014308667741715908,
          0.0014080023393034935,
          0.0013739537680521607,
          0.0012854109518229961,
          0.0012345679569989443,
          0.001185708330012858,
          0.0009942891774699092,
          0.0009815380908548832,
          0.000939609541092068,
          0.0009118434390984476,
          0.0008472839253954589,
          0.000844157999381423,
          0.000760079303290695,
          0.0007279968704096973,
          0.0006442540907301009,
          0.0006211258005350828,
          0.0005849914159625769,
          0.0005141451256349683,
          0.0004903788794763386,
          0.00048507461906410754,
          0.000463009811937809,
          0.000443463446572423,
          0.00043445691699162126,
          0.0004230760969221592,
          0.00042247571400366724,
          0.00039810873568058014,
          0.000352978880982846,
          0.0003463115426711738,
          0.00032192273647524416,
          0.0003167410031892359,
          0.00031305389711633325,
          0.0002930212940555066,
          0.0002513291547074914,
          0.0002509059850126505,
          0.00023700325982645154,
          0.00022197804355528206,
          0.00021656528406310827,
          0.0002017016231548041,
          0.00019860002794303,
          0.0001946885313373059,
          0.00019201826944481581,
          0.00018694977916311473,
          0.00018051560618914664,
          0.0001583754929015413,
          0.00014476352953352034,
          0.00013119241339154541,
          0.00012708926806226373,
          0.00011270082177361473,
          0.00011208709474885836,
          0.00011003042891388759,
          0.00010935876343864948,
          0.00010806951468111947,
          0.00010037851461675018,
          9.070842497749254e-05,
          8.549659833079204e-05,
          8.074738434515893e-05,
          7.303733582375571e-05,
          6.464609759859741e-05,
          6.37374832876958e-05,
          5.9708720073103905e-05,
          4.845029616262764e-05,
          4.389994501252659e-05,
          4.1633826185716316e-05,
          3.803240542765707e-05,
          2.8005031708744355e-05,
          2.673652852536179e-05,
          2.626717832754366e-05,
          2.4178922103601508e-05,
          1.8048605852527544e-05,
          1.584457822900731e-05,
          1.3021486665820703e-05,
          1.042507756210398e-05,
          9.325143764726818e-06,
          6.6267089096072596e-06,
          5.964117008261383e-06,
          5.206127298151841e-06,
          2.4127780307026114e-06,
          2.1424773422040744e-06,
          6.703508574901207e-07,
          1.714468709224093e-07
         ]
        }
       ],
       "layout": {}
      },
      "text/html": [
       "<div class=\"chart\" id=\"plot-64e70f45-e4c1-48ca-a5db-bf6a71af3665\"></div>\n",
       "<script>require(['plotly'], function(Plotly) {\n",
       "  (function () {\n",
       "  var data0 = {\"x\":[\"Monaco\",\"Gibraltar\",\"Bahrain\",\"Singapore\",\"Maldives\",\"Malta\",\"Aruba\",\"Belgium\",\"Andorra\",\"Netherlands\",\"Guam\",\"Israel\",\"Luxembourg\",\"Lebanon\",\"Qatar\",\"Liechtenstein\",\"Bermuda\",\"Curaçao\",\"Switzerland\",\"Kuwait\",\"Italy\",\"Slovenia\",\"Armenia\",\"Moldova\",\"Bangladesh\",\"Portugal\",\"Poland\",\"France\",\"Montenegro\",\"Austria\",\"Hungary\",\"Germany\",\"Serbia\",\"Jordan\",\"Spain\",\"Slovakia\",\"India\",\"Panama\",\"Croatia\",\"Georgia\",\"Denmark\",\"Romania\",\"Albania\",\"Azerbaijan\",\"Bulgaria\",\"Cyprus\",\"Ukraine\",\"Nepal\",\"Turkey\",\"Colombia\",\"Lithuania\",\"Guatemala\",\"Philippines\",\"Jamaica\",\"Iraq\",\"Honduras\",\"Morocco\",\"Ireland\",\"Bahamas\",\"Greece\",\"Peru\",\"Chile\",\"Tunisia\",\"Barbados\",\"Brazil\",\"Ecuador\",\"Belarus\",\"Sweden\",\"Iran\",\"Argentina\",\"Mexico\",\"Pakistan\",\"Belize\",\"Kyrgyzstan\",\"Comoros\",\"Seychelles\",\"Latvia\",\"Eswatini\",\"Japan\",\"Gambia\",\"Haiti\",\"Estonia\",\"Oman\",\"Indonesia\",\"Rwanda\",\"Mauritius\",\"Djibouti\",\"Paraguay\",\"Ghana\",\"Grenada\",\"Malaysia\",\"Uzbekistan\",\"Myanmar\",\"Kenya\",\"Uganda\",\"Bolivia\",\"Montserrat\",\"Russia\",\"Venezuela\",\"Dominica\",\"Ethiopia\",\"Anguilla\",\"Tajikistan\",\"Egypt\",\"Lesotho\",\"Cuba\",\"Senegal\",\"Norway\",\"Finland\",\"Malawi\",\"Kazakhstan\",\"Nigeria\",\"Afghanistan\",\"Togo\",\"Uruguay\",\"Guinea\",\"Libya\",\"Cameroon\",\"Syria\",\"Nicaragua\",\"Iceland\",\"Canada\",\"Gabon\",\"Suriname\",\"Madagascar\",\"Algeria\",\"Burundi\",\"Guyana\",\"Zimbabwe\",\"Benin\",\"Zambia\",\"Botswana\",\"Mozambique\",\"Namibia\",\"Congo\",\"Liberia\",\"Taiwan\",\"Angola\",\"Sudan\",\"Bhutan\",\"Mauritania\",\"China\",\"Somalia\",\"Eritrea\",\"Thailand\",\"Mali\",\"Yemen\",\"Vietnam\",\"Australia\",\"Fiji\",\"Niger\",\"Cambodia\",\"Chad\",\"Vanuatu\",\"Mongolia\",\"Laos\",\"Greenland\"],\"y\":[1.976331353187561,0.39814814925193787,0.3360843062400818,0.23804081976413727,0.1591428518295288,0.12258171290159225,0.10505618155002594,0.0573694109916687,0.05656799301505089,0.05191882699728012,0.048558153212070465,0.0476568378508091,0.04645812138915062,0.04139474034309387,0.03509058803319931,0.033915769308805466,0.03192592412233353,0.030684819445014,0.02692066878080368,0.02364632487297058,0.017908984795212746,0.016838818788528442,0.015314984135329723,0.013754947111010551,0.013703282922506332,0.013267124071717262,0.013058352284133434,0.012402372434735298,0.011323529295623302,0.011095737107098103,0.011041006073355675,0.010960015468299389,0.010879749432206154,0.010556821711361408,0.009941194206476212,0.009806489571928978,0.009525527246296406,0.009272406809031963,0.009057828225195408,0.007923641242086887,0.007390862330794334,0.006945578381419182,0.006303088739514351,0.00620329799130559,0.005903549026697874,0.0058788033202290535,0.005632953252643347,0.005142380483448505,0.00468638027086854,0.004605949390679598,0.004446085542440414,0.0043870508670806885,0.004356051795184612,0.003903450444340706,0.0038019136991351843,0.003703138791024685,0.0031977929174900055,0.00317785469815135,0.002818505046889186,0.0027762320823967457,0.0027287593111395836,0.0026989199686795473,0.0025508657563477755,0.0024965801276266575,0.002359360223636031,0.002358777914196253,0.0023098853416740894,0.002228799741715193,0.0019443571800366044,0.0019343994790688157,0.0018372664926573634,0.0016573830507695675,0.0015319425147026777,0.0014943687710911036,0.001486576977185905,0.0014782608486711979,0.001458591315895319,0.0014308667741715908,0.0014080023393034935,0.0013739537680521607,0.0012854109518229961,0.0012345679569989443,0.001185708330012858,9.942891774699092E-4,9.815380908548832E-4,9.39609541092068E-4,9.118434390984476E-4,8.472839253954589E-4,8.44157999381423E-4,7.60079303290695E-4,7.279968704096973E-4,6.442540907301009E-4,6.211258005350828E-4,5.849914159625769E-4,5.141451256349683E-4,4.903788794763386E-4,4.8507461906410754E-4,4.63009811937809E-4,4.43463446572423E-4,4.3445691699162126E-4,4.230760969221592E-4,4.2247571400366724E-4,3.9810873568058014E-4,3.52978880982846E-4,3.463115426711738E-4,3.2192273647524416E-4,3.167410031892359E-4,3.1305389711633325E-4,2.930212940555066E-4,2.513291547074914E-4,2.509059850126505E-4,2.3700325982645154E-4,2.2197804355528206E-4,2.1656528406310827E-4,2.017016231548041E-4,1.9860002794303E-4,1.946885313373059E-4,1.9201826944481581E-4,1.8694977916311473E-4,1.8051560618914664E-4,1.583754929015413E-4,1.4476352953352034E-4,1.3119241339154541E-4,1.2708926806226373E-4,1.1270082177361473E-4,1.1208709474885836E-4,1.1003042891388759E-4,1.0935876343864948E-4,1.0806951468111947E-4,1.0037851461675018E-4,9.070842497749254E-5,8.549659833079204E-5,8.074738434515893E-5,7.303733582375571E-5,6.464609759859741E-5,6.37374832876958E-5,5.9708720073103905E-5,4.845029616262764E-5,4.389994501252659E-5,4.1633826185716316E-5,3.803240542765707E-5,2.8005031708744355E-5,2.673652852536179E-5,2.626717832754366E-5,2.4178922103601508E-5,1.8048605852527544E-5,1.584457822900731E-5,1.3021486665820703E-5,1.042507756210398E-5,9.325143764726818E-6,6.6267089096072596E-6,5.964117008261383E-6,5.206127298151841E-6,2.4127780307026114E-6,2.1424773422040744E-6,6.703508574901207E-7,1.714468709224093E-7],\"type\":\"bar\"};\n",
       "\n",
       "  var data = [data0];\n",
       "  var layout = {};\n",
       " var config = {};\n",
       "\n",
       "  Plotly.plot('plot-64e70f45-e4c1-48ca-a5db-bf6a71af3665', data, layout, config);\n",
       "})();\n",
       "});\n",
       "      </script>\n",
       "           "
      ]
     },
     "metadata": {},
     "output_type": "display_data"
    },
    {
     "data": {
      "text/plain": [
       "\u001b[36mx\u001b[39m: \u001b[32mList\u001b[39m[\u001b[32mString\u001b[39m] = \u001b[33mList\u001b[39m(\n",
       "  \u001b[32m\"Monaco\"\u001b[39m,\n",
       "  \u001b[32m\"Gibraltar\"\u001b[39m,\n",
       "  \u001b[32m\"Bahrain\"\u001b[39m,\n",
       "  \u001b[32m\"Singapore\"\u001b[39m,\n",
       "  \u001b[32m\"Maldives\"\u001b[39m,\n",
       "  \u001b[32m\"Malta\"\u001b[39m,\n",
       "  \u001b[32m\"Aruba\"\u001b[39m,\n",
       "  \u001b[32m\"Belgium\"\u001b[39m,\n",
       "  \u001b[32m\"Andorra\"\u001b[39m,\n",
       "  \u001b[32m\"Netherlands\"\u001b[39m,\n",
       "  \u001b[32m\"Guam\"\u001b[39m,\n",
       "  \u001b[32m\"Israel\"\u001b[39m,\n",
       "  \u001b[32m\"Luxembourg\"\u001b[39m,\n",
       "  \u001b[32m\"Lebanon\"\u001b[39m,\n",
       "  \u001b[32m\"Qatar\"\u001b[39m,\n",
       "  \u001b[32m\"Liechtenstein\"\u001b[39m,\n",
       "  \u001b[32m\"Bermuda\"\u001b[39m,\n",
       "  \u001b[32m\"Cura\\u00e7ao\"\u001b[39m,\n",
       "  \u001b[32m\"Switzerland\"\u001b[39m,\n",
       "  \u001b[32m\"Kuwait\"\u001b[39m,\n",
       "  \u001b[32m\"Italy\"\u001b[39m,\n",
       "  \u001b[32m\"Slovenia\"\u001b[39m,\n",
       "  \u001b[32m\"Armenia\"\u001b[39m,\n",
       "  \u001b[32m\"Moldova\"\u001b[39m,\n",
       "  \u001b[32m\"Bangladesh\"\u001b[39m,\n",
       "  \u001b[32m\"Portugal\"\u001b[39m,\n",
       "  \u001b[32m\"Poland\"\u001b[39m,\n",
       "  \u001b[32m\"France\"\u001b[39m,\n",
       "  \u001b[32m\"Montenegro\"\u001b[39m,\n",
       "  \u001b[32m\"Austria\"\u001b[39m,\n",
       "  \u001b[32m\"Hungary\"\u001b[39m,\n",
       "  \u001b[32m\"Germany\"\u001b[39m,\n",
       "  \u001b[32m\"Serbia\"\u001b[39m,\n",
       "  \u001b[32m\"Jordan\"\u001b[39m,\n",
       "  \u001b[32m\"Spain\"\u001b[39m,\n",
       "  \u001b[32m\"Slovakia\"\u001b[39m,\n",
       "  \u001b[32m\"India\"\u001b[39m,\n",
       "  \u001b[32m\"Panama\"\u001b[39m,\n",
       "...\n",
       "\u001b[36my\u001b[39m: \u001b[32mList\u001b[39m[\u001b[32mFloat\u001b[39m] = \u001b[33mList\u001b[39m(\n",
       "  \u001b[32m1.9763314F\u001b[39m,\n",
       "  \u001b[32m0.39814815F\u001b[39m,\n",
       "  \u001b[32m0.3360843F\u001b[39m,\n",
       "  \u001b[32m0.23804082F\u001b[39m,\n",
       "  \u001b[32m0.15914285F\u001b[39m,\n",
       "  \u001b[32m0.12258171F\u001b[39m,\n",
       "  \u001b[32m0.10505618F\u001b[39m,\n",
       "  \u001b[32m0.05736941F\u001b[39m,\n",
       "  \u001b[32m0.056567993F\u001b[39m,\n",
       "  \u001b[32m0.051918827F\u001b[39m,\n",
       "  \u001b[32m0.048558153F\u001b[39m,\n",
       "  \u001b[32m0.047656838F\u001b[39m,\n",
       "  \u001b[32m0.04645812F\u001b[39m,\n",
       "  \u001b[32m0.04139474F\u001b[39m,\n",
       "  \u001b[32m0.035090588F\u001b[39m,\n",
       "  \u001b[32m0.03391577F\u001b[39m,\n",
       "  \u001b[32m0.031925924F\u001b[39m,\n",
       "  \u001b[32m0.03068482F\u001b[39m,\n",
       "  \u001b[32m0.026920669F\u001b[39m,\n",
       "  \u001b[32m0.023646325F\u001b[39m,\n",
       "  \u001b[32m0.017908985F\u001b[39m,\n",
       "  \u001b[32m0.016838819F\u001b[39m,\n",
       "  \u001b[32m0.015314984F\u001b[39m,\n",
       "  \u001b[32m0.013754947F\u001b[39m,\n",
       "  \u001b[32m0.013703283F\u001b[39m,\n",
       "  \u001b[32m0.013267124F\u001b[39m,\n",
       "  \u001b[32m0.013058352F\u001b[39m,\n",
       "  \u001b[32m0.012402372F\u001b[39m,\n",
       "  \u001b[32m0.011323529F\u001b[39m,\n",
       "  \u001b[32m0.011095737F\u001b[39m,\n",
       "  \u001b[32m0.011041006F\u001b[39m,\n",
       "  \u001b[32m0.0109600155F\u001b[39m,\n",
       "  \u001b[32m0.010879749F\u001b[39m,\n",
       "  \u001b[32m0.010556822F\u001b[39m,\n",
       "  \u001b[32m0.009941194F\u001b[39m,\n",
       "  \u001b[32m0.00980649F\u001b[39m,\n",
       "  \u001b[32m0.009525527F\u001b[39m,\n",
       "  \u001b[32m0.009272407F\u001b[39m,\n",
       "...\n",
       "\u001b[36mres63_1\u001b[39m: \u001b[32mString\u001b[39m = \u001b[32m\"plot-64e70f45-e4c1-48ca-a5db-bf6a71af3665\"\u001b[39m"
      ]
     },
     "execution_count": 64,
     "metadata": {},
     "output_type": "execute_result"
    }
   ],
   "source": [
    "val (x,y) = querie3.collect.map(r=>(r(0).toString, r(1).toString.toFloat)).toList.unzip\n",
    "Bar(x, y).plot()"
   ]
  },
  {
   "cell_type": "markdown",
   "metadata": {},
   "source": [
    "## media de infecciones por densidad de población"
   ]
  },
  {
   "cell_type": "code",
   "execution_count": 65,
   "metadata": {
    "scrolled": true
   },
   "outputs": [
    {
     "data": {
      "text/html": [
       "<div>\n",
       "  <span style=\"float: left;\">run at ThreadPoolExecutor.java:1149</span>\n",
       "</div>\n"
      ]
     },
     "metadata": {},
     "output_type": "display_data"
    },
    {
     "data": {
      "text/html": [
       "<div class=\"progress\">\n",
       "  <div class=\"progress-bar\" role=\"progressbar\" style=\"background-color: blue; width: 100%; word-wrap: normal; white-space: nowrap; text-align: center; color: white\" aria-valuenow=\"100\" aria-valuemin=\"0\" aria-valuemax=\"100\">\n",
       "    1 / 1\n",
       "  </div>\n",
       "  <div class=\"progress-bar\" role=\"progressbar\" style=\"background-color: red; width: 0%\" aria-valuenow=\"0\" aria-valuemin=\"0\" aria-valuemax=\"100\"></div>\n",
       "</div>\n"
      ]
     },
     "metadata": {},
     "output_type": "display_data"
    },
    {
     "data": {
      "text/html": [
       "<div>\n",
       "  <span style=\"float: left;\">collect at cmd64.sc:1</span>\n",
       "</div>\n"
      ]
     },
     "metadata": {},
     "output_type": "display_data"
    },
    {
     "data": {
      "text/html": [
       "<div class=\"progress\">\n",
       "  <div class=\"progress-bar\" role=\"progressbar\" style=\"background-color: blue; width: 100%; word-wrap: normal; white-space: nowrap; text-align: center; color: white\" aria-valuenow=\"100\" aria-valuemin=\"0\" aria-valuemax=\"100\">\n",
       "    2 / 2\n",
       "  </div>\n",
       "  <div class=\"progress-bar\" role=\"progressbar\" style=\"background-color: red; width: 0%\" aria-valuenow=\"0\" aria-valuemin=\"0\" aria-valuemax=\"100\"></div>\n",
       "</div>\n"
      ]
     },
     "metadata": {},
     "output_type": "display_data"
    },
    {
     "data": {
      "text/html": [
       "<div>\n",
       "  <span style=\"float: left;\">collect at cmd64.sc:1</span>\n",
       "</div>\n"
      ]
     },
     "metadata": {},
     "output_type": "display_data"
    },
    {
     "data": {
      "text/html": [
       "<div class=\"progress\">\n",
       "  <div class=\"progress-bar\" role=\"progressbar\" style=\"background-color: blue; width: 100%; word-wrap: normal; white-space: nowrap; text-align: center; color: white\" aria-valuenow=\"100\" aria-valuemin=\"0\" aria-valuemax=\"100\">\n",
       "    200 / 200\n",
       "  </div>\n",
       "  <div class=\"progress-bar\" role=\"progressbar\" style=\"background-color: red; width: 0%\" aria-valuenow=\"0\" aria-valuemin=\"0\" aria-valuemax=\"100\"></div>\n",
       "</div>\n"
      ]
     },
     "metadata": {},
     "output_type": "display_data"
    },
    {
     "data": {
      "text/html": [
       "<div>\n",
       "  <span style=\"float: left;\">collect at cmd64.sc:1</span>\n",
       "</div>\n"
      ]
     },
     "metadata": {},
     "output_type": "display_data"
    },
    {
     "data": {
      "text/html": [
       "<div class=\"progress\">\n",
       "  <div class=\"progress-bar\" role=\"progressbar\" style=\"background-color: blue; width: 100%; word-wrap: normal; white-space: nowrap; text-align: center; color: white\" aria-valuenow=\"100\" aria-valuemin=\"0\" aria-valuemax=\"100\">\n",
       "    200 / 200\n",
       "  </div>\n",
       "  <div class=\"progress-bar\" role=\"progressbar\" style=\"background-color: red; width: 0%\" aria-valuenow=\"0\" aria-valuemin=\"0\" aria-valuemax=\"100\"></div>\n",
       "</div>\n"
      ]
     },
     "metadata": {},
     "output_type": "display_data"
    },
    {
     "data": {
      "text/html": [
       "<div>\n",
       "  <span style=\"float: left;\">collect at cmd64.sc:1</span>\n",
       "</div>\n"
      ]
     },
     "metadata": {},
     "output_type": "display_data"
    },
    {
     "data": {
      "text/html": [
       "<div class=\"progress\">\n",
       "  <div class=\"progress-bar\" role=\"progressbar\" style=\"background-color: blue; width: 100%; word-wrap: normal; white-space: nowrap; text-align: center; color: white\" aria-valuenow=\"100\" aria-valuemin=\"0\" aria-valuemax=\"100\">\n",
       "    157 / 157\n",
       "  </div>\n",
       "  <div class=\"progress-bar\" role=\"progressbar\" style=\"background-color: red; width: 0%\" aria-valuenow=\"0\" aria-valuemin=\"0\" aria-valuemax=\"100\"></div>\n",
       "</div>\n"
      ]
     },
     "metadata": {},
     "output_type": "display_data"
    },
    {
     "data": {
      "application/vnd.plotly.v1+json": {
       "config": {},
       "data": [
        {
         "type": "bar",
         "x": [
          "Andorra",
          "Montenegro",
          "Luxembourg",
          "Aruba",
          "Slovenia",
          "Panama",
          "Guam",
          "Belgium",
          "Bahrain",
          "Armenia",
          "Liechtenstein",
          "Qatar",
          "Georgia",
          "Croatia",
          "Switzerland",
          "Portugal",
          "Israel",
          "Gibraltar",
          "Argentina",
          "Moldova",
          "Serbia",
          "Spain",
          "Peru",
          "Poland",
          "Chile",
          "France",
          "Hungary",
          "Lithuania",
          "Netherlands",
          "Austria",
          "Colombia",
          "Kuwait",
          "Brazil",
          "Bulgaria",
          "Jordan",
          "Sweden",
          "Malta",
          "Maldives",
          "Belize",
          "Italy",
          "Slovakia",
          "Romania",
          "Curaçao",
          "Ukraine",
          "Bahamas",
          "Oman",
          "Lebanon",
          "Albania",
          "Denmark",
          "Russia",
          "Azerbaijan",
          "Monaco",
          "Libya",
          "Belarus",
          "Latvia",
          "Paraguay",
          "Iceland",
          "Germany",
          "Bolivia",
          "Cyprus",
          "Ireland",
          "Kyrgyzstan",
          "Turkey",
          "Honduras",
          "Iraq",
          "Estonia",
          "Morocco",
          "Iran",
          "Kazakhstan",
          "Canada",
          "Greece",
          "Suriname",
          "Tunisia",
          "Ecuador",
          "Singapore",
          "Mexico",
          "Guyana",
          "Guatemala",
          "Bermuda",
          "Nepal",
          "Namibia",
          "Djibouti",
          "Eswatini",
          "Norway",
          "Botswana",
          "India",
          "Finland",
          "Gabon",
          "Jamaica",
          "Venezuela",
          "Philippines",
          "Bangladesh",
          "Uruguay",
          "Montserrat",
          "Mauritania",
          "Uzbekistan",
          "Myanmar",
          "Malaysia",
          "Seychelles",
          "Indonesia",
          "Kenya",
          "Ghana",
          "Algeria",
          "Tajikistan",
          "Pakistan",
          "Gambia",
          "Lesotho",
          "Dominica",
          "Japan",
          "Congo",
          "Barbados",
          "Afghanistan",
          "Guinea",
          "Ethiopia",
          "Zambia",
          "Senegal",
          "Egypt",
          "Cameroon",
          "Nicaragua",
          "Comoros",
          "Australia",
          "Haiti",
          "Cuba",
          "Zimbabwe",
          "Anguilla",
          "Madagascar",
          "Grenada",
          "Uganda",
          "Bhutan",
          "Mozambique",
          "Syria",
          "Rwanda",
          "Angola",
          "Sudan",
          "Mauritius",
          "Togo",
          "Greenland",
          "Malawi",
          "Liberia",
          "Mali",
          "Somalia",
          "Nigeria",
          "Mongolia",
          "Benin",
          "Eritrea",
          "Chad",
          "Niger",
          "Yemen",
          "Burundi",
          "Fiji",
          "China",
          "Thailand",
          "Vanuatu",
          "Taiwan",
          "Cambodia",
          "Vietnam",
          "Laos"
         ],
         "y": [
          "3.4400295679401656E-4",
          "2.4248737515640602E-4",
          "1.9169310791749766E-4",
          "1.769864042262208E-4",
          "1.6312438537043818E-4",
          "1.5933045595717767E-4",
          "1.5512777072857744E-4",
          "1.4977394087242467E-4",
          "1.4927852711388843E-4",
          "1.470935836076611E-4",
          "1.4225295036283446E-4",
          "1.410043921276158E-4",
          "1.3807441257860555E-4",
          "1.2360663598057857E-4",
          "1.2276072071712674E-4",
          "1.1923139268591238E-4",
          "1.1883296974895626E-4",
          "1.1818342727541584E-4",
          "1.1694609939486568E-4",
          "1.1205780134087437E-4",
          "1.0898339588681578E-4",
          "1.0604965444992492E-4",
          "1.0568198964713385E-4",
          "1.056801767088061E-4",
          "1.0481978256189323E-4",
          "1.0399872883500117E-4",
          "1.0351532863315192E-4",
          "1.0262212428067272E-4",
          "1.0213215665653311E-4",
          "1.0142561916584055E-4",
          "1.0024867022909995E-4",
          "9.842233741318859E-5",
          "9.265895515674243E-5",
          "9.236022816402629E-5",
          "9.170051564855786E-5",
          "9.04594102119817E-5",
          "8.879716674565683E-5",
          "8.806191843758869E-5",
          "8.761200221278044E-5",
          "8.714795885997434E-5",
          "8.636722601785167E-5",
          "8.320043755789592E-5",
          "8.29667936397435E-5",
          "7.469760353839696E-5",
          "7.162664808493088E-5",
          "7.156251824492746E-5",
          "6.209233113026865E-5",
          "6.0024428396292154E-5",
          "5.410734805570364E-5",
          "5.195535444150675E-5",
          "5.049269300129658E-5",
          "5.0301129064564556E-5",
          "4.973863492204412E-5",
          "4.960420575386483E-5",
          "4.819591800791427E-5",
          "4.709666361068959E-5",
          "4.647494601479638E-5",
          "4.5570542318689284E-5",
          "4.540325114103575E-5",
          "4.493404993100431E-5",
          "4.4251182277629934E-5",
          "4.380942576947178E-5",
          "4.268617803143365E-5",
          "4.172090522979654E-5",
          "4.0900019630477695E-5",
          "3.944645319854202E-5",
          "3.8587290023821136E-5",
          "3.761699190930163E-5",
          "3.600120078732539E-5",
          "3.48261699298238E-5",
          "3.4363215007186544E-5",
          "3.374390200160661E-5",
          "3.347172599533248E-5",
          "3.311885169405003E-5",
          "2.844305441533797E-5",
          "2.765087957736287E-5",
          "2.7346116025828707E-5",
          "2.615916592482222E-5",
          "2.5648670345554797E-5",
          "2.5223448882557514E-5",
          "2.3593118859146544E-5",
          "2.1340396169924956E-5",
          "2.1175538029731637E-5",
          "2.1064122943909875E-5",
          "2.0534750124319763E-5",
          "2.0487795519159687E-5",
          "1.606684138093813E-5",
          "1.512872433195445E-5",
          "1.426535551587261E-5",
          "1.3762673311754524E-5",
          "1.1825913676043043E-5",
          "1.0812456664776099E-5",
          "1.0156335697024861E-5",
          "9.715093668449263E-6",
          "8.394408724189067E-6",
          "8.168429037737473E-6",
          "7.449073784869729E-6",
          "7.373790853626613E-6",
          "6.90684895330767E-6",
          "6.573293723935426E-6",
          "6.169164504390356E-6",
          "6.1600677860208204E-6",
          "6.0694540133058865E-6",
          "5.82027514471108E-6",
          "5.765206543750934E-6",
          "5.727207700158366E-6",
          "4.901197137223386E-6",
          "4.524524718180616E-6",
          "4.060634079811276E-6",
          "3.9845543155453566E-6",
          "3.7348337610144374E-6",
          "3.7088485887723094E-6",
          "3.6994138324267114E-6",
          "3.665076664262543E-6",
          "3.6512235192169566E-6",
          "3.626319473771795E-6",
          "3.4227140446329356E-6",
          "3.4053149663271395E-6",
          "3.2725221140876404E-6",
          "3.1700878586316496E-6",
          "3.1344982609103417E-6",
          "3.100369525150967E-6",
          "3.0255427424496486E-6",
          "2.8058613417490884E-6",
          "2.5304681011721636E-6",
          "2.3578769373133793E-6",
          "2.2948031886988722E-6",
          "2.2345078295730782E-6",
          "2.052800619012182E-6",
          "2.0223099320806754E-6",
          "1.953758150691442E-6",
          "1.861897831564975E-6",
          "1.828616127646441E-6",
          "1.760263620187753E-6",
          "1.4993691004192992E-6",
          "1.417287817139012E-6",
          "1.2391985907050974E-6",
          "1.2333969239658167E-6",
          "1.2091190055707797E-6",
          "1.082405020043014E-6",
          "1.0505482560584174E-6",
          "1.042858845877551E-6",
          "1.0125409547835743E-6",
          "9.296291660518778E-7",
          "7.46311273084473E-7",
          "3.972371335952851E-7",
          "3.4477494002865895E-7",
          "2.794498434896545E-7",
          "2.3648092007123588E-7",
          "1.898122719493237E-7",
          "1.825435950076109E-7",
          "1.7689577370030905E-7",
          "9.538837280599589E-8",
          "8.874466787706809E-8",
          "6.282120657913343E-8",
          "4.141523967521942E-8",
          "2.1212873132433527E-8"
         ]
        }
       ],
       "layout": {}
      },
      "text/html": [
       "<div class=\"chart\" id=\"plot-e9b5669a-7799-40e7-b76e-7abd71a4ba92\"></div>\n",
       "<script>require(['plotly'], function(Plotly) {\n",
       "  (function () {\n",
       "  var data0 = {\"x\":[\"Andorra\",\"Montenegro\",\"Luxembourg\",\"Aruba\",\"Slovenia\",\"Panama\",\"Guam\",\"Belgium\",\"Bahrain\",\"Armenia\",\"Liechtenstein\",\"Qatar\",\"Georgia\",\"Croatia\",\"Switzerland\",\"Portugal\",\"Israel\",\"Gibraltar\",\"Argentina\",\"Moldova\",\"Serbia\",\"Spain\",\"Peru\",\"Poland\",\"Chile\",\"France\",\"Hungary\",\"Lithuania\",\"Netherlands\",\"Austria\",\"Colombia\",\"Kuwait\",\"Brazil\",\"Bulgaria\",\"Jordan\",\"Sweden\",\"Malta\",\"Maldives\",\"Belize\",\"Italy\",\"Slovakia\",\"Romania\",\"Curaçao\",\"Ukraine\",\"Bahamas\",\"Oman\",\"Lebanon\",\"Albania\",\"Denmark\",\"Russia\",\"Azerbaijan\",\"Monaco\",\"Libya\",\"Belarus\",\"Latvia\",\"Paraguay\",\"Iceland\",\"Germany\",\"Bolivia\",\"Cyprus\",\"Ireland\",\"Kyrgyzstan\",\"Turkey\",\"Honduras\",\"Iraq\",\"Estonia\",\"Morocco\",\"Iran\",\"Kazakhstan\",\"Canada\",\"Greece\",\"Suriname\",\"Tunisia\",\"Ecuador\",\"Singapore\",\"Mexico\",\"Guyana\",\"Guatemala\",\"Bermuda\",\"Nepal\",\"Namibia\",\"Djibouti\",\"Eswatini\",\"Norway\",\"Botswana\",\"India\",\"Finland\",\"Gabon\",\"Jamaica\",\"Venezuela\",\"Philippines\",\"Bangladesh\",\"Uruguay\",\"Montserrat\",\"Mauritania\",\"Uzbekistan\",\"Myanmar\",\"Malaysia\",\"Seychelles\",\"Indonesia\",\"Kenya\",\"Ghana\",\"Algeria\",\"Tajikistan\",\"Pakistan\",\"Gambia\",\"Lesotho\",\"Dominica\",\"Japan\",\"Congo\",\"Barbados\",\"Afghanistan\",\"Guinea\",\"Ethiopia\",\"Zambia\",\"Senegal\",\"Egypt\",\"Cameroon\",\"Nicaragua\",\"Comoros\",\"Australia\",\"Haiti\",\"Cuba\",\"Zimbabwe\",\"Anguilla\",\"Madagascar\",\"Grenada\",\"Uganda\",\"Bhutan\",\"Mozambique\",\"Syria\",\"Rwanda\",\"Angola\",\"Sudan\",\"Mauritius\",\"Togo\",\"Greenland\",\"Malawi\",\"Liberia\",\"Mali\",\"Somalia\",\"Nigeria\",\"Mongolia\",\"Benin\",\"Eritrea\",\"Chad\",\"Niger\",\"Yemen\",\"Burundi\",\"Fiji\",\"China\",\"Thailand\",\"Vanuatu\",\"Taiwan\",\"Cambodia\",\"Vietnam\",\"Laos\"],\"y\":[\"3.4400295679401656E-4\",\"2.4248737515640602E-4\",\"1.9169310791749766E-4\",\"1.769864042262208E-4\",\"1.6312438537043818E-4\",\"1.5933045595717767E-4\",\"1.5512777072857744E-4\",\"1.4977394087242467E-4\",\"1.4927852711388843E-4\",\"1.470935836076611E-4\",\"1.4225295036283446E-4\",\"1.410043921276158E-4\",\"1.3807441257860555E-4\",\"1.2360663598057857E-4\",\"1.2276072071712674E-4\",\"1.1923139268591238E-4\",\"1.1883296974895626E-4\",\"1.1818342727541584E-4\",\"1.1694609939486568E-4\",\"1.1205780134087437E-4\",\"1.0898339588681578E-4\",\"1.0604965444992492E-4\",\"1.0568198964713385E-4\",\"1.056801767088061E-4\",\"1.0481978256189323E-4\",\"1.0399872883500117E-4\",\"1.0351532863315192E-4\",\"1.0262212428067272E-4\",\"1.0213215665653311E-4\",\"1.0142561916584055E-4\",\"1.0024867022909995E-4\",\"9.842233741318859E-5\",\"9.265895515674243E-5\",\"9.236022816402629E-5\",\"9.170051564855786E-5\",\"9.04594102119817E-5\",\"8.879716674565683E-5\",\"8.806191843758869E-5\",\"8.761200221278044E-5\",\"8.714795885997434E-5\",\"8.636722601785167E-5\",\"8.320043755789592E-5\",\"8.29667936397435E-5\",\"7.469760353839696E-5\",\"7.162664808493088E-5\",\"7.156251824492746E-5\",\"6.209233113026865E-5\",\"6.0024428396292154E-5\",\"5.410734805570364E-5\",\"5.195535444150675E-5\",\"5.049269300129658E-5\",\"5.0301129064564556E-5\",\"4.973863492204412E-5\",\"4.960420575386483E-5\",\"4.819591800791427E-5\",\"4.709666361068959E-5\",\"4.647494601479638E-5\",\"4.5570542318689284E-5\",\"4.540325114103575E-5\",\"4.493404993100431E-5\",\"4.4251182277629934E-5\",\"4.380942576947178E-5\",\"4.268617803143365E-5\",\"4.172090522979654E-5\",\"4.0900019630477695E-5\",\"3.944645319854202E-5\",\"3.8587290023821136E-5\",\"3.761699190930163E-5\",\"3.600120078732539E-5\",\"3.48261699298238E-5\",\"3.4363215007186544E-5\",\"3.374390200160661E-5\",\"3.347172599533248E-5\",\"3.311885169405003E-5\",\"2.844305441533797E-5\",\"2.765087957736287E-5\",\"2.7346116025828707E-5\",\"2.615916592482222E-5\",\"2.5648670345554797E-5\",\"2.5223448882557514E-5\",\"2.3593118859146544E-5\",\"2.1340396169924956E-5\",\"2.1175538029731637E-5\",\"2.1064122943909875E-5\",\"2.0534750124319763E-5\",\"2.0487795519159687E-5\",\"1.606684138093813E-5\",\"1.512872433195445E-5\",\"1.426535551587261E-5\",\"1.3762673311754524E-5\",\"1.1825913676043043E-5\",\"1.0812456664776099E-5\",\"1.0156335697024861E-5\",\"9.715093668449263E-6\",\"8.394408724189067E-6\",\"8.168429037737473E-6\",\"7.449073784869729E-6\",\"7.373790853626613E-6\",\"6.90684895330767E-6\",\"6.573293723935426E-6\",\"6.169164504390356E-6\",\"6.1600677860208204E-6\",\"6.0694540133058865E-6\",\"5.82027514471108E-6\",\"5.765206543750934E-6\",\"5.727207700158366E-6\",\"4.901197137223386E-6\",\"4.524524718180616E-6\",\"4.060634079811276E-6\",\"3.9845543155453566E-6\",\"3.7348337610144374E-6\",\"3.7088485887723094E-6\",\"3.6994138324267114E-6\",\"3.665076664262543E-6\",\"3.6512235192169566E-6\",\"3.626319473771795E-6\",\"3.4227140446329356E-6\",\"3.4053149663271395E-6\",\"3.2725221140876404E-6\",\"3.1700878586316496E-6\",\"3.1344982609103417E-6\",\"3.100369525150967E-6\",\"3.0255427424496486E-6\",\"2.8058613417490884E-6\",\"2.5304681011721636E-6\",\"2.3578769373133793E-6\",\"2.2948031886988722E-6\",\"2.2345078295730782E-6\",\"2.052800619012182E-6\",\"2.0223099320806754E-6\",\"1.953758150691442E-6\",\"1.861897831564975E-6\",\"1.828616127646441E-6\",\"1.760263620187753E-6\",\"1.4993691004192992E-6\",\"1.417287817139012E-6\",\"1.2391985907050974E-6\",\"1.2333969239658167E-6\",\"1.2091190055707797E-6\",\"1.082405020043014E-6\",\"1.0505482560584174E-6\",\"1.042858845877551E-6\",\"1.0125409547835743E-6\",\"9.296291660518778E-7\",\"7.46311273084473E-7\",\"3.972371335952851E-7\",\"3.4477494002865895E-7\",\"2.794498434896545E-7\",\"2.3648092007123588E-7\",\"1.898122719493237E-7\",\"1.825435950076109E-7\",\"1.7689577370030905E-7\",\"9.538837280599589E-8\",\"8.874466787706809E-8\",\"6.282120657913343E-8\",\"4.141523967521942E-8\",\"2.1212873132433527E-8\"],\"type\":\"bar\"};\n",
       "\n",
       "  var data = [data0];\n",
       "  var layout = {};\n",
       " var config = {};\n",
       "\n",
       "  Plotly.plot('plot-e9b5669a-7799-40e7-b76e-7abd71a4ba92', data, layout, config);\n",
       "})();\n",
       "});\n",
       "      </script>\n",
       "           "
      ]
     },
     "metadata": {},
     "output_type": "display_data"
    },
    {
     "data": {
      "text/plain": [
       "\u001b[36mx\u001b[39m: \u001b[32mList\u001b[39m[\u001b[32mString\u001b[39m] = \u001b[33mList\u001b[39m(\n",
       "  \u001b[32m\"Andorra\"\u001b[39m,\n",
       "  \u001b[32m\"Montenegro\"\u001b[39m,\n",
       "  \u001b[32m\"Luxembourg\"\u001b[39m,\n",
       "  \u001b[32m\"Aruba\"\u001b[39m,\n",
       "  \u001b[32m\"Slovenia\"\u001b[39m,\n",
       "  \u001b[32m\"Panama\"\u001b[39m,\n",
       "  \u001b[32m\"Guam\"\u001b[39m,\n",
       "  \u001b[32m\"Belgium\"\u001b[39m,\n",
       "  \u001b[32m\"Bahrain\"\u001b[39m,\n",
       "  \u001b[32m\"Armenia\"\u001b[39m,\n",
       "  \u001b[32m\"Liechtenstein\"\u001b[39m,\n",
       "  \u001b[32m\"Qatar\"\u001b[39m,\n",
       "  \u001b[32m\"Georgia\"\u001b[39m,\n",
       "  \u001b[32m\"Croatia\"\u001b[39m,\n",
       "  \u001b[32m\"Switzerland\"\u001b[39m,\n",
       "  \u001b[32m\"Portugal\"\u001b[39m,\n",
       "  \u001b[32m\"Israel\"\u001b[39m,\n",
       "  \u001b[32m\"Gibraltar\"\u001b[39m,\n",
       "  \u001b[32m\"Argentina\"\u001b[39m,\n",
       "  \u001b[32m\"Moldova\"\u001b[39m,\n",
       "  \u001b[32m\"Serbia\"\u001b[39m,\n",
       "  \u001b[32m\"Spain\"\u001b[39m,\n",
       "  \u001b[32m\"Peru\"\u001b[39m,\n",
       "  \u001b[32m\"Poland\"\u001b[39m,\n",
       "  \u001b[32m\"Chile\"\u001b[39m,\n",
       "  \u001b[32m\"France\"\u001b[39m,\n",
       "  \u001b[32m\"Hungary\"\u001b[39m,\n",
       "  \u001b[32m\"Lithuania\"\u001b[39m,\n",
       "  \u001b[32m\"Netherlands\"\u001b[39m,\n",
       "  \u001b[32m\"Austria\"\u001b[39m,\n",
       "  \u001b[32m\"Colombia\"\u001b[39m,\n",
       "  \u001b[32m\"Kuwait\"\u001b[39m,\n",
       "  \u001b[32m\"Brazil\"\u001b[39m,\n",
       "  \u001b[32m\"Bulgaria\"\u001b[39m,\n",
       "  \u001b[32m\"Jordan\"\u001b[39m,\n",
       "  \u001b[32m\"Sweden\"\u001b[39m,\n",
       "  \u001b[32m\"Malta\"\u001b[39m,\n",
       "  \u001b[32m\"Maldives\"\u001b[39m,\n",
       "...\n",
       "\u001b[36my\u001b[39m: \u001b[32mList\u001b[39m[\u001b[32mString\u001b[39m] = \u001b[33mList\u001b[39m(\n",
       "  \u001b[32m\"3.4400295679401656E-4\"\u001b[39m,\n",
       "  \u001b[32m\"2.4248737515640602E-4\"\u001b[39m,\n",
       "  \u001b[32m\"1.9169310791749766E-4\"\u001b[39m,\n",
       "  \u001b[32m\"1.769864042262208E-4\"\u001b[39m,\n",
       "  \u001b[32m\"1.6312438537043818E-4\"\u001b[39m,\n",
       "  \u001b[32m\"1.5933045595717767E-4\"\u001b[39m,\n",
       "  \u001b[32m\"1.5512777072857744E-4\"\u001b[39m,\n",
       "  \u001b[32m\"1.4977394087242467E-4\"\u001b[39m,\n",
       "  \u001b[32m\"1.4927852711388843E-4\"\u001b[39m,\n",
       "  \u001b[32m\"1.470935836076611E-4\"\u001b[39m,\n",
       "  \u001b[32m\"1.4225295036283446E-4\"\u001b[39m,\n",
       "  \u001b[32m\"1.410043921276158E-4\"\u001b[39m,\n",
       "  \u001b[32m\"1.3807441257860555E-4\"\u001b[39m,\n",
       "  \u001b[32m\"1.2360663598057857E-4\"\u001b[39m,\n",
       "  \u001b[32m\"1.2276072071712674E-4\"\u001b[39m,\n",
       "  \u001b[32m\"1.1923139268591238E-4\"\u001b[39m,\n",
       "  \u001b[32m\"1.1883296974895626E-4\"\u001b[39m,\n",
       "  \u001b[32m\"1.1818342727541584E-4\"\u001b[39m,\n",
       "  \u001b[32m\"1.1694609939486568E-4\"\u001b[39m,\n",
       "  \u001b[32m\"1.1205780134087437E-4\"\u001b[39m,\n",
       "  \u001b[32m\"1.0898339588681578E-4\"\u001b[39m,\n",
       "  \u001b[32m\"1.0604965444992492E-4\"\u001b[39m,\n",
       "  \u001b[32m\"1.0568198964713385E-4\"\u001b[39m,\n",
       "  \u001b[32m\"1.056801767088061E-4\"\u001b[39m,\n",
       "  \u001b[32m\"1.0481978256189323E-4\"\u001b[39m,\n",
       "  \u001b[32m\"1.0399872883500117E-4\"\u001b[39m,\n",
       "  \u001b[32m\"1.0351532863315192E-4\"\u001b[39m,\n",
       "  \u001b[32m\"1.0262212428067272E-4\"\u001b[39m,\n",
       "  \u001b[32m\"1.0213215665653311E-4\"\u001b[39m,\n",
       "  \u001b[32m\"1.0142561916584055E-4\"\u001b[39m,\n",
       "  \u001b[32m\"1.0024867022909995E-4\"\u001b[39m,\n",
       "  \u001b[32m\"9.842233741318859E-5\"\u001b[39m,\n",
       "  \u001b[32m\"9.265895515674243E-5\"\u001b[39m,\n",
       "  \u001b[32m\"9.236022816402629E-5\"\u001b[39m,\n",
       "  \u001b[32m\"9.170051564855786E-5\"\u001b[39m,\n",
       "  \u001b[32m\"9.04594102119817E-5\"\u001b[39m,\n",
       "  \u001b[32m\"8.879716674565683E-5\"\u001b[39m,\n",
       "  \u001b[32m\"8.806191843758869E-5\"\u001b[39m,\n",
       "...\n",
       "\u001b[36mres64_1\u001b[39m: \u001b[32mString\u001b[39m = \u001b[32m\"plot-e9b5669a-7799-40e7-b76e-7abd71a4ba92\"\u001b[39m"
      ]
     },
     "execution_count": 65,
     "metadata": {},
     "output_type": "execute_result"
    }
   ],
   "source": [
    "val (x,y) = infectionsPerPopulation.collect.map(r=>(r(0).toString, r(1).toString)).toList.unzip\n",
    "Bar(x, y).plot()"
   ]
  },
  {
   "cell_type": "markdown",
   "metadata": {},
   "source": [
    "## porcentaje diario de infectados"
   ]
  },
  {
   "cell_type": "code",
   "execution_count": null,
   "metadata": {},
   "outputs": [],
   "source": [
    "val (x,y) = querie4.collect.map(r=>(r(1).toString, r(6).toString)).toList.unzip\n",
    "Bar(x, y).plot()\n"
   ]
  },
  {
   "cell_type": "markdown",
   "metadata": {},
   "source": [
    "## comparacion entre paises de crecimiento de la enfermedad"
   ]
  },
  {
   "cell_type": "code",
   "execution_count": null,
   "metadata": {
    "scrolled": true
   },
   "outputs": [],
   "source": [
    "val y = querie4.filter($\"country\" === \"Spain\").select($\"infection Per Population\").\n",
    "    collect.map(r => r(0).toString.toDouble).toList\n",
    "\n",
    "val x = querie4.filter($\"country\" === \"Spain\").select($\"to_date\").collect.toList.map(_.toString)\n",
    "\n",
    "val y1 = querie4.filter($\"country\" === \"Italy\").select($\"infection Per Population\").\n",
    "    collect.map(r => r(0).toString.toDouble).toList\n",
    "val x1 = querie4.filter($\"country\" === \"Italy\").select($\"to_date\").collect.toList.map(_.toString)\n",
    "\n",
    "val data = Seq(\n",
    "    Scatter(x,y).withName(\"Spain\"),\n",
    "    Scatter(x1,y1).withName(\"Italy\")\n",
    ").map(_.withFill(Fill.ToNextY).withStackgroup(\"A\"))\n",
    "\n",
    "plot(data)"
   ]
  },
  {
   "cell_type": "code",
   "execution_count": null,
   "metadata": {
    "scrolled": false
   },
   "outputs": [],
   "source": [
    "val y = querie4.filter($\"country\" === \"Spain\").select($\"infection Per Population\").\n",
    "    collect.map(r => r(0).toString.toDouble).toList\n",
    "\n",
    "val x = querie4.filter($\"country\" === \"Spain\").select($\"to_date\").collect.toList.map(_.toString)\n",
    "\n",
    "val y1 = querie4.filter($\"country\" === \"Italy\").select($\"infection Per Population\").\n",
    "    collect.map(r => r(0).toString.toDouble).toList\n",
    "val x1 = querie4.filter($\"country\" === \"Italy\").select($\"to_date\").collect.toList.map(_.toString)\n",
    "\n",
    "val data1 = Seq(\n",
    "    Scatter(x,y).withName(\"Spain\"),\n",
    "    Scatter(x1,y1).withName(\"Italy\")\n",
    ").map(_.withFill(Fill.ToNextY).withStackgroup(\"A\"))\n",
    "\n",
    "\n",
    "val data = querie4.line\n",
    "\n",
    "plot(data)\n",
    "\n",
    "val cases = querie4"
   ]
  },
  {
   "cell_type": "markdown",
   "metadata": {},
   "source": [
    "## porcentaje de la población vacunada"
   ]
  },
  {
   "cell_type": "code",
   "execution_count": 69,
   "metadata": {},
   "outputs": [
    {
     "data": {
      "text/html": [
       "<div>\n",
       "  <span style=\"float: left;\">run at ThreadPoolExecutor.java:1149</span>\n",
       "</div>\n"
      ]
     },
     "metadata": {},
     "output_type": "display_data"
    },
    {
     "data": {
      "text/html": [
       "<div class=\"progress\">\n",
       "  <div class=\"progress-bar\" role=\"progressbar\" style=\"background-color: blue; width: 100%; word-wrap: normal; white-space: nowrap; text-align: center; color: white\" aria-valuenow=\"100\" aria-valuemin=\"0\" aria-valuemax=\"100\">\n",
       "    1 / 1\n",
       "  </div>\n",
       "  <div class=\"progress-bar\" role=\"progressbar\" style=\"background-color: red; width: 0%\" aria-valuenow=\"0\" aria-valuemin=\"0\" aria-valuemax=\"100\"></div>\n",
       "</div>\n"
      ]
     },
     "metadata": {},
     "output_type": "display_data"
    },
    {
     "data": {
      "text/html": [
       "<div>\n",
       "  <span style=\"float: left;\">run at ThreadPoolExecutor.java:1149</span>\n",
       "</div>\n"
      ]
     },
     "metadata": {},
     "output_type": "display_data"
    },
    {
     "data": {
      "text/html": [
       "<div class=\"progress\">\n",
       "  <div class=\"progress-bar\" role=\"progressbar\" style=\"background-color: blue; width: 100%; word-wrap: normal; white-space: nowrap; text-align: center; color: white\" aria-valuenow=\"100\" aria-valuemin=\"0\" aria-valuemax=\"100\">\n",
       "    1 / 1\n",
       "  </div>\n",
       "  <div class=\"progress-bar\" role=\"progressbar\" style=\"background-color: red; width: 0%\" aria-valuenow=\"0\" aria-valuemin=\"0\" aria-valuemax=\"100\"></div>\n",
       "</div>\n"
      ]
     },
     "metadata": {},
     "output_type": "display_data"
    },
    {
     "data": {
      "text/html": [
       "<div>\n",
       "  <span style=\"float: left;\">collect at cmd68.sc:1</span>\n",
       "</div>\n"
      ]
     },
     "metadata": {},
     "output_type": "display_data"
    },
    {
     "data": {
      "text/html": [
       "<div class=\"progress\">\n",
       "  <div class=\"progress-bar\" role=\"progressbar\" style=\"background-color: blue; width: 100%; word-wrap: normal; white-space: nowrap; text-align: center; color: white\" aria-valuenow=\"100\" aria-valuemin=\"0\" aria-valuemax=\"100\">\n",
       "    5 / 5\n",
       "  </div>\n",
       "  <div class=\"progress-bar\" role=\"progressbar\" style=\"background-color: red; width: 0%\" aria-valuenow=\"0\" aria-valuemin=\"0\" aria-valuemax=\"100\"></div>\n",
       "</div>\n"
      ]
     },
     "metadata": {},
     "output_type": "display_data"
    },
    {
     "data": {
      "text/html": [
       "<div>\n",
       "  <span style=\"float: left;\">collect at cmd68.sc:1</span>\n",
       "</div>\n"
      ]
     },
     "metadata": {},
     "output_type": "display_data"
    },
    {
     "data": {
      "text/html": [
       "<div class=\"progress\">\n",
       "  <div class=\"progress-bar\" role=\"progressbar\" style=\"background-color: blue; width: 100%; word-wrap: normal; white-space: nowrap; text-align: center; color: white\" aria-valuenow=\"100\" aria-valuemin=\"0\" aria-valuemax=\"100\">\n",
       "    1 / 1\n",
       "  </div>\n",
       "  <div class=\"progress-bar\" role=\"progressbar\" style=\"background-color: red; width: 0%\" aria-valuenow=\"0\" aria-valuemin=\"0\" aria-valuemax=\"100\"></div>\n",
       "</div>\n"
      ]
     },
     "metadata": {},
     "output_type": "display_data"
    },
    {
     "data": {
      "text/html": [
       "<div>\n",
       "  <span style=\"float: left;\">collect at cmd68.sc:1</span>\n",
       "</div>\n"
      ]
     },
     "metadata": {},
     "output_type": "display_data"
    },
    {
     "data": {
      "text/html": [
       "<div class=\"progress\">\n",
       "  <div class=\"progress-bar\" role=\"progressbar\" style=\"background-color: blue; width: 100%; word-wrap: normal; white-space: nowrap; text-align: center; color: white\" aria-valuenow=\"100\" aria-valuemin=\"0\" aria-valuemax=\"100\">\n",
       "    5 / 5\n",
       "  </div>\n",
       "  <div class=\"progress-bar\" role=\"progressbar\" style=\"background-color: red; width: 0%\" aria-valuenow=\"0\" aria-valuemin=\"0\" aria-valuemax=\"100\"></div>\n",
       "</div>\n"
      ]
     },
     "metadata": {},
     "output_type": "display_data"
    },
    {
     "data": {
      "text/html": [
       "<div>\n",
       "  <span style=\"float: left;\">collect at cmd68.sc:1</span>\n",
       "</div>\n"
      ]
     },
     "metadata": {},
     "output_type": "display_data"
    },
    {
     "data": {
      "text/html": [
       "<div class=\"progress\">\n",
       "  <div class=\"progress-bar\" role=\"progressbar\" style=\"background-color: blue; width: 100%; word-wrap: normal; white-space: nowrap; text-align: center; color: white\" aria-valuenow=\"100\" aria-valuemin=\"0\" aria-valuemax=\"100\">\n",
       "    130 / 130\n",
       "  </div>\n",
       "  <div class=\"progress-bar\" role=\"progressbar\" style=\"background-color: red; width: 0%\" aria-valuenow=\"0\" aria-valuemin=\"0\" aria-valuemax=\"100\"></div>\n",
       "</div>\n"
      ]
     },
     "metadata": {},
     "output_type": "display_data"
    },
    {
     "ename": "",
     "evalue": "",
     "output_type": "error",
     "traceback": [
      "\u001b[31mjava.lang.NullPointerException\u001b[39m\n  ammonite.$sess.cmd68$Helper.$anonfun$x$1$1(\u001b[32mcmd68.sc\u001b[39m:\u001b[32m1\u001b[39m)\n  scala.collection.TraversableLike.$anonfun$map$1(\u001b[32mTraversableLike.scala\u001b[39m:\u001b[32m238\u001b[39m)\n  scala.collection.IndexedSeqOptimized.foreach(\u001b[32mIndexedSeqOptimized.scala\u001b[39m:\u001b[32m36\u001b[39m)\n  scala.collection.IndexedSeqOptimized.foreach$(\u001b[32mIndexedSeqOptimized.scala\u001b[39m:\u001b[32m33\u001b[39m)\n  scala.collection.mutable.ArrayOps$ofRef.foreach(\u001b[32mArrayOps.scala\u001b[39m:\u001b[32m198\u001b[39m)\n  scala.collection.TraversableLike.map(\u001b[32mTraversableLike.scala\u001b[39m:\u001b[32m238\u001b[39m)\n  scala.collection.TraversableLike.map$(\u001b[32mTraversableLike.scala\u001b[39m:\u001b[32m231\u001b[39m)\n  scala.collection.mutable.ArrayOps$ofRef.map(\u001b[32mArrayOps.scala\u001b[39m:\u001b[32m198\u001b[39m)\n  ammonite.$sess.cmd68$Helper.<init>(\u001b[32mcmd68.sc\u001b[39m:\u001b[32m1\u001b[39m)\n  ammonite.$sess.cmd68$.<init>(\u001b[32mcmd68.sc\u001b[39m:\u001b[32m7\u001b[39m)\n  ammonite.$sess.cmd68$.<clinit>(\u001b[32mcmd68.sc\u001b[39m:\u001b[32m-1\u001b[39m)"
     ]
    }
   ],
   "source": [
    "val (x,y) = megaQuerie.collect.map(r=>(r(0).toString, r(6).toString.toDouble)).toList.unzip\n",
    "Bar(x, y).plot()"
   ]
  },
  {
   "cell_type": "markdown",
   "metadata": {},
   "source": [
    "## crecimiento de la vacunacion con respecto a la población"
   ]
  },
  {
   "cell_type": "code",
   "execution_count": null,
   "metadata": {},
   "outputs": [],
   "source": [
    "val y = megaQuerie.filter($\"country\" === \"Chile\").select($\"vaccination Per Population\" * 10000000).\n",
    "    collect.map(r => r(0).toString.toDouble).toList\n",
    "\n",
    "val x = megaQuerie.filter($\"country\" === \"Chile\").select($\"date\").collect.toList.map(_.toString)\n",
    "\n",
    "val y1 = megaQuerie.filter($\"country\" === \"Chile\").select($\"people_vaccinated\").\n",
    "    collect.map(r => r(0).toString.toDouble).toList\n",
    "val x1 = megaQuerie.filter($\"country\" === \"Chile\").select($\"date\").collect.toList.map(_.toString)\n",
    "\n",
    "val data = Seq(\n",
    "    Scatter(x,y).withName(\"% population\"),\n",
    "    Scatter(x1,y1).withName(\"Vaccines\")\n",
    ").map(_.withFill(Fill.ToNextY).withStackgroup(\"A\"))\n",
    "\n",
    "val myLayout =\n",
    "  Layout()\n",
    "    .withTitle(\"CHILE\")\n",
    "\n",
    "plot(data,myLayout)"
   ]
  },
  {
   "cell_type": "markdown",
   "metadata": {},
   "source": [
    "# Visualización de eficiencia"
   ]
  },
  {
   "cell_type": "markdown",
   "metadata": {},
   "source": [
    "para la querie de media de infecciones diarias:"
   ]
  },
  {
   "cell_type": "code",
   "execution_count": null,
   "metadata": {},
   "outputs": [],
   "source": [
    "val (x, y) = Seq(\n",
    "    \"RDD\" -> runWithOutput(infectionAvgRDD.collect),\n",
    "    \"DataSet\" -> runWithOutput(avgDS.collect),\n",
    "    \"DataFrame\" -> runWithOutput(infAvgOrDf.collect)\n",
    ").unzip\n",
    "\n",
    "Bar(x, y).plot()"
   ]
  },
  {
   "cell_type": "markdown",
   "metadata": {},
   "source": [
    "para la querie de infecciones por km2"
   ]
  },
  {
   "cell_type": "code",
   "execution_count": null,
   "metadata": {},
   "outputs": [],
   "source": [
    "val (x, y) = Seq(\n",
    "    \"Not Optimized RDD\" -> runWithOutput(notOptimizedRDD.collect),\n",
    "    \"RDD\" -> runWithOutput(querie1.collect),\n",
    "    \"DataSet\" -> runWithOutput(querie2_1.collect),\n",
    "    \"DataFrame\" -> runWithOutput(querie3.collect),\n",
    "    \"DataFrame using Parquet\" -> runWithOutput(parquetQuerie.collect)\n",
    ").unzip\n",
    "\n",
    "Bar(x, y).plot()"
   ]
  },
  {
   "cell_type": "markdown",
   "metadata": {},
   "source": [
    "para la querie de infecciones por número de habitantes"
   ]
  },
  {
   "cell_type": "code",
   "execution_count": null,
   "metadata": {},
   "outputs": [],
   "source": [
    "val (x, y) = Seq(\n",
    "    \"DataSet\" -> runWithOutput(querie2.collect),\n",
    "    \"DataFrame\" -> runWithOutput(infectionsPerPopulation.collect),\n",
    "    \"DataFrame2\" -> runWithOutput(megaQuerie.collect)\n",
    ").unzip\n",
    "\n",
    "Bar(x, y).plot()"
   ]
  },
  {
   "cell_type": "markdown",
   "metadata": {},
   "source": [
    "# Notas y observaciones personales interesantes "
   ]
  },
  {
   "cell_type": "code",
   "execution_count": null,
   "metadata": {},
   "outputs": [],
   "source": [
    "val timeRDD = spark.time(infectionAvgRDD.collect())"
   ]
  },
  {
   "cell_type": "code",
   "execution_count": null,
   "metadata": {},
   "outputs": [],
   "source": [
    "ch.cern.sparkmeasure.StageMetrics(spark).runAndMeasure(infectionAvgRDD.collect())"
   ]
  },
  {
   "cell_type": "code",
   "execution_count": null,
   "metadata": {
    "scrolled": false
   },
   "outputs": [],
   "source": [
    "infAvgOrDf.showHTML()"
   ]
  },
  {
   "cell_type": "code",
   "execution_count": null,
   "metadata": {},
   "outputs": [],
   "source": [
    "spark.time(infAvgOrDf.count())"
   ]
  },
  {
   "cell_type": "code",
   "execution_count": null,
   "metadata": {},
   "outputs": [],
   "source": [
    "val timeDF = spark.time(infAvgOrDf.collect)"
   ]
  },
  {
   "cell_type": "code",
   "execution_count": null,
   "metadata": {},
   "outputs": [],
   "source": [
    "ch.cern.sparkmeasure.StageMetrics(spark).runAndMeasure(infAvgOrDf.collect)"
   ]
  },
  {
   "cell_type": "code",
   "execution_count": null,
   "metadata": {},
   "outputs": [],
   "source": [
    "val timeDS = spark.time(avgDS.collect)"
   ]
  },
  {
   "cell_type": "code",
   "execution_count": null,
   "metadata": {},
   "outputs": [],
   "source": [
    "ch.cern.sparkmeasure.StageMetrics(spark).runAndMeasure(\n",
    "    populationByCountry.join(infectionByCountry)\n",
    "    .groupByKey()\n",
    "    .mapValues(\n",
    "    x => x.map( \n",
    "        line => line._1.land_area.toFloat / line._2.nCases.toFloat)\n",
    "    ).mapValues(\n",
    "        x => x.sum / x.size\n",
    "    ).collect()\n",
    ")"
   ]
  },
  {
   "cell_type": "code",
   "execution_count": null,
   "metadata": {},
   "outputs": [],
   "source": [
    "ch.cern.sparkmeasure.StageMetrics(spark).runAndMeasure(\n",
    "countriesAndCases.join(countriesAndLandArea)   \n",
    ".mapValues(\n",
    "    x => x._1.map(\n",
    "        y => (y.toFloat / x._2.toFloat)\n",
    "    )).mapValues(\n",
    "    x => x.sum / x.size\n",
    ").collect())"
   ]
  },
  {
   "cell_type": "code",
   "execution_count": null,
   "metadata": {},
   "outputs": [],
   "source": [
    "ch.cern.sparkmeasure.StageMetrics(spark).runAndMeasure(querie2_1.collect)"
   ]
  },
  {
   "cell_type": "code",
   "execution_count": null,
   "metadata": {},
   "outputs": [],
   "source": [
    "ch.cern.sparkmeasure.StageMetrics(spark).runAndMeasure(querie2.collect)"
   ]
  },
  {
   "cell_type": "code",
   "execution_count": null,
   "metadata": {},
   "outputs": [],
   "source": [
    "ch.cern.sparkmeasure.StageMetrics(spark).runAndMeasure(\n",
    "    querie3.collect\n",
    "    )"
   ]
  },
  {
   "cell_type": "code",
   "execution_count": null,
   "metadata": {
    "scrolled": true
   },
   "outputs": [],
   "source": [
    "ch.cern.sparkmeasure.StageMetrics(spark).runAndMeasure(\n",
    "    querie4.collect\n",
    "    )"
   ]
  },
  {
   "cell_type": "code",
   "execution_count": null,
   "metadata": {},
   "outputs": [],
   "source": [
    "ch.cern.sparkmeasure.StageMetrics(spark).runAndMeasure(\n",
    "    megaQuerie.collect\n",
    "    )"
   ]
  },
  {
   "cell_type": "markdown",
   "metadata": {},
   "source": [
    "# Consulta utilizando los datos en .parquet"
   ]
  },
  {
   "cell_type": "code",
   "execution_count": null,
   "metadata": {},
   "outputs": [],
   "source": [
    "/*dfCovid.write\n",
    "    .partitionBy(\"countriesAndTerritories\",\"cases\")\n",
    "    .parquet(\"data_files/covid.parquet\")\n",
    "*/"
   ]
  },
  {
   "cell_type": "code",
   "execution_count": null,
   "metadata": {},
   "outputs": [],
   "source": [
    "val parqDF = spark.read.parquet(\"data_files/covid.parquet\")"
   ]
  },
  {
   "cell_type": "markdown",
   "metadata": {},
   "source": [
    "casos por km2"
   ]
  },
  {
   "cell_type": "code",
   "execution_count": null,
   "metadata": {},
   "outputs": [],
   "source": [
    "val parquetCasosKM2 =\n",
    "parqDF.join(dfPopulation, $\"country\" === $\"countriesAndTerritories\")\n",
    "        .select($\"country\",\n",
    "                $\"dateRep\" as \"date\",\n",
    "                $\"cases\",\n",
    "                $\"Land Area (Km\\u00b2)\",\n",
    "                $\"cases\" / $\"Land Area (Km\\u00b2)\" as \"infection Per Km\\u00b2\")\n",
    "        .groupBy(\"country\")\n",
    "        .avg(\"infection Per Km\\u00b2\")\n",
    "        .orderBy(desc(\"avg(infection Per Km²)\"))"
   ]
  },
  {
   "cell_type": "code",
   "execution_count": null,
   "metadata": {},
   "outputs": [],
   "source": [
    "ch.cern.sparkmeasure.StageMetrics(spark).runAndMeasure(\n",
    "    parquetCasosKM2\n",
    "    .collect()\n",
    ")"
   ]
  },
  {
   "cell_type": "markdown",
   "metadata": {},
   "source": [
    "casos por número de habitante"
   ]
  },
  {
   "cell_type": "code",
   "execution_count": null,
   "metadata": {},
   "outputs": [],
   "source": [
    "val parquetCasosPoblacion =\n",
    "parqDF.join(dfPopulation, $\"country\" === $\"countriesAndTerritories\")\n",
    "        .select($\"country\",\n",
    "                $\"dateRep\" as \"date\",\n",
    "                $\"cases\",\n",
    "                $\"Population\",\n",
    "                $\"cases\" / $\"Population\" as \"infection Per Population\")\n",
    "        .groupBy(\"country\")\n",
    "        .avg(\"infection Per Population\")\n",
    "        .orderBy(desc(\"avg(infection Per Population)\"))"
   ]
  },
  {
   "cell_type": "code",
   "execution_count": null,
   "metadata": {},
   "outputs": [],
   "source": [
    "ch.cern.sparkmeasure.StageMetrics(spark).runAndMeasure(\n",
    "    parquetCasosPoblacion\n",
    "    .collect()\n",
    ")"
   ]
  },
  {
   "cell_type": "markdown",
   "metadata": {},
   "source": [
    "Porcentaje diario de infecciones"
   ]
  },
  {
   "cell_type": "code",
   "execution_count": null,
   "metadata": {},
   "outputs": [],
   "source": [
    "val parquetCasosDiarios =\n",
    "parqDF.join(dfPopulation, $\"country\" === $\"countriesAndTerritories\")\n",
    "                .select($\"country\",\n",
    "                $\"dateRep\",\n",
    "                $\"day\",\n",
    "                $\"month\",\n",
    "                $\"cases\",\n",
    "                $\"Population\",\n",
    "                $\"cases\" / $\"Population\" as \"infection Per Population\")\n",
    "        .orderBy($\"dateRep\".asc)"
   ]
  },
  {
   "cell_type": "code",
   "execution_count": null,
   "metadata": {},
   "outputs": [],
   "source": [
    "ch.cern.sparkmeasure.StageMetrics(spark).runAndMeasure(\n",
    "    parquetCasosDiarios\n",
    "    .collect()\n",
    ")"
   ]
  },
  {
   "cell_type": "code",
   "execution_count": null,
   "metadata": {},
   "outputs": [],
   "source": []
  }
 ],
 "metadata": {
  "kernelspec": {
   "display_name": "Scala 2.12",
   "language": "scala",
   "name": "scala212"
  },
  "language_info": {
   "codemirror_mode": "text/x-scala",
   "file_extension": ".scala",
   "mimetype": "text/x-scala",
   "name": "scala",
   "nbconvert_exporter": "script",
   "version": "2.12.10"
  }
 },
 "nbformat": 4,
 "nbformat_minor": 4
}
