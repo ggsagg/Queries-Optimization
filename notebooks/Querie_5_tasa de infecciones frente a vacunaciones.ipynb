{
 "cells": [
  {
   "cell_type": "code",
   "execution_count": null,
   "metadata": {},
   "outputs": [],
   "source": [
    "import $file.common\n",
    "import spark._\n",
    "import common._\n",
    "import org.apache.spark.sql.functions._\n",
    "import org.apache.spark.sql.types.{IntegerType, StringType, StructType}\n",
    "import spark.implicits._\n",
    "import spark.sqlContext.implicits._\n",
    "import org.apache.spark.sql.functions.{col, to_date}\n",
    "import org.apache.spark.sql.types.DateType"
   ]
  },
  {
   "cell_type": "code",
   "execution_count": null,
   "metadata": {},
   "outputs": [],
   "source": [
    "import plotly._\n",
    "import plotly.element._\n",
    "import plotly.layout._\n",
    "import plotly.Almond._"
   ]
  },
  {
   "cell_type": "markdown",
   "metadata": {},
   "source": [
    "## Consulta con DataSet"
   ]
  },
  {
   "cell_type": "code",
   "execution_count": null,
   "metadata": {},
   "outputs": [],
   "source": [
    "def infectionsDS = spark.read\n",
    ".option(\"header\", \"true\")\n",
    ".option(\"charset\", \"UTF8\")\n",
    ".option(\"delimiter\",\",\")\n",
    ".option(\"inferSchema\", \"true\")\n",
    ".csv(\"../datasets/covid_19_data.csv\")\n",
    ".as[(Int,String,String,String,String,Double,Double,Double)]"
   ]
  },
  {
   "cell_type": "code",
   "execution_count": null,
   "metadata": {},
   "outputs": [],
   "source": [
    "def populationDS = spark.read\n",
    ".option(\"header\", \"true\")\n",
    ".option(\"charset\", \"UTF8\")\n",
    ".option(\"delimiter\",\",\")\n",
    ".option(\"inferSchema\", \"true\")\n",
    ".csv(\"../datasets/population_by_country_2020.csv\")\n",
    ".withColumnRenamed(\"Country (or dependency)\",\"Country\")\n",
    ".withColumnRenamed(\"Population (2020)\",\"Population\")\n",
    ".as[(String,Float,String,Float,Float,Float,Double,String,String,String,String)]"
   ]
  },
  {
   "cell_type": "code",
   "execution_count": null,
   "metadata": {},
   "outputs": [],
   "source": [
    "def vaccinationsDS = spark.read\n",
    ".option(\"header\", \"true\")\n",
    ".option(\"charset\", \"UTF8\")\n",
    ".option(\"delimiter\",\",\")\n",
    ".option(\"inferSchema\", \"true\")\n",
    ".csv(\"../datasets/country_vaccinations.csv\")\n",
    ".as[(String,String,java.sql.Timestamp,Double,Double,Double,Double,Double,Double,Double,Double,Double,String,String,String)]"
   ]
  },
  {
   "cell_type": "markdown",
   "metadata": {},
   "source": [
    "modifico los datos de entrada para que se ajuste la fecha"
   ]
  },
  {
   "cell_type": "code",
   "execution_count": null,
   "metadata": {},
   "outputs": [],
   "source": [
    "val vaccinationsClean = vaccinationsDS\n",
    "    .select($\"*\",col(\"date\"),to_date(col(\"date\"),\"MM-dd-yyyy\")\n",
    "            .as(\"dateVaccinated\"))\n",
    "    .drop(\"date\")"
   ]
  },
  {
   "cell_type": "code",
   "execution_count": null,
   "metadata": {},
   "outputs": [],
   "source": [
    "val dateInfectionsDS = infectionsDS\n",
    "    .select($\"*\",$\"ObservationDate\",translate($\"ObservationDate\",\"/\",\"-\")\n",
    "            .as(\"date1\"))\n",
    "    .drop(\"ObservationDate\")\n",
    "    .select($\"*\",col(\"date1\"),to_date(col(\"date1\"),\"MM-dd-yyyy\")\n",
    "            .as(\"date\"))\n",
    "    .drop(\"date1\")\n",
    "    .as[(Int,String,String,String,Double,Double,Double,java.sql.Timestamp)]"
   ]
  },
  {
   "cell_type": "code",
   "execution_count": null,
   "metadata": {},
   "outputs": [],
   "source": [
    "def tripleJoin = dateInfectionsDS.join(\n",
    "    vaccinationsClean,$\"date\" === $\"dateVaccinated\"\n",
    "    && dateInfectionsDS(\"Country/Region\") <=> vaccinationsClean(\"country\")\n",
    ").join(populationDS, \"country\")"
   ]
  },
  {
   "cell_type": "code",
   "execution_count": null,
   "metadata": {},
   "outputs": [],
   "source": [
    "val megaDS = dateInfectionsDS.join(\n",
    "    vaccinationsClean,$\"date\" === $\"dateVaccinated\"\n",
    "    && dateInfectionsDS(\"Country/Region\") <=> vaccinationsClean(\"country\")\n",
    ").join(populationDS,\"country\")\n",
    "        .na.fill(0)\n",
    "        .select($\"country\",\n",
    "                $\"date\",\n",
    "                $\"confirmed\",\n",
    "                $\"people_vaccinated\",\n",
    "                $\"Population\",\n",
    "                $\"confirmed\" / $\"Population\" as \"infection Per Population\",\n",
    "                $\"people_vaccinated\"/ $\"Population\" as \"vaccination Per Population\",\n",
    "                $\"people_vaccinated\" / $\"confirmed\" as \"infection-vaccination rate\")\n",
    "        .orderBy($\"date\".asc)\n",
    "        .withColumn(\"infection-vaccination rate\", round($\"infection-vaccination rate\",8))\n",
    "        .withColumn(\"vaccination Per Population\", round($\"vaccination Per Population\",8))\n",
    "//        .as[(String,java.sql.Timestamp,Double,Double,Int,Double,Double,Double)]"
   ]
  },
  {
   "cell_type": "markdown",
   "metadata": {},
   "source": [
    "## Consulta con DataFrame"
   ]
  },
  {
   "cell_type": "code",
   "execution_count": null,
   "metadata": {},
   "outputs": [],
   "source": [
    "def infectionsDF = spark.read\n",
    ".option(\"header\", \"true\")\n",
    ".option(\"charset\", \"UTF8\")\n",
    ".option(\"delimiter\",\",\")\n",
    ".option(\"inferSchema\", \"true\")\n",
    ".csv(\"../datasets/covid_19_data.csv\")"
   ]
  },
  {
   "cell_type": "code",
   "execution_count": null,
   "metadata": {},
   "outputs": [],
   "source": [
    "def populationDF = spark.read\n",
    ".option(\"header\", \"true\")\n",
    ".option(\"charset\", \"UTF8\")\n",
    ".option(\"delimiter\",\",\")\n",
    ".option(\"inferSchema\", \"true\")\n",
    ".csv(\"../datasets/population_by_country_2020.csv\")\n",
    ".withColumnRenamed(\"Country (or dependency)\",\"Country\")\n",
    ".withColumnRenamed(\"Population (2020)\",\"Population\")"
   ]
  },
  {
   "cell_type": "code",
   "execution_count": null,
   "metadata": {},
   "outputs": [],
   "source": [
    "def vaccinationsDF = spark.read\n",
    ".option(\"header\", \"true\")\n",
    ".option(\"charset\", \"UTF8\")\n",
    ".option(\"delimiter\",\",\")\n",
    ".option(\"inferSchema\", \"true\")\n",
    ".csv(\"../datasets/country_vaccinations.csv\")"
   ]
  },
  {
   "cell_type": "code",
   "execution_count": null,
   "metadata": {},
   "outputs": [],
   "source": [
    "val vaccinationsClean = vaccinationsDF\n",
    "    .select($\"*\",col(\"date\"),to_date(col(\"date\"),\"MM-dd-yyyy\")\n",
    "            .as(\"dateVaccinated\"))\n",
    "    .drop(\"date\")"
   ]
  },
  {
   "cell_type": "code",
   "execution_count": null,
   "metadata": {},
   "outputs": [],
   "source": [
    "val dateInfectionsDS = infectionsDS\n",
    "    .select($\"*\",$\"ObservationDate\",translate($\"ObservationDate\",\"/\",\"-\")\n",
    "            .as(\"date1\"))\n",
    "    .drop(\"ObservationDate\")\n",
    "    .select($\"*\",col(\"date1\"),to_date(col(\"date1\"),\"MM-dd-yyyy\")\n",
    "            .as(\"date\"))\n",
    "    .drop(\"date1\")"
   ]
  },
  {
   "cell_type": "code",
   "execution_count": null,
   "metadata": {},
   "outputs": [],
   "source": [
    "def megaDF = dateInfectionsDS.join(\n",
    "    vaccinationsClean,$\"date\" === $\"dateVaccinated\"\n",
    "    && dateInfectionsDS(\"Country/Region\") <=> vaccinationsClean(\"country\")\n",
    ").join(populationDF,\"country\")\n",
    "        .select($\"country\",\n",
    "                $\"date\",\n",
    "                $\"confirmed\",\n",
    "                $\"people_vaccinated\",\n",
    "                $\"Population\",\n",
    "                $\"confirmed\" / $\"Population\" as \"infection Per Population\",\n",
    "                $\"people_vaccinated\"/ $\"Population\" as \"vaccination Per Population\",\n",
    "                $\"people_vaccinated\" / $\"confirmed\" as \"infection-vaccination rate\")\n",
    "        .orderBy($\"date\".asc)\n",
    "        .na.fill(0)\n",
    "        .withColumn(\"infection-vaccination rate\", round($\"infection-vaccination rate\",8))\n",
    "        .withColumn(\"vaccination Per Population\", round($\"vaccination Per Population\",8))"
   ]
  },
  {
   "cell_type": "markdown",
   "metadata": {},
   "source": [
    "# Visualización de eficiencia"
   ]
  },
  {
   "cell_type": "code",
   "execution_count": null,
   "metadata": {},
   "outputs": [],
   "source": [
    "val (x, y) = Seq(\n",
    "    \"DataSet\" -> runWithOutput(megaDS.collect),\n",
    "    \"DataFrame\" -> runWithOutput(megaDF.collect),\n",
    ").unzip\n",
    "\n",
    "Bar(x, y).plot()"
   ]
  },
  {
   "cell_type": "code",
   "execution_count": null,
   "metadata": {},
   "outputs": [],
   "source": [
    "ch.cern.sparkmeasure.StageMetrics(spark).runAndMeasure(\n",
    "    megaDS.collect\n",
    "    )"
   ]
  },
  {
   "cell_type": "code",
   "execution_count": null,
   "metadata": {},
   "outputs": [],
   "source": [
    "ch.cern.sparkmeasure.StageMetrics(spark).runAndMeasure(\n",
    "megaDF.collect\n",
    ")"
   ]
  },
  {
   "cell_type": "markdown",
   "metadata": {},
   "source": [
    "# Visualización de datos con plotly"
   ]
  },
  {
   "cell_type": "markdown",
   "metadata": {},
   "source": [
    "## crecimiento de la vacunacion con respecto a la densidad población"
   ]
  },
  {
   "cell_type": "code",
   "execution_count": null,
   "metadata": {},
   "outputs": [],
   "source": [
    "val y = megaDF.filter($\"country\" === \"Chile\").select($\"vaccination Per Population\" * 10000000).\n",
    "    collect.map(r => r(0).toString.toDouble).toList\n",
    "\n",
    "val x = megaDF.filter($\"country\" === \"Chile\").select($\"date\").collect.toList.map(_.toString)\n",
    "\n",
    "val y1 = megaDF.filter($\"country\" === \"Chile\").select($\"people_vaccinated\").\n",
    "    collect.map(r => r(0).toString.toDouble).toList\n",
    "val x1 = megaDF.filter($\"country\" === \"Chile\").select($\"date\").collect.toList.map(_.toString)\n",
    "\n",
    "val data = Seq(\n",
    "    Scatter(x,y).withName(\"% population\"),\n",
    "    Scatter(x1,y1).withName(\"Vaccines administrated\")\n",
    ").map(_.withFill(Fill.ToNextY).withStackgroup(\"A\"))\n",
    "\n",
    "val myLayout =\n",
    "  Layout()\n",
    "    .withTitle(\"CHILE\")\n",
    "\n",
    "plot(data,myLayout)"
   ]
  }
 ],
 "metadata": {
  "kernelspec": {
   "display_name": "Scala 2.12",
   "language": "scala",
   "name": "scala212"
  },
  "language_info": {
   "codemirror_mode": "text/x-scala",
   "file_extension": ".scala",
   "mimetype": "text/x-scala",
   "name": "scala",
   "nbconvert_exporter": "script",
   "version": "2.12.10"
  }
 },
 "nbformat": 4,
 "nbformat_minor": 4
}
