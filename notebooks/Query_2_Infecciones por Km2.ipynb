{
 "cells": [
  {
   "cell_type": "code",
   "execution_count": 1,
   "metadata": {},
   "outputs": [
    {
     "name": "stdout",
     "output_type": "stream",
     "text": [
      "Loading spark-stubs\n",
      "Getting spark JARs\n"
     ]
    },
    {
     "name": "stderr",
     "output_type": "stream",
     "text": [
      "log4j:WARN No appenders could be found for logger (org.eclipse.jetty.util.log).\n",
      "log4j:WARN Please initialize the log4j system properly.\n",
      "log4j:WARN See http://logging.apache.org/log4j/1.2/faq.html#noconfig for more info.\n"
     ]
    },
    {
     "name": "stdout",
     "output_type": "stream",
     "text": [
      "Creating SparkSession\n"
     ]
    },
    {
     "name": "stderr",
     "output_type": "stream",
     "text": [
      "Using Spark's default log4j profile: org/apache/spark/log4j-defaults.properties\n",
      "21/06/28 07:59:12 INFO SparkContext: Running Spark version 2.4.5\n",
      "21/06/28 07:59:12 WARN NativeCodeLoader: Unable to load native-hadoop library for your platform... using builtin-java classes where applicable\n",
      "21/06/28 07:59:13 INFO SparkContext: Submitted application: Queries Optimization\n",
      "21/06/28 07:59:13 INFO SecurityManager: Changing view acls to: jovyan\n",
      "21/06/28 07:59:13 INFO SecurityManager: Changing modify acls to: jovyan\n",
      "21/06/28 07:59:13 INFO SecurityManager: Changing view acls groups to: \n",
      "21/06/28 07:59:13 INFO SecurityManager: Changing modify acls groups to: \n",
      "21/06/28 07:59:13 INFO SecurityManager: SecurityManager: authentication disabled; ui acls disabled; users  with view permissions: Set(jovyan); groups with view permissions: Set(); users  with modify permissions: Set(jovyan); groups with modify permissions: Set()\n",
      "21/06/28 07:59:13 INFO Utils: Successfully started service 'sparkDriver' on port 42973.\n",
      "21/06/28 07:59:13 INFO SparkEnv: Registering MapOutputTracker\n",
      "21/06/28 07:59:13 INFO SparkEnv: Registering BlockManagerMaster\n",
      "21/06/28 07:59:13 INFO BlockManagerMasterEndpoint: Using org.apache.spark.storage.DefaultTopologyMapper for getting topology information\n",
      "21/06/28 07:59:13 INFO BlockManagerMasterEndpoint: BlockManagerMasterEndpoint up\n",
      "21/06/28 07:59:14 INFO DiskBlockManager: Created local directory at /tmp/blockmgr-1b9192de-8ec2-4c61-9c6d-93bcd3201800\n",
      "21/06/28 07:59:14 INFO MemoryStore: MemoryStore started with capacity 366.3 MB\n",
      "21/06/28 07:59:14 INFO SparkEnv: Registering OutputCommitCoordinator\n",
      "21/06/28 07:59:14 INFO Utils: Successfully started service 'SparkUI' on port 4043.\n",
      "21/06/28 07:59:14 INFO SparkUI: Bound SparkUI to 0.0.0.0, and started at http://ab334eb5ebc5:4043\n",
      "21/06/28 07:59:14 INFO SparkContext: Added JAR file:/home/jovyan/.cache/coursier/v1/https/jitpack.io/com/github/jupyter/jvm-repr/0.4.0/jvm-repr-0.4.0-sources.jar at spark://ab334eb5ebc5:42973/jars/jvm-repr-0.4.0-sources.jar with timestamp 1624867154682\n",
      "21/06/28 07:59:14 INFO SparkContext: Added JAR file:/home/jovyan/.cache/coursier/v1/https/jitpack.io/com/github/jupyter/jvm-repr/0.4.0/jvm-repr-0.4.0.jar at spark://ab334eb5ebc5:42973/jars/jvm-repr-0.4.0.jar with timestamp 1624867154684\n",
      "21/06/28 07:59:14 INFO SparkContext: Added JAR file:/home/jovyan/.cache/coursier/v1/https/repo1.maven.org/maven2/com/github/scopt/scopt_2.12/3.7.1/scopt_2.12-3.7.1-sources.jar at spark://ab334eb5ebc5:42973/jars/scopt_2.12-3.7.1-sources.jar with timestamp 1624867154685\n",
      "21/06/28 07:59:14 INFO SparkContext: Added JAR file:/home/jovyan/.cache/coursier/v1/https/repo1.maven.org/maven2/com/github/scopt/scopt_2.12/3.7.1/scopt_2.12-3.7.1.jar at spark://ab334eb5ebc5:42973/jars/scopt_2.12-3.7.1.jar with timestamp 1624867154686\n",
      "21/06/28 07:59:14 INFO SparkContext: Added JAR file:/home/jovyan/.cache/coursier/v1/https/repo1.maven.org/maven2/com/lihaoyi/ammonite-interp-api_2.12.10/1.7.4/ammonite-interp-api_2.12.10-1.7.4-sources.jar at spark://ab334eb5ebc5:42973/jars/ammonite-interp-api_2.12.10-1.7.4-sources.jar with timestamp 1624867154686\n",
      "21/06/28 07:59:14 INFO SparkContext: Added JAR file:/home/jovyan/.cache/coursier/v1/https/repo1.maven.org/maven2/com/lihaoyi/ammonite-interp-api_2.12.10/1.7.4/ammonite-interp-api_2.12.10-1.7.4.jar at spark://ab334eb5ebc5:42973/jars/ammonite-interp-api_2.12.10-1.7.4.jar with timestamp 1624867154686\n",
      "21/06/28 07:59:14 INFO SparkContext: Added JAR file:/home/jovyan/.cache/coursier/v1/https/repo1.maven.org/maven2/com/lihaoyi/ammonite-ops_2.12/1.7.4/ammonite-ops_2.12-1.7.4-sources.jar at spark://ab334eb5ebc5:42973/jars/ammonite-ops_2.12-1.7.4-sources.jar with timestamp 1624867154687\n",
      "21/06/28 07:59:14 INFO SparkContext: Added JAR file:/home/jovyan/.cache/coursier/v1/https/repo1.maven.org/maven2/com/lihaoyi/ammonite-ops_2.12/1.7.4/ammonite-ops_2.12-1.7.4.jar at spark://ab334eb5ebc5:42973/jars/ammonite-ops_2.12-1.7.4.jar with timestamp 1624867154687\n",
      "21/06/28 07:59:14 INFO SparkContext: Added JAR file:/home/jovyan/.cache/coursier/v1/https/repo1.maven.org/maven2/com/lihaoyi/ammonite-repl-api_2.12.10/1.7.4/ammonite-repl-api_2.12.10-1.7.4-sources.jar at spark://ab334eb5ebc5:42973/jars/ammonite-repl-api_2.12.10-1.7.4-sources.jar with timestamp 1624867154687\n",
      "21/06/28 07:59:14 INFO SparkContext: Added JAR file:/home/jovyan/.cache/coursier/v1/https/repo1.maven.org/maven2/com/lihaoyi/ammonite-repl-api_2.12.10/1.7.4/ammonite-repl-api_2.12.10-1.7.4.jar at spark://ab334eb5ebc5:42973/jars/ammonite-repl-api_2.12.10-1.7.4.jar with timestamp 1624867154687\n",
      "21/06/28 07:59:14 INFO SparkContext: Added JAR file:/home/jovyan/.cache/coursier/v1/https/repo1.maven.org/maven2/com/lihaoyi/ammonite-util_2.12/1.7.4/ammonite-util_2.12-1.7.4-sources.jar at spark://ab334eb5ebc5:42973/jars/ammonite-util_2.12-1.7.4-sources.jar with timestamp 1624867154688\n",
      "21/06/28 07:59:14 INFO SparkContext: Added JAR file:/home/jovyan/.cache/coursier/v1/https/repo1.maven.org/maven2/com/lihaoyi/ammonite-util_2.12/1.7.4/ammonite-util_2.12-1.7.4.jar at spark://ab334eb5ebc5:42973/jars/ammonite-util_2.12-1.7.4.jar with timestamp 1624867154688\n",
      "21/06/28 07:59:14 INFO SparkContext: Added JAR file:/home/jovyan/.cache/coursier/v1/https/repo1.maven.org/maven2/com/lihaoyi/fansi_2.12/0.2.7/fansi_2.12-0.2.7-sources.jar at spark://ab334eb5ebc5:42973/jars/fansi_2.12-0.2.7-sources.jar with timestamp 1624867154688\n",
      "21/06/28 07:59:14 INFO SparkContext: Added JAR file:/home/jovyan/.cache/coursier/v1/https/repo1.maven.org/maven2/com/lihaoyi/fansi_2.12/0.2.7/fansi_2.12-0.2.7.jar at spark://ab334eb5ebc5:42973/jars/fansi_2.12-0.2.7.jar with timestamp 1624867154689\n",
      "21/06/28 07:59:14 INFO SparkContext: Added JAR file:/home/jovyan/.cache/coursier/v1/https/repo1.maven.org/maven2/com/lihaoyi/geny_2.12/0.1.8/geny_2.12-0.1.8-sources.jar at spark://ab334eb5ebc5:42973/jars/geny_2.12-0.1.8-sources.jar with timestamp 1624867154689\n",
      "21/06/28 07:59:14 INFO SparkContext: Added JAR file:/home/jovyan/.cache/coursier/v1/https/repo1.maven.org/maven2/com/lihaoyi/geny_2.12/0.1.8/geny_2.12-0.1.8.jar at spark://ab334eb5ebc5:42973/jars/geny_2.12-0.1.8.jar with timestamp 1624867154689\n",
      "21/06/28 07:59:14 INFO SparkContext: Added JAR file:/home/jovyan/.cache/coursier/v1/https/repo1.maven.org/maven2/com/lihaoyi/os-lib_2.12/0.3.0/os-lib_2.12-0.3.0-sources.jar at spark://ab334eb5ebc5:42973/jars/os-lib_2.12-0.3.0-sources.jar with timestamp 1624867154689\n",
      "21/06/28 07:59:14 INFO SparkContext: Added JAR file:/home/jovyan/.cache/coursier/v1/https/repo1.maven.org/maven2/com/lihaoyi/os-lib_2.12/0.3.0/os-lib_2.12-0.3.0.jar at spark://ab334eb5ebc5:42973/jars/os-lib_2.12-0.3.0.jar with timestamp 1624867154690\n",
      "21/06/28 07:59:14 INFO SparkContext: Added JAR file:/home/jovyan/.cache/coursier/v1/https/repo1.maven.org/maven2/com/lihaoyi/pprint_2.12/0.5.5/pprint_2.12-0.5.5-sources.jar at spark://ab334eb5ebc5:42973/jars/pprint_2.12-0.5.5-sources.jar with timestamp 1624867154690\n",
      "21/06/28 07:59:14 INFO SparkContext: Added JAR file:/home/jovyan/.cache/coursier/v1/https/repo1.maven.org/maven2/com/lihaoyi/pprint_2.12/0.5.5/pprint_2.12-0.5.5.jar at spark://ab334eb5ebc5:42973/jars/pprint_2.12-0.5.5.jar with timestamp 1624867154690\n",
      "21/06/28 07:59:14 INFO SparkContext: Added JAR file:/home/jovyan/.cache/coursier/v1/https/repo1.maven.org/maven2/com/lihaoyi/sourcecode_2.12/0.1.7/sourcecode_2.12-0.1.7-sources.jar at spark://ab334eb5ebc5:42973/jars/sourcecode_2.12-0.1.7-sources.jar with timestamp 1624867154691\n",
      "21/06/28 07:59:14 INFO SparkContext: Added JAR file:/home/jovyan/.cache/coursier/v1/https/repo1.maven.org/maven2/com/lihaoyi/sourcecode_2.12/0.1.7/sourcecode_2.12-0.1.7.jar at spark://ab334eb5ebc5:42973/jars/sourcecode_2.12-0.1.7.jar with timestamp 1624867154691\n",
      "21/06/28 07:59:14 INFO SparkContext: Added JAR file:/home/jovyan/.cache/coursier/v1/https/repo1.maven.org/maven2/io/get-coursier/interface/0.0.12/interface-0.0.12-sources.jar at spark://ab334eb5ebc5:42973/jars/interface-0.0.12-sources.jar with timestamp 1624867154692\n",
      "21/06/28 07:59:14 INFO SparkContext: Added JAR file:/home/jovyan/.cache/coursier/v1/https/repo1.maven.org/maven2/io/get-coursier/interface/0.0.12/interface-0.0.12.jar at spark://ab334eb5ebc5:42973/jars/interface-0.0.12.jar with timestamp 1624867154692\n"
     ]
    },
    {
     "name": "stderr",
     "output_type": "stream",
     "text": [
      "21/06/28 07:59:14 INFO SparkContext: Added JAR file:/home/jovyan/.cache/coursier/v1/https/repo1.maven.org/maven2/org/scala-lang/modules/scala-collection-compat_2.12/2.0.0/scala-collection-compat_2.12-2.0.0-sources.jar at spark://ab334eb5ebc5:42973/jars/scala-collection-compat_2.12-2.0.0-sources.jar with timestamp 1624867154693\n",
      "21/06/28 07:59:14 INFO SparkContext: Added JAR file:/home/jovyan/.cache/coursier/v1/https/repo1.maven.org/maven2/org/scala-lang/modules/scala-collection-compat_2.12/2.0.0/scala-collection-compat_2.12-2.0.0.jar at spark://ab334eb5ebc5:42973/jars/scala-collection-compat_2.12-2.0.0.jar with timestamp 1624867154693\n",
      "21/06/28 07:59:14 INFO SparkContext: Added JAR file:/home/jovyan/.cache/coursier/v1/https/repo1.maven.org/maven2/org/scala-lang/modules/scala-xml_2.12/1.2.0/scala-xml_2.12-1.2.0-sources.jar at spark://ab334eb5ebc5:42973/jars/scala-xml_2.12-1.2.0-sources.jar with timestamp 1624867154693\n",
      "21/06/28 07:59:14 INFO SparkContext: Added JAR file:/home/jovyan/.cache/coursier/v1/https/repo1.maven.org/maven2/org/scala-lang/modules/scala-xml_2.12/1.2.0/scala-xml_2.12-1.2.0.jar at spark://ab334eb5ebc5:42973/jars/scala-xml_2.12-1.2.0.jar with timestamp 1624867154694\n",
      "21/06/28 07:59:14 INFO SparkContext: Added JAR file:/home/jovyan/.cache/coursier/v1/https/repo1.maven.org/maven2/org/scala-lang/scala-compiler/2.12.10/scala-compiler-2.12.10-sources.jar at spark://ab334eb5ebc5:42973/jars/scala-compiler-2.12.10-sources.jar with timestamp 1624867154694\n",
      "21/06/28 07:59:14 INFO SparkContext: Added JAR file:/home/jovyan/.cache/coursier/v1/https/repo1.maven.org/maven2/org/scala-lang/scala-library/2.12.10/scala-library-2.12.10-sources.jar at spark://ab334eb5ebc5:42973/jars/scala-library-2.12.10-sources.jar with timestamp 1624867154695\n",
      "21/06/28 07:59:14 INFO SparkContext: Added JAR file:/home/jovyan/.cache/coursier/v1/https/repo1.maven.org/maven2/org/scala-lang/scala-reflect/2.12.10/scala-reflect-2.12.10-sources.jar at spark://ab334eb5ebc5:42973/jars/scala-reflect-2.12.10-sources.jar with timestamp 1624867154695\n",
      "21/06/28 07:59:14 INFO SparkContext: Added JAR file:/home/jovyan/.cache/coursier/v1/https/repo1.maven.org/maven2/sh/almond/interpreter-api_2.12/0.9.1/interpreter-api_2.12-0.9.1-sources.jar at spark://ab334eb5ebc5:42973/jars/interpreter-api_2.12-0.9.1-sources.jar with timestamp 1624867154695\n",
      "21/06/28 07:59:14 INFO SparkContext: Added JAR file:/home/jovyan/.cache/coursier/v1/https/repo1.maven.org/maven2/sh/almond/interpreter-api_2.12/0.9.1/interpreter-api_2.12-0.9.1.jar at spark://ab334eb5ebc5:42973/jars/interpreter-api_2.12-0.9.1.jar with timestamp 1624867154695\n",
      "21/06/28 07:59:14 INFO SparkContext: Added JAR file:/home/jovyan/.cache/coursier/v1/https/repo1.maven.org/maven2/sh/almond/jupyter-api_2.12/0.9.1/jupyter-api_2.12-0.9.1-sources.jar at spark://ab334eb5ebc5:42973/jars/jupyter-api_2.12-0.9.1-sources.jar with timestamp 1624867154696\n",
      "21/06/28 07:59:14 INFO SparkContext: Added JAR file:/home/jovyan/.cache/coursier/v1/https/repo1.maven.org/maven2/sh/almond/jupyter-api_2.12/0.9.1/jupyter-api_2.12-0.9.1.jar at spark://ab334eb5ebc5:42973/jars/jupyter-api_2.12-0.9.1.jar with timestamp 1624867154696\n",
      "21/06/28 07:59:14 INFO SparkContext: Added JAR file:/home/jovyan/.cache/coursier/v1/https/repo1.maven.org/maven2/sh/almond/scala-kernel-api_2.12.10/0.9.1/scala-kernel-api_2.12.10-0.9.1-sources.jar at spark://ab334eb5ebc5:42973/jars/scala-kernel-api_2.12.10-0.9.1-sources.jar with timestamp 1624867154696\n",
      "21/06/28 07:59:14 INFO SparkContext: Added JAR file:/home/jovyan/.cache/coursier/v1/https/repo1.maven.org/maven2/sh/almond/scala-kernel-api_2.12.10/0.9.1/scala-kernel-api_2.12.10-0.9.1.jar at spark://ab334eb5ebc5:42973/jars/scala-kernel-api_2.12.10-0.9.1.jar with timestamp 1624867154697\n",
      "21/06/28 07:59:14 INFO SparkContext: Added JAR file:/home/jovyan/.local/share/jupyter/kernels/scala212/launcher.jar at spark://ab334eb5ebc5:42973/jars/launcher.jar with timestamp 1624867154697\n",
      "21/06/28 07:59:14 INFO SparkContext: Added JAR file:/home/jovyan/.cache/coursier/v1/https/repo1.maven.org/maven2/org/scala-lang/scala-reflect/2.12.1/scala-reflect-2.12.1.jar at spark://ab334eb5ebc5:42973/jars/scala-reflect-2.12.1.jar with timestamp 1624867154697\n",
      "21/06/28 07:59:14 INFO SparkContext: Added JAR file:/home/jovyan/.cache/coursier/v1/https/repo1.maven.org/maven2/org/plotly-scala/plotly-core_2.12/0.8.1/plotly-core_2.12-0.8.1.jar at spark://ab334eb5ebc5:42973/jars/plotly-core_2.12-0.8.1.jar with timestamp 1624867154697\n",
      "21/06/28 07:59:14 INFO SparkContext: Added JAR file:/home/jovyan/.cache/coursier/v1/https/repo1.maven.org/maven2/org/plotly-scala/plotly-render_2.12/0.8.1/plotly-render_2.12-0.8.1.jar at spark://ab334eb5ebc5:42973/jars/plotly-render_2.12-0.8.1.jar with timestamp 1624867154698\n",
      "21/06/28 07:59:14 INFO SparkContext: Added JAR file:/home/jovyan/.cache/coursier/v1/https/repo1.maven.org/maven2/org/plotly-scala/plotly-almond_2.12/0.8.1/plotly-almond_2.12-0.8.1.jar at spark://ab334eb5ebc5:42973/jars/plotly-almond_2.12-0.8.1.jar with timestamp 1624867154698\n",
      "21/06/28 07:59:14 INFO SparkContext: Added JAR file:/home/jovyan/.cache/coursier/v1/https/repo1.maven.org/maven2/org/webjars/bower/plotly.js/1.52.2/plotly.js-1.52.2.jar at spark://ab334eb5ebc5:42973/jars/plotly.js-1.52.2.jar with timestamp 1624867154698\n",
      "21/06/28 07:59:14 INFO SparkContext: Added JAR file:/home/jovyan/.cache/coursier/v1/https/repo1.maven.org/maven2/org/scala-lang/scala-library/2.12.11/scala-library-2.12.11.jar at spark://ab334eb5ebc5:42973/jars/scala-library-2.12.11.jar with timestamp 1624867154699\n",
      "21/06/28 07:59:14 INFO SparkContext: Added JAR file:/home/jovyan/.cache/coursier/v1/https/repo1.maven.org/maven2/org/scala-lang/scala-reflect/2.12.11/scala-reflect-2.12.11.jar at spark://ab334eb5ebc5:42973/jars/scala-reflect-2.12.11.jar with timestamp 1624867154699\n",
      "21/06/28 07:59:14 INFO SparkContext: Added JAR file:/home/jovyan/.cache/coursier/v1/https/repo1.maven.org/maven2/com/fasterxml/jackson/core/jackson-annotations/2.9.9/jackson-annotations-2.9.9.jar at spark://ab334eb5ebc5:42973/jars/jackson-annotations-2.9.9.jar with timestamp 1624867154699\n",
      "21/06/28 07:59:14 INFO SparkContext: Added JAR file:/home/jovyan/.cache/coursier/v1/https/repo1.maven.org/maven2/com/squareup/moshi/moshi/1.5.0/moshi-1.5.0.jar at spark://ab334eb5ebc5:42973/jars/moshi-1.5.0.jar with timestamp 1624867154700\n",
      "21/06/28 07:59:14 INFO SparkContext: Added JAR file:/home/jovyan/.cache/coursier/v1/https/repo1.maven.org/maven2/com/squareup/retrofit2/converter-moshi/2.4.0/converter-moshi-2.4.0.jar at spark://ab334eb5ebc5:42973/jars/converter-moshi-2.4.0.jar with timestamp 1624867154700\n",
      "21/06/28 07:59:14 INFO SparkContext: Added JAR file:/home/jovyan/.cache/coursier/v1/https/repo1.maven.org/maven2/ch/cern/sparkmeasure/spark-measure_2.12/0.17/spark-measure_2.12-0.17.jar at spark://ab334eb5ebc5:42973/jars/spark-measure_2.12-0.17.jar with timestamp 1624867154700\n",
      "21/06/28 07:59:14 INFO SparkContext: Added JAR file:/home/jovyan/.cache/coursier/v1/https/repo1.maven.org/maven2/org/msgpack/msgpack-core/0.8.16/msgpack-core-0.8.16.jar at spark://ab334eb5ebc5:42973/jars/msgpack-core-0.8.16.jar with timestamp 1624867154701\n",
      "21/06/28 07:59:14 INFO SparkContext: Added JAR file:/home/jovyan/.cache/coursier/v1/https/repo1.maven.org/maven2/com/fasterxml/jackson/core/jackson-databind/2.9.9/jackson-databind-2.9.9.jar at spark://ab334eb5ebc5:42973/jars/jackson-databind-2.9.9.jar with timestamp 1624867154701\n",
      "21/06/28 07:59:14 INFO SparkContext: Added JAR file:/home/jovyan/.cache/coursier/v1/https/repo1.maven.org/maven2/org/slf4j/slf4j-api/1.7.26/slf4j-api-1.7.26.jar at spark://ab334eb5ebc5:42973/jars/slf4j-api-1.7.26.jar with timestamp 1624867154702\n",
      "21/06/28 07:59:14 INFO SparkContext: Added JAR file:/home/jovyan/.cache/coursier/v1/https/repo1.maven.org/maven2/org/influxdb/influxdb-java/2.14/influxdb-java-2.14.jar at spark://ab334eb5ebc5:42973/jars/influxdb-java-2.14.jar with timestamp 1624867154702\n",
      "21/06/28 07:59:14 INFO SparkContext: Added JAR file:/home/jovyan/.cache/coursier/v1/https/repo1.maven.org/maven2/com/squareup/okhttp3/okhttp/3.11.0/okhttp-3.11.0.jar at spark://ab334eb5ebc5:42973/jars/okhttp-3.11.0.jar with timestamp 1624867154702\n",
      "21/06/28 07:59:14 INFO SparkContext: Added JAR file:/home/jovyan/.cache/coursier/v1/https/repo1.maven.org/maven2/com/squareup/retrofit2/retrofit/2.4.0/retrofit-2.4.0.jar at spark://ab334eb5ebc5:42973/jars/retrofit-2.4.0.jar with timestamp 1624867154703\n"
     ]
    },
    {
     "name": "stderr",
     "output_type": "stream",
     "text": [
      "21/06/28 07:59:14 INFO SparkContext: Added JAR file:/home/jovyan/.cache/coursier/v1/https/repo1.maven.org/maven2/com/fasterxml/jackson/module/jackson-module-scala_2.12/2.9.9/jackson-module-scala_2.12-2.9.9.jar at spark://ab334eb5ebc5:42973/jars/jackson-module-scala_2.12-2.9.9.jar with timestamp 1624867154703\n",
      "21/06/28 07:59:14 INFO SparkContext: Added JAR file:/home/jovyan/.cache/coursier/v1/https/repo1.maven.org/maven2/com/fasterxml/jackson/module/jackson-module-paranamer/2.9.9/jackson-module-paranamer-2.9.9.jar at spark://ab334eb5ebc5:42973/jars/jackson-module-paranamer-2.9.9.jar with timestamp 1624867154703\n",
      "21/06/28 07:59:14 INFO SparkContext: Added JAR file:/home/jovyan/.cache/coursier/v1/https/repo1.maven.org/maven2/com/squareup/okhttp3/logging-interceptor/3.11.0/logging-interceptor-3.11.0.jar at spark://ab334eb5ebc5:42973/jars/logging-interceptor-3.11.0.jar with timestamp 1624867154704\n",
      "21/06/28 07:59:14 INFO SparkContext: Added JAR file:/home/jovyan/.cache/coursier/v1/https/repo1.maven.org/maven2/com/squareup/okio/okio/1.14.0/okio-1.14.0.jar at spark://ab334eb5ebc5:42973/jars/okio-1.14.0.jar with timestamp 1624867154704\n",
      "21/06/28 07:59:14 INFO SparkContext: Added JAR file:/home/jovyan/.cache/coursier/v1/https/repo1.maven.org/maven2/com/fasterxml/jackson/core/jackson-core/2.9.9/jackson-core-2.9.9.jar at spark://ab334eb5ebc5:42973/jars/jackson-core-2.9.9.jar with timestamp 1624867154704\n",
      "21/06/28 07:59:14 INFO Executor: Starting executor ID driver on host localhost\n",
      "21/06/28 07:59:15 INFO Executor: Using REPL class URI: http://172.17.0.2:34293\n",
      "21/06/28 07:59:15 INFO Utils: Successfully started service 'org.apache.spark.network.netty.NettyBlockTransferService' on port 38837.\n",
      "21/06/28 07:59:15 INFO NettyBlockTransferService: Server created on ab334eb5ebc5:38837\n",
      "21/06/28 07:59:15 INFO BlockManager: Using org.apache.spark.storage.RandomBlockReplicationPolicy for block replication policy\n",
      "21/06/28 07:59:15 INFO BlockManagerMaster: Registering BlockManager BlockManagerId(driver, ab334eb5ebc5, 38837, None)\n",
      "21/06/28 07:59:15 INFO BlockManagerMasterEndpoint: Registering block manager ab334eb5ebc5:38837 with 366.3 MB RAM, BlockManagerId(driver, ab334eb5ebc5, 38837, None)\n",
      "21/06/28 07:59:15 INFO BlockManagerMaster: Registered BlockManager BlockManagerId(driver, ab334eb5ebc5, 38837, None)\n",
      "21/06/28 07:59:15 INFO BlockManager: Initialized BlockManager: BlockManagerId(driver, ab334eb5ebc5, 38837, None)\n"
     ]
    },
    {
     "data": {
      "text/html": [
       "<a target=\"_blank\" href=\"http://ab334eb5ebc5:4043\">Spark UI</a>"
      ]
     },
     "metadata": {},
     "output_type": "display_data"
    },
    {
     "data": {
      "text/plain": [
       "\u001b[32mimport \u001b[39m\u001b[36m$file.$     \n",
       "\u001b[39m\n",
       "\u001b[32mimport \u001b[39m\u001b[36mspark._\n",
       "\u001b[39m\n",
       "\u001b[32mimport \u001b[39m\u001b[36mcommon._\n",
       "\u001b[39m\n",
       "\u001b[32mimport \u001b[39m\u001b[36morg.apache.spark.sql.functions._\n",
       "\u001b[39m\n",
       "\u001b[32mimport \u001b[39m\u001b[36morg.apache.spark.rdd._\n",
       "\u001b[39m\n",
       "\u001b[32mimport \u001b[39m\u001b[36morg.apache.spark.sql.types.{IntegerType, StringType, StructType}\n",
       "\u001b[39m\n",
       "\u001b[32mimport \u001b[39m\u001b[36morg.apache.spark.sql.functions.{col, to_date}\n",
       "\u001b[39m\n",
       "\u001b[32mimport \u001b[39m\u001b[36mspark.implicits._\n",
       "\u001b[39m\n",
       "\u001b[32mimport \u001b[39m\u001b[36mspark.sqlContext.implicits._\u001b[39m"
      ]
     },
     "execution_count": 1,
     "metadata": {},
     "output_type": "execute_result"
    }
   ],
   "source": [
    "import $file.common\n",
    "import spark._\n",
    "import common._\n",
    "import org.apache.spark.sql.functions._\n",
    "import org.apache.spark.rdd._\n",
    "import org.apache.spark.sql.types.{IntegerType, StringType, StructType}\n",
    "import org.apache.spark.sql.functions.{col, to_date}\n",
    "import spark.implicits._\n",
    "import spark.sqlContext.implicits._"
   ]
  },
  {
   "cell_type": "code",
   "execution_count": 2,
   "metadata": {},
   "outputs": [
    {
     "data": {
      "text/plain": [
       "\u001b[32mimport \u001b[39m\u001b[36mplotly._\n",
       "\u001b[39m\n",
       "\u001b[32mimport \u001b[39m\u001b[36mplotly.element._\n",
       "\u001b[39m\n",
       "\u001b[32mimport \u001b[39m\u001b[36mplotly.layout._\n",
       "\u001b[39m\n",
       "\u001b[32mimport \u001b[39m\u001b[36mplotly.Almond._\u001b[39m"
      ]
     },
     "execution_count": 2,
     "metadata": {},
     "output_type": "execute_result"
    }
   ],
   "source": [
    "import plotly._\n",
    "import plotly.element._\n",
    "import plotly.layout._\n",
    "import plotly.Almond._"
   ]
  },
  {
   "cell_type": "markdown",
   "metadata": {},
   "source": [
    "# Query 2: Media de infecciones por Superficie"
   ]
  },
  {
   "cell_type": "markdown",
   "metadata": {},
   "source": [
    "Esta query utiliza dos conjuntos de datos, por una parte los datos de casos reportados diariemente por país y por otro lado una tabla de datos demográficos por país en la que encontramos la superficie de cada país.\n",
    "\n",
    "El objetivo de la query es:\n",
    "    - Agrupar los datos por paises\n",
    "    - Obtener la tasa de infectados diarios por superficie (en Km^{2})\n",
    "        - Para ello dividimos los casos diarios entre la superficie\n",
    "    - Calcular la media de infecciones por superficie\n",
    "    \n",
    "De esta forma obtendremos la media de contagios por Km^{2}"
   ]
  },
  {
   "cell_type": "markdown",
   "metadata": {},
   "source": [
    "# 1. Utilizando RDDs"
   ]
  },
  {
   "cell_type": "code",
   "execution_count": 3,
   "metadata": {},
   "outputs": [
    {
     "data": {
      "text/plain": [
       "defined \u001b[32mfunction\u001b[39m \u001b[36minfections\u001b[39m"
      ]
     },
     "execution_count": 3,
     "metadata": {},
     "output_type": "execute_result"
    }
   ],
   "source": [
    "def infections(lines : RDD[String]) : RDD[Infection] =\n",
    "    lines.map(line => {\n",
    "      val arr = line.split(\",\")\n",
    "      Infection(\n",
    "        day = arr(1).toInt,\n",
    "        month = arr(2).toInt,\n",
    "        year = arr(3).toInt,\n",
    "        nCases = arr(4).toInt,\n",
    "        nDeaths = arr(5).toInt,\n",
    "        country = arr(6),\n",
    "        continent = arr(10)\n",
    "      )\n",
    "    })"
   ]
  },
  {
   "cell_type": "code",
   "execution_count": 4,
   "metadata": {},
   "outputs": [
    {
     "data": {
      "text/plain": [
       "\u001b[36minfectionRDD\u001b[39m: \u001b[32mRDD\u001b[39m[\u001b[32mInfection\u001b[39m] = MapPartitionsRDD[2] at map at cmd2.sc:2"
      ]
     },
     "execution_count": 4,
     "metadata": {},
     "output_type": "execute_result"
    }
   ],
   "source": [
    "val infectionRDD = infections(spark.sparkContext.textFile(\"../datasets/data.csv\"))"
   ]
  },
  {
   "cell_type": "code",
   "execution_count": 5,
   "metadata": {},
   "outputs": [
    {
     "data": {
      "text/plain": [
       "defined \u001b[32mclass\u001b[39m \u001b[36mPopulation\u001b[39m"
      ]
     },
     "execution_count": 5,
     "metadata": {},
     "output_type": "execute_result"
    }
   ],
   "source": [
    "org.apache.spark.sql.catalyst.encoders.OuterScopes.addOuterScope(this)\n",
    "case class Population(\n",
    "    country : String, \n",
    "    population : Int, \n",
    "    density : Int, \n",
    "    land_area: Int, \n",
    "    ) \n",
    "extends Serializable"
   ]
  },
  {
   "cell_type": "code",
   "execution_count": 6,
   "metadata": {},
   "outputs": [
    {
     "data": {
      "text/plain": [
       "defined \u001b[32mfunction\u001b[39m \u001b[36mpopulationData\u001b[39m"
      ]
     },
     "execution_count": 6,
     "metadata": {},
     "output_type": "execute_result"
    }
   ],
   "source": [
    "def populationData = spark.sparkContext.textFile(\"../datasets/population_by_country_2020.csv\")"
   ]
  },
  {
   "cell_type": "code",
   "execution_count": 7,
   "metadata": {},
   "outputs": [
    {
     "data": {
      "text/plain": [
       "defined \u001b[32mfunction\u001b[39m \u001b[36mpopulation\u001b[39m"
      ]
     },
     "execution_count": 7,
     "metadata": {},
     "output_type": "execute_result"
    }
   ],
   "source": [
    "def population(lines : RDD[String]) : RDD[Population] =\n",
    "    lines.mapPartitionsWithIndex(\n",
    "                   (index, it) => if (index == 0) it.drop(1) else it,\n",
    "                    preservesPartitioning = true\n",
    "                 )\n",
    "    .map(line => {\n",
    "      val arr = line.split(\",\")\n",
    "      Population(\n",
    "        country = arr(0),\n",
    "        population = arr(1).toInt,\n",
    "        density = arr(4).toInt,\n",
    "        land_area = arr(5).toInt,\n",
    "      )\n",
    "    })"
   ]
  },
  {
   "cell_type": "code",
   "execution_count": 8,
   "metadata": {},
   "outputs": [
    {
     "data": {
      "text/plain": [
       "defined \u001b[32mfunction\u001b[39m \u001b[36mpopulationRDD\u001b[39m"
      ]
     },
     "execution_count": 8,
     "metadata": {},
     "output_type": "execute_result"
    }
   ],
   "source": [
    "def populationRDD = population(populationData)"
   ]
  },
  {
   "cell_type": "markdown",
   "metadata": {},
   "source": [
    "### 1.1 RDD Sin optimizar\n",
    "\n",
    "Aquí vemos una de las grandes desventajas de los RDDs, que al ser utilizados como colecciones y creados \"a mano\" no se aplican todas las optimizaciones que se pueden aplicar como en DF o DS gracias a Catalyst\n",
    "\n",
    "Por ejemplo:\n",
    "\n",
    "Un join computacionalmente pesado desde el principio ya que cruza todos los datos sin \n",
    "quedarnos con los que nos interesen"
   ]
  },
  {
   "cell_type": "markdown",
   "metadata": {},
   "source": [
    "Spark no me deja hacer un Join de RDD que no sean pair RDD así que tenemos que construirlo"
   ]
  },
  {
   "cell_type": "code",
   "execution_count": 8,
   "metadata": {},
   "outputs": [],
   "source": [
    "// populationRDD.join(infectionRDD)"
   ]
  },
  {
   "cell_type": "markdown",
   "metadata": {},
   "source": [
    "Construyo Pair RDDs conservando todos los datos"
   ]
  },
  {
   "cell_type": "code",
   "execution_count": 9,
   "metadata": {},
   "outputs": [
    {
     "data": {
      "text/plain": [
       "defined \u001b[32mfunction\u001b[39m \u001b[36mpopulationByCountry\u001b[39m\n",
       "defined \u001b[32mfunction\u001b[39m \u001b[36minfectionByCountry\u001b[39m"
      ]
     },
     "execution_count": 9,
     "metadata": {},
     "output_type": "execute_result"
    }
   ],
   "source": [
    "def populationByCountry = populationRDD.map(\n",
    "    x => (x.country,x))\n",
    "\n",
    "def infectionByCountry = \n",
    "      infectionRDD.map(x => (x.country,x))"
   ]
  },
  {
   "cell_type": "markdown",
   "metadata": {},
   "source": [
    "Hago el Join y agrupo por paises"
   ]
  },
  {
   "cell_type": "code",
   "execution_count": 10,
   "metadata": {},
   "outputs": [
    {
     "data": {
      "text/plain": [
       "defined \u001b[32mfunction\u001b[39m \u001b[36mjoinedRDD\u001b[39m"
      ]
     },
     "execution_count": 10,
     "metadata": {},
     "output_type": "execute_result"
    }
   ],
   "source": [
    "def joinedRDD = infectionByCountry.join(populationByCountry).groupByKey()"
   ]
  },
  {
   "cell_type": "markdown",
   "metadata": {},
   "source": [
    "Finalmente calculo la media"
   ]
  },
  {
   "cell_type": "code",
   "execution_count": 11,
   "metadata": {},
   "outputs": [
    {
     "data": {
      "text/plain": [
       "defined \u001b[32mfunction\u001b[39m \u001b[36mmeanRDD\u001b[39m"
      ]
     },
     "execution_count": 11,
     "metadata": {},
     "output_type": "execute_result"
    }
   ],
   "source": [
    "def meanRDD = joinedRDD.mapValues(\n",
    "    x => x.map( \n",
    "        line => line._1.nCases.toFloat / line._2.land_area.toFloat\n",
    "    )).mapValues(\n",
    "    x => x.sum / x.size\n",
    ")"
   ]
  },
  {
   "cell_type": "markdown",
   "metadata": {},
   "source": [
    "Lo hago todo en una única operación para calcular el tiempo de ejecución"
   ]
  },
  {
   "cell_type": "code",
   "execution_count": 12,
   "metadata": {},
   "outputs": [
    {
     "data": {
      "text/plain": [
       "defined \u001b[32mfunction\u001b[39m \u001b[36mquery_RDD_Not_Optimized\u001b[39m"
      ]
     },
     "execution_count": 12,
     "metadata": {},
     "output_type": "execute_result"
    }
   ],
   "source": [
    "def query_RDD_Not_Optimized =\n",
    "    infectionByCountry.join(populationByCountry)\n",
    "    .groupByKey()\n",
    "    .mapValues(\n",
    "    x => x.map( \n",
    "        line => line._1.nCases.toFloat / line._2.land_area.toFloat)\n",
    "    ).mapValues(\n",
    "        x => x.sum / x.size\n",
    "    )"
   ]
  },
  {
   "cell_type": "markdown",
   "metadata": {},
   "source": [
    "### 1.2 Para optimizar un poco este RDD:"
   ]
  },
  {
   "cell_type": "markdown",
   "metadata": {},
   "source": [
    "Despejo solo los datos que me interesan para trabajar con Pair RDDs y optimizar la consulta"
   ]
  },
  {
   "cell_type": "code",
   "execution_count": 13,
   "metadata": {},
   "outputs": [
    {
     "data": {
      "text/plain": [
       "defined \u001b[32mfunction\u001b[39m \u001b[36mcountriesAndLandArea\u001b[39m"
      ]
     },
     "execution_count": 13,
     "metadata": {},
     "output_type": "execute_result"
    }
   ],
   "source": [
    "def countriesAndLandArea = populationRDD.map(\n",
    "    x => (x.country,x.land_area))"
   ]
  },
  {
   "cell_type": "code",
   "execution_count": 14,
   "metadata": {},
   "outputs": [
    {
     "data": {
      "text/plain": [
       "defined \u001b[32mfunction\u001b[39m \u001b[36mcountriesAndCases\u001b[39m"
      ]
     },
     "execution_count": 14,
     "metadata": {},
     "output_type": "execute_result"
    }
   ],
   "source": [
    "def countriesAndCases = \n",
    "      infectionRDD.map(x => (x.country,x.nCases))\n",
    "      .groupByKey()"
   ]
  },
  {
   "cell_type": "markdown",
   "metadata": {},
   "source": [
    "Ejecuto un join y trabajo para calcular primero la media de infecciones por Km2 diaria, \n",
    "para luego calcular la media total"
   ]
  },
  {
   "cell_type": "code",
   "execution_count": 15,
   "metadata": {},
   "outputs": [
    {
     "data": {
      "text/plain": [
       "defined \u001b[32mfunction\u001b[39m \u001b[36maverage\u001b[39m"
      ]
     },
     "execution_count": 15,
     "metadata": {},
     "output_type": "execute_result"
    }
   ],
   "source": [
    "def average = countriesAndCases.join(countriesAndLandArea)"
   ]
  },
  {
   "cell_type": "code",
   "execution_count": 16,
   "metadata": {},
   "outputs": [
    {
     "data": {
      "text/plain": [
       "defined \u001b[32mfunction\u001b[39m \u001b[36mavg\u001b[39m"
      ]
     },
     "execution_count": 16,
     "metadata": {},
     "output_type": "execute_result"
    }
   ],
   "source": [
    "def avg = average.mapValues(\n",
    "    x => x._1.map(\n",
    "        y => (y.toFloat / x._2.toFloat)\n",
    "    )).mapValues(\n",
    "    x => x.sum/x.size\n",
    ")"
   ]
  },
  {
   "cell_type": "markdown",
   "metadata": {},
   "source": [
    "Lo hago todo en una única operación para calcular el tiempo de ejecución"
   ]
  },
  {
   "cell_type": "code",
   "execution_count": 17,
   "metadata": {},
   "outputs": [
    {
     "data": {
      "text/plain": [
       "defined \u001b[32mfunction\u001b[39m \u001b[36mquery_RDD\u001b[39m"
      ]
     },
     "execution_count": 17,
     "metadata": {},
     "output_type": "execute_result"
    }
   ],
   "source": [
    "def query_RDD =\n",
    "countriesAndCases.join(countriesAndLandArea)   \n",
    ".mapValues(\n",
    "    x => x._1.map(\n",
    "        y => (y.toDouble / x._2.toDouble)\n",
    "    )).mapValues(\n",
    "    x => x.sum / x.size\n",
    ")"
   ]
  },
  {
   "cell_type": "markdown",
   "metadata": {},
   "source": [
    "# 2. Consulta con DataSet"
   ]
  },
  {
   "cell_type": "code",
   "execution_count": 18,
   "metadata": {},
   "outputs": [
    {
     "data": {
      "text/html": [
       "<script>\n",
       "var comm = Jupyter.notebook.kernel.comm_manager.new_comm('cancel-stage-7168c59e-16be-40b8-b008-c4fc4803fdd3', {});\n",
       "\n",
       "function cancelStage(stageId) {\n",
       "  console.log('Cancelling stage ' + stageId);\n",
       "  comm.send({ 'stageId': stageId });\n",
       "}\n",
       "</script>\n",
       "          "
      ]
     },
     "metadata": {},
     "output_type": "display_data"
    },
    {
     "data": {
      "text/html": [
       "<div>\n",
       "  <span style=\"float: left;\">csv at cmd17.sc:6</span>\n",
       "</div>\n"
      ]
     },
     "metadata": {},
     "output_type": "display_data"
    },
    {
     "data": {
      "text/html": [
       "<div class=\"progress\">\n",
       "  <div class=\"progress-bar\" role=\"progressbar\" style=\"background-color: blue; width: 100%; word-wrap: normal; white-space: nowrap; text-align: center; color: white\" aria-valuenow=\"100\" aria-valuemin=\"0\" aria-valuemax=\"100\">\n",
       "    1 / 1\n",
       "  </div>\n",
       "  <div class=\"progress-bar\" role=\"progressbar\" style=\"background-color: red; width: 0%\" aria-valuenow=\"0\" aria-valuemin=\"0\" aria-valuemax=\"100\"></div>\n",
       "</div>\n"
      ]
     },
     "metadata": {},
     "output_type": "display_data"
    },
    {
     "data": {
      "text/html": [
       "<div>\n",
       "  <span style=\"float: left;\">csv at cmd17.sc:6</span>\n",
       "</div>\n"
      ]
     },
     "metadata": {},
     "output_type": "display_data"
    },
    {
     "data": {
      "text/html": [
       "<div class=\"progress\">\n",
       "  <div class=\"progress-bar\" role=\"progressbar\" style=\"background-color: blue; width: 100%; word-wrap: normal; white-space: nowrap; text-align: center; color: white\" aria-valuenow=\"100\" aria-valuemin=\"0\" aria-valuemax=\"100\">\n",
       "    2 / 2\n",
       "  </div>\n",
       "  <div class=\"progress-bar\" role=\"progressbar\" style=\"background-color: red; width: 0%\" aria-valuenow=\"0\" aria-valuemin=\"0\" aria-valuemax=\"100\"></div>\n",
       "</div>\n"
      ]
     },
     "metadata": {},
     "output_type": "display_data"
    },
    {
     "data": {
      "text/plain": [
       "\u001b[36minfectionDS\u001b[39m: \u001b[32morg\u001b[39m.\u001b[32mapache\u001b[39m.\u001b[32mspark\u001b[39m.\u001b[32msql\u001b[39m.\u001b[32mDataset\u001b[39m[(\u001b[32mString\u001b[39m, \u001b[32mString\u001b[39m, \u001b[32mString\u001b[39m, \u001b[32mString\u001b[39m, \u001b[32mDouble\u001b[39m, \u001b[32mDouble\u001b[39m, \u001b[32mString\u001b[39m, \u001b[32mString\u001b[39m, \u001b[32mString\u001b[39m, \u001b[32mString\u001b[39m, \u001b[32mString\u001b[39m, \u001b[32mString\u001b[39m)] = [dateRep: string, day: int ... 10 more fields]"
      ]
     },
     "execution_count": 18,
     "metadata": {},
     "output_type": "execute_result"
    }
   ],
   "source": [
    "val infectionDS = spark.read\n",
    ".option(\"header\", \"true\")\n",
    ".option(\"charset\", \"UTF8\")\n",
    ".option(\"delimiter\",\",\")\n",
    ".option(\"inferSchema\", \"true\")\n",
    ".csv(\"../datasets/covidworldwide.csv\")\n",
    ".withColumnRenamed(\"countriesAndTerritories\",\"Country\")\n",
    ".as[(String,String,String,String,Double,Double,String,String,String,String,String,String)]"
   ]
  },
  {
   "cell_type": "code",
   "execution_count": 19,
   "metadata": {},
   "outputs": [
    {
     "data": {
      "text/html": [
       "<div>\n",
       "  <span style=\"float: left;\">csv at cmd18.sc:6</span>\n",
       "</div>\n"
      ]
     },
     "metadata": {},
     "output_type": "display_data"
    },
    {
     "data": {
      "text/html": [
       "<div class=\"progress\">\n",
       "  <div class=\"progress-bar\" role=\"progressbar\" style=\"background-color: blue; width: 100%; word-wrap: normal; white-space: nowrap; text-align: center; color: white\" aria-valuenow=\"100\" aria-valuemin=\"0\" aria-valuemax=\"100\">\n",
       "    1 / 1\n",
       "  </div>\n",
       "  <div class=\"progress-bar\" role=\"progressbar\" style=\"background-color: red; width: 0%\" aria-valuenow=\"0\" aria-valuemin=\"0\" aria-valuemax=\"100\"></div>\n",
       "</div>\n"
      ]
     },
     "metadata": {},
     "output_type": "display_data"
    },
    {
     "data": {
      "text/html": [
       "<div>\n",
       "  <span style=\"float: left;\">csv at cmd18.sc:6</span>\n",
       "</div>\n"
      ]
     },
     "metadata": {},
     "output_type": "display_data"
    },
    {
     "data": {
      "text/html": [
       "<div class=\"progress\">\n",
       "  <div class=\"progress-bar\" role=\"progressbar\" style=\"background-color: blue; width: 100%; word-wrap: normal; white-space: nowrap; text-align: center; color: white\" aria-valuenow=\"100\" aria-valuemin=\"0\" aria-valuemax=\"100\">\n",
       "    1 / 1\n",
       "  </div>\n",
       "  <div class=\"progress-bar\" role=\"progressbar\" style=\"background-color: red; width: 0%\" aria-valuenow=\"0\" aria-valuemin=\"0\" aria-valuemax=\"100\"></div>\n",
       "</div>\n"
      ]
     },
     "metadata": {},
     "output_type": "display_data"
    },
    {
     "data": {
      "text/plain": [
       "\u001b[36mpopulationDS\u001b[39m: \u001b[32morg\u001b[39m.\u001b[32mapache\u001b[39m.\u001b[32mspark\u001b[39m.\u001b[32msql\u001b[39m.\u001b[32mDataset\u001b[39m[(\u001b[32mString\u001b[39m, \u001b[32mFloat\u001b[39m, \u001b[32mString\u001b[39m, \u001b[32mFloat\u001b[39m, \u001b[32mFloat\u001b[39m, \u001b[32mFloat\u001b[39m, \u001b[32mDouble\u001b[39m, \u001b[32mString\u001b[39m, \u001b[32mString\u001b[39m, \u001b[32mString\u001b[39m, \u001b[32mString\u001b[39m)] = [Country: string, Population: int ... 9 more fields]"
      ]
     },
     "execution_count": 19,
     "metadata": {},
     "output_type": "execute_result"
    }
   ],
   "source": [
    "val populationDS = spark.read\n",
    ".option(\"header\", \"true\")\n",
    ".option(\"charset\", \"UTF8\")\n",
    ".option(\"delimiter\",\",\")\n",
    ".option(\"inferSchema\", \"true\")\n",
    ".csv(\"../datasets/population_by_country_2020.csv\")\n",
    ".withColumnRenamed(\"Country (or dependency)\",\"Country\")\n",
    ".withColumnRenamed(\"Population (2020)\",\"Population\")\n",
    ".withColumnRenamed(\"Land Area (Km\\u00b2)\",\"Area\")\n",
    ".as[(String,Float,String,Float,Float,Float,Double,String,String,String,String)]"
   ]
  },
  {
   "cell_type": "code",
   "execution_count": 20,
   "metadata": {},
   "outputs": [
    {
     "data": {
      "text/plain": [
       "defined \u001b[32mfunction\u001b[39m \u001b[36mquery_DS\u001b[39m"
      ]
     },
     "execution_count": 20,
     "metadata": {},
     "output_type": "execute_result"
    }
   ],
   "source": [
    "def query_DS = \n",
    "infectionDS.join(populationDS, \"Country\")\n",
    "        .select($\"Country\",\n",
    "                $\"dateRep\" as \"date\",\n",
    "                $\"cases\",\n",
    "                $\"Area\",\n",
    "                $\"cases\" / $\"Area\" as \"infection Per Km\\u00b2\")\n",
    "        .groupBy(\"Country\")\n",
    "        .avg(\"infection Per Km\\u00b2\")\n",
    "        .orderBy(desc(\"avg(infection Per Km²)\"))\n",
    "        .as[(String,Double)]"
   ]
  },
  {
   "cell_type": "markdown",
   "metadata": {},
   "source": [
    "# 3. Consulta con DataFrame"
   ]
  },
  {
   "cell_type": "code",
   "execution_count": 21,
   "metadata": {},
   "outputs": [
    {
     "data": {
      "text/html": [
       "<div>\n",
       "  <span style=\"float: left;\">csv at cmd20.sc:6</span>\n",
       "</div>\n"
      ]
     },
     "metadata": {},
     "output_type": "display_data"
    },
    {
     "data": {
      "text/html": [
       "<div class=\"progress\">\n",
       "  <div class=\"progress-bar\" role=\"progressbar\" style=\"background-color: blue; width: 100%; word-wrap: normal; white-space: nowrap; text-align: center; color: white\" aria-valuenow=\"100\" aria-valuemin=\"0\" aria-valuemax=\"100\">\n",
       "    1 / 1\n",
       "  </div>\n",
       "  <div class=\"progress-bar\" role=\"progressbar\" style=\"background-color: red; width: 0%\" aria-valuenow=\"0\" aria-valuemin=\"0\" aria-valuemax=\"100\"></div>\n",
       "</div>\n"
      ]
     },
     "metadata": {},
     "output_type": "display_data"
    },
    {
     "data": {
      "text/html": [
       "<div>\n",
       "  <span style=\"float: left;\">csv at cmd20.sc:6</span>\n",
       "</div>\n"
      ]
     },
     "metadata": {},
     "output_type": "display_data"
    },
    {
     "data": {
      "text/html": [
       "<div class=\"progress\">\n",
       "  <div class=\"progress-bar\" role=\"progressbar\" style=\"background-color: blue; width: 100%; word-wrap: normal; white-space: nowrap; text-align: center; color: white\" aria-valuenow=\"100\" aria-valuemin=\"0\" aria-valuemax=\"100\">\n",
       "    2 / 2\n",
       "  </div>\n",
       "  <div class=\"progress-bar\" role=\"progressbar\" style=\"background-color: red; width: 0%\" aria-valuenow=\"0\" aria-valuemin=\"0\" aria-valuemax=\"100\"></div>\n",
       "</div>\n"
      ]
     },
     "metadata": {},
     "output_type": "display_data"
    },
    {
     "data": {
      "text/plain": [
       "\u001b[36mdfCovid\u001b[39m: \u001b[32morg\u001b[39m.\u001b[32mapache\u001b[39m.\u001b[32mspark\u001b[39m.\u001b[32msql\u001b[39m.\u001b[32mpackage\u001b[39m.\u001b[32mDataFrame\u001b[39m = [dateRep: string, day: int ... 10 more fields]"
      ]
     },
     "execution_count": 21,
     "metadata": {},
     "output_type": "execute_result"
    }
   ],
   "source": [
    "val dfCovid = spark.read\n",
    ".option(\"header\", \"true\")\n",
    ".option(\"charset\", \"UTF8\")\n",
    ".option(\"delimiter\",\",\")\n",
    ".option(\"inferSchema\", \"true\")\n",
    ".csv(\"../datasets/covidworldwide.csv\")"
   ]
  },
  {
   "cell_type": "code",
   "execution_count": 22,
   "metadata": {},
   "outputs": [
    {
     "data": {
      "text/html": [
       "<div>\n",
       "  <span style=\"float: left;\">csv at cmd21.sc:6</span>\n",
       "</div>\n"
      ]
     },
     "metadata": {},
     "output_type": "display_data"
    },
    {
     "data": {
      "text/html": [
       "<div class=\"progress\">\n",
       "  <div class=\"progress-bar\" role=\"progressbar\" style=\"background-color: blue; width: 100%; word-wrap: normal; white-space: nowrap; text-align: center; color: white\" aria-valuenow=\"100\" aria-valuemin=\"0\" aria-valuemax=\"100\">\n",
       "    1 / 1\n",
       "  </div>\n",
       "  <div class=\"progress-bar\" role=\"progressbar\" style=\"background-color: red; width: 0%\" aria-valuenow=\"0\" aria-valuemin=\"0\" aria-valuemax=\"100\"></div>\n",
       "</div>\n"
      ]
     },
     "metadata": {},
     "output_type": "display_data"
    },
    {
     "data": {
      "text/html": [
       "<div>\n",
       "  <span style=\"float: left;\">csv at cmd21.sc:6</span>\n",
       "</div>\n"
      ]
     },
     "metadata": {},
     "output_type": "display_data"
    },
    {
     "data": {
      "text/html": [
       "<div class=\"progress\">\n",
       "  <div class=\"progress-bar\" role=\"progressbar\" style=\"background-color: blue; width: 100%; word-wrap: normal; white-space: nowrap; text-align: center; color: white\" aria-valuenow=\"100\" aria-valuemin=\"0\" aria-valuemax=\"100\">\n",
       "    1 / 1\n",
       "  </div>\n",
       "  <div class=\"progress-bar\" role=\"progressbar\" style=\"background-color: red; width: 0%\" aria-valuenow=\"0\" aria-valuemin=\"0\" aria-valuemax=\"100\"></div>\n",
       "</div>\n"
      ]
     },
     "metadata": {},
     "output_type": "display_data"
    },
    {
     "data": {
      "text/plain": [
       "\u001b[36mdfPopulation\u001b[39m: \u001b[32morg\u001b[39m.\u001b[32mapache\u001b[39m.\u001b[32mspark\u001b[39m.\u001b[32msql\u001b[39m.\u001b[32mpackage\u001b[39m.\u001b[32mDataFrame\u001b[39m = [Country: string, Population: int ... 9 more fields]"
      ]
     },
     "execution_count": 22,
     "metadata": {},
     "output_type": "execute_result"
    }
   ],
   "source": [
    "val dfPopulation = spark.read\n",
    ".option(\"header\", \"true\")\n",
    ".option(\"charset\", \"UTF8\")\n",
    ".option(\"delimiter\",\",\")\n",
    ".option(\"inferSchema\", \"true\")\n",
    ".csv(\"../datasets/population_by_country_2020.csv\")\n",
    ".withColumnRenamed(\"Country (or dependency)\",\"Country\")\n",
    ".withColumnRenamed(\"Population (2020)\",\"Population\")"
   ]
  },
  {
   "cell_type": "markdown",
   "metadata": {},
   "source": [
    "Modifico los datos de entrada para que el formato fecha se adecue al TimeStamp de Spark"
   ]
  },
  {
   "cell_type": "code",
   "execution_count": 23,
   "metadata": {},
   "outputs": [
    {
     "data": {
      "text/plain": [
       "defined \u001b[32mfunction\u001b[39m \u001b[36mdfCovidClean\u001b[39m"
      ]
     },
     "execution_count": 23,
     "metadata": {},
     "output_type": "execute_result"
    }
   ],
   "source": [
    "def dfCovidClean = dfCovid\n",
    "    .select($\"*\",$\"dateRep\",translate($\"dateRep\",\"/\",\"-\").as(\"date\"))\n",
    "    .drop(\"dateRep\")"
   ]
  },
  {
   "cell_type": "code",
   "execution_count": 24,
   "metadata": {},
   "outputs": [
    {
     "data": {
      "text/plain": [
       "defined \u001b[32mfunction\u001b[39m \u001b[36mdfCovidDate\u001b[39m"
      ]
     },
     "execution_count": 24,
     "metadata": {},
     "output_type": "execute_result"
    }
   ],
   "source": [
    "def dfCovidDate = dfCovidClean\n",
    "    .select($\"*\",col(\"date\"),to_date(col(\"date\"),\"dd-MM-yyyy\").as(\"to_date\"))"
   ]
  },
  {
   "cell_type": "markdown",
   "metadata": {},
   "source": [
    "Hago una consulta de prueba para obtener la media solo de los casos en España"
   ]
  },
  {
   "cell_type": "code",
   "execution_count": 25,
   "metadata": {},
   "outputs": [
    {
     "data": {
      "text/plain": [
       "defined \u001b[32mfunction\u001b[39m \u001b[36mspainCovid\u001b[39m"
      ]
     },
     "execution_count": 25,
     "metadata": {},
     "output_type": "execute_result"
    }
   ],
   "source": [
    "def spainCovid = dfCovid\n",
    "    .select(\"dateRep\",\"cases\")\n",
    "    .where(\"countriesAndTerritories == 'Spain'\").toDF"
   ]
  },
  {
   "cell_type": "markdown",
   "metadata": {},
   "source": [
    "### Finalmente ejecuto la consulta de nuestro caso de uso, infecciones por Km2"
   ]
  },
  {
   "cell_type": "code",
   "execution_count": 26,
   "metadata": {},
   "outputs": [
    {
     "data": {
      "text/plain": [
       "defined \u001b[32mfunction\u001b[39m \u001b[36mquery_DF\u001b[39m"
      ]
     },
     "execution_count": 26,
     "metadata": {},
     "output_type": "execute_result"
    }
   ],
   "source": [
    "def query_DF = \n",
    "dfCovid.join(dfPopulation, $\"country\" === $\"countriesAndTerritories\")\n",
    "        .select($\"country\",\n",
    "                $\"dateRep\" as \"date\",\n",
    "                $\"cases\",\n",
    "                $\"Land Area (Km\\u00b2)\",\n",
    "                $\"cases\" / $\"Land Area (Km\\u00b2)\" as \"infection Per Km\\u00b2\")\n",
    "        .groupBy(\"country\")\n",
    "        .avg(\"infection Per Km\\u00b2\")\n",
    "        .orderBy(desc(\"avg(infection Per Km²)\"))"
   ]
  },
  {
   "cell_type": "markdown",
   "metadata": {},
   "source": [
    "# 4. Visualización de rendimiento"
   ]
  },
  {
   "cell_type": "code",
   "execution_count": 27,
   "metadata": {
    "scrolled": false
   },
   "outputs": [
    {
     "data": {
      "text/html": [
       "<div>\n",
       "  <span style=\"float: left;\">map at cmd8.sc:1</span>\n",
       "</div>\n"
      ]
     },
     "metadata": {},
     "output_type": "display_data"
    },
    {
     "data": {
      "text/html": [
       "<div class=\"progress\">\n",
       "  <div class=\"progress-bar\" role=\"progressbar\" style=\"background-color: blue; width: 100%; word-wrap: normal; white-space: nowrap; text-align: center; color: white\" aria-valuenow=\"100\" aria-valuemin=\"0\" aria-valuemax=\"100\">\n",
       "    2 / 2\n",
       "  </div>\n",
       "  <div class=\"progress-bar\" role=\"progressbar\" style=\"background-color: red; width: 0%\" aria-valuenow=\"0\" aria-valuemin=\"0\" aria-valuemax=\"100\"></div>\n",
       "</div>\n"
      ]
     },
     "metadata": {},
     "output_type": "display_data"
    },
    {
     "data": {
      "text/html": [
       "<div>\n",
       "  <span style=\"float: left;\">map at cmd8.sc:5</span>\n",
       "</div>\n"
      ]
     },
     "metadata": {},
     "output_type": "display_data"
    },
    {
     "data": {
      "text/html": [
       "<div class=\"progress\">\n",
       "  <div class=\"progress-bar\" role=\"progressbar\" style=\"background-color: blue; width: 100%; word-wrap: normal; white-space: nowrap; text-align: center; color: white\" aria-valuenow=\"100\" aria-valuemin=\"0\" aria-valuemax=\"100\">\n",
       "    2 / 2\n",
       "  </div>\n",
       "  <div class=\"progress-bar\" role=\"progressbar\" style=\"background-color: red; width: 0%\" aria-valuenow=\"0\" aria-valuemin=\"0\" aria-valuemax=\"100\"></div>\n",
       "</div>\n"
      ]
     },
     "metadata": {},
     "output_type": "display_data"
    },
    {
     "data": {
      "text/html": [
       "<div>\n",
       "  <span style=\"float: left;\">collect at cmd26.sc:2</span>\n",
       "</div>\n"
      ]
     },
     "metadata": {},
     "output_type": "display_data"
    },
    {
     "data": {
      "text/html": [
       "<div class=\"progress\">\n",
       "  <div class=\"progress-bar\" role=\"progressbar\" style=\"background-color: blue; width: 100%; word-wrap: normal; white-space: nowrap; text-align: center; color: white\" aria-valuenow=\"100\" aria-valuemin=\"0\" aria-valuemax=\"100\">\n",
       "    2 / 2\n",
       "  </div>\n",
       "  <div class=\"progress-bar\" role=\"progressbar\" style=\"background-color: red; width: 0%\" aria-valuenow=\"0\" aria-valuemin=\"0\" aria-valuemax=\"100\"></div>\n",
       "</div>\n"
      ]
     },
     "metadata": {},
     "output_type": "display_data"
    },
    {
     "name": "stdout",
     "output_type": "stream",
     "text": [
      "Took 2824\n"
     ]
    },
    {
     "data": {
      "text/html": [
       "<div>\n",
       "  <span style=\"float: left;\">map at cmd12.sc:1</span>\n",
       "</div>\n"
      ]
     },
     "metadata": {},
     "output_type": "display_data"
    },
    {
     "data": {
      "text/html": [
       "<div class=\"progress\">\n",
       "  <div class=\"progress-bar\" role=\"progressbar\" style=\"background-color: blue; width: 100%; word-wrap: normal; white-space: nowrap; text-align: center; color: white\" aria-valuenow=\"100\" aria-valuemin=\"0\" aria-valuemax=\"100\">\n",
       "    2 / 2\n",
       "  </div>\n",
       "  <div class=\"progress-bar\" role=\"progressbar\" style=\"background-color: red; width: 0%\" aria-valuenow=\"0\" aria-valuemin=\"0\" aria-valuemax=\"100\"></div>\n",
       "</div>\n"
      ]
     },
     "metadata": {},
     "output_type": "display_data"
    },
    {
     "data": {
      "text/html": [
       "<div>\n",
       "  <span style=\"float: left;\">map at cmd13.sc:2</span>\n",
       "</div>\n"
      ]
     },
     "metadata": {},
     "output_type": "display_data"
    },
    {
     "data": {
      "text/html": [
       "<div class=\"progress\">\n",
       "  <div class=\"progress-bar\" role=\"progressbar\" style=\"background-color: blue; width: 100%; word-wrap: normal; white-space: nowrap; text-align: center; color: white\" aria-valuenow=\"100\" aria-valuemin=\"0\" aria-valuemax=\"100\">\n",
       "    2 / 2\n",
       "  </div>\n",
       "  <div class=\"progress-bar\" role=\"progressbar\" style=\"background-color: red; width: 0%\" aria-valuenow=\"0\" aria-valuemin=\"0\" aria-valuemax=\"100\"></div>\n",
       "</div>\n"
      ]
     },
     "metadata": {},
     "output_type": "display_data"
    },
    {
     "data": {
      "text/html": [
       "<div>\n",
       "  <span style=\"float: left;\">collect at cmd26.sc:3</span>\n",
       "</div>\n"
      ]
     },
     "metadata": {},
     "output_type": "display_data"
    },
    {
     "data": {
      "text/html": [
       "<div class=\"progress\">\n",
       "  <div class=\"progress-bar\" role=\"progressbar\" style=\"background-color: blue; width: 100%; word-wrap: normal; white-space: nowrap; text-align: center; color: white\" aria-valuenow=\"100\" aria-valuemin=\"0\" aria-valuemax=\"100\">\n",
       "    2 / 2\n",
       "  </div>\n",
       "  <div class=\"progress-bar\" role=\"progressbar\" style=\"background-color: red; width: 0%\" aria-valuenow=\"0\" aria-valuemin=\"0\" aria-valuemax=\"100\"></div>\n",
       "</div>\n"
      ]
     },
     "metadata": {},
     "output_type": "display_data"
    },
    {
     "name": "stdout",
     "output_type": "stream",
     "text": [
      "Took 1644\n"
     ]
    },
    {
     "data": {
      "text/html": [
       "<div>\n",
       "  <span style=\"float: left;\">run at ThreadPoolExecutor.java:1149</span>\n",
       "</div>\n"
      ]
     },
     "metadata": {},
     "output_type": "display_data"
    },
    {
     "data": {
      "text/html": [
       "<div class=\"progress\">\n",
       "  <div class=\"progress-bar\" role=\"progressbar\" style=\"background-color: blue; width: 100%; word-wrap: normal; white-space: nowrap; text-align: center; color: white\" aria-valuenow=\"100\" aria-valuemin=\"0\" aria-valuemax=\"100\">\n",
       "    1 / 1\n",
       "  </div>\n",
       "  <div class=\"progress-bar\" role=\"progressbar\" style=\"background-color: red; width: 0%\" aria-valuenow=\"0\" aria-valuemin=\"0\" aria-valuemax=\"100\"></div>\n",
       "</div>\n"
      ]
     },
     "metadata": {},
     "output_type": "display_data"
    },
    {
     "data": {
      "text/html": [
       "<div>\n",
       "  <span style=\"float: left;\">collect at cmd26.sc:4</span>\n",
       "</div>\n"
      ]
     },
     "metadata": {},
     "output_type": "display_data"
    },
    {
     "data": {
      "text/html": [
       "<div class=\"progress\">\n",
       "  <div class=\"progress-bar\" role=\"progressbar\" style=\"background-color: blue; width: 100%; word-wrap: normal; white-space: nowrap; text-align: center; color: white\" aria-valuenow=\"100\" aria-valuemin=\"0\" aria-valuemax=\"100\">\n",
       "    2 / 2\n",
       "  </div>\n",
       "  <div class=\"progress-bar\" role=\"progressbar\" style=\"background-color: red; width: 0%\" aria-valuenow=\"0\" aria-valuemin=\"0\" aria-valuemax=\"100\"></div>\n",
       "</div>\n"
      ]
     },
     "metadata": {},
     "output_type": "display_data"
    },
    {
     "data": {
      "text/html": [
       "<div>\n",
       "  <span style=\"float: left;\">collect at cmd26.sc:4</span>\n",
       "</div>\n"
      ]
     },
     "metadata": {},
     "output_type": "display_data"
    },
    {
     "data": {
      "text/html": [
       "<div class=\"progress\">\n",
       "  <div class=\"progress-bar\" role=\"progressbar\" style=\"background-color: blue; width: 100%; word-wrap: normal; white-space: nowrap; text-align: center; color: white\" aria-valuenow=\"100\" aria-valuemin=\"0\" aria-valuemax=\"100\">\n",
       "    200 / 200\n",
       "  </div>\n",
       "  <div class=\"progress-bar\" role=\"progressbar\" style=\"background-color: red; width: 0%\" aria-valuenow=\"0\" aria-valuemin=\"0\" aria-valuemax=\"100\"></div>\n",
       "</div>\n"
      ]
     },
     "metadata": {},
     "output_type": "display_data"
    },
    {
     "data": {
      "text/html": [
       "<div>\n",
       "  <span style=\"float: left;\">collect at cmd26.sc:4</span>\n",
       "</div>\n"
      ]
     },
     "metadata": {},
     "output_type": "display_data"
    },
    {
     "data": {
      "text/html": [
       "<div class=\"progress\">\n",
       "  <div class=\"progress-bar\" role=\"progressbar\" style=\"background-color: blue; width: 100%; word-wrap: normal; white-space: nowrap; text-align: center; color: white\" aria-valuenow=\"100\" aria-valuemin=\"0\" aria-valuemax=\"100\">\n",
       "    200 / 200\n",
       "  </div>\n",
       "  <div class=\"progress-bar\" role=\"progressbar\" style=\"background-color: red; width: 0%\" aria-valuenow=\"0\" aria-valuemin=\"0\" aria-valuemax=\"100\"></div>\n",
       "</div>\n"
      ]
     },
     "metadata": {},
     "output_type": "display_data"
    },
    {
     "data": {
      "text/html": [
       "<div>\n",
       "  <span style=\"float: left;\">collect at cmd26.sc:4</span>\n",
       "</div>\n"
      ]
     },
     "metadata": {},
     "output_type": "display_data"
    },
    {
     "data": {
      "text/html": [
       "<div class=\"progress\">\n",
       "  <div class=\"progress-bar\" role=\"progressbar\" style=\"background-color: blue; width: 100%; word-wrap: normal; white-space: nowrap; text-align: center; color: white\" aria-valuenow=\"100\" aria-valuemin=\"0\" aria-valuemax=\"100\">\n",
       "    157 / 157\n",
       "  </div>\n",
       "  <div class=\"progress-bar\" role=\"progressbar\" style=\"background-color: red; width: 0%\" aria-valuenow=\"0\" aria-valuemin=\"0\" aria-valuemax=\"100\"></div>\n",
       "</div>\n"
      ]
     },
     "metadata": {},
     "output_type": "display_data"
    },
    {
     "name": "stdout",
     "output_type": "stream",
     "text": [
      "Took 6428\n"
     ]
    },
    {
     "data": {
      "text/html": [
       "<div>\n",
       "  <span style=\"float: left;\">run at ThreadPoolExecutor.java:1149</span>\n",
       "</div>\n"
      ]
     },
     "metadata": {},
     "output_type": "display_data"
    },
    {
     "data": {
      "text/html": [
       "<div class=\"progress\">\n",
       "  <div class=\"progress-bar\" role=\"progressbar\" style=\"background-color: blue; width: 100%; word-wrap: normal; white-space: nowrap; text-align: center; color: white\" aria-valuenow=\"100\" aria-valuemin=\"0\" aria-valuemax=\"100\">\n",
       "    1 / 1\n",
       "  </div>\n",
       "  <div class=\"progress-bar\" role=\"progressbar\" style=\"background-color: red; width: 0%\" aria-valuenow=\"0\" aria-valuemin=\"0\" aria-valuemax=\"100\"></div>\n",
       "</div>\n"
      ]
     },
     "metadata": {},
     "output_type": "display_data"
    },
    {
     "data": {
      "text/html": [
       "<div>\n",
       "  <span style=\"float: left;\">collect at cmd26.sc:5</span>\n",
       "</div>\n"
      ]
     },
     "metadata": {},
     "output_type": "display_data"
    },
    {
     "data": {
      "text/html": [
       "<div class=\"progress\">\n",
       "  <div class=\"progress-bar\" role=\"progressbar\" style=\"background-color: blue; width: 100%; word-wrap: normal; white-space: nowrap; text-align: center; color: white\" aria-valuenow=\"100\" aria-valuemin=\"0\" aria-valuemax=\"100\">\n",
       "    2 / 2\n",
       "  </div>\n",
       "  <div class=\"progress-bar\" role=\"progressbar\" style=\"background-color: red; width: 0%\" aria-valuenow=\"0\" aria-valuemin=\"0\" aria-valuemax=\"100\"></div>\n",
       "</div>\n"
      ]
     },
     "metadata": {},
     "output_type": "display_data"
    },
    {
     "data": {
      "text/html": [
       "<div>\n",
       "  <span style=\"float: left;\">collect at cmd26.sc:5</span>\n",
       "</div>\n"
      ]
     },
     "metadata": {},
     "output_type": "display_data"
    },
    {
     "data": {
      "text/html": [
       "<div class=\"progress\">\n",
       "  <div class=\"progress-bar\" role=\"progressbar\" style=\"background-color: blue; width: 100%; word-wrap: normal; white-space: nowrap; text-align: center; color: white\" aria-valuenow=\"100\" aria-valuemin=\"0\" aria-valuemax=\"100\">\n",
       "    200 / 200\n",
       "  </div>\n",
       "  <div class=\"progress-bar\" role=\"progressbar\" style=\"background-color: red; width: 0%\" aria-valuenow=\"0\" aria-valuemin=\"0\" aria-valuemax=\"100\"></div>\n",
       "</div>\n"
      ]
     },
     "metadata": {},
     "output_type": "display_data"
    },
    {
     "data": {
      "text/html": [
       "<div>\n",
       "  <span style=\"float: left;\">collect at cmd26.sc:5</span>\n",
       "</div>\n"
      ]
     },
     "metadata": {},
     "output_type": "display_data"
    },
    {
     "data": {
      "text/html": [
       "<div class=\"progress\">\n",
       "  <div class=\"progress-bar\" role=\"progressbar\" style=\"background-color: blue; width: 100%; word-wrap: normal; white-space: nowrap; text-align: center; color: white\" aria-valuenow=\"100\" aria-valuemin=\"0\" aria-valuemax=\"100\">\n",
       "    200 / 200\n",
       "  </div>\n",
       "  <div class=\"progress-bar\" role=\"progressbar\" style=\"background-color: red; width: 0%\" aria-valuenow=\"0\" aria-valuemin=\"0\" aria-valuemax=\"100\"></div>\n",
       "</div>\n"
      ]
     },
     "metadata": {},
     "output_type": "display_data"
    },
    {
     "data": {
      "text/html": [
       "<div>\n",
       "  <span style=\"float: left;\">collect at cmd26.sc:5</span>\n",
       "</div>\n"
      ]
     },
     "metadata": {},
     "output_type": "display_data"
    },
    {
     "data": {
      "text/html": [
       "<div class=\"progress\">\n",
       "  <div class=\"progress-bar\" role=\"progressbar\" style=\"background-color: blue; width: 100%; word-wrap: normal; white-space: nowrap; text-align: center; color: white\" aria-valuenow=\"100\" aria-valuemin=\"0\" aria-valuemax=\"100\">\n",
       "    157 / 157\n",
       "  </div>\n",
       "  <div class=\"progress-bar\" role=\"progressbar\" style=\"background-color: red; width: 0%\" aria-valuenow=\"0\" aria-valuemin=\"0\" aria-valuemax=\"100\"></div>\n",
       "</div>\n"
      ]
     },
     "metadata": {},
     "output_type": "display_data"
    },
    {
     "name": "stdout",
     "output_type": "stream",
     "text": [
      "Took 4148\n"
     ]
    },
    {
     "data": {
      "text/html": [
       "\n",
       "      <script type=\"text/javascript\">\n",
       "        require.config({\n",
       "  paths: {\n",
       "    d3: 'https://cdnjs.cloudflare.com/ajax/libs/d3/3.5.17/d3.min',\n",
       "    plotly: 'https://cdn.plot.ly/plotly-1.52.2.min',\n",
       "    jquery: 'https://code.jquery.com/jquery-3.3.1.min'\n",
       "  },\n",
       "\n",
       "  shim: {\n",
       "    plotly: {\n",
       "      deps: ['d3', 'jquery'],\n",
       "      exports: 'plotly'\n",
       "    }\n",
       "  }\n",
       "});\n",
       "        \n",
       "\n",
       "        require(['plotly'], function(Plotly) {\n",
       "          window.Plotly = Plotly;\n",
       "        });\n",
       "      </script>\n",
       "    "
      ]
     },
     "metadata": {},
     "output_type": "display_data"
    },
    {
     "data": {
      "application/vnd.plotly.v1+json": {
       "config": {},
       "data": [
        {
         "type": "bar",
         "x": [
          "Not Optimized RDD",
          "RDD",
          "DataSet",
          "DataFrame"
         ],
         "y": [
          2823,
          1644,
          6428,
          4148
         ]
        }
       ],
       "layout": {}
      },
      "text/html": [
       "<div class=\"chart\" id=\"plot-f3a7b20a-0a83-49c1-bfa8-2c17f22b458e\"></div>\n",
       "<script>require(['plotly'], function(Plotly) {\n",
       "  (function () {\n",
       "  var data0 = {\"x\":[\"Not Optimized RDD\",\"RDD\",\"DataSet\",\"DataFrame\"],\"y\":[2823.0,1644.0,6428.0,4148.0],\"type\":\"bar\"};\n",
       "\n",
       "  var data = [data0];\n",
       "  var layout = {};\n",
       " var config = {};\n",
       "\n",
       "  Plotly.plot('plot-f3a7b20a-0a83-49c1-bfa8-2c17f22b458e', data, layout, config);\n",
       "})();\n",
       "});\n",
       "      </script>\n",
       "           "
      ]
     },
     "metadata": {},
     "output_type": "display_data"
    },
    {
     "data": {
      "text/plain": [
       "\u001b[36mx\u001b[39m: \u001b[32mSeq\u001b[39m[\u001b[32mString\u001b[39m] = \u001b[33mList\u001b[39m(\u001b[32m\"Not Optimized RDD\"\u001b[39m, \u001b[32m\"RDD\"\u001b[39m, \u001b[32m\"DataSet\"\u001b[39m, \u001b[32m\"DataFrame\"\u001b[39m)\n",
       "\u001b[36my\u001b[39m: \u001b[32mSeq\u001b[39m[\u001b[32mInt\u001b[39m] = \u001b[33mList\u001b[39m(\u001b[32m2823\u001b[39m, \u001b[32m1644\u001b[39m, \u001b[32m6428\u001b[39m, \u001b[32m4148\u001b[39m)\n",
       "\u001b[36mres26_1\u001b[39m: \u001b[32mString\u001b[39m = \u001b[32m\"plot-f3a7b20a-0a83-49c1-bfa8-2c17f22b458e\"\u001b[39m"
      ]
     },
     "execution_count": 27,
     "metadata": {},
     "output_type": "execute_result"
    }
   ],
   "source": [
    "val (x, y) = Seq(\n",
    "    \"Not Optimized RDD\" -> runWithOutput(query_RDD_Not_Optimized.collect()),\n",
    "    \"RDD\" -> runWithOutput(query_RDD.collect()),\n",
    "    \"DataSet\" -> runWithOutput(query_DS.collect),\n",
    "    \"DataFrame\" -> runWithOutput(query_DF.collect)\n",
    ").unzip\n",
    "\n",
    "Bar(x, y).plot()"
   ]
  },
  {
   "cell_type": "markdown",
   "metadata": {},
   "source": [
    "# 5. Comparativas de rendimiento"
   ]
  },
  {
   "cell_type": "code",
   "execution_count": null,
   "metadata": {},
   "outputs": [],
   "source": [
    "spark.time(query_RDD_Not_Optimized.collect())"
   ]
  },
  {
   "cell_type": "code",
   "execution_count": null,
   "metadata": {},
   "outputs": [],
   "source": [
    "spark.time(query_RDD.collect())"
   ]
  },
  {
   "cell_type": "code",
   "execution_count": null,
   "metadata": {},
   "outputs": [],
   "source": [
    "spark.time(query_DS.collect())"
   ]
  },
  {
   "cell_type": "code",
   "execution_count": null,
   "metadata": {},
   "outputs": [],
   "source": [
    "spark.time(query_DF.collect())"
   ]
  },
  {
   "cell_type": "code",
   "execution_count": null,
   "metadata": {},
   "outputs": [],
   "source": [
    "ch.cern.sparkmeasure.StageMetrics(spark).runAndMeasure(query_RDD_Not_Optimized.collect)"
   ]
  },
  {
   "cell_type": "code",
   "execution_count": null,
   "metadata": {},
   "outputs": [],
   "source": [
    "ch.cern.sparkmeasure.StageMetrics(spark).runAndMeasure(query_RDD.collect)"
   ]
  },
  {
   "cell_type": "code",
   "execution_count": null,
   "metadata": {},
   "outputs": [],
   "source": [
    "ch.cern.sparkmeasure.StageMetrics(spark).runAndMeasure(query_DS.collect)"
   ]
  },
  {
   "cell_type": "code",
   "execution_count": null,
   "metadata": {},
   "outputs": [],
   "source": [
    "ch.cern.sparkmeasure.StageMetrics(spark).runAndMeasure(\n",
    "    query_DF.collect\n",
    "    )"
   ]
  },
  {
   "cell_type": "markdown",
   "metadata": {},
   "source": [
    "# 6. Visualización de datos con plotly"
   ]
  },
  {
   "cell_type": "code",
   "execution_count": 28,
   "metadata": {},
   "outputs": [
    {
     "data": {
      "text/html": [
       "<div>\n",
       "  <span style=\"float: left;\">run at ThreadPoolExecutor.java:1149</span>\n",
       "</div>\n"
      ]
     },
     "metadata": {},
     "output_type": "display_data"
    },
    {
     "data": {
      "text/html": [
       "<div class=\"progress\">\n",
       "  <div class=\"progress-bar\" role=\"progressbar\" style=\"background-color: blue; width: 100%; word-wrap: normal; white-space: nowrap; text-align: center; color: white\" aria-valuenow=\"100\" aria-valuemin=\"0\" aria-valuemax=\"100\">\n",
       "    1 / 1\n",
       "  </div>\n",
       "  <div class=\"progress-bar\" role=\"progressbar\" style=\"background-color: red; width: 0%\" aria-valuenow=\"0\" aria-valuemin=\"0\" aria-valuemax=\"100\"></div>\n",
       "</div>\n"
      ]
     },
     "metadata": {},
     "output_type": "display_data"
    },
    {
     "data": {
      "text/html": [
       "<div>\n",
       "  <span style=\"float: left;\">collect at cmd27.sc:1</span>\n",
       "</div>\n"
      ]
     },
     "metadata": {},
     "output_type": "display_data"
    },
    {
     "data": {
      "text/html": [
       "<div class=\"progress\">\n",
       "  <div class=\"progress-bar\" role=\"progressbar\" style=\"background-color: blue; width: 100%; word-wrap: normal; white-space: nowrap; text-align: center; color: white\" aria-valuenow=\"100\" aria-valuemin=\"0\" aria-valuemax=\"100\">\n",
       "    2 / 2\n",
       "  </div>\n",
       "  <div class=\"progress-bar\" role=\"progressbar\" style=\"background-color: red; width: 0%\" aria-valuenow=\"0\" aria-valuemin=\"0\" aria-valuemax=\"100\"></div>\n",
       "</div>\n"
      ]
     },
     "metadata": {},
     "output_type": "display_data"
    },
    {
     "data": {
      "text/html": [
       "<div>\n",
       "  <span style=\"float: left;\">collect at cmd27.sc:1</span>\n",
       "</div>\n"
      ]
     },
     "metadata": {},
     "output_type": "display_data"
    },
    {
     "data": {
      "text/html": [
       "<div class=\"progress\">\n",
       "  <div class=\"progress-bar\" role=\"progressbar\" style=\"background-color: blue; width: 100%; word-wrap: normal; white-space: nowrap; text-align: center; color: white\" aria-valuenow=\"100\" aria-valuemin=\"0\" aria-valuemax=\"100\">\n",
       "    200 / 200\n",
       "  </div>\n",
       "  <div class=\"progress-bar\" role=\"progressbar\" style=\"background-color: red; width: 0%\" aria-valuenow=\"0\" aria-valuemin=\"0\" aria-valuemax=\"100\"></div>\n",
       "</div>\n"
      ]
     },
     "metadata": {},
     "output_type": "display_data"
    },
    {
     "data": {
      "text/html": [
       "<div>\n",
       "  <span style=\"float: left;\">collect at cmd27.sc:1</span>\n",
       "</div>\n"
      ]
     },
     "metadata": {},
     "output_type": "display_data"
    },
    {
     "data": {
      "text/html": [
       "<div class=\"progress\">\n",
       "  <div class=\"progress-bar\" role=\"progressbar\" style=\"background-color: blue; width: 100%; word-wrap: normal; white-space: nowrap; text-align: center; color: white\" aria-valuenow=\"100\" aria-valuemin=\"0\" aria-valuemax=\"100\">\n",
       "    200 / 200\n",
       "  </div>\n",
       "  <div class=\"progress-bar\" role=\"progressbar\" style=\"background-color: red; width: 0%\" aria-valuenow=\"0\" aria-valuemin=\"0\" aria-valuemax=\"100\"></div>\n",
       "</div>\n"
      ]
     },
     "metadata": {},
     "output_type": "display_data"
    },
    {
     "data": {
      "text/html": [
       "<div>\n",
       "  <span style=\"float: left;\">collect at cmd27.sc:1</span>\n",
       "</div>\n"
      ]
     },
     "metadata": {},
     "output_type": "display_data"
    },
    {
     "data": {
      "text/html": [
       "<div class=\"progress\">\n",
       "  <div class=\"progress-bar\" role=\"progressbar\" style=\"background-color: blue; width: 100%; word-wrap: normal; white-space: nowrap; text-align: center; color: white\" aria-valuenow=\"100\" aria-valuemin=\"0\" aria-valuemax=\"100\">\n",
       "    157 / 157\n",
       "  </div>\n",
       "  <div class=\"progress-bar\" role=\"progressbar\" style=\"background-color: red; width: 0%\" aria-valuenow=\"0\" aria-valuemin=\"0\" aria-valuemax=\"100\"></div>\n",
       "</div>\n"
      ]
     },
     "metadata": {},
     "output_type": "display_data"
    },
    {
     "data": {
      "application/vnd.plotly.v1+json": {
       "config": {},
       "data": [
        {
         "type": "bar",
         "x": [
          "Monaco",
          "Gibraltar",
          "Bahrain",
          "Singapore",
          "Maldives",
          "Malta",
          "Aruba",
          "Belgium",
          "Andorra",
          "Netherlands",
          "Guam",
          "Israel",
          "Luxembourg",
          "Lebanon",
          "Qatar",
          "Liechtenstein",
          "Bermuda",
          "Curaçao",
          "Switzerland",
          "Kuwait",
          "Italy",
          "Slovenia",
          "Armenia",
          "Moldova",
          "Bangladesh",
          "Portugal",
          "Poland",
          "France",
          "Montenegro",
          "Austria",
          "Hungary",
          "Germany",
          "Serbia",
          "Jordan",
          "Spain",
          "Slovakia",
          "India",
          "Panama",
          "Croatia",
          "Georgia",
          "Denmark",
          "Romania",
          "Albania",
          "Azerbaijan",
          "Bulgaria",
          "Cyprus",
          "Ukraine",
          "Nepal",
          "Turkey",
          "Colombia",
          "Lithuania",
          "Guatemala",
          "Philippines",
          "Jamaica",
          "Iraq",
          "Honduras",
          "Morocco",
          "Ireland",
          "Bahamas",
          "Greece",
          "Peru",
          "Chile",
          "Tunisia",
          "Barbados",
          "Brazil",
          "Ecuador",
          "Belarus",
          "Sweden",
          "Iran",
          "Argentina",
          "Mexico",
          "Pakistan",
          "Belize",
          "Kyrgyzstan",
          "Comoros",
          "Seychelles",
          "Latvia",
          "Eswatini",
          "Japan",
          "Gambia",
          "Haiti",
          "Estonia",
          "Oman",
          "Indonesia",
          "Rwanda",
          "Mauritius",
          "Djibouti",
          "Paraguay",
          "Ghana",
          "Grenada",
          "Malaysia",
          "Uzbekistan",
          "Myanmar",
          "Kenya",
          "Uganda",
          "Bolivia",
          "Montserrat",
          "Russia",
          "Venezuela",
          "Dominica",
          "Ethiopia",
          "Anguilla",
          "Tajikistan",
          "Egypt",
          "Lesotho",
          "Cuba",
          "Senegal",
          "Norway",
          "Finland",
          "Malawi",
          "Kazakhstan",
          "Nigeria",
          "Afghanistan",
          "Togo",
          "Uruguay",
          "Guinea",
          "Libya",
          "Cameroon",
          "Syria",
          "Nicaragua",
          "Iceland",
          "Canada",
          "Gabon",
          "Suriname",
          "Madagascar",
          "Algeria",
          "Burundi",
          "Guyana",
          "Zimbabwe",
          "Benin",
          "Zambia",
          "Botswana",
          "Mozambique",
          "Namibia",
          "Congo",
          "Liberia",
          "Taiwan",
          "Angola",
          "Sudan",
          "Bhutan",
          "Mauritania",
          "China",
          "Somalia",
          "Eritrea",
          "Thailand",
          "Mali",
          "Yemen",
          "Vietnam",
          "Australia",
          "Fiji",
          "Niger",
          "Cambodia",
          "Chad",
          "Vanuatu",
          "Mongolia",
          "Laos",
          "Greenland"
         ],
         "y": [
          1.976331353187561,
          0.39814814925193787,
          0.3360843062400818,
          0.23804081976413727,
          0.1591428518295288,
          0.12258171290159225,
          0.10505618155002594,
          0.0573694109916687,
          0.05656799301505089,
          0.05191882699728012,
          0.048558153212070465,
          0.0476568378508091,
          0.04645812138915062,
          0.04139474034309387,
          0.03509058803319931,
          0.033915769308805466,
          0.03192592412233353,
          0.030684819445014,
          0.02692066878080368,
          0.02364632487297058,
          0.017908984795212746,
          0.016838818788528442,
          0.015314984135329723,
          0.013754947111010551,
          0.013703282922506332,
          0.013267124071717262,
          0.013058352284133434,
          0.012402372434735298,
          0.011323529295623302,
          0.011095737107098103,
          0.011041006073355675,
          0.010960015468299389,
          0.010879749432206154,
          0.010556821711361408,
          0.009941194206476212,
          0.009806489571928978,
          0.009525527246296406,
          0.009272406809031963,
          0.009057828225195408,
          0.007923641242086887,
          0.007390862330794334,
          0.006945578381419182,
          0.006303088739514351,
          0.00620329799130559,
          0.005903549026697874,
          0.0058788033202290535,
          0.005632953252643347,
          0.005142380483448505,
          0.00468638027086854,
          0.004605949390679598,
          0.004446085542440414,
          0.0043870508670806885,
          0.004356051795184612,
          0.003903450444340706,
          0.0038019136991351843,
          0.003703138791024685,
          0.0031977929174900055,
          0.00317785469815135,
          0.002818505046889186,
          0.0027762320823967457,
          0.0027287593111395836,
          0.0026989199686795473,
          0.0025508657563477755,
          0.0024965801276266575,
          0.002359360223636031,
          0.002358777914196253,
          0.0023098853416740894,
          0.002228799741715193,
          0.0019443571800366044,
          0.0019343994790688157,
          0.0018372664926573634,
          0.0016573830507695675,
          0.0015319425147026777,
          0.0014943687710911036,
          0.001486576977185905,
          0.0014782608486711979,
          0.001458591315895319,
          0.0014308667741715908,
          0.0014080023393034935,
          0.0013739537680521607,
          0.0012854109518229961,
          0.0012345679569989443,
          0.001185708330012858,
          0.0009942891774699092,
          0.0009815380908548832,
          0.000939609541092068,
          0.0009118434390984476,
          0.0008472839253954589,
          0.000844157999381423,
          0.000760079303290695,
          0.0007279968704096973,
          0.0006442540907301009,
          0.0006211258005350828,
          0.0005849914159625769,
          0.0005141451256349683,
          0.0004903788794763386,
          0.00048507461906410754,
          0.000463009811937809,
          0.000443463446572423,
          0.00043445691699162126,
          0.0004230760969221592,
          0.00042247571400366724,
          0.00039810873568058014,
          0.000352978880982846,
          0.0003463115426711738,
          0.00032192273647524416,
          0.0003167410031892359,
          0.00031305389711633325,
          0.0002930212940555066,
          0.0002513291547074914,
          0.0002509059850126505,
          0.00023700325982645154,
          0.00022197804355528206,
          0.00021656528406310827,
          0.0002017016231548041,
          0.00019860002794303,
          0.0001946885313373059,
          0.00019201826944481581,
          0.00018694977916311473,
          0.00018051560618914664,
          0.0001583754929015413,
          0.00014476352953352034,
          0.00013119241339154541,
          0.00012708926806226373,
          0.00011270082177361473,
          0.00011208709474885836,
          0.00011003042891388759,
          0.00010935876343864948,
          0.00010806951468111947,
          0.00010037851461675018,
          9.070842497749254e-05,
          8.549659833079204e-05,
          8.074738434515893e-05,
          7.303733582375571e-05,
          6.464609759859741e-05,
          6.37374832876958e-05,
          5.9708720073103905e-05,
          4.845029616262764e-05,
          4.389994501252659e-05,
          4.1633826185716316e-05,
          3.803240542765707e-05,
          2.8005031708744355e-05,
          2.673652852536179e-05,
          2.626717832754366e-05,
          2.4178922103601508e-05,
          1.8048605852527544e-05,
          1.584457822900731e-05,
          1.3021486665820703e-05,
          1.042507756210398e-05,
          9.325143764726818e-06,
          6.6267089096072596e-06,
          5.964117008261383e-06,
          5.206127298151841e-06,
          2.4127780307026114e-06,
          2.1424773422040744e-06,
          6.703508574901207e-07,
          1.714468709224093e-07
         ]
        }
       ],
       "layout": {}
      },
      "text/html": [
       "<div class=\"chart\" id=\"plot-3670a94e-b29c-411c-a3c7-45be2632d8f4\"></div>\n",
       "<script>require(['plotly'], function(Plotly) {\n",
       "  (function () {\n",
       "  var data0 = {\"x\":[\"Monaco\",\"Gibraltar\",\"Bahrain\",\"Singapore\",\"Maldives\",\"Malta\",\"Aruba\",\"Belgium\",\"Andorra\",\"Netherlands\",\"Guam\",\"Israel\",\"Luxembourg\",\"Lebanon\",\"Qatar\",\"Liechtenstein\",\"Bermuda\",\"Curaçao\",\"Switzerland\",\"Kuwait\",\"Italy\",\"Slovenia\",\"Armenia\",\"Moldova\",\"Bangladesh\",\"Portugal\",\"Poland\",\"France\",\"Montenegro\",\"Austria\",\"Hungary\",\"Germany\",\"Serbia\",\"Jordan\",\"Spain\",\"Slovakia\",\"India\",\"Panama\",\"Croatia\",\"Georgia\",\"Denmark\",\"Romania\",\"Albania\",\"Azerbaijan\",\"Bulgaria\",\"Cyprus\",\"Ukraine\",\"Nepal\",\"Turkey\",\"Colombia\",\"Lithuania\",\"Guatemala\",\"Philippines\",\"Jamaica\",\"Iraq\",\"Honduras\",\"Morocco\",\"Ireland\",\"Bahamas\",\"Greece\",\"Peru\",\"Chile\",\"Tunisia\",\"Barbados\",\"Brazil\",\"Ecuador\",\"Belarus\",\"Sweden\",\"Iran\",\"Argentina\",\"Mexico\",\"Pakistan\",\"Belize\",\"Kyrgyzstan\",\"Comoros\",\"Seychelles\",\"Latvia\",\"Eswatini\",\"Japan\",\"Gambia\",\"Haiti\",\"Estonia\",\"Oman\",\"Indonesia\",\"Rwanda\",\"Mauritius\",\"Djibouti\",\"Paraguay\",\"Ghana\",\"Grenada\",\"Malaysia\",\"Uzbekistan\",\"Myanmar\",\"Kenya\",\"Uganda\",\"Bolivia\",\"Montserrat\",\"Russia\",\"Venezuela\",\"Dominica\",\"Ethiopia\",\"Anguilla\",\"Tajikistan\",\"Egypt\",\"Lesotho\",\"Cuba\",\"Senegal\",\"Norway\",\"Finland\",\"Malawi\",\"Kazakhstan\",\"Nigeria\",\"Afghanistan\",\"Togo\",\"Uruguay\",\"Guinea\",\"Libya\",\"Cameroon\",\"Syria\",\"Nicaragua\",\"Iceland\",\"Canada\",\"Gabon\",\"Suriname\",\"Madagascar\",\"Algeria\",\"Burundi\",\"Guyana\",\"Zimbabwe\",\"Benin\",\"Zambia\",\"Botswana\",\"Mozambique\",\"Namibia\",\"Congo\",\"Liberia\",\"Taiwan\",\"Angola\",\"Sudan\",\"Bhutan\",\"Mauritania\",\"China\",\"Somalia\",\"Eritrea\",\"Thailand\",\"Mali\",\"Yemen\",\"Vietnam\",\"Australia\",\"Fiji\",\"Niger\",\"Cambodia\",\"Chad\",\"Vanuatu\",\"Mongolia\",\"Laos\",\"Greenland\"],\"y\":[1.976331353187561,0.39814814925193787,0.3360843062400818,0.23804081976413727,0.1591428518295288,0.12258171290159225,0.10505618155002594,0.0573694109916687,0.05656799301505089,0.05191882699728012,0.048558153212070465,0.0476568378508091,0.04645812138915062,0.04139474034309387,0.03509058803319931,0.033915769308805466,0.03192592412233353,0.030684819445014,0.02692066878080368,0.02364632487297058,0.017908984795212746,0.016838818788528442,0.015314984135329723,0.013754947111010551,0.013703282922506332,0.013267124071717262,0.013058352284133434,0.012402372434735298,0.011323529295623302,0.011095737107098103,0.011041006073355675,0.010960015468299389,0.010879749432206154,0.010556821711361408,0.009941194206476212,0.009806489571928978,0.009525527246296406,0.009272406809031963,0.009057828225195408,0.007923641242086887,0.007390862330794334,0.006945578381419182,0.006303088739514351,0.00620329799130559,0.005903549026697874,0.0058788033202290535,0.005632953252643347,0.005142380483448505,0.00468638027086854,0.004605949390679598,0.004446085542440414,0.0043870508670806885,0.004356051795184612,0.003903450444340706,0.0038019136991351843,0.003703138791024685,0.0031977929174900055,0.00317785469815135,0.002818505046889186,0.0027762320823967457,0.0027287593111395836,0.0026989199686795473,0.0025508657563477755,0.0024965801276266575,0.002359360223636031,0.002358777914196253,0.0023098853416740894,0.002228799741715193,0.0019443571800366044,0.0019343994790688157,0.0018372664926573634,0.0016573830507695675,0.0015319425147026777,0.0014943687710911036,0.001486576977185905,0.0014782608486711979,0.001458591315895319,0.0014308667741715908,0.0014080023393034935,0.0013739537680521607,0.0012854109518229961,0.0012345679569989443,0.001185708330012858,9.942891774699092E-4,9.815380908548832E-4,9.39609541092068E-4,9.118434390984476E-4,8.472839253954589E-4,8.44157999381423E-4,7.60079303290695E-4,7.279968704096973E-4,6.442540907301009E-4,6.211258005350828E-4,5.849914159625769E-4,5.141451256349683E-4,4.903788794763386E-4,4.8507461906410754E-4,4.63009811937809E-4,4.43463446572423E-4,4.3445691699162126E-4,4.230760969221592E-4,4.2247571400366724E-4,3.9810873568058014E-4,3.52978880982846E-4,3.463115426711738E-4,3.2192273647524416E-4,3.167410031892359E-4,3.1305389711633325E-4,2.930212940555066E-4,2.513291547074914E-4,2.509059850126505E-4,2.3700325982645154E-4,2.2197804355528206E-4,2.1656528406310827E-4,2.017016231548041E-4,1.9860002794303E-4,1.946885313373059E-4,1.9201826944481581E-4,1.8694977916311473E-4,1.8051560618914664E-4,1.583754929015413E-4,1.4476352953352034E-4,1.3119241339154541E-4,1.2708926806226373E-4,1.1270082177361473E-4,1.1208709474885836E-4,1.1003042891388759E-4,1.0935876343864948E-4,1.0806951468111947E-4,1.0037851461675018E-4,9.070842497749254E-5,8.549659833079204E-5,8.074738434515893E-5,7.303733582375571E-5,6.464609759859741E-5,6.37374832876958E-5,5.9708720073103905E-5,4.845029616262764E-5,4.389994501252659E-5,4.1633826185716316E-5,3.803240542765707E-5,2.8005031708744355E-5,2.673652852536179E-5,2.626717832754366E-5,2.4178922103601508E-5,1.8048605852527544E-5,1.584457822900731E-5,1.3021486665820703E-5,1.042507756210398E-5,9.325143764726818E-6,6.6267089096072596E-6,5.964117008261383E-6,5.206127298151841E-6,2.4127780307026114E-6,2.1424773422040744E-6,6.703508574901207E-7,1.714468709224093E-7],\"type\":\"bar\"};\n",
       "\n",
       "  var data = [data0];\n",
       "  var layout = {};\n",
       " var config = {};\n",
       "\n",
       "  Plotly.plot('plot-3670a94e-b29c-411c-a3c7-45be2632d8f4', data, layout, config);\n",
       "})();\n",
       "});\n",
       "      </script>\n",
       "           "
      ]
     },
     "metadata": {},
     "output_type": "display_data"
    },
    {
     "data": {
      "text/plain": [
       "\u001b[36mx\u001b[39m: \u001b[32mList\u001b[39m[\u001b[32mString\u001b[39m] = \u001b[33mList\u001b[39m(\n",
       "  \u001b[32m\"Monaco\"\u001b[39m,\n",
       "  \u001b[32m\"Gibraltar\"\u001b[39m,\n",
       "  \u001b[32m\"Bahrain\"\u001b[39m,\n",
       "  \u001b[32m\"Singapore\"\u001b[39m,\n",
       "  \u001b[32m\"Maldives\"\u001b[39m,\n",
       "  \u001b[32m\"Malta\"\u001b[39m,\n",
       "  \u001b[32m\"Aruba\"\u001b[39m,\n",
       "  \u001b[32m\"Belgium\"\u001b[39m,\n",
       "  \u001b[32m\"Andorra\"\u001b[39m,\n",
       "  \u001b[32m\"Netherlands\"\u001b[39m,\n",
       "  \u001b[32m\"Guam\"\u001b[39m,\n",
       "  \u001b[32m\"Israel\"\u001b[39m,\n",
       "  \u001b[32m\"Luxembourg\"\u001b[39m,\n",
       "  \u001b[32m\"Lebanon\"\u001b[39m,\n",
       "  \u001b[32m\"Qatar\"\u001b[39m,\n",
       "  \u001b[32m\"Liechtenstein\"\u001b[39m,\n",
       "  \u001b[32m\"Bermuda\"\u001b[39m,\n",
       "  \u001b[32m\"Cura\\u00e7ao\"\u001b[39m,\n",
       "  \u001b[32m\"Switzerland\"\u001b[39m,\n",
       "  \u001b[32m\"Kuwait\"\u001b[39m,\n",
       "  \u001b[32m\"Italy\"\u001b[39m,\n",
       "  \u001b[32m\"Slovenia\"\u001b[39m,\n",
       "  \u001b[32m\"Armenia\"\u001b[39m,\n",
       "  \u001b[32m\"Moldova\"\u001b[39m,\n",
       "  \u001b[32m\"Bangladesh\"\u001b[39m,\n",
       "  \u001b[32m\"Portugal\"\u001b[39m,\n",
       "  \u001b[32m\"Poland\"\u001b[39m,\n",
       "  \u001b[32m\"France\"\u001b[39m,\n",
       "  \u001b[32m\"Montenegro\"\u001b[39m,\n",
       "  \u001b[32m\"Austria\"\u001b[39m,\n",
       "  \u001b[32m\"Hungary\"\u001b[39m,\n",
       "  \u001b[32m\"Germany\"\u001b[39m,\n",
       "  \u001b[32m\"Serbia\"\u001b[39m,\n",
       "  \u001b[32m\"Jordan\"\u001b[39m,\n",
       "  \u001b[32m\"Spain\"\u001b[39m,\n",
       "  \u001b[32m\"Slovakia\"\u001b[39m,\n",
       "  \u001b[32m\"India\"\u001b[39m,\n",
       "  \u001b[32m\"Panama\"\u001b[39m,\n",
       "...\n",
       "\u001b[36my\u001b[39m: \u001b[32mList\u001b[39m[\u001b[32mFloat\u001b[39m] = \u001b[33mList\u001b[39m(\n",
       "  \u001b[32m1.9763314F\u001b[39m,\n",
       "  \u001b[32m0.39814815F\u001b[39m,\n",
       "  \u001b[32m0.3360843F\u001b[39m,\n",
       "  \u001b[32m0.23804082F\u001b[39m,\n",
       "  \u001b[32m0.15914285F\u001b[39m,\n",
       "  \u001b[32m0.12258171F\u001b[39m,\n",
       "  \u001b[32m0.10505618F\u001b[39m,\n",
       "  \u001b[32m0.05736941F\u001b[39m,\n",
       "  \u001b[32m0.056567993F\u001b[39m,\n",
       "  \u001b[32m0.051918827F\u001b[39m,\n",
       "  \u001b[32m0.048558153F\u001b[39m,\n",
       "  \u001b[32m0.047656838F\u001b[39m,\n",
       "  \u001b[32m0.04645812F\u001b[39m,\n",
       "  \u001b[32m0.04139474F\u001b[39m,\n",
       "  \u001b[32m0.035090588F\u001b[39m,\n",
       "  \u001b[32m0.03391577F\u001b[39m,\n",
       "  \u001b[32m0.031925924F\u001b[39m,\n",
       "  \u001b[32m0.03068482F\u001b[39m,\n",
       "  \u001b[32m0.026920669F\u001b[39m,\n",
       "  \u001b[32m0.023646325F\u001b[39m,\n",
       "  \u001b[32m0.017908985F\u001b[39m,\n",
       "  \u001b[32m0.016838819F\u001b[39m,\n",
       "  \u001b[32m0.015314984F\u001b[39m,\n",
       "  \u001b[32m0.013754947F\u001b[39m,\n",
       "  \u001b[32m0.013703283F\u001b[39m,\n",
       "  \u001b[32m0.013267124F\u001b[39m,\n",
       "  \u001b[32m0.013058352F\u001b[39m,\n",
       "  \u001b[32m0.012402372F\u001b[39m,\n",
       "  \u001b[32m0.011323529F\u001b[39m,\n",
       "  \u001b[32m0.011095737F\u001b[39m,\n",
       "  \u001b[32m0.011041006F\u001b[39m,\n",
       "  \u001b[32m0.0109600155F\u001b[39m,\n",
       "  \u001b[32m0.010879749F\u001b[39m,\n",
       "  \u001b[32m0.010556822F\u001b[39m,\n",
       "  \u001b[32m0.009941194F\u001b[39m,\n",
       "  \u001b[32m0.00980649F\u001b[39m,\n",
       "  \u001b[32m0.009525527F\u001b[39m,\n",
       "  \u001b[32m0.009272407F\u001b[39m,\n",
       "...\n",
       "\u001b[36mres27_1\u001b[39m: \u001b[32mString\u001b[39m = \u001b[32m\"plot-3670a94e-b29c-411c-a3c7-45be2632d8f4\"\u001b[39m"
      ]
     },
     "execution_count": 28,
     "metadata": {},
     "output_type": "execute_result"
    }
   ],
   "source": [
    "val (x,y) = query_DF\n",
    "    .collect\n",
    "    .map(r=>(r(0).toString, r(1).toString.toFloat))\n",
    "    .toList\n",
    "    .unzip\n",
    "\n",
    "Bar(x, y).plot()"
   ]
  }
 ],
 "metadata": {
  "kernelspec": {
   "display_name": "Scala 2.12",
   "language": "scala",
   "name": "scala212"
  },
  "language_info": {
   "codemirror_mode": "text/x-scala",
   "file_extension": ".scala",
   "mimetype": "text/x-scala",
   "name": "scala",
   "nbconvert_exporter": "script",
   "version": "2.12.10"
  }
 },
 "nbformat": 4,
 "nbformat_minor": 4
}
