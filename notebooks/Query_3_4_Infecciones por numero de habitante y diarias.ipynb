{
 "cells": [
  {
   "cell_type": "code",
   "execution_count": 1,
   "metadata": {},
   "outputs": [
    {
     "name": "stdout",
     "output_type": "stream",
     "text": [
      "Loading spark-stubs\n",
      "Getting spark JARs\n"
     ]
    },
    {
     "name": "stderr",
     "output_type": "stream",
     "text": [
      "log4j:WARN No appenders could be found for logger (org.eclipse.jetty.util.log).\n",
      "log4j:WARN Please initialize the log4j system properly.\n",
      "log4j:WARN See http://logging.apache.org/log4j/1.2/faq.html#noconfig for more info.\n"
     ]
    },
    {
     "name": "stdout",
     "output_type": "stream",
     "text": [
      "Creating SparkSession\n"
     ]
    },
    {
     "name": "stderr",
     "output_type": "stream",
     "text": [
      "Using Spark's default log4j profile: org/apache/spark/log4j-defaults.properties\n",
      "21/07/08 13:02:20 INFO SparkContext: Running Spark version 2.4.5\n",
      "21/07/08 13:02:21 WARN NativeCodeLoader: Unable to load native-hadoop library for your platform... using builtin-java classes where applicable\n",
      "21/07/08 13:02:21 INFO SparkContext: Submitted application: Queries Optimization\n",
      "21/07/08 13:02:21 INFO SecurityManager: Changing view acls to: jovyan\n",
      "21/07/08 13:02:21 INFO SecurityManager: Changing modify acls to: jovyan\n",
      "21/07/08 13:02:21 INFO SecurityManager: Changing view acls groups to: \n",
      "21/07/08 13:02:21 INFO SecurityManager: Changing modify acls groups to: \n",
      "21/07/08 13:02:21 INFO SecurityManager: SecurityManager: authentication disabled; ui acls disabled; users  with view permissions: Set(jovyan); groups with view permissions: Set(); users  with modify permissions: Set(jovyan); groups with modify permissions: Set()\n",
      "21/07/08 13:02:22 INFO Utils: Successfully started service 'sparkDriver' on port 34087.\n",
      "21/07/08 13:02:22 INFO SparkEnv: Registering MapOutputTracker\n",
      "21/07/08 13:02:22 INFO SparkEnv: Registering BlockManagerMaster\n",
      "21/07/08 13:02:22 INFO BlockManagerMasterEndpoint: Using org.apache.spark.storage.DefaultTopologyMapper for getting topology information\n",
      "21/07/08 13:02:22 INFO BlockManagerMasterEndpoint: BlockManagerMasterEndpoint up\n",
      "21/07/08 13:02:22 INFO DiskBlockManager: Created local directory at /tmp/blockmgr-ef9752a7-fdf7-4533-99dc-1f29be81221a\n",
      "21/07/08 13:02:22 INFO MemoryStore: MemoryStore started with capacity 366.3 MB\n",
      "21/07/08 13:02:22 INFO SparkEnv: Registering OutputCommitCoordinator\n",
      "21/07/08 13:02:22 INFO Utils: Successfully started service 'SparkUI' on port 4040.\n",
      "21/07/08 13:02:22 INFO SparkUI: Bound SparkUI to 0.0.0.0, and started at http://98858bd2f6bb:4040\n",
      "21/07/08 13:02:22 INFO SparkContext: Added JAR file:/home/jovyan/.cache/coursier/v1/https/jitpack.io/com/github/jupyter/jvm-repr/0.4.0/jvm-repr-0.4.0-sources.jar at spark://98858bd2f6bb:34087/jars/jvm-repr-0.4.0-sources.jar with timestamp 1625749342973\n",
      "21/07/08 13:02:22 INFO SparkContext: Added JAR file:/home/jovyan/.cache/coursier/v1/https/jitpack.io/com/github/jupyter/jvm-repr/0.4.0/jvm-repr-0.4.0.jar at spark://98858bd2f6bb:34087/jars/jvm-repr-0.4.0.jar with timestamp 1625749342975\n",
      "21/07/08 13:02:22 INFO SparkContext: Added JAR file:/home/jovyan/.cache/coursier/v1/https/repo1.maven.org/maven2/com/github/scopt/scopt_2.12/3.7.1/scopt_2.12-3.7.1-sources.jar at spark://98858bd2f6bb:34087/jars/scopt_2.12-3.7.1-sources.jar with timestamp 1625749342975\n",
      "21/07/08 13:02:22 INFO SparkContext: Added JAR file:/home/jovyan/.cache/coursier/v1/https/repo1.maven.org/maven2/com/github/scopt/scopt_2.12/3.7.1/scopt_2.12-3.7.1.jar at spark://98858bd2f6bb:34087/jars/scopt_2.12-3.7.1.jar with timestamp 1625749342975\n",
      "21/07/08 13:02:22 INFO SparkContext: Added JAR file:/home/jovyan/.cache/coursier/v1/https/repo1.maven.org/maven2/com/lihaoyi/ammonite-interp-api_2.12.10/1.7.4/ammonite-interp-api_2.12.10-1.7.4-sources.jar at spark://98858bd2f6bb:34087/jars/ammonite-interp-api_2.12.10-1.7.4-sources.jar with timestamp 1625749342976\n",
      "21/07/08 13:02:22 INFO SparkContext: Added JAR file:/home/jovyan/.cache/coursier/v1/https/repo1.maven.org/maven2/com/lihaoyi/ammonite-interp-api_2.12.10/1.7.4/ammonite-interp-api_2.12.10-1.7.4.jar at spark://98858bd2f6bb:34087/jars/ammonite-interp-api_2.12.10-1.7.4.jar with timestamp 1625749342976\n",
      "21/07/08 13:02:22 INFO SparkContext: Added JAR file:/home/jovyan/.cache/coursier/v1/https/repo1.maven.org/maven2/com/lihaoyi/ammonite-ops_2.12/1.7.4/ammonite-ops_2.12-1.7.4-sources.jar at spark://98858bd2f6bb:34087/jars/ammonite-ops_2.12-1.7.4-sources.jar with timestamp 1625749342976\n",
      "21/07/08 13:02:22 INFO SparkContext: Added JAR file:/home/jovyan/.cache/coursier/v1/https/repo1.maven.org/maven2/com/lihaoyi/ammonite-ops_2.12/1.7.4/ammonite-ops_2.12-1.7.4.jar at spark://98858bd2f6bb:34087/jars/ammonite-ops_2.12-1.7.4.jar with timestamp 1625749342976\n",
      "21/07/08 13:02:22 INFO SparkContext: Added JAR file:/home/jovyan/.cache/coursier/v1/https/repo1.maven.org/maven2/com/lihaoyi/ammonite-repl-api_2.12.10/1.7.4/ammonite-repl-api_2.12.10-1.7.4-sources.jar at spark://98858bd2f6bb:34087/jars/ammonite-repl-api_2.12.10-1.7.4-sources.jar with timestamp 1625749342976\n",
      "21/07/08 13:02:22 INFO SparkContext: Added JAR file:/home/jovyan/.cache/coursier/v1/https/repo1.maven.org/maven2/com/lihaoyi/ammonite-repl-api_2.12.10/1.7.4/ammonite-repl-api_2.12.10-1.7.4.jar at spark://98858bd2f6bb:34087/jars/ammonite-repl-api_2.12.10-1.7.4.jar with timestamp 1625749342976\n",
      "21/07/08 13:02:22 INFO SparkContext: Added JAR file:/home/jovyan/.cache/coursier/v1/https/repo1.maven.org/maven2/com/lihaoyi/ammonite-util_2.12/1.7.4/ammonite-util_2.12-1.7.4-sources.jar at spark://98858bd2f6bb:34087/jars/ammonite-util_2.12-1.7.4-sources.jar with timestamp 1625749342977\n",
      "21/07/08 13:02:22 INFO SparkContext: Added JAR file:/home/jovyan/.cache/coursier/v1/https/repo1.maven.org/maven2/com/lihaoyi/ammonite-util_2.12/1.7.4/ammonite-util_2.12-1.7.4.jar at spark://98858bd2f6bb:34087/jars/ammonite-util_2.12-1.7.4.jar with timestamp 1625749342977\n",
      "21/07/08 13:02:22 INFO SparkContext: Added JAR file:/home/jovyan/.cache/coursier/v1/https/repo1.maven.org/maven2/com/lihaoyi/fansi_2.12/0.2.7/fansi_2.12-0.2.7-sources.jar at spark://98858bd2f6bb:34087/jars/fansi_2.12-0.2.7-sources.jar with timestamp 1625749342978\n",
      "21/07/08 13:02:22 INFO SparkContext: Added JAR file:/home/jovyan/.cache/coursier/v1/https/repo1.maven.org/maven2/com/lihaoyi/fansi_2.12/0.2.7/fansi_2.12-0.2.7.jar at spark://98858bd2f6bb:34087/jars/fansi_2.12-0.2.7.jar with timestamp 1625749342978\n",
      "21/07/08 13:02:22 INFO SparkContext: Added JAR file:/home/jovyan/.cache/coursier/v1/https/repo1.maven.org/maven2/com/lihaoyi/geny_2.12/0.1.8/geny_2.12-0.1.8-sources.jar at spark://98858bd2f6bb:34087/jars/geny_2.12-0.1.8-sources.jar with timestamp 1625749342978\n",
      "21/07/08 13:02:22 INFO SparkContext: Added JAR file:/home/jovyan/.cache/coursier/v1/https/repo1.maven.org/maven2/com/lihaoyi/geny_2.12/0.1.8/geny_2.12-0.1.8.jar at spark://98858bd2f6bb:34087/jars/geny_2.12-0.1.8.jar with timestamp 1625749342979\n",
      "21/07/08 13:02:22 INFO SparkContext: Added JAR file:/home/jovyan/.cache/coursier/v1/https/repo1.maven.org/maven2/com/lihaoyi/os-lib_2.12/0.3.0/os-lib_2.12-0.3.0-sources.jar at spark://98858bd2f6bb:34087/jars/os-lib_2.12-0.3.0-sources.jar with timestamp 1625749342979\n",
      "21/07/08 13:02:22 INFO SparkContext: Added JAR file:/home/jovyan/.cache/coursier/v1/https/repo1.maven.org/maven2/com/lihaoyi/os-lib_2.12/0.3.0/os-lib_2.12-0.3.0.jar at spark://98858bd2f6bb:34087/jars/os-lib_2.12-0.3.0.jar with timestamp 1625749342979\n",
      "21/07/08 13:02:22 INFO SparkContext: Added JAR file:/home/jovyan/.cache/coursier/v1/https/repo1.maven.org/maven2/com/lihaoyi/pprint_2.12/0.5.5/pprint_2.12-0.5.5-sources.jar at spark://98858bd2f6bb:34087/jars/pprint_2.12-0.5.5-sources.jar with timestamp 1625749342979\n",
      "21/07/08 13:02:22 INFO SparkContext: Added JAR file:/home/jovyan/.cache/coursier/v1/https/repo1.maven.org/maven2/com/lihaoyi/pprint_2.12/0.5.5/pprint_2.12-0.5.5.jar at spark://98858bd2f6bb:34087/jars/pprint_2.12-0.5.5.jar with timestamp 1625749342979\n",
      "21/07/08 13:02:22 INFO SparkContext: Added JAR file:/home/jovyan/.cache/coursier/v1/https/repo1.maven.org/maven2/com/lihaoyi/sourcecode_2.12/0.1.7/sourcecode_2.12-0.1.7-sources.jar at spark://98858bd2f6bb:34087/jars/sourcecode_2.12-0.1.7-sources.jar with timestamp 1625749342979\n",
      "21/07/08 13:02:22 INFO SparkContext: Added JAR file:/home/jovyan/.cache/coursier/v1/https/repo1.maven.org/maven2/com/lihaoyi/sourcecode_2.12/0.1.7/sourcecode_2.12-0.1.7.jar at spark://98858bd2f6bb:34087/jars/sourcecode_2.12-0.1.7.jar with timestamp 1625749342980\n",
      "21/07/08 13:02:22 INFO SparkContext: Added JAR file:/home/jovyan/.cache/coursier/v1/https/repo1.maven.org/maven2/io/get-coursier/interface/0.0.12/interface-0.0.12-sources.jar at spark://98858bd2f6bb:34087/jars/interface-0.0.12-sources.jar with timestamp 1625749342980\n",
      "21/07/08 13:02:22 INFO SparkContext: Added JAR file:/home/jovyan/.cache/coursier/v1/https/repo1.maven.org/maven2/io/get-coursier/interface/0.0.12/interface-0.0.12.jar at spark://98858bd2f6bb:34087/jars/interface-0.0.12.jar with timestamp 1625749342980\n"
     ]
    },
    {
     "name": "stderr",
     "output_type": "stream",
     "text": [
      "21/07/08 13:02:22 INFO SparkContext: Added JAR file:/home/jovyan/.cache/coursier/v1/https/repo1.maven.org/maven2/org/scala-lang/modules/scala-collection-compat_2.12/2.0.0/scala-collection-compat_2.12-2.0.0-sources.jar at spark://98858bd2f6bb:34087/jars/scala-collection-compat_2.12-2.0.0-sources.jar with timestamp 1625749342980\n",
      "21/07/08 13:02:22 INFO SparkContext: Added JAR file:/home/jovyan/.cache/coursier/v1/https/repo1.maven.org/maven2/org/scala-lang/modules/scala-collection-compat_2.12/2.0.0/scala-collection-compat_2.12-2.0.0.jar at spark://98858bd2f6bb:34087/jars/scala-collection-compat_2.12-2.0.0.jar with timestamp 1625749342981\n",
      "21/07/08 13:02:22 INFO SparkContext: Added JAR file:/home/jovyan/.cache/coursier/v1/https/repo1.maven.org/maven2/org/scala-lang/modules/scala-xml_2.12/1.2.0/scala-xml_2.12-1.2.0-sources.jar at spark://98858bd2f6bb:34087/jars/scala-xml_2.12-1.2.0-sources.jar with timestamp 1625749342981\n",
      "21/07/08 13:02:22 INFO SparkContext: Added JAR file:/home/jovyan/.cache/coursier/v1/https/repo1.maven.org/maven2/org/scala-lang/modules/scala-xml_2.12/1.2.0/scala-xml_2.12-1.2.0.jar at spark://98858bd2f6bb:34087/jars/scala-xml_2.12-1.2.0.jar with timestamp 1625749342982\n",
      "21/07/08 13:02:22 INFO SparkContext: Added JAR file:/home/jovyan/.cache/coursier/v1/https/repo1.maven.org/maven2/org/scala-lang/scala-compiler/2.12.10/scala-compiler-2.12.10-sources.jar at spark://98858bd2f6bb:34087/jars/scala-compiler-2.12.10-sources.jar with timestamp 1625749342982\n",
      "21/07/08 13:02:22 INFO SparkContext: Added JAR file:/home/jovyan/.cache/coursier/v1/https/repo1.maven.org/maven2/org/scala-lang/scala-library/2.12.10/scala-library-2.12.10-sources.jar at spark://98858bd2f6bb:34087/jars/scala-library-2.12.10-sources.jar with timestamp 1625749342982\n",
      "21/07/08 13:02:22 INFO SparkContext: Added JAR file:/home/jovyan/.cache/coursier/v1/https/repo1.maven.org/maven2/org/scala-lang/scala-reflect/2.12.10/scala-reflect-2.12.10-sources.jar at spark://98858bd2f6bb:34087/jars/scala-reflect-2.12.10-sources.jar with timestamp 1625749342983\n",
      "21/07/08 13:02:22 INFO SparkContext: Added JAR file:/home/jovyan/.cache/coursier/v1/https/repo1.maven.org/maven2/sh/almond/interpreter-api_2.12/0.9.1/interpreter-api_2.12-0.9.1-sources.jar at spark://98858bd2f6bb:34087/jars/interpreter-api_2.12-0.9.1-sources.jar with timestamp 1625749342983\n",
      "21/07/08 13:02:22 INFO SparkContext: Added JAR file:/home/jovyan/.cache/coursier/v1/https/repo1.maven.org/maven2/sh/almond/interpreter-api_2.12/0.9.1/interpreter-api_2.12-0.9.1.jar at spark://98858bd2f6bb:34087/jars/interpreter-api_2.12-0.9.1.jar with timestamp 1625749342983\n",
      "21/07/08 13:02:22 INFO SparkContext: Added JAR file:/home/jovyan/.cache/coursier/v1/https/repo1.maven.org/maven2/sh/almond/jupyter-api_2.12/0.9.1/jupyter-api_2.12-0.9.1-sources.jar at spark://98858bd2f6bb:34087/jars/jupyter-api_2.12-0.9.1-sources.jar with timestamp 1625749342984\n",
      "21/07/08 13:02:22 INFO SparkContext: Added JAR file:/home/jovyan/.cache/coursier/v1/https/repo1.maven.org/maven2/sh/almond/jupyter-api_2.12/0.9.1/jupyter-api_2.12-0.9.1.jar at spark://98858bd2f6bb:34087/jars/jupyter-api_2.12-0.9.1.jar with timestamp 1625749342984\n",
      "21/07/08 13:02:22 INFO SparkContext: Added JAR file:/home/jovyan/.cache/coursier/v1/https/repo1.maven.org/maven2/sh/almond/scala-kernel-api_2.12.10/0.9.1/scala-kernel-api_2.12.10-0.9.1-sources.jar at spark://98858bd2f6bb:34087/jars/scala-kernel-api_2.12.10-0.9.1-sources.jar with timestamp 1625749342984\n",
      "21/07/08 13:02:22 INFO SparkContext: Added JAR file:/home/jovyan/.cache/coursier/v1/https/repo1.maven.org/maven2/sh/almond/scala-kernel-api_2.12.10/0.9.1/scala-kernel-api_2.12.10-0.9.1.jar at spark://98858bd2f6bb:34087/jars/scala-kernel-api_2.12.10-0.9.1.jar with timestamp 1625749342984\n",
      "21/07/08 13:02:22 INFO SparkContext: Added JAR file:/home/jovyan/.local/share/jupyter/kernels/scala212/launcher.jar at spark://98858bd2f6bb:34087/jars/launcher.jar with timestamp 1625749342985\n",
      "21/07/08 13:02:22 INFO SparkContext: Added JAR file:/home/jovyan/.cache/coursier/v1/https/repo1.maven.org/maven2/org/scala-lang/scala-reflect/2.12.1/scala-reflect-2.12.1.jar at spark://98858bd2f6bb:34087/jars/scala-reflect-2.12.1.jar with timestamp 1625749342985\n",
      "21/07/08 13:02:22 INFO SparkContext: Added JAR file:/home/jovyan/.cache/coursier/v1/https/repo1.maven.org/maven2/org/plotly-scala/plotly-core_2.12/0.8.1/plotly-core_2.12-0.8.1.jar at spark://98858bd2f6bb:34087/jars/plotly-core_2.12-0.8.1.jar with timestamp 1625749342985\n",
      "21/07/08 13:02:22 INFO SparkContext: Added JAR file:/home/jovyan/.cache/coursier/v1/https/repo1.maven.org/maven2/org/plotly-scala/plotly-render_2.12/0.8.1/plotly-render_2.12-0.8.1.jar at spark://98858bd2f6bb:34087/jars/plotly-render_2.12-0.8.1.jar with timestamp 1625749342986\n",
      "21/07/08 13:02:22 INFO SparkContext: Added JAR file:/home/jovyan/.cache/coursier/v1/https/repo1.maven.org/maven2/org/plotly-scala/plotly-almond_2.12/0.8.1/plotly-almond_2.12-0.8.1.jar at spark://98858bd2f6bb:34087/jars/plotly-almond_2.12-0.8.1.jar with timestamp 1625749342986\n",
      "21/07/08 13:02:22 INFO SparkContext: Added JAR file:/home/jovyan/.cache/coursier/v1/https/repo1.maven.org/maven2/org/webjars/bower/plotly.js/1.52.2/plotly.js-1.52.2.jar at spark://98858bd2f6bb:34087/jars/plotly.js-1.52.2.jar with timestamp 1625749342986\n",
      "21/07/08 13:02:22 INFO SparkContext: Added JAR file:/home/jovyan/.cache/coursier/v1/https/repo1.maven.org/maven2/org/scala-lang/scala-library/2.12.11/scala-library-2.12.11.jar at spark://98858bd2f6bb:34087/jars/scala-library-2.12.11.jar with timestamp 1625749342986\n",
      "21/07/08 13:02:22 INFO SparkContext: Added JAR file:/home/jovyan/.cache/coursier/v1/https/repo1.maven.org/maven2/org/scala-lang/scala-reflect/2.12.11/scala-reflect-2.12.11.jar at spark://98858bd2f6bb:34087/jars/scala-reflect-2.12.11.jar with timestamp 1625749342986\n",
      "21/07/08 13:02:22 INFO SparkContext: Added JAR file:/home/jovyan/.cache/coursier/v1/https/repo1.maven.org/maven2/com/fasterxml/jackson/core/jackson-annotations/2.9.9/jackson-annotations-2.9.9.jar at spark://98858bd2f6bb:34087/jars/jackson-annotations-2.9.9.jar with timestamp 1625749342987\n",
      "21/07/08 13:02:22 INFO SparkContext: Added JAR file:/home/jovyan/.cache/coursier/v1/https/repo1.maven.org/maven2/com/squareup/moshi/moshi/1.5.0/moshi-1.5.0.jar at spark://98858bd2f6bb:34087/jars/moshi-1.5.0.jar with timestamp 1625749342987\n",
      "21/07/08 13:02:22 INFO SparkContext: Added JAR file:/home/jovyan/.cache/coursier/v1/https/repo1.maven.org/maven2/com/squareup/retrofit2/converter-moshi/2.4.0/converter-moshi-2.4.0.jar at spark://98858bd2f6bb:34087/jars/converter-moshi-2.4.0.jar with timestamp 1625749342987\n",
      "21/07/08 13:02:22 INFO SparkContext: Added JAR file:/home/jovyan/.cache/coursier/v1/https/repo1.maven.org/maven2/ch/cern/sparkmeasure/spark-measure_2.12/0.17/spark-measure_2.12-0.17.jar at spark://98858bd2f6bb:34087/jars/spark-measure_2.12-0.17.jar with timestamp 1625749342987\n",
      "21/07/08 13:02:22 INFO SparkContext: Added JAR file:/home/jovyan/.cache/coursier/v1/https/repo1.maven.org/maven2/org/msgpack/msgpack-core/0.8.16/msgpack-core-0.8.16.jar at spark://98858bd2f6bb:34087/jars/msgpack-core-0.8.16.jar with timestamp 1625749342987\n",
      "21/07/08 13:02:22 INFO SparkContext: Added JAR file:/home/jovyan/.cache/coursier/v1/https/repo1.maven.org/maven2/com/fasterxml/jackson/core/jackson-databind/2.9.9/jackson-databind-2.9.9.jar at spark://98858bd2f6bb:34087/jars/jackson-databind-2.9.9.jar with timestamp 1625749342988\n",
      "21/07/08 13:02:22 INFO SparkContext: Added JAR file:/home/jovyan/.cache/coursier/v1/https/repo1.maven.org/maven2/org/slf4j/slf4j-api/1.7.26/slf4j-api-1.7.26.jar at spark://98858bd2f6bb:34087/jars/slf4j-api-1.7.26.jar with timestamp 1625749342988\n",
      "21/07/08 13:02:22 INFO SparkContext: Added JAR file:/home/jovyan/.cache/coursier/v1/https/repo1.maven.org/maven2/org/influxdb/influxdb-java/2.14/influxdb-java-2.14.jar at spark://98858bd2f6bb:34087/jars/influxdb-java-2.14.jar with timestamp 1625749342988\n",
      "21/07/08 13:02:22 INFO SparkContext: Added JAR file:/home/jovyan/.cache/coursier/v1/https/repo1.maven.org/maven2/com/squareup/okhttp3/okhttp/3.11.0/okhttp-3.11.0.jar at spark://98858bd2f6bb:34087/jars/okhttp-3.11.0.jar with timestamp 1625749342988\n",
      "21/07/08 13:02:22 INFO SparkContext: Added JAR file:/home/jovyan/.cache/coursier/v1/https/repo1.maven.org/maven2/com/squareup/retrofit2/retrofit/2.4.0/retrofit-2.4.0.jar at spark://98858bd2f6bb:34087/jars/retrofit-2.4.0.jar with timestamp 1625749342988\n"
     ]
    },
    {
     "name": "stderr",
     "output_type": "stream",
     "text": [
      "21/07/08 13:02:22 INFO SparkContext: Added JAR file:/home/jovyan/.cache/coursier/v1/https/repo1.maven.org/maven2/com/fasterxml/jackson/module/jackson-module-scala_2.12/2.9.9/jackson-module-scala_2.12-2.9.9.jar at spark://98858bd2f6bb:34087/jars/jackson-module-scala_2.12-2.9.9.jar with timestamp 1625749342989\n",
      "21/07/08 13:02:22 INFO SparkContext: Added JAR file:/home/jovyan/.cache/coursier/v1/https/repo1.maven.org/maven2/com/fasterxml/jackson/module/jackson-module-paranamer/2.9.9/jackson-module-paranamer-2.9.9.jar at spark://98858bd2f6bb:34087/jars/jackson-module-paranamer-2.9.9.jar with timestamp 1625749342989\n",
      "21/07/08 13:02:22 INFO SparkContext: Added JAR file:/home/jovyan/.cache/coursier/v1/https/repo1.maven.org/maven2/com/squareup/okhttp3/logging-interceptor/3.11.0/logging-interceptor-3.11.0.jar at spark://98858bd2f6bb:34087/jars/logging-interceptor-3.11.0.jar with timestamp 1625749342989\n",
      "21/07/08 13:02:22 INFO SparkContext: Added JAR file:/home/jovyan/.cache/coursier/v1/https/repo1.maven.org/maven2/com/squareup/okio/okio/1.14.0/okio-1.14.0.jar at spark://98858bd2f6bb:34087/jars/okio-1.14.0.jar with timestamp 1625749342989\n",
      "21/07/08 13:02:22 INFO SparkContext: Added JAR file:/home/jovyan/.cache/coursier/v1/https/repo1.maven.org/maven2/com/fasterxml/jackson/core/jackson-core/2.9.9/jackson-core-2.9.9.jar at spark://98858bd2f6bb:34087/jars/jackson-core-2.9.9.jar with timestamp 1625749342989\n",
      "21/07/08 13:02:23 INFO Executor: Starting executor ID driver on host localhost\n",
      "21/07/08 13:02:23 INFO Executor: Using REPL class URI: http://172.17.0.2:37861\n",
      "21/07/08 13:02:23 INFO Utils: Successfully started service 'org.apache.spark.network.netty.NettyBlockTransferService' on port 45427.\n",
      "21/07/08 13:02:23 INFO NettyBlockTransferService: Server created on 98858bd2f6bb:45427\n",
      "21/07/08 13:02:23 INFO BlockManager: Using org.apache.spark.storage.RandomBlockReplicationPolicy for block replication policy\n",
      "21/07/08 13:02:23 INFO BlockManagerMaster: Registering BlockManager BlockManagerId(driver, 98858bd2f6bb, 45427, None)\n",
      "21/07/08 13:02:23 INFO BlockManagerMasterEndpoint: Registering block manager 98858bd2f6bb:45427 with 366.3 MB RAM, BlockManagerId(driver, 98858bd2f6bb, 45427, None)\n",
      "21/07/08 13:02:23 INFO BlockManagerMaster: Registered BlockManager BlockManagerId(driver, 98858bd2f6bb, 45427, None)\n",
      "21/07/08 13:02:23 INFO BlockManager: Initialized BlockManager: BlockManagerId(driver, 98858bd2f6bb, 45427, None)\n"
     ]
    },
    {
     "data": {
      "text/html": [
       "<a target=\"_blank\" href=\"http://98858bd2f6bb:4040\">Spark UI</a>"
      ]
     },
     "metadata": {},
     "output_type": "display_data"
    },
    {
     "data": {
      "text/plain": [
       "\u001b[32mimport \u001b[39m\u001b[36m$file.$     \n",
       "\u001b[39m\n",
       "\u001b[32mimport \u001b[39m\u001b[36mspark._\n",
       "\u001b[39m\n",
       "\u001b[32mimport \u001b[39m\u001b[36mcommon._\n",
       "\u001b[39m\n",
       "\u001b[32mimport \u001b[39m\u001b[36morg.apache.spark.sql.functions._\n",
       "\u001b[39m\n",
       "\u001b[32mimport \u001b[39m\u001b[36morg.apache.spark.sql.types.{IntegerType, StringType, StructType}\n",
       "\u001b[39m\n",
       "\u001b[32mimport \u001b[39m\u001b[36mspark.implicits._\n",
       "\u001b[39m\n",
       "\u001b[32mimport \u001b[39m\u001b[36mspark.sqlContext.implicits._\u001b[39m"
      ]
     },
     "execution_count": 1,
     "metadata": {},
     "output_type": "execute_result"
    }
   ],
   "source": [
    "import $file.common\n",
    "import spark._\n",
    "import common._\n",
    "import org.apache.spark.sql.functions._\n",
    "import org.apache.spark.sql.types.{IntegerType, StringType, StructType}\n",
    "import spark.implicits._\n",
    "import spark.sqlContext.implicits._"
   ]
  },
  {
   "cell_type": "code",
   "execution_count": 2,
   "metadata": {},
   "outputs": [
    {
     "data": {
      "text/plain": [
       "\u001b[32mimport \u001b[39m\u001b[36mplotly._\n",
       "\u001b[39m\n",
       "\u001b[32mimport \u001b[39m\u001b[36mplotly.element._\n",
       "\u001b[39m\n",
       "\u001b[32mimport \u001b[39m\u001b[36mplotly.layout._\n",
       "\u001b[39m\n",
       "\u001b[32mimport \u001b[39m\u001b[36mplotly.Almond._\u001b[39m"
      ]
     },
     "execution_count": 2,
     "metadata": {},
     "output_type": "execute_result"
    }
   ],
   "source": [
    "import plotly._\n",
    "import plotly.element._\n",
    "import plotly.layout._\n",
    "import plotly.Almond._"
   ]
  },
  {
   "cell_type": "markdown",
   "metadata": {},
   "source": [
    "# Query 3 y 4:\n",
    "\n",
    "Se han unificado estas consultas porque comparten gran parte de su construcción y trabajan sobre los mismos conjuntos de datos. En estas consultas se trabaja con los datasets de infecciones diarias reportadas por país y con las tablas de datos demográficos.\n",
    "\n",
    "### Query 3: Infecciones por número de habitante\n",
    "\n",
    "El objetivo de esta consulta es determinar el número de infecciones con respecto a la densidad de población por país. Para ello:\n",
    "\n",
    "    - Se cruzan los datos entre las infecciones diarias y los datos demográficos por país.\n",
    "    - Se obtiene la tasa de casos entre el número de habitantes para cada día.\n",
    "    - Se calcula la media de infectados por densidad de población.\n",
    "    \n",
    "De esta manera podremos observar la media de infectados diarios por densidad de población.\n",
    "\n",
    "### Query 4: Tasa diaria de infectados\n",
    "\n",
    "Esta consulta es similar a la anterior, pero obtiene la tasa de infecciones diarias, de manera que podamos acceder a las fechas más criticas de la enfermedad por país. Para ello:\n",
    "\n",
    "    - Se cruzan los datos entre las infecciones diarias y los datos demográficos por país.\n",
    "    - Se obtiene la tasa de casos entre el número de habitantes para cada día.\n",
    "    - Se ordenan los datos en funcion de la fecha\n",
    "    \n",
    "Así podremos observar la evolución de la enfermedad con respecto al calendario\n"
   ]
  },
  {
   "cell_type": "markdown",
   "metadata": {},
   "source": [
    "## 1. Consulta con DataSet"
   ]
  },
  {
   "cell_type": "code",
   "execution_count": 17,
   "metadata": {},
   "outputs": [],
   "source": [
    "spark.conf.set(\"spark.sql.shuffle.partitions\", 8)"
   ]
  },
  {
   "cell_type": "code",
   "execution_count": 3,
   "metadata": {},
   "outputs": [
    {
     "data": {
      "text/plain": [
       "defined \u001b[32mfunction\u001b[39m \u001b[36minfectionDS\u001b[39m"
      ]
     },
     "execution_count": 3,
     "metadata": {},
     "output_type": "execute_result"
    }
   ],
   "source": [
    "def infectionDS = spark.read\n",
    "    .option(\"header\", \"true\")\n",
    "    .option(\"charset\", \"UTF8\")\n",
    "    .option(\"delimiter\",\",\")\n",
    "    .option(\"inferSchema\", \"true\")\n",
    "    .csv(\"../datasets/covidworldwide.csv\")\n",
    "    .withColumnRenamed(\"countriesAndTerritories\",\"Country\")\n",
    "    .as[(String,String,String,String,Double,Double,String,String,String,String,String,String)]"
   ]
  },
  {
   "cell_type": "code",
   "execution_count": 4,
   "metadata": {},
   "outputs": [
    {
     "data": {
      "text/plain": [
       "defined \u001b[32mfunction\u001b[39m \u001b[36mpopulationDS\u001b[39m"
      ]
     },
     "execution_count": 4,
     "metadata": {},
     "output_type": "execute_result"
    }
   ],
   "source": [
    "def populationDS = spark.read\n",
    "    .option(\"header\", \"true\")\n",
    "    .option(\"charset\", \"UTF8\")\n",
    "    .option(\"delimiter\",\",\")\n",
    "    .option(\"inferSchema\", \"true\")\n",
    "    .csv(\"../datasets/population_by_country_2020.csv\")\n",
    "    .withColumnRenamed(\"Country (or dependency)\",\"Country\")\n",
    "    .withColumnRenamed(\"Population (2020)\",\"Population\")\n",
    "    .as[(String,Float,String,Float,Float,Float,Double,String,String,String,String)]"
   ]
  },
  {
   "cell_type": "code",
   "execution_count": 5,
   "metadata": {},
   "outputs": [
    {
     "data": {
      "text/plain": [
       "defined \u001b[32mfunction\u001b[39m \u001b[36mdsCovidClean\u001b[39m"
      ]
     },
     "execution_count": 5,
     "metadata": {},
     "output_type": "execute_result"
    }
   ],
   "source": [
    "def dsCovidClean = infectionDS\n",
    "    .select($\"*\",$\"dateRep\",translate($\"dateRep\",\"/\",\"-\").as(\"date\"))\n",
    "    .drop(\"dateRep\")\n",
    "    .select($\"*\",col(\"date\"),to_date(col(\"date\"),\"dd-MM-yyyy\")\n",
    "            .as(\"to_date\"))"
   ]
  },
  {
   "cell_type": "markdown",
   "metadata": {},
   "source": [
    "### 1.1 Media diaria de infecciones por número de habitante"
   ]
  },
  {
   "cell_type": "code",
   "execution_count": 6,
   "metadata": {},
   "outputs": [
    {
     "data": {
      "text/plain": [
       "defined \u001b[32mfunction\u001b[39m \u001b[36mquery_3_DS\u001b[39m"
      ]
     },
     "execution_count": 6,
     "metadata": {},
     "output_type": "execute_result"
    }
   ],
   "source": [
    "def query_3_DS = \n",
    "    infectionDS.join(populationDS, \"Country\")\n",
    "            .select($\"Country\",\n",
    "                    $\"dateRep\" as \"date\",\n",
    "                    $\"cases\" / $\"Population\" as \"infection Per Population\")\n",
    "            .groupBy(\"country\")\n",
    "            .avg(\"infection Per Population\")\n",
    "            .orderBy(desc(\"avg(infection Per Population)\"))\n",
    "            .as[(String,Double)]"
   ]
  },
  {
   "cell_type": "markdown",
   "metadata": {},
   "source": [
    "### 1.2 Porcentaje diario de infectados"
   ]
  },
  {
   "cell_type": "code",
   "execution_count": 7,
   "metadata": {},
   "outputs": [
    {
     "data": {
      "text/plain": [
       "defined \u001b[32mfunction\u001b[39m \u001b[36mquery_4_DS\u001b[39m"
      ]
     },
     "execution_count": 7,
     "metadata": {},
     "output_type": "execute_result"
    }
   ],
   "source": [
    "def query_4_DS = \n",
    "    dsCovidClean.join(populationDS, \"Country\")\n",
    "            .select($\"Country\",\n",
    "                    $\"to_date\",\n",
    "                    $\"cases\",\n",
    "                    $\"Population\",\n",
    "                    $\"cases\" / $\"Population\" as \"infection Per Population\")\n",
    "            .orderBy($\"to_date\".asc)\n",
    "            .as[(String,java.sql.Timestamp,Int,Int,Double)]"
   ]
  },
  {
   "cell_type": "markdown",
   "metadata": {},
   "source": [
    "## 2 Consulta con DataFrame"
   ]
  },
  {
   "cell_type": "code",
   "execution_count": 8,
   "metadata": {},
   "outputs": [
    {
     "data": {
      "text/plain": [
       "defined \u001b[32mfunction\u001b[39m \u001b[36mdfCovid\u001b[39m"
      ]
     },
     "execution_count": 8,
     "metadata": {},
     "output_type": "execute_result"
    }
   ],
   "source": [
    "def dfCovid = spark.read\n",
    "    .option(\"header\", \"true\")\n",
    "    .option(\"charset\", \"UTF8\")\n",
    "    .csv(\"../datasets/covidworldwide.csv\")"
   ]
  },
  {
   "cell_type": "code",
   "execution_count": 9,
   "metadata": {},
   "outputs": [
    {
     "data": {
      "text/plain": [
       "defined \u001b[32mfunction\u001b[39m \u001b[36mdfPopulation\u001b[39m"
      ]
     },
     "execution_count": 9,
     "metadata": {},
     "output_type": "execute_result"
    }
   ],
   "source": [
    "def dfPopulation = spark.read\n",
    "    .option(\"header\", \"true\")\n",
    "    .option(\"charset\", \"UTF8\")\n",
    "    .csv(\"../datasets/population_by_country_2020.csv\")\n",
    "    .withColumnRenamed(\"Country (or dependency)\",\"Country\")\n",
    "    .withColumnRenamed(\"Population (2020)\",\"Population\")"
   ]
  },
  {
   "cell_type": "markdown",
   "metadata": {},
   "source": [
    "Modifico los datos de entrada para que el formato fecha se adecue al TimeStamp de Spark"
   ]
  },
  {
   "cell_type": "code",
   "execution_count": 10,
   "metadata": {},
   "outputs": [
    {
     "data": {
      "text/plain": [
       "defined \u001b[32mfunction\u001b[39m \u001b[36mdfCovidClean\u001b[39m"
      ]
     },
     "execution_count": 10,
     "metadata": {},
     "output_type": "execute_result"
    }
   ],
   "source": [
    "def dfCovidClean = dfCovid\n",
    "    .select($\"*\",$\"dateRep\",translate($\"dateRep\",\"/\",\"-\").as(\"date\"))\n",
    "    .drop(\"dateRep\")"
   ]
  },
  {
   "cell_type": "code",
   "execution_count": 11,
   "metadata": {},
   "outputs": [
    {
     "data": {
      "text/plain": [
       "defined \u001b[32mfunction\u001b[39m \u001b[36mdfCovidDate\u001b[39m"
      ]
     },
     "execution_count": 11,
     "metadata": {},
     "output_type": "execute_result"
    }
   ],
   "source": [
    "def dfCovidDate = dfCovidClean\n",
    "    .select($\"*\",col(\"date\"),to_date(col(\"date\"),\"dd-MM-yyyy\").as(\"to_date\"))"
   ]
  },
  {
   "cell_type": "markdown",
   "metadata": {},
   "source": [
    "### 2.1 Media diaria de infecciones por número de habitante"
   ]
  },
  {
   "cell_type": "code",
   "execution_count": 12,
   "metadata": {},
   "outputs": [
    {
     "data": {
      "text/plain": [
       "defined \u001b[32mfunction\u001b[39m \u001b[36mquery_3_DF\u001b[39m"
      ]
     },
     "execution_count": 12,
     "metadata": {},
     "output_type": "execute_result"
    }
   ],
   "source": [
    "def query_3_DF = dfCovid.join(dfPopulation, $\"country\" === $\"countriesAndTerritories\")\n",
    "        .select($\"country\",\n",
    "                $\"dateRep\" as \"date\",\n",
    "                $\"cases\" / $\"Population\" as \"infection Per Population\")\n",
    "        .groupBy(\"country\")\n",
    "        .avg(\"infection Per Population\")\n",
    "        .orderBy(desc(\"avg(infection Per Population)\"))"
   ]
  },
  {
   "cell_type": "markdown",
   "metadata": {},
   "source": [
    "### 2.2 Porcentaje diario de infectados"
   ]
  },
  {
   "cell_type": "code",
   "execution_count": 13,
   "metadata": {},
   "outputs": [
    {
     "data": {
      "text/plain": [
       "defined \u001b[32mfunction\u001b[39m \u001b[36mquery_4_DF\u001b[39m"
      ]
     },
     "execution_count": 13,
     "metadata": {},
     "output_type": "execute_result"
    }
   ],
   "source": [
    "def query_4_DF =\n",
    "dfCovidDate.join(dfPopulation, $\"country\" === $\"countriesAndTerritories\")\n",
    "        .select($\"country\",\n",
    "                $\"to_date\",\n",
    "                $\"cases\",\n",
    "                $\"Population\",\n",
    "                $\"cases\" / $\"Population\" as \"infection Per Population\")\n",
    "        .orderBy($\"to_date\".asc)"
   ]
  },
  {
   "cell_type": "markdown",
   "metadata": {},
   "source": [
    "## 3. Visualización de rendimiento"
   ]
  },
  {
   "cell_type": "code",
   "execution_count": 18,
   "metadata": {
    "scrolled": false
   },
   "outputs": [
    {
     "data": {
      "text/html": [
       "<div>\n",
       "  <span style=\"float: left;\">csv at cmd2.sc:6</span>\n",
       "</div>\n"
      ]
     },
     "metadata": {},
     "output_type": "display_data"
    },
    {
     "data": {
      "text/html": [
       "<div class=\"progress\">\n",
       "  <div class=\"progress-bar\" role=\"progressbar\" style=\"background-color: blue; width: 100%; word-wrap: normal; white-space: nowrap; text-align: center; color: white\" aria-valuenow=\"100\" aria-valuemin=\"0\" aria-valuemax=\"100\">\n",
       "    1 / 1\n",
       "  </div>\n",
       "  <div class=\"progress-bar\" role=\"progressbar\" style=\"background-color: red; width: 0%\" aria-valuenow=\"0\" aria-valuemin=\"0\" aria-valuemax=\"100\"></div>\n",
       "</div>\n"
      ]
     },
     "metadata": {},
     "output_type": "display_data"
    },
    {
     "data": {
      "text/html": [
       "<div>\n",
       "  <span style=\"float: left;\">csv at cmd2.sc:6</span>\n",
       "</div>\n"
      ]
     },
     "metadata": {},
     "output_type": "display_data"
    },
    {
     "data": {
      "text/html": [
       "<div class=\"progress\">\n",
       "  <div class=\"progress-bar\" role=\"progressbar\" style=\"background-color: blue; width: 100%; word-wrap: normal; white-space: nowrap; text-align: center; color: white\" aria-valuenow=\"100\" aria-valuemin=\"0\" aria-valuemax=\"100\">\n",
       "    2 / 2\n",
       "  </div>\n",
       "  <div class=\"progress-bar\" role=\"progressbar\" style=\"background-color: red; width: 0%\" aria-valuenow=\"0\" aria-valuemin=\"0\" aria-valuemax=\"100\"></div>\n",
       "</div>\n"
      ]
     },
     "metadata": {},
     "output_type": "display_data"
    },
    {
     "data": {
      "text/html": [
       "<div>\n",
       "  <span style=\"float: left;\">csv at cmd3.sc:6</span>\n",
       "</div>\n"
      ]
     },
     "metadata": {},
     "output_type": "display_data"
    },
    {
     "data": {
      "text/html": [
       "<div class=\"progress\">\n",
       "  <div class=\"progress-bar\" role=\"progressbar\" style=\"background-color: blue; width: 100%; word-wrap: normal; white-space: nowrap; text-align: center; color: white\" aria-valuenow=\"100\" aria-valuemin=\"0\" aria-valuemax=\"100\">\n",
       "    1 / 1\n",
       "  </div>\n",
       "  <div class=\"progress-bar\" role=\"progressbar\" style=\"background-color: red; width: 0%\" aria-valuenow=\"0\" aria-valuemin=\"0\" aria-valuemax=\"100\"></div>\n",
       "</div>\n"
      ]
     },
     "metadata": {},
     "output_type": "display_data"
    },
    {
     "data": {
      "text/html": [
       "<div>\n",
       "  <span style=\"float: left;\">csv at cmd3.sc:6</span>\n",
       "</div>\n"
      ]
     },
     "metadata": {},
     "output_type": "display_data"
    },
    {
     "data": {
      "text/html": [
       "<div class=\"progress\">\n",
       "  <div class=\"progress-bar\" role=\"progressbar\" style=\"background-color: blue; width: 100%; word-wrap: normal; white-space: nowrap; text-align: center; color: white\" aria-valuenow=\"100\" aria-valuemin=\"0\" aria-valuemax=\"100\">\n",
       "    1 / 1\n",
       "  </div>\n",
       "  <div class=\"progress-bar\" role=\"progressbar\" style=\"background-color: red; width: 0%\" aria-valuenow=\"0\" aria-valuemin=\"0\" aria-valuemax=\"100\"></div>\n",
       "</div>\n"
      ]
     },
     "metadata": {},
     "output_type": "display_data"
    },
    {
     "data": {
      "text/html": [
       "<div>\n",
       "  <span style=\"float: left;\">run at ThreadPoolExecutor.java:1149</span>\n",
       "</div>\n"
      ]
     },
     "metadata": {},
     "output_type": "display_data"
    },
    {
     "data": {
      "text/html": [
       "<div class=\"progress\">\n",
       "  <div class=\"progress-bar\" role=\"progressbar\" style=\"background-color: blue; width: 100%; word-wrap: normal; white-space: nowrap; text-align: center; color: white\" aria-valuenow=\"100\" aria-valuemin=\"0\" aria-valuemax=\"100\">\n",
       "    1 / 1\n",
       "  </div>\n",
       "  <div class=\"progress-bar\" role=\"progressbar\" style=\"background-color: red; width: 0%\" aria-valuenow=\"0\" aria-valuemin=\"0\" aria-valuemax=\"100\"></div>\n",
       "</div>\n"
      ]
     },
     "metadata": {},
     "output_type": "display_data"
    },
    {
     "data": {
      "text/html": [
       "<div>\n",
       "  <span style=\"float: left;\">collect at cmd17.sc:2</span>\n",
       "</div>\n"
      ]
     },
     "metadata": {},
     "output_type": "display_data"
    },
    {
     "data": {
      "text/html": [
       "<div class=\"progress\">\n",
       "  <div class=\"progress-bar\" role=\"progressbar\" style=\"background-color: blue; width: 100%; word-wrap: normal; white-space: nowrap; text-align: center; color: white\" aria-valuenow=\"100\" aria-valuemin=\"0\" aria-valuemax=\"100\">\n",
       "    2 / 2\n",
       "  </div>\n",
       "  <div class=\"progress-bar\" role=\"progressbar\" style=\"background-color: red; width: 0%\" aria-valuenow=\"0\" aria-valuemin=\"0\" aria-valuemax=\"100\"></div>\n",
       "</div>\n"
      ]
     },
     "metadata": {},
     "output_type": "display_data"
    },
    {
     "data": {
      "text/html": [
       "<div>\n",
       "  <span style=\"float: left;\">collect at cmd17.sc:2</span>\n",
       "</div>\n"
      ]
     },
     "metadata": {},
     "output_type": "display_data"
    },
    {
     "data": {
      "text/html": [
       "<div class=\"progress\">\n",
       "  <div class=\"progress-bar\" role=\"progressbar\" style=\"background-color: blue; width: 100%; word-wrap: normal; white-space: nowrap; text-align: center; color: white\" aria-valuenow=\"100\" aria-valuemin=\"0\" aria-valuemax=\"100\">\n",
       "    8 / 8\n",
       "  </div>\n",
       "  <div class=\"progress-bar\" role=\"progressbar\" style=\"background-color: red; width: 0%\" aria-valuenow=\"0\" aria-valuemin=\"0\" aria-valuemax=\"100\"></div>\n",
       "</div>\n"
      ]
     },
     "metadata": {},
     "output_type": "display_data"
    },
    {
     "data": {
      "text/html": [
       "<div>\n",
       "  <span style=\"float: left;\">collect at cmd17.sc:2</span>\n",
       "</div>\n"
      ]
     },
     "metadata": {},
     "output_type": "display_data"
    },
    {
     "data": {
      "text/html": [
       "<div class=\"progress\">\n",
       "  <div class=\"progress-bar\" role=\"progressbar\" style=\"background-color: blue; width: 100%; word-wrap: normal; white-space: nowrap; text-align: center; color: white\" aria-valuenow=\"100\" aria-valuemin=\"0\" aria-valuemax=\"100\">\n",
       "    8 / 8\n",
       "  </div>\n",
       "  <div class=\"progress-bar\" role=\"progressbar\" style=\"background-color: red; width: 0%\" aria-valuenow=\"0\" aria-valuemin=\"0\" aria-valuemax=\"100\"></div>\n",
       "</div>\n"
      ]
     },
     "metadata": {},
     "output_type": "display_data"
    },
    {
     "data": {
      "text/html": [
       "<div>\n",
       "  <span style=\"float: left;\">collect at cmd17.sc:2</span>\n",
       "</div>\n"
      ]
     },
     "metadata": {},
     "output_type": "display_data"
    },
    {
     "data": {
      "text/html": [
       "<div class=\"progress\">\n",
       "  <div class=\"progress-bar\" role=\"progressbar\" style=\"background-color: blue; width: 100%; word-wrap: normal; white-space: nowrap; text-align: center; color: white\" aria-valuenow=\"100\" aria-valuemin=\"0\" aria-valuemax=\"100\">\n",
       "    8 / 8\n",
       "  </div>\n",
       "  <div class=\"progress-bar\" role=\"progressbar\" style=\"background-color: red; width: 0%\" aria-valuenow=\"0\" aria-valuemin=\"0\" aria-valuemax=\"100\"></div>\n",
       "</div>\n"
      ]
     },
     "metadata": {},
     "output_type": "display_data"
    },
    {
     "name": "stdout",
     "output_type": "stream",
     "text": [
      "Took 1711\n"
     ]
    },
    {
     "data": {
      "text/html": [
       "<div>\n",
       "  <span style=\"float: left;\">csv at cmd2.sc:6</span>\n",
       "</div>\n"
      ]
     },
     "metadata": {},
     "output_type": "display_data"
    },
    {
     "data": {
      "text/html": [
       "<div class=\"progress\">\n",
       "  <div class=\"progress-bar\" role=\"progressbar\" style=\"background-color: blue; width: 100%; word-wrap: normal; white-space: nowrap; text-align: center; color: white\" aria-valuenow=\"100\" aria-valuemin=\"0\" aria-valuemax=\"100\">\n",
       "    1 / 1\n",
       "  </div>\n",
       "  <div class=\"progress-bar\" role=\"progressbar\" style=\"background-color: red; width: 0%\" aria-valuenow=\"0\" aria-valuemin=\"0\" aria-valuemax=\"100\"></div>\n",
       "</div>\n"
      ]
     },
     "metadata": {},
     "output_type": "display_data"
    },
    {
     "data": {
      "text/html": [
       "<div>\n",
       "  <span style=\"float: left;\">csv at cmd2.sc:6</span>\n",
       "</div>\n"
      ]
     },
     "metadata": {},
     "output_type": "display_data"
    },
    {
     "data": {
      "text/html": [
       "<div class=\"progress\">\n",
       "  <div class=\"progress-bar\" role=\"progressbar\" style=\"background-color: blue; width: 100%; word-wrap: normal; white-space: nowrap; text-align: center; color: white\" aria-valuenow=\"100\" aria-valuemin=\"0\" aria-valuemax=\"100\">\n",
       "    2 / 2\n",
       "  </div>\n",
       "  <div class=\"progress-bar\" role=\"progressbar\" style=\"background-color: red; width: 0%\" aria-valuenow=\"0\" aria-valuemin=\"0\" aria-valuemax=\"100\"></div>\n",
       "</div>\n"
      ]
     },
     "metadata": {},
     "output_type": "display_data"
    },
    {
     "data": {
      "text/html": [
       "<div>\n",
       "  <span style=\"float: left;\">csv at cmd3.sc:6</span>\n",
       "</div>\n"
      ]
     },
     "metadata": {},
     "output_type": "display_data"
    },
    {
     "data": {
      "text/html": [
       "<div class=\"progress\">\n",
       "  <div class=\"progress-bar\" role=\"progressbar\" style=\"background-color: blue; width: 100%; word-wrap: normal; white-space: nowrap; text-align: center; color: white\" aria-valuenow=\"100\" aria-valuemin=\"0\" aria-valuemax=\"100\">\n",
       "    1 / 1\n",
       "  </div>\n",
       "  <div class=\"progress-bar\" role=\"progressbar\" style=\"background-color: red; width: 0%\" aria-valuenow=\"0\" aria-valuemin=\"0\" aria-valuemax=\"100\"></div>\n",
       "</div>\n"
      ]
     },
     "metadata": {},
     "output_type": "display_data"
    },
    {
     "data": {
      "text/html": [
       "<div>\n",
       "  <span style=\"float: left;\">csv at cmd3.sc:6</span>\n",
       "</div>\n"
      ]
     },
     "metadata": {},
     "output_type": "display_data"
    },
    {
     "data": {
      "text/html": [
       "<div class=\"progress\">\n",
       "  <div class=\"progress-bar\" role=\"progressbar\" style=\"background-color: blue; width: 100%; word-wrap: normal; white-space: nowrap; text-align: center; color: white\" aria-valuenow=\"100\" aria-valuemin=\"0\" aria-valuemax=\"100\">\n",
       "    1 / 1\n",
       "  </div>\n",
       "  <div class=\"progress-bar\" role=\"progressbar\" style=\"background-color: red; width: 0%\" aria-valuenow=\"0\" aria-valuemin=\"0\" aria-valuemax=\"100\"></div>\n",
       "</div>\n"
      ]
     },
     "metadata": {},
     "output_type": "display_data"
    },
    {
     "data": {
      "text/html": [
       "<div>\n",
       "  <span style=\"float: left;\">run at ThreadPoolExecutor.java:1149</span>\n",
       "</div>\n"
      ]
     },
     "metadata": {},
     "output_type": "display_data"
    },
    {
     "data": {
      "text/html": [
       "<div class=\"progress\">\n",
       "  <div class=\"progress-bar\" role=\"progressbar\" style=\"background-color: blue; width: 100%; word-wrap: normal; white-space: nowrap; text-align: center; color: white\" aria-valuenow=\"100\" aria-valuemin=\"0\" aria-valuemax=\"100\">\n",
       "    1 / 1\n",
       "  </div>\n",
       "  <div class=\"progress-bar\" role=\"progressbar\" style=\"background-color: red; width: 0%\" aria-valuenow=\"0\" aria-valuemin=\"0\" aria-valuemax=\"100\"></div>\n",
       "</div>\n"
      ]
     },
     "metadata": {},
     "output_type": "display_data"
    },
    {
     "data": {
      "text/html": [
       "<div>\n",
       "  <span style=\"float: left;\">collect at cmd17.sc:3</span>\n",
       "</div>\n"
      ]
     },
     "metadata": {},
     "output_type": "display_data"
    },
    {
     "data": {
      "text/html": [
       "<div class=\"progress\">\n",
       "  <div class=\"progress-bar\" role=\"progressbar\" style=\"background-color: blue; width: 100%; word-wrap: normal; white-space: nowrap; text-align: center; color: white\" aria-valuenow=\"100\" aria-valuemin=\"0\" aria-valuemax=\"100\">\n",
       "    2 / 2\n",
       "  </div>\n",
       "  <div class=\"progress-bar\" role=\"progressbar\" style=\"background-color: red; width: 0%\" aria-valuenow=\"0\" aria-valuemin=\"0\" aria-valuemax=\"100\"></div>\n",
       "</div>\n"
      ]
     },
     "metadata": {},
     "output_type": "display_data"
    },
    {
     "data": {
      "text/html": [
       "<div>\n",
       "  <span style=\"float: left;\">collect at cmd17.sc:3</span>\n",
       "</div>\n"
      ]
     },
     "metadata": {},
     "output_type": "display_data"
    },
    {
     "data": {
      "text/html": [
       "<div class=\"progress\">\n",
       "  <div class=\"progress-bar\" role=\"progressbar\" style=\"background-color: blue; width: 100%; word-wrap: normal; white-space: nowrap; text-align: center; color: white\" aria-valuenow=\"100\" aria-valuemin=\"0\" aria-valuemax=\"100\">\n",
       "    8 / 8\n",
       "  </div>\n",
       "  <div class=\"progress-bar\" role=\"progressbar\" style=\"background-color: red; width: 0%\" aria-valuenow=\"0\" aria-valuemin=\"0\" aria-valuemax=\"100\"></div>\n",
       "</div>\n"
      ]
     },
     "metadata": {},
     "output_type": "display_data"
    },
    {
     "data": {
      "text/html": [
       "<div>\n",
       "  <span style=\"float: left;\">collect at cmd17.sc:3</span>\n",
       "</div>\n"
      ]
     },
     "metadata": {},
     "output_type": "display_data"
    },
    {
     "data": {
      "text/html": [
       "<div class=\"progress\">\n",
       "  <div class=\"progress-bar\" role=\"progressbar\" style=\"background-color: blue; width: 100%; word-wrap: normal; white-space: nowrap; text-align: center; color: white\" aria-valuenow=\"100\" aria-valuemin=\"0\" aria-valuemax=\"100\">\n",
       "    8 / 8\n",
       "  </div>\n",
       "  <div class=\"progress-bar\" role=\"progressbar\" style=\"background-color: red; width: 0%\" aria-valuenow=\"0\" aria-valuemin=\"0\" aria-valuemax=\"100\"></div>\n",
       "</div>\n"
      ]
     },
     "metadata": {},
     "output_type": "display_data"
    },
    {
     "data": {
      "text/html": [
       "<div>\n",
       "  <span style=\"float: left;\">collect at cmd17.sc:3</span>\n",
       "</div>\n"
      ]
     },
     "metadata": {},
     "output_type": "display_data"
    },
    {
     "data": {
      "text/html": [
       "<div class=\"progress\">\n",
       "  <div class=\"progress-bar\" role=\"progressbar\" style=\"background-color: blue; width: 100%; word-wrap: normal; white-space: nowrap; text-align: center; color: white\" aria-valuenow=\"100\" aria-valuemin=\"0\" aria-valuemax=\"100\">\n",
       "    8 / 8\n",
       "  </div>\n",
       "  <div class=\"progress-bar\" role=\"progressbar\" style=\"background-color: red; width: 0%\" aria-valuenow=\"0\" aria-valuemin=\"0\" aria-valuemax=\"100\"></div>\n",
       "</div>\n"
      ]
     },
     "metadata": {},
     "output_type": "display_data"
    },
    {
     "name": "stdout",
     "output_type": "stream",
     "text": [
      "Took 1316\n"
     ]
    },
    {
     "data": {
      "text/html": [
       "<div>\n",
       "  <span style=\"float: left;\">csv at cmd2.sc:6</span>\n",
       "</div>\n"
      ]
     },
     "metadata": {},
     "output_type": "display_data"
    },
    {
     "data": {
      "text/html": [
       "<div class=\"progress\">\n",
       "  <div class=\"progress-bar\" role=\"progressbar\" style=\"background-color: blue; width: 100%; word-wrap: normal; white-space: nowrap; text-align: center; color: white\" aria-valuenow=\"100\" aria-valuemin=\"0\" aria-valuemax=\"100\">\n",
       "    1 / 1\n",
       "  </div>\n",
       "  <div class=\"progress-bar\" role=\"progressbar\" style=\"background-color: red; width: 0%\" aria-valuenow=\"0\" aria-valuemin=\"0\" aria-valuemax=\"100\"></div>\n",
       "</div>\n"
      ]
     },
     "metadata": {},
     "output_type": "display_data"
    },
    {
     "data": {
      "text/html": [
       "<div>\n",
       "  <span style=\"float: left;\">csv at cmd2.sc:6</span>\n",
       "</div>\n"
      ]
     },
     "metadata": {},
     "output_type": "display_data"
    },
    {
     "data": {
      "text/html": [
       "<div class=\"progress\">\n",
       "  <div class=\"progress-bar\" role=\"progressbar\" style=\"background-color: blue; width: 100%; word-wrap: normal; white-space: nowrap; text-align: center; color: white\" aria-valuenow=\"100\" aria-valuemin=\"0\" aria-valuemax=\"100\">\n",
       "    2 / 2\n",
       "  </div>\n",
       "  <div class=\"progress-bar\" role=\"progressbar\" style=\"background-color: red; width: 0%\" aria-valuenow=\"0\" aria-valuemin=\"0\" aria-valuemax=\"100\"></div>\n",
       "</div>\n"
      ]
     },
     "metadata": {},
     "output_type": "display_data"
    },
    {
     "data": {
      "text/html": [
       "<div>\n",
       "  <span style=\"float: left;\">csv at cmd3.sc:6</span>\n",
       "</div>\n"
      ]
     },
     "metadata": {},
     "output_type": "display_data"
    },
    {
     "data": {
      "text/html": [
       "<div class=\"progress\">\n",
       "  <div class=\"progress-bar\" role=\"progressbar\" style=\"background-color: blue; width: 100%; word-wrap: normal; white-space: nowrap; text-align: center; color: white\" aria-valuenow=\"100\" aria-valuemin=\"0\" aria-valuemax=\"100\">\n",
       "    1 / 1\n",
       "  </div>\n",
       "  <div class=\"progress-bar\" role=\"progressbar\" style=\"background-color: red; width: 0%\" aria-valuenow=\"0\" aria-valuemin=\"0\" aria-valuemax=\"100\"></div>\n",
       "</div>\n"
      ]
     },
     "metadata": {},
     "output_type": "display_data"
    },
    {
     "data": {
      "text/html": [
       "<div>\n",
       "  <span style=\"float: left;\">csv at cmd3.sc:6</span>\n",
       "</div>\n"
      ]
     },
     "metadata": {},
     "output_type": "display_data"
    },
    {
     "data": {
      "text/html": [
       "<div class=\"progress\">\n",
       "  <div class=\"progress-bar\" role=\"progressbar\" style=\"background-color: blue; width: 100%; word-wrap: normal; white-space: nowrap; text-align: center; color: white\" aria-valuenow=\"100\" aria-valuemin=\"0\" aria-valuemax=\"100\">\n",
       "    1 / 1\n",
       "  </div>\n",
       "  <div class=\"progress-bar\" role=\"progressbar\" style=\"background-color: red; width: 0%\" aria-valuenow=\"0\" aria-valuemin=\"0\" aria-valuemax=\"100\"></div>\n",
       "</div>\n"
      ]
     },
     "metadata": {},
     "output_type": "display_data"
    },
    {
     "data": {
      "text/html": [
       "<div>\n",
       "  <span style=\"float: left;\">run at ThreadPoolExecutor.java:1149</span>\n",
       "</div>\n"
      ]
     },
     "metadata": {},
     "output_type": "display_data"
    },
    {
     "data": {
      "text/html": [
       "<div class=\"progress\">\n",
       "  <div class=\"progress-bar\" role=\"progressbar\" style=\"background-color: blue; width: 100%; word-wrap: normal; white-space: nowrap; text-align: center; color: white\" aria-valuenow=\"100\" aria-valuemin=\"0\" aria-valuemax=\"100\">\n",
       "    1 / 1\n",
       "  </div>\n",
       "  <div class=\"progress-bar\" role=\"progressbar\" style=\"background-color: red; width: 0%\" aria-valuenow=\"0\" aria-valuemin=\"0\" aria-valuemax=\"100\"></div>\n",
       "</div>\n"
      ]
     },
     "metadata": {},
     "output_type": "display_data"
    },
    {
     "data": {
      "text/html": [
       "<div>\n",
       "  <span style=\"float: left;\">collect at cmd17.sc:4</span>\n",
       "</div>\n"
      ]
     },
     "metadata": {},
     "output_type": "display_data"
    },
    {
     "data": {
      "text/html": [
       "<div class=\"progress\">\n",
       "  <div class=\"progress-bar\" role=\"progressbar\" style=\"background-color: blue; width: 100%; word-wrap: normal; white-space: nowrap; text-align: center; color: white\" aria-valuenow=\"100\" aria-valuemin=\"0\" aria-valuemax=\"100\">\n",
       "    2 / 2\n",
       "  </div>\n",
       "  <div class=\"progress-bar\" role=\"progressbar\" style=\"background-color: red; width: 0%\" aria-valuenow=\"0\" aria-valuemin=\"0\" aria-valuemax=\"100\"></div>\n",
       "</div>\n"
      ]
     },
     "metadata": {},
     "output_type": "display_data"
    },
    {
     "data": {
      "text/html": [
       "<div>\n",
       "  <span style=\"float: left;\">collect at cmd17.sc:4</span>\n",
       "</div>\n"
      ]
     },
     "metadata": {},
     "output_type": "display_data"
    },
    {
     "data": {
      "text/html": [
       "<div class=\"progress\">\n",
       "  <div class=\"progress-bar\" role=\"progressbar\" style=\"background-color: blue; width: 100%; word-wrap: normal; white-space: nowrap; text-align: center; color: white\" aria-valuenow=\"100\" aria-valuemin=\"0\" aria-valuemax=\"100\">\n",
       "    2 / 2\n",
       "  </div>\n",
       "  <div class=\"progress-bar\" role=\"progressbar\" style=\"background-color: red; width: 0%\" aria-valuenow=\"0\" aria-valuemin=\"0\" aria-valuemax=\"100\"></div>\n",
       "</div>\n"
      ]
     },
     "metadata": {},
     "output_type": "display_data"
    },
    {
     "data": {
      "text/html": [
       "<div>\n",
       "  <span style=\"float: left;\">collect at cmd17.sc:4</span>\n",
       "</div>\n"
      ]
     },
     "metadata": {},
     "output_type": "display_data"
    },
    {
     "data": {
      "text/html": [
       "<div class=\"progress\">\n",
       "  <div class=\"progress-bar\" role=\"progressbar\" style=\"background-color: blue; width: 100%; word-wrap: normal; white-space: nowrap; text-align: center; color: white\" aria-valuenow=\"100\" aria-valuemin=\"0\" aria-valuemax=\"100\">\n",
       "    8 / 8\n",
       "  </div>\n",
       "  <div class=\"progress-bar\" role=\"progressbar\" style=\"background-color: red; width: 0%\" aria-valuenow=\"0\" aria-valuemin=\"0\" aria-valuemax=\"100\"></div>\n",
       "</div>\n"
      ]
     },
     "metadata": {},
     "output_type": "display_data"
    },
    {
     "name": "stdout",
     "output_type": "stream",
     "text": [
      "Took 1424\n"
     ]
    },
    {
     "data": {
      "text/html": [
       "<div>\n",
       "  <span style=\"float: left;\">csv at cmd2.sc:6</span>\n",
       "</div>\n"
      ]
     },
     "metadata": {},
     "output_type": "display_data"
    },
    {
     "data": {
      "text/html": [
       "<div class=\"progress\">\n",
       "  <div class=\"progress-bar\" role=\"progressbar\" style=\"background-color: blue; width: 100%; word-wrap: normal; white-space: nowrap; text-align: center; color: white\" aria-valuenow=\"100\" aria-valuemin=\"0\" aria-valuemax=\"100\">\n",
       "    1 / 1\n",
       "  </div>\n",
       "  <div class=\"progress-bar\" role=\"progressbar\" style=\"background-color: red; width: 0%\" aria-valuenow=\"0\" aria-valuemin=\"0\" aria-valuemax=\"100\"></div>\n",
       "</div>\n"
      ]
     },
     "metadata": {},
     "output_type": "display_data"
    },
    {
     "data": {
      "text/html": [
       "<div>\n",
       "  <span style=\"float: left;\">csv at cmd2.sc:6</span>\n",
       "</div>\n"
      ]
     },
     "metadata": {},
     "output_type": "display_data"
    },
    {
     "data": {
      "text/html": [
       "<div class=\"progress\">\n",
       "  <div class=\"progress-bar\" role=\"progressbar\" style=\"background-color: blue; width: 100%; word-wrap: normal; white-space: nowrap; text-align: center; color: white\" aria-valuenow=\"100\" aria-valuemin=\"0\" aria-valuemax=\"100\">\n",
       "    2 / 2\n",
       "  </div>\n",
       "  <div class=\"progress-bar\" role=\"progressbar\" style=\"background-color: red; width: 0%\" aria-valuenow=\"0\" aria-valuemin=\"0\" aria-valuemax=\"100\"></div>\n",
       "</div>\n"
      ]
     },
     "metadata": {},
     "output_type": "display_data"
    },
    {
     "data": {
      "text/html": [
       "<div>\n",
       "  <span style=\"float: left;\">csv at cmd3.sc:6</span>\n",
       "</div>\n"
      ]
     },
     "metadata": {},
     "output_type": "display_data"
    },
    {
     "data": {
      "text/html": [
       "<div class=\"progress\">\n",
       "  <div class=\"progress-bar\" role=\"progressbar\" style=\"background-color: blue; width: 100%; word-wrap: normal; white-space: nowrap; text-align: center; color: white\" aria-valuenow=\"100\" aria-valuemin=\"0\" aria-valuemax=\"100\">\n",
       "    1 / 1\n",
       "  </div>\n",
       "  <div class=\"progress-bar\" role=\"progressbar\" style=\"background-color: red; width: 0%\" aria-valuenow=\"0\" aria-valuemin=\"0\" aria-valuemax=\"100\"></div>\n",
       "</div>\n"
      ]
     },
     "metadata": {},
     "output_type": "display_data"
    },
    {
     "data": {
      "text/html": [
       "<div>\n",
       "  <span style=\"float: left;\">csv at cmd3.sc:6</span>\n",
       "</div>\n"
      ]
     },
     "metadata": {},
     "output_type": "display_data"
    },
    {
     "data": {
      "text/html": [
       "<div class=\"progress\">\n",
       "  <div class=\"progress-bar\" role=\"progressbar\" style=\"background-color: blue; width: 100%; word-wrap: normal; white-space: nowrap; text-align: center; color: white\" aria-valuenow=\"100\" aria-valuemin=\"0\" aria-valuemax=\"100\">\n",
       "    1 / 1\n",
       "  </div>\n",
       "  <div class=\"progress-bar\" role=\"progressbar\" style=\"background-color: red; width: 0%\" aria-valuenow=\"0\" aria-valuemin=\"0\" aria-valuemax=\"100\"></div>\n",
       "</div>\n"
      ]
     },
     "metadata": {},
     "output_type": "display_data"
    },
    {
     "data": {
      "text/html": [
       "<div>\n",
       "  <span style=\"float: left;\">run at ThreadPoolExecutor.java:1149</span>\n",
       "</div>\n"
      ]
     },
     "metadata": {},
     "output_type": "display_data"
    },
    {
     "data": {
      "text/html": [
       "<div class=\"progress\">\n",
       "  <div class=\"progress-bar\" role=\"progressbar\" style=\"background-color: blue; width: 100%; word-wrap: normal; white-space: nowrap; text-align: center; color: white\" aria-valuenow=\"100\" aria-valuemin=\"0\" aria-valuemax=\"100\">\n",
       "    1 / 1\n",
       "  </div>\n",
       "  <div class=\"progress-bar\" role=\"progressbar\" style=\"background-color: red; width: 0%\" aria-valuenow=\"0\" aria-valuemin=\"0\" aria-valuemax=\"100\"></div>\n",
       "</div>\n"
      ]
     },
     "metadata": {},
     "output_type": "display_data"
    },
    {
     "data": {
      "text/html": [
       "<div>\n",
       "  <span style=\"float: left;\">collect at cmd17.sc:5</span>\n",
       "</div>\n"
      ]
     },
     "metadata": {},
     "output_type": "display_data"
    },
    {
     "data": {
      "text/html": [
       "<div class=\"progress\">\n",
       "  <div class=\"progress-bar\" role=\"progressbar\" style=\"background-color: blue; width: 100%; word-wrap: normal; white-space: nowrap; text-align: center; color: white\" aria-valuenow=\"100\" aria-valuemin=\"0\" aria-valuemax=\"100\">\n",
       "    2 / 2\n",
       "  </div>\n",
       "  <div class=\"progress-bar\" role=\"progressbar\" style=\"background-color: red; width: 0%\" aria-valuenow=\"0\" aria-valuemin=\"0\" aria-valuemax=\"100\"></div>\n",
       "</div>\n"
      ]
     },
     "metadata": {},
     "output_type": "display_data"
    },
    {
     "data": {
      "text/html": [
       "<div>\n",
       "  <span style=\"float: left;\">collect at cmd17.sc:5</span>\n",
       "</div>\n"
      ]
     },
     "metadata": {},
     "output_type": "display_data"
    },
    {
     "data": {
      "text/html": [
       "<div class=\"progress\">\n",
       "  <div class=\"progress-bar\" role=\"progressbar\" style=\"background-color: blue; width: 100%; word-wrap: normal; white-space: nowrap; text-align: center; color: white\" aria-valuenow=\"100\" aria-valuemin=\"0\" aria-valuemax=\"100\">\n",
       "    2 / 2\n",
       "  </div>\n",
       "  <div class=\"progress-bar\" role=\"progressbar\" style=\"background-color: red; width: 0%\" aria-valuenow=\"0\" aria-valuemin=\"0\" aria-valuemax=\"100\"></div>\n",
       "</div>\n"
      ]
     },
     "metadata": {},
     "output_type": "display_data"
    },
    {
     "data": {
      "text/html": [
       "<div>\n",
       "  <span style=\"float: left;\">collect at cmd17.sc:5</span>\n",
       "</div>\n"
      ]
     },
     "metadata": {},
     "output_type": "display_data"
    },
    {
     "data": {
      "text/html": [
       "<div class=\"progress\">\n",
       "  <div class=\"progress-bar\" role=\"progressbar\" style=\"background-color: blue; width: 100%; word-wrap: normal; white-space: nowrap; text-align: center; color: white\" aria-valuenow=\"100\" aria-valuemin=\"0\" aria-valuemax=\"100\">\n",
       "    8 / 8\n",
       "  </div>\n",
       "  <div class=\"progress-bar\" role=\"progressbar\" style=\"background-color: red; width: 0%\" aria-valuenow=\"0\" aria-valuemin=\"0\" aria-valuemax=\"100\"></div>\n",
       "</div>\n"
      ]
     },
     "metadata": {},
     "output_type": "display_data"
    },
    {
     "name": "stdout",
     "output_type": "stream",
     "text": [
      "Took 1431\n"
     ]
    },
    {
     "data": {
      "application/vnd.plotly.v1+json": {
       "config": {},
       "data": [
        {
         "type": "bar",
         "x": [
          "DataSet 3",
          "DataFrame 3",
          "DataSet 4",
          "DataFrame 4"
         ],
         "y": [
          1711,
          1316,
          1424,
          1431
         ]
        }
       ],
       "layout": {}
      },
      "text/html": [
       "<div class=\"chart\" id=\"plot-c96a8497-a349-4f1c-9831-c28b9f4a4323\"></div>\n",
       "<script>require(['plotly'], function(Plotly) {\n",
       "  (function () {\n",
       "  var data0 = {\"x\":[\"DataSet 3\",\"DataFrame 3\",\"DataSet 4\",\"DataFrame 4\"],\"y\":[1711.0,1316.0,1424.0,1431.0],\"type\":\"bar\"};\n",
       "\n",
       "  var data = [data0];\n",
       "  var layout = {};\n",
       " var config = {};\n",
       "\n",
       "  Plotly.plot('plot-c96a8497-a349-4f1c-9831-c28b9f4a4323', data, layout, config);\n",
       "})();\n",
       "});\n",
       "      </script>\n",
       "           "
      ]
     },
     "metadata": {},
     "output_type": "display_data"
    },
    {
     "data": {
      "text/plain": [
       "\u001b[36mx\u001b[39m: \u001b[32mSeq\u001b[39m[\u001b[32mString\u001b[39m] = \u001b[33mList\u001b[39m(\u001b[32m\"DataSet 3\"\u001b[39m, \u001b[32m\"DataFrame 3\"\u001b[39m, \u001b[32m\"DataSet 4\"\u001b[39m, \u001b[32m\"DataFrame 4\"\u001b[39m)\n",
       "\u001b[36my\u001b[39m: \u001b[32mSeq\u001b[39m[\u001b[32mInt\u001b[39m] = \u001b[33mList\u001b[39m(\u001b[32m1711\u001b[39m, \u001b[32m1316\u001b[39m, \u001b[32m1424\u001b[39m, \u001b[32m1431\u001b[39m)\n",
       "\u001b[36mres17_1\u001b[39m: \u001b[32mString\u001b[39m = \u001b[32m\"plot-c96a8497-a349-4f1c-9831-c28b9f4a4323\"\u001b[39m"
      ]
     },
     "execution_count": 18,
     "metadata": {},
     "output_type": "execute_result"
    }
   ],
   "source": [
    "val (x, y) = Seq(\n",
    "    \"DataSet 3\" -> runWithOutput(query_3_DS.collect),\n",
    "    \"DataFrame 3\" -> runWithOutput(query_3_DS.collect),\n",
    "    \"DataSet 4\" -> runWithOutput(query_4_DS.collect),    \n",
    "    \"DataFrame 4\" -> runWithOutput(query_4_DS.collect),\n",
    ").unzip\n",
    "\n",
    "Bar(x, y).plot()"
   ]
  },
  {
   "cell_type": "markdown",
   "metadata": {},
   "source": [
    "## 4. Comparativa de rendimiento"
   ]
  },
  {
   "cell_type": "code",
   "execution_count": 21,
   "metadata": {
    "scrolled": false
   },
   "outputs": [
    {
     "data": {
      "text/html": [
       "<div>\n",
       "  <span style=\"float: left;\">csv at cmd2.sc:6</span>\n",
       "</div>\n"
      ]
     },
     "metadata": {},
     "output_type": "display_data"
    },
    {
     "data": {
      "text/html": [
       "<div class=\"progress\">\n",
       "  <div class=\"progress-bar\" role=\"progressbar\" style=\"background-color: blue; width: 100%; word-wrap: normal; white-space: nowrap; text-align: center; color: white\" aria-valuenow=\"100\" aria-valuemin=\"0\" aria-valuemax=\"100\">\n",
       "    1 / 1\n",
       "  </div>\n",
       "  <div class=\"progress-bar\" role=\"progressbar\" style=\"background-color: red; width: 0%\" aria-valuenow=\"0\" aria-valuemin=\"0\" aria-valuemax=\"100\"></div>\n",
       "</div>\n"
      ]
     },
     "metadata": {},
     "output_type": "display_data"
    },
    {
     "data": {
      "text/html": [
       "<div>\n",
       "  <span style=\"float: left;\">csv at cmd2.sc:6</span>\n",
       "</div>\n"
      ]
     },
     "metadata": {},
     "output_type": "display_data"
    },
    {
     "data": {
      "text/html": [
       "<div class=\"progress\">\n",
       "  <div class=\"progress-bar\" role=\"progressbar\" style=\"background-color: blue; width: 100%; word-wrap: normal; white-space: nowrap; text-align: center; color: white\" aria-valuenow=\"100\" aria-valuemin=\"0\" aria-valuemax=\"100\">\n",
       "    2 / 2\n",
       "  </div>\n",
       "  <div class=\"progress-bar\" role=\"progressbar\" style=\"background-color: red; width: 0%\" aria-valuenow=\"0\" aria-valuemin=\"0\" aria-valuemax=\"100\"></div>\n",
       "</div>\n"
      ]
     },
     "metadata": {},
     "output_type": "display_data"
    },
    {
     "data": {
      "text/html": [
       "<div>\n",
       "  <span style=\"float: left;\">csv at cmd3.sc:6</span>\n",
       "</div>\n"
      ]
     },
     "metadata": {},
     "output_type": "display_data"
    },
    {
     "data": {
      "text/html": [
       "<div class=\"progress\">\n",
       "  <div class=\"progress-bar\" role=\"progressbar\" style=\"background-color: blue; width: 100%; word-wrap: normal; white-space: nowrap; text-align: center; color: white\" aria-valuenow=\"100\" aria-valuemin=\"0\" aria-valuemax=\"100\">\n",
       "    1 / 1\n",
       "  </div>\n",
       "  <div class=\"progress-bar\" role=\"progressbar\" style=\"background-color: red; width: 0%\" aria-valuenow=\"0\" aria-valuemin=\"0\" aria-valuemax=\"100\"></div>\n",
       "</div>\n"
      ]
     },
     "metadata": {},
     "output_type": "display_data"
    },
    {
     "data": {
      "text/html": [
       "<div>\n",
       "  <span style=\"float: left;\">csv at cmd3.sc:6</span>\n",
       "</div>\n"
      ]
     },
     "metadata": {},
     "output_type": "display_data"
    },
    {
     "data": {
      "text/html": [
       "<div class=\"progress\">\n",
       "  <div class=\"progress-bar\" role=\"progressbar\" style=\"background-color: blue; width: 100%; word-wrap: normal; white-space: nowrap; text-align: center; color: white\" aria-valuenow=\"100\" aria-valuemin=\"0\" aria-valuemax=\"100\">\n",
       "    1 / 1\n",
       "  </div>\n",
       "  <div class=\"progress-bar\" role=\"progressbar\" style=\"background-color: red; width: 0%\" aria-valuenow=\"0\" aria-valuemin=\"0\" aria-valuemax=\"100\"></div>\n",
       "</div>\n"
      ]
     },
     "metadata": {},
     "output_type": "display_data"
    },
    {
     "data": {
      "text/html": [
       "<div>\n",
       "  <span style=\"float: left;\">run at ThreadPoolExecutor.java:1149</span>\n",
       "</div>\n"
      ]
     },
     "metadata": {},
     "output_type": "display_data"
    },
    {
     "data": {
      "text/html": [
       "<div class=\"progress\">\n",
       "  <div class=\"progress-bar\" role=\"progressbar\" style=\"background-color: blue; width: 100%; word-wrap: normal; white-space: nowrap; text-align: center; color: white\" aria-valuenow=\"100\" aria-valuemin=\"0\" aria-valuemax=\"100\">\n",
       "    1 / 1\n",
       "  </div>\n",
       "  <div class=\"progress-bar\" role=\"progressbar\" style=\"background-color: red; width: 0%\" aria-valuenow=\"0\" aria-valuemin=\"0\" aria-valuemax=\"100\"></div>\n",
       "</div>\n"
      ]
     },
     "metadata": {},
     "output_type": "display_data"
    },
    {
     "data": {
      "text/html": [
       "<div>\n",
       "  <span style=\"float: left;\">collect at cmd20.sc:1</span>\n",
       "</div>\n"
      ]
     },
     "metadata": {},
     "output_type": "display_data"
    },
    {
     "data": {
      "text/html": [
       "<div class=\"progress\">\n",
       "  <div class=\"progress-bar\" role=\"progressbar\" style=\"background-color: blue; width: 100%; word-wrap: normal; white-space: nowrap; text-align: center; color: white\" aria-valuenow=\"100\" aria-valuemin=\"0\" aria-valuemax=\"100\">\n",
       "    2 / 2\n",
       "  </div>\n",
       "  <div class=\"progress-bar\" role=\"progressbar\" style=\"background-color: red; width: 0%\" aria-valuenow=\"0\" aria-valuemin=\"0\" aria-valuemax=\"100\"></div>\n",
       "</div>\n"
      ]
     },
     "metadata": {},
     "output_type": "display_data"
    },
    {
     "data": {
      "text/html": [
       "<div>\n",
       "  <span style=\"float: left;\">collect at cmd20.sc:1</span>\n",
       "</div>\n"
      ]
     },
     "metadata": {},
     "output_type": "display_data"
    },
    {
     "data": {
      "text/html": [
       "<div class=\"progress\">\n",
       "  <div class=\"progress-bar\" role=\"progressbar\" style=\"background-color: blue; width: 100%; word-wrap: normal; white-space: nowrap; text-align: center; color: white\" aria-valuenow=\"100\" aria-valuemin=\"0\" aria-valuemax=\"100\">\n",
       "    8 / 8\n",
       "  </div>\n",
       "  <div class=\"progress-bar\" role=\"progressbar\" style=\"background-color: red; width: 0%\" aria-valuenow=\"0\" aria-valuemin=\"0\" aria-valuemax=\"100\"></div>\n",
       "</div>\n"
      ]
     },
     "metadata": {},
     "output_type": "display_data"
    },
    {
     "data": {
      "text/html": [
       "<div>\n",
       "  <span style=\"float: left;\">collect at cmd20.sc:1</span>\n",
       "</div>\n"
      ]
     },
     "metadata": {},
     "output_type": "display_data"
    },
    {
     "data": {
      "text/html": [
       "<div class=\"progress\">\n",
       "  <div class=\"progress-bar\" role=\"progressbar\" style=\"background-color: blue; width: 100%; word-wrap: normal; white-space: nowrap; text-align: center; color: white\" aria-valuenow=\"100\" aria-valuemin=\"0\" aria-valuemax=\"100\">\n",
       "    8 / 8\n",
       "  </div>\n",
       "  <div class=\"progress-bar\" role=\"progressbar\" style=\"background-color: red; width: 0%\" aria-valuenow=\"0\" aria-valuemin=\"0\" aria-valuemax=\"100\"></div>\n",
       "</div>\n"
      ]
     },
     "metadata": {},
     "output_type": "display_data"
    },
    {
     "data": {
      "text/html": [
       "<div>\n",
       "  <span style=\"float: left;\">collect at cmd20.sc:1</span>\n",
       "</div>\n"
      ]
     },
     "metadata": {},
     "output_type": "display_data"
    },
    {
     "data": {
      "text/html": [
       "<div class=\"progress\">\n",
       "  <div class=\"progress-bar\" role=\"progressbar\" style=\"background-color: blue; width: 100%; word-wrap: normal; white-space: nowrap; text-align: center; color: white\" aria-valuenow=\"100\" aria-valuemin=\"0\" aria-valuemax=\"100\">\n",
       "    8 / 8\n",
       "  </div>\n",
       "  <div class=\"progress-bar\" role=\"progressbar\" style=\"background-color: red; width: 0%\" aria-valuenow=\"0\" aria-valuemin=\"0\" aria-valuemax=\"100\"></div>\n",
       "</div>\n"
      ]
     },
     "metadata": {},
     "output_type": "display_data"
    },
    {
     "data": {
      "text/plain": [
       "\u001b[36mres20\u001b[39m: \u001b[32mArray\u001b[39m[(\u001b[32mString\u001b[39m, \u001b[32mDouble\u001b[39m)] = \u001b[33mArray\u001b[39m(\n",
       "  (\u001b[32m\"Andorra\"\u001b[39m, \u001b[32m3.4400295679401656E-4\u001b[39m),\n",
       "  (\u001b[32m\"Montenegro\"\u001b[39m, \u001b[32m2.4248737515640602E-4\u001b[39m),\n",
       "  (\u001b[32m\"Luxembourg\"\u001b[39m, \u001b[32m1.9169310791749766E-4\u001b[39m),\n",
       "  (\u001b[32m\"Aruba\"\u001b[39m, \u001b[32m1.769864042262208E-4\u001b[39m),\n",
       "  (\u001b[32m\"Slovenia\"\u001b[39m, \u001b[32m1.6312438537043818E-4\u001b[39m),\n",
       "  (\u001b[32m\"Panama\"\u001b[39m, \u001b[32m1.5933045595717767E-4\u001b[39m),\n",
       "  (\u001b[32m\"Guam\"\u001b[39m, \u001b[32m1.5512777072857744E-4\u001b[39m),\n",
       "  (\u001b[32m\"Belgium\"\u001b[39m, \u001b[32m1.4977394087242467E-4\u001b[39m),\n",
       "  (\u001b[32m\"Bahrain\"\u001b[39m, \u001b[32m1.4927852711388843E-4\u001b[39m),\n",
       "  (\u001b[32m\"Armenia\"\u001b[39m, \u001b[32m1.470935836076611E-4\u001b[39m),\n",
       "  (\u001b[32m\"Liechtenstein\"\u001b[39m, \u001b[32m1.4225295036283446E-4\u001b[39m),\n",
       "  (\u001b[32m\"Qatar\"\u001b[39m, \u001b[32m1.410043921276158E-4\u001b[39m),\n",
       "  (\u001b[32m\"Georgia\"\u001b[39m, \u001b[32m1.3807441257860555E-4\u001b[39m),\n",
       "  (\u001b[32m\"Croatia\"\u001b[39m, \u001b[32m1.2360663598057857E-4\u001b[39m),\n",
       "  (\u001b[32m\"Switzerland\"\u001b[39m, \u001b[32m1.2276072071712674E-4\u001b[39m),\n",
       "  (\u001b[32m\"Portugal\"\u001b[39m, \u001b[32m1.1923139268591238E-4\u001b[39m),\n",
       "  (\u001b[32m\"Israel\"\u001b[39m, \u001b[32m1.1883296974895626E-4\u001b[39m),\n",
       "  (\u001b[32m\"Gibraltar\"\u001b[39m, \u001b[32m1.1818342727541584E-4\u001b[39m),\n",
       "  (\u001b[32m\"Argentina\"\u001b[39m, \u001b[32m1.1694609939486568E-4\u001b[39m),\n",
       "  (\u001b[32m\"Moldova\"\u001b[39m, \u001b[32m1.1205780134087437E-4\u001b[39m),\n",
       "  (\u001b[32m\"Serbia\"\u001b[39m, \u001b[32m1.0898339588681578E-4\u001b[39m),\n",
       "  (\u001b[32m\"Spain\"\u001b[39m, \u001b[32m1.0604965444992492E-4\u001b[39m),\n",
       "  (\u001b[32m\"Peru\"\u001b[39m, \u001b[32m1.0568198964713385E-4\u001b[39m),\n",
       "  (\u001b[32m\"Poland\"\u001b[39m, \u001b[32m1.056801767088061E-4\u001b[39m),\n",
       "  (\u001b[32m\"Chile\"\u001b[39m, \u001b[32m1.0481978256189323E-4\u001b[39m),\n",
       "  (\u001b[32m\"France\"\u001b[39m, \u001b[32m1.0399872883500117E-4\u001b[39m),\n",
       "  (\u001b[32m\"Hungary\"\u001b[39m, \u001b[32m1.0351532863315192E-4\u001b[39m),\n",
       "  (\u001b[32m\"Lithuania\"\u001b[39m, \u001b[32m1.0262212428067272E-4\u001b[39m),\n",
       "  (\u001b[32m\"Netherlands\"\u001b[39m, \u001b[32m1.0213215665653311E-4\u001b[39m),\n",
       "  (\u001b[32m\"Austria\"\u001b[39m, \u001b[32m1.0142561916584055E-4\u001b[39m),\n",
       "  (\u001b[32m\"Colombia\"\u001b[39m, \u001b[32m1.0024867022909995E-4\u001b[39m),\n",
       "  (\u001b[32m\"Kuwait\"\u001b[39m, \u001b[32m9.842233741318859E-5\u001b[39m),\n",
       "  (\u001b[32m\"Brazil\"\u001b[39m, \u001b[32m9.265895515674243E-5\u001b[39m),\n",
       "  (\u001b[32m\"Bulgaria\"\u001b[39m, \u001b[32m9.236022816402629E-5\u001b[39m),\n",
       "  (\u001b[32m\"Jordan\"\u001b[39m, \u001b[32m9.170051564855786E-5\u001b[39m),\n",
       "  (\u001b[32m\"Sweden\"\u001b[39m, \u001b[32m9.04594102119817E-5\u001b[39m),\n",
       "  (\u001b[32m\"Malta\"\u001b[39m, \u001b[32m8.879716674565683E-5\u001b[39m),\n",
       "  (\u001b[32m\"Maldives\"\u001b[39m, \u001b[32m8.806191843758869E-5\u001b[39m),\n",
       "..."
      ]
     },
     "execution_count": 21,
     "metadata": {},
     "output_type": "execute_result"
    }
   ],
   "source": [
    "query_3_DS.collect"
   ]
  },
  {
   "cell_type": "code",
   "execution_count": 22,
   "metadata": {},
   "outputs": [
    {
     "data": {
      "text/html": [
       "<div>\n",
       "  <span style=\"float: left;\">csv at cmd7.sc:4</span>\n",
       "</div>\n"
      ]
     },
     "metadata": {},
     "output_type": "display_data"
    },
    {
     "data": {
      "text/html": [
       "<div class=\"progress\">\n",
       "  <div class=\"progress-bar\" role=\"progressbar\" style=\"background-color: blue; width: 100%; word-wrap: normal; white-space: nowrap; text-align: center; color: white\" aria-valuenow=\"100\" aria-valuemin=\"0\" aria-valuemax=\"100\">\n",
       "    1 / 1\n",
       "  </div>\n",
       "  <div class=\"progress-bar\" role=\"progressbar\" style=\"background-color: red; width: 0%\" aria-valuenow=\"0\" aria-valuemin=\"0\" aria-valuemax=\"100\"></div>\n",
       "</div>\n"
      ]
     },
     "metadata": {},
     "output_type": "display_data"
    },
    {
     "data": {
      "text/html": [
       "<div>\n",
       "  <span style=\"float: left;\">csv at cmd8.sc:4</span>\n",
       "</div>\n"
      ]
     },
     "metadata": {},
     "output_type": "display_data"
    },
    {
     "data": {
      "text/html": [
       "<div class=\"progress\">\n",
       "  <div class=\"progress-bar\" role=\"progressbar\" style=\"background-color: blue; width: 100%; word-wrap: normal; white-space: nowrap; text-align: center; color: white\" aria-valuenow=\"100\" aria-valuemin=\"0\" aria-valuemax=\"100\">\n",
       "    1 / 1\n",
       "  </div>\n",
       "  <div class=\"progress-bar\" role=\"progressbar\" style=\"background-color: red; width: 0%\" aria-valuenow=\"0\" aria-valuemin=\"0\" aria-valuemax=\"100\"></div>\n",
       "</div>\n"
      ]
     },
     "metadata": {},
     "output_type": "display_data"
    },
    {
     "data": {
      "text/html": [
       "<div>\n",
       "  <span style=\"float: left;\">run at ThreadPoolExecutor.java:1149</span>\n",
       "</div>\n"
      ]
     },
     "metadata": {},
     "output_type": "display_data"
    },
    {
     "data": {
      "text/html": [
       "<div class=\"progress\">\n",
       "  <div class=\"progress-bar\" role=\"progressbar\" style=\"background-color: blue; width: 100%; word-wrap: normal; white-space: nowrap; text-align: center; color: white\" aria-valuenow=\"100\" aria-valuemin=\"0\" aria-valuemax=\"100\">\n",
       "    1 / 1\n",
       "  </div>\n",
       "  <div class=\"progress-bar\" role=\"progressbar\" style=\"background-color: red; width: 0%\" aria-valuenow=\"0\" aria-valuemin=\"0\" aria-valuemax=\"100\"></div>\n",
       "</div>\n"
      ]
     },
     "metadata": {},
     "output_type": "display_data"
    },
    {
     "data": {
      "text/html": [
       "<div>\n",
       "  <span style=\"float: left;\">collect at cmd21.sc:1</span>\n",
       "</div>\n"
      ]
     },
     "metadata": {},
     "output_type": "display_data"
    },
    {
     "data": {
      "text/html": [
       "<div class=\"progress\">\n",
       "  <div class=\"progress-bar\" role=\"progressbar\" style=\"background-color: blue; width: 100%; word-wrap: normal; white-space: nowrap; text-align: center; color: white\" aria-valuenow=\"100\" aria-valuemin=\"0\" aria-valuemax=\"100\">\n",
       "    2 / 2\n",
       "  </div>\n",
       "  <div class=\"progress-bar\" role=\"progressbar\" style=\"background-color: red; width: 0%\" aria-valuenow=\"0\" aria-valuemin=\"0\" aria-valuemax=\"100\"></div>\n",
       "</div>\n"
      ]
     },
     "metadata": {},
     "output_type": "display_data"
    },
    {
     "data": {
      "text/html": [
       "<div>\n",
       "  <span style=\"float: left;\">collect at cmd21.sc:1</span>\n",
       "</div>\n"
      ]
     },
     "metadata": {},
     "output_type": "display_data"
    },
    {
     "data": {
      "text/html": [
       "<div class=\"progress\">\n",
       "  <div class=\"progress-bar\" role=\"progressbar\" style=\"background-color: blue; width: 100%; word-wrap: normal; white-space: nowrap; text-align: center; color: white\" aria-valuenow=\"100\" aria-valuemin=\"0\" aria-valuemax=\"100\">\n",
       "    8 / 8\n",
       "  </div>\n",
       "  <div class=\"progress-bar\" role=\"progressbar\" style=\"background-color: red; width: 0%\" aria-valuenow=\"0\" aria-valuemin=\"0\" aria-valuemax=\"100\"></div>\n",
       "</div>\n"
      ]
     },
     "metadata": {},
     "output_type": "display_data"
    },
    {
     "data": {
      "text/html": [
       "<div>\n",
       "  <span style=\"float: left;\">collect at cmd21.sc:1</span>\n",
       "</div>\n"
      ]
     },
     "metadata": {},
     "output_type": "display_data"
    },
    {
     "data": {
      "text/html": [
       "<div class=\"progress\">\n",
       "  <div class=\"progress-bar\" role=\"progressbar\" style=\"background-color: blue; width: 100%; word-wrap: normal; white-space: nowrap; text-align: center; color: white\" aria-valuenow=\"100\" aria-valuemin=\"0\" aria-valuemax=\"100\">\n",
       "    8 / 8\n",
       "  </div>\n",
       "  <div class=\"progress-bar\" role=\"progressbar\" style=\"background-color: red; width: 0%\" aria-valuenow=\"0\" aria-valuemin=\"0\" aria-valuemax=\"100\"></div>\n",
       "</div>\n"
      ]
     },
     "metadata": {},
     "output_type": "display_data"
    },
    {
     "data": {
      "text/html": [
       "<div>\n",
       "  <span style=\"float: left;\">collect at cmd21.sc:1</span>\n",
       "</div>\n"
      ]
     },
     "metadata": {},
     "output_type": "display_data"
    },
    {
     "data": {
      "text/html": [
       "<div class=\"progress\">\n",
       "  <div class=\"progress-bar\" role=\"progressbar\" style=\"background-color: blue; width: 100%; word-wrap: normal; white-space: nowrap; text-align: center; color: white\" aria-valuenow=\"100\" aria-valuemin=\"0\" aria-valuemax=\"100\">\n",
       "    8 / 8\n",
       "  </div>\n",
       "  <div class=\"progress-bar\" role=\"progressbar\" style=\"background-color: red; width: 0%\" aria-valuenow=\"0\" aria-valuemin=\"0\" aria-valuemax=\"100\"></div>\n",
       "</div>\n"
      ]
     },
     "metadata": {},
     "output_type": "display_data"
    },
    {
     "data": {
      "text/plain": [
       "\u001b[36mres21\u001b[39m: \u001b[32mArray\u001b[39m[\u001b[32morg\u001b[39m.\u001b[32mapache\u001b[39m.\u001b[32mspark\u001b[39m.\u001b[32msql\u001b[39m.\u001b[32mRow\u001b[39m] = \u001b[33mArray\u001b[39m(\n",
       "  [Andorra,3.4400295679401656E-4],\n",
       "  [Montenegro,2.4248737515640602E-4],\n",
       "  [Luxembourg,1.9169310791749766E-4],\n",
       "  [Aruba,1.769864042262208E-4],\n",
       "  [Slovenia,1.6312438537043818E-4],\n",
       "  [Panama,1.5933045595717767E-4],\n",
       "  [Guam,1.5512777072857744E-4],\n",
       "  [Belgium,1.4977394087242467E-4],\n",
       "  [Bahrain,1.4927852711388843E-4],\n",
       "  [Armenia,1.470935836076611E-4],\n",
       "  [Liechtenstein,1.4225295036283446E-4],\n",
       "  [Qatar,1.410043921276158E-4],\n",
       "  [Georgia,1.3807441257860555E-4],\n",
       "  [Croatia,1.2360663598057857E-4],\n",
       "  [Switzerland,1.2276072071712674E-4],\n",
       "  [Portugal,1.1923139268591238E-4],\n",
       "  [Israel,1.1883296974895626E-4],\n",
       "  [Gibraltar,1.1818342727541584E-4],\n",
       "  [Argentina,1.1694609939486568E-4],\n",
       "  [Moldova,1.1205780134087437E-4],\n",
       "  [Serbia,1.0898339588681578E-4],\n",
       "  [Spain,1.0604965444992492E-4],\n",
       "  [Peru,1.0568198964713385E-4],\n",
       "  [Poland,1.056801767088061E-4],\n",
       "  [Chile,1.0481978256189323E-4],\n",
       "  [France,1.0399872883500117E-4],\n",
       "  [Hungary,1.0351532863315192E-4],\n",
       "  [Lithuania,1.0262212428067272E-4],\n",
       "  [Netherlands,1.0213215665653311E-4],\n",
       "  [Austria,1.0142561916584055E-4],\n",
       "  [Colombia,1.0024867022909995E-4],\n",
       "  [Kuwait,9.842233741318859E-5],\n",
       "  [Brazil,9.265895515674243E-5],\n",
       "  [Bulgaria,9.236022816402629E-5],\n",
       "  [Jordan,9.170051564855786E-5],\n",
       "  [Sweden,9.04594102119817E-5],\n",
       "  [Malta,8.879716674565683E-5],\n",
       "  [Maldives,8.806191843758869E-5],\n",
       "..."
      ]
     },
     "execution_count": 22,
     "metadata": {},
     "output_type": "execute_result"
    }
   ],
   "source": [
    "query_3_DF.collect"
   ]
  },
  {
   "cell_type": "code",
   "execution_count": 23,
   "metadata": {},
   "outputs": [
    {
     "data": {
      "text/html": [
       "<div>\n",
       "  <span style=\"float: left;\">csv at cmd2.sc:6</span>\n",
       "</div>\n"
      ]
     },
     "metadata": {},
     "output_type": "display_data"
    },
    {
     "data": {
      "text/html": [
       "<div class=\"progress\">\n",
       "  <div class=\"progress-bar\" role=\"progressbar\" style=\"background-color: blue; width: 100%; word-wrap: normal; white-space: nowrap; text-align: center; color: white\" aria-valuenow=\"100\" aria-valuemin=\"0\" aria-valuemax=\"100\">\n",
       "    1 / 1\n",
       "  </div>\n",
       "  <div class=\"progress-bar\" role=\"progressbar\" style=\"background-color: red; width: 0%\" aria-valuenow=\"0\" aria-valuemin=\"0\" aria-valuemax=\"100\"></div>\n",
       "</div>\n"
      ]
     },
     "metadata": {},
     "output_type": "display_data"
    },
    {
     "data": {
      "text/html": [
       "<div>\n",
       "  <span style=\"float: left;\">csv at cmd2.sc:6</span>\n",
       "</div>\n"
      ]
     },
     "metadata": {},
     "output_type": "display_data"
    },
    {
     "data": {
      "text/html": [
       "<div class=\"progress\">\n",
       "  <div class=\"progress-bar\" role=\"progressbar\" style=\"background-color: blue; width: 100%; word-wrap: normal; white-space: nowrap; text-align: center; color: white\" aria-valuenow=\"100\" aria-valuemin=\"0\" aria-valuemax=\"100\">\n",
       "    2 / 2\n",
       "  </div>\n",
       "  <div class=\"progress-bar\" role=\"progressbar\" style=\"background-color: red; width: 0%\" aria-valuenow=\"0\" aria-valuemin=\"0\" aria-valuemax=\"100\"></div>\n",
       "</div>\n"
      ]
     },
     "metadata": {},
     "output_type": "display_data"
    },
    {
     "data": {
      "text/html": [
       "<div>\n",
       "  <span style=\"float: left;\">csv at cmd3.sc:6</span>\n",
       "</div>\n"
      ]
     },
     "metadata": {},
     "output_type": "display_data"
    },
    {
     "data": {
      "text/html": [
       "<div class=\"progress\">\n",
       "  <div class=\"progress-bar\" role=\"progressbar\" style=\"background-color: blue; width: 100%; word-wrap: normal; white-space: nowrap; text-align: center; color: white\" aria-valuenow=\"100\" aria-valuemin=\"0\" aria-valuemax=\"100\">\n",
       "    1 / 1\n",
       "  </div>\n",
       "  <div class=\"progress-bar\" role=\"progressbar\" style=\"background-color: red; width: 0%\" aria-valuenow=\"0\" aria-valuemin=\"0\" aria-valuemax=\"100\"></div>\n",
       "</div>\n"
      ]
     },
     "metadata": {},
     "output_type": "display_data"
    },
    {
     "data": {
      "text/html": [
       "<div>\n",
       "  <span style=\"float: left;\">csv at cmd3.sc:6</span>\n",
       "</div>\n"
      ]
     },
     "metadata": {},
     "output_type": "display_data"
    },
    {
     "data": {
      "text/html": [
       "<div class=\"progress\">\n",
       "  <div class=\"progress-bar\" role=\"progressbar\" style=\"background-color: blue; width: 100%; word-wrap: normal; white-space: nowrap; text-align: center; color: white\" aria-valuenow=\"100\" aria-valuemin=\"0\" aria-valuemax=\"100\">\n",
       "    1 / 1\n",
       "  </div>\n",
       "  <div class=\"progress-bar\" role=\"progressbar\" style=\"background-color: red; width: 0%\" aria-valuenow=\"0\" aria-valuemin=\"0\" aria-valuemax=\"100\"></div>\n",
       "</div>\n"
      ]
     },
     "metadata": {},
     "output_type": "display_data"
    },
    {
     "data": {
      "text/html": [
       "<div>\n",
       "  <span style=\"float: left;\">run at ThreadPoolExecutor.java:1149</span>\n",
       "</div>\n"
      ]
     },
     "metadata": {},
     "output_type": "display_data"
    },
    {
     "data": {
      "text/html": [
       "<div class=\"progress\">\n",
       "  <div class=\"progress-bar\" role=\"progressbar\" style=\"background-color: blue; width: 100%; word-wrap: normal; white-space: nowrap; text-align: center; color: white\" aria-valuenow=\"100\" aria-valuemin=\"0\" aria-valuemax=\"100\">\n",
       "    1 / 1\n",
       "  </div>\n",
       "  <div class=\"progress-bar\" role=\"progressbar\" style=\"background-color: red; width: 0%\" aria-valuenow=\"0\" aria-valuemin=\"0\" aria-valuemax=\"100\"></div>\n",
       "</div>\n"
      ]
     },
     "metadata": {},
     "output_type": "display_data"
    },
    {
     "data": {
      "text/html": [
       "<div>\n",
       "  <span style=\"float: left;\">collect at cmd22.sc:1</span>\n",
       "</div>\n"
      ]
     },
     "metadata": {},
     "output_type": "display_data"
    },
    {
     "data": {
      "text/html": [
       "<div class=\"progress\">\n",
       "  <div class=\"progress-bar\" role=\"progressbar\" style=\"background-color: blue; width: 100%; word-wrap: normal; white-space: nowrap; text-align: center; color: white\" aria-valuenow=\"100\" aria-valuemin=\"0\" aria-valuemax=\"100\">\n",
       "    2 / 2\n",
       "  </div>\n",
       "  <div class=\"progress-bar\" role=\"progressbar\" style=\"background-color: red; width: 0%\" aria-valuenow=\"0\" aria-valuemin=\"0\" aria-valuemax=\"100\"></div>\n",
       "</div>\n"
      ]
     },
     "metadata": {},
     "output_type": "display_data"
    },
    {
     "data": {
      "text/html": [
       "<div>\n",
       "  <span style=\"float: left;\">collect at cmd22.sc:1</span>\n",
       "</div>\n"
      ]
     },
     "metadata": {},
     "output_type": "display_data"
    },
    {
     "data": {
      "text/html": [
       "<div class=\"progress\">\n",
       "  <div class=\"progress-bar\" role=\"progressbar\" style=\"background-color: blue; width: 100%; word-wrap: normal; white-space: nowrap; text-align: center; color: white\" aria-valuenow=\"100\" aria-valuemin=\"0\" aria-valuemax=\"100\">\n",
       "    2 / 2\n",
       "  </div>\n",
       "  <div class=\"progress-bar\" role=\"progressbar\" style=\"background-color: red; width: 0%\" aria-valuenow=\"0\" aria-valuemin=\"0\" aria-valuemax=\"100\"></div>\n",
       "</div>\n"
      ]
     },
     "metadata": {},
     "output_type": "display_data"
    },
    {
     "data": {
      "text/html": [
       "<div>\n",
       "  <span style=\"float: left;\">collect at cmd22.sc:1</span>\n",
       "</div>\n"
      ]
     },
     "metadata": {},
     "output_type": "display_data"
    },
    {
     "data": {
      "text/html": [
       "<div class=\"progress\">\n",
       "  <div class=\"progress-bar\" role=\"progressbar\" style=\"background-color: blue; width: 100%; word-wrap: normal; white-space: nowrap; text-align: center; color: white\" aria-valuenow=\"100\" aria-valuemin=\"0\" aria-valuemax=\"100\">\n",
       "    8 / 8\n",
       "  </div>\n",
       "  <div class=\"progress-bar\" role=\"progressbar\" style=\"background-color: red; width: 0%\" aria-valuenow=\"0\" aria-valuemin=\"0\" aria-valuemax=\"100\"></div>\n",
       "</div>\n"
      ]
     },
     "metadata": {},
     "output_type": "display_data"
    },
    {
     "data": {
      "text/plain": [
       "\u001b[36mres22\u001b[39m: \u001b[32mArray\u001b[39m[(\u001b[32mString\u001b[39m, \u001b[32mjava\u001b[39m.\u001b[32msql\u001b[39m.\u001b[32mTimestamp\u001b[39m, \u001b[32mInt\u001b[39m, \u001b[32mInt\u001b[39m, \u001b[32mDouble\u001b[39m)] = \u001b[33mArray\u001b[39m(\n",
       "  (\u001b[32m\"Afghanistan\"\u001b[39m, 2019-12-31 00:00:00.0, \u001b[32m0\u001b[39m, \u001b[32m39074280\u001b[39m, \u001b[32m0.0\u001b[39m),\n",
       "  (\u001b[32m\"Algeria\"\u001b[39m, 2019-12-31 00:00:00.0, \u001b[32m0\u001b[39m, \u001b[32m43984569\u001b[39m, \u001b[32m0.0\u001b[39m),\n",
       "  (\u001b[32m\"Armenia\"\u001b[39m, 2019-12-31 00:00:00.0, \u001b[32m0\u001b[39m, \u001b[32m2964219\u001b[39m, \u001b[32m0.0\u001b[39m),\n",
       "  (\u001b[32m\"Australia\"\u001b[39m, 2019-12-31 00:00:00.0, \u001b[32m0\u001b[39m, \u001b[32m25550683\u001b[39m, \u001b[32m0.0\u001b[39m),\n",
       "  (\u001b[32m\"Austria\"\u001b[39m, 2019-12-31 00:00:00.0, \u001b[32m0\u001b[39m, \u001b[32m9015361\u001b[39m, \u001b[32m0.0\u001b[39m),\n",
       "  (\u001b[32m\"Azerbaijan\"\u001b[39m, 2019-12-31 00:00:00.0, \u001b[32m0\u001b[39m, \u001b[32m10154978\u001b[39m, \u001b[32m0.0\u001b[39m),\n",
       "  (\u001b[32m\"Bahrain\"\u001b[39m, 2019-12-31 00:00:00.0, \u001b[32m0\u001b[39m, \u001b[32m1711057\u001b[39m, \u001b[32m0.0\u001b[39m),\n",
       "  (\u001b[32m\"Belarus\"\u001b[39m, 2019-12-31 00:00:00.0, \u001b[32m0\u001b[39m, \u001b[32m9448772\u001b[39m, \u001b[32m0.0\u001b[39m),\n",
       "  (\u001b[32m\"Belgium\"\u001b[39m, 2019-12-31 00:00:00.0, \u001b[32m0\u001b[39m, \u001b[32m11598451\u001b[39m, \u001b[32m0.0\u001b[39m),\n",
       "  (\u001b[32m\"Brazil\"\u001b[39m, 2019-12-31 00:00:00.0, \u001b[32m0\u001b[39m, \u001b[32m212821986\u001b[39m, \u001b[32m0.0\u001b[39m),\n",
       "  (\u001b[32m\"Cambodia\"\u001b[39m, 2019-12-31 00:00:00.0, \u001b[32m0\u001b[39m, \u001b[32m16758448\u001b[39m, \u001b[32m0.0\u001b[39m),\n",
       "  (\u001b[32m\"Canada\"\u001b[39m, 2019-12-31 00:00:00.0, \u001b[32m0\u001b[39m, \u001b[32m37799407\u001b[39m, \u001b[32m0.0\u001b[39m),\n",
       "  (\u001b[32m\"China\"\u001b[39m, 2019-12-31 00:00:00.0, \u001b[32m27\u001b[39m, \u001b[32m1440297825\u001b[39m, \u001b[32m1.874612287219138E-8\u001b[39m),\n",
       "  (\u001b[32m\"Croatia\"\u001b[39m, 2019-12-31 00:00:00.0, \u001b[32m0\u001b[39m, \u001b[32m4100719\u001b[39m, \u001b[32m0.0\u001b[39m),\n",
       "  (\u001b[32m\"Denmark\"\u001b[39m, 2019-12-31 00:00:00.0, \u001b[32m0\u001b[39m, \u001b[32m5795780\u001b[39m, \u001b[32m0.0\u001b[39m),\n",
       "  (\u001b[32m\"Ecuador\"\u001b[39m, 2019-12-31 00:00:00.0, \u001b[32m0\u001b[39m, \u001b[32m17688599\u001b[39m, \u001b[32m0.0\u001b[39m),\n",
       "  (\u001b[32m\"Egypt\"\u001b[39m, 2019-12-31 00:00:00.0, \u001b[32m0\u001b[39m, \u001b[32m102659126\u001b[39m, \u001b[32m0.0\u001b[39m),\n",
       "  (\u001b[32m\"Estonia\"\u001b[39m, 2019-12-31 00:00:00.0, \u001b[32m0\u001b[39m, \u001b[32m1326693\u001b[39m, \u001b[32m0.0\u001b[39m),\n",
       "  (\u001b[32m\"Finland\"\u001b[39m, 2019-12-31 00:00:00.0, \u001b[32m0\u001b[39m, \u001b[32m5542237\u001b[39m, \u001b[32m0.0\u001b[39m),\n",
       "  (\u001b[32m\"France\"\u001b[39m, 2019-12-31 00:00:00.0, \u001b[32m0\u001b[39m, \u001b[32m65298930\u001b[39m, \u001b[32m0.0\u001b[39m),\n",
       "  (\u001b[32m\"Georgia\"\u001b[39m, 2019-12-31 00:00:00.0, \u001b[32m0\u001b[39m, \u001b[32m3987805\u001b[39m, \u001b[32m0.0\u001b[39m),\n",
       "  (\u001b[32m\"Germany\"\u001b[39m, 2019-12-31 00:00:00.0, \u001b[32m0\u001b[39m, \u001b[32m83830972\u001b[39m, \u001b[32m0.0\u001b[39m),\n",
       "  (\u001b[32m\"Greece\"\u001b[39m, 2019-12-31 00:00:00.0, \u001b[32m0\u001b[39m, \u001b[32m10413936\u001b[39m, \u001b[32m0.0\u001b[39m),\n",
       "  (\u001b[32m\"Iceland\"\u001b[39m, 2019-12-31 00:00:00.0, \u001b[32m0\u001b[39m, \u001b[32m341628\u001b[39m, \u001b[32m0.0\u001b[39m),\n",
       "  (\u001b[32m\"India\"\u001b[39m, 2019-12-31 00:00:00.0, \u001b[32m0\u001b[39m, \u001b[32m1382345085\u001b[39m, \u001b[32m0.0\u001b[39m),\n",
       "  (\u001b[32m\"Indonesia\"\u001b[39m, 2019-12-31 00:00:00.0, \u001b[32m0\u001b[39m, \u001b[32m274021604\u001b[39m, \u001b[32m0.0\u001b[39m),\n",
       "  (\u001b[32m\"Iran\"\u001b[39m, 2019-12-31 00:00:00.0, \u001b[32m0\u001b[39m, \u001b[32m84176929\u001b[39m, \u001b[32m0.0\u001b[39m),\n",
       "  (\u001b[32m\"Iraq\"\u001b[39m, 2019-12-31 00:00:00.0, \u001b[32m0\u001b[39m, \u001b[32m40372771\u001b[39m, \u001b[32m0.0\u001b[39m),\n",
       "  (\u001b[32m\"Ireland\"\u001b[39m, 2019-12-31 00:00:00.0, \u001b[32m0\u001b[39m, \u001b[32m4947267\u001b[39m, \u001b[32m0.0\u001b[39m),\n",
       "  (\u001b[32m\"Israel\"\u001b[39m, 2019-12-31 00:00:00.0, \u001b[32m0\u001b[39m, \u001b[32m8678517\u001b[39m, \u001b[32m0.0\u001b[39m),\n",
       "  (\u001b[32m\"Italy\"\u001b[39m, 2019-12-31 00:00:00.0, \u001b[32m0\u001b[39m, \u001b[32m60446035\u001b[39m, \u001b[32m0.0\u001b[39m),\n",
       "  (\u001b[32m\"Japan\"\u001b[39m, 2019-12-31 00:00:00.0, \u001b[32m0\u001b[39m, \u001b[32m126407422\u001b[39m, \u001b[32m0.0\u001b[39m),\n",
       "  (\u001b[32m\"Kuwait\"\u001b[39m, 2019-12-31 00:00:00.0, \u001b[32m0\u001b[39m, \u001b[32m4281320\u001b[39m, \u001b[32m0.0\u001b[39m),\n",
       "  (\u001b[32m\"Lebanon\"\u001b[39m, 2019-12-31 00:00:00.0, \u001b[32m0\u001b[39m, \u001b[32m6819976\u001b[39m, \u001b[32m0.0\u001b[39m),\n",
       "  (\u001b[32m\"Lithuania\"\u001b[39m, 2019-12-31 00:00:00.0, \u001b[32m0\u001b[39m, \u001b[32m2715340\u001b[39m, \u001b[32m0.0\u001b[39m),\n",
       "  (\u001b[32m\"Luxembourg\"\u001b[39m, 2019-12-31 00:00:00.0, \u001b[32m0\u001b[39m, \u001b[32m627704\u001b[39m, \u001b[32m0.0\u001b[39m),\n",
       "  (\u001b[32m\"Malaysia\"\u001b[39m, 2019-12-31 00:00:00.0, \u001b[32m0\u001b[39m, \u001b[32m32436963\u001b[39m, \u001b[32m0.0\u001b[39m),\n",
       "  (\u001b[32m\"Mexico\"\u001b[39m, 2019-12-31 00:00:00.0, \u001b[32m0\u001b[39m, \u001b[32m129166028\u001b[39m, \u001b[32m0.0\u001b[39m),\n",
       "..."
      ]
     },
     "execution_count": 23,
     "metadata": {},
     "output_type": "execute_result"
    }
   ],
   "source": [
    "query_4_DS.collect"
   ]
  },
  {
   "cell_type": "code",
   "execution_count": 25,
   "metadata": {},
   "outputs": [
    {
     "data": {
      "text/html": [
       "<div>\n",
       "  <span style=\"float: left;\">csv at cmd7.sc:4</span>\n",
       "</div>\n"
      ]
     },
     "metadata": {},
     "output_type": "display_data"
    },
    {
     "data": {
      "text/html": [
       "<div class=\"progress\">\n",
       "  <div class=\"progress-bar\" role=\"progressbar\" style=\"background-color: blue; width: 100%; word-wrap: normal; white-space: nowrap; text-align: center; color: white\" aria-valuenow=\"100\" aria-valuemin=\"0\" aria-valuemax=\"100\">\n",
       "    1 / 1\n",
       "  </div>\n",
       "  <div class=\"progress-bar\" role=\"progressbar\" style=\"background-color: red; width: 0%\" aria-valuenow=\"0\" aria-valuemin=\"0\" aria-valuemax=\"100\"></div>\n",
       "</div>\n"
      ]
     },
     "metadata": {},
     "output_type": "display_data"
    },
    {
     "data": {
      "text/html": [
       "<div>\n",
       "  <span style=\"float: left;\">csv at cmd8.sc:4</span>\n",
       "</div>\n"
      ]
     },
     "metadata": {},
     "output_type": "display_data"
    },
    {
     "data": {
      "text/html": [
       "<div class=\"progress\">\n",
       "  <div class=\"progress-bar\" role=\"progressbar\" style=\"background-color: blue; width: 100%; word-wrap: normal; white-space: nowrap; text-align: center; color: white\" aria-valuenow=\"100\" aria-valuemin=\"0\" aria-valuemax=\"100\">\n",
       "    1 / 1\n",
       "  </div>\n",
       "  <div class=\"progress-bar\" role=\"progressbar\" style=\"background-color: red; width: 0%\" aria-valuenow=\"0\" aria-valuemin=\"0\" aria-valuemax=\"100\"></div>\n",
       "</div>\n"
      ]
     },
     "metadata": {},
     "output_type": "display_data"
    },
    {
     "data": {
      "text/html": [
       "<div>\n",
       "  <span style=\"float: left;\">run at ThreadPoolExecutor.java:1149</span>\n",
       "</div>\n"
      ]
     },
     "metadata": {},
     "output_type": "display_data"
    },
    {
     "data": {
      "text/html": [
       "<div class=\"progress\">\n",
       "  <div class=\"progress-bar\" role=\"progressbar\" style=\"background-color: blue; width: 100%; word-wrap: normal; white-space: nowrap; text-align: center; color: white\" aria-valuenow=\"100\" aria-valuemin=\"0\" aria-valuemax=\"100\">\n",
       "    1 / 1\n",
       "  </div>\n",
       "  <div class=\"progress-bar\" role=\"progressbar\" style=\"background-color: red; width: 0%\" aria-valuenow=\"0\" aria-valuemin=\"0\" aria-valuemax=\"100\"></div>\n",
       "</div>\n"
      ]
     },
     "metadata": {},
     "output_type": "display_data"
    },
    {
     "data": {
      "text/html": [
       "<div>\n",
       "  <span style=\"float: left;\">collect at cmd24.sc:1</span>\n",
       "</div>\n"
      ]
     },
     "metadata": {},
     "output_type": "display_data"
    },
    {
     "data": {
      "text/html": [
       "<div class=\"progress\">\n",
       "  <div class=\"progress-bar\" role=\"progressbar\" style=\"background-color: blue; width: 100%; word-wrap: normal; white-space: nowrap; text-align: center; color: white\" aria-valuenow=\"100\" aria-valuemin=\"0\" aria-valuemax=\"100\">\n",
       "    2 / 2\n",
       "  </div>\n",
       "  <div class=\"progress-bar\" role=\"progressbar\" style=\"background-color: red; width: 0%\" aria-valuenow=\"0\" aria-valuemin=\"0\" aria-valuemax=\"100\"></div>\n",
       "</div>\n"
      ]
     },
     "metadata": {},
     "output_type": "display_data"
    },
    {
     "data": {
      "text/html": [
       "<div>\n",
       "  <span style=\"float: left;\">collect at cmd24.sc:1</span>\n",
       "</div>\n"
      ]
     },
     "metadata": {},
     "output_type": "display_data"
    },
    {
     "data": {
      "text/html": [
       "<div class=\"progress\">\n",
       "  <div class=\"progress-bar\" role=\"progressbar\" style=\"background-color: blue; width: 100%; word-wrap: normal; white-space: nowrap; text-align: center; color: white\" aria-valuenow=\"100\" aria-valuemin=\"0\" aria-valuemax=\"100\">\n",
       "    2 / 2\n",
       "  </div>\n",
       "  <div class=\"progress-bar\" role=\"progressbar\" style=\"background-color: red; width: 0%\" aria-valuenow=\"0\" aria-valuemin=\"0\" aria-valuemax=\"100\"></div>\n",
       "</div>\n"
      ]
     },
     "metadata": {},
     "output_type": "display_data"
    },
    {
     "data": {
      "text/html": [
       "<div>\n",
       "  <span style=\"float: left;\">collect at cmd24.sc:1</span>\n",
       "</div>\n"
      ]
     },
     "metadata": {},
     "output_type": "display_data"
    },
    {
     "data": {
      "text/html": [
       "<div class=\"progress\">\n",
       "  <div class=\"progress-bar\" role=\"progressbar\" style=\"background-color: blue; width: 100%; word-wrap: normal; white-space: nowrap; text-align: center; color: white\" aria-valuenow=\"100\" aria-valuemin=\"0\" aria-valuemax=\"100\">\n",
       "    8 / 8\n",
       "  </div>\n",
       "  <div class=\"progress-bar\" role=\"progressbar\" style=\"background-color: red; width: 0%\" aria-valuenow=\"0\" aria-valuemin=\"0\" aria-valuemax=\"100\"></div>\n",
       "</div>\n"
      ]
     },
     "metadata": {},
     "output_type": "display_data"
    },
    {
     "data": {
      "text/plain": [
       "\u001b[36mres24\u001b[39m: \u001b[32mArray\u001b[39m[\u001b[32morg\u001b[39m.\u001b[32mapache\u001b[39m.\u001b[32mspark\u001b[39m.\u001b[32msql\u001b[39m.\u001b[32mRow\u001b[39m] = \u001b[33mArray\u001b[39m(\n",
       "  [Afghanistan,2019-12-31,0,39074280,0.0],\n",
       "  [Algeria,2019-12-31,0,43984569,0.0],\n",
       "  [Armenia,2019-12-31,0,2964219,0.0],\n",
       "  [Australia,2019-12-31,0,25550683,0.0],\n",
       "  [Austria,2019-12-31,0,9015361,0.0],\n",
       "  [Azerbaijan,2019-12-31,0,10154978,0.0],\n",
       "  [Bahrain,2019-12-31,0,1711057,0.0],\n",
       "  [Belarus,2019-12-31,0,9448772,0.0],\n",
       "  [Belgium,2019-12-31,0,11598451,0.0],\n",
       "  [Brazil,2019-12-31,0,212821986,0.0],\n",
       "  [Cambodia,2019-12-31,0,16758448,0.0],\n",
       "  [Canada,2019-12-31,0,37799407,0.0],\n",
       "  [China,2019-12-31,27,1440297825,1.874612287219138E-8],\n",
       "  [Croatia,2019-12-31,0,4100719,0.0],\n",
       "  [Denmark,2019-12-31,0,5795780,0.0],\n",
       "  [Ecuador,2019-12-31,0,17688599,0.0],\n",
       "  [Egypt,2019-12-31,0,102659126,0.0],\n",
       "  [Estonia,2019-12-31,0,1326693,0.0],\n",
       "  [Finland,2019-12-31,0,5542237,0.0],\n",
       "  [France,2019-12-31,0,65298930,0.0],\n",
       "  [Georgia,2019-12-31,0,3987805,0.0],\n",
       "  [Germany,2019-12-31,0,83830972,0.0],\n",
       "  [Greece,2019-12-31,0,10413936,0.0],\n",
       "  [Iceland,2019-12-31,0,341628,0.0],\n",
       "  [India,2019-12-31,0,1382345085,0.0],\n",
       "  [Indonesia,2019-12-31,0,274021604,0.0],\n",
       "  [Iran,2019-12-31,0,84176929,0.0],\n",
       "  [Iraq,2019-12-31,0,40372771,0.0],\n",
       "  [Ireland,2019-12-31,0,4947267,0.0],\n",
       "  [Israel,2019-12-31,0,8678517,0.0],\n",
       "  [Italy,2019-12-31,0,60446035,0.0],\n",
       "  [Japan,2019-12-31,0,126407422,0.0],\n",
       "  [Kuwait,2019-12-31,0,4281320,0.0],\n",
       "  [Lebanon,2019-12-31,0,6819976,0.0],\n",
       "  [Lithuania,2019-12-31,0,2715340,0.0],\n",
       "  [Luxembourg,2019-12-31,0,627704,0.0],\n",
       "  [Malaysia,2019-12-31,0,32436963,0.0],\n",
       "  [Mexico,2019-12-31,0,129166028,0.0],\n",
       "..."
      ]
     },
     "execution_count": 25,
     "metadata": {},
     "output_type": "execute_result"
    }
   ],
   "source": [
    "query_4_DF.collect"
   ]
  },
  {
   "cell_type": "code",
   "execution_count": null,
   "metadata": {},
   "outputs": [],
   "source": [
    "ch.cern.sparkmeasure.StageMetrics(spark).runAndMeasure(query_3_DS.collect)"
   ]
  },
  {
   "cell_type": "code",
   "execution_count": null,
   "metadata": {},
   "outputs": [],
   "source": [
    "ch.cern.sparkmeasure.StageMetrics(spark).runAndMeasure(query_4_DS.collect)"
   ]
  },
  {
   "cell_type": "code",
   "execution_count": null,
   "metadata": {},
   "outputs": [],
   "source": [
    "ch.cern.sparkmeasure.StageMetrics(spark).runAndMeasure(query_3_DF.collect)"
   ]
  },
  {
   "cell_type": "code",
   "execution_count": null,
   "metadata": {},
   "outputs": [],
   "source": [
    "ch.cern.sparkmeasure.StageMetrics(spark).runAndMeasure(query_4_DF.collect)"
   ]
  },
  {
   "cell_type": "markdown",
   "metadata": {},
   "source": [
    "## 5. Visualización de datos con plotly"
   ]
  },
  {
   "cell_type": "markdown",
   "metadata": {},
   "source": [
    "### Media de infecciones por densidad de población"
   ]
  },
  {
   "cell_type": "code",
   "execution_count": 26,
   "metadata": {
    "scrolled": false
   },
   "outputs": [
    {
     "data": {
      "text/html": [
       "<div>\n",
       "  <span style=\"float: left;\">csv at cmd7.sc:4</span>\n",
       "</div>\n"
      ]
     },
     "metadata": {},
     "output_type": "display_data"
    },
    {
     "data": {
      "text/html": [
       "<div class=\"progress\">\n",
       "  <div class=\"progress-bar\" role=\"progressbar\" style=\"background-color: blue; width: 100%; word-wrap: normal; white-space: nowrap; text-align: center; color: white\" aria-valuenow=\"100\" aria-valuemin=\"0\" aria-valuemax=\"100\">\n",
       "    1 / 1\n",
       "  </div>\n",
       "  <div class=\"progress-bar\" role=\"progressbar\" style=\"background-color: red; width: 0%\" aria-valuenow=\"0\" aria-valuemin=\"0\" aria-valuemax=\"100\"></div>\n",
       "</div>\n"
      ]
     },
     "metadata": {},
     "output_type": "display_data"
    },
    {
     "data": {
      "text/html": [
       "<div>\n",
       "  <span style=\"float: left;\">csv at cmd8.sc:4</span>\n",
       "</div>\n"
      ]
     },
     "metadata": {},
     "output_type": "display_data"
    },
    {
     "data": {
      "text/html": [
       "<div class=\"progress\">\n",
       "  <div class=\"progress-bar\" role=\"progressbar\" style=\"background-color: blue; width: 100%; word-wrap: normal; white-space: nowrap; text-align: center; color: white\" aria-valuenow=\"100\" aria-valuemin=\"0\" aria-valuemax=\"100\">\n",
       "    1 / 1\n",
       "  </div>\n",
       "  <div class=\"progress-bar\" role=\"progressbar\" style=\"background-color: red; width: 0%\" aria-valuenow=\"0\" aria-valuemin=\"0\" aria-valuemax=\"100\"></div>\n",
       "</div>\n"
      ]
     },
     "metadata": {},
     "output_type": "display_data"
    },
    {
     "data": {
      "text/html": [
       "<div>\n",
       "  <span style=\"float: left;\">run at ThreadPoolExecutor.java:1149</span>\n",
       "</div>\n"
      ]
     },
     "metadata": {},
     "output_type": "display_data"
    },
    {
     "data": {
      "text/html": [
       "<div class=\"progress\">\n",
       "  <div class=\"progress-bar\" role=\"progressbar\" style=\"background-color: blue; width: 100%; word-wrap: normal; white-space: nowrap; text-align: center; color: white\" aria-valuenow=\"100\" aria-valuemin=\"0\" aria-valuemax=\"100\">\n",
       "    1 / 1\n",
       "  </div>\n",
       "  <div class=\"progress-bar\" role=\"progressbar\" style=\"background-color: red; width: 0%\" aria-valuenow=\"0\" aria-valuemin=\"0\" aria-valuemax=\"100\"></div>\n",
       "</div>\n"
      ]
     },
     "metadata": {},
     "output_type": "display_data"
    },
    {
     "data": {
      "text/html": [
       "<div>\n",
       "  <span style=\"float: left;\">collect at cmd25.sc:1</span>\n",
       "</div>\n"
      ]
     },
     "metadata": {},
     "output_type": "display_data"
    },
    {
     "data": {
      "text/html": [
       "<div class=\"progress\">\n",
       "  <div class=\"progress-bar\" role=\"progressbar\" style=\"background-color: blue; width: 100%; word-wrap: normal; white-space: nowrap; text-align: center; color: white\" aria-valuenow=\"100\" aria-valuemin=\"0\" aria-valuemax=\"100\">\n",
       "    2 / 2\n",
       "  </div>\n",
       "  <div class=\"progress-bar\" role=\"progressbar\" style=\"background-color: red; width: 0%\" aria-valuenow=\"0\" aria-valuemin=\"0\" aria-valuemax=\"100\"></div>\n",
       "</div>\n"
      ]
     },
     "metadata": {},
     "output_type": "display_data"
    },
    {
     "data": {
      "text/html": [
       "<div>\n",
       "  <span style=\"float: left;\">collect at cmd25.sc:1</span>\n",
       "</div>\n"
      ]
     },
     "metadata": {},
     "output_type": "display_data"
    },
    {
     "data": {
      "text/html": [
       "<div class=\"progress\">\n",
       "  <div class=\"progress-bar\" role=\"progressbar\" style=\"background-color: blue; width: 100%; word-wrap: normal; white-space: nowrap; text-align: center; color: white\" aria-valuenow=\"100\" aria-valuemin=\"0\" aria-valuemax=\"100\">\n",
       "    8 / 8\n",
       "  </div>\n",
       "  <div class=\"progress-bar\" role=\"progressbar\" style=\"background-color: red; width: 0%\" aria-valuenow=\"0\" aria-valuemin=\"0\" aria-valuemax=\"100\"></div>\n",
       "</div>\n"
      ]
     },
     "metadata": {},
     "output_type": "display_data"
    },
    {
     "data": {
      "text/html": [
       "<div>\n",
       "  <span style=\"float: left;\">collect at cmd25.sc:1</span>\n",
       "</div>\n"
      ]
     },
     "metadata": {},
     "output_type": "display_data"
    },
    {
     "data": {
      "text/html": [
       "<div class=\"progress\">\n",
       "  <div class=\"progress-bar\" role=\"progressbar\" style=\"background-color: blue; width: 100%; word-wrap: normal; white-space: nowrap; text-align: center; color: white\" aria-valuenow=\"100\" aria-valuemin=\"0\" aria-valuemax=\"100\">\n",
       "    8 / 8\n",
       "  </div>\n",
       "  <div class=\"progress-bar\" role=\"progressbar\" style=\"background-color: red; width: 0%\" aria-valuenow=\"0\" aria-valuemin=\"0\" aria-valuemax=\"100\"></div>\n",
       "</div>\n"
      ]
     },
     "metadata": {},
     "output_type": "display_data"
    },
    {
     "data": {
      "text/html": [
       "<div>\n",
       "  <span style=\"float: left;\">collect at cmd25.sc:1</span>\n",
       "</div>\n"
      ]
     },
     "metadata": {},
     "output_type": "display_data"
    },
    {
     "data": {
      "text/html": [
       "<div class=\"progress\">\n",
       "  <div class=\"progress-bar\" role=\"progressbar\" style=\"background-color: blue; width: 100%; word-wrap: normal; white-space: nowrap; text-align: center; color: white\" aria-valuenow=\"100\" aria-valuemin=\"0\" aria-valuemax=\"100\">\n",
       "    8 / 8\n",
       "  </div>\n",
       "  <div class=\"progress-bar\" role=\"progressbar\" style=\"background-color: red; width: 0%\" aria-valuenow=\"0\" aria-valuemin=\"0\" aria-valuemax=\"100\"></div>\n",
       "</div>\n"
      ]
     },
     "metadata": {},
     "output_type": "display_data"
    },
    {
     "data": {
      "application/vnd.plotly.v1+json": {
       "config": {},
       "data": [
        {
         "type": "bar",
         "x": [
          "Andorra",
          "Montenegro",
          "Luxembourg",
          "Aruba",
          "Slovenia",
          "Panama",
          "Guam",
          "Belgium",
          "Bahrain",
          "Armenia",
          "Liechtenstein",
          "Qatar",
          "Georgia",
          "Croatia",
          "Switzerland",
          "Portugal",
          "Israel",
          "Gibraltar",
          "Argentina",
          "Moldova",
          "Serbia",
          "Spain",
          "Peru",
          "Poland",
          "Chile",
          "France",
          "Hungary",
          "Lithuania",
          "Netherlands",
          "Austria",
          "Colombia",
          "Kuwait",
          "Brazil",
          "Bulgaria",
          "Jordan",
          "Sweden",
          "Malta",
          "Maldives",
          "Belize",
          "Italy",
          "Slovakia",
          "Romania",
          "Curaçao",
          "Ukraine",
          "Bahamas",
          "Oman",
          "Lebanon",
          "Albania",
          "Denmark",
          "Russia",
          "Azerbaijan",
          "Monaco",
          "Libya",
          "Belarus",
          "Latvia",
          "Paraguay",
          "Iceland",
          "Germany",
          "Bolivia",
          "Cyprus",
          "Ireland",
          "Kyrgyzstan",
          "Turkey",
          "Honduras",
          "Iraq",
          "Estonia",
          "Morocco",
          "Iran",
          "Kazakhstan",
          "Canada",
          "Greece",
          "Suriname",
          "Tunisia",
          "Ecuador",
          "Singapore",
          "Mexico",
          "Guyana",
          "Guatemala",
          "Bermuda",
          "Nepal",
          "Namibia",
          "Djibouti",
          "Eswatini",
          "Norway",
          "Botswana",
          "India",
          "Finland",
          "Gabon",
          "Jamaica",
          "Venezuela",
          "Philippines",
          "Bangladesh",
          "Uruguay",
          "Montserrat",
          "Mauritania",
          "Uzbekistan",
          "Myanmar",
          "Malaysia",
          "Seychelles",
          "Indonesia",
          "Kenya",
          "Ghana",
          "Algeria",
          "Tajikistan",
          "Pakistan",
          "Gambia",
          "Lesotho",
          "Dominica",
          "Japan",
          "Congo",
          "Barbados",
          "Afghanistan",
          "Guinea",
          "Ethiopia",
          "Zambia",
          "Senegal",
          "Egypt",
          "Cameroon",
          "Nicaragua",
          "Comoros",
          "Australia",
          "Haiti",
          "Cuba",
          "Zimbabwe",
          "Anguilla",
          "Madagascar",
          "Grenada",
          "Uganda",
          "Bhutan",
          "Mozambique",
          "Syria",
          "Rwanda",
          "Angola",
          "Sudan",
          "Mauritius",
          "Togo",
          "Greenland",
          "Malawi",
          "Liberia",
          "Mali",
          "Somalia",
          "Nigeria",
          "Mongolia",
          "Benin",
          "Eritrea",
          "Chad",
          "Niger",
          "Yemen",
          "Burundi",
          "Fiji",
          "China",
          "Thailand",
          "Vanuatu",
          "Taiwan",
          "Cambodia",
          "Vietnam",
          "Laos"
         ],
         "y": [
          "3.4400295679401656E-4",
          "2.4248737515640602E-4",
          "1.9169310791749766E-4",
          "1.769864042262208E-4",
          "1.6312438537043818E-4",
          "1.5933045595717767E-4",
          "1.5512777072857744E-4",
          "1.4977394087242467E-4",
          "1.4927852711388843E-4",
          "1.470935836076611E-4",
          "1.4225295036283446E-4",
          "1.410043921276158E-4",
          "1.3807441257860555E-4",
          "1.2360663598057857E-4",
          "1.2276072071712674E-4",
          "1.1923139268591238E-4",
          "1.1883296974895626E-4",
          "1.1818342727541584E-4",
          "1.1694609939486568E-4",
          "1.1205780134087437E-4",
          "1.0898339588681578E-4",
          "1.0604965444992492E-4",
          "1.0568198964713385E-4",
          "1.056801767088061E-4",
          "1.0481978256189323E-4",
          "1.0399872883500117E-4",
          "1.0351532863315192E-4",
          "1.0262212428067272E-4",
          "1.0213215665653311E-4",
          "1.0142561916584055E-4",
          "1.0024867022909995E-4",
          "9.842233741318859E-5",
          "9.265895515674243E-5",
          "9.236022816402629E-5",
          "9.170051564855786E-5",
          "9.04594102119817E-5",
          "8.879716674565683E-5",
          "8.806191843758869E-5",
          "8.761200221278044E-5",
          "8.714795885997434E-5",
          "8.636722601785167E-5",
          "8.320043755789592E-5",
          "8.29667936397435E-5",
          "7.469760353839696E-5",
          "7.162664808493088E-5",
          "7.156251824492746E-5",
          "6.209233113026865E-5",
          "6.0024428396292154E-5",
          "5.410734805570364E-5",
          "5.195535444150675E-5",
          "5.049269300129658E-5",
          "5.0301129064564556E-5",
          "4.973863492204412E-5",
          "4.960420575386483E-5",
          "4.819591800791427E-5",
          "4.709666361068959E-5",
          "4.647494601479638E-5",
          "4.5570542318689284E-5",
          "4.540325114103575E-5",
          "4.493404993100431E-5",
          "4.4251182277629934E-5",
          "4.380942576947178E-5",
          "4.268617803143365E-5",
          "4.172090522979654E-5",
          "4.0900019630477695E-5",
          "3.944645319854202E-5",
          "3.8587290023821136E-5",
          "3.761699190930163E-5",
          "3.600120078732539E-5",
          "3.48261699298238E-5",
          "3.4363215007186544E-5",
          "3.374390200160661E-5",
          "3.347172599533248E-5",
          "3.311885169405003E-5",
          "2.844305441533797E-5",
          "2.765087957736287E-5",
          "2.7346116025828707E-5",
          "2.615916592482222E-5",
          "2.5648670345554797E-5",
          "2.5223448882557514E-5",
          "2.3593118859146544E-5",
          "2.1340396169924956E-5",
          "2.1175538029731637E-5",
          "2.1064122943909875E-5",
          "2.0534750124319763E-5",
          "2.0487795519159687E-5",
          "1.606684138093813E-5",
          "1.512872433195445E-5",
          "1.426535551587261E-5",
          "1.3762673311754524E-5",
          "1.1825913676043043E-5",
          "1.0812456664776099E-5",
          "1.0156335697024861E-5",
          "9.715093668449263E-6",
          "8.394408724189067E-6",
          "8.168429037737473E-6",
          "7.449073784869729E-6",
          "7.373790853626613E-6",
          "6.90684895330767E-6",
          "6.573293723935426E-6",
          "6.169164504390356E-6",
          "6.1600677860208204E-6",
          "6.0694540133058865E-6",
          "5.82027514471108E-6",
          "5.765206543750934E-6",
          "5.727207700158366E-6",
          "4.901197137223386E-6",
          "4.524524718180616E-6",
          "4.060634079811276E-6",
          "3.9845543155453566E-6",
          "3.7348337610144374E-6",
          "3.7088485887723094E-6",
          "3.6994138324267114E-6",
          "3.665076664262543E-6",
          "3.6512235192169566E-6",
          "3.626319473771795E-6",
          "3.4227140446329356E-6",
          "3.4053149663271395E-6",
          "3.2725221140876404E-6",
          "3.1700878586316496E-6",
          "3.1344982609103417E-6",
          "3.100369525150967E-6",
          "3.0255427424496486E-6",
          "2.8058613417490884E-6",
          "2.5304681011721636E-6",
          "2.3578769373133793E-6",
          "2.2948031886988722E-6",
          "2.2345078295730782E-6",
          "2.052800619012182E-6",
          "2.0223099320806754E-6",
          "1.953758150691442E-6",
          "1.861897831564975E-6",
          "1.828616127646441E-6",
          "1.760263620187753E-6",
          "1.4993691004192992E-6",
          "1.417287817139012E-6",
          "1.2391985907050974E-6",
          "1.2333969239658167E-6",
          "1.2091190055707797E-6",
          "1.082405020043014E-6",
          "1.0505482560584174E-6",
          "1.042858845877551E-6",
          "1.0125409547835743E-6",
          "9.296291660518778E-7",
          "7.46311273084473E-7",
          "3.972371335952851E-7",
          "3.4477494002865895E-7",
          "2.794498434896545E-7",
          "2.3648092007123588E-7",
          "1.898122719493237E-7",
          "1.825435950076109E-7",
          "1.7689577370030905E-7",
          "9.538837280599589E-8",
          "8.874466787706809E-8",
          "6.282120657913343E-8",
          "4.141523967521942E-8",
          "2.1212873132433527E-8"
         ]
        }
       ],
       "layout": {}
      },
      "text/html": [
       "<div class=\"chart\" id=\"plot-54657af1-a5ec-4339-bc33-713a72eee660\"></div>\n",
       "<script>require(['plotly'], function(Plotly) {\n",
       "  (function () {\n",
       "  var data0 = {\"x\":[\"Andorra\",\"Montenegro\",\"Luxembourg\",\"Aruba\",\"Slovenia\",\"Panama\",\"Guam\",\"Belgium\",\"Bahrain\",\"Armenia\",\"Liechtenstein\",\"Qatar\",\"Georgia\",\"Croatia\",\"Switzerland\",\"Portugal\",\"Israel\",\"Gibraltar\",\"Argentina\",\"Moldova\",\"Serbia\",\"Spain\",\"Peru\",\"Poland\",\"Chile\",\"France\",\"Hungary\",\"Lithuania\",\"Netherlands\",\"Austria\",\"Colombia\",\"Kuwait\",\"Brazil\",\"Bulgaria\",\"Jordan\",\"Sweden\",\"Malta\",\"Maldives\",\"Belize\",\"Italy\",\"Slovakia\",\"Romania\",\"Curaçao\",\"Ukraine\",\"Bahamas\",\"Oman\",\"Lebanon\",\"Albania\",\"Denmark\",\"Russia\",\"Azerbaijan\",\"Monaco\",\"Libya\",\"Belarus\",\"Latvia\",\"Paraguay\",\"Iceland\",\"Germany\",\"Bolivia\",\"Cyprus\",\"Ireland\",\"Kyrgyzstan\",\"Turkey\",\"Honduras\",\"Iraq\",\"Estonia\",\"Morocco\",\"Iran\",\"Kazakhstan\",\"Canada\",\"Greece\",\"Suriname\",\"Tunisia\",\"Ecuador\",\"Singapore\",\"Mexico\",\"Guyana\",\"Guatemala\",\"Bermuda\",\"Nepal\",\"Namibia\",\"Djibouti\",\"Eswatini\",\"Norway\",\"Botswana\",\"India\",\"Finland\",\"Gabon\",\"Jamaica\",\"Venezuela\",\"Philippines\",\"Bangladesh\",\"Uruguay\",\"Montserrat\",\"Mauritania\",\"Uzbekistan\",\"Myanmar\",\"Malaysia\",\"Seychelles\",\"Indonesia\",\"Kenya\",\"Ghana\",\"Algeria\",\"Tajikistan\",\"Pakistan\",\"Gambia\",\"Lesotho\",\"Dominica\",\"Japan\",\"Congo\",\"Barbados\",\"Afghanistan\",\"Guinea\",\"Ethiopia\",\"Zambia\",\"Senegal\",\"Egypt\",\"Cameroon\",\"Nicaragua\",\"Comoros\",\"Australia\",\"Haiti\",\"Cuba\",\"Zimbabwe\",\"Anguilla\",\"Madagascar\",\"Grenada\",\"Uganda\",\"Bhutan\",\"Mozambique\",\"Syria\",\"Rwanda\",\"Angola\",\"Sudan\",\"Mauritius\",\"Togo\",\"Greenland\",\"Malawi\",\"Liberia\",\"Mali\",\"Somalia\",\"Nigeria\",\"Mongolia\",\"Benin\",\"Eritrea\",\"Chad\",\"Niger\",\"Yemen\",\"Burundi\",\"Fiji\",\"China\",\"Thailand\",\"Vanuatu\",\"Taiwan\",\"Cambodia\",\"Vietnam\",\"Laos\"],\"y\":[\"3.4400295679401656E-4\",\"2.4248737515640602E-4\",\"1.9169310791749766E-4\",\"1.769864042262208E-4\",\"1.6312438537043818E-4\",\"1.5933045595717767E-4\",\"1.5512777072857744E-4\",\"1.4977394087242467E-4\",\"1.4927852711388843E-4\",\"1.470935836076611E-4\",\"1.4225295036283446E-4\",\"1.410043921276158E-4\",\"1.3807441257860555E-4\",\"1.2360663598057857E-4\",\"1.2276072071712674E-4\",\"1.1923139268591238E-4\",\"1.1883296974895626E-4\",\"1.1818342727541584E-4\",\"1.1694609939486568E-4\",\"1.1205780134087437E-4\",\"1.0898339588681578E-4\",\"1.0604965444992492E-4\",\"1.0568198964713385E-4\",\"1.056801767088061E-4\",\"1.0481978256189323E-4\",\"1.0399872883500117E-4\",\"1.0351532863315192E-4\",\"1.0262212428067272E-4\",\"1.0213215665653311E-4\",\"1.0142561916584055E-4\",\"1.0024867022909995E-4\",\"9.842233741318859E-5\",\"9.265895515674243E-5\",\"9.236022816402629E-5\",\"9.170051564855786E-5\",\"9.04594102119817E-5\",\"8.879716674565683E-5\",\"8.806191843758869E-5\",\"8.761200221278044E-5\",\"8.714795885997434E-5\",\"8.636722601785167E-5\",\"8.320043755789592E-5\",\"8.29667936397435E-5\",\"7.469760353839696E-5\",\"7.162664808493088E-5\",\"7.156251824492746E-5\",\"6.209233113026865E-5\",\"6.0024428396292154E-5\",\"5.410734805570364E-5\",\"5.195535444150675E-5\",\"5.049269300129658E-5\",\"5.0301129064564556E-5\",\"4.973863492204412E-5\",\"4.960420575386483E-5\",\"4.819591800791427E-5\",\"4.709666361068959E-5\",\"4.647494601479638E-5\",\"4.5570542318689284E-5\",\"4.540325114103575E-5\",\"4.493404993100431E-5\",\"4.4251182277629934E-5\",\"4.380942576947178E-5\",\"4.268617803143365E-5\",\"4.172090522979654E-5\",\"4.0900019630477695E-5\",\"3.944645319854202E-5\",\"3.8587290023821136E-5\",\"3.761699190930163E-5\",\"3.600120078732539E-5\",\"3.48261699298238E-5\",\"3.4363215007186544E-5\",\"3.374390200160661E-5\",\"3.347172599533248E-5\",\"3.311885169405003E-5\",\"2.844305441533797E-5\",\"2.765087957736287E-5\",\"2.7346116025828707E-5\",\"2.615916592482222E-5\",\"2.5648670345554797E-5\",\"2.5223448882557514E-5\",\"2.3593118859146544E-5\",\"2.1340396169924956E-5\",\"2.1175538029731637E-5\",\"2.1064122943909875E-5\",\"2.0534750124319763E-5\",\"2.0487795519159687E-5\",\"1.606684138093813E-5\",\"1.512872433195445E-5\",\"1.426535551587261E-5\",\"1.3762673311754524E-5\",\"1.1825913676043043E-5\",\"1.0812456664776099E-5\",\"1.0156335697024861E-5\",\"9.715093668449263E-6\",\"8.394408724189067E-6\",\"8.168429037737473E-6\",\"7.449073784869729E-6\",\"7.373790853626613E-6\",\"6.90684895330767E-6\",\"6.573293723935426E-6\",\"6.169164504390356E-6\",\"6.1600677860208204E-6\",\"6.0694540133058865E-6\",\"5.82027514471108E-6\",\"5.765206543750934E-6\",\"5.727207700158366E-6\",\"4.901197137223386E-6\",\"4.524524718180616E-6\",\"4.060634079811276E-6\",\"3.9845543155453566E-6\",\"3.7348337610144374E-6\",\"3.7088485887723094E-6\",\"3.6994138324267114E-6\",\"3.665076664262543E-6\",\"3.6512235192169566E-6\",\"3.626319473771795E-6\",\"3.4227140446329356E-6\",\"3.4053149663271395E-6\",\"3.2725221140876404E-6\",\"3.1700878586316496E-6\",\"3.1344982609103417E-6\",\"3.100369525150967E-6\",\"3.0255427424496486E-6\",\"2.8058613417490884E-6\",\"2.5304681011721636E-6\",\"2.3578769373133793E-6\",\"2.2948031886988722E-6\",\"2.2345078295730782E-6\",\"2.052800619012182E-6\",\"2.0223099320806754E-6\",\"1.953758150691442E-6\",\"1.861897831564975E-6\",\"1.828616127646441E-6\",\"1.760263620187753E-6\",\"1.4993691004192992E-6\",\"1.417287817139012E-6\",\"1.2391985907050974E-6\",\"1.2333969239658167E-6\",\"1.2091190055707797E-6\",\"1.082405020043014E-6\",\"1.0505482560584174E-6\",\"1.042858845877551E-6\",\"1.0125409547835743E-6\",\"9.296291660518778E-7\",\"7.46311273084473E-7\",\"3.972371335952851E-7\",\"3.4477494002865895E-7\",\"2.794498434896545E-7\",\"2.3648092007123588E-7\",\"1.898122719493237E-7\",\"1.825435950076109E-7\",\"1.7689577370030905E-7\",\"9.538837280599589E-8\",\"8.874466787706809E-8\",\"6.282120657913343E-8\",\"4.141523967521942E-8\",\"2.1212873132433527E-8\"],\"type\":\"bar\"};\n",
       "\n",
       "  var data = [data0];\n",
       "  var layout = {};\n",
       " var config = {};\n",
       "\n",
       "  Plotly.plot('plot-54657af1-a5ec-4339-bc33-713a72eee660', data, layout, config);\n",
       "})();\n",
       "});\n",
       "      </script>\n",
       "           "
      ]
     },
     "metadata": {},
     "output_type": "display_data"
    },
    {
     "data": {
      "text/plain": [
       "\u001b[36mx\u001b[39m: \u001b[32mList\u001b[39m[\u001b[32mString\u001b[39m] = \u001b[33mList\u001b[39m(\n",
       "  \u001b[32m\"Andorra\"\u001b[39m,\n",
       "  \u001b[32m\"Montenegro\"\u001b[39m,\n",
       "  \u001b[32m\"Luxembourg\"\u001b[39m,\n",
       "  \u001b[32m\"Aruba\"\u001b[39m,\n",
       "  \u001b[32m\"Slovenia\"\u001b[39m,\n",
       "  \u001b[32m\"Panama\"\u001b[39m,\n",
       "  \u001b[32m\"Guam\"\u001b[39m,\n",
       "  \u001b[32m\"Belgium\"\u001b[39m,\n",
       "  \u001b[32m\"Bahrain\"\u001b[39m,\n",
       "  \u001b[32m\"Armenia\"\u001b[39m,\n",
       "  \u001b[32m\"Liechtenstein\"\u001b[39m,\n",
       "  \u001b[32m\"Qatar\"\u001b[39m,\n",
       "  \u001b[32m\"Georgia\"\u001b[39m,\n",
       "  \u001b[32m\"Croatia\"\u001b[39m,\n",
       "  \u001b[32m\"Switzerland\"\u001b[39m,\n",
       "  \u001b[32m\"Portugal\"\u001b[39m,\n",
       "  \u001b[32m\"Israel\"\u001b[39m,\n",
       "  \u001b[32m\"Gibraltar\"\u001b[39m,\n",
       "  \u001b[32m\"Argentina\"\u001b[39m,\n",
       "  \u001b[32m\"Moldova\"\u001b[39m,\n",
       "  \u001b[32m\"Serbia\"\u001b[39m,\n",
       "  \u001b[32m\"Spain\"\u001b[39m,\n",
       "  \u001b[32m\"Peru\"\u001b[39m,\n",
       "  \u001b[32m\"Poland\"\u001b[39m,\n",
       "  \u001b[32m\"Chile\"\u001b[39m,\n",
       "  \u001b[32m\"France\"\u001b[39m,\n",
       "  \u001b[32m\"Hungary\"\u001b[39m,\n",
       "  \u001b[32m\"Lithuania\"\u001b[39m,\n",
       "  \u001b[32m\"Netherlands\"\u001b[39m,\n",
       "  \u001b[32m\"Austria\"\u001b[39m,\n",
       "  \u001b[32m\"Colombia\"\u001b[39m,\n",
       "  \u001b[32m\"Kuwait\"\u001b[39m,\n",
       "  \u001b[32m\"Brazil\"\u001b[39m,\n",
       "  \u001b[32m\"Bulgaria\"\u001b[39m,\n",
       "  \u001b[32m\"Jordan\"\u001b[39m,\n",
       "  \u001b[32m\"Sweden\"\u001b[39m,\n",
       "  \u001b[32m\"Malta\"\u001b[39m,\n",
       "  \u001b[32m\"Maldives\"\u001b[39m,\n",
       "...\n",
       "\u001b[36my\u001b[39m: \u001b[32mList\u001b[39m[\u001b[32mString\u001b[39m] = \u001b[33mList\u001b[39m(\n",
       "  \u001b[32m\"3.4400295679401656E-4\"\u001b[39m,\n",
       "  \u001b[32m\"2.4248737515640602E-4\"\u001b[39m,\n",
       "  \u001b[32m\"1.9169310791749766E-4\"\u001b[39m,\n",
       "  \u001b[32m\"1.769864042262208E-4\"\u001b[39m,\n",
       "  \u001b[32m\"1.6312438537043818E-4\"\u001b[39m,\n",
       "  \u001b[32m\"1.5933045595717767E-4\"\u001b[39m,\n",
       "  \u001b[32m\"1.5512777072857744E-4\"\u001b[39m,\n",
       "  \u001b[32m\"1.4977394087242467E-4\"\u001b[39m,\n",
       "  \u001b[32m\"1.4927852711388843E-4\"\u001b[39m,\n",
       "  \u001b[32m\"1.470935836076611E-4\"\u001b[39m,\n",
       "  \u001b[32m\"1.4225295036283446E-4\"\u001b[39m,\n",
       "  \u001b[32m\"1.410043921276158E-4\"\u001b[39m,\n",
       "  \u001b[32m\"1.3807441257860555E-4\"\u001b[39m,\n",
       "  \u001b[32m\"1.2360663598057857E-4\"\u001b[39m,\n",
       "  \u001b[32m\"1.2276072071712674E-4\"\u001b[39m,\n",
       "  \u001b[32m\"1.1923139268591238E-4\"\u001b[39m,\n",
       "  \u001b[32m\"1.1883296974895626E-4\"\u001b[39m,\n",
       "  \u001b[32m\"1.1818342727541584E-4\"\u001b[39m,\n",
       "  \u001b[32m\"1.1694609939486568E-4\"\u001b[39m,\n",
       "  \u001b[32m\"1.1205780134087437E-4\"\u001b[39m,\n",
       "  \u001b[32m\"1.0898339588681578E-4\"\u001b[39m,\n",
       "  \u001b[32m\"1.0604965444992492E-4\"\u001b[39m,\n",
       "  \u001b[32m\"1.0568198964713385E-4\"\u001b[39m,\n",
       "  \u001b[32m\"1.056801767088061E-4\"\u001b[39m,\n",
       "  \u001b[32m\"1.0481978256189323E-4\"\u001b[39m,\n",
       "  \u001b[32m\"1.0399872883500117E-4\"\u001b[39m,\n",
       "  \u001b[32m\"1.0351532863315192E-4\"\u001b[39m,\n",
       "  \u001b[32m\"1.0262212428067272E-4\"\u001b[39m,\n",
       "  \u001b[32m\"1.0213215665653311E-4\"\u001b[39m,\n",
       "  \u001b[32m\"1.0142561916584055E-4\"\u001b[39m,\n",
       "  \u001b[32m\"1.0024867022909995E-4\"\u001b[39m,\n",
       "  \u001b[32m\"9.842233741318859E-5\"\u001b[39m,\n",
       "  \u001b[32m\"9.265895515674243E-5\"\u001b[39m,\n",
       "  \u001b[32m\"9.236022816402629E-5\"\u001b[39m,\n",
       "  \u001b[32m\"9.170051564855786E-5\"\u001b[39m,\n",
       "  \u001b[32m\"9.04594102119817E-5\"\u001b[39m,\n",
       "  \u001b[32m\"8.879716674565683E-5\"\u001b[39m,\n",
       "  \u001b[32m\"8.806191843758869E-5\"\u001b[39m,\n",
       "...\n",
       "\u001b[36mres25_1\u001b[39m: \u001b[32mString\u001b[39m = \u001b[32m\"plot-54657af1-a5ec-4339-bc33-713a72eee660\"\u001b[39m"
      ]
     },
     "execution_count": 26,
     "metadata": {},
     "output_type": "execute_result"
    }
   ],
   "source": [
    "val (x,y) = query_3_DF\n",
    "    .collect\n",
    "    .map(r=>(r(0).toString, r(1).toString))\n",
    "    .toList\n",
    "    .unzip\n",
    "\n",
    "Bar(x, y).plot()"
   ]
  },
  {
   "cell_type": "markdown",
   "metadata": {},
   "source": [
    "### Porcentaje diario de infectados en España"
   ]
  },
  {
   "cell_type": "code",
   "execution_count": 32,
   "metadata": {},
   "outputs": [
    {
     "data": {
      "text/html": [
       "<div>\n",
       "  <span style=\"float: left;\">csv at cmd7.sc:4</span>\n",
       "</div>\n"
      ]
     },
     "metadata": {},
     "output_type": "display_data"
    },
    {
     "data": {
      "text/html": [
       "<div class=\"progress\">\n",
       "  <div class=\"progress-bar\" role=\"progressbar\" style=\"background-color: blue; width: 100%; word-wrap: normal; white-space: nowrap; text-align: center; color: white\" aria-valuenow=\"100\" aria-valuemin=\"0\" aria-valuemax=\"100\">\n",
       "    1 / 1\n",
       "  </div>\n",
       "  <div class=\"progress-bar\" role=\"progressbar\" style=\"background-color: red; width: 0%\" aria-valuenow=\"0\" aria-valuemin=\"0\" aria-valuemax=\"100\"></div>\n",
       "</div>\n"
      ]
     },
     "metadata": {},
     "output_type": "display_data"
    },
    {
     "data": {
      "text/html": [
       "<div>\n",
       "  <span style=\"float: left;\">csv at cmd8.sc:4</span>\n",
       "</div>\n"
      ]
     },
     "metadata": {},
     "output_type": "display_data"
    },
    {
     "data": {
      "text/html": [
       "<div class=\"progress\">\n",
       "  <div class=\"progress-bar\" role=\"progressbar\" style=\"background-color: blue; width: 100%; word-wrap: normal; white-space: nowrap; text-align: center; color: white\" aria-valuenow=\"100\" aria-valuemin=\"0\" aria-valuemax=\"100\">\n",
       "    1 / 1\n",
       "  </div>\n",
       "  <div class=\"progress-bar\" role=\"progressbar\" style=\"background-color: red; width: 0%\" aria-valuenow=\"0\" aria-valuemin=\"0\" aria-valuemax=\"100\"></div>\n",
       "</div>\n"
      ]
     },
     "metadata": {},
     "output_type": "display_data"
    },
    {
     "data": {
      "text/html": [
       "<div>\n",
       "  <span style=\"float: left;\">run at ThreadPoolExecutor.java:1149</span>\n",
       "</div>\n"
      ]
     },
     "metadata": {},
     "output_type": "display_data"
    },
    {
     "data": {
      "text/html": [
       "<div class=\"progress\">\n",
       "  <div class=\"progress-bar\" role=\"progressbar\" style=\"background-color: blue; width: 100%; word-wrap: normal; white-space: nowrap; text-align: center; color: white\" aria-valuenow=\"100\" aria-valuemin=\"0\" aria-valuemax=\"100\">\n",
       "    1 / 1\n",
       "  </div>\n",
       "  <div class=\"progress-bar\" role=\"progressbar\" style=\"background-color: red; width: 0%\" aria-valuenow=\"0\" aria-valuemin=\"0\" aria-valuemax=\"100\"></div>\n",
       "</div>\n"
      ]
     },
     "metadata": {},
     "output_type": "display_data"
    },
    {
     "data": {
      "text/html": [
       "<div>\n",
       "  <span style=\"float: left;\">collect at cmd31.sc:2</span>\n",
       "</div>\n"
      ]
     },
     "metadata": {},
     "output_type": "display_data"
    },
    {
     "data": {
      "text/html": [
       "<div class=\"progress\">\n",
       "  <div class=\"progress-bar\" role=\"progressbar\" style=\"background-color: blue; width: 100%; word-wrap: normal; white-space: nowrap; text-align: center; color: white\" aria-valuenow=\"100\" aria-valuemin=\"0\" aria-valuemax=\"100\">\n",
       "    2 / 2\n",
       "  </div>\n",
       "  <div class=\"progress-bar\" role=\"progressbar\" style=\"background-color: red; width: 0%\" aria-valuenow=\"0\" aria-valuemin=\"0\" aria-valuemax=\"100\"></div>\n",
       "</div>\n"
      ]
     },
     "metadata": {},
     "output_type": "display_data"
    },
    {
     "data": {
      "text/html": [
       "<div>\n",
       "  <span style=\"float: left;\">collect at cmd31.sc:2</span>\n",
       "</div>\n"
      ]
     },
     "metadata": {},
     "output_type": "display_data"
    },
    {
     "data": {
      "text/html": [
       "<div class=\"progress\">\n",
       "  <div class=\"progress-bar\" role=\"progressbar\" style=\"background-color: blue; width: 100%; word-wrap: normal; white-space: nowrap; text-align: center; color: white\" aria-valuenow=\"100\" aria-valuemin=\"0\" aria-valuemax=\"100\">\n",
       "    2 / 2\n",
       "  </div>\n",
       "  <div class=\"progress-bar\" role=\"progressbar\" style=\"background-color: red; width: 0%\" aria-valuenow=\"0\" aria-valuemin=\"0\" aria-valuemax=\"100\"></div>\n",
       "</div>\n"
      ]
     },
     "metadata": {},
     "output_type": "display_data"
    },
    {
     "data": {
      "text/html": [
       "<div>\n",
       "  <span style=\"float: left;\">collect at cmd31.sc:2</span>\n",
       "</div>\n"
      ]
     },
     "metadata": {},
     "output_type": "display_data"
    },
    {
     "data": {
      "text/html": [
       "<div class=\"progress\">\n",
       "  <div class=\"progress-bar\" role=\"progressbar\" style=\"background-color: blue; width: 100%; word-wrap: normal; white-space: nowrap; text-align: center; color: white\" aria-valuenow=\"100\" aria-valuemin=\"0\" aria-valuemax=\"100\">\n",
       "    8 / 8\n",
       "  </div>\n",
       "  <div class=\"progress-bar\" role=\"progressbar\" style=\"background-color: red; width: 0%\" aria-valuenow=\"0\" aria-valuemin=\"0\" aria-valuemax=\"100\"></div>\n",
       "</div>\n"
      ]
     },
     "metadata": {},
     "output_type": "display_data"
    },
    {
     "data": {
      "application/vnd.plotly.v1+json": {
       "config": {},
       "data": [
        {
         "type": "bar",
         "x": [
          "2019-12-31",
          "2020-01-01",
          "2020-01-02",
          "2020-01-03",
          "2020-01-04",
          "2020-01-05",
          "2020-01-06",
          "2020-01-07",
          "2020-01-08",
          "2020-01-09",
          "2020-01-10",
          "2020-01-11",
          "2020-01-12",
          "2020-01-13",
          "2020-01-14",
          "2020-01-15",
          "2020-01-16",
          "2020-01-17",
          "2020-01-18",
          "2020-01-19",
          "2020-01-20",
          "2020-01-21",
          "2020-01-22",
          "2020-01-23",
          "2020-01-24",
          "2020-01-25",
          "2020-01-26",
          "2020-01-27",
          "2020-01-28",
          "2020-01-29",
          "2020-01-30",
          "2020-01-31",
          "2020-02-01",
          "2020-02-02",
          "2020-02-03",
          "2020-02-04",
          "2020-02-05",
          "2020-02-06",
          "2020-02-07",
          "2020-02-08",
          "2020-02-09",
          "2020-02-10",
          "2020-02-11",
          "2020-02-12",
          "2020-02-13",
          "2020-02-14",
          "2020-02-15",
          "2020-02-16",
          "2020-02-17",
          "2020-02-18",
          "2020-02-19",
          "2020-02-20",
          "2020-02-21",
          "2020-02-22",
          "2020-02-23",
          "2020-02-24",
          "2020-02-25",
          "2020-02-26",
          "2020-02-27",
          "2020-02-28",
          "2020-02-29",
          "2020-03-01",
          "2020-03-02",
          "2020-03-03",
          "2020-03-04",
          "2020-03-05",
          "2020-03-06",
          "2020-03-07",
          "2020-03-08",
          "2020-03-09",
          "2020-03-10",
          "2020-03-11",
          "2020-03-12",
          "2020-03-13",
          "2020-03-14",
          "2020-03-15",
          "2020-03-16",
          "2020-03-17",
          "2020-03-18",
          "2020-03-19",
          "2020-03-20",
          "2020-03-21",
          "2020-03-22",
          "2020-03-23",
          "2020-03-24",
          "2020-03-25",
          "2020-03-26",
          "2020-03-27",
          "2020-03-28",
          "2020-03-29",
          "2020-03-30",
          "2020-03-31",
          "2020-04-01",
          "2020-04-02",
          "2020-04-03",
          "2020-04-04",
          "2020-04-05",
          "2020-04-06",
          "2020-04-07",
          "2020-04-08",
          "2020-04-09",
          "2020-04-10",
          "2020-04-11",
          "2020-04-12",
          "2020-04-13",
          "2020-04-14",
          "2020-04-15",
          "2020-04-16",
          "2020-04-17",
          "2020-04-18",
          "2020-04-19",
          "2020-04-20",
          "2020-04-21",
          "2020-04-22",
          "2020-04-23",
          "2020-04-24",
          "2020-04-25",
          "2020-04-26",
          "2020-04-27",
          "2020-04-28",
          "2020-04-29",
          "2020-04-30",
          "2020-05-01",
          "2020-05-02",
          "2020-05-03",
          "2020-05-04",
          "2020-05-05",
          "2020-05-06",
          "2020-05-07",
          "2020-05-08",
          "2020-05-09",
          "2020-05-10",
          "2020-05-11",
          "2020-05-12",
          "2020-05-13",
          "2020-05-14",
          "2020-05-15",
          "2020-05-16",
          "2020-05-17",
          "2020-05-18",
          "2020-05-19",
          "2020-05-20",
          "2020-05-21",
          "2020-05-22",
          "2020-05-23",
          "2020-05-24",
          "2020-05-25",
          "2020-05-26",
          "2020-05-27",
          "2020-05-28",
          "2020-05-29",
          "2020-05-30",
          "2020-05-31",
          "2020-06-01",
          "2020-06-02",
          "2020-06-03",
          "2020-06-04",
          "2020-06-05",
          "2020-06-06",
          "2020-06-07",
          "2020-06-08",
          "2020-06-09",
          "2020-06-10",
          "2020-06-11",
          "2020-06-12",
          "2020-06-13",
          "2020-06-14",
          "2020-06-15",
          "2020-06-16",
          "2020-06-17",
          "2020-06-18",
          "2020-06-19",
          "2020-06-20",
          "2020-06-21",
          "2020-06-22",
          "2020-06-23",
          "2020-06-24",
          "2020-06-25",
          "2020-06-26",
          "2020-06-27",
          "2020-06-28",
          "2020-06-29",
          "2020-06-30",
          "2020-07-01",
          "2020-07-02",
          "2020-07-03",
          "2020-07-04",
          "2020-07-05",
          "2020-07-06",
          "2020-07-07",
          "2020-07-08",
          "2020-07-09",
          "2020-07-10",
          "2020-07-11",
          "2020-07-12",
          "2020-07-13",
          "2020-07-14",
          "2020-07-15",
          "2020-07-16",
          "2020-07-17",
          "2020-07-18",
          "2020-07-19",
          "2020-07-20",
          "2020-07-21",
          "2020-07-22",
          "2020-07-23",
          "2020-07-24",
          "2020-07-25",
          "2020-07-26",
          "2020-07-27",
          "2020-07-28",
          "2020-07-29",
          "2020-07-30",
          "2020-07-31",
          "2020-08-01",
          "2020-08-02",
          "2020-08-03",
          "2020-08-04",
          "2020-08-05",
          "2020-08-06",
          "2020-08-07",
          "2020-08-08",
          "2020-08-09",
          "2020-08-10",
          "2020-08-11",
          "2020-08-12",
          "2020-08-13",
          "2020-08-14",
          "2020-08-15",
          "2020-08-16",
          "2020-08-17",
          "2020-08-18",
          "2020-08-19",
          "2020-08-20",
          "2020-08-21",
          "2020-08-22",
          "2020-08-23",
          "2020-08-24",
          "2020-08-25",
          "2020-08-26",
          "2020-08-27",
          "2020-08-28",
          "2020-08-29",
          "2020-08-30",
          "2020-08-31",
          "2020-09-01",
          "2020-09-02",
          "2020-09-03",
          "2020-09-04",
          "2020-09-05",
          "2020-09-06",
          "2020-09-07",
          "2020-09-08",
          "2020-09-09",
          "2020-09-10",
          "2020-09-11",
          "2020-09-12",
          "2020-09-13",
          "2020-09-14",
          "2020-09-15",
          "2020-09-16",
          "2020-09-17",
          "2020-09-18",
          "2020-09-19",
          "2020-09-20",
          "2020-09-21",
          "2020-09-22",
          "2020-09-23",
          "2020-09-24",
          "2020-09-25",
          "2020-09-26",
          "2020-09-27",
          "2020-09-28",
          "2020-09-29",
          "2020-09-30",
          "2020-10-01",
          "2020-10-02",
          "2020-10-03",
          "2020-10-04",
          "2020-10-05",
          "2020-10-06",
          "2020-10-07",
          "2020-10-08",
          "2020-10-09",
          "2020-10-10",
          "2020-10-11",
          "2020-10-12",
          "2020-10-13",
          "2020-10-14",
          "2020-10-15",
          "2020-10-16",
          "2020-10-17",
          "2020-10-18",
          "2020-10-19",
          "2020-10-20",
          "2020-10-21",
          "2020-10-22",
          "2020-10-23",
          "2020-10-24",
          "2020-10-25",
          "2020-10-26",
          "2020-10-27",
          "2020-10-28",
          "2020-10-29",
          "2020-10-30",
          "2020-10-31",
          "2020-11-01",
          "2020-11-02",
          "2020-11-03",
          "2020-11-04",
          "2020-11-05",
          "2020-11-06",
          "2020-11-07",
          "2020-11-08",
          "2020-11-09",
          "2020-11-10",
          "2020-11-11",
          "2020-11-12",
          "2020-11-13",
          "2020-11-14",
          "2020-11-15",
          "2020-11-16",
          "2020-11-17",
          "2020-11-18",
          "2020-11-19",
          "2020-11-20",
          "2020-11-21",
          "2020-11-22",
          "2020-11-23",
          "2020-11-24",
          "2020-11-25",
          "2020-11-26",
          "2020-11-27",
          "2020-11-28",
          "2020-11-29",
          "2020-11-30",
          "2020-12-01",
          "2020-12-02",
          "2020-12-03",
          "2020-12-04",
          "2020-12-05",
          "2020-12-06",
          "2020-12-07",
          "2020-12-08",
          "2020-12-09",
          "2020-12-10",
          "2020-12-11",
          "2020-12-12",
          "2020-12-13"
         ],
         "y": [
          "0.0",
          "0.0",
          "0.0",
          "0.0",
          "0.0",
          "0.0",
          "0.0",
          "0.0",
          "0.0",
          "0.0",
          "0.0",
          "0.0",
          "0.0",
          "0.0",
          "0.0",
          "0.0",
          "0.0",
          "0.0",
          "0.0",
          "0.0",
          "0.0",
          "0.0",
          "0.0",
          "0.0",
          "0.0",
          "0.0",
          "0.0",
          "0.0",
          "0.0",
          "0.0",
          "0.0",
          "0.0",
          "2.138672372074243E-8",
          "0.0",
          "0.0",
          "0.0",
          "0.0",
          "0.0",
          "0.0",
          "0.0",
          "0.0",
          "2.138672372074243E-8",
          "0.0",
          "0.0",
          "0.0",
          "0.0",
          "0.0",
          "0.0",
          "0.0",
          "0.0",
          "0.0",
          "0.0",
          "0.0",
          "0.0",
          "0.0",
          "0.0",
          "2.138672372074243E-8",
          "1.2832034232445456E-7",
          "1.7109378976593943E-7",
          "3.8496102697336367E-7",
          "4.063477506941061E-7",
          "5.98828264180788E-7",
          "1.154883080920091E-6",
          "1.197656528361576E-6",
          "1.604004279055682E-6",
          "1.7323246213801367E-6",
          "3.9137704408958644E-6",
          "4.9831066269329855E-6",
          "7.057618827845001E-6",
          "9.260451371081471E-6",
          "1.6510550712413155E-5",
          "2.0852055627723866E-5",
          "2.4658892450016018E-5",
          "3.2743074016456655E-5",
          "3.599385602200951E-5",
          "4.585313565727176E-5",
          "3.6485750667586583E-5",
          "5.3530969473018294E-5",
          "7.900255742442252E-5",
          "8.655207089784461E-5",
          "9.771594068007215E-5",
          "1.1647209738316325E-4",
          "1.0406779762513265E-4",
          "9.936271840656932E-5",
          "1.6448529213623E-4",
          "1.8292064798351E-4",
          "1.914967241955277E-4",
          "1.9635151048013623E-4",
          "1.7631215035380057E-4",
          "1.3738831318204937E-4",
          "1.2432102498867572E-4",
          "1.7419486470544708E-4",
          "1.5853978294186363E-4",
          "1.6217552597438983E-4",
          "1.5552425489723893E-4",
          "1.4249974015130679E-4",
          "1.1833274234686785E-4",
          "7.842511588396248E-5",
          "1.114034438613473E-4",
          "1.1940207853290497E-4",
          "1.2286672777566524E-4",
          "9.70315655210084E-5",
          "9.730959292937804E-5",
          "8.338683578717473E-5",
          "6.480177287384956E-5",
          "6.664103111383341E-5",
          "9.46148657405645E-5",
          "8.169728461323607E-5",
          "8.165451116579459E-5",
          "8.203947219276795E-5",
          "-1.5248734012889351E-5",
          "4.74357532126067E-5",
          "6.31122216999109E-5",
          "4.944610524235649E-5",
          "6.236368636968492E-5",
          "4.521153394564949E-5",
          "5.359512964418052E-5",
          "3.5095613625738324E-5",
          "3.5501961376432426E-5",
          "3.26147536741322E-5",
          "1.8114554991468834E-5",
          "2.6540924137441353E-5",
          "2.9663385800669745E-5",
          "2.6391217071396155E-5",
          "1.999658667889417E-5",
          "9.966213253865971E-6",
          "2.222080594585138E-5",
          "1.8820316874253337E-5",
          "1.9697172546803774E-5",
          "2.5086626924430867E-5",
          "1.5890335724511622E-5",
          "7.305704823005613E-5",
          "8.404982422251775E-6",
          "1.030840083339785E-5",
          "9.388771713405925E-6",
          "1.815732843891032E-5",
          "1.3751663352437382E-5",
          "1.101416271618235E-5",
          "1.3944143865924062E-5",
          "5.475001272510062E-6",
          "9.217677923639986E-6",
          "1.1078322887344577E-5",
          "1.030840083339785E-5",
          "3.821807528896672E-5",
          "9.966213253865971E-6",
          "1.030840083339785E-5",
          "-7.955861224116183E-6",
          "1.8371195676117746E-5",
          "1.0907229097578638E-5",
          "2.431670487048414E-5",
          "1.4072464208248518E-5",
          "1.4200784550572972E-5",
          "4.298731467869228E-6",
          "4.4698252576351676E-6",
          "6.287696773898273E-6",
          "8.426369145972516E-6",
          "7.143165722727971E-6",
          "6.800978143196092E-6",
          "7.100392275286486E-6",
          "5.132813692978183E-6",
          "3.5715828613639855E-6",
          "5.325294206464864E-6",
          "6.715431248313122E-6",
          "9.132131028757016E-6",
          "1.07361353078127E-5",
          "8.469142593414002E-6",
          "6.907911761799804E-6",
          "3.870996993454379E-6",
          "4.683692494842592E-6",
          "7.592286920863562E-6",
          "1.251123337663432E-5",
          "6.565724182267925E-6",
          "7.763380710629502E-6",
          "7.143165722727971E-6",
          "4.961719903212243E-6",
          "5.303907482744122E-6",
          "7.143165722727971E-6",
          "8.55468948829697E-6",
          "8.961037238991077E-6",
          "1.206211217849873E-5",
          "6.437403839943471E-6",
          "4.277344744148485E-6",
          "6.437403839943471E-6",
          "8.298048803648062E-6",
          "9.495705332009637E-6",
          "9.452931884568152E-6",
          "0.0",
          "0.0",
          "2.660508430860358E-5",
          "7.2928727887731675E-6",
          "8.19111518504435E-6",
          "1.1612990980363138E-5",
          "1.8221488610072548E-5",
          "0.0",
          "0.0",
          "4.373585000891827E-5",
          "1.4243557998014457E-5",
          "1.8713383255649624E-5",
          "2.9107330983930443E-5",
          "2.99414132090394E-5",
          "0.0",
          "0.0",
          "9.797258136472106E-5",
          "2.9043170812768216E-5",
          "2.9021784089047473E-5",
          "5.592628252974145E-5",
          "4.822706199027417E-5",
          "0.0",
          "0.0",
          "1.3604094958764257E-4",
          "3.9094930961517154E-5",
          "4.343643587682787E-5",
          "5.964757245715063E-5",
          "6.612774974453558E-5",
          "0.0",
          "0.0",
          "1.8247152678537438E-4",
          "1.2318752863147637E-4",
          "6.315499514735239E-5",
          "8.742892657039504E-5",
          "9.638996380938612E-5",
          "0.0",
          "0.0",
          "1.8431078502535825E-4",
          "7.767658055373649E-5",
          "6.783868764219499E-5",
          "1.6146976409160533E-4",
          "1.1717785926594776E-4",
          "0.0",
          "0.0",
          "3.4794060821275856E-4",
          "1.0937170510787677E-4",
          "1.4267083394107273E-4",
          "1.5054114827030594E-4",
          "1.742590248766093E-4",
          "0.0",
          "0.0",
          "4.1451747915542973E-4",
          "1.5220931272052387E-4",
          "1.5603753626653675E-4",
          "2.0655297769493037E-4",
          "2.091407712651402E-4",
          "0.0",
          "0.0",
          "5.041278515453405E-4",
          "1.735532629938248E-4",
          "1.8351947624769077E-4",
          "1.9160365781413141E-4",
          "2.2404731769849767E-4",
          "0.0",
          "0.0",
          "5.680313820229188E-4",
          "1.917105914327351E-4",
          "1.8961469250810235E-4",
          "2.3020669413007148E-4",
          "2.60554455089805E-4",
          "0.0",
          "0.0",
          "5.860817768432255E-4",
          "2.0182651175264628E-4",
          "2.3938159860626998E-4",
          "2.4147749753090274E-4",
          "3.0773356761776277E-4",
          "0.0",
          "0.0",
          "6.72141953095493E-4",
          "2.3095522946029747E-4",
          "2.4143472408346127E-4",
          "2.2783276779706908E-4",
          "2.6245787350095105E-4",
          "0.0",
          "0.0",
          "6.79777013463798E-4",
          "2.1185688517767447E-4",
          "2.3559614850769857E-4",
          "2.0144155072567292E-4",
          "2.42204646137408E-4",
          "0.0",
          "0.0",
          "5.021602729630321E-4",
          "2.5659791120146764E-4",
          "2.243681185543088E-4",
          "2.6568726878278316E-4",
          "2.7349342294085414E-4",
          "0.0",
          "0.0",
          "5.957485759650011E-4",
          "1.522306994442446E-4",
          "2.5599908293728684E-4",
          "2.8482838651284765E-4",
          "3.247787864231945E-4",
          "0.0",
          "0.0",
          "8.103215750552099E-4",
          "2.966980181778597E-4",
          "3.6299686171216124E-4",
          "4.488217840035006E-4",
          "4.2454785258045795E-4",
          "0.0",
          "0.0",
          "0.0011161303375381059",
          "3.93900677488634E-4",
          "4.2270859434047407E-4",
          "5.042989453351064E-4",
          "5.473931936324024E-4",
          "0.0",
          "0.0",
          "0.0011766761523915275",
          "3.992687451425404E-4",
          "5.355663354148319E-4",
          "4.685403432740251E-4",
          "4.815434712962365E-4",
          "0.0",
          "0.0",
          "0.0011203649088348127",
          "3.7202205912231453E-4",
          "4.084008761712974E-4",
          "4.172763665154055E-4",
          "4.570556726359864E-4",
          "0.0",
          "0.0",
          "8.185340769639749E-4",
          "2.814278974412496E-4",
          "3.276018339543325E-4",
          "3.4717068615881184E-4",
          "3.241371847115722E-4",
          "0.0",
          "0.0",
          "5.536167302351385E-4",
          "2.615168576572384E-4",
          "2.1861508987342909E-4",
          "2.628214478042037E-4",
          "2.3211011254121755E-4",
          "0.0",
          "0.0",
          "4.2728535321671294E-4",
          "1.7659017776217023E-4",
          "1.9955951903824758E-4",
          "2.1658335111995856E-4",
          "1.8702689893789252E-4",
          "0.0",
          "0.0",
          "3.7813866210644685E-4",
          "0.0",
          "2.0901245092281575E-4",
          "1.7013138719850602E-4",
          "2.249669468184896E-4",
          "0.0",
          "0.0"
         ]
        }
       ],
       "layout": {}
      },
      "text/html": [
       "<div class=\"chart\" id=\"plot-773f2817-859c-4d79-a6ca-7183ec60809f\"></div>\n",
       "<script>require(['plotly'], function(Plotly) {\n",
       "  (function () {\n",
       "  var data0 = {\"x\":[\"2019-12-31\",\"2020-01-01\",\"2020-01-02\",\"2020-01-03\",\"2020-01-04\",\"2020-01-05\",\"2020-01-06\",\"2020-01-07\",\"2020-01-08\",\"2020-01-09\",\"2020-01-10\",\"2020-01-11\",\"2020-01-12\",\"2020-01-13\",\"2020-01-14\",\"2020-01-15\",\"2020-01-16\",\"2020-01-17\",\"2020-01-18\",\"2020-01-19\",\"2020-01-20\",\"2020-01-21\",\"2020-01-22\",\"2020-01-23\",\"2020-01-24\",\"2020-01-25\",\"2020-01-26\",\"2020-01-27\",\"2020-01-28\",\"2020-01-29\",\"2020-01-30\",\"2020-01-31\",\"2020-02-01\",\"2020-02-02\",\"2020-02-03\",\"2020-02-04\",\"2020-02-05\",\"2020-02-06\",\"2020-02-07\",\"2020-02-08\",\"2020-02-09\",\"2020-02-10\",\"2020-02-11\",\"2020-02-12\",\"2020-02-13\",\"2020-02-14\",\"2020-02-15\",\"2020-02-16\",\"2020-02-17\",\"2020-02-18\",\"2020-02-19\",\"2020-02-20\",\"2020-02-21\",\"2020-02-22\",\"2020-02-23\",\"2020-02-24\",\"2020-02-25\",\"2020-02-26\",\"2020-02-27\",\"2020-02-28\",\"2020-02-29\",\"2020-03-01\",\"2020-03-02\",\"2020-03-03\",\"2020-03-04\",\"2020-03-05\",\"2020-03-06\",\"2020-03-07\",\"2020-03-08\",\"2020-03-09\",\"2020-03-10\",\"2020-03-11\",\"2020-03-12\",\"2020-03-13\",\"2020-03-14\",\"2020-03-15\",\"2020-03-16\",\"2020-03-17\",\"2020-03-18\",\"2020-03-19\",\"2020-03-20\",\"2020-03-21\",\"2020-03-22\",\"2020-03-23\",\"2020-03-24\",\"2020-03-25\",\"2020-03-26\",\"2020-03-27\",\"2020-03-28\",\"2020-03-29\",\"2020-03-30\",\"2020-03-31\",\"2020-04-01\",\"2020-04-02\",\"2020-04-03\",\"2020-04-04\",\"2020-04-05\",\"2020-04-06\",\"2020-04-07\",\"2020-04-08\",\"2020-04-09\",\"2020-04-10\",\"2020-04-11\",\"2020-04-12\",\"2020-04-13\",\"2020-04-14\",\"2020-04-15\",\"2020-04-16\",\"2020-04-17\",\"2020-04-18\",\"2020-04-19\",\"2020-04-20\",\"2020-04-21\",\"2020-04-22\",\"2020-04-23\",\"2020-04-24\",\"2020-04-25\",\"2020-04-26\",\"2020-04-27\",\"2020-04-28\",\"2020-04-29\",\"2020-04-30\",\"2020-05-01\",\"2020-05-02\",\"2020-05-03\",\"2020-05-04\",\"2020-05-05\",\"2020-05-06\",\"2020-05-07\",\"2020-05-08\",\"2020-05-09\",\"2020-05-10\",\"2020-05-11\",\"2020-05-12\",\"2020-05-13\",\"2020-05-14\",\"2020-05-15\",\"2020-05-16\",\"2020-05-17\",\"2020-05-18\",\"2020-05-19\",\"2020-05-20\",\"2020-05-21\",\"2020-05-22\",\"2020-05-23\",\"2020-05-24\",\"2020-05-25\",\"2020-05-26\",\"2020-05-27\",\"2020-05-28\",\"2020-05-29\",\"2020-05-30\",\"2020-05-31\",\"2020-06-01\",\"2020-06-02\",\"2020-06-03\",\"2020-06-04\",\"2020-06-05\",\"2020-06-06\",\"2020-06-07\",\"2020-06-08\",\"2020-06-09\",\"2020-06-10\",\"2020-06-11\",\"2020-06-12\",\"2020-06-13\",\"2020-06-14\",\"2020-06-15\",\"2020-06-16\",\"2020-06-17\",\"2020-06-18\",\"2020-06-19\",\"2020-06-20\",\"2020-06-21\",\"2020-06-22\",\"2020-06-23\",\"2020-06-24\",\"2020-06-25\",\"2020-06-26\",\"2020-06-27\",\"2020-06-28\",\"2020-06-29\",\"2020-06-30\",\"2020-07-01\",\"2020-07-02\",\"2020-07-03\",\"2020-07-04\",\"2020-07-05\",\"2020-07-06\",\"2020-07-07\",\"2020-07-08\",\"2020-07-09\",\"2020-07-10\",\"2020-07-11\",\"2020-07-12\",\"2020-07-13\",\"2020-07-14\",\"2020-07-15\",\"2020-07-16\",\"2020-07-17\",\"2020-07-18\",\"2020-07-19\",\"2020-07-20\",\"2020-07-21\",\"2020-07-22\",\"2020-07-23\",\"2020-07-24\",\"2020-07-25\",\"2020-07-26\",\"2020-07-27\",\"2020-07-28\",\"2020-07-29\",\"2020-07-30\",\"2020-07-31\",\"2020-08-01\",\"2020-08-02\",\"2020-08-03\",\"2020-08-04\",\"2020-08-05\",\"2020-08-06\",\"2020-08-07\",\"2020-08-08\",\"2020-08-09\",\"2020-08-10\",\"2020-08-11\",\"2020-08-12\",\"2020-08-13\",\"2020-08-14\",\"2020-08-15\",\"2020-08-16\",\"2020-08-17\",\"2020-08-18\",\"2020-08-19\",\"2020-08-20\",\"2020-08-21\",\"2020-08-22\",\"2020-08-23\",\"2020-08-24\",\"2020-08-25\",\"2020-08-26\",\"2020-08-27\",\"2020-08-28\",\"2020-08-29\",\"2020-08-30\",\"2020-08-31\",\"2020-09-01\",\"2020-09-02\",\"2020-09-03\",\"2020-09-04\",\"2020-09-05\",\"2020-09-06\",\"2020-09-07\",\"2020-09-08\",\"2020-09-09\",\"2020-09-10\",\"2020-09-11\",\"2020-09-12\",\"2020-09-13\",\"2020-09-14\",\"2020-09-15\",\"2020-09-16\",\"2020-09-17\",\"2020-09-18\",\"2020-09-19\",\"2020-09-20\",\"2020-09-21\",\"2020-09-22\",\"2020-09-23\",\"2020-09-24\",\"2020-09-25\",\"2020-09-26\",\"2020-09-27\",\"2020-09-28\",\"2020-09-29\",\"2020-09-30\",\"2020-10-01\",\"2020-10-02\",\"2020-10-03\",\"2020-10-04\",\"2020-10-05\",\"2020-10-06\",\"2020-10-07\",\"2020-10-08\",\"2020-10-09\",\"2020-10-10\",\"2020-10-11\",\"2020-10-12\",\"2020-10-13\",\"2020-10-14\",\"2020-10-15\",\"2020-10-16\",\"2020-10-17\",\"2020-10-18\",\"2020-10-19\",\"2020-10-20\",\"2020-10-21\",\"2020-10-22\",\"2020-10-23\",\"2020-10-24\",\"2020-10-25\",\"2020-10-26\",\"2020-10-27\",\"2020-10-28\",\"2020-10-29\",\"2020-10-30\",\"2020-10-31\",\"2020-11-01\",\"2020-11-02\",\"2020-11-03\",\"2020-11-04\",\"2020-11-05\",\"2020-11-06\",\"2020-11-07\",\"2020-11-08\",\"2020-11-09\",\"2020-11-10\",\"2020-11-11\",\"2020-11-12\",\"2020-11-13\",\"2020-11-14\",\"2020-11-15\",\"2020-11-16\",\"2020-11-17\",\"2020-11-18\",\"2020-11-19\",\"2020-11-20\",\"2020-11-21\",\"2020-11-22\",\"2020-11-23\",\"2020-11-24\",\"2020-11-25\",\"2020-11-26\",\"2020-11-27\",\"2020-11-28\",\"2020-11-29\",\"2020-11-30\",\"2020-12-01\",\"2020-12-02\",\"2020-12-03\",\"2020-12-04\",\"2020-12-05\",\"2020-12-06\",\"2020-12-07\",\"2020-12-08\",\"2020-12-09\",\"2020-12-10\",\"2020-12-11\",\"2020-12-12\",\"2020-12-13\"],\"y\":[\"0.0\",\"0.0\",\"0.0\",\"0.0\",\"0.0\",\"0.0\",\"0.0\",\"0.0\",\"0.0\",\"0.0\",\"0.0\",\"0.0\",\"0.0\",\"0.0\",\"0.0\",\"0.0\",\"0.0\",\"0.0\",\"0.0\",\"0.0\",\"0.0\",\"0.0\",\"0.0\",\"0.0\",\"0.0\",\"0.0\",\"0.0\",\"0.0\",\"0.0\",\"0.0\",\"0.0\",\"0.0\",\"2.138672372074243E-8\",\"0.0\",\"0.0\",\"0.0\",\"0.0\",\"0.0\",\"0.0\",\"0.0\",\"0.0\",\"2.138672372074243E-8\",\"0.0\",\"0.0\",\"0.0\",\"0.0\",\"0.0\",\"0.0\",\"0.0\",\"0.0\",\"0.0\",\"0.0\",\"0.0\",\"0.0\",\"0.0\",\"0.0\",\"2.138672372074243E-8\",\"1.2832034232445456E-7\",\"1.7109378976593943E-7\",\"3.8496102697336367E-7\",\"4.063477506941061E-7\",\"5.98828264180788E-7\",\"1.154883080920091E-6\",\"1.197656528361576E-6\",\"1.604004279055682E-6\",\"1.7323246213801367E-6\",\"3.9137704408958644E-6\",\"4.9831066269329855E-6\",\"7.057618827845001E-6\",\"9.260451371081471E-6\",\"1.6510550712413155E-5\",\"2.0852055627723866E-5\",\"2.4658892450016018E-5\",\"3.2743074016456655E-5\",\"3.599385602200951E-5\",\"4.585313565727176E-5\",\"3.6485750667586583E-5\",\"5.3530969473018294E-5\",\"7.900255742442252E-5\",\"8.655207089784461E-5\",\"9.771594068007215E-5\",\"1.1647209738316325E-4\",\"1.0406779762513265E-4\",\"9.936271840656932E-5\",\"1.6448529213623E-4\",\"1.8292064798351E-4\",\"1.914967241955277E-4\",\"1.9635151048013623E-4\",\"1.7631215035380057E-4\",\"1.3738831318204937E-4\",\"1.2432102498867572E-4\",\"1.7419486470544708E-4\",\"1.5853978294186363E-4\",\"1.6217552597438983E-4\",\"1.5552425489723893E-4\",\"1.4249974015130679E-4\",\"1.1833274234686785E-4\",\"7.842511588396248E-5\",\"1.114034438613473E-4\",\"1.1940207853290497E-4\",\"1.2286672777566524E-4\",\"9.70315655210084E-5\",\"9.730959292937804E-5\",\"8.338683578717473E-5\",\"6.480177287384956E-5\",\"6.664103111383341E-5\",\"9.46148657405645E-5\",\"8.169728461323607E-5\",\"8.165451116579459E-5\",\"8.203947219276795E-5\",\"-1.5248734012889351E-5\",\"4.74357532126067E-5\",\"6.31122216999109E-5\",\"4.944610524235649E-5\",\"6.236368636968492E-5\",\"4.521153394564949E-5\",\"5.359512964418052E-5\",\"3.5095613625738324E-5\",\"3.5501961376432426E-5\",\"3.26147536741322E-5\",\"1.8114554991468834E-5\",\"2.6540924137441353E-5\",\"2.9663385800669745E-5\",\"2.6391217071396155E-5\",\"1.999658667889417E-5\",\"9.966213253865971E-6\",\"2.222080594585138E-5\",\"1.8820316874253337E-5\",\"1.9697172546803774E-5\",\"2.5086626924430867E-5\",\"1.5890335724511622E-5\",\"7.305704823005613E-5\",\"8.404982422251775E-6\",\"1.030840083339785E-5\",\"9.388771713405925E-6\",\"1.815732843891032E-5\",\"1.3751663352437382E-5\",\"1.101416271618235E-5\",\"1.3944143865924062E-5\",\"5.475001272510062E-6\",\"9.217677923639986E-6\",\"1.1078322887344577E-5\",\"1.030840083339785E-5\",\"3.821807528896672E-5\",\"9.966213253865971E-6\",\"1.030840083339785E-5\",\"-7.955861224116183E-6\",\"1.8371195676117746E-5\",\"1.0907229097578638E-5\",\"2.431670487048414E-5\",\"1.4072464208248518E-5\",\"1.4200784550572972E-5\",\"4.298731467869228E-6\",\"4.4698252576351676E-6\",\"6.287696773898273E-6\",\"8.426369145972516E-6\",\"7.143165722727971E-6\",\"6.800978143196092E-6\",\"7.100392275286486E-6\",\"5.132813692978183E-6\",\"3.5715828613639855E-6\",\"5.325294206464864E-6\",\"6.715431248313122E-6\",\"9.132131028757016E-6\",\"1.07361353078127E-5\",\"8.469142593414002E-6\",\"6.907911761799804E-6\",\"3.870996993454379E-6\",\"4.683692494842592E-6\",\"7.592286920863562E-6\",\"1.251123337663432E-5\",\"6.565724182267925E-6\",\"7.763380710629502E-6\",\"7.143165722727971E-6\",\"4.961719903212243E-6\",\"5.303907482744122E-6\",\"7.143165722727971E-6\",\"8.55468948829697E-6\",\"8.961037238991077E-6\",\"1.206211217849873E-5\",\"6.437403839943471E-6\",\"4.277344744148485E-6\",\"6.437403839943471E-6\",\"8.298048803648062E-6\",\"9.495705332009637E-6\",\"9.452931884568152E-6\",\"0.0\",\"0.0\",\"2.660508430860358E-5\",\"7.2928727887731675E-6\",\"8.19111518504435E-6\",\"1.1612990980363138E-5\",\"1.8221488610072548E-5\",\"0.0\",\"0.0\",\"4.373585000891827E-5\",\"1.4243557998014457E-5\",\"1.8713383255649624E-5\",\"2.9107330983930443E-5\",\"2.99414132090394E-5\",\"0.0\",\"0.0\",\"9.797258136472106E-5\",\"2.9043170812768216E-5\",\"2.9021784089047473E-5\",\"5.592628252974145E-5\",\"4.822706199027417E-5\",\"0.0\",\"0.0\",\"1.3604094958764257E-4\",\"3.9094930961517154E-5\",\"4.343643587682787E-5\",\"5.964757245715063E-5\",\"6.612774974453558E-5\",\"0.0\",\"0.0\",\"1.8247152678537438E-4\",\"1.2318752863147637E-4\",\"6.315499514735239E-5\",\"8.742892657039504E-5\",\"9.638996380938612E-5\",\"0.0\",\"0.0\",\"1.8431078502535825E-4\",\"7.767658055373649E-5\",\"6.783868764219499E-5\",\"1.6146976409160533E-4\",\"1.1717785926594776E-4\",\"0.0\",\"0.0\",\"3.4794060821275856E-4\",\"1.0937170510787677E-4\",\"1.4267083394107273E-4\",\"1.5054114827030594E-4\",\"1.742590248766093E-4\",\"0.0\",\"0.0\",\"4.1451747915542973E-4\",\"1.5220931272052387E-4\",\"1.5603753626653675E-4\",\"2.0655297769493037E-4\",\"2.091407712651402E-4\",\"0.0\",\"0.0\",\"5.041278515453405E-4\",\"1.735532629938248E-4\",\"1.8351947624769077E-4\",\"1.9160365781413141E-4\",\"2.2404731769849767E-4\",\"0.0\",\"0.0\",\"5.680313820229188E-4\",\"1.917105914327351E-4\",\"1.8961469250810235E-4\",\"2.3020669413007148E-4\",\"2.60554455089805E-4\",\"0.0\",\"0.0\",\"5.860817768432255E-4\",\"2.0182651175264628E-4\",\"2.3938159860626998E-4\",\"2.4147749753090274E-4\",\"3.0773356761776277E-4\",\"0.0\",\"0.0\",\"6.72141953095493E-4\",\"2.3095522946029747E-4\",\"2.4143472408346127E-4\",\"2.2783276779706908E-4\",\"2.6245787350095105E-4\",\"0.0\",\"0.0\",\"6.79777013463798E-4\",\"2.1185688517767447E-4\",\"2.3559614850769857E-4\",\"2.0144155072567292E-4\",\"2.42204646137408E-4\",\"0.0\",\"0.0\",\"5.021602729630321E-4\",\"2.5659791120146764E-4\",\"2.243681185543088E-4\",\"2.6568726878278316E-4\",\"2.7349342294085414E-4\",\"0.0\",\"0.0\",\"5.957485759650011E-4\",\"1.522306994442446E-4\",\"2.5599908293728684E-4\",\"2.8482838651284765E-4\",\"3.247787864231945E-4\",\"0.0\",\"0.0\",\"8.103215750552099E-4\",\"2.966980181778597E-4\",\"3.6299686171216124E-4\",\"4.488217840035006E-4\",\"4.2454785258045795E-4\",\"0.0\",\"0.0\",\"0.0011161303375381059\",\"3.93900677488634E-4\",\"4.2270859434047407E-4\",\"5.042989453351064E-4\",\"5.473931936324024E-4\",\"0.0\",\"0.0\",\"0.0011766761523915275\",\"3.992687451425404E-4\",\"5.355663354148319E-4\",\"4.685403432740251E-4\",\"4.815434712962365E-4\",\"0.0\",\"0.0\",\"0.0011203649088348127\",\"3.7202205912231453E-4\",\"4.084008761712974E-4\",\"4.172763665154055E-4\",\"4.570556726359864E-4\",\"0.0\",\"0.0\",\"8.185340769639749E-4\",\"2.814278974412496E-4\",\"3.276018339543325E-4\",\"3.4717068615881184E-4\",\"3.241371847115722E-4\",\"0.0\",\"0.0\",\"5.536167302351385E-4\",\"2.615168576572384E-4\",\"2.1861508987342909E-4\",\"2.628214478042037E-4\",\"2.3211011254121755E-4\",\"0.0\",\"0.0\",\"4.2728535321671294E-4\",\"1.7659017776217023E-4\",\"1.9955951903824758E-4\",\"2.1658335111995856E-4\",\"1.8702689893789252E-4\",\"0.0\",\"0.0\",\"3.7813866210644685E-4\",\"0.0\",\"2.0901245092281575E-4\",\"1.7013138719850602E-4\",\"2.249669468184896E-4\",\"0.0\",\"0.0\"],\"type\":\"bar\"};\n",
       "\n",
       "  var data = [data0];\n",
       "  var layout = {};\n",
       " var config = {};\n",
       "\n",
       "  Plotly.plot('plot-773f2817-859c-4d79-a6ca-7183ec60809f', data, layout, config);\n",
       "})();\n",
       "});\n",
       "      </script>\n",
       "           "
      ]
     },
     "metadata": {},
     "output_type": "display_data"
    },
    {
     "data": {
      "text/plain": [
       "\u001b[36mx\u001b[39m: \u001b[32mList\u001b[39m[\u001b[32mString\u001b[39m] = \u001b[33mList\u001b[39m(\n",
       "  \u001b[32m\"2019-12-31\"\u001b[39m,\n",
       "  \u001b[32m\"2020-01-01\"\u001b[39m,\n",
       "  \u001b[32m\"2020-01-02\"\u001b[39m,\n",
       "  \u001b[32m\"2020-01-03\"\u001b[39m,\n",
       "  \u001b[32m\"2020-01-04\"\u001b[39m,\n",
       "  \u001b[32m\"2020-01-05\"\u001b[39m,\n",
       "  \u001b[32m\"2020-01-06\"\u001b[39m,\n",
       "  \u001b[32m\"2020-01-07\"\u001b[39m,\n",
       "  \u001b[32m\"2020-01-08\"\u001b[39m,\n",
       "  \u001b[32m\"2020-01-09\"\u001b[39m,\n",
       "  \u001b[32m\"2020-01-10\"\u001b[39m,\n",
       "  \u001b[32m\"2020-01-11\"\u001b[39m,\n",
       "  \u001b[32m\"2020-01-12\"\u001b[39m,\n",
       "  \u001b[32m\"2020-01-13\"\u001b[39m,\n",
       "  \u001b[32m\"2020-01-14\"\u001b[39m,\n",
       "  \u001b[32m\"2020-01-15\"\u001b[39m,\n",
       "  \u001b[32m\"2020-01-16\"\u001b[39m,\n",
       "  \u001b[32m\"2020-01-17\"\u001b[39m,\n",
       "  \u001b[32m\"2020-01-18\"\u001b[39m,\n",
       "  \u001b[32m\"2020-01-19\"\u001b[39m,\n",
       "  \u001b[32m\"2020-01-20\"\u001b[39m,\n",
       "  \u001b[32m\"2020-01-21\"\u001b[39m,\n",
       "  \u001b[32m\"2020-01-22\"\u001b[39m,\n",
       "  \u001b[32m\"2020-01-23\"\u001b[39m,\n",
       "  \u001b[32m\"2020-01-24\"\u001b[39m,\n",
       "  \u001b[32m\"2020-01-25\"\u001b[39m,\n",
       "  \u001b[32m\"2020-01-26\"\u001b[39m,\n",
       "  \u001b[32m\"2020-01-27\"\u001b[39m,\n",
       "  \u001b[32m\"2020-01-28\"\u001b[39m,\n",
       "  \u001b[32m\"2020-01-29\"\u001b[39m,\n",
       "  \u001b[32m\"2020-01-30\"\u001b[39m,\n",
       "  \u001b[32m\"2020-01-31\"\u001b[39m,\n",
       "  \u001b[32m\"2020-02-01\"\u001b[39m,\n",
       "  \u001b[32m\"2020-02-02\"\u001b[39m,\n",
       "  \u001b[32m\"2020-02-03\"\u001b[39m,\n",
       "  \u001b[32m\"2020-02-04\"\u001b[39m,\n",
       "  \u001b[32m\"2020-02-05\"\u001b[39m,\n",
       "  \u001b[32m\"2020-02-06\"\u001b[39m,\n",
       "...\n",
       "\u001b[36my\u001b[39m: \u001b[32mList\u001b[39m[\u001b[32mString\u001b[39m] = \u001b[33mList\u001b[39m(\n",
       "  \u001b[32m\"0.0\"\u001b[39m,\n",
       "  \u001b[32m\"0.0\"\u001b[39m,\n",
       "  \u001b[32m\"0.0\"\u001b[39m,\n",
       "  \u001b[32m\"0.0\"\u001b[39m,\n",
       "  \u001b[32m\"0.0\"\u001b[39m,\n",
       "  \u001b[32m\"0.0\"\u001b[39m,\n",
       "  \u001b[32m\"0.0\"\u001b[39m,\n",
       "  \u001b[32m\"0.0\"\u001b[39m,\n",
       "  \u001b[32m\"0.0\"\u001b[39m,\n",
       "  \u001b[32m\"0.0\"\u001b[39m,\n",
       "  \u001b[32m\"0.0\"\u001b[39m,\n",
       "  \u001b[32m\"0.0\"\u001b[39m,\n",
       "  \u001b[32m\"0.0\"\u001b[39m,\n",
       "  \u001b[32m\"0.0\"\u001b[39m,\n",
       "  \u001b[32m\"0.0\"\u001b[39m,\n",
       "  \u001b[32m\"0.0\"\u001b[39m,\n",
       "  \u001b[32m\"0.0\"\u001b[39m,\n",
       "  \u001b[32m\"0.0\"\u001b[39m,\n",
       "  \u001b[32m\"0.0\"\u001b[39m,\n",
       "  \u001b[32m\"0.0\"\u001b[39m,\n",
       "  \u001b[32m\"0.0\"\u001b[39m,\n",
       "  \u001b[32m\"0.0\"\u001b[39m,\n",
       "  \u001b[32m\"0.0\"\u001b[39m,\n",
       "  \u001b[32m\"0.0\"\u001b[39m,\n",
       "  \u001b[32m\"0.0\"\u001b[39m,\n",
       "  \u001b[32m\"0.0\"\u001b[39m,\n",
       "  \u001b[32m\"0.0\"\u001b[39m,\n",
       "  \u001b[32m\"0.0\"\u001b[39m,\n",
       "  \u001b[32m\"0.0\"\u001b[39m,\n",
       "  \u001b[32m\"0.0\"\u001b[39m,\n",
       "  \u001b[32m\"0.0\"\u001b[39m,\n",
       "  \u001b[32m\"0.0\"\u001b[39m,\n",
       "  \u001b[32m\"2.138672372074243E-8\"\u001b[39m,\n",
       "  \u001b[32m\"0.0\"\u001b[39m,\n",
       "  \u001b[32m\"0.0\"\u001b[39m,\n",
       "  \u001b[32m\"0.0\"\u001b[39m,\n",
       "  \u001b[32m\"0.0\"\u001b[39m,\n",
       "  \u001b[32m\"0.0\"\u001b[39m,\n",
       "...\n",
       "\u001b[36mres31_1\u001b[39m: \u001b[32mString\u001b[39m = \u001b[32m\"plot-773f2817-859c-4d79-a6ca-7183ec60809f\"\u001b[39m"
      ]
     },
     "execution_count": 32,
     "metadata": {},
     "output_type": "execute_result"
    }
   ],
   "source": [
    "val (x,y) = query_4_DF\n",
    "    .filter($\"country\" === \"Spain\")\n",
    "    .collect\n",
    "    .map(r=>(r(1).toString, r(4).toString))\n",
    "    .toList\n",
    "    .unzip\n",
    "\n",
    "Bar(x, y).plot()"
   ]
  },
  {
   "cell_type": "markdown",
   "metadata": {},
   "source": [
    "### Comparacion entre paises de crecimiento de la enfermedad"
   ]
  },
  {
   "cell_type": "code",
   "execution_count": 30,
   "metadata": {
    "scrolled": false
   },
   "outputs": [
    {
     "data": {
      "text/html": [
       "<div>\n",
       "  <span style=\"float: left;\">csv at cmd7.sc:4</span>\n",
       "</div>\n"
      ]
     },
     "metadata": {},
     "output_type": "display_data"
    },
    {
     "data": {
      "text/html": [
       "<div class=\"progress\">\n",
       "  <div class=\"progress-bar\" role=\"progressbar\" style=\"background-color: blue; width: 100%; word-wrap: normal; white-space: nowrap; text-align: center; color: white\" aria-valuenow=\"100\" aria-valuemin=\"0\" aria-valuemax=\"100\">\n",
       "    1 / 1\n",
       "  </div>\n",
       "  <div class=\"progress-bar\" role=\"progressbar\" style=\"background-color: red; width: 0%\" aria-valuenow=\"0\" aria-valuemin=\"0\" aria-valuemax=\"100\"></div>\n",
       "</div>\n"
      ]
     },
     "metadata": {},
     "output_type": "display_data"
    },
    {
     "data": {
      "text/html": [
       "<div>\n",
       "  <span style=\"float: left;\">csv at cmd8.sc:4</span>\n",
       "</div>\n"
      ]
     },
     "metadata": {},
     "output_type": "display_data"
    },
    {
     "data": {
      "text/html": [
       "<div class=\"progress\">\n",
       "  <div class=\"progress-bar\" role=\"progressbar\" style=\"background-color: blue; width: 100%; word-wrap: normal; white-space: nowrap; text-align: center; color: white\" aria-valuenow=\"100\" aria-valuemin=\"0\" aria-valuemax=\"100\">\n",
       "    1 / 1\n",
       "  </div>\n",
       "  <div class=\"progress-bar\" role=\"progressbar\" style=\"background-color: red; width: 0%\" aria-valuenow=\"0\" aria-valuemin=\"0\" aria-valuemax=\"100\"></div>\n",
       "</div>\n"
      ]
     },
     "metadata": {},
     "output_type": "display_data"
    },
    {
     "data": {
      "text/html": [
       "<div>\n",
       "  <span style=\"float: left;\">run at ThreadPoolExecutor.java:1149</span>\n",
       "</div>\n"
      ]
     },
     "metadata": {},
     "output_type": "display_data"
    },
    {
     "data": {
      "text/html": [
       "<div class=\"progress\">\n",
       "  <div class=\"progress-bar\" role=\"progressbar\" style=\"background-color: blue; width: 100%; word-wrap: normal; white-space: nowrap; text-align: center; color: white\" aria-valuenow=\"100\" aria-valuemin=\"0\" aria-valuemax=\"100\">\n",
       "    1 / 1\n",
       "  </div>\n",
       "  <div class=\"progress-bar\" role=\"progressbar\" style=\"background-color: red; width: 0%\" aria-valuenow=\"0\" aria-valuemin=\"0\" aria-valuemax=\"100\"></div>\n",
       "</div>\n"
      ]
     },
     "metadata": {},
     "output_type": "display_data"
    },
    {
     "data": {
      "text/html": [
       "<div>\n",
       "  <span style=\"float: left;\">collect at cmd29.sc:3</span>\n",
       "</div>\n"
      ]
     },
     "metadata": {},
     "output_type": "display_data"
    },
    {
     "data": {
      "text/html": [
       "<div class=\"progress\">\n",
       "  <div class=\"progress-bar\" role=\"progressbar\" style=\"background-color: blue; width: 100%; word-wrap: normal; white-space: nowrap; text-align: center; color: white\" aria-valuenow=\"100\" aria-valuemin=\"0\" aria-valuemax=\"100\">\n",
       "    2 / 2\n",
       "  </div>\n",
       "  <div class=\"progress-bar\" role=\"progressbar\" style=\"background-color: red; width: 0%\" aria-valuenow=\"0\" aria-valuemin=\"0\" aria-valuemax=\"100\"></div>\n",
       "</div>\n"
      ]
     },
     "metadata": {},
     "output_type": "display_data"
    },
    {
     "data": {
      "text/html": [
       "<div>\n",
       "  <span style=\"float: left;\">collect at cmd29.sc:3</span>\n",
       "</div>\n"
      ]
     },
     "metadata": {},
     "output_type": "display_data"
    },
    {
     "data": {
      "text/html": [
       "<div class=\"progress\">\n",
       "  <div class=\"progress-bar\" role=\"progressbar\" style=\"background-color: blue; width: 100%; word-wrap: normal; white-space: nowrap; text-align: center; color: white\" aria-valuenow=\"100\" aria-valuemin=\"0\" aria-valuemax=\"100\">\n",
       "    2 / 2\n",
       "  </div>\n",
       "  <div class=\"progress-bar\" role=\"progressbar\" style=\"background-color: red; width: 0%\" aria-valuenow=\"0\" aria-valuemin=\"0\" aria-valuemax=\"100\"></div>\n",
       "</div>\n"
      ]
     },
     "metadata": {},
     "output_type": "display_data"
    },
    {
     "data": {
      "text/html": [
       "<div>\n",
       "  <span style=\"float: left;\">collect at cmd29.sc:3</span>\n",
       "</div>\n"
      ]
     },
     "metadata": {},
     "output_type": "display_data"
    },
    {
     "data": {
      "text/html": [
       "<div class=\"progress\">\n",
       "  <div class=\"progress-bar\" role=\"progressbar\" style=\"background-color: blue; width: 100%; word-wrap: normal; white-space: nowrap; text-align: center; color: white\" aria-valuenow=\"100\" aria-valuemin=\"0\" aria-valuemax=\"100\">\n",
       "    8 / 8\n",
       "  </div>\n",
       "  <div class=\"progress-bar\" role=\"progressbar\" style=\"background-color: red; width: 0%\" aria-valuenow=\"0\" aria-valuemin=\"0\" aria-valuemax=\"100\"></div>\n",
       "</div>\n"
      ]
     },
     "metadata": {},
     "output_type": "display_data"
    },
    {
     "data": {
      "text/html": [
       "<div>\n",
       "  <span style=\"float: left;\">csv at cmd7.sc:4</span>\n",
       "</div>\n"
      ]
     },
     "metadata": {},
     "output_type": "display_data"
    },
    {
     "data": {
      "text/html": [
       "<div class=\"progress\">\n",
       "  <div class=\"progress-bar\" role=\"progressbar\" style=\"background-color: blue; width: 100%; word-wrap: normal; white-space: nowrap; text-align: center; color: white\" aria-valuenow=\"100\" aria-valuemin=\"0\" aria-valuemax=\"100\">\n",
       "    1 / 1\n",
       "  </div>\n",
       "  <div class=\"progress-bar\" role=\"progressbar\" style=\"background-color: red; width: 0%\" aria-valuenow=\"0\" aria-valuemin=\"0\" aria-valuemax=\"100\"></div>\n",
       "</div>\n"
      ]
     },
     "metadata": {},
     "output_type": "display_data"
    },
    {
     "data": {
      "text/html": [
       "<div>\n",
       "  <span style=\"float: left;\">csv at cmd8.sc:4</span>\n",
       "</div>\n"
      ]
     },
     "metadata": {},
     "output_type": "display_data"
    },
    {
     "data": {
      "text/html": [
       "<div class=\"progress\">\n",
       "  <div class=\"progress-bar\" role=\"progressbar\" style=\"background-color: blue; width: 100%; word-wrap: normal; white-space: nowrap; text-align: center; color: white\" aria-valuenow=\"100\" aria-valuemin=\"0\" aria-valuemax=\"100\">\n",
       "    1 / 1\n",
       "  </div>\n",
       "  <div class=\"progress-bar\" role=\"progressbar\" style=\"background-color: red; width: 0%\" aria-valuenow=\"0\" aria-valuemin=\"0\" aria-valuemax=\"100\"></div>\n",
       "</div>\n"
      ]
     },
     "metadata": {},
     "output_type": "display_data"
    },
    {
     "data": {
      "text/html": [
       "<div>\n",
       "  <span style=\"float: left;\">run at ThreadPoolExecutor.java:1149</span>\n",
       "</div>\n"
      ]
     },
     "metadata": {},
     "output_type": "display_data"
    },
    {
     "data": {
      "text/html": [
       "<div class=\"progress\">\n",
       "  <div class=\"progress-bar\" role=\"progressbar\" style=\"background-color: blue; width: 100%; word-wrap: normal; white-space: nowrap; text-align: center; color: white\" aria-valuenow=\"100\" aria-valuemin=\"0\" aria-valuemax=\"100\">\n",
       "    1 / 1\n",
       "  </div>\n",
       "  <div class=\"progress-bar\" role=\"progressbar\" style=\"background-color: red; width: 0%\" aria-valuenow=\"0\" aria-valuemin=\"0\" aria-valuemax=\"100\"></div>\n",
       "</div>\n"
      ]
     },
     "metadata": {},
     "output_type": "display_data"
    },
    {
     "data": {
      "text/html": [
       "<div>\n",
       "  <span style=\"float: left;\">collect at cmd29.sc:10</span>\n",
       "</div>\n"
      ]
     },
     "metadata": {},
     "output_type": "display_data"
    },
    {
     "data": {
      "text/html": [
       "<div class=\"progress\">\n",
       "  <div class=\"progress-bar\" role=\"progressbar\" style=\"background-color: blue; width: 100%; word-wrap: normal; white-space: nowrap; text-align: center; color: white\" aria-valuenow=\"100\" aria-valuemin=\"0\" aria-valuemax=\"100\">\n",
       "    2 / 2\n",
       "  </div>\n",
       "  <div class=\"progress-bar\" role=\"progressbar\" style=\"background-color: red; width: 0%\" aria-valuenow=\"0\" aria-valuemin=\"0\" aria-valuemax=\"100\"></div>\n",
       "</div>\n"
      ]
     },
     "metadata": {},
     "output_type": "display_data"
    },
    {
     "data": {
      "text/html": [
       "<div>\n",
       "  <span style=\"float: left;\">collect at cmd29.sc:10</span>\n",
       "</div>\n"
      ]
     },
     "metadata": {},
     "output_type": "display_data"
    },
    {
     "data": {
      "text/html": [
       "<div class=\"progress\">\n",
       "  <div class=\"progress-bar\" role=\"progressbar\" style=\"background-color: blue; width: 100%; word-wrap: normal; white-space: nowrap; text-align: center; color: white\" aria-valuenow=\"100\" aria-valuemin=\"0\" aria-valuemax=\"100\">\n",
       "    2 / 2\n",
       "  </div>\n",
       "  <div class=\"progress-bar\" role=\"progressbar\" style=\"background-color: red; width: 0%\" aria-valuenow=\"0\" aria-valuemin=\"0\" aria-valuemax=\"100\"></div>\n",
       "</div>\n"
      ]
     },
     "metadata": {},
     "output_type": "display_data"
    },
    {
     "data": {
      "text/html": [
       "<div>\n",
       "  <span style=\"float: left;\">collect at cmd29.sc:10</span>\n",
       "</div>\n"
      ]
     },
     "metadata": {},
     "output_type": "display_data"
    },
    {
     "data": {
      "text/html": [
       "<div class=\"progress\">\n",
       "  <div class=\"progress-bar\" role=\"progressbar\" style=\"background-color: blue; width: 100%; word-wrap: normal; white-space: nowrap; text-align: center; color: white\" aria-valuenow=\"100\" aria-valuemin=\"0\" aria-valuemax=\"100\">\n",
       "    8 / 8\n",
       "  </div>\n",
       "  <div class=\"progress-bar\" role=\"progressbar\" style=\"background-color: red; width: 0%\" aria-valuenow=\"0\" aria-valuemin=\"0\" aria-valuemax=\"100\"></div>\n",
       "</div>\n"
      ]
     },
     "metadata": {},
     "output_type": "display_data"
    },
    {
     "data": {
      "text/html": [
       "<div>\n",
       "  <span style=\"float: left;\">csv at cmd7.sc:4</span>\n",
       "</div>\n"
      ]
     },
     "metadata": {},
     "output_type": "display_data"
    },
    {
     "data": {
      "text/html": [
       "<div class=\"progress\">\n",
       "  <div class=\"progress-bar\" role=\"progressbar\" style=\"background-color: blue; width: 100%; word-wrap: normal; white-space: nowrap; text-align: center; color: white\" aria-valuenow=\"100\" aria-valuemin=\"0\" aria-valuemax=\"100\">\n",
       "    1 / 1\n",
       "  </div>\n",
       "  <div class=\"progress-bar\" role=\"progressbar\" style=\"background-color: red; width: 0%\" aria-valuenow=\"0\" aria-valuemin=\"0\" aria-valuemax=\"100\"></div>\n",
       "</div>\n"
      ]
     },
     "metadata": {},
     "output_type": "display_data"
    },
    {
     "data": {
      "text/html": [
       "<div>\n",
       "  <span style=\"float: left;\">csv at cmd8.sc:4</span>\n",
       "</div>\n"
      ]
     },
     "metadata": {},
     "output_type": "display_data"
    },
    {
     "data": {
      "text/html": [
       "<div class=\"progress\">\n",
       "  <div class=\"progress-bar\" role=\"progressbar\" style=\"background-color: blue; width: 100%; word-wrap: normal; white-space: nowrap; text-align: center; color: white\" aria-valuenow=\"100\" aria-valuemin=\"0\" aria-valuemax=\"100\">\n",
       "    1 / 1\n",
       "  </div>\n",
       "  <div class=\"progress-bar\" role=\"progressbar\" style=\"background-color: red; width: 0%\" aria-valuenow=\"0\" aria-valuemin=\"0\" aria-valuemax=\"100\"></div>\n",
       "</div>\n"
      ]
     },
     "metadata": {},
     "output_type": "display_data"
    },
    {
     "data": {
      "text/html": [
       "<div>\n",
       "  <span style=\"float: left;\">run at ThreadPoolExecutor.java:1149</span>\n",
       "</div>\n"
      ]
     },
     "metadata": {},
     "output_type": "display_data"
    },
    {
     "data": {
      "text/html": [
       "<div class=\"progress\">\n",
       "  <div class=\"progress-bar\" role=\"progressbar\" style=\"background-color: blue; width: 100%; word-wrap: normal; white-space: nowrap; text-align: center; color: white\" aria-valuenow=\"100\" aria-valuemin=\"0\" aria-valuemax=\"100\">\n",
       "    1 / 1\n",
       "  </div>\n",
       "  <div class=\"progress-bar\" role=\"progressbar\" style=\"background-color: red; width: 0%\" aria-valuenow=\"0\" aria-valuemin=\"0\" aria-valuemax=\"100\"></div>\n",
       "</div>\n"
      ]
     },
     "metadata": {},
     "output_type": "display_data"
    },
    {
     "data": {
      "text/html": [
       "<div>\n",
       "  <span style=\"float: left;\">collect at cmd29.sc:17</span>\n",
       "</div>\n"
      ]
     },
     "metadata": {},
     "output_type": "display_data"
    },
    {
     "data": {
      "text/html": [
       "<div class=\"progress\">\n",
       "  <div class=\"progress-bar\" role=\"progressbar\" style=\"background-color: blue; width: 100%; word-wrap: normal; white-space: nowrap; text-align: center; color: white\" aria-valuenow=\"100\" aria-valuemin=\"0\" aria-valuemax=\"100\">\n",
       "    2 / 2\n",
       "  </div>\n",
       "  <div class=\"progress-bar\" role=\"progressbar\" style=\"background-color: red; width: 0%\" aria-valuenow=\"0\" aria-valuemin=\"0\" aria-valuemax=\"100\"></div>\n",
       "</div>\n"
      ]
     },
     "metadata": {},
     "output_type": "display_data"
    },
    {
     "data": {
      "text/html": [
       "<div>\n",
       "  <span style=\"float: left;\">collect at cmd29.sc:17</span>\n",
       "</div>\n"
      ]
     },
     "metadata": {},
     "output_type": "display_data"
    },
    {
     "data": {
      "text/html": [
       "<div class=\"progress\">\n",
       "  <div class=\"progress-bar\" role=\"progressbar\" style=\"background-color: blue; width: 100%; word-wrap: normal; white-space: nowrap; text-align: center; color: white\" aria-valuenow=\"100\" aria-valuemin=\"0\" aria-valuemax=\"100\">\n",
       "    2 / 2\n",
       "  </div>\n",
       "  <div class=\"progress-bar\" role=\"progressbar\" style=\"background-color: red; width: 0%\" aria-valuenow=\"0\" aria-valuemin=\"0\" aria-valuemax=\"100\"></div>\n",
       "</div>\n"
      ]
     },
     "metadata": {},
     "output_type": "display_data"
    },
    {
     "data": {
      "text/html": [
       "<div>\n",
       "  <span style=\"float: left;\">collect at cmd29.sc:17</span>\n",
       "</div>\n"
      ]
     },
     "metadata": {},
     "output_type": "display_data"
    },
    {
     "data": {
      "text/html": [
       "<div class=\"progress\">\n",
       "  <div class=\"progress-bar\" role=\"progressbar\" style=\"background-color: blue; width: 100%; word-wrap: normal; white-space: nowrap; text-align: center; color: white\" aria-valuenow=\"100\" aria-valuemin=\"0\" aria-valuemax=\"100\">\n",
       "    8 / 8\n",
       "  </div>\n",
       "  <div class=\"progress-bar\" role=\"progressbar\" style=\"background-color: red; width: 0%\" aria-valuenow=\"0\" aria-valuemin=\"0\" aria-valuemax=\"100\"></div>\n",
       "</div>\n"
      ]
     },
     "metadata": {},
     "output_type": "display_data"
    },
    {
     "data": {
      "text/html": [
       "<div>\n",
       "  <span style=\"float: left;\">csv at cmd7.sc:4</span>\n",
       "</div>\n"
      ]
     },
     "metadata": {},
     "output_type": "display_data"
    },
    {
     "data": {
      "text/html": [
       "<div class=\"progress\">\n",
       "  <div class=\"progress-bar\" role=\"progressbar\" style=\"background-color: blue; width: 100%; word-wrap: normal; white-space: nowrap; text-align: center; color: white\" aria-valuenow=\"100\" aria-valuemin=\"0\" aria-valuemax=\"100\">\n",
       "    1 / 1\n",
       "  </div>\n",
       "  <div class=\"progress-bar\" role=\"progressbar\" style=\"background-color: red; width: 0%\" aria-valuenow=\"0\" aria-valuemin=\"0\" aria-valuemax=\"100\"></div>\n",
       "</div>\n"
      ]
     },
     "metadata": {},
     "output_type": "display_data"
    },
    {
     "data": {
      "text/html": [
       "<div>\n",
       "  <span style=\"float: left;\">csv at cmd8.sc:4</span>\n",
       "</div>\n"
      ]
     },
     "metadata": {},
     "output_type": "display_data"
    },
    {
     "data": {
      "text/html": [
       "<div class=\"progress\">\n",
       "  <div class=\"progress-bar\" role=\"progressbar\" style=\"background-color: blue; width: 100%; word-wrap: normal; white-space: nowrap; text-align: center; color: white\" aria-valuenow=\"100\" aria-valuemin=\"0\" aria-valuemax=\"100\">\n",
       "    1 / 1\n",
       "  </div>\n",
       "  <div class=\"progress-bar\" role=\"progressbar\" style=\"background-color: red; width: 0%\" aria-valuenow=\"0\" aria-valuemin=\"0\" aria-valuemax=\"100\"></div>\n",
       "</div>\n"
      ]
     },
     "metadata": {},
     "output_type": "display_data"
    },
    {
     "data": {
      "text/html": [
       "<div>\n",
       "  <span style=\"float: left;\">run at ThreadPoolExecutor.java:1149</span>\n",
       "</div>\n"
      ]
     },
     "metadata": {},
     "output_type": "display_data"
    },
    {
     "data": {
      "text/html": [
       "<div class=\"progress\">\n",
       "  <div class=\"progress-bar\" role=\"progressbar\" style=\"background-color: blue; width: 100%; word-wrap: normal; white-space: nowrap; text-align: center; color: white\" aria-valuenow=\"100\" aria-valuemin=\"0\" aria-valuemax=\"100\">\n",
       "    1 / 1\n",
       "  </div>\n",
       "  <div class=\"progress-bar\" role=\"progressbar\" style=\"background-color: red; width: 0%\" aria-valuenow=\"0\" aria-valuemin=\"0\" aria-valuemax=\"100\"></div>\n",
       "</div>\n"
      ]
     },
     "metadata": {},
     "output_type": "display_data"
    },
    {
     "data": {
      "text/html": [
       "<div>\n",
       "  <span style=\"float: left;\">collect at cmd29.sc:24</span>\n",
       "</div>\n"
      ]
     },
     "metadata": {},
     "output_type": "display_data"
    },
    {
     "data": {
      "text/html": [
       "<div class=\"progress\">\n",
       "  <div class=\"progress-bar\" role=\"progressbar\" style=\"background-color: blue; width: 100%; word-wrap: normal; white-space: nowrap; text-align: center; color: white\" aria-valuenow=\"100\" aria-valuemin=\"0\" aria-valuemax=\"100\">\n",
       "    2 / 2\n",
       "  </div>\n",
       "  <div class=\"progress-bar\" role=\"progressbar\" style=\"background-color: red; width: 0%\" aria-valuenow=\"0\" aria-valuemin=\"0\" aria-valuemax=\"100\"></div>\n",
       "</div>\n"
      ]
     },
     "metadata": {},
     "output_type": "display_data"
    },
    {
     "data": {
      "text/html": [
       "<div>\n",
       "  <span style=\"float: left;\">collect at cmd29.sc:24</span>\n",
       "</div>\n"
      ]
     },
     "metadata": {},
     "output_type": "display_data"
    },
    {
     "data": {
      "text/html": [
       "<div class=\"progress\">\n",
       "  <div class=\"progress-bar\" role=\"progressbar\" style=\"background-color: blue; width: 100%; word-wrap: normal; white-space: nowrap; text-align: center; color: white\" aria-valuenow=\"100\" aria-valuemin=\"0\" aria-valuemax=\"100\">\n",
       "    2 / 2\n",
       "  </div>\n",
       "  <div class=\"progress-bar\" role=\"progressbar\" style=\"background-color: red; width: 0%\" aria-valuenow=\"0\" aria-valuemin=\"0\" aria-valuemax=\"100\"></div>\n",
       "</div>\n"
      ]
     },
     "metadata": {},
     "output_type": "display_data"
    },
    {
     "data": {
      "text/html": [
       "<div>\n",
       "  <span style=\"float: left;\">collect at cmd29.sc:24</span>\n",
       "</div>\n"
      ]
     },
     "metadata": {},
     "output_type": "display_data"
    },
    {
     "data": {
      "text/html": [
       "<div class=\"progress\">\n",
       "  <div class=\"progress-bar\" role=\"progressbar\" style=\"background-color: blue; width: 100%; word-wrap: normal; white-space: nowrap; text-align: center; color: white\" aria-valuenow=\"100\" aria-valuemin=\"0\" aria-valuemax=\"100\">\n",
       "    8 / 8\n",
       "  </div>\n",
       "  <div class=\"progress-bar\" role=\"progressbar\" style=\"background-color: red; width: 0%\" aria-valuenow=\"0\" aria-valuemin=\"0\" aria-valuemax=\"100\"></div>\n",
       "</div>\n"
      ]
     },
     "metadata": {},
     "output_type": "display_data"
    },
    {
     "data": {
      "application/vnd.plotly.v1+json": {
       "config": {},
       "data": [
        {
         "fill": "tonexty",
         "name": "Spain",
         "stackgroup": "A",
         "type": "scatter",
         "x": [
          "[2019-12-31]",
          "[2020-01-01]",
          "[2020-01-02]",
          "[2020-01-03]",
          "[2020-01-04]",
          "[2020-01-05]",
          "[2020-01-06]",
          "[2020-01-07]",
          "[2020-01-08]",
          "[2020-01-09]",
          "[2020-01-10]",
          "[2020-01-11]",
          "[2020-01-12]",
          "[2020-01-13]",
          "[2020-01-14]",
          "[2020-01-15]",
          "[2020-01-16]",
          "[2020-01-17]",
          "[2020-01-18]",
          "[2020-01-19]",
          "[2020-01-20]",
          "[2020-01-21]",
          "[2020-01-22]",
          "[2020-01-23]",
          "[2020-01-24]",
          "[2020-01-25]",
          "[2020-01-26]",
          "[2020-01-27]",
          "[2020-01-28]",
          "[2020-01-29]",
          "[2020-01-30]",
          "[2020-01-31]",
          "[2020-02-01]",
          "[2020-02-02]",
          "[2020-02-03]",
          "[2020-02-04]",
          "[2020-02-05]",
          "[2020-02-06]",
          "[2020-02-07]",
          "[2020-02-08]",
          "[2020-02-09]",
          "[2020-02-10]",
          "[2020-02-11]",
          "[2020-02-12]",
          "[2020-02-13]",
          "[2020-02-14]",
          "[2020-02-15]",
          "[2020-02-16]",
          "[2020-02-17]",
          "[2020-02-18]",
          "[2020-02-19]",
          "[2020-02-20]",
          "[2020-02-21]",
          "[2020-02-22]",
          "[2020-02-23]",
          "[2020-02-24]",
          "[2020-02-25]",
          "[2020-02-26]",
          "[2020-02-27]",
          "[2020-02-28]",
          "[2020-02-29]",
          "[2020-03-01]",
          "[2020-03-02]",
          "[2020-03-03]",
          "[2020-03-04]",
          "[2020-03-05]",
          "[2020-03-06]",
          "[2020-03-07]",
          "[2020-03-08]",
          "[2020-03-09]",
          "[2020-03-10]",
          "[2020-03-11]",
          "[2020-03-12]",
          "[2020-03-13]",
          "[2020-03-14]",
          "[2020-03-15]",
          "[2020-03-16]",
          "[2020-03-17]",
          "[2020-03-18]",
          "[2020-03-19]",
          "[2020-03-20]",
          "[2020-03-21]",
          "[2020-03-22]",
          "[2020-03-23]",
          "[2020-03-24]",
          "[2020-03-25]",
          "[2020-03-26]",
          "[2020-03-27]",
          "[2020-03-28]",
          "[2020-03-29]",
          "[2020-03-30]",
          "[2020-03-31]",
          "[2020-04-01]",
          "[2020-04-02]",
          "[2020-04-03]",
          "[2020-04-04]",
          "[2020-04-05]",
          "[2020-04-06]",
          "[2020-04-07]",
          "[2020-04-08]",
          "[2020-04-09]",
          "[2020-04-10]",
          "[2020-04-11]",
          "[2020-04-12]",
          "[2020-04-13]",
          "[2020-04-14]",
          "[2020-04-15]",
          "[2020-04-16]",
          "[2020-04-17]",
          "[2020-04-18]",
          "[2020-04-19]",
          "[2020-04-20]",
          "[2020-04-21]",
          "[2020-04-22]",
          "[2020-04-23]",
          "[2020-04-24]",
          "[2020-04-25]",
          "[2020-04-26]",
          "[2020-04-27]",
          "[2020-04-28]",
          "[2020-04-29]",
          "[2020-04-30]",
          "[2020-05-01]",
          "[2020-05-02]",
          "[2020-05-03]",
          "[2020-05-04]",
          "[2020-05-05]",
          "[2020-05-06]",
          "[2020-05-07]",
          "[2020-05-08]",
          "[2020-05-09]",
          "[2020-05-10]",
          "[2020-05-11]",
          "[2020-05-12]",
          "[2020-05-13]",
          "[2020-05-14]",
          "[2020-05-15]",
          "[2020-05-16]",
          "[2020-05-17]",
          "[2020-05-18]",
          "[2020-05-19]",
          "[2020-05-20]",
          "[2020-05-21]",
          "[2020-05-22]",
          "[2020-05-23]",
          "[2020-05-24]",
          "[2020-05-25]",
          "[2020-05-26]",
          "[2020-05-27]",
          "[2020-05-28]",
          "[2020-05-29]",
          "[2020-05-30]",
          "[2020-05-31]",
          "[2020-06-01]",
          "[2020-06-02]",
          "[2020-06-03]",
          "[2020-06-04]",
          "[2020-06-05]",
          "[2020-06-06]",
          "[2020-06-07]",
          "[2020-06-08]",
          "[2020-06-09]",
          "[2020-06-10]",
          "[2020-06-11]",
          "[2020-06-12]",
          "[2020-06-13]",
          "[2020-06-14]",
          "[2020-06-15]",
          "[2020-06-16]",
          "[2020-06-17]",
          "[2020-06-18]",
          "[2020-06-19]",
          "[2020-06-20]",
          "[2020-06-21]",
          "[2020-06-22]",
          "[2020-06-23]",
          "[2020-06-24]",
          "[2020-06-25]",
          "[2020-06-26]",
          "[2020-06-27]",
          "[2020-06-28]",
          "[2020-06-29]",
          "[2020-06-30]",
          "[2020-07-01]",
          "[2020-07-02]",
          "[2020-07-03]",
          "[2020-07-04]",
          "[2020-07-05]",
          "[2020-07-06]",
          "[2020-07-07]",
          "[2020-07-08]",
          "[2020-07-09]",
          "[2020-07-10]",
          "[2020-07-11]",
          "[2020-07-12]",
          "[2020-07-13]",
          "[2020-07-14]",
          "[2020-07-15]",
          "[2020-07-16]",
          "[2020-07-17]",
          "[2020-07-18]",
          "[2020-07-19]",
          "[2020-07-20]",
          "[2020-07-21]",
          "[2020-07-22]",
          "[2020-07-23]",
          "[2020-07-24]",
          "[2020-07-25]",
          "[2020-07-26]",
          "[2020-07-27]",
          "[2020-07-28]",
          "[2020-07-29]",
          "[2020-07-30]",
          "[2020-07-31]",
          "[2020-08-01]",
          "[2020-08-02]",
          "[2020-08-03]",
          "[2020-08-04]",
          "[2020-08-05]",
          "[2020-08-06]",
          "[2020-08-07]",
          "[2020-08-08]",
          "[2020-08-09]",
          "[2020-08-10]",
          "[2020-08-11]",
          "[2020-08-12]",
          "[2020-08-13]",
          "[2020-08-14]",
          "[2020-08-15]",
          "[2020-08-16]",
          "[2020-08-17]",
          "[2020-08-18]",
          "[2020-08-19]",
          "[2020-08-20]",
          "[2020-08-21]",
          "[2020-08-22]",
          "[2020-08-23]",
          "[2020-08-24]",
          "[2020-08-25]",
          "[2020-08-26]",
          "[2020-08-27]",
          "[2020-08-28]",
          "[2020-08-29]",
          "[2020-08-30]",
          "[2020-08-31]",
          "[2020-09-01]",
          "[2020-09-02]",
          "[2020-09-03]",
          "[2020-09-04]",
          "[2020-09-05]",
          "[2020-09-06]",
          "[2020-09-07]",
          "[2020-09-08]",
          "[2020-09-09]",
          "[2020-09-10]",
          "[2020-09-11]",
          "[2020-09-12]",
          "[2020-09-13]",
          "[2020-09-14]",
          "[2020-09-15]",
          "[2020-09-16]",
          "[2020-09-17]",
          "[2020-09-18]",
          "[2020-09-19]",
          "[2020-09-20]",
          "[2020-09-21]",
          "[2020-09-22]",
          "[2020-09-23]",
          "[2020-09-24]",
          "[2020-09-25]",
          "[2020-09-26]",
          "[2020-09-27]",
          "[2020-09-28]",
          "[2020-09-29]",
          "[2020-09-30]",
          "[2020-10-01]",
          "[2020-10-02]",
          "[2020-10-03]",
          "[2020-10-04]",
          "[2020-10-05]",
          "[2020-10-06]",
          "[2020-10-07]",
          "[2020-10-08]",
          "[2020-10-09]",
          "[2020-10-10]",
          "[2020-10-11]",
          "[2020-10-12]",
          "[2020-10-13]",
          "[2020-10-14]",
          "[2020-10-15]",
          "[2020-10-16]",
          "[2020-10-17]",
          "[2020-10-18]",
          "[2020-10-19]",
          "[2020-10-20]",
          "[2020-10-21]",
          "[2020-10-22]",
          "[2020-10-23]",
          "[2020-10-24]",
          "[2020-10-25]",
          "[2020-10-26]",
          "[2020-10-27]",
          "[2020-10-28]",
          "[2020-10-29]",
          "[2020-10-30]",
          "[2020-10-31]",
          "[2020-11-01]",
          "[2020-11-02]",
          "[2020-11-03]",
          "[2020-11-04]",
          "[2020-11-05]",
          "[2020-11-06]",
          "[2020-11-07]",
          "[2020-11-08]",
          "[2020-11-09]",
          "[2020-11-10]",
          "[2020-11-11]",
          "[2020-11-12]",
          "[2020-11-13]",
          "[2020-11-14]",
          "[2020-11-15]",
          "[2020-11-16]",
          "[2020-11-17]",
          "[2020-11-18]",
          "[2020-11-19]",
          "[2020-11-20]",
          "[2020-11-21]",
          "[2020-11-22]",
          "[2020-11-23]",
          "[2020-11-24]",
          "[2020-11-25]",
          "[2020-11-26]",
          "[2020-11-27]",
          "[2020-11-28]",
          "[2020-11-29]",
          "[2020-11-30]",
          "[2020-12-01]",
          "[2020-12-02]",
          "[2020-12-03]",
          "[2020-12-04]",
          "[2020-12-05]",
          "[2020-12-06]",
          "[2020-12-07]",
          "[2020-12-08]",
          "[2020-12-09]",
          "[2020-12-10]",
          "[2020-12-11]",
          "[2020-12-12]",
          "[2020-12-13]"
         ],
         "y": [
          0,
          0,
          0,
          0,
          0,
          0,
          0,
          0,
          0,
          0,
          0,
          0,
          0,
          0,
          0,
          0,
          0,
          0,
          0,
          0,
          0,
          0,
          0,
          0,
          0,
          0,
          0,
          0,
          0,
          0,
          0,
          0,
          2.138672372074243e-08,
          0,
          0,
          0,
          0,
          0,
          0,
          0,
          0,
          2.138672372074243e-08,
          0,
          0,
          0,
          0,
          0,
          0,
          0,
          0,
          0,
          0,
          0,
          0,
          0,
          0,
          2.138672372074243e-08,
          1.2832034232445456e-07,
          1.7109378976593943e-07,
          3.8496102697336367e-07,
          4.063477506941061e-07,
          5.98828264180788e-07,
          1.154883080920091e-06,
          1.197656528361576e-06,
          1.604004279055682e-06,
          1.7323246213801367e-06,
          3.9137704408958644e-06,
          4.9831066269329855e-06,
          7.057618827845001e-06,
          9.260451371081471e-06,
          1.6510550712413155e-05,
          2.0852055627723866e-05,
          2.4658892450016018e-05,
          3.2743074016456655e-05,
          3.599385602200951e-05,
          4.585313565727176e-05,
          3.6485750667586583e-05,
          5.3530969473018294e-05,
          7.900255742442252e-05,
          8.655207089784461e-05,
          9.771594068007215e-05,
          0.00011647209738316325,
          0.00010406779762513265,
          9.936271840656932e-05,
          0.00016448529213623,
          0.00018292064798351,
          0.0001914967241955277,
          0.00019635151048013623,
          0.00017631215035380057,
          0.00013738831318204937,
          0.00012432102498867572,
          0.00017419486470544708,
          0.00015853978294186363,
          0.00016217552597438983,
          0.00015552425489723893,
          0.00014249974015130679,
          0.00011833274234686785,
          7.842511588396248e-05,
          0.0001114034438613473,
          0.00011940207853290497,
          0.00012286672777566524,
          9.70315655210084e-05,
          9.730959292937804e-05,
          8.338683578717473e-05,
          6.480177287384956e-05,
          6.664103111383341e-05,
          9.46148657405645e-05,
          8.169728461323607e-05,
          8.165451116579459e-05,
          8.203947219276795e-05,
          -1.5248734012889351e-05,
          4.74357532126067e-05,
          6.31122216999109e-05,
          4.944610524235649e-05,
          6.236368636968492e-05,
          4.521153394564949e-05,
          5.359512964418052e-05,
          3.5095613625738324e-05,
          3.5501961376432426e-05,
          3.26147536741322e-05,
          1.8114554991468834e-05,
          2.6540924137441353e-05,
          2.9663385800669745e-05,
          2.6391217071396155e-05,
          1.999658667889417e-05,
          9.966213253865971e-06,
          2.222080594585138e-05,
          1.8820316874253337e-05,
          1.9697172546803774e-05,
          2.5086626924430867e-05,
          1.5890335724511622e-05,
          7.305704823005613e-05,
          8.404982422251775e-06,
          1.030840083339785e-05,
          9.388771713405925e-06,
          1.815732843891032e-05,
          1.3751663352437382e-05,
          1.101416271618235e-05,
          1.3944143865924062e-05,
          5.475001272510062e-06,
          9.217677923639986e-06,
          1.1078322887344577e-05,
          1.030840083339785e-05,
          3.821807528896672e-05,
          9.966213253865971e-06,
          1.030840083339785e-05,
          -7.955861224116183e-06,
          1.8371195676117746e-05,
          1.0907229097578638e-05,
          2.431670487048414e-05,
          1.4072464208248518e-05,
          1.4200784550572972e-05,
          4.298731467869228e-06,
          4.4698252576351676e-06,
          6.287696773898273e-06,
          8.426369145972516e-06,
          7.143165722727971e-06,
          6.800978143196092e-06,
          7.100392275286486e-06,
          5.132813692978183e-06,
          3.5715828613639855e-06,
          5.325294206464864e-06,
          6.715431248313122e-06,
          9.132131028757016e-06,
          1.07361353078127e-05,
          8.469142593414002e-06,
          6.907911761799804e-06,
          3.870996993454379e-06,
          4.683692494842592e-06,
          7.592286920863562e-06,
          1.251123337663432e-05,
          6.565724182267925e-06,
          7.763380710629502e-06,
          7.143165722727971e-06,
          4.961719903212243e-06,
          5.303907482744122e-06,
          7.143165722727971e-06,
          8.55468948829697e-06,
          8.961037238991077e-06,
          1.206211217849873e-05,
          6.437403839943471e-06,
          4.277344744148485e-06,
          6.437403839943471e-06,
          8.298048803648062e-06,
          9.495705332009637e-06,
          9.452931884568152e-06,
          0,
          0,
          2.660508430860358e-05,
          7.2928727887731675e-06,
          8.19111518504435e-06,
          1.1612990980363138e-05,
          1.8221488610072548e-05,
          0,
          0,
          4.373585000891827e-05,
          1.4243557998014457e-05,
          1.8713383255649624e-05,
          2.9107330983930443e-05,
          2.99414132090394e-05,
          0,
          0,
          9.797258136472106e-05,
          2.9043170812768216e-05,
          2.9021784089047473e-05,
          5.592628252974145e-05,
          4.822706199027417e-05,
          0,
          0,
          0.00013604094958764257,
          3.9094930961517154e-05,
          4.343643587682787e-05,
          5.964757245715063e-05,
          6.612774974453558e-05,
          0,
          0,
          0.00018247152678537438,
          0.00012318752863147637,
          6.315499514735239e-05,
          8.742892657039504e-05,
          9.638996380938612e-05,
          0,
          0,
          0.00018431078502535825,
          7.767658055373649e-05,
          6.783868764219499e-05,
          0.00016146976409160533,
          0.00011717785926594776,
          0,
          0,
          0.00034794060821275856,
          0.00010937170510787677,
          0.00014267083394107273,
          0.00015054114827030594,
          0.0001742590248766093,
          0,
          0,
          0.00041451747915542973,
          0.00015220931272052387,
          0.00015603753626653675,
          0.00020655297769493037,
          0.0002091407712651402,
          0,
          0,
          0.0005041278515453405,
          0.0001735532629938248,
          0.00018351947624769077,
          0.00019160365781413141,
          0.00022404731769849767,
          0,
          0,
          0.0005680313820229188,
          0.0001917105914327351,
          0.00018961469250810235,
          0.00023020669413007148,
          0.000260554455089805,
          0,
          0,
          0.0005860817768432255,
          0.00020182651175264628,
          0.00023938159860626998,
          0.00024147749753090274,
          0.00030773356761776277,
          0,
          0,
          0.000672141953095493,
          0.00023095522946029747,
          0.00024143472408346127,
          0.00022783276779706908,
          0.00026245787350095105,
          0,
          0,
          0.000679777013463798,
          0.00021185688517767447,
          0.00023559614850769857,
          0.00020144155072567292,
          0.000242204646137408,
          0,
          0,
          0.0005021602729630321,
          0.00025659791120146764,
          0.0002243681185543088,
          0.00026568726878278316,
          0.00027349342294085414,
          0,
          0,
          0.0005957485759650011,
          0.0001522306994442446,
          0.00025599908293728684,
          0.00028482838651284765,
          0.0003247787864231945,
          0,
          0,
          0.0008103215750552099,
          0.0002966980181778597,
          0.00036299686171216124,
          0.0004488217840035006,
          0.00042454785258045795,
          0,
          0,
          0.0011161303375381059,
          0.000393900677488634,
          0.00042270859434047407,
          0.0005042989453351064,
          0.0005473931936324024,
          0,
          0,
          0.0011766761523915275,
          0.0003992687451425404,
          0.0005355663354148319,
          0.0004685403432740251,
          0.0004815434712962365,
          0,
          0,
          0.0011203649088348127,
          0.00037202205912231453,
          0.0004084008761712974,
          0.0004172763665154055,
          0.0004570556726359864,
          0,
          0,
          0.0008185340769639749,
          0.0002814278974412496,
          0.0003276018339543325,
          0.00034717068615881184,
          0.0003241371847115722,
          0,
          0,
          0.0005536167302351385,
          0.0002615168576572384,
          0.00021861508987342909,
          0.0002628214478042037,
          0.00023211011254121755,
          0,
          0,
          0.00042728535321671294,
          0.00017659017776217023,
          0.00019955951903824758,
          0.00021658335111995856,
          0.00018702689893789252,
          0,
          0,
          0.00037813866210644685,
          0,
          0.00020901245092281575,
          0.00017013138719850602,
          0.0002249669468184896,
          0,
          0
         ]
        },
        {
         "fill": "tonexty",
         "line": {
          "color": "#7F7F7F"
         },
         "mode": "lines",
         "name": "Italy",
         "stackgroup": "A",
         "type": "scatter",
         "x": [
          "[2019-12-31]",
          "[2020-01-01]",
          "[2020-01-02]",
          "[2020-01-03]",
          "[2020-01-04]",
          "[2020-01-05]",
          "[2020-01-06]",
          "[2020-01-07]",
          "[2020-01-08]",
          "[2020-01-09]",
          "[2020-01-10]",
          "[2020-01-11]",
          "[2020-01-12]",
          "[2020-01-13]",
          "[2020-01-14]",
          "[2020-01-15]",
          "[2020-01-16]",
          "[2020-01-17]",
          "[2020-01-18]",
          "[2020-01-19]",
          "[2020-01-20]",
          "[2020-01-21]",
          "[2020-01-22]",
          "[2020-01-23]",
          "[2020-01-24]",
          "[2020-01-25]",
          "[2020-01-26]",
          "[2020-01-27]",
          "[2020-01-28]",
          "[2020-01-29]",
          "[2020-01-30]",
          "[2020-01-31]",
          "[2020-02-01]",
          "[2020-02-02]",
          "[2020-02-03]",
          "[2020-02-04]",
          "[2020-02-05]",
          "[2020-02-06]",
          "[2020-02-07]",
          "[2020-02-08]",
          "[2020-02-09]",
          "[2020-02-10]",
          "[2020-02-11]",
          "[2020-02-12]",
          "[2020-02-13]",
          "[2020-02-14]",
          "[2020-02-15]",
          "[2020-02-16]",
          "[2020-02-17]",
          "[2020-02-18]",
          "[2020-02-19]",
          "[2020-02-20]",
          "[2020-02-21]",
          "[2020-02-22]",
          "[2020-02-23]",
          "[2020-02-24]",
          "[2020-02-25]",
          "[2020-02-26]",
          "[2020-02-27]",
          "[2020-02-28]",
          "[2020-02-29]",
          "[2020-03-01]",
          "[2020-03-02]",
          "[2020-03-03]",
          "[2020-03-04]",
          "[2020-03-05]",
          "[2020-03-06]",
          "[2020-03-07]",
          "[2020-03-08]",
          "[2020-03-09]",
          "[2020-03-10]",
          "[2020-03-11]",
          "[2020-03-12]",
          "[2020-03-13]",
          "[2020-03-14]",
          "[2020-03-15]",
          "[2020-03-16]",
          "[2020-03-17]",
          "[2020-03-18]",
          "[2020-03-19]",
          "[2020-03-20]",
          "[2020-03-21]",
          "[2020-03-22]",
          "[2020-03-23]",
          "[2020-03-24]",
          "[2020-03-25]",
          "[2020-03-26]",
          "[2020-03-27]",
          "[2020-03-28]",
          "[2020-03-29]",
          "[2020-03-30]",
          "[2020-03-31]",
          "[2020-04-01]",
          "[2020-04-02]",
          "[2020-04-03]",
          "[2020-04-04]",
          "[2020-04-05]",
          "[2020-04-06]",
          "[2020-04-07]",
          "[2020-04-08]",
          "[2020-04-09]",
          "[2020-04-10]",
          "[2020-04-11]",
          "[2020-04-12]",
          "[2020-04-13]",
          "[2020-04-14]",
          "[2020-04-15]",
          "[2020-04-16]",
          "[2020-04-17]",
          "[2020-04-18]",
          "[2020-04-19]",
          "[2020-04-20]",
          "[2020-04-21]",
          "[2020-04-22]",
          "[2020-04-23]",
          "[2020-04-24]",
          "[2020-04-25]",
          "[2020-04-26]",
          "[2020-04-27]",
          "[2020-04-28]",
          "[2020-04-29]",
          "[2020-04-30]",
          "[2020-05-01]",
          "[2020-05-02]",
          "[2020-05-03]",
          "[2020-05-04]",
          "[2020-05-05]",
          "[2020-05-06]",
          "[2020-05-07]",
          "[2020-05-08]",
          "[2020-05-09]",
          "[2020-05-10]",
          "[2020-05-11]",
          "[2020-05-12]",
          "[2020-05-13]",
          "[2020-05-14]",
          "[2020-05-15]",
          "[2020-05-16]",
          "[2020-05-17]",
          "[2020-05-18]",
          "[2020-05-19]",
          "[2020-05-20]",
          "[2020-05-21]",
          "[2020-05-22]",
          "[2020-05-23]",
          "[2020-05-24]",
          "[2020-05-25]",
          "[2020-05-26]",
          "[2020-05-27]",
          "[2020-05-28]",
          "[2020-05-29]",
          "[2020-05-30]",
          "[2020-05-31]",
          "[2020-06-01]",
          "[2020-06-02]",
          "[2020-06-03]",
          "[2020-06-04]",
          "[2020-06-05]",
          "[2020-06-06]",
          "[2020-06-07]",
          "[2020-06-08]",
          "[2020-06-09]",
          "[2020-06-10]",
          "[2020-06-11]",
          "[2020-06-12]",
          "[2020-06-13]",
          "[2020-06-14]",
          "[2020-06-15]",
          "[2020-06-16]",
          "[2020-06-17]",
          "[2020-06-18]",
          "[2020-06-19]",
          "[2020-06-20]",
          "[2020-06-21]",
          "[2020-06-22]",
          "[2020-06-23]",
          "[2020-06-24]",
          "[2020-06-25]",
          "[2020-06-26]",
          "[2020-06-27]",
          "[2020-06-28]",
          "[2020-06-29]",
          "[2020-06-30]",
          "[2020-07-01]",
          "[2020-07-02]",
          "[2020-07-03]",
          "[2020-07-04]",
          "[2020-07-05]",
          "[2020-07-06]",
          "[2020-07-07]",
          "[2020-07-08]",
          "[2020-07-09]",
          "[2020-07-10]",
          "[2020-07-11]",
          "[2020-07-12]",
          "[2020-07-13]",
          "[2020-07-14]",
          "[2020-07-15]",
          "[2020-07-16]",
          "[2020-07-17]",
          "[2020-07-18]",
          "[2020-07-19]",
          "[2020-07-20]",
          "[2020-07-21]",
          "[2020-07-22]",
          "[2020-07-23]",
          "[2020-07-24]",
          "[2020-07-25]",
          "[2020-07-26]",
          "[2020-07-27]",
          "[2020-07-28]",
          "[2020-07-29]",
          "[2020-07-30]",
          "[2020-07-31]",
          "[2020-08-01]",
          "[2020-08-02]",
          "[2020-08-03]",
          "[2020-08-04]",
          "[2020-08-05]",
          "[2020-08-06]",
          "[2020-08-07]",
          "[2020-08-08]",
          "[2020-08-09]",
          "[2020-08-10]",
          "[2020-08-11]",
          "[2020-08-12]",
          "[2020-08-13]",
          "[2020-08-14]",
          "[2020-08-15]",
          "[2020-08-16]",
          "[2020-08-17]",
          "[2020-08-18]",
          "[2020-08-19]",
          "[2020-08-20]",
          "[2020-08-21]",
          "[2020-08-22]",
          "[2020-08-23]",
          "[2020-08-24]",
          "[2020-08-25]",
          "[2020-08-26]",
          "[2020-08-27]",
          "[2020-08-28]",
          "[2020-08-29]",
          "[2020-08-30]",
          "[2020-08-31]",
          "[2020-09-01]",
          "[2020-09-02]",
          "[2020-09-03]",
          "[2020-09-04]",
          "[2020-09-05]",
          "[2020-09-06]",
          "[2020-09-07]",
          "[2020-09-08]",
          "[2020-09-09]",
          "[2020-09-10]",
          "[2020-09-11]",
          "[2020-09-12]",
          "[2020-09-13]",
          "[2020-09-14]",
          "[2020-09-15]",
          "[2020-09-16]",
          "[2020-09-17]",
          "[2020-09-18]",
          "[2020-09-19]",
          "[2020-09-20]",
          "[2020-09-21]",
          "[2020-09-22]",
          "[2020-09-23]",
          "[2020-09-24]",
          "[2020-09-25]",
          "[2020-09-26]",
          "[2020-09-27]",
          "[2020-09-28]",
          "[2020-09-29]",
          "[2020-09-30]",
          "[2020-10-01]",
          "[2020-10-02]",
          "[2020-10-03]",
          "[2020-10-04]",
          "[2020-10-05]",
          "[2020-10-06]",
          "[2020-10-07]",
          "[2020-10-08]",
          "[2020-10-09]",
          "[2020-10-10]",
          "[2020-10-11]",
          "[2020-10-12]",
          "[2020-10-13]",
          "[2020-10-14]",
          "[2020-10-15]",
          "[2020-10-16]",
          "[2020-10-17]",
          "[2020-10-18]",
          "[2020-10-19]",
          "[2020-10-20]",
          "[2020-10-21]",
          "[2020-10-22]",
          "[2020-10-23]",
          "[2020-10-24]",
          "[2020-10-25]",
          "[2020-10-26]",
          "[2020-10-27]",
          "[2020-10-28]",
          "[2020-10-29]",
          "[2020-10-30]",
          "[2020-10-31]",
          "[2020-11-01]",
          "[2020-11-02]",
          "[2020-11-03]",
          "[2020-11-04]",
          "[2020-11-05]",
          "[2020-11-06]",
          "[2020-11-07]",
          "[2020-11-08]",
          "[2020-11-09]",
          "[2020-11-10]",
          "[2020-11-11]",
          "[2020-11-12]",
          "[2020-11-13]",
          "[2020-11-14]",
          "[2020-11-15]",
          "[2020-11-16]",
          "[2020-11-17]",
          "[2020-11-18]",
          "[2020-11-19]",
          "[2020-11-20]",
          "[2020-11-21]",
          "[2020-11-22]",
          "[2020-11-23]",
          "[2020-11-24]",
          "[2020-11-25]",
          "[2020-11-26]",
          "[2020-11-27]",
          "[2020-11-28]",
          "[2020-11-29]",
          "[2020-11-30]",
          "[2020-12-01]",
          "[2020-12-02]",
          "[2020-12-03]",
          "[2020-12-04]",
          "[2020-12-05]",
          "[2020-12-06]",
          "[2020-12-07]",
          "[2020-12-08]",
          "[2020-12-09]",
          "[2020-12-10]",
          "[2020-12-11]",
          "[2020-12-12]",
          "[2020-12-13]",
          "[2020-12-14]"
         ],
         "y": [
          0,
          0,
          0,
          0,
          0,
          0,
          0,
          0,
          0,
          0,
          0,
          0,
          0,
          0,
          0,
          0,
          0,
          0,
          0,
          0,
          0,
          0,
          0,
          0,
          0,
          0,
          0,
          0,
          0,
          0,
          0,
          4.96310469330205e-08,
          0,
          0,
          0,
          0,
          0,
          0,
          0,
          0,
          0,
          0,
          0,
          0,
          0,
          0,
          0,
          0,
          0,
          0,
          0,
          0,
          0,
          2.3161155235409568e-07,
          1.0257083032824238e-06,
          8.768151624833623e-07,
          1.604737184167663e-06,
          1.5385624549236356e-06,
          1.290407220258533e-06,
          4.135920577751709e-06,
          3.937396390019626e-06,
          3.970483754641641e-06,
          9.281005776474833e-06,
          5.740657761919372e-06,
          7.709355956929185e-06,
          9.711141516561011e-06,
          1.2722091697164255e-05,
          1.2870984837963317e-05,
          2.0629971841825522e-05,
          2.4683174008022198e-05,
          2.972899711287928e-05,
          1.6163177617853677e-05,
          3.826553718535881e-05,
          4.385730180647912e-05,
          4.2136758846134406e-05,
          5.78532570415909e-05,
          4.6702815163972294e-05,
          6.617472924402734e-05,
          5.83330238286101e-05,
          6.959927148240575e-05,
          8.804547725917837e-05,
          9.90304823136869e-05,
          0.00010847692491327181,
          9.1982873649198e-05,
          7.922769458741174e-05,
          8.683778845047488e-05,
          8.61925848403456e-05,
          0.00010179327725962506,
          9.858380289128972e-05,
          9.883195812595483e-05,
          8.630839061652265e-05,
          6.700191335957769e-05,
          6.70515444065107e-05,
          7.911188881123468e-05,
          7.722590902777991e-05,
          7.585278339596633e-05,
          7.949239350438784e-05,
          7.14025328543055e-05,
          5.95407126373136e-05,
          5.027625054314977e-05,
          6.346156534502221e-05,
          6.954964043547273e-05,
          6.536408881078801e-05,
          7.765604476786608e-05,
          6.769674801663997e-05,
          5.216223032660455e-05,
          4.916782382831231e-05,
          4.4122000723455227e-05,
          6.263438122947187e-05,
          5.7787082312346874e-05,
          5.7753994947724856e-05,
          5.040860000163783e-05,
          3.732254729363142e-05,
          4.514770902673765e-05,
          5.575220938809303e-05,
          4.377458339492408e-05,
          4.997846426155165e-05,
          3.899345920704311e-05,
          3.8447517690779886e-05,
          2.8769463538840885e-05,
          3.459283971231529e-05,
          3.4510121300760255e-05,
          3.096977328620479e-05,
          3.250833574112843e-05,
          3.143299639091299e-05,
          2.2979174729988492e-05,
          2.0199836101739344e-05,
          1.7784458484332346e-05,
          2.3889077257093868e-05,
          2.3177698917720575e-05,
          2.195346642670607e-05,
          1.79168079428204e-05,
          1.326803321342748e-05,
          1.2308499639389085e-05,
          2.319424260003158e-05,
          1.4690789892174069e-05,
          1.641133285251878e-05,
          1.3052965343384392e-05,
          1.447572202213098e-05,
          1.1166985559929613e-05,
          7.4612007222640825e-06,
          1.3450013718848557e-05,
          1.1001548736819545e-05,
          1.0621044043666387e-05,
          1.0786480866776456e-05,
          1.1067723466063573e-05,
          8.784695307144628e-06,
          4.96310469330205e-06,
          6.567841877469713e-06,
          9.661510469627991e-06,
          9.810403610427053e-06,
          8.536540072479527e-06,
          6.882171841378843e-06,
          5.873007220407426e-06,
          2.9447754513592167e-06,
          5.260890974900174e-06,
          5.310522021833194e-06,
          2.92823176904821e-06,
          8.569627437101541e-06,
          4.466794223971845e-06,
          3.2591054152683465e-06,
          4.632231047081914e-06,
          4.681862094014934e-06,
          3.3418238268233806e-06,
          6.27005559587159e-06,
          2.696620216694114e-06,
          5.724114079608364e-06,
          5.59176462112031e-06,
          4.9796483756130574e-06,
          3.474173285311435e-06,
          5.426327798010242e-06,
          5.475958844943263e-06,
          -2.4484649820290115e-06,
          4.367532130105804e-06,
          3.705784837665531e-06,
          3.6561537907325104e-06,
          1.8694361011437722e-06,
          9.545704693450944e-06,
          4.896929964058023e-06,
          4.218638989306742e-06,
          2.8951444044261962e-06,
          2.878600722115189e-06,
          2.084503971186861e-06,
          2.3492028881629706e-06,
          3.010950180603244e-06,
          3.3252801445123738e-06,
          3.689241155354524e-06,
          3.887765343086606e-06,
          3.176387003713312e-06,
          3.4410859206894214e-06,
          2.266484476607936e-06,
          3.192930686024319e-06,
          3.5403480145554627e-06,
          4.566056317837887e-06,
          3.1102122744692848e-06,
          3.871221660775599e-06,
          2.795882310560155e-06,
          1.885979783454779e-06,
          2.6800765343831073e-06,
          3.805046931531572e-06,
          3.821590613842579e-06,
          4.1193768954407015e-06,
          3.60652274379949e-06,
          3.1432996390912984e-06,
          2.117591335808875e-06,
          4.632231047081914e-06,
          5.062366787168091e-06,
          4.169007942373722e-06,
          4.532968953215872e-06,
          4.202095306995736e-06,
          2.779338628249148e-06,
          3.3418238268233806e-06,
          4.7645805055699685e-06,
          6.3196866428046104e-06,
          6.27005559587159e-06,
          4.8803862817470166e-06,
          3.937396390019626e-06,
          2.630445487450087e-06,
          3.1432996390912984e-06,
          6.352774007426624e-06,
          6.63401660671374e-06,
          9.132112635675773e-06,
          5.740657761919372e-06,
          7.659724909996165e-06,
          4.2848137185507705e-06,
          6.815997112134816e-06,
          7.874792780039252e-06,
          8.635802166345568e-06,
          9.496073646517922e-06,
          1.0405976173623298e-05,
          7.89133646235026e-06,
          5.293978339522187e-06,
          6.63401660671374e-06,
          1.0621044043666387e-05,
          1.389669314124574e-05,
          1.5666867148523474e-05,
          1.771828375508832e-05,
          2.0001311914007264e-05,
          1.5766129242389514e-05,
          1.4492265704441987e-05,
          2.2598670036835337e-05,
          2.331004837620863e-05,
          2.4153776174069977e-05,
          2.3889077257093868e-05,
          2.258212635452433e-05,
          1.6477507581762806e-05,
          1.6130090253231663e-05,
          2.193692274439506e-05,
          2.3111524188476546e-05,
          2.8653657762663836e-05,
          2.802499783484558e-05,
          2.1440612275064858e-05,
          1.902523465765786e-05,
          2.2648301083768357e-05,
          2.3657465704739773e-05,
          2.6420260650677916e-05,
          2.6734590614587045e-05,
          2.4832067148821258e-05,
          2.408760144482595e-05,
          1.667603176949489e-05,
          2.03321855602274e-05,
          2.4021426715581922e-05,
          2.6188649098323818e-05,
          3.154880216709003e-05,
          2.7082007943118188e-05,
          2.6254823827567847e-05,
          2.2333971119859225e-05,
          2.3012262094610506e-05,
          2.7131638990051208e-05,
          2.9547016607458207e-05,
          3.163152057864507e-05,
          3.0920142239271775e-05,
          2.921614296123807e-05,
          2.471626137264421e-05,
          2.7247444766228257e-05,
          3.060581227536264e-05,
          4.215330252844541e-05,
          4.134266209520608e-05,
          4.703368881019243e-05,
          4.264961299777562e-05,
          3.7339090975942426e-05,
          4.4287437546565296e-05,
          6.083111985757213e-05,
          7.375173574246847e-05,
          8.887266137472872e-05,
          9.469603754820312e-05,
          9.026233068885329e-05,
          7.641526859454056e-05,
          9.757463827031831e-05,
          0.00012129827870430211,
          0.00014563403538379315,
          0.0001655857162508674,
          0.00018073972924774966,
          0.000193643801450335,
          0.0001544683617378708,
          0.0001798463704029553,
          0.0002514474274449929,
          0.0002659893241963679,
          0.00031669571047960384,
          0.00032491792058817425,
          0.0003519337538020484,
          0.00028135840506329324,
          0.0003637790303367293,
          0.0004133935335874388,
          0.0004438504527220024,
          0.0005141611025437814,
          0.000525361175468333,
          0.0004947388195106594,
          0.00036814656246683507,
          0.000467210132145144,
          0.0005053764072366368,
          0.0005707901270943578,
          0.0006253842787206803,
          0.0006585874491188711,
          0.0005395556548911769,
          0.0004180423083168317,
          0.0005805178122932299,
          0.0005452963126530962,
          0.0006282794231251066,
          0.0006766696938848016,
          0.0006162356224026935,
          0.0005621046938810792,
          0.00045250279857065895,
          0.000532557677273621,
          0.0005671174296213143,
          0.0005984842512829833,
          0.0006160701855795835,
          0.0005751245718598416,
          0.00046879832564700066,
          0.0003792970043444537,
          0.00038426010903775575,
          0.00042768727510414866,
          0.0004797833307015092,
          0.0004688810440585557,
          0.00043534700001414487,
          0.0003415608649930471,
          0.00027091934152504793,
          0.0003200706216710492,
          0.00034260311697864056,
          0.0003841277595792677,
          0.0003988681805183748,
          0.0003482776000113159,
          0.0003124605278079861,
          0.00022630103033226249,
          0.0002454586144484084,
          0.00021101466787689217,
          0.0002812095119224942,
          0.000309796994955914,
          0.000329252365353658,
          0.0002967440296125296
         ]
        }
       ],
       "layout": {}
      },
      "text/html": [
       "<div class=\"chart\" id=\"plot-b60675f5-b3fc-435c-a6f8-7f1e17923c85\"></div>\n",
       "<script>require(['plotly'], function(Plotly) {\n",
       "  (function () {\n",
       "  var data0 = {\"x\":[\"[2019-12-31]\",\"[2020-01-01]\",\"[2020-01-02]\",\"[2020-01-03]\",\"[2020-01-04]\",\"[2020-01-05]\",\"[2020-01-06]\",\"[2020-01-07]\",\"[2020-01-08]\",\"[2020-01-09]\",\"[2020-01-10]\",\"[2020-01-11]\",\"[2020-01-12]\",\"[2020-01-13]\",\"[2020-01-14]\",\"[2020-01-15]\",\"[2020-01-16]\",\"[2020-01-17]\",\"[2020-01-18]\",\"[2020-01-19]\",\"[2020-01-20]\",\"[2020-01-21]\",\"[2020-01-22]\",\"[2020-01-23]\",\"[2020-01-24]\",\"[2020-01-25]\",\"[2020-01-26]\",\"[2020-01-27]\",\"[2020-01-28]\",\"[2020-01-29]\",\"[2020-01-30]\",\"[2020-01-31]\",\"[2020-02-01]\",\"[2020-02-02]\",\"[2020-02-03]\",\"[2020-02-04]\",\"[2020-02-05]\",\"[2020-02-06]\",\"[2020-02-07]\",\"[2020-02-08]\",\"[2020-02-09]\",\"[2020-02-10]\",\"[2020-02-11]\",\"[2020-02-12]\",\"[2020-02-13]\",\"[2020-02-14]\",\"[2020-02-15]\",\"[2020-02-16]\",\"[2020-02-17]\",\"[2020-02-18]\",\"[2020-02-19]\",\"[2020-02-20]\",\"[2020-02-21]\",\"[2020-02-22]\",\"[2020-02-23]\",\"[2020-02-24]\",\"[2020-02-25]\",\"[2020-02-26]\",\"[2020-02-27]\",\"[2020-02-28]\",\"[2020-02-29]\",\"[2020-03-01]\",\"[2020-03-02]\",\"[2020-03-03]\",\"[2020-03-04]\",\"[2020-03-05]\",\"[2020-03-06]\",\"[2020-03-07]\",\"[2020-03-08]\",\"[2020-03-09]\",\"[2020-03-10]\",\"[2020-03-11]\",\"[2020-03-12]\",\"[2020-03-13]\",\"[2020-03-14]\",\"[2020-03-15]\",\"[2020-03-16]\",\"[2020-03-17]\",\"[2020-03-18]\",\"[2020-03-19]\",\"[2020-03-20]\",\"[2020-03-21]\",\"[2020-03-22]\",\"[2020-03-23]\",\"[2020-03-24]\",\"[2020-03-25]\",\"[2020-03-26]\",\"[2020-03-27]\",\"[2020-03-28]\",\"[2020-03-29]\",\"[2020-03-30]\",\"[2020-03-31]\",\"[2020-04-01]\",\"[2020-04-02]\",\"[2020-04-03]\",\"[2020-04-04]\",\"[2020-04-05]\",\"[2020-04-06]\",\"[2020-04-07]\",\"[2020-04-08]\",\"[2020-04-09]\",\"[2020-04-10]\",\"[2020-04-11]\",\"[2020-04-12]\",\"[2020-04-13]\",\"[2020-04-14]\",\"[2020-04-15]\",\"[2020-04-16]\",\"[2020-04-17]\",\"[2020-04-18]\",\"[2020-04-19]\",\"[2020-04-20]\",\"[2020-04-21]\",\"[2020-04-22]\",\"[2020-04-23]\",\"[2020-04-24]\",\"[2020-04-25]\",\"[2020-04-26]\",\"[2020-04-27]\",\"[2020-04-28]\",\"[2020-04-29]\",\"[2020-04-30]\",\"[2020-05-01]\",\"[2020-05-02]\",\"[2020-05-03]\",\"[2020-05-04]\",\"[2020-05-05]\",\"[2020-05-06]\",\"[2020-05-07]\",\"[2020-05-08]\",\"[2020-05-09]\",\"[2020-05-10]\",\"[2020-05-11]\",\"[2020-05-12]\",\"[2020-05-13]\",\"[2020-05-14]\",\"[2020-05-15]\",\"[2020-05-16]\",\"[2020-05-17]\",\"[2020-05-18]\",\"[2020-05-19]\",\"[2020-05-20]\",\"[2020-05-21]\",\"[2020-05-22]\",\"[2020-05-23]\",\"[2020-05-24]\",\"[2020-05-25]\",\"[2020-05-26]\",\"[2020-05-27]\",\"[2020-05-28]\",\"[2020-05-29]\",\"[2020-05-30]\",\"[2020-05-31]\",\"[2020-06-01]\",\"[2020-06-02]\",\"[2020-06-03]\",\"[2020-06-04]\",\"[2020-06-05]\",\"[2020-06-06]\",\"[2020-06-07]\",\"[2020-06-08]\",\"[2020-06-09]\",\"[2020-06-10]\",\"[2020-06-11]\",\"[2020-06-12]\",\"[2020-06-13]\",\"[2020-06-14]\",\"[2020-06-15]\",\"[2020-06-16]\",\"[2020-06-17]\",\"[2020-06-18]\",\"[2020-06-19]\",\"[2020-06-20]\",\"[2020-06-21]\",\"[2020-06-22]\",\"[2020-06-23]\",\"[2020-06-24]\",\"[2020-06-25]\",\"[2020-06-26]\",\"[2020-06-27]\",\"[2020-06-28]\",\"[2020-06-29]\",\"[2020-06-30]\",\"[2020-07-01]\",\"[2020-07-02]\",\"[2020-07-03]\",\"[2020-07-04]\",\"[2020-07-05]\",\"[2020-07-06]\",\"[2020-07-07]\",\"[2020-07-08]\",\"[2020-07-09]\",\"[2020-07-10]\",\"[2020-07-11]\",\"[2020-07-12]\",\"[2020-07-13]\",\"[2020-07-14]\",\"[2020-07-15]\",\"[2020-07-16]\",\"[2020-07-17]\",\"[2020-07-18]\",\"[2020-07-19]\",\"[2020-07-20]\",\"[2020-07-21]\",\"[2020-07-22]\",\"[2020-07-23]\",\"[2020-07-24]\",\"[2020-07-25]\",\"[2020-07-26]\",\"[2020-07-27]\",\"[2020-07-28]\",\"[2020-07-29]\",\"[2020-07-30]\",\"[2020-07-31]\",\"[2020-08-01]\",\"[2020-08-02]\",\"[2020-08-03]\",\"[2020-08-04]\",\"[2020-08-05]\",\"[2020-08-06]\",\"[2020-08-07]\",\"[2020-08-08]\",\"[2020-08-09]\",\"[2020-08-10]\",\"[2020-08-11]\",\"[2020-08-12]\",\"[2020-08-13]\",\"[2020-08-14]\",\"[2020-08-15]\",\"[2020-08-16]\",\"[2020-08-17]\",\"[2020-08-18]\",\"[2020-08-19]\",\"[2020-08-20]\",\"[2020-08-21]\",\"[2020-08-22]\",\"[2020-08-23]\",\"[2020-08-24]\",\"[2020-08-25]\",\"[2020-08-26]\",\"[2020-08-27]\",\"[2020-08-28]\",\"[2020-08-29]\",\"[2020-08-30]\",\"[2020-08-31]\",\"[2020-09-01]\",\"[2020-09-02]\",\"[2020-09-03]\",\"[2020-09-04]\",\"[2020-09-05]\",\"[2020-09-06]\",\"[2020-09-07]\",\"[2020-09-08]\",\"[2020-09-09]\",\"[2020-09-10]\",\"[2020-09-11]\",\"[2020-09-12]\",\"[2020-09-13]\",\"[2020-09-14]\",\"[2020-09-15]\",\"[2020-09-16]\",\"[2020-09-17]\",\"[2020-09-18]\",\"[2020-09-19]\",\"[2020-09-20]\",\"[2020-09-21]\",\"[2020-09-22]\",\"[2020-09-23]\",\"[2020-09-24]\",\"[2020-09-25]\",\"[2020-09-26]\",\"[2020-09-27]\",\"[2020-09-28]\",\"[2020-09-29]\",\"[2020-09-30]\",\"[2020-10-01]\",\"[2020-10-02]\",\"[2020-10-03]\",\"[2020-10-04]\",\"[2020-10-05]\",\"[2020-10-06]\",\"[2020-10-07]\",\"[2020-10-08]\",\"[2020-10-09]\",\"[2020-10-10]\",\"[2020-10-11]\",\"[2020-10-12]\",\"[2020-10-13]\",\"[2020-10-14]\",\"[2020-10-15]\",\"[2020-10-16]\",\"[2020-10-17]\",\"[2020-10-18]\",\"[2020-10-19]\",\"[2020-10-20]\",\"[2020-10-21]\",\"[2020-10-22]\",\"[2020-10-23]\",\"[2020-10-24]\",\"[2020-10-25]\",\"[2020-10-26]\",\"[2020-10-27]\",\"[2020-10-28]\",\"[2020-10-29]\",\"[2020-10-30]\",\"[2020-10-31]\",\"[2020-11-01]\",\"[2020-11-02]\",\"[2020-11-03]\",\"[2020-11-04]\",\"[2020-11-05]\",\"[2020-11-06]\",\"[2020-11-07]\",\"[2020-11-08]\",\"[2020-11-09]\",\"[2020-11-10]\",\"[2020-11-11]\",\"[2020-11-12]\",\"[2020-11-13]\",\"[2020-11-14]\",\"[2020-11-15]\",\"[2020-11-16]\",\"[2020-11-17]\",\"[2020-11-18]\",\"[2020-11-19]\",\"[2020-11-20]\",\"[2020-11-21]\",\"[2020-11-22]\",\"[2020-11-23]\",\"[2020-11-24]\",\"[2020-11-25]\",\"[2020-11-26]\",\"[2020-11-27]\",\"[2020-11-28]\",\"[2020-11-29]\",\"[2020-11-30]\",\"[2020-12-01]\",\"[2020-12-02]\",\"[2020-12-03]\",\"[2020-12-04]\",\"[2020-12-05]\",\"[2020-12-06]\",\"[2020-12-07]\",\"[2020-12-08]\",\"[2020-12-09]\",\"[2020-12-10]\",\"[2020-12-11]\",\"[2020-12-12]\",\"[2020-12-13]\"],\"name\":\"Spain\",\"y\":[0.0,0.0,0.0,0.0,0.0,0.0,0.0,0.0,0.0,0.0,0.0,0.0,0.0,0.0,0.0,0.0,0.0,0.0,0.0,0.0,0.0,0.0,0.0,0.0,0.0,0.0,0.0,0.0,0.0,0.0,0.0,0.0,2.138672372074243E-8,0.0,0.0,0.0,0.0,0.0,0.0,0.0,0.0,2.138672372074243E-8,0.0,0.0,0.0,0.0,0.0,0.0,0.0,0.0,0.0,0.0,0.0,0.0,0.0,0.0,2.138672372074243E-8,1.2832034232445456E-7,1.7109378976593943E-7,3.8496102697336367E-7,4.063477506941061E-7,5.98828264180788E-7,1.154883080920091E-6,1.197656528361576E-6,1.604004279055682E-6,1.7323246213801367E-6,3.9137704408958644E-6,4.9831066269329855E-6,7.057618827845001E-6,9.260451371081471E-6,1.6510550712413155E-5,2.0852055627723866E-5,2.4658892450016018E-5,3.2743074016456655E-5,3.599385602200951E-5,4.585313565727176E-5,3.6485750667586583E-5,5.3530969473018294E-5,7.900255742442252E-5,8.655207089784461E-5,9.771594068007215E-5,1.1647209738316325E-4,1.0406779762513265E-4,9.936271840656932E-5,1.6448529213623E-4,1.8292064798351E-4,1.914967241955277E-4,1.9635151048013623E-4,1.7631215035380057E-4,1.3738831318204937E-4,1.2432102498867572E-4,1.7419486470544708E-4,1.5853978294186363E-4,1.6217552597438983E-4,1.5552425489723893E-4,1.4249974015130679E-4,1.1833274234686785E-4,7.842511588396248E-5,1.114034438613473E-4,1.1940207853290497E-4,1.2286672777566524E-4,9.70315655210084E-5,9.730959292937804E-5,8.338683578717473E-5,6.480177287384956E-5,6.664103111383341E-5,9.46148657405645E-5,8.169728461323607E-5,8.165451116579459E-5,8.203947219276795E-5,-1.5248734012889351E-5,4.74357532126067E-5,6.31122216999109E-5,4.944610524235649E-5,6.236368636968492E-5,4.521153394564949E-5,5.359512964418052E-5,3.5095613625738324E-5,3.5501961376432426E-5,3.26147536741322E-5,1.8114554991468834E-5,2.6540924137441353E-5,2.9663385800669745E-5,2.6391217071396155E-5,1.999658667889417E-5,9.966213253865971E-6,2.222080594585138E-5,1.8820316874253337E-5,1.9697172546803774E-5,2.5086626924430867E-5,1.5890335724511622E-5,7.305704823005613E-5,8.404982422251775E-6,1.030840083339785E-5,9.388771713405925E-6,1.815732843891032E-5,1.3751663352437382E-5,1.101416271618235E-5,1.3944143865924062E-5,5.475001272510062E-6,9.217677923639986E-6,1.1078322887344577E-5,1.030840083339785E-5,3.821807528896672E-5,9.966213253865971E-6,1.030840083339785E-5,-7.955861224116183E-6,1.8371195676117746E-5,1.0907229097578638E-5,2.431670487048414E-5,1.4072464208248518E-5,1.4200784550572972E-5,4.298731467869228E-6,4.4698252576351676E-6,6.287696773898273E-6,8.426369145972516E-6,7.143165722727971E-6,6.800978143196092E-6,7.100392275286486E-6,5.132813692978183E-6,3.5715828613639855E-6,5.325294206464864E-6,6.715431248313122E-6,9.132131028757016E-6,1.07361353078127E-5,8.469142593414002E-6,6.907911761799804E-6,3.870996993454379E-6,4.683692494842592E-6,7.592286920863562E-6,1.251123337663432E-5,6.565724182267925E-6,7.763380710629502E-6,7.143165722727971E-6,4.961719903212243E-6,5.303907482744122E-6,7.143165722727971E-6,8.55468948829697E-6,8.961037238991077E-6,1.206211217849873E-5,6.437403839943471E-6,4.277344744148485E-6,6.437403839943471E-6,8.298048803648062E-6,9.495705332009637E-6,9.452931884568152E-6,0.0,0.0,2.660508430860358E-5,7.2928727887731675E-6,8.19111518504435E-6,1.1612990980363138E-5,1.8221488610072548E-5,0.0,0.0,4.373585000891827E-5,1.4243557998014457E-5,1.8713383255649624E-5,2.9107330983930443E-5,2.99414132090394E-5,0.0,0.0,9.797258136472106E-5,2.9043170812768216E-5,2.9021784089047473E-5,5.592628252974145E-5,4.822706199027417E-5,0.0,0.0,1.3604094958764257E-4,3.9094930961517154E-5,4.343643587682787E-5,5.964757245715063E-5,6.612774974453558E-5,0.0,0.0,1.8247152678537438E-4,1.2318752863147637E-4,6.315499514735239E-5,8.742892657039504E-5,9.638996380938612E-5,0.0,0.0,1.8431078502535825E-4,7.767658055373649E-5,6.783868764219499E-5,1.6146976409160533E-4,1.1717785926594776E-4,0.0,0.0,3.4794060821275856E-4,1.0937170510787677E-4,1.4267083394107273E-4,1.5054114827030594E-4,1.742590248766093E-4,0.0,0.0,4.1451747915542973E-4,1.5220931272052387E-4,1.5603753626653675E-4,2.0655297769493037E-4,2.091407712651402E-4,0.0,0.0,5.041278515453405E-4,1.735532629938248E-4,1.8351947624769077E-4,1.9160365781413141E-4,2.2404731769849767E-4,0.0,0.0,5.680313820229188E-4,1.917105914327351E-4,1.8961469250810235E-4,2.3020669413007148E-4,2.60554455089805E-4,0.0,0.0,5.860817768432255E-4,2.0182651175264628E-4,2.3938159860626998E-4,2.4147749753090274E-4,3.0773356761776277E-4,0.0,0.0,6.72141953095493E-4,2.3095522946029747E-4,2.4143472408346127E-4,2.2783276779706908E-4,2.6245787350095105E-4,0.0,0.0,6.79777013463798E-4,2.1185688517767447E-4,2.3559614850769857E-4,2.0144155072567292E-4,2.42204646137408E-4,0.0,0.0,5.021602729630321E-4,2.5659791120146764E-4,2.243681185543088E-4,2.6568726878278316E-4,2.7349342294085414E-4,0.0,0.0,5.957485759650011E-4,1.522306994442446E-4,2.5599908293728684E-4,2.8482838651284765E-4,3.247787864231945E-4,0.0,0.0,8.103215750552099E-4,2.966980181778597E-4,3.6299686171216124E-4,4.488217840035006E-4,4.2454785258045795E-4,0.0,0.0,0.0011161303375381059,3.93900677488634E-4,4.2270859434047407E-4,5.042989453351064E-4,5.473931936324024E-4,0.0,0.0,0.0011766761523915275,3.992687451425404E-4,5.355663354148319E-4,4.685403432740251E-4,4.815434712962365E-4,0.0,0.0,0.0011203649088348127,3.7202205912231453E-4,4.084008761712974E-4,4.172763665154055E-4,4.570556726359864E-4,0.0,0.0,8.185340769639749E-4,2.814278974412496E-4,3.276018339543325E-4,3.4717068615881184E-4,3.241371847115722E-4,0.0,0.0,5.536167302351385E-4,2.615168576572384E-4,2.1861508987342909E-4,2.628214478042037E-4,2.3211011254121755E-4,0.0,0.0,4.2728535321671294E-4,1.7659017776217023E-4,1.9955951903824758E-4,2.1658335111995856E-4,1.8702689893789252E-4,0.0,0.0,3.7813866210644685E-4,0.0,2.0901245092281575E-4,1.7013138719850602E-4,2.249669468184896E-4,0.0,0.0],\"stackgroup\":\"A\",\"fill\":\"tonexty\",\"type\":\"scatter\"};\n",
       "  var data1 = {\"x\":[\"[2019-12-31]\",\"[2020-01-01]\",\"[2020-01-02]\",\"[2020-01-03]\",\"[2020-01-04]\",\"[2020-01-05]\",\"[2020-01-06]\",\"[2020-01-07]\",\"[2020-01-08]\",\"[2020-01-09]\",\"[2020-01-10]\",\"[2020-01-11]\",\"[2020-01-12]\",\"[2020-01-13]\",\"[2020-01-14]\",\"[2020-01-15]\",\"[2020-01-16]\",\"[2020-01-17]\",\"[2020-01-18]\",\"[2020-01-19]\",\"[2020-01-20]\",\"[2020-01-21]\",\"[2020-01-22]\",\"[2020-01-23]\",\"[2020-01-24]\",\"[2020-01-25]\",\"[2020-01-26]\",\"[2020-01-27]\",\"[2020-01-28]\",\"[2020-01-29]\",\"[2020-01-30]\",\"[2020-01-31]\",\"[2020-02-01]\",\"[2020-02-02]\",\"[2020-02-03]\",\"[2020-02-04]\",\"[2020-02-05]\",\"[2020-02-06]\",\"[2020-02-07]\",\"[2020-02-08]\",\"[2020-02-09]\",\"[2020-02-10]\",\"[2020-02-11]\",\"[2020-02-12]\",\"[2020-02-13]\",\"[2020-02-14]\",\"[2020-02-15]\",\"[2020-02-16]\",\"[2020-02-17]\",\"[2020-02-18]\",\"[2020-02-19]\",\"[2020-02-20]\",\"[2020-02-21]\",\"[2020-02-22]\",\"[2020-02-23]\",\"[2020-02-24]\",\"[2020-02-25]\",\"[2020-02-26]\",\"[2020-02-27]\",\"[2020-02-28]\",\"[2020-02-29]\",\"[2020-03-01]\",\"[2020-03-02]\",\"[2020-03-03]\",\"[2020-03-04]\",\"[2020-03-05]\",\"[2020-03-06]\",\"[2020-03-07]\",\"[2020-03-08]\",\"[2020-03-09]\",\"[2020-03-10]\",\"[2020-03-11]\",\"[2020-03-12]\",\"[2020-03-13]\",\"[2020-03-14]\",\"[2020-03-15]\",\"[2020-03-16]\",\"[2020-03-17]\",\"[2020-03-18]\",\"[2020-03-19]\",\"[2020-03-20]\",\"[2020-03-21]\",\"[2020-03-22]\",\"[2020-03-23]\",\"[2020-03-24]\",\"[2020-03-25]\",\"[2020-03-26]\",\"[2020-03-27]\",\"[2020-03-28]\",\"[2020-03-29]\",\"[2020-03-30]\",\"[2020-03-31]\",\"[2020-04-01]\",\"[2020-04-02]\",\"[2020-04-03]\",\"[2020-04-04]\",\"[2020-04-05]\",\"[2020-04-06]\",\"[2020-04-07]\",\"[2020-04-08]\",\"[2020-04-09]\",\"[2020-04-10]\",\"[2020-04-11]\",\"[2020-04-12]\",\"[2020-04-13]\",\"[2020-04-14]\",\"[2020-04-15]\",\"[2020-04-16]\",\"[2020-04-17]\",\"[2020-04-18]\",\"[2020-04-19]\",\"[2020-04-20]\",\"[2020-04-21]\",\"[2020-04-22]\",\"[2020-04-23]\",\"[2020-04-24]\",\"[2020-04-25]\",\"[2020-04-26]\",\"[2020-04-27]\",\"[2020-04-28]\",\"[2020-04-29]\",\"[2020-04-30]\",\"[2020-05-01]\",\"[2020-05-02]\",\"[2020-05-03]\",\"[2020-05-04]\",\"[2020-05-05]\",\"[2020-05-06]\",\"[2020-05-07]\",\"[2020-05-08]\",\"[2020-05-09]\",\"[2020-05-10]\",\"[2020-05-11]\",\"[2020-05-12]\",\"[2020-05-13]\",\"[2020-05-14]\",\"[2020-05-15]\",\"[2020-05-16]\",\"[2020-05-17]\",\"[2020-05-18]\",\"[2020-05-19]\",\"[2020-05-20]\",\"[2020-05-21]\",\"[2020-05-22]\",\"[2020-05-23]\",\"[2020-05-24]\",\"[2020-05-25]\",\"[2020-05-26]\",\"[2020-05-27]\",\"[2020-05-28]\",\"[2020-05-29]\",\"[2020-05-30]\",\"[2020-05-31]\",\"[2020-06-01]\",\"[2020-06-02]\",\"[2020-06-03]\",\"[2020-06-04]\",\"[2020-06-05]\",\"[2020-06-06]\",\"[2020-06-07]\",\"[2020-06-08]\",\"[2020-06-09]\",\"[2020-06-10]\",\"[2020-06-11]\",\"[2020-06-12]\",\"[2020-06-13]\",\"[2020-06-14]\",\"[2020-06-15]\",\"[2020-06-16]\",\"[2020-06-17]\",\"[2020-06-18]\",\"[2020-06-19]\",\"[2020-06-20]\",\"[2020-06-21]\",\"[2020-06-22]\",\"[2020-06-23]\",\"[2020-06-24]\",\"[2020-06-25]\",\"[2020-06-26]\",\"[2020-06-27]\",\"[2020-06-28]\",\"[2020-06-29]\",\"[2020-06-30]\",\"[2020-07-01]\",\"[2020-07-02]\",\"[2020-07-03]\",\"[2020-07-04]\",\"[2020-07-05]\",\"[2020-07-06]\",\"[2020-07-07]\",\"[2020-07-08]\",\"[2020-07-09]\",\"[2020-07-10]\",\"[2020-07-11]\",\"[2020-07-12]\",\"[2020-07-13]\",\"[2020-07-14]\",\"[2020-07-15]\",\"[2020-07-16]\",\"[2020-07-17]\",\"[2020-07-18]\",\"[2020-07-19]\",\"[2020-07-20]\",\"[2020-07-21]\",\"[2020-07-22]\",\"[2020-07-23]\",\"[2020-07-24]\",\"[2020-07-25]\",\"[2020-07-26]\",\"[2020-07-27]\",\"[2020-07-28]\",\"[2020-07-29]\",\"[2020-07-30]\",\"[2020-07-31]\",\"[2020-08-01]\",\"[2020-08-02]\",\"[2020-08-03]\",\"[2020-08-04]\",\"[2020-08-05]\",\"[2020-08-06]\",\"[2020-08-07]\",\"[2020-08-08]\",\"[2020-08-09]\",\"[2020-08-10]\",\"[2020-08-11]\",\"[2020-08-12]\",\"[2020-08-13]\",\"[2020-08-14]\",\"[2020-08-15]\",\"[2020-08-16]\",\"[2020-08-17]\",\"[2020-08-18]\",\"[2020-08-19]\",\"[2020-08-20]\",\"[2020-08-21]\",\"[2020-08-22]\",\"[2020-08-23]\",\"[2020-08-24]\",\"[2020-08-25]\",\"[2020-08-26]\",\"[2020-08-27]\",\"[2020-08-28]\",\"[2020-08-29]\",\"[2020-08-30]\",\"[2020-08-31]\",\"[2020-09-01]\",\"[2020-09-02]\",\"[2020-09-03]\",\"[2020-09-04]\",\"[2020-09-05]\",\"[2020-09-06]\",\"[2020-09-07]\",\"[2020-09-08]\",\"[2020-09-09]\",\"[2020-09-10]\",\"[2020-09-11]\",\"[2020-09-12]\",\"[2020-09-13]\",\"[2020-09-14]\",\"[2020-09-15]\",\"[2020-09-16]\",\"[2020-09-17]\",\"[2020-09-18]\",\"[2020-09-19]\",\"[2020-09-20]\",\"[2020-09-21]\",\"[2020-09-22]\",\"[2020-09-23]\",\"[2020-09-24]\",\"[2020-09-25]\",\"[2020-09-26]\",\"[2020-09-27]\",\"[2020-09-28]\",\"[2020-09-29]\",\"[2020-09-30]\",\"[2020-10-01]\",\"[2020-10-02]\",\"[2020-10-03]\",\"[2020-10-04]\",\"[2020-10-05]\",\"[2020-10-06]\",\"[2020-10-07]\",\"[2020-10-08]\",\"[2020-10-09]\",\"[2020-10-10]\",\"[2020-10-11]\",\"[2020-10-12]\",\"[2020-10-13]\",\"[2020-10-14]\",\"[2020-10-15]\",\"[2020-10-16]\",\"[2020-10-17]\",\"[2020-10-18]\",\"[2020-10-19]\",\"[2020-10-20]\",\"[2020-10-21]\",\"[2020-10-22]\",\"[2020-10-23]\",\"[2020-10-24]\",\"[2020-10-25]\",\"[2020-10-26]\",\"[2020-10-27]\",\"[2020-10-28]\",\"[2020-10-29]\",\"[2020-10-30]\",\"[2020-10-31]\",\"[2020-11-01]\",\"[2020-11-02]\",\"[2020-11-03]\",\"[2020-11-04]\",\"[2020-11-05]\",\"[2020-11-06]\",\"[2020-11-07]\",\"[2020-11-08]\",\"[2020-11-09]\",\"[2020-11-10]\",\"[2020-11-11]\",\"[2020-11-12]\",\"[2020-11-13]\",\"[2020-11-14]\",\"[2020-11-15]\",\"[2020-11-16]\",\"[2020-11-17]\",\"[2020-11-18]\",\"[2020-11-19]\",\"[2020-11-20]\",\"[2020-11-21]\",\"[2020-11-22]\",\"[2020-11-23]\",\"[2020-11-24]\",\"[2020-11-25]\",\"[2020-11-26]\",\"[2020-11-27]\",\"[2020-11-28]\",\"[2020-11-29]\",\"[2020-11-30]\",\"[2020-12-01]\",\"[2020-12-02]\",\"[2020-12-03]\",\"[2020-12-04]\",\"[2020-12-05]\",\"[2020-12-06]\",\"[2020-12-07]\",\"[2020-12-08]\",\"[2020-12-09]\",\"[2020-12-10]\",\"[2020-12-11]\",\"[2020-12-12]\",\"[2020-12-13]\",\"[2020-12-14]\"],\"name\":\"Italy\",\"y\":[0.0,0.0,0.0,0.0,0.0,0.0,0.0,0.0,0.0,0.0,0.0,0.0,0.0,0.0,0.0,0.0,0.0,0.0,0.0,0.0,0.0,0.0,0.0,0.0,0.0,0.0,0.0,0.0,0.0,0.0,0.0,4.96310469330205E-8,0.0,0.0,0.0,0.0,0.0,0.0,0.0,0.0,0.0,0.0,0.0,0.0,0.0,0.0,0.0,0.0,0.0,0.0,0.0,0.0,0.0,2.3161155235409568E-7,1.0257083032824238E-6,8.768151624833623E-7,1.604737184167663E-6,1.5385624549236356E-6,1.290407220258533E-6,4.135920577751709E-6,3.937396390019626E-6,3.970483754641641E-6,9.281005776474833E-6,5.740657761919372E-6,7.709355956929185E-6,9.711141516561011E-6,1.2722091697164255E-5,1.2870984837963317E-5,2.0629971841825522E-5,2.4683174008022198E-5,2.972899711287928E-5,1.6163177617853677E-5,3.826553718535881E-5,4.385730180647912E-5,4.2136758846134406E-5,5.78532570415909E-5,4.6702815163972294E-5,6.617472924402734E-5,5.83330238286101E-5,6.959927148240575E-5,8.804547725917837E-5,9.90304823136869E-5,1.0847692491327181E-4,9.1982873649198E-5,7.922769458741174E-5,8.683778845047488E-5,8.61925848403456E-5,1.0179327725962506E-4,9.858380289128972E-5,9.883195812595483E-5,8.630839061652265E-5,6.700191335957769E-5,6.70515444065107E-5,7.911188881123468E-5,7.722590902777991E-5,7.585278339596633E-5,7.949239350438784E-5,7.14025328543055E-5,5.95407126373136E-5,5.027625054314977E-5,6.346156534502221E-5,6.954964043547273E-5,6.536408881078801E-5,7.765604476786608E-5,6.769674801663997E-5,5.216223032660455E-5,4.916782382831231E-5,4.4122000723455227E-5,6.263438122947187E-5,5.7787082312346874E-5,5.7753994947724856E-5,5.040860000163783E-5,3.732254729363142E-5,4.514770902673765E-5,5.575220938809303E-5,4.377458339492408E-5,4.997846426155165E-5,3.899345920704311E-5,3.8447517690779886E-5,2.8769463538840885E-5,3.459283971231529E-5,3.4510121300760255E-5,3.096977328620479E-5,3.250833574112843E-5,3.143299639091299E-5,2.2979174729988492E-5,2.0199836101739344E-5,1.7784458484332346E-5,2.3889077257093868E-5,2.3177698917720575E-5,2.195346642670607E-5,1.79168079428204E-5,1.326803321342748E-5,1.2308499639389085E-5,2.319424260003158E-5,1.4690789892174069E-5,1.641133285251878E-5,1.3052965343384392E-5,1.447572202213098E-5,1.1166985559929613E-5,7.4612007222640825E-6,1.3450013718848557E-5,1.1001548736819545E-5,1.0621044043666387E-5,1.0786480866776456E-5,1.1067723466063573E-5,8.784695307144628E-6,4.96310469330205E-6,6.567841877469713E-6,9.661510469627991E-6,9.810403610427053E-6,8.536540072479527E-6,6.882171841378843E-6,5.873007220407426E-6,2.9447754513592167E-6,5.260890974900174E-6,5.310522021833194E-6,2.92823176904821E-6,8.569627437101541E-6,4.466794223971845E-6,3.2591054152683465E-6,4.632231047081914E-6,4.681862094014934E-6,3.3418238268233806E-6,6.27005559587159E-6,2.696620216694114E-6,5.724114079608364E-6,5.59176462112031E-6,4.9796483756130574E-6,3.474173285311435E-6,5.426327798010242E-6,5.475958844943263E-6,-2.4484649820290115E-6,4.367532130105804E-6,3.705784837665531E-6,3.6561537907325104E-6,1.8694361011437722E-6,9.545704693450944E-6,4.896929964058023E-6,4.218638989306742E-6,2.8951444044261962E-6,2.878600722115189E-6,2.084503971186861E-6,2.3492028881629706E-6,3.010950180603244E-6,3.3252801445123738E-6,3.689241155354524E-6,3.887765343086606E-6,3.176387003713312E-6,3.4410859206894214E-6,2.266484476607936E-6,3.192930686024319E-6,3.5403480145554627E-6,4.566056317837887E-6,3.1102122744692848E-6,3.871221660775599E-6,2.795882310560155E-6,1.885979783454779E-6,2.6800765343831073E-6,3.805046931531572E-6,3.821590613842579E-6,4.1193768954407015E-6,3.60652274379949E-6,3.1432996390912984E-6,2.117591335808875E-6,4.632231047081914E-6,5.062366787168091E-6,4.169007942373722E-6,4.532968953215872E-6,4.202095306995736E-6,2.779338628249148E-6,3.3418238268233806E-6,4.7645805055699685E-6,6.3196866428046104E-6,6.27005559587159E-6,4.8803862817470166E-6,3.937396390019626E-6,2.630445487450087E-6,3.1432996390912984E-6,6.352774007426624E-6,6.63401660671374E-6,9.132112635675773E-6,5.740657761919372E-6,7.659724909996165E-6,4.2848137185507705E-6,6.815997112134816E-6,7.874792780039252E-6,8.635802166345568E-6,9.496073646517922E-6,1.0405976173623298E-5,7.89133646235026E-6,5.293978339522187E-6,6.63401660671374E-6,1.0621044043666387E-5,1.389669314124574E-5,1.5666867148523474E-5,1.771828375508832E-5,2.0001311914007264E-5,1.5766129242389514E-5,1.4492265704441987E-5,2.2598670036835337E-5,2.331004837620863E-5,2.4153776174069977E-5,2.3889077257093868E-5,2.258212635452433E-5,1.6477507581762806E-5,1.6130090253231663E-5,2.193692274439506E-5,2.3111524188476546E-5,2.8653657762663836E-5,2.802499783484558E-5,2.1440612275064858E-5,1.902523465765786E-5,2.2648301083768357E-5,2.3657465704739773E-5,2.6420260650677916E-5,2.6734590614587045E-5,2.4832067148821258E-5,2.408760144482595E-5,1.667603176949489E-5,2.03321855602274E-5,2.4021426715581922E-5,2.6188649098323818E-5,3.154880216709003E-5,2.7082007943118188E-5,2.6254823827567847E-5,2.2333971119859225E-5,2.3012262094610506E-5,2.7131638990051208E-5,2.9547016607458207E-5,3.163152057864507E-5,3.0920142239271775E-5,2.921614296123807E-5,2.471626137264421E-5,2.7247444766228257E-5,3.060581227536264E-5,4.215330252844541E-5,4.134266209520608E-5,4.703368881019243E-5,4.264961299777562E-5,3.7339090975942426E-5,4.4287437546565296E-5,6.083111985757213E-5,7.375173574246847E-5,8.887266137472872E-5,9.469603754820312E-5,9.026233068885329E-5,7.641526859454056E-5,9.757463827031831E-5,1.2129827870430211E-4,1.4563403538379315E-4,1.655857162508674E-4,1.8073972924774966E-4,1.93643801450335E-4,1.544683617378708E-4,1.798463704029553E-4,2.514474274449929E-4,2.659893241963679E-4,3.1669571047960384E-4,3.2491792058817425E-4,3.519337538020484E-4,2.8135840506329324E-4,3.637790303367293E-4,4.133935335874388E-4,4.438504527220024E-4,5.141611025437814E-4,5.25361175468333E-4,4.947388195106594E-4,3.6814656246683507E-4,4.67210132145144E-4,5.053764072366368E-4,5.707901270943578E-4,6.253842787206803E-4,6.585874491188711E-4,5.395556548911769E-4,4.180423083168317E-4,5.805178122932299E-4,5.452963126530962E-4,6.282794231251066E-4,6.766696938848016E-4,6.162356224026935E-4,5.621046938810792E-4,4.5250279857065895E-4,5.32557677273621E-4,5.671174296213143E-4,5.984842512829833E-4,6.160701855795835E-4,5.751245718598416E-4,4.6879832564700066E-4,3.792970043444537E-4,3.8426010903775575E-4,4.2768727510414866E-4,4.797833307015092E-4,4.688810440585557E-4,4.3534700001414487E-4,3.415608649930471E-4,2.7091934152504793E-4,3.200706216710492E-4,3.4260311697864056E-4,3.841277595792677E-4,3.988681805183748E-4,3.482776000113159E-4,3.124605278079861E-4,2.2630103033226249E-4,2.454586144484084E-4,2.1101466787689217E-4,2.812095119224942E-4,3.09796994955914E-4,3.29252365353658E-4,2.967440296125296E-4],\"line\":{\"color\":\"#7F7F7F\"},\"stackgroup\":\"A\",\"fill\":\"tonexty\",\"mode\":\"lines\",\"type\":\"scatter\"};\n",
       "\n",
       "  var data = [data0, data1];\n",
       "  var layout = {};\n",
       " var config = {};\n",
       "\n",
       "  Plotly.plot('plot-b60675f5-b3fc-435c-a6f8-7f1e17923c85', data, layout, config);\n",
       "})();\n",
       "});\n",
       "      </script>\n",
       "           "
      ]
     },
     "metadata": {},
     "output_type": "display_data"
    },
    {
     "data": {
      "text/plain": [
       "\u001b[36my\u001b[39m: \u001b[32mList\u001b[39m[\u001b[32mDouble\u001b[39m] = \u001b[33mList\u001b[39m(\n",
       "  \u001b[32m0.0\u001b[39m,\n",
       "  \u001b[32m0.0\u001b[39m,\n",
       "  \u001b[32m0.0\u001b[39m,\n",
       "  \u001b[32m0.0\u001b[39m,\n",
       "  \u001b[32m0.0\u001b[39m,\n",
       "  \u001b[32m0.0\u001b[39m,\n",
       "  \u001b[32m0.0\u001b[39m,\n",
       "  \u001b[32m0.0\u001b[39m,\n",
       "  \u001b[32m0.0\u001b[39m,\n",
       "  \u001b[32m0.0\u001b[39m,\n",
       "  \u001b[32m0.0\u001b[39m,\n",
       "  \u001b[32m0.0\u001b[39m,\n",
       "  \u001b[32m0.0\u001b[39m,\n",
       "  \u001b[32m0.0\u001b[39m,\n",
       "  \u001b[32m0.0\u001b[39m,\n",
       "  \u001b[32m0.0\u001b[39m,\n",
       "  \u001b[32m0.0\u001b[39m,\n",
       "  \u001b[32m0.0\u001b[39m,\n",
       "  \u001b[32m0.0\u001b[39m,\n",
       "  \u001b[32m0.0\u001b[39m,\n",
       "  \u001b[32m0.0\u001b[39m,\n",
       "  \u001b[32m0.0\u001b[39m,\n",
       "  \u001b[32m0.0\u001b[39m,\n",
       "  \u001b[32m0.0\u001b[39m,\n",
       "  \u001b[32m0.0\u001b[39m,\n",
       "  \u001b[32m0.0\u001b[39m,\n",
       "  \u001b[32m0.0\u001b[39m,\n",
       "  \u001b[32m0.0\u001b[39m,\n",
       "  \u001b[32m0.0\u001b[39m,\n",
       "  \u001b[32m0.0\u001b[39m,\n",
       "  \u001b[32m0.0\u001b[39m,\n",
       "  \u001b[32m0.0\u001b[39m,\n",
       "  \u001b[32m2.138672372074243E-8\u001b[39m,\n",
       "  \u001b[32m0.0\u001b[39m,\n",
       "  \u001b[32m0.0\u001b[39m,\n",
       "  \u001b[32m0.0\u001b[39m,\n",
       "  \u001b[32m0.0\u001b[39m,\n",
       "  \u001b[32m0.0\u001b[39m,\n",
       "...\n",
       "\u001b[36mx\u001b[39m: \u001b[32mList\u001b[39m[\u001b[32mString\u001b[39m] = \u001b[33mList\u001b[39m(\n",
       "  \u001b[32m\"[2019-12-31]\"\u001b[39m,\n",
       "  \u001b[32m\"[2020-01-01]\"\u001b[39m,\n",
       "  \u001b[32m\"[2020-01-02]\"\u001b[39m,\n",
       "  \u001b[32m\"[2020-01-03]\"\u001b[39m,\n",
       "  \u001b[32m\"[2020-01-04]\"\u001b[39m,\n",
       "  \u001b[32m\"[2020-01-05]\"\u001b[39m,\n",
       "  \u001b[32m\"[2020-01-06]\"\u001b[39m,\n",
       "  \u001b[32m\"[2020-01-07]\"\u001b[39m,\n",
       "  \u001b[32m\"[2020-01-08]\"\u001b[39m,\n",
       "  \u001b[32m\"[2020-01-09]\"\u001b[39m,\n",
       "  \u001b[32m\"[2020-01-10]\"\u001b[39m,\n",
       "  \u001b[32m\"[2020-01-11]\"\u001b[39m,\n",
       "  \u001b[32m\"[2020-01-12]\"\u001b[39m,\n",
       "  \u001b[32m\"[2020-01-13]\"\u001b[39m,\n",
       "  \u001b[32m\"[2020-01-14]\"\u001b[39m,\n",
       "  \u001b[32m\"[2020-01-15]\"\u001b[39m,\n",
       "  \u001b[32m\"[2020-01-16]\"\u001b[39m,\n",
       "  \u001b[32m\"[2020-01-17]\"\u001b[39m,\n",
       "  \u001b[32m\"[2020-01-18]\"\u001b[39m,\n",
       "  \u001b[32m\"[2020-01-19]\"\u001b[39m,\n",
       "  \u001b[32m\"[2020-01-20]\"\u001b[39m,\n",
       "  \u001b[32m\"[2020-01-21]\"\u001b[39m,\n",
       "  \u001b[32m\"[2020-01-22]\"\u001b[39m,\n",
       "  \u001b[32m\"[2020-01-23]\"\u001b[39m,\n",
       "  \u001b[32m\"[2020-01-24]\"\u001b[39m,\n",
       "  \u001b[32m\"[2020-01-25]\"\u001b[39m,\n",
       "  \u001b[32m\"[2020-01-26]\"\u001b[39m,\n",
       "  \u001b[32m\"[2020-01-27]\"\u001b[39m,\n",
       "  \u001b[32m\"[2020-01-28]\"\u001b[39m,\n",
       "  \u001b[32m\"[2020-01-29]\"\u001b[39m,\n",
       "  \u001b[32m\"[2020-01-30]\"\u001b[39m,\n",
       "  \u001b[32m\"[2020-01-31]\"\u001b[39m,\n",
       "  \u001b[32m\"[2020-02-01]\"\u001b[39m,\n",
       "  \u001b[32m\"[2020-02-02]\"\u001b[39m,\n",
       "  \u001b[32m\"[2020-02-03]\"\u001b[39m,\n",
       "  \u001b[32m\"[2020-02-04]\"\u001b[39m,\n",
       "  \u001b[32m\"[2020-02-05]\"\u001b[39m,\n",
       "  \u001b[32m\"[2020-02-06]\"\u001b[39m,\n",
       "...\n",
       "\u001b[36my1\u001b[39m: \u001b[32mList\u001b[39m[\u001b[32mDouble\u001b[39m] = \u001b[33mList\u001b[39m(\n",
       "  \u001b[32m0.0\u001b[39m,\n",
       "  \u001b[32m0.0\u001b[39m,\n",
       "  \u001b[32m0.0\u001b[39m,\n",
       "  \u001b[32m0.0\u001b[39m,\n",
       "  \u001b[32m0.0\u001b[39m,\n",
       "  \u001b[32m0.0\u001b[39m,\n",
       "  \u001b[32m0.0\u001b[39m,\n",
       "  \u001b[32m0.0\u001b[39m,\n",
       "  \u001b[32m0.0\u001b[39m,\n",
       "  \u001b[32m0.0\u001b[39m,\n",
       "  \u001b[32m0.0\u001b[39m,\n",
       "  \u001b[32m0.0\u001b[39m,\n",
       "  \u001b[32m0.0\u001b[39m,\n",
       "  \u001b[32m0.0\u001b[39m,\n",
       "  \u001b[32m0.0\u001b[39m,\n",
       "  \u001b[32m0.0\u001b[39m,\n",
       "  \u001b[32m0.0\u001b[39m,\n",
       "  \u001b[32m0.0\u001b[39m,\n",
       "  \u001b[32m0.0\u001b[39m,\n",
       "  \u001b[32m0.0\u001b[39m,\n",
       "  \u001b[32m0.0\u001b[39m,\n",
       "  \u001b[32m0.0\u001b[39m,\n",
       "  \u001b[32m0.0\u001b[39m,\n",
       "  \u001b[32m0.0\u001b[39m,\n",
       "  \u001b[32m0.0\u001b[39m,\n",
       "  \u001b[32m0.0\u001b[39m,\n",
       "  \u001b[32m0.0\u001b[39m,\n",
       "  \u001b[32m0.0\u001b[39m,\n",
       "  \u001b[32m0.0\u001b[39m,\n",
       "  \u001b[32m0.0\u001b[39m,\n",
       "  \u001b[32m0.0\u001b[39m,\n",
       "  \u001b[32m4.96310469330205E-8\u001b[39m,\n",
       "  \u001b[32m0.0\u001b[39m,\n",
       "  \u001b[32m0.0\u001b[39m,\n",
       "  \u001b[32m0.0\u001b[39m,\n",
       "  \u001b[32m0.0\u001b[39m,\n",
       "  \u001b[32m0.0\u001b[39m,\n",
       "  \u001b[32m0.0\u001b[39m,\n",
       "...\n",
       "\u001b[36mx1\u001b[39m: \u001b[32mList\u001b[39m[\u001b[32mString\u001b[39m] = \u001b[33mList\u001b[39m(\n",
       "  \u001b[32m\"[2019-12-31]\"\u001b[39m,\n",
       "  \u001b[32m\"[2020-01-01]\"\u001b[39m,\n",
       "  \u001b[32m\"[2020-01-02]\"\u001b[39m,\n",
       "  \u001b[32m\"[2020-01-03]\"\u001b[39m,\n",
       "  \u001b[32m\"[2020-01-04]\"\u001b[39m,\n",
       "  \u001b[32m\"[2020-01-05]\"\u001b[39m,\n",
       "  \u001b[32m\"[2020-01-06]\"\u001b[39m,\n",
       "  \u001b[32m\"[2020-01-07]\"\u001b[39m,\n",
       "  \u001b[32m\"[2020-01-08]\"\u001b[39m,\n",
       "  \u001b[32m\"[2020-01-09]\"\u001b[39m,\n",
       "  \u001b[32m\"[2020-01-10]\"\u001b[39m,\n",
       "  \u001b[32m\"[2020-01-11]\"\u001b[39m,\n",
       "  \u001b[32m\"[2020-01-12]\"\u001b[39m,\n",
       "  \u001b[32m\"[2020-01-13]\"\u001b[39m,\n",
       "  \u001b[32m\"[2020-01-14]\"\u001b[39m,\n",
       "  \u001b[32m\"[2020-01-15]\"\u001b[39m,\n",
       "  \u001b[32m\"[2020-01-16]\"\u001b[39m,\n",
       "  \u001b[32m\"[2020-01-17]\"\u001b[39m,\n",
       "  \u001b[32m\"[2020-01-18]\"\u001b[39m,\n",
       "  \u001b[32m\"[2020-01-19]\"\u001b[39m,\n",
       "  \u001b[32m\"[2020-01-20]\"\u001b[39m,\n",
       "  \u001b[32m\"[2020-01-21]\"\u001b[39m,\n",
       "  \u001b[32m\"[2020-01-22]\"\u001b[39m,\n",
       "  \u001b[32m\"[2020-01-23]\"\u001b[39m,\n",
       "  \u001b[32m\"[2020-01-24]\"\u001b[39m,\n",
       "  \u001b[32m\"[2020-01-25]\"\u001b[39m,\n",
       "  \u001b[32m\"[2020-01-26]\"\u001b[39m,\n",
       "  \u001b[32m\"[2020-01-27]\"\u001b[39m,\n",
       "  \u001b[32m\"[2020-01-28]\"\u001b[39m,\n",
       "  \u001b[32m\"[2020-01-29]\"\u001b[39m,\n",
       "  \u001b[32m\"[2020-01-30]\"\u001b[39m,\n",
       "  \u001b[32m\"[2020-01-31]\"\u001b[39m,\n",
       "  \u001b[32m\"[2020-02-01]\"\u001b[39m,\n",
       "  \u001b[32m\"[2020-02-02]\"\u001b[39m,\n",
       "  \u001b[32m\"[2020-02-03]\"\u001b[39m,\n",
       "  \u001b[32m\"[2020-02-04]\"\u001b[39m,\n",
       "  \u001b[32m\"[2020-02-05]\"\u001b[39m,\n",
       "  \u001b[32m\"[2020-02-06]\"\u001b[39m,\n",
       "...\n",
       "\u001b[36mdata\u001b[39m: \u001b[32mSeq\u001b[39m[\u001b[32mScatter\u001b[39m] = \u001b[33mList\u001b[39m(\n",
       "  \u001b[33mScatter\u001b[39m(\n",
       "    \u001b[33mSome\u001b[39m(\n",
       "      \u001b[33mStrings\u001b[39m(\n",
       "        \u001b[33mList\u001b[39m(\n",
       "          \u001b[32m\"[2019-12-31]\"\u001b[39m,\n",
       "          \u001b[32m\"[2020-01-01]\"\u001b[39m,\n",
       "          \u001b[32m\"[2020-01-02]\"\u001b[39m,\n",
       "          \u001b[32m\"[2020-01-03]\"\u001b[39m,\n",
       "          \u001b[32m\"[2020-01-04]\"\u001b[39m,\n",
       "          \u001b[32m\"[2020-01-05]\"\u001b[39m,\n",
       "          \u001b[32m\"[2020-01-06]\"\u001b[39m,\n",
       "          \u001b[32m\"[2020-01-07]\"\u001b[39m,\n",
       "          \u001b[32m\"[2020-01-08]\"\u001b[39m,\n",
       "          \u001b[32m\"[2020-01-09]\"\u001b[39m,\n",
       "          \u001b[32m\"[2020-01-10]\"\u001b[39m,\n",
       "          \u001b[32m\"[2020-01-11]\"\u001b[39m,\n",
       "          \u001b[32m\"[2020-01-12]\"\u001b[39m,\n",
       "          \u001b[32m\"[2020-01-13]\"\u001b[39m,\n",
       "          \u001b[32m\"[2020-01-14]\"\u001b[39m,\n",
       "          \u001b[32m\"[2020-01-15]\"\u001b[39m,\n",
       "          \u001b[32m\"[2020-01-16]\"\u001b[39m,\n",
       "          \u001b[32m\"[2020-01-17]\"\u001b[39m,\n",
       "          \u001b[32m\"[2020-01-18]\"\u001b[39m,\n",
       "          \u001b[32m\"[2020-01-19]\"\u001b[39m,\n",
       "          \u001b[32m\"[2020-01-20]\"\u001b[39m,\n",
       "          \u001b[32m\"[2020-01-21]\"\u001b[39m,\n",
       "          \u001b[32m\"[2020-01-22]\"\u001b[39m,\n",
       "          \u001b[32m\"[2020-01-23]\"\u001b[39m,\n",
       "          \u001b[32m\"[2020-01-24]\"\u001b[39m,\n",
       "          \u001b[32m\"[2020-01-25]\"\u001b[39m,\n",
       "          \u001b[32m\"[2020-01-26]\"\u001b[39m,\n",
       "          \u001b[32m\"[2020-01-27]\"\u001b[39m,\n",
       "          \u001b[32m\"[2020-01-28]\"\u001b[39m,\n",
       "          \u001b[32m\"[2020-01-29]\"\u001b[39m,\n",
       "          \u001b[32m\"[2020-01-30]\"\u001b[39m,\n",
       "          \u001b[32m\"[2020-01-31]\"\u001b[39m,\n",
       "          \u001b[32m\"[2020-02-01]\"\u001b[39m,\n",
       "          \u001b[32m\"[2020-02-02]\"\u001b[39m,\n",
       "...\n",
       "\u001b[36mres29_5\u001b[39m: \u001b[32mString\u001b[39m = \u001b[32m\"plot-b60675f5-b3fc-435c-a6f8-7f1e17923c85\"\u001b[39m"
      ]
     },
     "execution_count": 30,
     "metadata": {},
     "output_type": "execute_result"
    }
   ],
   "source": [
    "val y = query_4_DF\n",
    "    .filter($\"country\" === \"Spain\")\n",
    "    .select($\"infection Per Population\")\n",
    "    .collect\n",
    "    .map(r => r(0).toString.toDouble)\n",
    "    .toList\n",
    "\n",
    "val x = query_4_DF\n",
    "    .filter($\"country\" === \"Spain\")\n",
    "    .select($\"to_date\")\n",
    "    .collect\n",
    "    .toList\n",
    "    .map(_.toString)\n",
    "\n",
    "val y1 = query_4_DF\n",
    "    .filter($\"country\" === \"Italy\")\n",
    "    .select($\"infection Per Population\")\n",
    "    .collect\n",
    "    .map(r => r(0).toString.toDouble)\n",
    "    .toList\n",
    "\n",
    "val x1 = query_4_DF\n",
    "    .filter($\"country\" === \"Italy\")\n",
    "    .select($\"to_date\")\n",
    "    .collect\n",
    "    .toList\n",
    "    .map(_.toString)\n",
    "\n",
    "val data = Seq(\n",
    "        Scatter(x,y).withName(\"Spain\"),\n",
    "        Scatter(x1,y1,mode = ScatterMode(ScatterMode.Lines),\n",
    "        line = Line(color = Color.StringColor(\"#7F7F7F\"))).withName(\"Italy\"))\n",
    "    .map(_.withFill(Fill.ToNextY)\n",
    "    .withStackgroup(\"A\"))\n",
    "\n",
    "plot(data)"
   ]
  }
 ],
 "metadata": {
  "kernelspec": {
   "display_name": "Scala 2.12",
   "language": "scala",
   "name": "scala212"
  },
  "language_info": {
   "codemirror_mode": "text/x-scala",
   "file_extension": ".scala",
   "mimetype": "text/x-scala",
   "name": "scala",
   "nbconvert_exporter": "script",
   "version": "2.12.10"
  }
 },
 "nbformat": 4,
 "nbformat_minor": 4
}
