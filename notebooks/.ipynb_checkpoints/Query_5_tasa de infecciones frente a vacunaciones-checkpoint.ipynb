{
 "cells": [
  {
   "cell_type": "code",
   "execution_count": null,
   "metadata": {
    "scrolled": true
   },
   "outputs": [],
   "source": [
    "import $file.common\n",
    "import spark._\n",
    "import common._\n",
    "import org.apache.spark.sql.functions._\n",
    "import org.apache.spark.sql.types.{IntegerType, StringType, StructType}\n",
    "import spark.implicits._\n",
    "import spark.sqlContext.implicits._\n",
    "import org.apache.spark.sql.functions.{col, to_date}\n",
    "import org.apache.spark.sql.types.DateType"
   ]
  },
  {
   "cell_type": "code",
   "execution_count": null,
   "metadata": {},
   "outputs": [],
   "source": [
    "import plotly._\n",
    "import plotly.element._\n",
    "import plotly.layout._\n",
    "import plotly.Almond._"
   ]
  },
  {
   "cell_type": "code",
   "execution_count": null,
   "metadata": {},
   "outputs": [],
   "source": [
    "spark.conf.set(\"spark.sql.shuffle.partitions\", 8)"
   ]
  },
  {
   "cell_type": "markdown",
   "metadata": {},
   "source": [
    "# Query 5: Tasa de infecciones frente a vacunaciones\n",
    "\n",
    "Para obtener esta consulta se van a utilizar 3 datasets diferentes, en primer lugar un dataset de infecciones de Covid19 actualizado a las fechas de vacunaciones. El dataset de datos demográficos con el que ya veníamos trabajando y por último un dataset con el número de vacunaciones diarias por país.\n",
    "\n",
    "El objetivo de esta query es limpiar los datos y ajustar los tipos fecha para:\n",
    "    - Obtener la tasa de infecciones por densidad de población (como hemos hecho anteriormente).\n",
    "    - Obtener la tasa de vacunaciones por densidad de población.\n",
    "    - Obtener la tasa de vacunaciones frente a infecciones.\n",
    "    \n",
    "De esta forma podremos observar que crece más rápido, si las vacunas o las infecciones, y que porcentaje de la población está pendiente de ser vacunada."
   ]
  },
  {
   "cell_type": "markdown",
   "metadata": {},
   "source": [
    "## 1. Consulta con DataSet"
   ]
  },
  {
   "cell_type": "markdown",
   "metadata": {},
   "source": [
    "modifico los datos de entrada para que se ajuste la fecha"
   ]
  },
  {
   "cell_type": "code",
   "execution_count": null,
   "metadata": {},
   "outputs": [],
   "source": [
    "def infectionsDS = spark.read\n",
    "    .option(\"header\", \"true\")\n",
    "    .option(\"charset\", \"UTF8\")\n",
    "    .option(\"delimiter\",\",\")\n",
    "    .option(\"inferSchema\", \"true\")\n",
    "    .csv(\"../datasets/covid_19_data.csv\")\n",
    "    .withColumn(\"ObservationDate\",translate($\"ObservationDate\",\"/\",\"-\"))\n",
    "    .withColumn(\"ObservationDate\",to_date(col(\"ObservationDate\"),\"MM-dd-yyyy\"))\n",
    "    .withColumnRenamed(\"ObservationDate\",\"date\")\n",
    "    .as[(Int,String,String,String,String,Double,Double,Double)]"
   ]
  },
  {
   "cell_type": "code",
   "execution_count": null,
   "metadata": {},
   "outputs": [],
   "source": [
    "def populationDS = spark.read\n",
    "    .option(\"header\", \"true\")\n",
    "    .option(\"charset\", \"UTF8\")\n",
    "    .option(\"delimiter\",\",\")\n",
    "    .option(\"inferSchema\", \"true\")\n",
    "    .csv(\"../datasets/population_by_country_2020.csv\")\n",
    "    .withColumnRenamed(\"Country (or dependency)\",\"Country\")\n",
    "    .withColumnRenamed(\"Population (2020)\",\"Population\")\n",
    "    .as[(String,Float,String,Float,Float,Float,Double,String,String,String,String)]"
   ]
  },
  {
   "cell_type": "code",
   "execution_count": null,
   "metadata": {},
   "outputs": [],
   "source": [
    "def vaccinationsDS = spark.read\n",
    "    .option(\"header\", \"true\")\n",
    "    .option(\"charset\", \"UTF8\")\n",
    "    .option(\"delimiter\",\",\")\n",
    "    .option(\"inferSchema\", \"true\")\n",
    "    .csv(\"../datasets/country_vaccinations.csv\")\n",
    "    .withColumn(\"date\",to_date(col(\"date\"),\"MM-dd-yyyy\"))\n",
    "    .withColumnRenamed(\"date\",\"dateVaccinated\")\n",
    "    .as[(String,String,java.sql.Timestamp,Double,Double,Double,Double,Double,Double,Double,Double,Double,String,String,String)]"
   ]
  },
  {
   "cell_type": "code",
   "execution_count": null,
   "metadata": {},
   "outputs": [],
   "source": [
    "def megaDS = infectionsDS\n",
    "    .join(\n",
    "        vaccinationsDS,$\"date\" === $\"dateVaccinated\"\n",
    "        && $\"Country/Region\" === $\"country\"\n",
    "    ).join(populationDS,\"Country\")\n",
    "        .na.fill(0)\n",
    "        .select($\"country\",\n",
    "                $\"date\",\n",
    "                $\"confirmed\",\n",
    "                $\"people_vaccinated\",\n",
    "                $\"Population\",\n",
    "                $\"confirmed\" / $\"Population\" as \"infection Per Population\",\n",
    "                $\"people_vaccinated\"/ $\"Population\" as \"vaccination Per Population\",\n",
    "                $\"people_vaccinated\" / $\"confirmed\" as \"infection-vaccination rate\")\n",
    "        .orderBy($\"date\".asc)\n",
    "        .withColumn(\"infection-vaccination rate\", round($\"infection-vaccination rate\",8))\n",
    "        .withColumn(\"vaccination Per Population\", round($\"vaccination Per Population\",8))\n",
    "        .as[(String,java.sql.Timestamp,Double,Double,Int,Double,Double,Option[Double])]"
   ]
  },
  {
   "cell_type": "markdown",
   "metadata": {},
   "source": [
    "## 2. Consulta con DataFrame"
   ]
  },
  {
   "cell_type": "code",
   "execution_count": null,
   "metadata": {},
   "outputs": [],
   "source": [
    "def infectionsDF = spark.read\n",
    "    .option(\"header\", \"true\")\n",
    "    .csv(\"../datasets/covid_19_data.csv\")\n",
    "    .withColumn(\"ObservationDate\",translate($\"ObservationDate\",\"/\",\"-\"))\n",
    "    .withColumn(\"ObservationDate\",to_date(col(\"ObservationDate\"),\"MM-dd-yyyy\"))\n",
    "    .withColumnRenamed(\"ObservationDate\",\"date\")\n",
    "    .withColumnRenamed(\"Country/Region\",\"CountryInfection\")"
   ]
  },
  {
   "cell_type": "code",
   "execution_count": null,
   "metadata": {},
   "outputs": [],
   "source": [
    "def populationDF = spark.read\n",
    "    .option(\"header\", \"true\")\n",
    "    .csv(\"../datasets/population_by_country_2020.csv\")\n",
    "    .withColumnRenamed(\"Country (or dependency)\",\"Country\")\n",
    "    .withColumnRenamed(\"Population (2020)\",\"Population\")"
   ]
  },
  {
   "cell_type": "code",
   "execution_count": null,
   "metadata": {},
   "outputs": [],
   "source": [
    "def vaccinationsDF = spark.read\n",
    "    .option(\"header\", \"true\")\n",
    "    .csv(\"../datasets/country_vaccinations.csv\")\n",
    "    .withColumnRenamed(\"date\",\"dateVaccinated\")\n",
    "    .withColumnRenamed(\"country\",\"CountryVaccination\")"
   ]
  },
  {
   "cell_type": "code",
   "execution_count": null,
   "metadata": {},
   "outputs": [],
   "source": [
    "def megaDF = infectionsDF\n",
    "    .join(\n",
    "        vaccinationsDF,$\"date\" === $\"dateVaccinated\"\n",
    "        && $\"CountryInfection\" === $\"CountryVaccination\"\n",
    "    ).join(populationDF,$\"Country\" === $\"CountryInfection\")\n",
    "        .na.fill(0)\n",
    "        .select($\"CountryInfection\",\n",
    "                $\"date\",\n",
    "                $\"confirmed\",\n",
    "                $\"people_vaccinated\",\n",
    "                $\"Population\",\n",
    "                $\"confirmed\" / $\"Population\" as \"infection Per Population\",\n",
    "                $\"people_vaccinated\"/ $\"Population\" as \"vaccination Per Population\",\n",
    "                $\"people_vaccinated\" / $\"confirmed\" as \"infection-vaccination rate\")\n",
    "        .orderBy($\"date\".asc)\n",
    "        .withColumn(\"infection-vaccination rate\", round($\"infection-vaccination rate\",8))\n",
    "        .withColumn(\"vaccination Per Population\", round($\"vaccination Per Population\",8))"
   ]
  },
  {
   "cell_type": "markdown",
   "metadata": {},
   "source": [
    "## 3. Visualización de rendimiento"
   ]
  },
  {
   "cell_type": "code",
   "execution_count": null,
   "metadata": {
    "scrolled": false
   },
   "outputs": [],
   "source": [
    "val (x, y) = Seq(\n",
    "    \"DataSet\" -> runWithOutput(megaDS.collect),\n",
    "    \"DataFrame\" -> runWithOutput(megaDF.collect),\n",
    ").unzip\n",
    "\n",
    "Bar(x, y).plot()"
   ]
  },
  {
   "cell_type": "markdown",
   "metadata": {},
   "source": [
    "## 4. Comparativas de rendimiento"
   ]
  },
  {
   "cell_type": "code",
   "execution_count": null,
   "metadata": {},
   "outputs": [],
   "source": [
    "ch.cern.sparkmeasure.StageMetrics(spark).runAndMeasure(\n",
    "    megaDS.collect\n",
    "    )"
   ]
  },
  {
   "cell_type": "code",
   "execution_count": null,
   "metadata": {},
   "outputs": [],
   "source": [
    "ch.cern.sparkmeasure.StageMetrics(spark).runAndMeasure(\n",
    "    megaDF.collect\n",
    ")"
   ]
  },
  {
   "cell_type": "markdown",
   "metadata": {},
   "source": [
    "## 5. Visualización de datos con plotly"
   ]
  },
  {
   "cell_type": "markdown",
   "metadata": {},
   "source": [
    "### crecimiento de la vacunacion con respecto a la densidad población"
   ]
  },
  {
   "cell_type": "code",
   "execution_count": null,
   "metadata": {
    "scrolled": false
   },
   "outputs": [],
   "source": [
    "val y = megaDF\n",
    "    .filter($\"country\" === \"Chile\")\n",
    "    .select($\"vaccination Per Population\" * 10000000)\n",
    "    .collect\n",
    "    .map(r => r(0).toString.toDouble)\n",
    "    .toList\n",
    "\n",
    "val x = megaDF\n",
    "    .filter($\"country\" === \"Chile\")\n",
    "    .select($\"date\")\n",
    "    .collect\n",
    "    .toList\n",
    "    .map(_.toString)\n",
    "\n",
    "val y1 = megaDF\n",
    "    .filter($\"country\" === \"Chile\")\n",
    "    .select($\"people_vaccinated\")\n",
    "    .collect\n",
    "    .map(r => r(0).toString.toDouble)\n",
    "    .toList\n",
    "\n",
    "val x1 = megaDF\n",
    "    .filter($\"country\" === \"Chile\")\n",
    "    .select($\"date\")\n",
    "    .collect\n",
    "    .toList\n",
    "    .map(_.toString)\n",
    "\n",
    "val data = Seq(\n",
    "        Scatter(x,y).withName(\"Population vaccinated\"),\n",
    "        Scatter(x1,y1).withName(\"Vaccines administrated\"))\n",
    "    .map(_.withFill(Fill.ToNextY)\n",
    "    .withStackgroup(\"A\"))\n",
    "\n",
    "val myLayout =\n",
    "    Layout()\n",
    "    .withTitle(\"CHILE\")\n",
    "\n",
    "plot(data,myLayout)"
   ]
  }
 ],
 "metadata": {
  "kernelspec": {
   "display_name": "Scala 2.12",
   "language": "scala",
   "name": "scala212"
  },
  "language_info": {
   "codemirror_mode": "text/x-scala",
   "file_extension": ".scala",
   "mimetype": "text/x-scala",
   "name": "scala",
   "nbconvert_exporter": "script",
   "version": "2.12.10"
  }
 },
 "nbformat": 4,
 "nbformat_minor": 4
}
