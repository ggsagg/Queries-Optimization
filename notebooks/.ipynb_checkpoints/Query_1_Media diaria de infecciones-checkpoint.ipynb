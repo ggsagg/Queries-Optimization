{
 "cells": [
  {
   "cell_type": "code",
   "execution_count": 1,
   "metadata": {},
   "outputs": [
    {
     "name": "stdout",
     "output_type": "stream",
     "text": [
      "Loading spark-stubs\n",
      "Getting spark JARs\n"
     ]
    },
    {
     "name": "stderr",
     "output_type": "stream",
     "text": [
      "log4j:WARN No appenders could be found for logger (org.eclipse.jetty.util.log).\n",
      "log4j:WARN Please initialize the log4j system properly.\n",
      "log4j:WARN See http://logging.apache.org/log4j/1.2/faq.html#noconfig for more info.\n"
     ]
    },
    {
     "name": "stdout",
     "output_type": "stream",
     "text": [
      "Creating SparkSession\n"
     ]
    },
    {
     "name": "stderr",
     "output_type": "stream",
     "text": [
      "Using Spark's default log4j profile: org/apache/spark/log4j-defaults.properties\n",
      "21/06/28 07:56:16 INFO SparkContext: Running Spark version 2.4.5\n",
      "21/06/28 07:56:17 WARN NativeCodeLoader: Unable to load native-hadoop library for your platform... using builtin-java classes where applicable\n",
      "21/06/28 07:56:17 INFO SparkContext: Submitted application: Queries Optimization\n",
      "21/06/28 07:56:18 INFO SecurityManager: Changing view acls to: jovyan\n",
      "21/06/28 07:56:18 INFO SecurityManager: Changing modify acls to: jovyan\n",
      "21/06/28 07:56:18 INFO SecurityManager: Changing view acls groups to: \n",
      "21/06/28 07:56:18 INFO SecurityManager: Changing modify acls groups to: \n",
      "21/06/28 07:56:18 INFO SecurityManager: SecurityManager: authentication disabled; ui acls disabled; users  with view permissions: Set(jovyan); groups with view permissions: Set(); users  with modify permissions: Set(jovyan); groups with modify permissions: Set()\n",
      "21/06/28 07:56:18 INFO Utils: Successfully started service 'sparkDriver' on port 34759.\n",
      "21/06/28 07:56:18 INFO SparkEnv: Registering MapOutputTracker\n",
      "21/06/28 07:56:19 INFO SparkEnv: Registering BlockManagerMaster\n",
      "21/06/28 07:56:19 INFO BlockManagerMasterEndpoint: Using org.apache.spark.storage.DefaultTopologyMapper for getting topology information\n",
      "21/06/28 07:56:19 INFO BlockManagerMasterEndpoint: BlockManagerMasterEndpoint up\n",
      "21/06/28 07:56:19 INFO DiskBlockManager: Created local directory at /tmp/blockmgr-7926c8f1-fad8-404f-9b04-b22733346559\n",
      "21/06/28 07:56:19 INFO MemoryStore: MemoryStore started with capacity 366.3 MB\n",
      "21/06/28 07:56:19 INFO SparkEnv: Registering OutputCommitCoordinator\n",
      "21/06/28 07:56:19 INFO Utils: Successfully started service 'SparkUI' on port 4041.\n",
      "21/06/28 07:56:20 INFO SparkUI: Bound SparkUI to 0.0.0.0, and started at http://ab334eb5ebc5:4041\n",
      "21/06/28 07:56:20 INFO SparkContext: Added JAR file:/home/jovyan/.cache/coursier/v1/https/jitpack.io/com/github/jupyter/jvm-repr/0.4.0/jvm-repr-0.4.0-sources.jar at spark://ab334eb5ebc5:34759/jars/jvm-repr-0.4.0-sources.jar with timestamp 1624866980103\n",
      "21/06/28 07:56:20 INFO SparkContext: Added JAR file:/home/jovyan/.cache/coursier/v1/https/jitpack.io/com/github/jupyter/jvm-repr/0.4.0/jvm-repr-0.4.0.jar at spark://ab334eb5ebc5:34759/jars/jvm-repr-0.4.0.jar with timestamp 1624866980105\n",
      "21/06/28 07:56:20 INFO SparkContext: Added JAR file:/home/jovyan/.cache/coursier/v1/https/repo1.maven.org/maven2/com/github/scopt/scopt_2.12/3.7.1/scopt_2.12-3.7.1-sources.jar at spark://ab334eb5ebc5:34759/jars/scopt_2.12-3.7.1-sources.jar with timestamp 1624866980106\n",
      "21/06/28 07:56:20 INFO SparkContext: Added JAR file:/home/jovyan/.cache/coursier/v1/https/repo1.maven.org/maven2/com/github/scopt/scopt_2.12/3.7.1/scopt_2.12-3.7.1.jar at spark://ab334eb5ebc5:34759/jars/scopt_2.12-3.7.1.jar with timestamp 1624866980106\n",
      "21/06/28 07:56:20 INFO SparkContext: Added JAR file:/home/jovyan/.cache/coursier/v1/https/repo1.maven.org/maven2/com/lihaoyi/ammonite-interp-api_2.12.10/1.7.4/ammonite-interp-api_2.12.10-1.7.4-sources.jar at spark://ab334eb5ebc5:34759/jars/ammonite-interp-api_2.12.10-1.7.4-sources.jar with timestamp 1624866980106\n",
      "21/06/28 07:56:20 INFO SparkContext: Added JAR file:/home/jovyan/.cache/coursier/v1/https/repo1.maven.org/maven2/com/lihaoyi/ammonite-interp-api_2.12.10/1.7.4/ammonite-interp-api_2.12.10-1.7.4.jar at spark://ab334eb5ebc5:34759/jars/ammonite-interp-api_2.12.10-1.7.4.jar with timestamp 1624866980107\n",
      "21/06/28 07:56:20 INFO SparkContext: Added JAR file:/home/jovyan/.cache/coursier/v1/https/repo1.maven.org/maven2/com/lihaoyi/ammonite-ops_2.12/1.7.4/ammonite-ops_2.12-1.7.4-sources.jar at spark://ab334eb5ebc5:34759/jars/ammonite-ops_2.12-1.7.4-sources.jar with timestamp 1624866980107\n",
      "21/06/28 07:56:20 INFO SparkContext: Added JAR file:/home/jovyan/.cache/coursier/v1/https/repo1.maven.org/maven2/com/lihaoyi/ammonite-ops_2.12/1.7.4/ammonite-ops_2.12-1.7.4.jar at spark://ab334eb5ebc5:34759/jars/ammonite-ops_2.12-1.7.4.jar with timestamp 1624866980107\n",
      "21/06/28 07:56:20 INFO SparkContext: Added JAR file:/home/jovyan/.cache/coursier/v1/https/repo1.maven.org/maven2/com/lihaoyi/ammonite-repl-api_2.12.10/1.7.4/ammonite-repl-api_2.12.10-1.7.4-sources.jar at spark://ab334eb5ebc5:34759/jars/ammonite-repl-api_2.12.10-1.7.4-sources.jar with timestamp 1624866980107\n",
      "21/06/28 07:56:20 INFO SparkContext: Added JAR file:/home/jovyan/.cache/coursier/v1/https/repo1.maven.org/maven2/com/lihaoyi/ammonite-repl-api_2.12.10/1.7.4/ammonite-repl-api_2.12.10-1.7.4.jar at spark://ab334eb5ebc5:34759/jars/ammonite-repl-api_2.12.10-1.7.4.jar with timestamp 1624866980108\n",
      "21/06/28 07:56:20 INFO SparkContext: Added JAR file:/home/jovyan/.cache/coursier/v1/https/repo1.maven.org/maven2/com/lihaoyi/ammonite-util_2.12/1.7.4/ammonite-util_2.12-1.7.4-sources.jar at spark://ab334eb5ebc5:34759/jars/ammonite-util_2.12-1.7.4-sources.jar with timestamp 1624866980108\n",
      "21/06/28 07:56:20 INFO SparkContext: Added JAR file:/home/jovyan/.cache/coursier/v1/https/repo1.maven.org/maven2/com/lihaoyi/ammonite-util_2.12/1.7.4/ammonite-util_2.12-1.7.4.jar at spark://ab334eb5ebc5:34759/jars/ammonite-util_2.12-1.7.4.jar with timestamp 1624866980108\n",
      "21/06/28 07:56:20 INFO SparkContext: Added JAR file:/home/jovyan/.cache/coursier/v1/https/repo1.maven.org/maven2/com/lihaoyi/fansi_2.12/0.2.7/fansi_2.12-0.2.7-sources.jar at spark://ab334eb5ebc5:34759/jars/fansi_2.12-0.2.7-sources.jar with timestamp 1624866980108\n",
      "21/06/28 07:56:20 INFO SparkContext: Added JAR file:/home/jovyan/.cache/coursier/v1/https/repo1.maven.org/maven2/com/lihaoyi/fansi_2.12/0.2.7/fansi_2.12-0.2.7.jar at spark://ab334eb5ebc5:34759/jars/fansi_2.12-0.2.7.jar with timestamp 1624866980109\n",
      "21/06/28 07:56:20 INFO SparkContext: Added JAR file:/home/jovyan/.cache/coursier/v1/https/repo1.maven.org/maven2/com/lihaoyi/geny_2.12/0.1.8/geny_2.12-0.1.8-sources.jar at spark://ab334eb5ebc5:34759/jars/geny_2.12-0.1.8-sources.jar with timestamp 1624866980109\n",
      "21/06/28 07:56:20 INFO SparkContext: Added JAR file:/home/jovyan/.cache/coursier/v1/https/repo1.maven.org/maven2/com/lihaoyi/geny_2.12/0.1.8/geny_2.12-0.1.8.jar at spark://ab334eb5ebc5:34759/jars/geny_2.12-0.1.8.jar with timestamp 1624866980109\n",
      "21/06/28 07:56:20 INFO SparkContext: Added JAR file:/home/jovyan/.cache/coursier/v1/https/repo1.maven.org/maven2/com/lihaoyi/os-lib_2.12/0.3.0/os-lib_2.12-0.3.0-sources.jar at spark://ab334eb5ebc5:34759/jars/os-lib_2.12-0.3.0-sources.jar with timestamp 1624866980109\n",
      "21/06/28 07:56:20 INFO SparkContext: Added JAR file:/home/jovyan/.cache/coursier/v1/https/repo1.maven.org/maven2/com/lihaoyi/os-lib_2.12/0.3.0/os-lib_2.12-0.3.0.jar at spark://ab334eb5ebc5:34759/jars/os-lib_2.12-0.3.0.jar with timestamp 1624866980109\n",
      "21/06/28 07:56:20 INFO SparkContext: Added JAR file:/home/jovyan/.cache/coursier/v1/https/repo1.maven.org/maven2/com/lihaoyi/pprint_2.12/0.5.5/pprint_2.12-0.5.5-sources.jar at spark://ab334eb5ebc5:34759/jars/pprint_2.12-0.5.5-sources.jar with timestamp 1624866980110\n",
      "21/06/28 07:56:20 INFO SparkContext: Added JAR file:/home/jovyan/.cache/coursier/v1/https/repo1.maven.org/maven2/com/lihaoyi/pprint_2.12/0.5.5/pprint_2.12-0.5.5.jar at spark://ab334eb5ebc5:34759/jars/pprint_2.12-0.5.5.jar with timestamp 1624866980110\n",
      "21/06/28 07:56:20 INFO SparkContext: Added JAR file:/home/jovyan/.cache/coursier/v1/https/repo1.maven.org/maven2/com/lihaoyi/sourcecode_2.12/0.1.7/sourcecode_2.12-0.1.7-sources.jar at spark://ab334eb5ebc5:34759/jars/sourcecode_2.12-0.1.7-sources.jar with timestamp 1624866980110\n",
      "21/06/28 07:56:20 INFO SparkContext: Added JAR file:/home/jovyan/.cache/coursier/v1/https/repo1.maven.org/maven2/com/lihaoyi/sourcecode_2.12/0.1.7/sourcecode_2.12-0.1.7.jar at spark://ab334eb5ebc5:34759/jars/sourcecode_2.12-0.1.7.jar with timestamp 1624866980111\n",
      "21/06/28 07:56:20 INFO SparkContext: Added JAR file:/home/jovyan/.cache/coursier/v1/https/repo1.maven.org/maven2/io/get-coursier/interface/0.0.12/interface-0.0.12-sources.jar at spark://ab334eb5ebc5:34759/jars/interface-0.0.12-sources.jar with timestamp 1624866980111\n",
      "21/06/28 07:56:20 INFO SparkContext: Added JAR file:/home/jovyan/.cache/coursier/v1/https/repo1.maven.org/maven2/io/get-coursier/interface/0.0.12/interface-0.0.12.jar at spark://ab334eb5ebc5:34759/jars/interface-0.0.12.jar with timestamp 1624866980111\n"
     ]
    },
    {
     "name": "stderr",
     "output_type": "stream",
     "text": [
      "21/06/28 07:56:20 INFO SparkContext: Added JAR file:/home/jovyan/.cache/coursier/v1/https/repo1.maven.org/maven2/org/scala-lang/modules/scala-collection-compat_2.12/2.0.0/scala-collection-compat_2.12-2.0.0-sources.jar at spark://ab334eb5ebc5:34759/jars/scala-collection-compat_2.12-2.0.0-sources.jar with timestamp 1624866980112\n",
      "21/06/28 07:56:20 INFO SparkContext: Added JAR file:/home/jovyan/.cache/coursier/v1/https/repo1.maven.org/maven2/org/scala-lang/modules/scala-collection-compat_2.12/2.0.0/scala-collection-compat_2.12-2.0.0.jar at spark://ab334eb5ebc5:34759/jars/scala-collection-compat_2.12-2.0.0.jar with timestamp 1624866980112\n",
      "21/06/28 07:56:20 INFO SparkContext: Added JAR file:/home/jovyan/.cache/coursier/v1/https/repo1.maven.org/maven2/org/scala-lang/modules/scala-xml_2.12/1.2.0/scala-xml_2.12-1.2.0-sources.jar at spark://ab334eb5ebc5:34759/jars/scala-xml_2.12-1.2.0-sources.jar with timestamp 1624866980113\n",
      "21/06/28 07:56:20 INFO SparkContext: Added JAR file:/home/jovyan/.cache/coursier/v1/https/repo1.maven.org/maven2/org/scala-lang/modules/scala-xml_2.12/1.2.0/scala-xml_2.12-1.2.0.jar at spark://ab334eb5ebc5:34759/jars/scala-xml_2.12-1.2.0.jar with timestamp 1624866980113\n",
      "21/06/28 07:56:20 INFO SparkContext: Added JAR file:/home/jovyan/.cache/coursier/v1/https/repo1.maven.org/maven2/org/scala-lang/scala-compiler/2.12.10/scala-compiler-2.12.10-sources.jar at spark://ab334eb5ebc5:34759/jars/scala-compiler-2.12.10-sources.jar with timestamp 1624866980113\n",
      "21/06/28 07:56:20 INFO SparkContext: Added JAR file:/home/jovyan/.cache/coursier/v1/https/repo1.maven.org/maven2/org/scala-lang/scala-library/2.12.10/scala-library-2.12.10-sources.jar at spark://ab334eb5ebc5:34759/jars/scala-library-2.12.10-sources.jar with timestamp 1624866980113\n",
      "21/06/28 07:56:20 INFO SparkContext: Added JAR file:/home/jovyan/.cache/coursier/v1/https/repo1.maven.org/maven2/org/scala-lang/scala-reflect/2.12.10/scala-reflect-2.12.10-sources.jar at spark://ab334eb5ebc5:34759/jars/scala-reflect-2.12.10-sources.jar with timestamp 1624866980114\n",
      "21/06/28 07:56:20 INFO SparkContext: Added JAR file:/home/jovyan/.cache/coursier/v1/https/repo1.maven.org/maven2/sh/almond/interpreter-api_2.12/0.9.1/interpreter-api_2.12-0.9.1-sources.jar at spark://ab334eb5ebc5:34759/jars/interpreter-api_2.12-0.9.1-sources.jar with timestamp 1624866980114\n",
      "21/06/28 07:56:20 INFO SparkContext: Added JAR file:/home/jovyan/.cache/coursier/v1/https/repo1.maven.org/maven2/sh/almond/interpreter-api_2.12/0.9.1/interpreter-api_2.12-0.9.1.jar at spark://ab334eb5ebc5:34759/jars/interpreter-api_2.12-0.9.1.jar with timestamp 1624866980114\n",
      "21/06/28 07:56:20 INFO SparkContext: Added JAR file:/home/jovyan/.cache/coursier/v1/https/repo1.maven.org/maven2/sh/almond/jupyter-api_2.12/0.9.1/jupyter-api_2.12-0.9.1-sources.jar at spark://ab334eb5ebc5:34759/jars/jupyter-api_2.12-0.9.1-sources.jar with timestamp 1624866980115\n",
      "21/06/28 07:56:20 INFO SparkContext: Added JAR file:/home/jovyan/.cache/coursier/v1/https/repo1.maven.org/maven2/sh/almond/jupyter-api_2.12/0.9.1/jupyter-api_2.12-0.9.1.jar at spark://ab334eb5ebc5:34759/jars/jupyter-api_2.12-0.9.1.jar with timestamp 1624866980116\n",
      "21/06/28 07:56:20 INFO SparkContext: Added JAR file:/home/jovyan/.cache/coursier/v1/https/repo1.maven.org/maven2/sh/almond/scala-kernel-api_2.12.10/0.9.1/scala-kernel-api_2.12.10-0.9.1-sources.jar at spark://ab334eb5ebc5:34759/jars/scala-kernel-api_2.12.10-0.9.1-sources.jar with timestamp 1624866980116\n",
      "21/06/28 07:56:20 INFO SparkContext: Added JAR file:/home/jovyan/.cache/coursier/v1/https/repo1.maven.org/maven2/sh/almond/scala-kernel-api_2.12.10/0.9.1/scala-kernel-api_2.12.10-0.9.1.jar at spark://ab334eb5ebc5:34759/jars/scala-kernel-api_2.12.10-0.9.1.jar with timestamp 1624866980117\n",
      "21/06/28 07:56:20 INFO SparkContext: Added JAR file:/home/jovyan/.local/share/jupyter/kernels/scala212/launcher.jar at spark://ab334eb5ebc5:34759/jars/launcher.jar with timestamp 1624866980117\n",
      "21/06/28 07:56:20 INFO SparkContext: Added JAR file:/home/jovyan/.cache/coursier/v1/https/repo1.maven.org/maven2/org/scala-lang/scala-reflect/2.12.1/scala-reflect-2.12.1.jar at spark://ab334eb5ebc5:34759/jars/scala-reflect-2.12.1.jar with timestamp 1624866980117\n",
      "21/06/28 07:56:20 INFO SparkContext: Added JAR file:/home/jovyan/.cache/coursier/v1/https/repo1.maven.org/maven2/org/plotly-scala/plotly-core_2.12/0.8.1/plotly-core_2.12-0.8.1.jar at spark://ab334eb5ebc5:34759/jars/plotly-core_2.12-0.8.1.jar with timestamp 1624866980118\n",
      "21/06/28 07:56:20 INFO SparkContext: Added JAR file:/home/jovyan/.cache/coursier/v1/https/repo1.maven.org/maven2/org/plotly-scala/plotly-render_2.12/0.8.1/plotly-render_2.12-0.8.1.jar at spark://ab334eb5ebc5:34759/jars/plotly-render_2.12-0.8.1.jar with timestamp 1624866980118\n",
      "21/06/28 07:56:20 INFO SparkContext: Added JAR file:/home/jovyan/.cache/coursier/v1/https/repo1.maven.org/maven2/org/plotly-scala/plotly-almond_2.12/0.8.1/plotly-almond_2.12-0.8.1.jar at spark://ab334eb5ebc5:34759/jars/plotly-almond_2.12-0.8.1.jar with timestamp 1624866980119\n",
      "21/06/28 07:56:20 INFO SparkContext: Added JAR file:/home/jovyan/.cache/coursier/v1/https/repo1.maven.org/maven2/org/webjars/bower/plotly.js/1.52.2/plotly.js-1.52.2.jar at spark://ab334eb5ebc5:34759/jars/plotly.js-1.52.2.jar with timestamp 1624866980119\n",
      "21/06/28 07:56:20 INFO SparkContext: Added JAR file:/home/jovyan/.cache/coursier/v1/https/repo1.maven.org/maven2/org/scala-lang/scala-library/2.12.11/scala-library-2.12.11.jar at spark://ab334eb5ebc5:34759/jars/scala-library-2.12.11.jar with timestamp 1624866980119\n",
      "21/06/28 07:56:20 INFO SparkContext: Added JAR file:/home/jovyan/.cache/coursier/v1/https/repo1.maven.org/maven2/org/scala-lang/scala-reflect/2.12.11/scala-reflect-2.12.11.jar at spark://ab334eb5ebc5:34759/jars/scala-reflect-2.12.11.jar with timestamp 1624866980120\n",
      "21/06/28 07:56:20 INFO SparkContext: Added JAR file:/home/jovyan/.cache/coursier/v1/https/repo1.maven.org/maven2/com/fasterxml/jackson/core/jackson-annotations/2.9.9/jackson-annotations-2.9.9.jar at spark://ab334eb5ebc5:34759/jars/jackson-annotations-2.9.9.jar with timestamp 1624866980120\n",
      "21/06/28 07:56:20 INFO SparkContext: Added JAR file:/home/jovyan/.cache/coursier/v1/https/repo1.maven.org/maven2/com/squareup/moshi/moshi/1.5.0/moshi-1.5.0.jar at spark://ab334eb5ebc5:34759/jars/moshi-1.5.0.jar with timestamp 1624866980121\n",
      "21/06/28 07:56:20 INFO SparkContext: Added JAR file:/home/jovyan/.cache/coursier/v1/https/repo1.maven.org/maven2/com/squareup/retrofit2/converter-moshi/2.4.0/converter-moshi-2.4.0.jar at spark://ab334eb5ebc5:34759/jars/converter-moshi-2.4.0.jar with timestamp 1624866980121\n",
      "21/06/28 07:56:20 INFO SparkContext: Added JAR file:/home/jovyan/.cache/coursier/v1/https/repo1.maven.org/maven2/ch/cern/sparkmeasure/spark-measure_2.12/0.17/spark-measure_2.12-0.17.jar at spark://ab334eb5ebc5:34759/jars/spark-measure_2.12-0.17.jar with timestamp 1624866980122\n",
      "21/06/28 07:56:20 INFO SparkContext: Added JAR file:/home/jovyan/.cache/coursier/v1/https/repo1.maven.org/maven2/org/msgpack/msgpack-core/0.8.16/msgpack-core-0.8.16.jar at spark://ab334eb5ebc5:34759/jars/msgpack-core-0.8.16.jar with timestamp 1624866980122\n",
      "21/06/28 07:56:20 INFO SparkContext: Added JAR file:/home/jovyan/.cache/coursier/v1/https/repo1.maven.org/maven2/com/fasterxml/jackson/core/jackson-databind/2.9.9/jackson-databind-2.9.9.jar at spark://ab334eb5ebc5:34759/jars/jackson-databind-2.9.9.jar with timestamp 1624866980123\n",
      "21/06/28 07:56:20 INFO SparkContext: Added JAR file:/home/jovyan/.cache/coursier/v1/https/repo1.maven.org/maven2/org/slf4j/slf4j-api/1.7.26/slf4j-api-1.7.26.jar at spark://ab334eb5ebc5:34759/jars/slf4j-api-1.7.26.jar with timestamp 1624866980123\n",
      "21/06/28 07:56:20 INFO SparkContext: Added JAR file:/home/jovyan/.cache/coursier/v1/https/repo1.maven.org/maven2/org/influxdb/influxdb-java/2.14/influxdb-java-2.14.jar at spark://ab334eb5ebc5:34759/jars/influxdb-java-2.14.jar with timestamp 1624866980123\n",
      "21/06/28 07:56:20 INFO SparkContext: Added JAR file:/home/jovyan/.cache/coursier/v1/https/repo1.maven.org/maven2/com/squareup/okhttp3/okhttp/3.11.0/okhttp-3.11.0.jar at spark://ab334eb5ebc5:34759/jars/okhttp-3.11.0.jar with timestamp 1624866980124\n",
      "21/06/28 07:56:20 INFO SparkContext: Added JAR file:/home/jovyan/.cache/coursier/v1/https/repo1.maven.org/maven2/com/squareup/retrofit2/retrofit/2.4.0/retrofit-2.4.0.jar at spark://ab334eb5ebc5:34759/jars/retrofit-2.4.0.jar with timestamp 1624866980124\n"
     ]
    },
    {
     "name": "stderr",
     "output_type": "stream",
     "text": [
      "21/06/28 07:56:20 INFO SparkContext: Added JAR file:/home/jovyan/.cache/coursier/v1/https/repo1.maven.org/maven2/com/fasterxml/jackson/module/jackson-module-scala_2.12/2.9.9/jackson-module-scala_2.12-2.9.9.jar at spark://ab334eb5ebc5:34759/jars/jackson-module-scala_2.12-2.9.9.jar with timestamp 1624866980124\n",
      "21/06/28 07:56:20 INFO SparkContext: Added JAR file:/home/jovyan/.cache/coursier/v1/https/repo1.maven.org/maven2/com/fasterxml/jackson/module/jackson-module-paranamer/2.9.9/jackson-module-paranamer-2.9.9.jar at spark://ab334eb5ebc5:34759/jars/jackson-module-paranamer-2.9.9.jar with timestamp 1624866980125\n",
      "21/06/28 07:56:20 INFO SparkContext: Added JAR file:/home/jovyan/.cache/coursier/v1/https/repo1.maven.org/maven2/com/squareup/okhttp3/logging-interceptor/3.11.0/logging-interceptor-3.11.0.jar at spark://ab334eb5ebc5:34759/jars/logging-interceptor-3.11.0.jar with timestamp 1624866980125\n",
      "21/06/28 07:56:20 INFO SparkContext: Added JAR file:/home/jovyan/.cache/coursier/v1/https/repo1.maven.org/maven2/com/squareup/okio/okio/1.14.0/okio-1.14.0.jar at spark://ab334eb5ebc5:34759/jars/okio-1.14.0.jar with timestamp 1624866980125\n",
      "21/06/28 07:56:20 INFO SparkContext: Added JAR file:/home/jovyan/.cache/coursier/v1/https/repo1.maven.org/maven2/com/fasterxml/jackson/core/jackson-core/2.9.9/jackson-core-2.9.9.jar at spark://ab334eb5ebc5:34759/jars/jackson-core-2.9.9.jar with timestamp 1624866980126\n",
      "21/06/28 07:56:20 INFO Executor: Starting executor ID driver on host localhost\n",
      "21/06/28 07:56:20 INFO Executor: Using REPL class URI: http://172.17.0.2:37707\n",
      "21/06/28 07:56:20 INFO Utils: Successfully started service 'org.apache.spark.network.netty.NettyBlockTransferService' on port 37309.\n",
      "21/06/28 07:56:20 INFO NettyBlockTransferService: Server created on ab334eb5ebc5:37309\n",
      "21/06/28 07:56:20 INFO BlockManager: Using org.apache.spark.storage.RandomBlockReplicationPolicy for block replication policy\n",
      "21/06/28 07:56:20 INFO BlockManagerMaster: Registering BlockManager BlockManagerId(driver, ab334eb5ebc5, 37309, None)\n",
      "21/06/28 07:56:20 INFO BlockManagerMasterEndpoint: Registering block manager ab334eb5ebc5:37309 with 366.3 MB RAM, BlockManagerId(driver, ab334eb5ebc5, 37309, None)\n",
      "21/06/28 07:56:20 INFO BlockManagerMaster: Registered BlockManager BlockManagerId(driver, ab334eb5ebc5, 37309, None)\n",
      "21/06/28 07:56:20 INFO BlockManager: Initialized BlockManager: BlockManagerId(driver, ab334eb5ebc5, 37309, None)\n"
     ]
    },
    {
     "data": {
      "text/html": [
       "<a target=\"_blank\" href=\"http://ab334eb5ebc5:4041\">Spark UI</a>"
      ]
     },
     "metadata": {},
     "output_type": "display_data"
    },
    {
     "data": {
      "text/plain": [
       "\u001b[32mimport \u001b[39m\u001b[36m$file.$     \n",
       "\u001b[39m\n",
       "\u001b[32mimport \u001b[39m\u001b[36mspark._\n",
       "\u001b[39m\n",
       "\u001b[32mimport \u001b[39m\u001b[36mcommon._\n",
       "\u001b[39m\n",
       "\u001b[32mimport \u001b[39m\u001b[36morg.apache.spark.sql.functions._\n",
       "\u001b[39m\n",
       "\u001b[32mimport \u001b[39m\u001b[36morg.apache.spark.rdd._\n",
       "\u001b[39m\n",
       "\u001b[32mimport \u001b[39m\u001b[36morg.apache.spark.sql.types.{IntegerType, StringType, StructType}\n",
       "\u001b[39m\n",
       "\u001b[32mimport \u001b[39m\u001b[36morg.apache.spark.sql._, types._, functions._\n",
       "\u001b[39m\n",
       "\u001b[32mimport \u001b[39m\u001b[36mspark.implicits._\u001b[39m"
      ]
     },
     "execution_count": 1,
     "metadata": {},
     "output_type": "execute_result"
    }
   ],
   "source": [
    "import $file.common\n",
    "import spark._\n",
    "import common._\n",
    "import org.apache.spark.sql.functions._\n",
    "import org.apache.spark.rdd._\n",
    "import org.apache.spark.sql.types.{IntegerType, StringType, StructType}\n",
    "import org.apache.spark.sql._, types._, functions._\n",
    "import spark.implicits._"
   ]
  },
  {
   "cell_type": "code",
   "execution_count": 2,
   "metadata": {},
   "outputs": [
    {
     "data": {
      "text/plain": [
       "\u001b[32mimport \u001b[39m\u001b[36mplotly._\n",
       "\u001b[39m\n",
       "\u001b[32mimport \u001b[39m\u001b[36mplotly.element._\n",
       "\u001b[39m\n",
       "\u001b[32mimport \u001b[39m\u001b[36mplotly.layout._\n",
       "\u001b[39m\n",
       "\u001b[32mimport \u001b[39m\u001b[36mplotly.Almond._\u001b[39m"
      ]
     },
     "execution_count": 2,
     "metadata": {},
     "output_type": "execute_result"
    }
   ],
   "source": [
    "import plotly._\n",
    "import plotly.element._\n",
    "import plotly.layout._\n",
    "import plotly.Almond._"
   ]
  },
  {
   "cell_type": "markdown",
   "metadata": {},
   "source": [
    "# Query 1: Media de infecciones diarias por país."
   ]
  },
  {
   "cell_type": "markdown",
   "metadata": {},
   "source": [
    "Esta consulta utiliza un único conjunto de datos con las infecciones diarias reportadas por cada país.\n",
    "\n",
    "El objetivo de la query es:\n",
    "    - Agrupar el conjunto de datos por paises\n",
    "    - Sumar todos los datos diarios obteniendo el valor acumulado\n",
    "    - Dividir el valor acumulado entre el número de días reportados\n",
    "\n",
    "De esta forma obtendremos la media de infecciones diarias por país."
   ]
  },
  {
   "cell_type": "markdown",
   "metadata": {},
   "source": [
    "## 1. RDD para la consulta de infecciones diarias por país"
   ]
  },
  {
   "cell_type": "code",
   "execution_count": 3,
   "metadata": {},
   "outputs": [
    {
     "data": {
      "text/plain": [
       "\u001b[36minfectionData\u001b[39m: \u001b[32mRDD\u001b[39m[\u001b[32mString\u001b[39m] = ../datasets/data.csv MapPartitionsRDD[1] at textFile at cmd2.sc:1"
      ]
     },
     "execution_count": 3,
     "metadata": {},
     "output_type": "execute_result"
    }
   ],
   "source": [
    "val infectionData = spark.sparkContext.textFile(\"../datasets/data.csv\")"
   ]
  },
  {
   "cell_type": "markdown",
   "metadata": {},
   "source": [
    "Creo una funcion para trabajar con un RDD de infecciones"
   ]
  },
  {
   "cell_type": "code",
   "execution_count": 4,
   "metadata": {},
   "outputs": [
    {
     "data": {
      "text/plain": [
       "defined \u001b[32mfunction\u001b[39m \u001b[36minfections\u001b[39m"
      ]
     },
     "execution_count": 4,
     "metadata": {},
     "output_type": "execute_result"
    }
   ],
   "source": [
    "def infections(lines : RDD[String]) : RDD[Infection] =\n",
    "    lines.map(line => {\n",
    "      val arr = line.split(\",\")\n",
    "      Infection(\n",
    "        day = arr(1).toInt,\n",
    "        month = arr(2).toInt,\n",
    "        year = arr(3).toInt,\n",
    "        nCases = arr(4).toInt,\n",
    "        nDeaths = arr(5).toInt,\n",
    "        country = arr(6),\n",
    "        continent = arr(10)\n",
    "      )\n",
    "    })"
   ]
  },
  {
   "cell_type": "markdown",
   "metadata": {},
   "source": [
    "Calculo la media de infecciones diarias por país trabajando con pair RDD"
   ]
  },
  {
   "cell_type": "code",
   "execution_count": 5,
   "metadata": {},
   "outputs": [
    {
     "data": {
      "text/plain": [
       "defined \u001b[32mfunction\u001b[39m \u001b[36minfectionGrowthAverage\u001b[39m"
      ]
     },
     "execution_count": 5,
     "metadata": {},
     "output_type": "execute_result"
    }
   ],
   "source": [
    "  def infectionGrowthAverage(infections : RDD[Infection]) : RDD[(String, Int)]= {\n",
    "\n",
    "    val countriesAndCases : RDD[(String, Iterable[Int])] = \n",
    "      infections.map(x => (x.country,x.nCases))\n",
    "      .groupByKey()\n",
    "      \n",
    "    countriesAndCases.mapValues(x => (x.sum / x.size)).sortBy(_._2)\n",
    "  }"
   ]
  },
  {
   "cell_type": "markdown",
   "metadata": {},
   "source": [
    "Muestro el resultado y el tiempo de ejecución"
   ]
  },
  {
   "cell_type": "code",
   "execution_count": 6,
   "metadata": {},
   "outputs": [
    {
     "data": {
      "text/plain": [
       "defined \u001b[32mfunction\u001b[39m \u001b[36minfectionRDD\u001b[39m"
      ]
     },
     "execution_count": 6,
     "metadata": {},
     "output_type": "execute_result"
    }
   ],
   "source": [
    "def infectionRDD = infections(infectionData)"
   ]
  },
  {
   "cell_type": "code",
   "execution_count": 7,
   "metadata": {},
   "outputs": [
    {
     "data": {
      "text/plain": [
       "defined \u001b[32mfunction\u001b[39m \u001b[36mquery_RDD\u001b[39m"
      ]
     },
     "execution_count": 7,
     "metadata": {},
     "output_type": "execute_result"
    }
   ],
   "source": [
    "def query_RDD = infectionGrowthAverage(infectionRDD)"
   ]
  },
  {
   "cell_type": "markdown",
   "metadata": {},
   "source": [
    "## 2. Con un DataSet"
   ]
  },
  {
   "cell_type": "code",
   "execution_count": 8,
   "metadata": {},
   "outputs": [
    {
     "data": {
      "text/html": [
       "<script>\n",
       "var comm = Jupyter.notebook.kernel.comm_manager.new_comm('cancel-stage-750920b3-1856-4a2d-9878-e97850e3da36', {});\n",
       "\n",
       "function cancelStage(stageId) {\n",
       "  console.log('Cancelling stage ' + stageId);\n",
       "  comm.send({ 'stageId': stageId });\n",
       "}\n",
       "</script>\n",
       "          "
      ]
     },
     "metadata": {},
     "output_type": "display_data"
    },
    {
     "data": {
      "text/html": [
       "<div>\n",
       "  <span style=\"float: left;\">csv at cmd7.sc:5</span>\n",
       "</div>\n"
      ]
     },
     "metadata": {},
     "output_type": "display_data"
    },
    {
     "data": {
      "text/html": [
       "<div class=\"progress\">\n",
       "  <div class=\"progress-bar\" role=\"progressbar\" style=\"background-color: blue; width: 100%; word-wrap: normal; white-space: nowrap; text-align: center; color: white\" aria-valuenow=\"100\" aria-valuemin=\"0\" aria-valuemax=\"100\">\n",
       "    1 / 1\n",
       "  </div>\n",
       "  <div class=\"progress-bar\" role=\"progressbar\" style=\"background-color: red; width: 0%\" aria-valuenow=\"0\" aria-valuemin=\"0\" aria-valuemax=\"100\"></div>\n",
       "</div>\n"
      ]
     },
     "metadata": {},
     "output_type": "display_data"
    },
    {
     "data": {
      "text/plain": [
       "\u001b[36minfectionDS\u001b[39m: \u001b[32mDataset\u001b[39m[(\u001b[32mString\u001b[39m, \u001b[32mString\u001b[39m, \u001b[32mString\u001b[39m, \u001b[32mString\u001b[39m, \u001b[32mString\u001b[39m, \u001b[32mString\u001b[39m, \u001b[32mString\u001b[39m, \u001b[32mString\u001b[39m, \u001b[32mString\u001b[39m, \u001b[32mString\u001b[39m, \u001b[32mString\u001b[39m, \u001b[32mString\u001b[39m)] = [dateRep: string, day: string ... 10 more fields]"
      ]
     },
     "execution_count": 8,
     "metadata": {},
     "output_type": "execute_result"
    }
   ],
   "source": [
    "val infectionDS = spark.read\n",
    "    .option(\"header\", \"true\")\n",
    "    .option(\"charset\", \"UTF8\")\n",
    "    .option(\"delimiter\",\",\")\n",
    "    .csv(\"../datasets/covidworldwide.csv\")\n",
    "    .as[(String,String,String,String,String,String,String,String,String,String,String,String)]"
   ]
  },
  {
   "cell_type": "code",
   "execution_count": 9,
   "metadata": {},
   "outputs": [
    {
     "data": {
      "text/plain": [
       "defined \u001b[32mfunction\u001b[39m \u001b[36mquery_DS\u001b[39m"
      ]
     },
     "execution_count": 9,
     "metadata": {},
     "output_type": "execute_result"
    }
   ],
   "source": [
    "def query_DS = \n",
    "    infectionDS.groupBy($\"countriesAndTerritories\")\n",
    "    .agg(avg($\"cases\"))\n",
    "    .orderBy(\"avg(cases)\")\n",
    "    .as[(String,Double)]"
   ]
  },
  {
   "cell_type": "markdown",
   "metadata": {},
   "source": [
    "## 3. Hago los mismos calculos con un DataFrame"
   ]
  },
  {
   "cell_type": "markdown",
   "metadata": {},
   "source": [
    "#### Creo el DataFrame directamente importando los datos"
   ]
  },
  {
   "cell_type": "code",
   "execution_count": 10,
   "metadata": {},
   "outputs": [
    {
     "data": {
      "text/html": [
       "<div>\n",
       "  <span style=\"float: left;\">csv at cmd9.sc:6</span>\n",
       "</div>\n"
      ]
     },
     "metadata": {},
     "output_type": "display_data"
    },
    {
     "data": {
      "text/html": [
       "<div class=\"progress\">\n",
       "  <div class=\"progress-bar\" role=\"progressbar\" style=\"background-color: blue; width: 100%; word-wrap: normal; white-space: nowrap; text-align: center; color: white\" aria-valuenow=\"100\" aria-valuemin=\"0\" aria-valuemax=\"100\">\n",
       "    1 / 1\n",
       "  </div>\n",
       "  <div class=\"progress-bar\" role=\"progressbar\" style=\"background-color: red; width: 0%\" aria-valuenow=\"0\" aria-valuemin=\"0\" aria-valuemax=\"100\"></div>\n",
       "</div>\n"
      ]
     },
     "metadata": {},
     "output_type": "display_data"
    },
    {
     "data": {
      "text/plain": [
       "\u001b[36mdfCovid\u001b[39m: \u001b[32mDataFrame\u001b[39m = [dateRep: string, day: string ... 10 more fields]"
      ]
     },
     "execution_count": 10,
     "metadata": {},
     "output_type": "execute_result"
    }
   ],
   "source": [
    "val dfCovid = spark.read\n",
    "    .option(\"header\", \"true\")\n",
    "    .option(\"charset\", \"UTF8\")\n",
    "    .option(\"delimiter\",\",\")\n",
    "    .option(\"inferSchema\", \"false\")\n",
    "    .csv(\"../datasets/covidworldwide.csv\")"
   ]
  },
  {
   "cell_type": "markdown",
   "metadata": {},
   "source": [
    "Utilizo los métodos de la API DF que incluye uno optimizado para calcular la media."
   ]
  },
  {
   "cell_type": "code",
   "execution_count": 11,
   "metadata": {},
   "outputs": [
    {
     "data": {
      "text/plain": [
       "defined \u001b[32mfunction\u001b[39m \u001b[36mquery_DF\u001b[39m"
      ]
     },
     "execution_count": 11,
     "metadata": {},
     "output_type": "execute_result"
    }
   ],
   "source": [
    "def query_DF = dfCovid\n",
    "    .groupBy(\"countriesAndTerritories\")\n",
    "    .agg(mean(\"cases\"))\n",
    "    .orderBy(\"avg(cases)\")"
   ]
  },
  {
   "cell_type": "markdown",
   "metadata": {},
   "source": [
    "# 4. Visualización de rendimiento"
   ]
  },
  {
   "cell_type": "markdown",
   "metadata": {},
   "source": [
    "Gráficamente utilizando plotly"
   ]
  },
  {
   "cell_type": "code",
   "execution_count": 12,
   "metadata": {
    "scrolled": true
   },
   "outputs": [
    {
     "data": {
      "text/html": [
       "<div>\n",
       "  <span style=\"float: left;\">map at cmd4.sc:4</span>\n",
       "</div>\n"
      ]
     },
     "metadata": {},
     "output_type": "display_data"
    },
    {
     "data": {
      "text/html": [
       "<div class=\"progress\">\n",
       "  <div class=\"progress-bar\" role=\"progressbar\" style=\"background-color: blue; width: 100%; word-wrap: normal; white-space: nowrap; text-align: center; color: white\" aria-valuenow=\"100\" aria-valuemin=\"0\" aria-valuemax=\"100\">\n",
       "    2 / 2\n",
       "  </div>\n",
       "  <div class=\"progress-bar\" role=\"progressbar\" style=\"background-color: red; width: 0%\" aria-valuenow=\"0\" aria-valuemin=\"0\" aria-valuemax=\"100\"></div>\n",
       "</div>\n"
      ]
     },
     "metadata": {},
     "output_type": "display_data"
    },
    {
     "data": {
      "text/html": [
       "<div>\n",
       "  <span style=\"float: left;\">sortBy at cmd4.sc:7</span>\n",
       "</div>\n"
      ]
     },
     "metadata": {},
     "output_type": "display_data"
    },
    {
     "data": {
      "text/html": [
       "<div class=\"progress\">\n",
       "  <div class=\"progress-bar\" role=\"progressbar\" style=\"background-color: blue; width: 100%; word-wrap: normal; white-space: nowrap; text-align: center; color: white\" aria-valuenow=\"100\" aria-valuemin=\"0\" aria-valuemax=\"100\">\n",
       "    2 / 2\n",
       "  </div>\n",
       "  <div class=\"progress-bar\" role=\"progressbar\" style=\"background-color: red; width: 0%\" aria-valuenow=\"0\" aria-valuemin=\"0\" aria-valuemax=\"100\"></div>\n",
       "</div>\n"
      ]
     },
     "metadata": {},
     "output_type": "display_data"
    },
    {
     "data": {
      "text/html": [
       "<div>\n",
       "  <span style=\"float: left;\">sortBy at cmd4.sc:7</span>\n",
       "</div>\n"
      ]
     },
     "metadata": {},
     "output_type": "display_data"
    },
    {
     "data": {
      "text/html": [
       "<div class=\"progress\">\n",
       "  <div class=\"progress-bar\" role=\"progressbar\" style=\"background-color: blue; width: 100%; word-wrap: normal; white-space: nowrap; text-align: center; color: white\" aria-valuenow=\"100\" aria-valuemin=\"0\" aria-valuemax=\"100\">\n",
       "    2 / 2\n",
       "  </div>\n",
       "  <div class=\"progress-bar\" role=\"progressbar\" style=\"background-color: red; width: 0%\" aria-valuenow=\"0\" aria-valuemin=\"0\" aria-valuemax=\"100\"></div>\n",
       "</div>\n"
      ]
     },
     "metadata": {},
     "output_type": "display_data"
    },
    {
     "data": {
      "text/html": [
       "<div>\n",
       "  <span style=\"float: left;\">collect at cmd11.sc:2</span>\n",
       "</div>\n"
      ]
     },
     "metadata": {},
     "output_type": "display_data"
    },
    {
     "data": {
      "text/html": [
       "<div class=\"progress\">\n",
       "  <div class=\"progress-bar\" role=\"progressbar\" style=\"background-color: blue; width: 100%; word-wrap: normal; white-space: nowrap; text-align: center; color: white\" aria-valuenow=\"100\" aria-valuemin=\"0\" aria-valuemax=\"100\">\n",
       "    2 / 2\n",
       "  </div>\n",
       "  <div class=\"progress-bar\" role=\"progressbar\" style=\"background-color: red; width: 0%\" aria-valuenow=\"0\" aria-valuemin=\"0\" aria-valuemax=\"100\"></div>\n",
       "</div>\n"
      ]
     },
     "metadata": {},
     "output_type": "display_data"
    },
    {
     "name": "stdout",
     "output_type": "stream",
     "text": [
      "Took 3384\n"
     ]
    },
    {
     "data": {
      "text/html": [
       "<div>\n",
       "  <span style=\"float: left;\">collect at cmd11.sc:3</span>\n",
       "</div>\n"
      ]
     },
     "metadata": {},
     "output_type": "display_data"
    },
    {
     "data": {
      "text/html": [
       "<div class=\"progress\">\n",
       "  <div class=\"progress-bar\" role=\"progressbar\" style=\"background-color: blue; width: 100%; word-wrap: normal; white-space: nowrap; text-align: center; color: white\" aria-valuenow=\"100\" aria-valuemin=\"0\" aria-valuemax=\"100\">\n",
       "    2 / 2\n",
       "  </div>\n",
       "  <div class=\"progress-bar\" role=\"progressbar\" style=\"background-color: red; width: 0%\" aria-valuenow=\"0\" aria-valuemin=\"0\" aria-valuemax=\"100\"></div>\n",
       "</div>\n"
      ]
     },
     "metadata": {},
     "output_type": "display_data"
    },
    {
     "data": {
      "text/html": [
       "<div>\n",
       "  <span style=\"float: left;\">collect at cmd11.sc:3</span>\n",
       "</div>\n"
      ]
     },
     "metadata": {},
     "output_type": "display_data"
    },
    {
     "data": {
      "text/html": [
       "<div class=\"progress\">\n",
       "  <div class=\"progress-bar\" role=\"progressbar\" style=\"background-color: blue; width: 100%; word-wrap: normal; white-space: nowrap; text-align: center; color: white\" aria-valuenow=\"100\" aria-valuemin=\"0\" aria-valuemax=\"100\">\n",
       "    200 / 200\n",
       "  </div>\n",
       "  <div class=\"progress-bar\" role=\"progressbar\" style=\"background-color: red; width: 0%\" aria-valuenow=\"0\" aria-valuemin=\"0\" aria-valuemax=\"100\"></div>\n",
       "</div>\n"
      ]
     },
     "metadata": {},
     "output_type": "display_data"
    },
    {
     "data": {
      "text/html": [
       "<div>\n",
       "  <span style=\"float: left;\">collect at cmd11.sc:3</span>\n",
       "</div>\n"
      ]
     },
     "metadata": {},
     "output_type": "display_data"
    },
    {
     "data": {
      "text/html": [
       "<div class=\"progress\">\n",
       "  <div class=\"progress-bar\" role=\"progressbar\" style=\"background-color: blue; width: 100%; word-wrap: normal; white-space: nowrap; text-align: center; color: white\" aria-valuenow=\"100\" aria-valuemin=\"0\" aria-valuemax=\"100\">\n",
       "    200 / 200\n",
       "  </div>\n",
       "  <div class=\"progress-bar\" role=\"progressbar\" style=\"background-color: red; width: 0%\" aria-valuenow=\"0\" aria-valuemin=\"0\" aria-valuemax=\"100\"></div>\n",
       "</div>\n"
      ]
     },
     "metadata": {},
     "output_type": "display_data"
    },
    {
     "data": {
      "text/html": [
       "<div>\n",
       "  <span style=\"float: left;\">collect at cmd11.sc:3</span>\n",
       "</div>\n"
      ]
     },
     "metadata": {},
     "output_type": "display_data"
    },
    {
     "data": {
      "text/html": [
       "<div class=\"progress\">\n",
       "  <div class=\"progress-bar\" role=\"progressbar\" style=\"background-color: blue; width: 100%; word-wrap: normal; white-space: nowrap; text-align: center; color: white\" aria-valuenow=\"100\" aria-valuemin=\"0\" aria-valuemax=\"100\">\n",
       "    200 / 200\n",
       "  </div>\n",
       "  <div class=\"progress-bar\" role=\"progressbar\" style=\"background-color: red; width: 0%\" aria-valuenow=\"0\" aria-valuemin=\"0\" aria-valuemax=\"100\"></div>\n",
       "</div>\n"
      ]
     },
     "metadata": {},
     "output_type": "display_data"
    },
    {
     "name": "stdout",
     "output_type": "stream",
     "text": [
      "Took 9125\n"
     ]
    },
    {
     "data": {
      "text/html": [
       "<div>\n",
       "  <span style=\"float: left;\">collect at cmd11.sc:4</span>\n",
       "</div>\n"
      ]
     },
     "metadata": {},
     "output_type": "display_data"
    },
    {
     "data": {
      "text/html": [
       "<div class=\"progress\">\n",
       "  <div class=\"progress-bar\" role=\"progressbar\" style=\"background-color: blue; width: 100%; word-wrap: normal; white-space: nowrap; text-align: center; color: white\" aria-valuenow=\"100\" aria-valuemin=\"0\" aria-valuemax=\"100\">\n",
       "    2 / 2\n",
       "  </div>\n",
       "  <div class=\"progress-bar\" role=\"progressbar\" style=\"background-color: red; width: 0%\" aria-valuenow=\"0\" aria-valuemin=\"0\" aria-valuemax=\"100\"></div>\n",
       "</div>\n"
      ]
     },
     "metadata": {},
     "output_type": "display_data"
    },
    {
     "data": {
      "text/html": [
       "<div>\n",
       "  <span style=\"float: left;\">collect at cmd11.sc:4</span>\n",
       "</div>\n"
      ]
     },
     "metadata": {},
     "output_type": "display_data"
    },
    {
     "data": {
      "text/html": [
       "<div class=\"progress\">\n",
       "  <div class=\"progress-bar\" role=\"progressbar\" style=\"background-color: blue; width: 100%; word-wrap: normal; white-space: nowrap; text-align: center; color: white\" aria-valuenow=\"100\" aria-valuemin=\"0\" aria-valuemax=\"100\">\n",
       "    200 / 200\n",
       "  </div>\n",
       "  <div class=\"progress-bar\" role=\"progressbar\" style=\"background-color: red; width: 0%\" aria-valuenow=\"0\" aria-valuemin=\"0\" aria-valuemax=\"100\"></div>\n",
       "</div>\n"
      ]
     },
     "metadata": {},
     "output_type": "display_data"
    },
    {
     "data": {
      "text/html": [
       "<div>\n",
       "  <span style=\"float: left;\">collect at cmd11.sc:4</span>\n",
       "</div>\n"
      ]
     },
     "metadata": {},
     "output_type": "display_data"
    },
    {
     "data": {
      "text/html": [
       "<div class=\"progress\">\n",
       "  <div class=\"progress-bar\" role=\"progressbar\" style=\"background-color: blue; width: 100%; word-wrap: normal; white-space: nowrap; text-align: center; color: white\" aria-valuenow=\"100\" aria-valuemin=\"0\" aria-valuemax=\"100\">\n",
       "    200 / 200\n",
       "  </div>\n",
       "  <div class=\"progress-bar\" role=\"progressbar\" style=\"background-color: red; width: 0%\" aria-valuenow=\"0\" aria-valuemin=\"0\" aria-valuemax=\"100\"></div>\n",
       "</div>\n"
      ]
     },
     "metadata": {},
     "output_type": "display_data"
    },
    {
     "data": {
      "text/html": [
       "<div>\n",
       "  <span style=\"float: left;\">collect at cmd11.sc:4</span>\n",
       "</div>\n"
      ]
     },
     "metadata": {},
     "output_type": "display_data"
    },
    {
     "data": {
      "text/html": [
       "<div class=\"progress\">\n",
       "  <div class=\"progress-bar\" role=\"progressbar\" style=\"background-color: blue; width: 100%; word-wrap: normal; white-space: nowrap; text-align: center; color: white\" aria-valuenow=\"100\" aria-valuemin=\"0\" aria-valuemax=\"100\">\n",
       "    200 / 200\n",
       "  </div>\n",
       "  <div class=\"progress-bar\" role=\"progressbar\" style=\"background-color: red; width: 0%\" aria-valuenow=\"0\" aria-valuemin=\"0\" aria-valuemax=\"100\"></div>\n",
       "</div>\n"
      ]
     },
     "metadata": {},
     "output_type": "display_data"
    },
    {
     "name": "stdout",
     "output_type": "stream",
     "text": [
      "Took 5574\n"
     ]
    },
    {
     "data": {
      "text/html": [
       "\n",
       "      <script type=\"text/javascript\">\n",
       "        require.config({\n",
       "  paths: {\n",
       "    d3: 'https://cdnjs.cloudflare.com/ajax/libs/d3/3.5.17/d3.min',\n",
       "    plotly: 'https://cdn.plot.ly/plotly-1.52.2.min',\n",
       "    jquery: 'https://code.jquery.com/jquery-3.3.1.min'\n",
       "  },\n",
       "\n",
       "  shim: {\n",
       "    plotly: {\n",
       "      deps: ['d3', 'jquery'],\n",
       "      exports: 'plotly'\n",
       "    }\n",
       "  }\n",
       "});\n",
       "        \n",
       "\n",
       "        require(['plotly'], function(Plotly) {\n",
       "          window.Plotly = Plotly;\n",
       "        });\n",
       "      </script>\n",
       "    "
      ]
     },
     "metadata": {},
     "output_type": "display_data"
    },
    {
     "data": {
      "application/vnd.plotly.v1+json": {
       "config": {},
       "data": [
        {
         "type": "bar",
         "x": [
          "RDD",
          "DataSet",
          "DataFrame"
         ],
         "y": [
          3384,
          9125,
          5574
         ]
        }
       ],
       "layout": {}
      },
      "text/html": [
       "<div class=\"chart\" id=\"plot-4e60277f-6c58-41e6-96ed-da7eab5108c2\"></div>\n",
       "<script>require(['plotly'], function(Plotly) {\n",
       "  (function () {\n",
       "  var data0 = {\"x\":[\"RDD\",\"DataSet\",\"DataFrame\"],\"y\":[3384.0,9125.0,5574.0],\"type\":\"bar\"};\n",
       "\n",
       "  var data = [data0];\n",
       "  var layout = {};\n",
       " var config = {};\n",
       "\n",
       "  Plotly.plot('plot-4e60277f-6c58-41e6-96ed-da7eab5108c2', data, layout, config);\n",
       "})();\n",
       "});\n",
       "      </script>\n",
       "           "
      ]
     },
     "metadata": {},
     "output_type": "display_data"
    },
    {
     "data": {
      "text/plain": [
       "\u001b[36mx\u001b[39m: \u001b[32mSeq\u001b[39m[\u001b[32mString\u001b[39m] = \u001b[33mList\u001b[39m(\u001b[32m\"RDD\"\u001b[39m, \u001b[32m\"DataSet\"\u001b[39m, \u001b[32m\"DataFrame\"\u001b[39m)\n",
       "\u001b[36my\u001b[39m: \u001b[32mSeq\u001b[39m[\u001b[32mInt\u001b[39m] = \u001b[33mList\u001b[39m(\u001b[32m3384\u001b[39m, \u001b[32m9125\u001b[39m, \u001b[32m5574\u001b[39m)\n",
       "\u001b[36mres11_1\u001b[39m: \u001b[32mString\u001b[39m = \u001b[32m\"plot-4e60277f-6c58-41e6-96ed-da7eab5108c2\"\u001b[39m"
      ]
     },
     "execution_count": 12,
     "metadata": {},
     "output_type": "execute_result"
    }
   ],
   "source": [
    "val (x, y) = Seq(\n",
    "    \"RDD\" -> runWithOutput(query_RDD.collect),\n",
    "    \"DataSet\" -> runWithOutput(query_DS.collect),\n",
    "    \"DataFrame\" -> runWithOutput(query_DF.collect)\n",
    ").unzip\n",
    "\n",
    "Bar(x, y).plot()"
   ]
  },
  {
   "cell_type": "markdown",
   "metadata": {},
   "source": [
    "# 5. Comparativas de rendimiento"
   ]
  },
  {
   "cell_type": "markdown",
   "metadata": {},
   "source": [
    "Usando la API de spark"
   ]
  },
  {
   "cell_type": "code",
   "execution_count": 13,
   "metadata": {},
   "outputs": [
    {
     "data": {
      "text/html": [
       "<div>\n",
       "  <span style=\"float: left;\">map at cmd4.sc:4</span>\n",
       "</div>\n"
      ]
     },
     "metadata": {},
     "output_type": "display_data"
    },
    {
     "data": {
      "text/html": [
       "<div class=\"progress\">\n",
       "  <div class=\"progress-bar\" role=\"progressbar\" style=\"background-color: blue; width: 100%; word-wrap: normal; white-space: nowrap; text-align: center; color: white\" aria-valuenow=\"100\" aria-valuemin=\"0\" aria-valuemax=\"100\">\n",
       "    2 / 2\n",
       "  </div>\n",
       "  <div class=\"progress-bar\" role=\"progressbar\" style=\"background-color: red; width: 0%\" aria-valuenow=\"0\" aria-valuemin=\"0\" aria-valuemax=\"100\"></div>\n",
       "</div>\n"
      ]
     },
     "metadata": {},
     "output_type": "display_data"
    },
    {
     "data": {
      "text/html": [
       "<div>\n",
       "  <span style=\"float: left;\">sortBy at cmd4.sc:7</span>\n",
       "</div>\n"
      ]
     },
     "metadata": {},
     "output_type": "display_data"
    },
    {
     "data": {
      "text/html": [
       "<div class=\"progress\">\n",
       "  <div class=\"progress-bar\" role=\"progressbar\" style=\"background-color: blue; width: 100%; word-wrap: normal; white-space: nowrap; text-align: center; color: white\" aria-valuenow=\"100\" aria-valuemin=\"0\" aria-valuemax=\"100\">\n",
       "    2 / 2\n",
       "  </div>\n",
       "  <div class=\"progress-bar\" role=\"progressbar\" style=\"background-color: red; width: 0%\" aria-valuenow=\"0\" aria-valuemin=\"0\" aria-valuemax=\"100\"></div>\n",
       "</div>\n"
      ]
     },
     "metadata": {},
     "output_type": "display_data"
    },
    {
     "data": {
      "text/html": [
       "<div>\n",
       "  <span style=\"float: left;\">sortBy at cmd4.sc:7</span>\n",
       "</div>\n"
      ]
     },
     "metadata": {},
     "output_type": "display_data"
    },
    {
     "data": {
      "text/html": [
       "<div class=\"progress\">\n",
       "  <div class=\"progress-bar\" role=\"progressbar\" style=\"background-color: blue; width: 100%; word-wrap: normal; white-space: nowrap; text-align: center; color: white\" aria-valuenow=\"100\" aria-valuemin=\"0\" aria-valuemax=\"100\">\n",
       "    2 / 2\n",
       "  </div>\n",
       "  <div class=\"progress-bar\" role=\"progressbar\" style=\"background-color: red; width: 0%\" aria-valuenow=\"0\" aria-valuemin=\"0\" aria-valuemax=\"100\"></div>\n",
       "</div>\n"
      ]
     },
     "metadata": {},
     "output_type": "display_data"
    },
    {
     "data": {
      "text/html": [
       "<div>\n",
       "  <span style=\"float: left;\">collect at cmd12.sc:1</span>\n",
       "</div>\n"
      ]
     },
     "metadata": {},
     "output_type": "display_data"
    },
    {
     "data": {
      "text/html": [
       "<div class=\"progress\">\n",
       "  <div class=\"progress-bar\" role=\"progressbar\" style=\"background-color: blue; width: 100%; word-wrap: normal; white-space: nowrap; text-align: center; color: white\" aria-valuenow=\"100\" aria-valuemin=\"0\" aria-valuemax=\"100\">\n",
       "    2 / 2\n",
       "  </div>\n",
       "  <div class=\"progress-bar\" role=\"progressbar\" style=\"background-color: red; width: 0%\" aria-valuenow=\"0\" aria-valuemin=\"0\" aria-valuemax=\"100\"></div>\n",
       "</div>\n"
      ]
     },
     "metadata": {},
     "output_type": "display_data"
    },
    {
     "name": "stdout",
     "output_type": "stream",
     "text": [
      "Time taken: 1641 ms\n"
     ]
    },
    {
     "data": {
      "text/plain": [
       "\u001b[36mtimeRDD\u001b[39m: \u001b[32mArray\u001b[39m[(\u001b[32mString\u001b[39m, \u001b[32mInt\u001b[39m)] = \u001b[33mArray\u001b[39m(\n",
       "  (\u001b[32m\"Greenland\"\u001b[39m, \u001b[32m0\u001b[39m),\n",
       "  (\u001b[32m\"British_Virgin_Islands\"\u001b[39m, \u001b[32m0\u001b[39m),\n",
       "  (\u001b[32m\"\\\"Bonaire\"\u001b[39m, \u001b[32m0\u001b[39m),\n",
       "  (\u001b[32m\"Fiji\"\u001b[39m, \u001b[32m0\u001b[39m),\n",
       "  (\u001b[32m\"Vanuatu\"\u001b[39m, \u001b[32m0\u001b[39m),\n",
       "  (\u001b[32m\"Saint_Vincent_and_the_Grenadines\"\u001b[39m, \u001b[32m0\u001b[39m),\n",
       "  (\u001b[32m\"Solomon_Islands\"\u001b[39m, \u001b[32m0\u001b[39m),\n",
       "  (\u001b[32m\"Holy_See\"\u001b[39m, \u001b[32m0\u001b[39m),\n",
       "  (\u001b[32m\"Dominica\"\u001b[39m, \u001b[32m0\u001b[39m),\n",
       "  (\u001b[32m\"Wallis_and_Futuna\"\u001b[39m, \u001b[32m0\u001b[39m),\n",
       "  (\u001b[32m\"Grenada\"\u001b[39m, \u001b[32m0\u001b[39m),\n",
       "  (\u001b[32m\"Marshall_Islands\"\u001b[39m, \u001b[32m0\u001b[39m),\n",
       "  (\u001b[32m\"Anguilla\"\u001b[39m, \u001b[32m0\u001b[39m),\n",
       "  (\u001b[32m\"Timor_Leste\"\u001b[39m, \u001b[32m0\u001b[39m),\n",
       "  (\u001b[32m\"Saint_Kitts_and_Nevis\"\u001b[39m, \u001b[32m0\u001b[39m),\n",
       "  (\u001b[32m\"Falkland_Islands_(Malvinas)\"\u001b[39m, \u001b[32m0\u001b[39m),\n",
       "  (\u001b[32m\"Montserrat\"\u001b[39m, \u001b[32m0\u001b[39m),\n",
       "  (\u001b[32m\"Northern_Mariana_Islands\"\u001b[39m, \u001b[32m0\u001b[39m),\n",
       "  (\u001b[32m\"Seychelles\"\u001b[39m, \u001b[32m0\u001b[39m),\n",
       "  (\u001b[32m\"Antigua_and_Barbuda\"\u001b[39m, \u001b[32m0\u001b[39m),\n",
       "  (\u001b[32m\"Laos\"\u001b[39m, \u001b[32m0\u001b[39m),\n",
       "  (\u001b[32m\"Brunei_Darussalam\"\u001b[39m, \u001b[32m0\u001b[39m),\n",
       "  (\u001b[32m\"New_Caledonia\"\u001b[39m, \u001b[32m0\u001b[39m),\n",
       "  (\u001b[32m\"Guernsey\"\u001b[39m, \u001b[32m1\u001b[39m),\n",
       "  (\u001b[32m\"Saint_Lucia\"\u001b[39m, \u001b[32m1\u001b[39m),\n",
       "  (\u001b[32m\"Cayman_Islands\"\u001b[39m, \u001b[32m1\u001b[39m),\n",
       "  (\u001b[32m\"Bermuda\"\u001b[39m, \u001b[32m1\u001b[39m),\n",
       "  (\u001b[32m\"Isle_of_Man\"\u001b[39m, \u001b[32m1\u001b[39m),\n",
       "  (\u001b[32m\"Barbados\"\u001b[39m, \u001b[32m1\u001b[39m),\n",
       "  (\u001b[32m\"Cambodia\"\u001b[39m, \u001b[32m1\u001b[39m),\n",
       "  (\u001b[32m\"Faroe_Islands\"\u001b[39m, \u001b[32m1\u001b[39m),\n",
       "  (\u001b[32m\"Bhutan\"\u001b[39m, \u001b[32m1\u001b[39m),\n",
       "  (\u001b[32m\"Monaco\"\u001b[39m, \u001b[32m1\u001b[39m),\n",
       "  (\u001b[32m\"Mauritius\"\u001b[39m, \u001b[32m1\u001b[39m),\n",
       "  (\u001b[32m\"United_Republic_of_Tanzania\"\u001b[39m, \u001b[32m1\u001b[39m),\n",
       "  (\u001b[32m\"Papua_New_Guinea\"\u001b[39m, \u001b[32m2\u001b[39m),\n",
       "  (\u001b[32m\"Eritrea\"\u001b[39m, \u001b[32m2\u001b[39m),\n",
       "  (\u001b[32m\"Taiwan\"\u001b[39m, \u001b[32m2\u001b[39m),\n",
       "..."
      ]
     },
     "execution_count": 13,
     "metadata": {},
     "output_type": "execute_result"
    }
   ],
   "source": [
    "val timeRDD = spark.time(query_RDD.collect())"
   ]
  },
  {
   "cell_type": "code",
   "execution_count": 14,
   "metadata": {
    "scrolled": true
   },
   "outputs": [
    {
     "data": {
      "text/html": [
       "<div>\n",
       "  <span style=\"float: left;\">collect at cmd13.sc:1</span>\n",
       "</div>\n"
      ]
     },
     "metadata": {},
     "output_type": "display_data"
    },
    {
     "data": {
      "text/html": [
       "<div class=\"progress\">\n",
       "  <div class=\"progress-bar\" role=\"progressbar\" style=\"background-color: blue; width: 100%; word-wrap: normal; white-space: nowrap; text-align: center; color: white\" aria-valuenow=\"100\" aria-valuemin=\"0\" aria-valuemax=\"100\">\n",
       "    2 / 2\n",
       "  </div>\n",
       "  <div class=\"progress-bar\" role=\"progressbar\" style=\"background-color: red; width: 0%\" aria-valuenow=\"0\" aria-valuemin=\"0\" aria-valuemax=\"100\"></div>\n",
       "</div>\n"
      ]
     },
     "metadata": {},
     "output_type": "display_data"
    },
    {
     "data": {
      "text/html": [
       "<div>\n",
       "  <span style=\"float: left;\">collect at cmd13.sc:1</span>\n",
       "</div>\n"
      ]
     },
     "metadata": {},
     "output_type": "display_data"
    },
    {
     "data": {
      "text/html": [
       "<div class=\"progress\">\n",
       "  <div class=\"progress-bar\" role=\"progressbar\" style=\"background-color: blue; width: 100%; word-wrap: normal; white-space: nowrap; text-align: center; color: white\" aria-valuenow=\"100\" aria-valuemin=\"0\" aria-valuemax=\"100\">\n",
       "    200 / 200\n",
       "  </div>\n",
       "  <div class=\"progress-bar\" role=\"progressbar\" style=\"background-color: red; width: 0%\" aria-valuenow=\"0\" aria-valuemin=\"0\" aria-valuemax=\"100\"></div>\n",
       "</div>\n"
      ]
     },
     "metadata": {},
     "output_type": "display_data"
    },
    {
     "data": {
      "text/html": [
       "<div>\n",
       "  <span style=\"float: left;\">collect at cmd13.sc:1</span>\n",
       "</div>\n"
      ]
     },
     "metadata": {},
     "output_type": "display_data"
    },
    {
     "data": {
      "text/html": [
       "<div class=\"progress\">\n",
       "  <div class=\"progress-bar\" role=\"progressbar\" style=\"background-color: blue; width: 100%; word-wrap: normal; white-space: nowrap; text-align: center; color: white\" aria-valuenow=\"100\" aria-valuemin=\"0\" aria-valuemax=\"100\">\n",
       "    200 / 200\n",
       "  </div>\n",
       "  <div class=\"progress-bar\" role=\"progressbar\" style=\"background-color: red; width: 0%\" aria-valuenow=\"0\" aria-valuemin=\"0\" aria-valuemax=\"100\"></div>\n",
       "</div>\n"
      ]
     },
     "metadata": {},
     "output_type": "display_data"
    },
    {
     "data": {
      "text/html": [
       "<div>\n",
       "  <span style=\"float: left;\">collect at cmd13.sc:1</span>\n",
       "</div>\n"
      ]
     },
     "metadata": {},
     "output_type": "display_data"
    },
    {
     "data": {
      "text/html": [
       "<div class=\"progress\">\n",
       "  <div class=\"progress-bar\" role=\"progressbar\" style=\"background-color: blue; width: 100%; word-wrap: normal; white-space: nowrap; text-align: center; color: white\" aria-valuenow=\"100\" aria-valuemin=\"0\" aria-valuemax=\"100\">\n",
       "    200 / 200\n",
       "  </div>\n",
       "  <div class=\"progress-bar\" role=\"progressbar\" style=\"background-color: red; width: 0%\" aria-valuenow=\"0\" aria-valuemin=\"0\" aria-valuemax=\"100\"></div>\n",
       "</div>\n"
      ]
     },
     "metadata": {},
     "output_type": "display_data"
    },
    {
     "name": "stdout",
     "output_type": "stream",
     "text": [
      "Time taken: 4643 ms\n"
     ]
    },
    {
     "data": {
      "text/plain": [
       "\u001b[36mtimeDS\u001b[39m: \u001b[32mArray\u001b[39m[(\u001b[32mString\u001b[39m, \u001b[32mDouble\u001b[39m)] = \u001b[33mArray\u001b[39m(\n",
       "  (\u001b[32m\"Vanuatu\"\u001b[39m, \u001b[32m0.029411764705882353\u001b[39m),\n",
       "  (\u001b[32m\"Anguilla\"\u001b[39m, \u001b[32m0.03802281368821293\u001b[39m),\n",
       "  (\u001b[32m\"Montserrat\"\u001b[39m, \u001b[32m0.048507462686567165\u001b[39m),\n",
       "  (\u001b[32m\"Wallis_and_Futuna\"\u001b[39m, \u001b[32m0.05084745762711865\u001b[39m),\n",
       "  (\u001b[32m\"Greenland\"\u001b[39m, \u001b[32m0.07037037037037037\u001b[39m),\n",
       "  (\u001b[32m\"Falkland_Islands_(Malvinas)\"\u001b[39m, \u001b[32m0.07450980392156863\u001b[39m),\n",
       "  (\u001b[32m\"Marshall_Islands\"\u001b[39m, \u001b[32m0.0851063829787234\u001b[39m),\n",
       "  (\u001b[32m\"Holy_See\"\u001b[39m, \u001b[32m0.09454545454545454\u001b[39m),\n",
       "  (\u001b[32m\"Saint_Kitts_and_Nevis\"\u001b[39m, \u001b[32m0.10227272727272728\u001b[39m),\n",
       "  (\u001b[32m\"Timor_Leste\"\u001b[39m, \u001b[32m0.11567164179104478\u001b[39m),\n",
       "  (\u001b[32m\"New_Caledonia\"\u001b[39m, \u001b[32m0.13382899628252787\u001b[39m),\n",
       "  (\u001b[32m\"Laos\"\u001b[39m, \u001b[32m0.15471698113207547\u001b[39m),\n",
       "  (\u001b[32m\"Fiji\"\u001b[39m, \u001b[32m0.17037037037037037\u001b[39m),\n",
       "  (\u001b[32m\"Grenada\"\u001b[39m, \u001b[32m0.25842696629213485\u001b[39m),\n",
       "  (\u001b[32m\"Solomon_Islands\"\u001b[39m, \u001b[32m0.2833333333333333\u001b[39m),\n",
       "  (\u001b[32m\"British_Virgin_Islands\"\u001b[39m, \u001b[32m0.2889733840304182\u001b[39m),\n",
       "  (\u001b[32m\"Dominica\"\u001b[39m, \u001b[32m0.3258426966292135\u001b[39m),\n",
       "  (\u001b[32m\"Saint_Vincent_and_the_Grenadines\"\u001b[39m, \u001b[32m0.3684210526315789\u001b[39m),\n",
       "  (\u001b[32m\"Northern_Mariana_Islands\"\u001b[39m, \u001b[32m0.4362934362934363\u001b[39m),\n",
       "  (\u001b[32m\"Brunei_Darussalam\"\u001b[39m, \u001b[32m0.5448028673835126\u001b[39m),\n",
       "  (\u001b[32m\"Antigua_and_Barbuda\"\u001b[39m, \u001b[32m0.5481481481481482\u001b[39m),\n",
       "  (\u001b[32m\"Bonaire, Saint Eustatius and Saba\"\u001b[39m, \u001b[32m0.6731517509727627\u001b[39m),\n",
       "  (\u001b[32m\"Seychelles\"\u001b[39m, \u001b[32m0.68\u001b[39m),\n",
       "  (\u001b[32m\"Saint_Lucia\"\u001b[39m, \u001b[32m1.0\u001b[39m),\n",
       "  (\u001b[32m\"Cambodia\"\u001b[39m, \u001b[32m1.0527859237536656\u001b[39m),\n",
       "  (\u001b[32m\"Guernsey\"\u001b[39m, \u001b[32m1.0703703703703704\u001b[39m),\n",
       "  (\u001b[32m\"Barbados\"\u001b[39m, \u001b[32m1.0735294117647058\u001b[39m),\n",
       "  (\u001b[32m\"Cayman_Islands\"\u001b[39m, \u001b[32m1.1037037037037036\u001b[39m),\n",
       "  (\u001b[32m\"Isle_of_Man\"\u001b[39m, \u001b[32m1.3754646840148699\u001b[39m),\n",
       "  (\u001b[32m\"Bhutan\"\u001b[39m, \u001b[32m1.5869565217391304\u001b[39m),\n",
       "  (\u001b[32m\"Bermuda\"\u001b[39m, \u001b[32m1.5962962962962963\u001b[39m),\n",
       "  (\u001b[32m\"Faroe_Islands\"\u001b[39m, \u001b[32m1.8591549295774648\u001b[39m),\n",
       "  (\u001b[32m\"United_Republic_of_Tanzania\"\u001b[39m, \u001b[32m1.8644688644688645\u001b[39m),\n",
       "  (\u001b[32m\"Mauritius\"\u001b[39m, \u001b[32m1.9074074074074074\u001b[39m),\n",
       "  (\u001b[32m\"Monaco\"\u001b[39m, \u001b[32m1.9763313609467457\u001b[39m),\n",
       "  (\u001b[32m\"Taiwan\"\u001b[39m, \u001b[32m2.1142857142857143\u001b[39m),\n",
       "  (\u001b[32m\"Eritrea\"\u001b[39m, \u001b[32m2.6529850746268657\u001b[39m),\n",
       "  (\u001b[32m\"Papua_New_Guinea\"\u001b[39m, \u001b[32m2.6951672862453533\u001b[39m),\n",
       "..."
      ]
     },
     "execution_count": 14,
     "metadata": {},
     "output_type": "execute_result"
    }
   ],
   "source": [
    "val timeDS = spark.time(query_DS.collect)"
   ]
  },
  {
   "cell_type": "code",
   "execution_count": 15,
   "metadata": {},
   "outputs": [
    {
     "data": {
      "text/html": [
       "<div>\n",
       "  <span style=\"float: left;\">collect at cmd14.sc:1</span>\n",
       "</div>\n"
      ]
     },
     "metadata": {},
     "output_type": "display_data"
    },
    {
     "data": {
      "text/html": [
       "<div class=\"progress\">\n",
       "  <div class=\"progress-bar\" role=\"progressbar\" style=\"background-color: blue; width: 100%; word-wrap: normal; white-space: nowrap; text-align: center; color: white\" aria-valuenow=\"100\" aria-valuemin=\"0\" aria-valuemax=\"100\">\n",
       "    2 / 2\n",
       "  </div>\n",
       "  <div class=\"progress-bar\" role=\"progressbar\" style=\"background-color: red; width: 0%\" aria-valuenow=\"0\" aria-valuemin=\"0\" aria-valuemax=\"100\"></div>\n",
       "</div>\n"
      ]
     },
     "metadata": {},
     "output_type": "display_data"
    },
    {
     "data": {
      "text/html": [
       "<div>\n",
       "  <span style=\"float: left;\">collect at cmd14.sc:1</span>\n",
       "</div>\n"
      ]
     },
     "metadata": {},
     "output_type": "display_data"
    },
    {
     "data": {
      "text/html": [
       "<div class=\"progress\">\n",
       "  <div class=\"progress-bar\" role=\"progressbar\" style=\"background-color: blue; width: 100%; word-wrap: normal; white-space: nowrap; text-align: center; color: white\" aria-valuenow=\"100\" aria-valuemin=\"0\" aria-valuemax=\"100\">\n",
       "    200 / 200\n",
       "  </div>\n",
       "  <div class=\"progress-bar\" role=\"progressbar\" style=\"background-color: red; width: 0%\" aria-valuenow=\"0\" aria-valuemin=\"0\" aria-valuemax=\"100\"></div>\n",
       "</div>\n"
      ]
     },
     "metadata": {},
     "output_type": "display_data"
    },
    {
     "data": {
      "text/html": [
       "<div>\n",
       "  <span style=\"float: left;\">collect at cmd14.sc:1</span>\n",
       "</div>\n"
      ]
     },
     "metadata": {},
     "output_type": "display_data"
    },
    {
     "data": {
      "text/html": [
       "<div class=\"progress\">\n",
       "  <div class=\"progress-bar\" role=\"progressbar\" style=\"background-color: blue; width: 100%; word-wrap: normal; white-space: nowrap; text-align: center; color: white\" aria-valuenow=\"100\" aria-valuemin=\"0\" aria-valuemax=\"100\">\n",
       "    200 / 200\n",
       "  </div>\n",
       "  <div class=\"progress-bar\" role=\"progressbar\" style=\"background-color: red; width: 0%\" aria-valuenow=\"0\" aria-valuemin=\"0\" aria-valuemax=\"100\"></div>\n",
       "</div>\n"
      ]
     },
     "metadata": {},
     "output_type": "display_data"
    },
    {
     "data": {
      "text/html": [
       "<div>\n",
       "  <span style=\"float: left;\">collect at cmd14.sc:1</span>\n",
       "</div>\n"
      ]
     },
     "metadata": {},
     "output_type": "display_data"
    },
    {
     "data": {
      "text/html": [
       "<div class=\"progress\">\n",
       "  <div class=\"progress-bar\" role=\"progressbar\" style=\"background-color: blue; width: 100%; word-wrap: normal; white-space: nowrap; text-align: center; color: white\" aria-valuenow=\"100\" aria-valuemin=\"0\" aria-valuemax=\"100\">\n",
       "    200 / 200\n",
       "  </div>\n",
       "  <div class=\"progress-bar\" role=\"progressbar\" style=\"background-color: red; width: 0%\" aria-valuenow=\"0\" aria-valuemin=\"0\" aria-valuemax=\"100\"></div>\n",
       "</div>\n"
      ]
     },
     "metadata": {},
     "output_type": "display_data"
    },
    {
     "name": "stdout",
     "output_type": "stream",
     "text": [
      "Time taken: 4125 ms\n"
     ]
    },
    {
     "data": {
      "text/plain": [
       "\u001b[36mtimeDF\u001b[39m: \u001b[32mArray\u001b[39m[\u001b[32mRow\u001b[39m] = \u001b[33mArray\u001b[39m(\n",
       "  [Vanuatu,0.029411764705882353],\n",
       "  [Anguilla,0.03802281368821293],\n",
       "  [Montserrat,0.048507462686567165],\n",
       "  [Wallis_and_Futuna,0.05084745762711865],\n",
       "  [Greenland,0.07037037037037037],\n",
       "  [Falkland_Islands_(Malvinas),0.07450980392156863],\n",
       "  [Marshall_Islands,0.0851063829787234],\n",
       "  [Holy_See,0.09454545454545454],\n",
       "  [Saint_Kitts_and_Nevis,0.10227272727272728],\n",
       "  [Timor_Leste,0.11567164179104478],\n",
       "  [New_Caledonia,0.13382899628252787],\n",
       "  [Laos,0.15471698113207547],\n",
       "  [Fiji,0.17037037037037037],\n",
       "  [Grenada,0.25842696629213485],\n",
       "  [Solomon_Islands,0.2833333333333333],\n",
       "  [British_Virgin_Islands,0.2889733840304182],\n",
       "  [Dominica,0.3258426966292135],\n",
       "  [Saint_Vincent_and_the_Grenadines,0.3684210526315789],\n",
       "  [Northern_Mariana_Islands,0.4362934362934363],\n",
       "  [Brunei_Darussalam,0.5448028673835126],\n",
       "  [Antigua_and_Barbuda,0.5481481481481482],\n",
       "  [Bonaire, Saint Eustatius and Saba,0.6731517509727627],\n",
       "  [Seychelles,0.68],\n",
       "  [Saint_Lucia,1.0],\n",
       "  [Cambodia,1.0527859237536656],\n",
       "  [Guernsey,1.0703703703703704],\n",
       "  [Barbados,1.0735294117647058],\n",
       "  [Cayman_Islands,1.1037037037037036],\n",
       "  [Isle_of_Man,1.3754646840148699],\n",
       "  [Bhutan,1.5869565217391304],\n",
       "  [Bermuda,1.5962962962962963],\n",
       "  [Faroe_Islands,1.8591549295774648],\n",
       "  [United_Republic_of_Tanzania,1.8644688644688645],\n",
       "  [Mauritius,1.9074074074074074],\n",
       "  [Monaco,1.9763313609467457],\n",
       "  [Taiwan,2.1142857142857143],\n",
       "  [Eritrea,2.6529850746268657],\n",
       "  [Papua_New_Guinea,2.6951672862453533],\n",
       "..."
      ]
     },
     "execution_count": 15,
     "metadata": {},
     "output_type": "execute_result"
    }
   ],
   "source": [
    "val timeDF = spark.time(query_DF.collect)"
   ]
  },
  {
   "cell_type": "markdown",
   "metadata": {},
   "source": [
    "o bien el framework del cern que nos da más información"
   ]
  },
  {
   "cell_type": "code",
   "execution_count": 16,
   "metadata": {},
   "outputs": [
    {
     "data": {
      "text/html": [
       "<div>\n",
       "  <span style=\"float: left;\">map at cmd4.sc:4</span>\n",
       "</div>\n"
      ]
     },
     "metadata": {},
     "output_type": "display_data"
    },
    {
     "data": {
      "text/html": [
       "<div class=\"progress\">\n",
       "  <div class=\"progress-bar\" role=\"progressbar\" style=\"background-color: blue; width: 100%; word-wrap: normal; white-space: nowrap; text-align: center; color: white\" aria-valuenow=\"100\" aria-valuemin=\"0\" aria-valuemax=\"100\">\n",
       "    2 / 2\n",
       "  </div>\n",
       "  <div class=\"progress-bar\" role=\"progressbar\" style=\"background-color: red; width: 0%\" aria-valuenow=\"0\" aria-valuemin=\"0\" aria-valuemax=\"100\"></div>\n",
       "</div>\n"
      ]
     },
     "metadata": {},
     "output_type": "display_data"
    },
    {
     "data": {
      "text/html": [
       "<div>\n",
       "  <span style=\"float: left;\">sortBy at cmd4.sc:7</span>\n",
       "</div>\n"
      ]
     },
     "metadata": {},
     "output_type": "display_data"
    },
    {
     "data": {
      "text/html": [
       "<div class=\"progress\">\n",
       "  <div class=\"progress-bar\" role=\"progressbar\" style=\"background-color: blue; width: 100%; word-wrap: normal; white-space: nowrap; text-align: center; color: white\" aria-valuenow=\"100\" aria-valuemin=\"0\" aria-valuemax=\"100\">\n",
       "    2 / 2\n",
       "  </div>\n",
       "  <div class=\"progress-bar\" role=\"progressbar\" style=\"background-color: red; width: 0%\" aria-valuenow=\"0\" aria-valuemin=\"0\" aria-valuemax=\"100\"></div>\n",
       "</div>\n"
      ]
     },
     "metadata": {},
     "output_type": "display_data"
    },
    {
     "data": {
      "text/html": [
       "<div>\n",
       "  <span style=\"float: left;\">sortBy at cmd4.sc:7</span>\n",
       "</div>\n"
      ]
     },
     "metadata": {},
     "output_type": "display_data"
    },
    {
     "data": {
      "text/html": [
       "<div class=\"progress\">\n",
       "  <div class=\"progress-bar\" role=\"progressbar\" style=\"background-color: blue; width: 100%; word-wrap: normal; white-space: nowrap; text-align: center; color: white\" aria-valuenow=\"100\" aria-valuemin=\"0\" aria-valuemax=\"100\">\n",
       "    2 / 2\n",
       "  </div>\n",
       "  <div class=\"progress-bar\" role=\"progressbar\" style=\"background-color: red; width: 0%\" aria-valuenow=\"0\" aria-valuemin=\"0\" aria-valuemax=\"100\"></div>\n",
       "</div>\n"
      ]
     },
     "metadata": {},
     "output_type": "display_data"
    },
    {
     "data": {
      "text/html": [
       "<div>\n",
       "  <span style=\"float: left;\">collect at cmd15.sc:1</span>\n",
       "</div>\n"
      ]
     },
     "metadata": {},
     "output_type": "display_data"
    },
    {
     "data": {
      "text/html": [
       "<div class=\"progress\">\n",
       "  <div class=\"progress-bar\" role=\"progressbar\" style=\"background-color: blue; width: 100%; word-wrap: normal; white-space: nowrap; text-align: center; color: white\" aria-valuenow=\"100\" aria-valuemin=\"0\" aria-valuemax=\"100\">\n",
       "    2 / 2\n",
       "  </div>\n",
       "  <div class=\"progress-bar\" role=\"progressbar\" style=\"background-color: red; width: 0%\" aria-valuenow=\"0\" aria-valuemin=\"0\" aria-valuemax=\"100\"></div>\n",
       "</div>\n"
      ]
     },
     "metadata": {},
     "output_type": "display_data"
    },
    {
     "name": "stdout",
     "output_type": "stream",
     "text": [
      "Time taken: 1259 ms\n"
     ]
    },
    {
     "data": {
      "text/html": [
       "<div>\n",
       "  <span style=\"float: left;\">take at stagemetrics.scala:207</span>\n",
       "</div>\n"
      ]
     },
     "metadata": {},
     "output_type": "display_data"
    },
    {
     "data": {
      "text/html": [
       "<div class=\"progress\">\n",
       "  <div class=\"progress-bar\" role=\"progressbar\" style=\"background-color: blue; width: 100%; word-wrap: normal; white-space: nowrap; text-align: center; color: white\" aria-valuenow=\"100\" aria-valuemin=\"0\" aria-valuemax=\"100\">\n",
       "    4 / 4\n",
       "  </div>\n",
       "  <div class=\"progress-bar\" role=\"progressbar\" style=\"background-color: red; width: 0%\" aria-valuenow=\"0\" aria-valuemin=\"0\" aria-valuemax=\"100\"></div>\n",
       "</div>\n"
      ]
     },
     "metadata": {},
     "output_type": "display_data"
    },
    {
     "data": {
      "text/html": [
       "<div>\n",
       "  <span style=\"float: left;\">take at stagemetrics.scala:207</span>\n",
       "</div>\n"
      ]
     },
     "metadata": {},
     "output_type": "display_data"
    },
    {
     "data": {
      "text/html": [
       "<div class=\"progress\">\n",
       "  <div class=\"progress-bar\" role=\"progressbar\" style=\"background-color: blue; width: 100%; word-wrap: normal; white-space: nowrap; text-align: center; color: white\" aria-valuenow=\"100\" aria-valuemin=\"0\" aria-valuemax=\"100\">\n",
       "    1 / 1\n",
       "  </div>\n",
       "  <div class=\"progress-bar\" role=\"progressbar\" style=\"background-color: red; width: 0%\" aria-valuenow=\"0\" aria-valuemin=\"0\" aria-valuemax=\"100\"></div>\n",
       "</div>\n"
      ]
     },
     "metadata": {},
     "output_type": "display_data"
    },
    {
     "name": "stdout",
     "output_type": "stream",
     "text": [
      "\n",
      "Scheduling mode = FIFO\n",
      "Spark Context default degree of parallelism = 6\n",
      "Aggregated Spark stage metrics:\n",
      "numStages => 4\n",
      "numTasks => 8\n",
      "elapsedTime => 1194 (1 s)\n",
      "stageDuration => 1176 (1 s)\n",
      "executorRunTime => 2026 (2 s)\n",
      "executorCpuTime => 499 (0.5 s)\n",
      "executorDeserializeTime => 79 (79 ms)\n",
      "executorDeserializeCpuTime => 31 (31 ms)\n",
      "resultSerializationTime => 1 (1 ms)\n",
      "jvmGCTime => 0 (0 ms)\n",
      "shuffleFetchWaitTime => 0 (0 ms)\n",
      "shuffleWriteTime => 8 (8 ms)\n",
      "resultSize => 8340 (8.0 KB)\n",
      "diskBytesSpilled => 0 (0 Bytes)\n",
      "memoryBytesSpilled => 0 (0 Bytes)\n",
      "peakExecutionMemory => 453246\n",
      "recordsRead => 61900\n",
      "bytesRead => 4350839 (4.0 MB)\n",
      "recordsWritten => 0\n",
      "bytesWritten => 0 (0 Bytes)\n",
      "shuffleRecordsRead => 124014\n",
      "shuffleTotalBlocksFetched => 12\n",
      "shuffleLocalBlocksFetched => 12\n",
      "shuffleRemoteBlocksFetched => 0\n",
      "shuffleTotalBytesRead => 401372 (391.0 KB)\n",
      "shuffleLocalBytesRead => 401372 (391.0 KB)\n",
      "shuffleRemoteBytesRead => 0 (0 Bytes)\n",
      "shuffleRemoteBytesReadToDisk => 0 (0 Bytes)\n",
      "shuffleBytesWritten => 203394 (198.0 KB)\n",
      "shuffleRecordsWritten => 62114\n"
     ]
    },
    {
     "data": {
      "text/plain": [
       "\u001b[36mres15\u001b[39m: \u001b[32mArray\u001b[39m[(\u001b[32mString\u001b[39m, \u001b[32mInt\u001b[39m)] = \u001b[33mArray\u001b[39m(\n",
       "  (\u001b[32m\"Greenland\"\u001b[39m, \u001b[32m0\u001b[39m),\n",
       "  (\u001b[32m\"British_Virgin_Islands\"\u001b[39m, \u001b[32m0\u001b[39m),\n",
       "  (\u001b[32m\"\\\"Bonaire\"\u001b[39m, \u001b[32m0\u001b[39m),\n",
       "  (\u001b[32m\"Fiji\"\u001b[39m, \u001b[32m0\u001b[39m),\n",
       "  (\u001b[32m\"Vanuatu\"\u001b[39m, \u001b[32m0\u001b[39m),\n",
       "  (\u001b[32m\"Saint_Vincent_and_the_Grenadines\"\u001b[39m, \u001b[32m0\u001b[39m),\n",
       "  (\u001b[32m\"Solomon_Islands\"\u001b[39m, \u001b[32m0\u001b[39m),\n",
       "  (\u001b[32m\"Holy_See\"\u001b[39m, \u001b[32m0\u001b[39m),\n",
       "  (\u001b[32m\"Dominica\"\u001b[39m, \u001b[32m0\u001b[39m),\n",
       "  (\u001b[32m\"Wallis_and_Futuna\"\u001b[39m, \u001b[32m0\u001b[39m),\n",
       "  (\u001b[32m\"Grenada\"\u001b[39m, \u001b[32m0\u001b[39m),\n",
       "  (\u001b[32m\"Marshall_Islands\"\u001b[39m, \u001b[32m0\u001b[39m),\n",
       "  (\u001b[32m\"Anguilla\"\u001b[39m, \u001b[32m0\u001b[39m),\n",
       "  (\u001b[32m\"Timor_Leste\"\u001b[39m, \u001b[32m0\u001b[39m),\n",
       "  (\u001b[32m\"Saint_Kitts_and_Nevis\"\u001b[39m, \u001b[32m0\u001b[39m),\n",
       "  (\u001b[32m\"Falkland_Islands_(Malvinas)\"\u001b[39m, \u001b[32m0\u001b[39m),\n",
       "  (\u001b[32m\"Montserrat\"\u001b[39m, \u001b[32m0\u001b[39m),\n",
       "  (\u001b[32m\"Northern_Mariana_Islands\"\u001b[39m, \u001b[32m0\u001b[39m),\n",
       "  (\u001b[32m\"Seychelles\"\u001b[39m, \u001b[32m0\u001b[39m),\n",
       "  (\u001b[32m\"Antigua_and_Barbuda\"\u001b[39m, \u001b[32m0\u001b[39m),\n",
       "  (\u001b[32m\"Laos\"\u001b[39m, \u001b[32m0\u001b[39m),\n",
       "  (\u001b[32m\"Brunei_Darussalam\"\u001b[39m, \u001b[32m0\u001b[39m),\n",
       "  (\u001b[32m\"New_Caledonia\"\u001b[39m, \u001b[32m0\u001b[39m),\n",
       "  (\u001b[32m\"Guernsey\"\u001b[39m, \u001b[32m1\u001b[39m),\n",
       "  (\u001b[32m\"Saint_Lucia\"\u001b[39m, \u001b[32m1\u001b[39m),\n",
       "  (\u001b[32m\"Cayman_Islands\"\u001b[39m, \u001b[32m1\u001b[39m),\n",
       "  (\u001b[32m\"Bermuda\"\u001b[39m, \u001b[32m1\u001b[39m),\n",
       "  (\u001b[32m\"Isle_of_Man\"\u001b[39m, \u001b[32m1\u001b[39m),\n",
       "  (\u001b[32m\"Barbados\"\u001b[39m, \u001b[32m1\u001b[39m),\n",
       "  (\u001b[32m\"Cambodia\"\u001b[39m, \u001b[32m1\u001b[39m),\n",
       "  (\u001b[32m\"Faroe_Islands\"\u001b[39m, \u001b[32m1\u001b[39m),\n",
       "  (\u001b[32m\"Bhutan\"\u001b[39m, \u001b[32m1\u001b[39m),\n",
       "  (\u001b[32m\"Monaco\"\u001b[39m, \u001b[32m1\u001b[39m),\n",
       "  (\u001b[32m\"Mauritius\"\u001b[39m, \u001b[32m1\u001b[39m),\n",
       "  (\u001b[32m\"United_Republic_of_Tanzania\"\u001b[39m, \u001b[32m1\u001b[39m),\n",
       "  (\u001b[32m\"Papua_New_Guinea\"\u001b[39m, \u001b[32m2\u001b[39m),\n",
       "  (\u001b[32m\"Eritrea\"\u001b[39m, \u001b[32m2\u001b[39m),\n",
       "  (\u001b[32m\"Taiwan\"\u001b[39m, \u001b[32m2\u001b[39m),\n",
       "..."
      ]
     },
     "execution_count": 16,
     "metadata": {},
     "output_type": "execute_result"
    }
   ],
   "source": [
    "ch.cern.sparkmeasure.StageMetrics(spark).runAndMeasure(query_RDD.collect())"
   ]
  },
  {
   "cell_type": "code",
   "execution_count": null,
   "metadata": {},
   "outputs": [
    {
     "data": {
      "text/html": [
       "<div>\n",
       "  <span style=\"float: left;\">collect at cmd16.sc:1</span>\n",
       "</div>\n"
      ]
     },
     "metadata": {},
     "output_type": "display_data"
    },
    {
     "data": {
      "text/html": [
       "<div class=\"progress\">\n",
       "  <div class=\"progress-bar\" role=\"progressbar\" style=\"background-color: blue; width: 100%; word-wrap: normal; white-space: nowrap; text-align: center; color: white\" aria-valuenow=\"100\" aria-valuemin=\"0\" aria-valuemax=\"100\">\n",
       "    2 / 2\n",
       "  </div>\n",
       "  <div class=\"progress-bar\" role=\"progressbar\" style=\"background-color: red; width: 0%\" aria-valuenow=\"0\" aria-valuemin=\"0\" aria-valuemax=\"100\"></div>\n",
       "</div>\n"
      ]
     },
     "metadata": {},
     "output_type": "display_data"
    },
    {
     "data": {
      "text/html": [
       "<div>\n",
       "  <span style=\"float: left; word-wrap: normal; white-space: nowrap; text-align: center\">collect at cmd16.sc:1</span>\n",
       "  <span style=\"float: right; word-wrap: normal; white-space: nowrap; text-align: center\"><a href=\"#\" onclick=\"cancelStage(40);\">(kill)</a></span>\n",
       "</div>\n",
       "<br>\n"
      ]
     },
     "metadata": {},
     "output_type": "display_data"
    },
    {
     "data": {
      "text/html": [
       "<div class=\"progress\">\n",
       "  <div class=\"progress-bar\" role=\"progressbar\" style=\"background-color: blue; width: 69%; word-wrap: normal; white-space: nowrap; text-align: center; color: white\" aria-valuenow=\"69\" aria-valuemin=\"0\" aria-valuemax=\"100\">\n",
       "    137 + 7 / 200\n",
       "  </div>\n",
       "  <div class=\"progress-bar\" role=\"progressbar\" style=\"background-color: red; width: 4%\" aria-valuenow=\"4\" aria-valuemin=\"0\" aria-valuemax=\"100\"></div>\n",
       "</div>\n"
      ]
     },
     "metadata": {},
     "output_type": "display_data"
    }
   ],
   "source": [
    "ch.cern.sparkmeasure.StageMetrics(spark).runAndMeasure(query_DS.collect)"
   ]
  },
  {
   "cell_type": "code",
   "execution_count": null,
   "metadata": {},
   "outputs": [],
   "source": [
    "ch.cern.sparkmeasure.StageMetrics(spark).runAndMeasure(query_DF.collect)"
   ]
  },
  {
   "cell_type": "markdown",
   "metadata": {},
   "source": [
    "# 6. Visualización de datos"
   ]
  },
  {
   "cell_type": "code",
   "execution_count": null,
   "metadata": {},
   "outputs": [],
   "source": [
    "val (x,y) = query_DF\n",
    "    .collect\n",
    "    .map(r=>(r(0).toString, r(1).toString.toDouble))\n",
    "    .toList\n",
    "    .unzip\n",
    "Bar(x, y).plot()"
   ]
  }
 ],
 "metadata": {
  "kernelspec": {
   "display_name": "Scala 2.12",
   "language": "scala",
   "name": "scala212"
  },
  "language_info": {
   "codemirror_mode": "text/x-scala",
   "file_extension": ".scala",
   "mimetype": "text/x-scala",
   "name": "scala",
   "nbconvert_exporter": "script",
   "version": "2.12.10"
  }
 },
 "nbformat": 4,
 "nbformat_minor": 4
}
