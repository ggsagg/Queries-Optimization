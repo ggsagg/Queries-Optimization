{
 "cells": [
  {
   "cell_type": "code",
   "execution_count": null,
   "metadata": {},
   "outputs": [],
   "source": [
    "import $file.common\n",
    "import spark._\n",
    "import common._\n",
    "import org.apache.spark.sql.functions._\n",
    "import org.apache.spark.sql.types.{IntegerType, StringType, StructType}\n",
    "import spark.implicits._\n",
    "import spark.sqlContext.implicits._"
   ]
  },
  {
   "cell_type": "code",
   "execution_count": null,
   "metadata": {},
   "outputs": [],
   "source": [
    "import plotly._\n",
    "import plotly.element._\n",
    "import plotly.layout._\n",
    "import plotly.Almond._"
   ]
  },
  {
   "cell_type": "markdown",
   "metadata": {},
   "source": [
    "# Query 3 y 4:\n",
    "\n",
    "Se han unificado estas consultas porque comparten gran parte de su construcción y trabajan sobre los mismos conjuntos de datos. En estas consultas se trabaja con los datasets de infecciones diarias reportadas por país y con las tablas de datos demográficos.\n",
    "\n",
    "### Query 3: Infecciones por número de habitante\n",
    "\n",
    "El objetivo de esta consulta es determinar el número de infecciones con respecto a la densidad de población por país. Para ello:\n",
    "\n",
    "    - Se cruzan los datos entre las infecciones diarias y los datos demográficos por país.\n",
    "    - Se obtiene la tasa de casos entre el número de habitantes para cada día.\n",
    "    - Se calcula la media de infectados por densidad de población.\n",
    "    \n",
    "De esta manera podremos observar la media de infectados diarios por densidad de población.\n",
    "\n",
    "### Query 4: Tasa diaria de infectados\n",
    "\n",
    "Esta consulta es similar a la anterior, pero obtiene la tasa de infecciones diarias, de manera que podamos acceder a las fechas más criticas de la enfermedad por país. Para ello:\n",
    "\n",
    "    - Se cruzan los datos entre las infecciones diarias y los datos demográficos por país.\n",
    "    - Se obtiene la tasa de casos entre el número de habitantes para cada día.\n",
    "    - Se ordenan los datos en funcion de la fecha\n",
    "    \n",
    "Así podremos observar la evolución de la enfermedad con respecto al calendario\n"
   ]
  },
  {
   "cell_type": "markdown",
   "metadata": {},
   "source": [
    "## 1. Consulta con DataSet"
   ]
  },
  {
   "cell_type": "code",
   "execution_count": null,
   "metadata": {},
   "outputs": [],
   "source": [
    "val infectionDS = spark.read\n",
    "    .option(\"header\", \"true\")\n",
    "    .option(\"charset\", \"UTF8\")\n",
    "    .option(\"delimiter\",\",\")\n",
    "    .option(\"inferSchema\", \"true\")\n",
    "    .csv(\"../datasets/covidworldwide.csv\")\n",
    "    .withColumnRenamed(\"countriesAndTerritories\",\"Country\")\n",
    "    .as[(String,String,String,String,Double,Double,String,String,String,String,String,String)]"
   ]
  },
  {
   "cell_type": "code",
   "execution_count": null,
   "metadata": {},
   "outputs": [],
   "source": [
    "val populationDS = spark.read\n",
    "    .option(\"header\", \"true\")\n",
    "    .option(\"charset\", \"UTF8\")\n",
    "    .option(\"delimiter\",\",\")\n",
    "    .option(\"inferSchema\", \"true\")\n",
    "    .csv(\"../datasets/population_by_country_2020.csv\")\n",
    "    .withColumnRenamed(\"Country (or dependency)\",\"Country\")\n",
    "    .withColumnRenamed(\"Population (2020)\",\"Population\")\n",
    "    .as[(String,Float,String,Float,Float,Float,Double,String,String,String,String)]"
   ]
  },
  {
   "cell_type": "markdown",
   "metadata": {},
   "source": [
    "### 1.1 Media diaria de infecciones por número de habitante"
   ]
  },
  {
   "cell_type": "code",
   "execution_count": null,
   "metadata": {},
   "outputs": [],
   "source": [
    "def query_3_DS = \n",
    "    infectionDS.join(populationDS, \"Country\")\n",
    "            .select($\"Country\",\n",
    "                    $\"dateRep\" as \"date\",\n",
    "                    $\"cases\",\n",
    "                    $\"Land Area (Km\\u00b2)\",\n",
    "                   $\"cases\" / $\"Population\" as \"infection Per Population\")\n",
    "            .groupBy(\"country\")\n",
    "            .avg(\"infection Per Population\")\n",
    "            .orderBy(desc(\"avg(infection Per Population)\"))\n",
    "            .as[(String,Double)]"
   ]
  },
  {
   "cell_type": "markdown",
   "metadata": {},
   "source": [
    "### 1.2 Porcentaje diario de infectados"
   ]
  },
  {
   "cell_type": "code",
   "execution_count": null,
   "metadata": {},
   "outputs": [],
   "source": [
    "def query_4_DS = \n",
    "    infectionDS.join(populationDS, \"Country\")\n",
    "            .select($\"Country\",\n",
    "                    $\"dateRep\" as \"date\",\n",
    "                    $\"cases\",\n",
    "                    $\"Land Area (Km\\u00b2)\",\n",
    "                   $\"cases\" / $\"Population\" as \"infection Per Population\")\n",
    "            .orderBy($\"date\")\n",
    "            .as[(String,String,Int,String,Double)]"
   ]
  },
  {
   "cell_type": "markdown",
   "metadata": {},
   "source": [
    "## 2 Consulta con DataFrame"
   ]
  },
  {
   "cell_type": "code",
   "execution_count": null,
   "metadata": {},
   "outputs": [],
   "source": [
    "val dfCovid = spark.read\n",
    "    .option(\"header\", \"true\")\n",
    "    .option(\"charset\", \"UTF8\")\n",
    "    .option(\"delimiter\",\",\")\n",
    "    .option(\"inferSchema\", \"true\")\n",
    "    .csv(\"../datasets/covidworldwide.csv\")"
   ]
  },
  {
   "cell_type": "code",
   "execution_count": null,
   "metadata": {},
   "outputs": [],
   "source": [
    "val dfPopulation = spark.read\n",
    "    .option(\"header\", \"true\")\n",
    "    .option(\"charset\", \"UTF8\")\n",
    "    .option(\"delimiter\",\",\")\n",
    "    .option(\"inferSchema\", \"true\")\n",
    "    .csv(\"../datasets/population_by_country_2020.csv\")\n",
    "    .withColumnRenamed(\"Country (or dependency)\",\"Country\")\n",
    "    .withColumnRenamed(\"Population (2020)\",\"Population\")"
   ]
  },
  {
   "cell_type": "markdown",
   "metadata": {},
   "source": [
    "Modifico los datos de entrada para que el formato fecha se adecue al TimeStamp de Spark"
   ]
  },
  {
   "cell_type": "code",
   "execution_count": null,
   "metadata": {},
   "outputs": [],
   "source": [
    "def dfCovidClean = dfCovid\n",
    "    .select($\"*\",$\"dateRep\",translate($\"dateRep\",\"/\",\"-\").as(\"date\"))\n",
    "    .drop(\"dateRep\")"
   ]
  },
  {
   "cell_type": "code",
   "execution_count": null,
   "metadata": {},
   "outputs": [],
   "source": [
    "def dfCovidDate = dfCovidClean\n",
    "    .select($\"*\",col(\"date\"),to_date(col(\"date\"),\"dd-MM-yyyy\").as(\"to_date\"))"
   ]
  },
  {
   "cell_type": "markdown",
   "metadata": {},
   "source": [
    "### 2.1 Media diaria de infecciones por número de habitante"
   ]
  },
  {
   "cell_type": "code",
   "execution_count": null,
   "metadata": {},
   "outputs": [],
   "source": [
    "def query_3_DF = dfCovid.join(dfPopulation, $\"country\" === $\"countriesAndTerritories\")\n",
    "        .select($\"country\",\n",
    "                $\"dateRep\" as \"date\",\n",
    "                $\"cases\",\n",
    "                $\"Population\",\n",
    "                $\"cases\" / $\"Population\" as \"infection Per Population\")\n",
    "        .groupBy(\"country\")\n",
    "        .avg(\"infection Per Population\")\n",
    "        .orderBy(desc(\"avg(infection Per Population)\"))"
   ]
  },
  {
   "cell_type": "markdown",
   "metadata": {},
   "source": [
    "### 2.2 Porcentaje diario de infectados"
   ]
  },
  {
   "cell_type": "code",
   "execution_count": null,
   "metadata": {},
   "outputs": [],
   "source": [
    "def query_4_DF =\n",
    "dfCovidDate.join(dfPopulation, $\"country\" === $\"countriesAndTerritories\")\n",
    "        .select($\"country\",\n",
    "                $\"to_date\",\n",
    "                $\"day\",\n",
    "                $\"month\",\n",
    "                $\"cases\",\n",
    "                $\"Population\",\n",
    "                $\"cases\" / $\"Population\" as \"infection Per Population\")\n",
    "        .orderBy($\"to_date\".asc)"
   ]
  },
  {
   "cell_type": "markdown",
   "metadata": {},
   "source": [
    "## 3. Visualización de rendimiento"
   ]
  },
  {
   "cell_type": "code",
   "execution_count": null,
   "metadata": {},
   "outputs": [],
   "source": [
    "val (x, y) = Seq(\n",
    "    \"DataSet 3\" -> runWithOutput(query_3_DS.collect),\n",
    "    \"DataSet 4\" -> runWithOutput(query_4_DS.collect),    \n",
    "    \"DataFrame 3\" -> runWithOutput(query_3_DS.collect),\n",
    "    \"DataFrame 4\" -> runWithOutput(query_4_DS.collect),\n",
    ").unzip\n",
    "\n",
    "Bar(x, y).plot()"
   ]
  },
  {
   "cell_type": "markdown",
   "metadata": {},
   "source": [
    "## 4. Comparativa de rendimiento"
   ]
  },
  {
   "cell_type": "code",
   "execution_count": null,
   "metadata": {},
   "outputs": [],
   "source": [
    "ch.cern.sparkmeasure.StageMetrics(spark).runAndMeasure(query_3_DS.collect)"
   ]
  },
  {
   "cell_type": "code",
   "execution_count": null,
   "metadata": {},
   "outputs": [],
   "source": [
    "ch.cern.sparkmeasure.StageMetrics(spark).runAndMeasure(query_4_DS.collect)"
   ]
  },
  {
   "cell_type": "code",
   "execution_count": null,
   "metadata": {},
   "outputs": [],
   "source": [
    "ch.cern.sparkmeasure.StageMetrics(spark).runAndMeasure(query_3_DF.collect)"
   ]
  },
  {
   "cell_type": "code",
   "execution_count": null,
   "metadata": {},
   "outputs": [],
   "source": [
    "ch.cern.sparkmeasure.StageMetrics(spark).runAndMeasure(query_4_DF.collect)"
   ]
  },
  {
   "cell_type": "markdown",
   "metadata": {},
   "source": [
    "## 5. Visualización de datos con plotly"
   ]
  },
  {
   "cell_type": "markdown",
   "metadata": {},
   "source": [
    "### Media de infecciones por densidad de población"
   ]
  },
  {
   "cell_type": "code",
   "execution_count": null,
   "metadata": {},
   "outputs": [],
   "source": [
    "val (x,y) = query_3_DF.collect.map(r=>(r(0).toString, r(1).toString)).toList.unzip\n",
    "Bar(x, y).plot()"
   ]
  },
  {
   "cell_type": "markdown",
   "metadata": {},
   "source": [
    "### Porcentaje diario de infectados en España"
   ]
  },
  {
   "cell_type": "code",
   "execution_count": null,
   "metadata": {},
   "outputs": [],
   "source": [
    "val (x,y) = query_4_DF\n",
    "    .filter($\"country\" === \"Spain\")\n",
    "    .collect+\n",
    "    .map(r=>(r(1).toString, r(6).toString))\n",
    "    .toList\n",
    "    .unzip\n",
    "Bar(x, y).plot()"
   ]
  },
  {
   "cell_type": "markdown",
   "metadata": {},
   "source": [
    "### Comparacion entre paises de crecimiento de la enfermedad"
   ]
  },
  {
   "cell_type": "code",
   "execution_count": null,
   "metadata": {},
   "outputs": [],
   "source": [
    "val y = query_4_DF\n",
    "    .filter($\"country\" === \"Spain\")\n",
    "    .select($\"infection Per Population\")\n",
    "    .collect\n",
    "    .map(r => r(0).toString.toDouble)\n",
    "    .toList\n",
    "\n",
    "val x = query_4_DF\n",
    "    .filter($\"country\" === \"Spain\")\n",
    "    .select($\"to_date\")\n",
    "    .collect\n",
    "    .toList\n",
    "    .map(_.toString)\n",
    "\n",
    "val y1 = query_4_DF\n",
    "    .filter($\"country\" === \"Italy\")\n",
    "    .select($\"infection Per Population\")\n",
    "    .collect\n",
    "    .map(r => r(0).toString.toDouble)\n",
    "    .toList\n",
    "\n",
    "val x1 = query_4_DF\n",
    "    .filter($\"country\" === \"Italy\")\n",
    "    .select($\"to_date\")\n",
    "    .collect\n",
    "    .toList\n",
    "    .map(_.toString)\n",
    "\n",
    "val data = Seq(\n",
    "        Scatter(x,y).withName(\"Spain\"),\n",
    "        Scatter(x1,y1,mode = ScatterMode(ScatterMode.Lines),\n",
    "        line = Line(color = Color.StringColor(\"#7F7F7F\"))).withName(\"Italy\"))\n",
    "    .map(_.withFill(Fill.ToNextY)\n",
    "    .withStackgroup(\"A\"))\n",
    "\n",
    "plot(data)"
   ]
  }
 ],
 "metadata": {
  "kernelspec": {
   "display_name": "Scala 2.12",
   "language": "scala",
   "name": "scala212"
  },
  "language_info": {
   "codemirror_mode": "text/x-scala",
   "file_extension": ".scala",
   "mimetype": "text/x-scala",
   "name": "scala",
   "nbconvert_exporter": "script",
   "version": "2.12.10"
  }
 },
 "nbformat": 4,
 "nbformat_minor": 4
}
