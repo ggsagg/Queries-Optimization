{
 "cells": [
  {
   "cell_type": "code",
   "execution_count": 1,
   "metadata": {},
   "outputs": [
    {
     "name": "stdout",
     "output_type": "stream",
     "text": [
      "Loading spark-stubs\n",
      "Getting spark JARs\n"
     ]
    },
    {
     "name": "stderr",
     "output_type": "stream",
     "text": [
      "log4j:WARN No appenders could be found for logger (org.eclipse.jetty.util.log).\n",
      "log4j:WARN Please initialize the log4j system properly.\n",
      "log4j:WARN See http://logging.apache.org/log4j/1.2/faq.html#noconfig for more info.\n"
     ]
    },
    {
     "name": "stdout",
     "output_type": "stream",
     "text": [
      "Creating SparkSession\n"
     ]
    },
    {
     "name": "stderr",
     "output_type": "stream",
     "text": [
      "Using Spark's default log4j profile: org/apache/spark/log4j-defaults.properties\n",
      "21/06/21 17:24:30 INFO SparkContext: Running Spark version 2.4.5\n",
      "21/06/21 17:24:30 WARN NativeCodeLoader: Unable to load native-hadoop library for your platform... using builtin-java classes where applicable\n",
      "21/06/21 17:24:30 INFO SparkContext: Submitted application: Queries Optimization\n",
      "21/06/21 17:24:30 INFO SecurityManager: Changing view acls to: jovyan\n",
      "21/06/21 17:24:30 INFO SecurityManager: Changing modify acls to: jovyan\n",
      "21/06/21 17:24:30 INFO SecurityManager: Changing view acls groups to: \n",
      "21/06/21 17:24:30 INFO SecurityManager: Changing modify acls groups to: \n",
      "21/06/21 17:24:30 INFO SecurityManager: SecurityManager: authentication disabled; ui acls disabled; users  with view permissions: Set(jovyan); groups with view permissions: Set(); users  with modify permissions: Set(jovyan); groups with modify permissions: Set()\n",
      "21/06/21 17:24:31 INFO Utils: Successfully started service 'sparkDriver' on port 46835.\n",
      "21/06/21 17:24:31 INFO SparkEnv: Registering MapOutputTracker\n",
      "21/06/21 17:24:31 INFO SparkEnv: Registering BlockManagerMaster\n",
      "21/06/21 17:24:31 INFO BlockManagerMasterEndpoint: Using org.apache.spark.storage.DefaultTopologyMapper for getting topology information\n",
      "21/06/21 17:24:31 INFO BlockManagerMasterEndpoint: BlockManagerMasterEndpoint up\n",
      "21/06/21 17:24:31 INFO DiskBlockManager: Created local directory at /tmp/blockmgr-fff3184c-529a-44f9-b10d-10766171b04f\n",
      "21/06/21 17:24:31 INFO MemoryStore: MemoryStore started with capacity 366.3 MB\n",
      "21/06/21 17:24:31 INFO SparkEnv: Registering OutputCommitCoordinator\n",
      "21/06/21 17:24:31 INFO Utils: Successfully started service 'SparkUI' on port 4040.\n",
      "21/06/21 17:24:31 INFO SparkUI: Bound SparkUI to 0.0.0.0, and started at http://78bc456d126e:4040\n",
      "21/06/21 17:24:31 INFO SparkContext: Added JAR file:/home/jovyan/.cache/coursier/v1/https/jitpack.io/com/github/jupyter/jvm-repr/0.4.0/jvm-repr-0.4.0-sources.jar at spark://78bc456d126e:46835/jars/jvm-repr-0.4.0-sources.jar with timestamp 1624296271640\n",
      "21/06/21 17:24:31 INFO SparkContext: Added JAR file:/home/jovyan/.cache/coursier/v1/https/jitpack.io/com/github/jupyter/jvm-repr/0.4.0/jvm-repr-0.4.0.jar at spark://78bc456d126e:46835/jars/jvm-repr-0.4.0.jar with timestamp 1624296271641\n",
      "21/06/21 17:24:31 INFO SparkContext: Added JAR file:/home/jovyan/.cache/coursier/v1/https/repo1.maven.org/maven2/com/github/scopt/scopt_2.12/3.7.1/scopt_2.12-3.7.1-sources.jar at spark://78bc456d126e:46835/jars/scopt_2.12-3.7.1-sources.jar with timestamp 1624296271641\n",
      "21/06/21 17:24:31 INFO SparkContext: Added JAR file:/home/jovyan/.cache/coursier/v1/https/repo1.maven.org/maven2/com/github/scopt/scopt_2.12/3.7.1/scopt_2.12-3.7.1.jar at spark://78bc456d126e:46835/jars/scopt_2.12-3.7.1.jar with timestamp 1624296271641\n",
      "21/06/21 17:24:31 INFO SparkContext: Added JAR file:/home/jovyan/.cache/coursier/v1/https/repo1.maven.org/maven2/com/lihaoyi/ammonite-interp-api_2.12.10/1.7.4/ammonite-interp-api_2.12.10-1.7.4-sources.jar at spark://78bc456d126e:46835/jars/ammonite-interp-api_2.12.10-1.7.4-sources.jar with timestamp 1624296271641\n",
      "21/06/21 17:24:31 INFO SparkContext: Added JAR file:/home/jovyan/.cache/coursier/v1/https/repo1.maven.org/maven2/com/lihaoyi/ammonite-interp-api_2.12.10/1.7.4/ammonite-interp-api_2.12.10-1.7.4.jar at spark://78bc456d126e:46835/jars/ammonite-interp-api_2.12.10-1.7.4.jar with timestamp 1624296271642\n",
      "21/06/21 17:24:31 INFO SparkContext: Added JAR file:/home/jovyan/.cache/coursier/v1/https/repo1.maven.org/maven2/com/lihaoyi/ammonite-ops_2.12/1.7.4/ammonite-ops_2.12-1.7.4-sources.jar at spark://78bc456d126e:46835/jars/ammonite-ops_2.12-1.7.4-sources.jar with timestamp 1624296271642\n",
      "21/06/21 17:24:31 INFO SparkContext: Added JAR file:/home/jovyan/.cache/coursier/v1/https/repo1.maven.org/maven2/com/lihaoyi/ammonite-ops_2.12/1.7.4/ammonite-ops_2.12-1.7.4.jar at spark://78bc456d126e:46835/jars/ammonite-ops_2.12-1.7.4.jar with timestamp 1624296271642\n",
      "21/06/21 17:24:31 INFO SparkContext: Added JAR file:/home/jovyan/.cache/coursier/v1/https/repo1.maven.org/maven2/com/lihaoyi/ammonite-repl-api_2.12.10/1.7.4/ammonite-repl-api_2.12.10-1.7.4-sources.jar at spark://78bc456d126e:46835/jars/ammonite-repl-api_2.12.10-1.7.4-sources.jar with timestamp 1624296271642\n",
      "21/06/21 17:24:31 INFO SparkContext: Added JAR file:/home/jovyan/.cache/coursier/v1/https/repo1.maven.org/maven2/com/lihaoyi/ammonite-repl-api_2.12.10/1.7.4/ammonite-repl-api_2.12.10-1.7.4.jar at spark://78bc456d126e:46835/jars/ammonite-repl-api_2.12.10-1.7.4.jar with timestamp 1624296271642\n",
      "21/06/21 17:24:31 INFO SparkContext: Added JAR file:/home/jovyan/.cache/coursier/v1/https/repo1.maven.org/maven2/com/lihaoyi/ammonite-util_2.12/1.7.4/ammonite-util_2.12-1.7.4-sources.jar at spark://78bc456d126e:46835/jars/ammonite-util_2.12-1.7.4-sources.jar with timestamp 1624296271642\n",
      "21/06/21 17:24:31 INFO SparkContext: Added JAR file:/home/jovyan/.cache/coursier/v1/https/repo1.maven.org/maven2/com/lihaoyi/ammonite-util_2.12/1.7.4/ammonite-util_2.12-1.7.4.jar at spark://78bc456d126e:46835/jars/ammonite-util_2.12-1.7.4.jar with timestamp 1624296271642\n",
      "21/06/21 17:24:31 INFO SparkContext: Added JAR file:/home/jovyan/.cache/coursier/v1/https/repo1.maven.org/maven2/com/lihaoyi/fansi_2.12/0.2.7/fansi_2.12-0.2.7-sources.jar at spark://78bc456d126e:46835/jars/fansi_2.12-0.2.7-sources.jar with timestamp 1624296271642\n",
      "21/06/21 17:24:31 INFO SparkContext: Added JAR file:/home/jovyan/.cache/coursier/v1/https/repo1.maven.org/maven2/com/lihaoyi/fansi_2.12/0.2.7/fansi_2.12-0.2.7.jar at spark://78bc456d126e:46835/jars/fansi_2.12-0.2.7.jar with timestamp 1624296271643\n",
      "21/06/21 17:24:31 INFO SparkContext: Added JAR file:/home/jovyan/.cache/coursier/v1/https/repo1.maven.org/maven2/com/lihaoyi/geny_2.12/0.1.8/geny_2.12-0.1.8-sources.jar at spark://78bc456d126e:46835/jars/geny_2.12-0.1.8-sources.jar with timestamp 1624296271643\n",
      "21/06/21 17:24:31 INFO SparkContext: Added JAR file:/home/jovyan/.cache/coursier/v1/https/repo1.maven.org/maven2/com/lihaoyi/geny_2.12/0.1.8/geny_2.12-0.1.8.jar at spark://78bc456d126e:46835/jars/geny_2.12-0.1.8.jar with timestamp 1624296271643\n",
      "21/06/21 17:24:31 INFO SparkContext: Added JAR file:/home/jovyan/.cache/coursier/v1/https/repo1.maven.org/maven2/com/lihaoyi/os-lib_2.12/0.3.0/os-lib_2.12-0.3.0-sources.jar at spark://78bc456d126e:46835/jars/os-lib_2.12-0.3.0-sources.jar with timestamp 1624296271643\n",
      "21/06/21 17:24:31 INFO SparkContext: Added JAR file:/home/jovyan/.cache/coursier/v1/https/repo1.maven.org/maven2/com/lihaoyi/os-lib_2.12/0.3.0/os-lib_2.12-0.3.0.jar at spark://78bc456d126e:46835/jars/os-lib_2.12-0.3.0.jar with timestamp 1624296271643\n",
      "21/06/21 17:24:31 INFO SparkContext: Added JAR file:/home/jovyan/.cache/coursier/v1/https/repo1.maven.org/maven2/com/lihaoyi/pprint_2.12/0.5.5/pprint_2.12-0.5.5-sources.jar at spark://78bc456d126e:46835/jars/pprint_2.12-0.5.5-sources.jar with timestamp 1624296271643\n",
      "21/06/21 17:24:31 INFO SparkContext: Added JAR file:/home/jovyan/.cache/coursier/v1/https/repo1.maven.org/maven2/com/lihaoyi/pprint_2.12/0.5.5/pprint_2.12-0.5.5.jar at spark://78bc456d126e:46835/jars/pprint_2.12-0.5.5.jar with timestamp 1624296271643\n",
      "21/06/21 17:24:31 INFO SparkContext: Added JAR file:/home/jovyan/.cache/coursier/v1/https/repo1.maven.org/maven2/com/lihaoyi/sourcecode_2.12/0.1.7/sourcecode_2.12-0.1.7-sources.jar at spark://78bc456d126e:46835/jars/sourcecode_2.12-0.1.7-sources.jar with timestamp 1624296271643\n",
      "21/06/21 17:24:31 INFO SparkContext: Added JAR file:/home/jovyan/.cache/coursier/v1/https/repo1.maven.org/maven2/com/lihaoyi/sourcecode_2.12/0.1.7/sourcecode_2.12-0.1.7.jar at spark://78bc456d126e:46835/jars/sourcecode_2.12-0.1.7.jar with timestamp 1624296271643\n",
      "21/06/21 17:24:31 INFO SparkContext: Added JAR file:/home/jovyan/.cache/coursier/v1/https/repo1.maven.org/maven2/io/get-coursier/interface/0.0.12/interface-0.0.12-sources.jar at spark://78bc456d126e:46835/jars/interface-0.0.12-sources.jar with timestamp 1624296271644\n",
      "21/06/21 17:24:31 INFO SparkContext: Added JAR file:/home/jovyan/.cache/coursier/v1/https/repo1.maven.org/maven2/io/get-coursier/interface/0.0.12/interface-0.0.12.jar at spark://78bc456d126e:46835/jars/interface-0.0.12.jar with timestamp 1624296271644\n"
     ]
    },
    {
     "name": "stderr",
     "output_type": "stream",
     "text": [
      "21/06/21 17:24:31 INFO SparkContext: Added JAR file:/home/jovyan/.cache/coursier/v1/https/repo1.maven.org/maven2/org/scala-lang/modules/scala-collection-compat_2.12/2.0.0/scala-collection-compat_2.12-2.0.0-sources.jar at spark://78bc456d126e:46835/jars/scala-collection-compat_2.12-2.0.0-sources.jar with timestamp 1624296271644\n",
      "21/06/21 17:24:31 INFO SparkContext: Added JAR file:/home/jovyan/.cache/coursier/v1/https/repo1.maven.org/maven2/org/scala-lang/modules/scala-collection-compat_2.12/2.0.0/scala-collection-compat_2.12-2.0.0.jar at spark://78bc456d126e:46835/jars/scala-collection-compat_2.12-2.0.0.jar with timestamp 1624296271644\n",
      "21/06/21 17:24:31 INFO SparkContext: Added JAR file:/home/jovyan/.cache/coursier/v1/https/repo1.maven.org/maven2/org/scala-lang/modules/scala-xml_2.12/1.2.0/scala-xml_2.12-1.2.0-sources.jar at spark://78bc456d126e:46835/jars/scala-xml_2.12-1.2.0-sources.jar with timestamp 1624296271644\n",
      "21/06/21 17:24:31 INFO SparkContext: Added JAR file:/home/jovyan/.cache/coursier/v1/https/repo1.maven.org/maven2/org/scala-lang/modules/scala-xml_2.12/1.2.0/scala-xml_2.12-1.2.0.jar at spark://78bc456d126e:46835/jars/scala-xml_2.12-1.2.0.jar with timestamp 1624296271645\n",
      "21/06/21 17:24:31 INFO SparkContext: Added JAR file:/home/jovyan/.cache/coursier/v1/https/repo1.maven.org/maven2/org/scala-lang/scala-compiler/2.12.10/scala-compiler-2.12.10-sources.jar at spark://78bc456d126e:46835/jars/scala-compiler-2.12.10-sources.jar with timestamp 1624296271645\n",
      "21/06/21 17:24:31 INFO SparkContext: Added JAR file:/home/jovyan/.cache/coursier/v1/https/repo1.maven.org/maven2/org/scala-lang/scala-library/2.12.10/scala-library-2.12.10-sources.jar at spark://78bc456d126e:46835/jars/scala-library-2.12.10-sources.jar with timestamp 1624296271645\n",
      "21/06/21 17:24:31 INFO SparkContext: Added JAR file:/home/jovyan/.cache/coursier/v1/https/repo1.maven.org/maven2/org/scala-lang/scala-reflect/2.12.10/scala-reflect-2.12.10-sources.jar at spark://78bc456d126e:46835/jars/scala-reflect-2.12.10-sources.jar with timestamp 1624296271645\n",
      "21/06/21 17:24:31 INFO SparkContext: Added JAR file:/home/jovyan/.cache/coursier/v1/https/repo1.maven.org/maven2/sh/almond/interpreter-api_2.12/0.9.1/interpreter-api_2.12-0.9.1-sources.jar at spark://78bc456d126e:46835/jars/interpreter-api_2.12-0.9.1-sources.jar with timestamp 1624296271645\n",
      "21/06/21 17:24:31 INFO SparkContext: Added JAR file:/home/jovyan/.cache/coursier/v1/https/repo1.maven.org/maven2/sh/almond/interpreter-api_2.12/0.9.1/interpreter-api_2.12-0.9.1.jar at spark://78bc456d126e:46835/jars/interpreter-api_2.12-0.9.1.jar with timestamp 1624296271646\n",
      "21/06/21 17:24:31 INFO SparkContext: Added JAR file:/home/jovyan/.cache/coursier/v1/https/repo1.maven.org/maven2/sh/almond/jupyter-api_2.12/0.9.1/jupyter-api_2.12-0.9.1-sources.jar at spark://78bc456d126e:46835/jars/jupyter-api_2.12-0.9.1-sources.jar with timestamp 1624296271646\n",
      "21/06/21 17:24:31 INFO SparkContext: Added JAR file:/home/jovyan/.cache/coursier/v1/https/repo1.maven.org/maven2/sh/almond/jupyter-api_2.12/0.9.1/jupyter-api_2.12-0.9.1.jar at spark://78bc456d126e:46835/jars/jupyter-api_2.12-0.9.1.jar with timestamp 1624296271647\n",
      "21/06/21 17:24:31 INFO SparkContext: Added JAR file:/home/jovyan/.cache/coursier/v1/https/repo1.maven.org/maven2/sh/almond/scala-kernel-api_2.12.10/0.9.1/scala-kernel-api_2.12.10-0.9.1-sources.jar at spark://78bc456d126e:46835/jars/scala-kernel-api_2.12.10-0.9.1-sources.jar with timestamp 1624296271647\n",
      "21/06/21 17:24:31 INFO SparkContext: Added JAR file:/home/jovyan/.cache/coursier/v1/https/repo1.maven.org/maven2/sh/almond/scala-kernel-api_2.12.10/0.9.1/scala-kernel-api_2.12.10-0.9.1.jar at spark://78bc456d126e:46835/jars/scala-kernel-api_2.12.10-0.9.1.jar with timestamp 1624296271648\n",
      "21/06/21 17:24:31 INFO SparkContext: Added JAR file:/home/jovyan/.local/share/jupyter/kernels/scala212/launcher.jar at spark://78bc456d126e:46835/jars/launcher.jar with timestamp 1624296271648\n",
      "21/06/21 17:24:31 INFO SparkContext: Added JAR file:/home/jovyan/.cache/coursier/v1/https/repo1.maven.org/maven2/org/scala-lang/scala-reflect/2.12.1/scala-reflect-2.12.1.jar at spark://78bc456d126e:46835/jars/scala-reflect-2.12.1.jar with timestamp 1624296271648\n",
      "21/06/21 17:24:31 INFO SparkContext: Added JAR file:/home/jovyan/.cache/coursier/v1/https/repo1.maven.org/maven2/org/plotly-scala/plotly-core_2.12/0.8.1/plotly-core_2.12-0.8.1.jar at spark://78bc456d126e:46835/jars/plotly-core_2.12-0.8.1.jar with timestamp 1624296271648\n",
      "21/06/21 17:24:31 INFO SparkContext: Added JAR file:/home/jovyan/.cache/coursier/v1/https/repo1.maven.org/maven2/org/plotly-scala/plotly-render_2.12/0.8.1/plotly-render_2.12-0.8.1.jar at spark://78bc456d126e:46835/jars/plotly-render_2.12-0.8.1.jar with timestamp 1624296271649\n",
      "21/06/21 17:24:31 INFO SparkContext: Added JAR file:/home/jovyan/.cache/coursier/v1/https/repo1.maven.org/maven2/org/plotly-scala/plotly-almond_2.12/0.8.1/plotly-almond_2.12-0.8.1.jar at spark://78bc456d126e:46835/jars/plotly-almond_2.12-0.8.1.jar with timestamp 1624296271649\n",
      "21/06/21 17:24:31 INFO SparkContext: Added JAR file:/home/jovyan/.cache/coursier/v1/https/repo1.maven.org/maven2/org/webjars/bower/plotly.js/1.52.2/plotly.js-1.52.2.jar at spark://78bc456d126e:46835/jars/plotly.js-1.52.2.jar with timestamp 1624296271649\n",
      "21/06/21 17:24:31 INFO SparkContext: Added JAR file:/home/jovyan/.cache/coursier/v1/https/repo1.maven.org/maven2/org/scala-lang/scala-library/2.12.11/scala-library-2.12.11.jar at spark://78bc456d126e:46835/jars/scala-library-2.12.11.jar with timestamp 1624296271649\n",
      "21/06/21 17:24:31 INFO SparkContext: Added JAR file:/home/jovyan/.cache/coursier/v1/https/repo1.maven.org/maven2/org/scala-lang/scala-reflect/2.12.11/scala-reflect-2.12.11.jar at spark://78bc456d126e:46835/jars/scala-reflect-2.12.11.jar with timestamp 1624296271650\n",
      "21/06/21 17:24:31 INFO SparkContext: Added JAR file:/home/jovyan/.cache/coursier/v1/https/repo1.maven.org/maven2/com/fasterxml/jackson/core/jackson-annotations/2.9.9/jackson-annotations-2.9.9.jar at spark://78bc456d126e:46835/jars/jackson-annotations-2.9.9.jar with timestamp 1624296271650\n",
      "21/06/21 17:24:31 INFO SparkContext: Added JAR file:/home/jovyan/.cache/coursier/v1/https/repo1.maven.org/maven2/com/squareup/moshi/moshi/1.5.0/moshi-1.5.0.jar at spark://78bc456d126e:46835/jars/moshi-1.5.0.jar with timestamp 1624296271651\n",
      "21/06/21 17:24:31 INFO SparkContext: Added JAR file:/home/jovyan/.cache/coursier/v1/https/repo1.maven.org/maven2/com/squareup/retrofit2/converter-moshi/2.4.0/converter-moshi-2.4.0.jar at spark://78bc456d126e:46835/jars/converter-moshi-2.4.0.jar with timestamp 1624296271651\n",
      "21/06/21 17:24:31 INFO SparkContext: Added JAR file:/home/jovyan/.cache/coursier/v1/https/repo1.maven.org/maven2/ch/cern/sparkmeasure/spark-measure_2.12/0.17/spark-measure_2.12-0.17.jar at spark://78bc456d126e:46835/jars/spark-measure_2.12-0.17.jar with timestamp 1624296271652\n",
      "21/06/21 17:24:31 INFO SparkContext: Added JAR file:/home/jovyan/.cache/coursier/v1/https/repo1.maven.org/maven2/org/msgpack/msgpack-core/0.8.16/msgpack-core-0.8.16.jar at spark://78bc456d126e:46835/jars/msgpack-core-0.8.16.jar with timestamp 1624296271652\n",
      "21/06/21 17:24:31 INFO SparkContext: Added JAR file:/home/jovyan/.cache/coursier/v1/https/repo1.maven.org/maven2/com/fasterxml/jackson/core/jackson-databind/2.9.9/jackson-databind-2.9.9.jar at spark://78bc456d126e:46835/jars/jackson-databind-2.9.9.jar with timestamp 1624296271652\n",
      "21/06/21 17:24:31 INFO SparkContext: Added JAR file:/home/jovyan/.cache/coursier/v1/https/repo1.maven.org/maven2/org/slf4j/slf4j-api/1.7.26/slf4j-api-1.7.26.jar at spark://78bc456d126e:46835/jars/slf4j-api-1.7.26.jar with timestamp 1624296271653\n",
      "21/06/21 17:24:31 INFO SparkContext: Added JAR file:/home/jovyan/.cache/coursier/v1/https/repo1.maven.org/maven2/org/influxdb/influxdb-java/2.14/influxdb-java-2.14.jar at spark://78bc456d126e:46835/jars/influxdb-java-2.14.jar with timestamp 1624296271653\n",
      "21/06/21 17:24:31 INFO SparkContext: Added JAR file:/home/jovyan/.cache/coursier/v1/https/repo1.maven.org/maven2/com/squareup/okhttp3/okhttp/3.11.0/okhttp-3.11.0.jar at spark://78bc456d126e:46835/jars/okhttp-3.11.0.jar with timestamp 1624296271654\n",
      "21/06/21 17:24:31 INFO SparkContext: Added JAR file:/home/jovyan/.cache/coursier/v1/https/repo1.maven.org/maven2/com/squareup/retrofit2/retrofit/2.4.0/retrofit-2.4.0.jar at spark://78bc456d126e:46835/jars/retrofit-2.4.0.jar with timestamp 1624296271654\n"
     ]
    },
    {
     "name": "stderr",
     "output_type": "stream",
     "text": [
      "21/06/21 17:24:31 INFO SparkContext: Added JAR file:/home/jovyan/.cache/coursier/v1/https/repo1.maven.org/maven2/com/fasterxml/jackson/module/jackson-module-scala_2.12/2.9.9/jackson-module-scala_2.12-2.9.9.jar at spark://78bc456d126e:46835/jars/jackson-module-scala_2.12-2.9.9.jar with timestamp 1624296271655\n",
      "21/06/21 17:24:31 INFO SparkContext: Added JAR file:/home/jovyan/.cache/coursier/v1/https/repo1.maven.org/maven2/com/fasterxml/jackson/module/jackson-module-paranamer/2.9.9/jackson-module-paranamer-2.9.9.jar at spark://78bc456d126e:46835/jars/jackson-module-paranamer-2.9.9.jar with timestamp 1624296271656\n",
      "21/06/21 17:24:31 INFO SparkContext: Added JAR file:/home/jovyan/.cache/coursier/v1/https/repo1.maven.org/maven2/com/squareup/okhttp3/logging-interceptor/3.11.0/logging-interceptor-3.11.0.jar at spark://78bc456d126e:46835/jars/logging-interceptor-3.11.0.jar with timestamp 1624296271656\n",
      "21/06/21 17:24:31 INFO SparkContext: Added JAR file:/home/jovyan/.cache/coursier/v1/https/repo1.maven.org/maven2/com/squareup/okio/okio/1.14.0/okio-1.14.0.jar at spark://78bc456d126e:46835/jars/okio-1.14.0.jar with timestamp 1624296271657\n",
      "21/06/21 17:24:31 INFO SparkContext: Added JAR file:/home/jovyan/.cache/coursier/v1/https/repo1.maven.org/maven2/com/fasterxml/jackson/core/jackson-core/2.9.9/jackson-core-2.9.9.jar at spark://78bc456d126e:46835/jars/jackson-core-2.9.9.jar with timestamp 1624296271658\n",
      "21/06/21 17:24:31 INFO Executor: Starting executor ID driver on host localhost\n",
      "21/06/21 17:24:31 INFO Executor: Using REPL class URI: http://172.17.0.2:44157\n",
      "21/06/21 17:24:31 INFO Utils: Successfully started service 'org.apache.spark.network.netty.NettyBlockTransferService' on port 33257.\n",
      "21/06/21 17:24:31 INFO NettyBlockTransferService: Server created on 78bc456d126e:33257\n",
      "21/06/21 17:24:31 INFO BlockManager: Using org.apache.spark.storage.RandomBlockReplicationPolicy for block replication policy\n",
      "21/06/21 17:24:31 INFO BlockManagerMaster: Registering BlockManager BlockManagerId(driver, 78bc456d126e, 33257, None)\n",
      "21/06/21 17:24:31 INFO BlockManagerMasterEndpoint: Registering block manager 78bc456d126e:33257 with 366.3 MB RAM, BlockManagerId(driver, 78bc456d126e, 33257, None)\n",
      "21/06/21 17:24:31 INFO BlockManagerMaster: Registered BlockManager BlockManagerId(driver, 78bc456d126e, 33257, None)\n",
      "21/06/21 17:24:31 INFO BlockManager: Initialized BlockManager: BlockManagerId(driver, 78bc456d126e, 33257, None)\n"
     ]
    },
    {
     "data": {
      "text/html": [
       "<a target=\"_blank\" href=\"http://78bc456d126e:4040\">Spark UI</a>"
      ]
     },
     "metadata": {},
     "output_type": "display_data"
    },
    {
     "data": {
      "text/plain": [
       "\u001b[32mimport \u001b[39m\u001b[36m$file.$     \n",
       "\u001b[39m\n",
       "\u001b[32mimport \u001b[39m\u001b[36mspark._\n",
       "\u001b[39m\n",
       "\u001b[32mimport \u001b[39m\u001b[36mcommon._\n",
       "\u001b[39m\n",
       "\u001b[32mimport \u001b[39m\u001b[36morg.apache.spark.sql.functions._\n",
       "\u001b[39m\n",
       "\u001b[32mimport \u001b[39m\u001b[36morg.apache.spark.rdd._\n",
       "\u001b[39m\n",
       "\u001b[32mimport \u001b[39m\u001b[36morg.apache.spark.sql.types.{IntegerType, StringType, StructType}\n",
       "\u001b[39m\n",
       "\u001b[32mimport \u001b[39m\u001b[36morg.apache.spark.sql._, types._, functions._\n",
       "\u001b[39m\n",
       "\u001b[32mimport \u001b[39m\u001b[36mspark.implicits._\u001b[39m"
      ]
     },
     "execution_count": 1,
     "metadata": {},
     "output_type": "execute_result"
    }
   ],
   "source": [
    "import $file.common\n",
    "import spark._\n",
    "import common._\n",
    "import org.apache.spark.sql.functions._\n",
    "import org.apache.spark.rdd._\n",
    "import org.apache.spark.sql.types.{IntegerType, StringType, StructType}\n",
    "import org.apache.spark.sql._, types._, functions._\n",
    "import spark.implicits._"
   ]
  },
  {
   "cell_type": "code",
   "execution_count": 2,
   "metadata": {},
   "outputs": [
    {
     "data": {
      "text/plain": [
       "\u001b[32mimport \u001b[39m\u001b[36mplotly._\n",
       "\u001b[39m\n",
       "\u001b[32mimport \u001b[39m\u001b[36mplotly.element._\n",
       "\u001b[39m\n",
       "\u001b[32mimport \u001b[39m\u001b[36mplotly.layout._\n",
       "\u001b[39m\n",
       "\u001b[32mimport \u001b[39m\u001b[36mplotly.Almond._\u001b[39m"
      ]
     },
     "execution_count": 2,
     "metadata": {},
     "output_type": "execute_result"
    }
   ],
   "source": [
    "import plotly._\n",
    "import plotly.element._\n",
    "import plotly.layout._\n",
    "import plotly.Almond._"
   ]
  },
  {
   "cell_type": "markdown",
   "metadata": {},
   "source": [
    "## RDD para la consulta de infecciones diarias por país"
   ]
  },
  {
   "cell_type": "code",
   "execution_count": 3,
   "metadata": {},
   "outputs": [
    {
     "data": {
      "text/plain": [
       "defined \u001b[32mfunction\u001b[39m \u001b[36minfectionData\u001b[39m"
      ]
     },
     "execution_count": 3,
     "metadata": {},
     "output_type": "execute_result"
    }
   ],
   "source": [
    "def infectionData = spark.sparkContext.textFile(\"../datasets/data.csv\")"
   ]
  },
  {
   "cell_type": "markdown",
   "metadata": {},
   "source": [
    "Creo una funcion para trabajar con un RDD de infecciones"
   ]
  },
  {
   "cell_type": "code",
   "execution_count": 4,
   "metadata": {},
   "outputs": [
    {
     "data": {
      "text/plain": [
       "defined \u001b[32mfunction\u001b[39m \u001b[36minfections\u001b[39m"
      ]
     },
     "execution_count": 4,
     "metadata": {},
     "output_type": "execute_result"
    }
   ],
   "source": [
    "def infections(lines : RDD[String]) : RDD[Infection] =\n",
    "    lines.map(line => {\n",
    "      val arr = line.split(\",\")\n",
    "      Infection(\n",
    "        day = arr(1).toInt,\n",
    "        month = arr(2).toInt,\n",
    "        year = arr(3).toInt,\n",
    "        nCases = arr(4).toInt,\n",
    "        nDeaths = arr(5).toInt,\n",
    "        country = arr(6),\n",
    "        continent = arr(10)\n",
    "      )\n",
    "    })"
   ]
  },
  {
   "cell_type": "markdown",
   "metadata": {},
   "source": [
    "Calculo la media de infecciones diarias por país trabajando con pair RDD"
   ]
  },
  {
   "cell_type": "code",
   "execution_count": 5,
   "metadata": {},
   "outputs": [
    {
     "data": {
      "text/plain": [
       "defined \u001b[32mfunction\u001b[39m \u001b[36minfectionGrowthAverage\u001b[39m"
      ]
     },
     "execution_count": 5,
     "metadata": {},
     "output_type": "execute_result"
    }
   ],
   "source": [
    "  def infectionGrowthAverage(infections : RDD[Infection]) : RDD[(String, Int)]= {\n",
    "\n",
    "    val countriesAndCases : RDD[(String, Iterable[Int])] = \n",
    "      infections.map(x => (x.country,x.nCases))\n",
    "      .groupByKey()\n",
    "      \n",
    "    countriesAndCases.mapValues(x => (x.sum / x.size)).sortBy(_._2)\n",
    "  }"
   ]
  },
  {
   "cell_type": "markdown",
   "metadata": {},
   "source": [
    "Muestro el resultado y el tiempo de ejecución"
   ]
  },
  {
   "cell_type": "code",
   "execution_count": 6,
   "metadata": {},
   "outputs": [
    {
     "data": {
      "text/plain": [
       "defined \u001b[32mfunction\u001b[39m \u001b[36minfectionRDD\u001b[39m"
      ]
     },
     "execution_count": 6,
     "metadata": {},
     "output_type": "execute_result"
    }
   ],
   "source": [
    "def infectionRDD = infections(infectionData)"
   ]
  },
  {
   "cell_type": "code",
   "execution_count": 7,
   "metadata": {},
   "outputs": [
    {
     "data": {
      "text/plain": [
       "defined \u001b[32mfunction\u001b[39m \u001b[36minfectionAvgRDD\u001b[39m"
      ]
     },
     "execution_count": 7,
     "metadata": {},
     "output_type": "execute_result"
    }
   ],
   "source": [
    "def infectionAvgRDD = infectionGrowthAverage(infectionRDD)"
   ]
  },
  {
   "cell_type": "markdown",
   "metadata": {},
   "source": [
    "## Hago los mismos calculos con un DataFrame"
   ]
  },
  {
   "cell_type": "markdown",
   "metadata": {},
   "source": [
    "#### Creo el DataFrame directamente importando los datos"
   ]
  },
  {
   "cell_type": "code",
   "execution_count": 8,
   "metadata": {},
   "outputs": [
    {
     "data": {
      "text/plain": [
       "defined \u001b[32mfunction\u001b[39m \u001b[36mdfCovid\u001b[39m"
      ]
     },
     "execution_count": 8,
     "metadata": {},
     "output_type": "execute_result"
    }
   ],
   "source": [
    "def dfCovid = spark.read\n",
    ".option(\"header\", \"true\")\n",
    ".option(\"charset\", \"UTF8\")\n",
    ".option(\"delimiter\",\",\")\n",
    ".option(\"inferSchema\", \"true\")\n",
    ".csv(\"../datasets/covidworldwide.csv\")"
   ]
  },
  {
   "cell_type": "markdown",
   "metadata": {},
   "source": [
    "Utilizo los métodos de la API DF que incluye uno optimizado para calcular la media."
   ]
  },
  {
   "cell_type": "code",
   "execution_count": 9,
   "metadata": {},
   "outputs": [
    {
     "data": {
      "text/plain": [
       "defined \u001b[32mfunction\u001b[39m \u001b[36mdfCovidWithSchema\u001b[39m"
      ]
     },
     "execution_count": 9,
     "metadata": {},
     "output_type": "execute_result"
    }
   ],
   "source": [
    "def dfCovidWithSchema = dfCovid.toDF\n",
    "    .groupBy(\"countriesAndTerritories\")\n",
    "    .agg(mean(\"cases\"))\n",
    "    .orderBy(\"avg(cases)\")"
   ]
  },
  {
   "cell_type": "markdown",
   "metadata": {},
   "source": [
    "# Y con un DataSet"
   ]
  },
  {
   "cell_type": "code",
   "execution_count": 10,
   "metadata": {},
   "outputs": [
    {
     "data": {
      "text/plain": [
       "defined \u001b[32mfunction\u001b[39m \u001b[36minfectionDS\u001b[39m"
      ]
     },
     "execution_count": 10,
     "metadata": {},
     "output_type": "execute_result"
    }
   ],
   "source": [
    "def infectionDS = spark.read\n",
    ".option(\"header\", \"true\")\n",
    ".option(\"charset\", \"UTF8\")\n",
    ".option(\"delimiter\",\",\")\n",
    ".csv(\"../datasets/covidworldwide.csv\")\n",
    ".as[(String,String,String,String,String,String,String,String,String,String,String,String)]"
   ]
  },
  {
   "cell_type": "code",
   "execution_count": 11,
   "metadata": {},
   "outputs": [
    {
     "data": {
      "text/plain": [
       "defined \u001b[32mfunction\u001b[39m \u001b[36mavgDS\u001b[39m"
      ]
     },
     "execution_count": 11,
     "metadata": {},
     "output_type": "execute_result"
    }
   ],
   "source": [
    "def avgDS = \n",
    "    infectionDS.groupBy($\"countriesAndTerritories\")\n",
    "    .agg(avg($\"cases\"))\n",
    "    .orderBy(\"avg(cases)\")\n",
    "    .as[(String,Double)]"
   ]
  },
  {
   "cell_type": "markdown",
   "metadata": {},
   "source": [
    "# Visualización de eficiencia"
   ]
  },
  {
   "cell_type": "markdown",
   "metadata": {},
   "source": [
    "Gráficamente utilizando plotly"
   ]
  },
  {
   "cell_type": "code",
   "execution_count": 12,
   "metadata": {},
   "outputs": [
    {
     "data": {
      "text/html": [
       "<script>\n",
       "var comm = Jupyter.notebook.kernel.comm_manager.new_comm('cancel-stage-f6c0e9da-293c-40e5-b6ce-79137048d672', {});\n",
       "\n",
       "function cancelStage(stageId) {\n",
       "  console.log('Cancelling stage ' + stageId);\n",
       "  comm.send({ 'stageId': stageId });\n",
       "}\n",
       "</script>\n",
       "          "
      ]
     },
     "metadata": {},
     "output_type": "display_data"
    },
    {
     "data": {
      "text/html": [
       "<div>\n",
       "  <span style=\"float: left;\">map at cmd4.sc:4</span>\n",
       "</div>\n"
      ]
     },
     "metadata": {},
     "output_type": "display_data"
    },
    {
     "data": {
      "text/html": [
       "<div class=\"progress\">\n",
       "  <div class=\"progress-bar\" role=\"progressbar\" style=\"background-color: blue; width: 100%; word-wrap: normal; white-space: nowrap; text-align: center; color: white\" aria-valuenow=\"100\" aria-valuemin=\"0\" aria-valuemax=\"100\">\n",
       "    2 / 2\n",
       "  </div>\n",
       "  <div class=\"progress-bar\" role=\"progressbar\" style=\"background-color: red; width: 0%\" aria-valuenow=\"0\" aria-valuemin=\"0\" aria-valuemax=\"100\"></div>\n",
       "</div>\n"
      ]
     },
     "metadata": {},
     "output_type": "display_data"
    },
    {
     "data": {
      "text/html": [
       "<div>\n",
       "  <span style=\"float: left;\">sortBy at cmd4.sc:7</span>\n",
       "</div>\n"
      ]
     },
     "metadata": {},
     "output_type": "display_data"
    },
    {
     "data": {
      "text/html": [
       "<div class=\"progress\">\n",
       "  <div class=\"progress-bar\" role=\"progressbar\" style=\"background-color: blue; width: 100%; word-wrap: normal; white-space: nowrap; text-align: center; color: white\" aria-valuenow=\"100\" aria-valuemin=\"0\" aria-valuemax=\"100\">\n",
       "    2 / 2\n",
       "  </div>\n",
       "  <div class=\"progress-bar\" role=\"progressbar\" style=\"background-color: red; width: 0%\" aria-valuenow=\"0\" aria-valuemin=\"0\" aria-valuemax=\"100\"></div>\n",
       "</div>\n"
      ]
     },
     "metadata": {},
     "output_type": "display_data"
    },
    {
     "data": {
      "text/html": [
       "<div>\n",
       "  <span style=\"float: left;\">sortBy at cmd4.sc:7</span>\n",
       "</div>\n"
      ]
     },
     "metadata": {},
     "output_type": "display_data"
    },
    {
     "data": {
      "text/html": [
       "<div class=\"progress\">\n",
       "  <div class=\"progress-bar\" role=\"progressbar\" style=\"background-color: blue; width: 100%; word-wrap: normal; white-space: nowrap; text-align: center; color: white\" aria-valuenow=\"100\" aria-valuemin=\"0\" aria-valuemax=\"100\">\n",
       "    2 / 2\n",
       "  </div>\n",
       "  <div class=\"progress-bar\" role=\"progressbar\" style=\"background-color: red; width: 0%\" aria-valuenow=\"0\" aria-valuemin=\"0\" aria-valuemax=\"100\"></div>\n",
       "</div>\n"
      ]
     },
     "metadata": {},
     "output_type": "display_data"
    },
    {
     "data": {
      "text/html": [
       "<div>\n",
       "  <span style=\"float: left;\">collect at cmd11.sc:2</span>\n",
       "</div>\n"
      ]
     },
     "metadata": {},
     "output_type": "display_data"
    },
    {
     "data": {
      "text/html": [
       "<div class=\"progress\">\n",
       "  <div class=\"progress-bar\" role=\"progressbar\" style=\"background-color: blue; width: 100%; word-wrap: normal; white-space: nowrap; text-align: center; color: white\" aria-valuenow=\"100\" aria-valuemin=\"0\" aria-valuemax=\"100\">\n",
       "    2 / 2\n",
       "  </div>\n",
       "  <div class=\"progress-bar\" role=\"progressbar\" style=\"background-color: red; width: 0%\" aria-valuenow=\"0\" aria-valuemin=\"0\" aria-valuemax=\"100\"></div>\n",
       "</div>\n"
      ]
     },
     "metadata": {},
     "output_type": "display_data"
    },
    {
     "name": "stdout",
     "output_type": "stream",
     "text": [
      "Took 3576\n"
     ]
    },
    {
     "data": {
      "text/html": [
       "<div>\n",
       "  <span style=\"float: left;\">csv at cmd7.sc:6</span>\n",
       "</div>\n"
      ]
     },
     "metadata": {},
     "output_type": "display_data"
    },
    {
     "data": {
      "text/html": [
       "<div class=\"progress\">\n",
       "  <div class=\"progress-bar\" role=\"progressbar\" style=\"background-color: blue; width: 100%; word-wrap: normal; white-space: nowrap; text-align: center; color: white\" aria-valuenow=\"100\" aria-valuemin=\"0\" aria-valuemax=\"100\">\n",
       "    1 / 1\n",
       "  </div>\n",
       "  <div class=\"progress-bar\" role=\"progressbar\" style=\"background-color: red; width: 0%\" aria-valuenow=\"0\" aria-valuemin=\"0\" aria-valuemax=\"100\"></div>\n",
       "</div>\n"
      ]
     },
     "metadata": {},
     "output_type": "display_data"
    },
    {
     "data": {
      "text/html": [
       "<div>\n",
       "  <span style=\"float: left;\">csv at cmd7.sc:6</span>\n",
       "</div>\n"
      ]
     },
     "metadata": {},
     "output_type": "display_data"
    },
    {
     "data": {
      "text/html": [
       "<div class=\"progress\">\n",
       "  <div class=\"progress-bar\" role=\"progressbar\" style=\"background-color: blue; width: 100%; word-wrap: normal; white-space: nowrap; text-align: center; color: white\" aria-valuenow=\"100\" aria-valuemin=\"0\" aria-valuemax=\"100\">\n",
       "    2 / 2\n",
       "  </div>\n",
       "  <div class=\"progress-bar\" role=\"progressbar\" style=\"background-color: red; width: 0%\" aria-valuenow=\"0\" aria-valuemin=\"0\" aria-valuemax=\"100\"></div>\n",
       "</div>\n"
      ]
     },
     "metadata": {},
     "output_type": "display_data"
    },
    {
     "data": {
      "text/html": [
       "<div>\n",
       "  <span style=\"float: left;\">collect at cmd11.sc:3</span>\n",
       "</div>\n"
      ]
     },
     "metadata": {},
     "output_type": "display_data"
    },
    {
     "data": {
      "text/html": [
       "<div class=\"progress\">\n",
       "  <div class=\"progress-bar\" role=\"progressbar\" style=\"background-color: blue; width: 100%; word-wrap: normal; white-space: nowrap; text-align: center; color: white\" aria-valuenow=\"100\" aria-valuemin=\"0\" aria-valuemax=\"100\">\n",
       "    2 / 2\n",
       "  </div>\n",
       "  <div class=\"progress-bar\" role=\"progressbar\" style=\"background-color: red; width: 0%\" aria-valuenow=\"0\" aria-valuemin=\"0\" aria-valuemax=\"100\"></div>\n",
       "</div>\n"
      ]
     },
     "metadata": {},
     "output_type": "display_data"
    },
    {
     "data": {
      "text/html": [
       "<div>\n",
       "  <span style=\"float: left;\">collect at cmd11.sc:3</span>\n",
       "</div>\n"
      ]
     },
     "metadata": {},
     "output_type": "display_data"
    },
    {
     "data": {
      "text/html": [
       "<div class=\"progress\">\n",
       "  <div class=\"progress-bar\" role=\"progressbar\" style=\"background-color: blue; width: 100%; word-wrap: normal; white-space: nowrap; text-align: center; color: white\" aria-valuenow=\"100\" aria-valuemin=\"0\" aria-valuemax=\"100\">\n",
       "    200 / 200\n",
       "  </div>\n",
       "  <div class=\"progress-bar\" role=\"progressbar\" style=\"background-color: red; width: 0%\" aria-valuenow=\"0\" aria-valuemin=\"0\" aria-valuemax=\"100\"></div>\n",
       "</div>\n"
      ]
     },
     "metadata": {},
     "output_type": "display_data"
    },
    {
     "data": {
      "text/html": [
       "<div>\n",
       "  <span style=\"float: left;\">collect at cmd11.sc:3</span>\n",
       "</div>\n"
      ]
     },
     "metadata": {},
     "output_type": "display_data"
    },
    {
     "data": {
      "text/html": [
       "<div class=\"progress\">\n",
       "  <div class=\"progress-bar\" role=\"progressbar\" style=\"background-color: blue; width: 100%; word-wrap: normal; white-space: nowrap; text-align: center; color: white\" aria-valuenow=\"100\" aria-valuemin=\"0\" aria-valuemax=\"100\">\n",
       "    200 / 200\n",
       "  </div>\n",
       "  <div class=\"progress-bar\" role=\"progressbar\" style=\"background-color: red; width: 0%\" aria-valuenow=\"0\" aria-valuemin=\"0\" aria-valuemax=\"100\"></div>\n",
       "</div>\n"
      ]
     },
     "metadata": {},
     "output_type": "display_data"
    },
    {
     "data": {
      "text/html": [
       "<div>\n",
       "  <span style=\"float: left;\">collect at cmd11.sc:3</span>\n",
       "</div>\n"
      ]
     },
     "metadata": {},
     "output_type": "display_data"
    },
    {
     "data": {
      "text/html": [
       "<div class=\"progress\">\n",
       "  <div class=\"progress-bar\" role=\"progressbar\" style=\"background-color: blue; width: 100%; word-wrap: normal; white-space: nowrap; text-align: center; color: white\" aria-valuenow=\"100\" aria-valuemin=\"0\" aria-valuemax=\"100\">\n",
       "    200 / 200\n",
       "  </div>\n",
       "  <div class=\"progress-bar\" role=\"progressbar\" style=\"background-color: red; width: 0%\" aria-valuenow=\"0\" aria-valuemin=\"0\" aria-valuemax=\"100\"></div>\n",
       "</div>\n"
      ]
     },
     "metadata": {},
     "output_type": "display_data"
    },
    {
     "name": "stdout",
     "output_type": "stream",
     "text": [
      "Took 7194\n"
     ]
    },
    {
     "data": {
      "text/html": [
       "<div>\n",
       "  <span style=\"float: left;\">csv at cmd9.sc:5</span>\n",
       "</div>\n"
      ]
     },
     "metadata": {},
     "output_type": "display_data"
    },
    {
     "data": {
      "text/html": [
       "<div class=\"progress\">\n",
       "  <div class=\"progress-bar\" role=\"progressbar\" style=\"background-color: blue; width: 100%; word-wrap: normal; white-space: nowrap; text-align: center; color: white\" aria-valuenow=\"100\" aria-valuemin=\"0\" aria-valuemax=\"100\">\n",
       "    1 / 1\n",
       "  </div>\n",
       "  <div class=\"progress-bar\" role=\"progressbar\" style=\"background-color: red; width: 0%\" aria-valuenow=\"0\" aria-valuemin=\"0\" aria-valuemax=\"100\"></div>\n",
       "</div>\n"
      ]
     },
     "metadata": {},
     "output_type": "display_data"
    },
    {
     "data": {
      "text/html": [
       "<div>\n",
       "  <span style=\"float: left;\">collect at cmd11.sc:4</span>\n",
       "</div>\n"
      ]
     },
     "metadata": {},
     "output_type": "display_data"
    },
    {
     "data": {
      "text/html": [
       "<div class=\"progress\">\n",
       "  <div class=\"progress-bar\" role=\"progressbar\" style=\"background-color: blue; width: 100%; word-wrap: normal; white-space: nowrap; text-align: center; color: white\" aria-valuenow=\"100\" aria-valuemin=\"0\" aria-valuemax=\"100\">\n",
       "    2 / 2\n",
       "  </div>\n",
       "  <div class=\"progress-bar\" role=\"progressbar\" style=\"background-color: red; width: 0%\" aria-valuenow=\"0\" aria-valuemin=\"0\" aria-valuemax=\"100\"></div>\n",
       "</div>\n"
      ]
     },
     "metadata": {},
     "output_type": "display_data"
    },
    {
     "data": {
      "text/html": [
       "<div>\n",
       "  <span style=\"float: left;\">collect at cmd11.sc:4</span>\n",
       "</div>\n"
      ]
     },
     "metadata": {},
     "output_type": "display_data"
    },
    {
     "data": {
      "text/html": [
       "<div class=\"progress\">\n",
       "  <div class=\"progress-bar\" role=\"progressbar\" style=\"background-color: blue; width: 100%; word-wrap: normal; white-space: nowrap; text-align: center; color: white\" aria-valuenow=\"100\" aria-valuemin=\"0\" aria-valuemax=\"100\">\n",
       "    200 / 200\n",
       "  </div>\n",
       "  <div class=\"progress-bar\" role=\"progressbar\" style=\"background-color: red; width: 0%\" aria-valuenow=\"0\" aria-valuemin=\"0\" aria-valuemax=\"100\"></div>\n",
       "</div>\n"
      ]
     },
     "metadata": {},
     "output_type": "display_data"
    },
    {
     "data": {
      "text/html": [
       "<div>\n",
       "  <span style=\"float: left;\">collect at cmd11.sc:4</span>\n",
       "</div>\n"
      ]
     },
     "metadata": {},
     "output_type": "display_data"
    },
    {
     "data": {
      "text/html": [
       "<div class=\"progress\">\n",
       "  <div class=\"progress-bar\" role=\"progressbar\" style=\"background-color: blue; width: 100%; word-wrap: normal; white-space: nowrap; text-align: center; color: white\" aria-valuenow=\"100\" aria-valuemin=\"0\" aria-valuemax=\"100\">\n",
       "    200 / 200\n",
       "  </div>\n",
       "  <div class=\"progress-bar\" role=\"progressbar\" style=\"background-color: red; width: 0%\" aria-valuenow=\"0\" aria-valuemin=\"0\" aria-valuemax=\"100\"></div>\n",
       "</div>\n"
      ]
     },
     "metadata": {},
     "output_type": "display_data"
    },
    {
     "data": {
      "text/html": [
       "<div>\n",
       "  <span style=\"float: left;\">collect at cmd11.sc:4</span>\n",
       "</div>\n"
      ]
     },
     "metadata": {},
     "output_type": "display_data"
    },
    {
     "data": {
      "text/html": [
       "<div class=\"progress\">\n",
       "  <div class=\"progress-bar\" role=\"progressbar\" style=\"background-color: blue; width: 100%; word-wrap: normal; white-space: nowrap; text-align: center; color: white\" aria-valuenow=\"100\" aria-valuemin=\"0\" aria-valuemax=\"100\">\n",
       "    200 / 200\n",
       "  </div>\n",
       "  <div class=\"progress-bar\" role=\"progressbar\" style=\"background-color: red; width: 0%\" aria-valuenow=\"0\" aria-valuemin=\"0\" aria-valuemax=\"100\"></div>\n",
       "</div>\n"
      ]
     },
     "metadata": {},
     "output_type": "display_data"
    },
    {
     "name": "stdout",
     "output_type": "stream",
     "text": [
      "Took 2818\n"
     ]
    },
    {
     "data": {
      "text/html": [
       "\n",
       "      <script type=\"text/javascript\">\n",
       "        require.config({\n",
       "  paths: {\n",
       "    d3: 'https://cdnjs.cloudflare.com/ajax/libs/d3/3.5.17/d3.min',\n",
       "    plotly: 'https://cdn.plot.ly/plotly-1.52.2.min',\n",
       "    jquery: 'https://code.jquery.com/jquery-3.3.1.min'\n",
       "  },\n",
       "\n",
       "  shim: {\n",
       "    plotly: {\n",
       "      deps: ['d3', 'jquery'],\n",
       "      exports: 'plotly'\n",
       "    }\n",
       "  }\n",
       "});\n",
       "        \n",
       "\n",
       "        require(['plotly'], function(Plotly) {\n",
       "          window.Plotly = Plotly;\n",
       "        });\n",
       "      </script>\n",
       "    "
      ]
     },
     "metadata": {},
     "output_type": "display_data"
    },
    {
     "data": {
      "application/vnd.plotly.v1+json": {
       "config": {},
       "data": [
        {
         "type": "bar",
         "x": [
          "RDD",
          "DataFrame",
          "DataSet"
         ],
         "y": [
          3576,
          7194,
          2818
         ]
        }
       ],
       "layout": {}
      },
      "text/html": [
       "<div class=\"chart\" id=\"plot-dfa426ff-14f8-4bc0-bb16-84bbe98a4175\"></div>\n",
       "<script>require(['plotly'], function(Plotly) {\n",
       "  (function () {\n",
       "  var data0 = {\"x\":[\"RDD\",\"DataFrame\",\"DataSet\"],\"y\":[3576.0,7194.0,2818.0],\"type\":\"bar\"};\n",
       "\n",
       "  var data = [data0];\n",
       "  var layout = {};\n",
       " var config = {};\n",
       "\n",
       "  Plotly.plot('plot-dfa426ff-14f8-4bc0-bb16-84bbe98a4175', data, layout, config);\n",
       "})();\n",
       "});\n",
       "      </script>\n",
       "           "
      ]
     },
     "metadata": {},
     "output_type": "display_data"
    },
    {
     "data": {
      "text/plain": [
       "\u001b[36mx\u001b[39m: \u001b[32mSeq\u001b[39m[\u001b[32mString\u001b[39m] = \u001b[33mList\u001b[39m(\u001b[32m\"RDD\"\u001b[39m, \u001b[32m\"DataFrame\"\u001b[39m, \u001b[32m\"DataSet\"\u001b[39m)\n",
       "\u001b[36my\u001b[39m: \u001b[32mSeq\u001b[39m[\u001b[32mInt\u001b[39m] = \u001b[33mList\u001b[39m(\u001b[32m3576\u001b[39m, \u001b[32m7194\u001b[39m, \u001b[32m2818\u001b[39m)\n",
       "\u001b[36mres11_1\u001b[39m: \u001b[32mString\u001b[39m = \u001b[32m\"plot-dfa426ff-14f8-4bc0-bb16-84bbe98a4175\"\u001b[39m"
      ]
     },
     "execution_count": 12,
     "metadata": {},
     "output_type": "execute_result"
    }
   ],
   "source": [
    "val (x, y) = Seq(\n",
    "    \"RDD\" -> runWithOutput(infectionAvgRDD.collect),\n",
    "    \"DataFrame\" -> runWithOutput(dfCovidWithSchema.collect),\n",
    "    \"DataSet\" -> runWithOutput(avgDS.collect)\n",
    ").unzip\n",
    "\n",
    "Bar(x, y).plot()"
   ]
  },
  {
   "cell_type": "markdown",
   "metadata": {},
   "source": [
    "Usando la API de spark"
   ]
  },
  {
   "cell_type": "code",
   "execution_count": null,
   "metadata": {},
   "outputs": [],
   "source": [
    "val timeRDD = spark.time(infectionAvgRDD.collect())"
   ]
  },
  {
   "cell_type": "code",
   "execution_count": null,
   "metadata": {},
   "outputs": [],
   "source": [
    "val timeDF = spark.time(dfCovidWithSchema.collect)"
   ]
  },
  {
   "cell_type": "code",
   "execution_count": null,
   "metadata": {},
   "outputs": [],
   "source": [
    "val timeDS = spark.time(avgDS.collect)"
   ]
  },
  {
   "cell_type": "markdown",
   "metadata": {},
   "source": [
    "o bien el framework del cern que nos da más información"
   ]
  },
  {
   "cell_type": "code",
   "execution_count": null,
   "metadata": {},
   "outputs": [],
   "source": [
    "ch.cern.sparkmeasure.StageMetrics(spark).runAndMeasure(infectionAvgRDD.collect())"
   ]
  },
  {
   "cell_type": "code",
   "execution_count": null,
   "metadata": {},
   "outputs": [],
   "source": [
    "ch.cern.sparkmeasure.StageMetrics(spark).runAndMeasure(dfCovidWithSchema.collect)"
   ]
  },
  {
   "cell_type": "code",
   "execution_count": null,
   "metadata": {},
   "outputs": [],
   "source": [
    "ch.cern.sparkmeasure.StageMetrics(spark).runAndMeasure(avgDS.collect)"
   ]
  },
  {
   "cell_type": "markdown",
   "metadata": {},
   "source": [
    "# Visualización de datos"
   ]
  },
  {
   "cell_type": "code",
   "execution_count": 13,
   "metadata": {},
   "outputs": [
    {
     "data": {
      "text/html": [
       "<div>\n",
       "  <span style=\"float: left;\">csv at cmd7.sc:6</span>\n",
       "</div>\n"
      ]
     },
     "metadata": {},
     "output_type": "display_data"
    },
    {
     "data": {
      "text/html": [
       "<div class=\"progress\">\n",
       "  <div class=\"progress-bar\" role=\"progressbar\" style=\"background-color: blue; width: 100%; word-wrap: normal; white-space: nowrap; text-align: center; color: white\" aria-valuenow=\"100\" aria-valuemin=\"0\" aria-valuemax=\"100\">\n",
       "    1 / 1\n",
       "  </div>\n",
       "  <div class=\"progress-bar\" role=\"progressbar\" style=\"background-color: red; width: 0%\" aria-valuenow=\"0\" aria-valuemin=\"0\" aria-valuemax=\"100\"></div>\n",
       "</div>\n"
      ]
     },
     "metadata": {},
     "output_type": "display_data"
    },
    {
     "data": {
      "text/html": [
       "<div>\n",
       "  <span style=\"float: left;\">csv at cmd7.sc:6</span>\n",
       "</div>\n"
      ]
     },
     "metadata": {},
     "output_type": "display_data"
    },
    {
     "data": {
      "text/html": [
       "<div class=\"progress\">\n",
       "  <div class=\"progress-bar\" role=\"progressbar\" style=\"background-color: blue; width: 100%; word-wrap: normal; white-space: nowrap; text-align: center; color: white\" aria-valuenow=\"100\" aria-valuemin=\"0\" aria-valuemax=\"100\">\n",
       "    2 / 2\n",
       "  </div>\n",
       "  <div class=\"progress-bar\" role=\"progressbar\" style=\"background-color: red; width: 0%\" aria-valuenow=\"0\" aria-valuemin=\"0\" aria-valuemax=\"100\"></div>\n",
       "</div>\n"
      ]
     },
     "metadata": {},
     "output_type": "display_data"
    },
    {
     "data": {
      "text/html": [
       "<div>\n",
       "  <span style=\"float: left;\">collect at cmd12.sc:1</span>\n",
       "</div>\n"
      ]
     },
     "metadata": {},
     "output_type": "display_data"
    },
    {
     "data": {
      "text/html": [
       "<div class=\"progress\">\n",
       "  <div class=\"progress-bar\" role=\"progressbar\" style=\"background-color: blue; width: 100%; word-wrap: normal; white-space: nowrap; text-align: center; color: white\" aria-valuenow=\"100\" aria-valuemin=\"0\" aria-valuemax=\"100\">\n",
       "    2 / 2\n",
       "  </div>\n",
       "  <div class=\"progress-bar\" role=\"progressbar\" style=\"background-color: red; width: 0%\" aria-valuenow=\"0\" aria-valuemin=\"0\" aria-valuemax=\"100\"></div>\n",
       "</div>\n"
      ]
     },
     "metadata": {},
     "output_type": "display_data"
    },
    {
     "data": {
      "text/html": [
       "<div>\n",
       "  <span style=\"float: left;\">collect at cmd12.sc:1</span>\n",
       "</div>\n"
      ]
     },
     "metadata": {},
     "output_type": "display_data"
    },
    {
     "data": {
      "text/html": [
       "<div class=\"progress\">\n",
       "  <div class=\"progress-bar\" role=\"progressbar\" style=\"background-color: blue; width: 100%; word-wrap: normal; white-space: nowrap; text-align: center; color: white\" aria-valuenow=\"100\" aria-valuemin=\"0\" aria-valuemax=\"100\">\n",
       "    200 / 200\n",
       "  </div>\n",
       "  <div class=\"progress-bar\" role=\"progressbar\" style=\"background-color: red; width: 0%\" aria-valuenow=\"0\" aria-valuemin=\"0\" aria-valuemax=\"100\"></div>\n",
       "</div>\n"
      ]
     },
     "metadata": {},
     "output_type": "display_data"
    },
    {
     "data": {
      "text/html": [
       "<div>\n",
       "  <span style=\"float: left;\">collect at cmd12.sc:1</span>\n",
       "</div>\n"
      ]
     },
     "metadata": {},
     "output_type": "display_data"
    },
    {
     "data": {
      "text/html": [
       "<div class=\"progress\">\n",
       "  <div class=\"progress-bar\" role=\"progressbar\" style=\"background-color: blue; width: 100%; word-wrap: normal; white-space: nowrap; text-align: center; color: white\" aria-valuenow=\"100\" aria-valuemin=\"0\" aria-valuemax=\"100\">\n",
       "    200 / 200\n",
       "  </div>\n",
       "  <div class=\"progress-bar\" role=\"progressbar\" style=\"background-color: red; width: 0%\" aria-valuenow=\"0\" aria-valuemin=\"0\" aria-valuemax=\"100\"></div>\n",
       "</div>\n"
      ]
     },
     "metadata": {},
     "output_type": "display_data"
    },
    {
     "data": {
      "text/html": [
       "<div>\n",
       "  <span style=\"float: left;\">collect at cmd12.sc:1</span>\n",
       "</div>\n"
      ]
     },
     "metadata": {},
     "output_type": "display_data"
    },
    {
     "data": {
      "text/html": [
       "<div class=\"progress\">\n",
       "  <div class=\"progress-bar\" role=\"progressbar\" style=\"background-color: blue; width: 100%; word-wrap: normal; white-space: nowrap; text-align: center; color: white\" aria-valuenow=\"100\" aria-valuemin=\"0\" aria-valuemax=\"100\">\n",
       "    200 / 200\n",
       "  </div>\n",
       "  <div class=\"progress-bar\" role=\"progressbar\" style=\"background-color: red; width: 0%\" aria-valuenow=\"0\" aria-valuemin=\"0\" aria-valuemax=\"100\"></div>\n",
       "</div>\n"
      ]
     },
     "metadata": {},
     "output_type": "display_data"
    },
    {
     "data": {
      "application/vnd.plotly.v1+json": {
       "config": {},
       "data": [
        {
         "type": "bar",
         "x": [
          "Vanuatu",
          "Anguilla",
          "Montserrat",
          "Wallis_and_Futuna",
          "Greenland",
          "Falkland_Islands_(Malvinas)",
          "Marshall_Islands",
          "Holy_See",
          "Saint_Kitts_and_Nevis",
          "Timor_Leste",
          "New_Caledonia",
          "Laos",
          "Fiji",
          "Grenada",
          "Solomon_Islands",
          "British_Virgin_Islands",
          "Dominica",
          "Saint_Vincent_and_the_Grenadines",
          "Northern_Mariana_Islands",
          "Brunei_Darussalam",
          "Antigua_and_Barbuda",
          "Bonaire, Saint Eustatius and Saba",
          "Seychelles",
          "Saint_Lucia",
          "Cambodia",
          "Guernsey",
          "Barbados",
          "Cayman_Islands",
          "Isle_of_Man",
          "Bhutan",
          "Bermuda",
          "Faroe_Islands",
          "United_Republic_of_Tanzania",
          "Mauritius",
          "Monaco",
          "Taiwan",
          "Eritrea",
          "Papua_New_Guinea",
          "Comoros",
          "Burundi",
          "Turks_and_Caicos_islands",
          "Western_Sahara",
          "Mongolia",
          "Gibraltar",
          "Sao_Tome_and_Principe",
          "Vietnam",
          "Sint_Maarten",
          "New_Zealand",
          "Liechtenstein",
          "San_Marino",
          "Liberia",
          "Chad",
          "Jersey",
          "United_States_Virgin_Islands",
          "Yemen",
          "Niger",
          "Guinea_Bissau",
          "Sierra_Leone",
          "Lesotho",
          "Cases_on_an_international_conveyance_Japan",
          "Benin",
          "Togo",
          "Thailand",
          "South_Sudan",
          "Curaçao",
          "Gambia",
          "Burkina_Faso",
          "Iceland",
          "Somalia",
          "Central_African_Republic",
          "Equatorial_Guinea",
          "Aruba",
          "Suriname",
          "Djibouti",
          "Guyana",
          "Nicaragua",
          "Mali",
          "Congo",
          "Malawi",
          "Rwanda",
          "Eswatini",
          "Trinidad_and_Tobago",
          "Guam",
          "Andorra",
          "Bahamas",
          "Gabon",
          "Cuba",
          "Syria",
          "Belize",
          "Uruguay",
          "Haiti",
          "Mauritania",
          "Malta",
          "Zimbabwe",
          "Cape_Verde",
          "Jamaica",
          "Maldives",
          "Botswana",
          "Guinea",
          "Estonia",
          "Democratic_Republic_of_the_Congo",
          "Cyprus",
          "Tajikistan",
          "French_Polynesia",
          "Namibia",
          "Angola",
          "Senegal",
          "Mozambique",
          "Madagascar",
          "Zambia",
          "Sudan",
          "Cote_dIvoire",
          "Australia",
          "Finland",
          "Latvia",
          "Cameroon",
          "Sri_Lanka",
          "Uganda",
          "Norway",
          "Luxembourg",
          "South_Korea",
          "Afghanistan",
          "Montenegro",
          "El_Salvador",
          "Singapore",
          "Kosovo",
          "Albania",
          "Ghana",
          "Nigeria",
          "North_Macedonia",
          "Ireland",
          "Malaysia",
          "Bahrain",
          "China",
          "Algeria",
          "Uzbekistan",
          "Lithuania",
          "Kyrgyzstan",
          "Denmark",
          "Kenya",
          "Paraguay",
          "Slovenia",
          "Libya",
          "Egypt",
          "Greece",
          "Bosnia_and_Herzegovina",
          "Oman",
          "Venezuela",
          "Tunisia",
          "Myanmar",
          "Qatar",
          "Puerto_Rico",
          "Honduras",
          "Kuwait",
          "Ethiopia",
          "Lebanon",
          "Armenia",
          "Palestine",
          "Moldova",
          "Dominican_Republic",
          "Belarus",
          "Guatemala",
          "Slovakia",
          "Croatia",
          "Azerbaijan",
          "Japan",
          "Bolivia",
          "Costa_Rica",
          "United_Arab_Emirates",
          "Georgia",
          "Ecuador",
          "Bulgaria",
          "Kazakhstan",
          "Panama",
          "Nepal",
          "Austria",
          "Sweden",
          "Jordan",
          "Serbia",
          "Hungary",
          "Israel",
          "Switzerland",
          "Portugal",
          "Saudi_Arabia",
          "Pakistan",
          "Philippines",
          "Canada",
          "Morocco",
          "Romania",
          "Iraq",
          "Czechia",
          "Belgium",
          "Netherlands",
          "Bangladesh",
          "Indonesia",
          "Chile",
          "South_Africa",
          "Iran",
          "Ukraine",
          "Peru",
          "Mexico",
          "Turkey",
          "Germany",
          "Poland",
          "Spain",
          "Colombia",
          "Italy",
          "United_Kingdom",
          "Argentina",
          "France",
          "Russia",
          "Brazil",
          "India",
          "United_States_of_America"
         ],
         "y": [
          0.029411764705882353,
          0.03802281368821293,
          0.048507462686567165,
          0.05084745762711865,
          0.07037037037037037,
          0.07450980392156863,
          0.0851063829787234,
          0.09454545454545454,
          0.10227272727272728,
          0.11567164179104478,
          0.13382899628252787,
          0.15471698113207547,
          0.17037037037037037,
          0.25842696629213485,
          0.2833333333333333,
          0.2889733840304182,
          0.3258426966292135,
          0.3684210526315789,
          0.4362934362934363,
          0.5448028673835126,
          0.5481481481481482,
          0.6731517509727627,
          0.68,
          1,
          1.0527859237536656,
          1.0703703703703704,
          1.0735294117647058,
          1.1037037037037036,
          1.3754646840148699,
          1.5869565217391304,
          1.5962962962962963,
          1.8591549295774648,
          1.8644688644688645,
          1.9074074074074074,
          1.9763313609467457,
          2.1142857142857143,
          2.6529850746268657,
          2.6951672862453533,
          2.7665198237885464,
          2.8255813953488373,
          2.90188679245283,
          3.2875536480686693,
          3.3284671532846715,
          3.9814814814814814,
          4.036,
          4.03757225433526,
          4.666666666666667,
          5.102639296187683,
          5.426523297491039,
          5.578796561604585,
          6.13919413919414,
          6.555555555555555,
          6.588888888888889,
          6.818867924528302,
          8.365461847389557,
          8.394052044609666,
          9.29277566539924,
          9.457364341085272,
          10.514018691588785,
          10.875,
          11.31868131868132,
          11.778985507246377,
          12.352769679300291,
          12.671936758893281,
          13.62406015037594,
          13.904411764705882,
          14.548736462093864,
          15.877142857142857,
          16.772893772893774,
          18.014598540145986,
          18.854545454545455,
          18.910112359550563,
          19.825925925925926,
          21.136531365313655,
          21.527272727272727,
          21.723247232472325,
          22.022727272727273,
          22.076642335766422,
          23.6953125,
          24.214545454545455,
          24.61090909090909,
          24.833935018050543,
          26.22140221402214,
          26.58695652173913,
          28.21323529411765,
          33.80434782608695,
          34.265454545454546,
          34.329588014981276,
          34.943609022556394,
          35.301818181818184,
          35.425925925925924,
          39.2,
          39.226148409893995,
          41.806691449814124,
          42.21933085501859,
          42.27436823104693,
          47.74285714285714,
          48.45348837209303,
          48.8,
          52.333333333333336,
          52.3898916967509,
          54.32014388489208,
          55.719298245614034,
          57.6309963099631,
          60.13090909090909,
          60.40298507462686,
          60.982142857142854,
          63.49812734082397,
          65.56877323420075,
          67.43173431734317,
          77.48550724637681,
          78.55072463768116,
          80.08857142857143,
          89.04624277456648,
          90.7243816254417,
          90.76895306859205,
          96.158357771261,
          102.73134328358209,
          114.34857142857143,
          120.3265306122449,
          124.24,
          144.9205882352941,
          152.3014705882353,
          154.53874538745387,
          166.62857142857143,
          168.768115942029,
          172.70462633451956,
          192.07971014492753,
          215.85545722713863,
          215.94721407624633,
          218.92241379310346,
          239.18338108882523,
          255.4240687679083,
          262.91714285714284,
          266.9623188405797,
          274.06569343065695,
          278.6539589442815,
          286.619926199262,
          313.5942857142857,
          332.94202898550725,
          336.62589928057554,
          339.13380281690144,
          342.5622641509434,
          351.3728323699422,
          357.85632183908046,
          365.043321299639,
          366.9767441860465,
          391.1569343065693,
          396.30249110320284,
          405.7752808988764,
          407.4017341040462,
          409,
          414.34420289855075,
          421.37752161383287,
          423.07608695652175,
          423.46820809248555,
          436.0175953079179,
          443.61921708185054,
          451.85,
          453.6422287390029,
          468.69883040935673,
          470.11636363636364,
          471.5744680851064,
          506.87608069164264,
          512.7521865889213,
          513.2942857142857,
          531.2274368231047,
          535.2730496453901,
          537.6424418604652,
          550.6138328530259,
          585.8260869565217,
          640.8892857142857,
          677.3709090909091,
          689.3107142857143,
          737.160237388724,
          914.3885714285715,
          914.5657142857143,
          937.2346570397112,
          951.5428571428571,
          999.5422535211268,
          1031.293948126801,
          1063.797142857143,
          1215.135888501742,
          1267.2112676056338,
          1277.6434782608696,
          1298.8439306358382,
          1316.4085714285713,
          1427.175,
          1598.6637931034484,
          1651.2471264367816,
          1660.2257142857143,
          1737.1457142857143,
          1750.702857142857,
          1783.7563636363636,
          1801.2244897959183,
          2006.7333333333333,
          3053.063829787234,
          3166.482857142857,
          3263.282608695652,
          3492.8120567375886,
          3571.554285714286,
          3606.7789855072465,
          3820.2228571428573,
          3998.8591549295775,
          4958.667621776504,
          5110.301075268817,
          5267.748571428571,
          5284.0085714285715,
          5293.851590106007,
          6791.005714285714,
          7582.651428571428,
          19719.862857142856,
          28321.203438395416,
          46447.868571428575
         ]
        }
       ],
       "layout": {}
      },
      "text/html": [
       "<div class=\"chart\" id=\"plot-a9990d0a-550f-4a85-abd7-da6a4086a7b8\"></div>\n",
       "<script>require(['plotly'], function(Plotly) {\n",
       "  (function () {\n",
       "  var data0 = {\"x\":[\"Vanuatu\",\"Anguilla\",\"Montserrat\",\"Wallis_and_Futuna\",\"Greenland\",\"Falkland_Islands_(Malvinas)\",\"Marshall_Islands\",\"Holy_See\",\"Saint_Kitts_and_Nevis\",\"Timor_Leste\",\"New_Caledonia\",\"Laos\",\"Fiji\",\"Grenada\",\"Solomon_Islands\",\"British_Virgin_Islands\",\"Dominica\",\"Saint_Vincent_and_the_Grenadines\",\"Northern_Mariana_Islands\",\"Brunei_Darussalam\",\"Antigua_and_Barbuda\",\"Bonaire, Saint Eustatius and Saba\",\"Seychelles\",\"Saint_Lucia\",\"Cambodia\",\"Guernsey\",\"Barbados\",\"Cayman_Islands\",\"Isle_of_Man\",\"Bhutan\",\"Bermuda\",\"Faroe_Islands\",\"United_Republic_of_Tanzania\",\"Mauritius\",\"Monaco\",\"Taiwan\",\"Eritrea\",\"Papua_New_Guinea\",\"Comoros\",\"Burundi\",\"Turks_and_Caicos_islands\",\"Western_Sahara\",\"Mongolia\",\"Gibraltar\",\"Sao_Tome_and_Principe\",\"Vietnam\",\"Sint_Maarten\",\"New_Zealand\",\"Liechtenstein\",\"San_Marino\",\"Liberia\",\"Chad\",\"Jersey\",\"United_States_Virgin_Islands\",\"Yemen\",\"Niger\",\"Guinea_Bissau\",\"Sierra_Leone\",\"Lesotho\",\"Cases_on_an_international_conveyance_Japan\",\"Benin\",\"Togo\",\"Thailand\",\"South_Sudan\",\"Curaçao\",\"Gambia\",\"Burkina_Faso\",\"Iceland\",\"Somalia\",\"Central_African_Republic\",\"Equatorial_Guinea\",\"Aruba\",\"Suriname\",\"Djibouti\",\"Guyana\",\"Nicaragua\",\"Mali\",\"Congo\",\"Malawi\",\"Rwanda\",\"Eswatini\",\"Trinidad_and_Tobago\",\"Guam\",\"Andorra\",\"Bahamas\",\"Gabon\",\"Cuba\",\"Syria\",\"Belize\",\"Uruguay\",\"Haiti\",\"Mauritania\",\"Malta\",\"Zimbabwe\",\"Cape_Verde\",\"Jamaica\",\"Maldives\",\"Botswana\",\"Guinea\",\"Estonia\",\"Democratic_Republic_of_the_Congo\",\"Cyprus\",\"Tajikistan\",\"French_Polynesia\",\"Namibia\",\"Angola\",\"Senegal\",\"Mozambique\",\"Madagascar\",\"Zambia\",\"Sudan\",\"Cote_dIvoire\",\"Australia\",\"Finland\",\"Latvia\",\"Cameroon\",\"Sri_Lanka\",\"Uganda\",\"Norway\",\"Luxembourg\",\"South_Korea\",\"Afghanistan\",\"Montenegro\",\"El_Salvador\",\"Singapore\",\"Kosovo\",\"Albania\",\"Ghana\",\"Nigeria\",\"North_Macedonia\",\"Ireland\",\"Malaysia\",\"Bahrain\",\"China\",\"Algeria\",\"Uzbekistan\",\"Lithuania\",\"Kyrgyzstan\",\"Denmark\",\"Kenya\",\"Paraguay\",\"Slovenia\",\"Libya\",\"Egypt\",\"Greece\",\"Bosnia_and_Herzegovina\",\"Oman\",\"Venezuela\",\"Tunisia\",\"Myanmar\",\"Qatar\",\"Puerto_Rico\",\"Honduras\",\"Kuwait\",\"Ethiopia\",\"Lebanon\",\"Armenia\",\"Palestine\",\"Moldova\",\"Dominican_Republic\",\"Belarus\",\"Guatemala\",\"Slovakia\",\"Croatia\",\"Azerbaijan\",\"Japan\",\"Bolivia\",\"Costa_Rica\",\"United_Arab_Emirates\",\"Georgia\",\"Ecuador\",\"Bulgaria\",\"Kazakhstan\",\"Panama\",\"Nepal\",\"Austria\",\"Sweden\",\"Jordan\",\"Serbia\",\"Hungary\",\"Israel\",\"Switzerland\",\"Portugal\",\"Saudi_Arabia\",\"Pakistan\",\"Philippines\",\"Canada\",\"Morocco\",\"Romania\",\"Iraq\",\"Czechia\",\"Belgium\",\"Netherlands\",\"Bangladesh\",\"Indonesia\",\"Chile\",\"South_Africa\",\"Iran\",\"Ukraine\",\"Peru\",\"Mexico\",\"Turkey\",\"Germany\",\"Poland\",\"Spain\",\"Colombia\",\"Italy\",\"United_Kingdom\",\"Argentina\",\"France\",\"Russia\",\"Brazil\",\"India\",\"United_States_of_America\"],\"y\":[0.029411764705882353,0.03802281368821293,0.048507462686567165,0.05084745762711865,0.07037037037037037,0.07450980392156863,0.0851063829787234,0.09454545454545454,0.10227272727272728,0.11567164179104478,0.13382899628252787,0.15471698113207547,0.17037037037037037,0.25842696629213485,0.2833333333333333,0.2889733840304182,0.3258426966292135,0.3684210526315789,0.4362934362934363,0.5448028673835126,0.5481481481481482,0.6731517509727627,0.68,1.0,1.0527859237536656,1.0703703703703704,1.0735294117647058,1.1037037037037036,1.3754646840148699,1.5869565217391304,1.5962962962962963,1.8591549295774648,1.8644688644688645,1.9074074074074074,1.9763313609467457,2.1142857142857143,2.6529850746268657,2.6951672862453533,2.7665198237885464,2.8255813953488373,2.90188679245283,3.2875536480686693,3.3284671532846715,3.9814814814814814,4.036,4.03757225433526,4.666666666666667,5.102639296187683,5.426523297491039,5.578796561604585,6.13919413919414,6.555555555555555,6.588888888888889,6.818867924528302,8.365461847389557,8.394052044609666,9.29277566539924,9.457364341085272,10.514018691588785,10.875,11.31868131868132,11.778985507246377,12.352769679300291,12.671936758893281,13.62406015037594,13.904411764705882,14.548736462093864,15.877142857142857,16.772893772893774,18.014598540145986,18.854545454545455,18.910112359550563,19.825925925925926,21.136531365313655,21.527272727272727,21.723247232472325,22.022727272727273,22.076642335766422,23.6953125,24.214545454545455,24.61090909090909,24.833935018050543,26.22140221402214,26.58695652173913,28.21323529411765,33.80434782608695,34.265454545454546,34.329588014981276,34.943609022556394,35.301818181818184,35.425925925925924,39.2,39.226148409893995,41.806691449814124,42.21933085501859,42.27436823104693,47.74285714285714,48.45348837209303,48.8,52.333333333333336,52.3898916967509,54.32014388489208,55.719298245614034,57.6309963099631,60.13090909090909,60.40298507462686,60.982142857142854,63.49812734082397,65.56877323420075,67.43173431734317,77.48550724637681,78.55072463768116,80.08857142857143,89.04624277456648,90.7243816254417,90.76895306859205,96.158357771261,102.73134328358209,114.34857142857143,120.3265306122449,124.24,144.9205882352941,152.3014705882353,154.53874538745387,166.62857142857143,168.768115942029,172.70462633451956,192.07971014492753,215.85545722713863,215.94721407624633,218.92241379310346,239.18338108882523,255.4240687679083,262.91714285714284,266.9623188405797,274.06569343065695,278.6539589442815,286.619926199262,313.5942857142857,332.94202898550725,336.62589928057554,339.13380281690144,342.5622641509434,351.3728323699422,357.85632183908046,365.043321299639,366.9767441860465,391.1569343065693,396.30249110320284,405.7752808988764,407.4017341040462,409.0,414.34420289855075,421.37752161383287,423.07608695652175,423.46820809248555,436.0175953079179,443.61921708185054,451.85,453.6422287390029,468.69883040935673,470.11636363636364,471.5744680851064,506.87608069164264,512.7521865889213,513.2942857142857,531.2274368231047,535.2730496453901,537.6424418604652,550.6138328530259,585.8260869565217,640.8892857142857,677.3709090909091,689.3107142857143,737.160237388724,914.3885714285715,914.5657142857143,937.2346570397112,951.5428571428571,999.5422535211268,1031.293948126801,1063.797142857143,1215.135888501742,1267.2112676056338,1277.6434782608696,1298.8439306358382,1316.4085714285713,1427.175,1598.6637931034484,1651.2471264367816,1660.2257142857143,1737.1457142857143,1750.702857142857,1783.7563636363636,1801.2244897959183,2006.7333333333333,3053.063829787234,3166.482857142857,3263.282608695652,3492.8120567375886,3571.554285714286,3606.7789855072465,3820.2228571428573,3998.8591549295775,4958.667621776504,5110.301075268817,5267.748571428571,5284.0085714285715,5293.851590106007,6791.005714285714,7582.651428571428,19719.862857142856,28321.203438395416,46447.868571428575],\"type\":\"bar\"};\n",
       "\n",
       "  var data = [data0];\n",
       "  var layout = {};\n",
       " var config = {};\n",
       "\n",
       "  Plotly.plot('plot-a9990d0a-550f-4a85-abd7-da6a4086a7b8', data, layout, config);\n",
       "})();\n",
       "});\n",
       "      </script>\n",
       "           "
      ]
     },
     "metadata": {},
     "output_type": "display_data"
    },
    {
     "data": {
      "text/plain": [
       "\u001b[36mx\u001b[39m: \u001b[32mList\u001b[39m[\u001b[32mString\u001b[39m] = \u001b[33mList\u001b[39m(\n",
       "  \u001b[32m\"Vanuatu\"\u001b[39m,\n",
       "  \u001b[32m\"Anguilla\"\u001b[39m,\n",
       "  \u001b[32m\"Montserrat\"\u001b[39m,\n",
       "  \u001b[32m\"Wallis_and_Futuna\"\u001b[39m,\n",
       "  \u001b[32m\"Greenland\"\u001b[39m,\n",
       "  \u001b[32m\"Falkland_Islands_(Malvinas)\"\u001b[39m,\n",
       "  \u001b[32m\"Marshall_Islands\"\u001b[39m,\n",
       "  \u001b[32m\"Holy_See\"\u001b[39m,\n",
       "  \u001b[32m\"Saint_Kitts_and_Nevis\"\u001b[39m,\n",
       "  \u001b[32m\"Timor_Leste\"\u001b[39m,\n",
       "  \u001b[32m\"New_Caledonia\"\u001b[39m,\n",
       "  \u001b[32m\"Laos\"\u001b[39m,\n",
       "  \u001b[32m\"Fiji\"\u001b[39m,\n",
       "  \u001b[32m\"Grenada\"\u001b[39m,\n",
       "  \u001b[32m\"Solomon_Islands\"\u001b[39m,\n",
       "  \u001b[32m\"British_Virgin_Islands\"\u001b[39m,\n",
       "  \u001b[32m\"Dominica\"\u001b[39m,\n",
       "  \u001b[32m\"Saint_Vincent_and_the_Grenadines\"\u001b[39m,\n",
       "  \u001b[32m\"Northern_Mariana_Islands\"\u001b[39m,\n",
       "  \u001b[32m\"Brunei_Darussalam\"\u001b[39m,\n",
       "  \u001b[32m\"Antigua_and_Barbuda\"\u001b[39m,\n",
       "  \u001b[32m\"Bonaire, Saint Eustatius and Saba\"\u001b[39m,\n",
       "  \u001b[32m\"Seychelles\"\u001b[39m,\n",
       "  \u001b[32m\"Saint_Lucia\"\u001b[39m,\n",
       "  \u001b[32m\"Cambodia\"\u001b[39m,\n",
       "  \u001b[32m\"Guernsey\"\u001b[39m,\n",
       "  \u001b[32m\"Barbados\"\u001b[39m,\n",
       "  \u001b[32m\"Cayman_Islands\"\u001b[39m,\n",
       "  \u001b[32m\"Isle_of_Man\"\u001b[39m,\n",
       "  \u001b[32m\"Bhutan\"\u001b[39m,\n",
       "  \u001b[32m\"Bermuda\"\u001b[39m,\n",
       "  \u001b[32m\"Faroe_Islands\"\u001b[39m,\n",
       "  \u001b[32m\"United_Republic_of_Tanzania\"\u001b[39m,\n",
       "  \u001b[32m\"Mauritius\"\u001b[39m,\n",
       "  \u001b[32m\"Monaco\"\u001b[39m,\n",
       "  \u001b[32m\"Taiwan\"\u001b[39m,\n",
       "  \u001b[32m\"Eritrea\"\u001b[39m,\n",
       "  \u001b[32m\"Papua_New_Guinea\"\u001b[39m,\n",
       "...\n",
       "\u001b[36my\u001b[39m: \u001b[32mList\u001b[39m[\u001b[32mDouble\u001b[39m] = \u001b[33mList\u001b[39m(\n",
       "  \u001b[32m0.029411764705882353\u001b[39m,\n",
       "  \u001b[32m0.03802281368821293\u001b[39m,\n",
       "  \u001b[32m0.048507462686567165\u001b[39m,\n",
       "  \u001b[32m0.05084745762711865\u001b[39m,\n",
       "  \u001b[32m0.07037037037037037\u001b[39m,\n",
       "  \u001b[32m0.07450980392156863\u001b[39m,\n",
       "  \u001b[32m0.0851063829787234\u001b[39m,\n",
       "  \u001b[32m0.09454545454545454\u001b[39m,\n",
       "  \u001b[32m0.10227272727272728\u001b[39m,\n",
       "  \u001b[32m0.11567164179104478\u001b[39m,\n",
       "  \u001b[32m0.13382899628252787\u001b[39m,\n",
       "  \u001b[32m0.15471698113207547\u001b[39m,\n",
       "  \u001b[32m0.17037037037037037\u001b[39m,\n",
       "  \u001b[32m0.25842696629213485\u001b[39m,\n",
       "  \u001b[32m0.2833333333333333\u001b[39m,\n",
       "  \u001b[32m0.2889733840304182\u001b[39m,\n",
       "  \u001b[32m0.3258426966292135\u001b[39m,\n",
       "  \u001b[32m0.3684210526315789\u001b[39m,\n",
       "  \u001b[32m0.4362934362934363\u001b[39m,\n",
       "  \u001b[32m0.5448028673835126\u001b[39m,\n",
       "  \u001b[32m0.5481481481481482\u001b[39m,\n",
       "  \u001b[32m0.6731517509727627\u001b[39m,\n",
       "  \u001b[32m0.68\u001b[39m,\n",
       "  \u001b[32m1.0\u001b[39m,\n",
       "  \u001b[32m1.0527859237536656\u001b[39m,\n",
       "  \u001b[32m1.0703703703703704\u001b[39m,\n",
       "  \u001b[32m1.0735294117647058\u001b[39m,\n",
       "  \u001b[32m1.1037037037037036\u001b[39m,\n",
       "  \u001b[32m1.3754646840148699\u001b[39m,\n",
       "  \u001b[32m1.5869565217391304\u001b[39m,\n",
       "  \u001b[32m1.5962962962962963\u001b[39m,\n",
       "  \u001b[32m1.8591549295774648\u001b[39m,\n",
       "  \u001b[32m1.8644688644688645\u001b[39m,\n",
       "  \u001b[32m1.9074074074074074\u001b[39m,\n",
       "  \u001b[32m1.9763313609467457\u001b[39m,\n",
       "  \u001b[32m2.1142857142857143\u001b[39m,\n",
       "  \u001b[32m2.6529850746268657\u001b[39m,\n",
       "  \u001b[32m2.6951672862453533\u001b[39m,\n",
       "...\n",
       "\u001b[36mres12_1\u001b[39m: \u001b[32mString\u001b[39m = \u001b[32m\"plot-a9990d0a-550f-4a85-abd7-da6a4086a7b8\"\u001b[39m"
      ]
     },
     "execution_count": 13,
     "metadata": {},
     "output_type": "execute_result"
    }
   ],
   "source": [
    "val (x,y) = dfCovidWithSchema.collect.map(r=>(r(0).toString, r(1).toString.toDouble)).toList.unzip\n",
    "Bar(x, y).plot()"
   ]
  }
 ],
 "metadata": {
  "kernelspec": {
   "display_name": "Scala 2.12",
   "language": "scala",
   "name": "scala212"
  },
  "language_info": {
   "codemirror_mode": "text/x-scala",
   "file_extension": ".scala",
   "mimetype": "text/x-scala",
   "name": "scala",
   "nbconvert_exporter": "script",
   "version": "2.12.10"
  }
 },
 "nbformat": 4,
 "nbformat_minor": 4
}
